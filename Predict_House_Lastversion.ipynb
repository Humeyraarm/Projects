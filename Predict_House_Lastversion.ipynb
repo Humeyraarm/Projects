{
  "cells": [
    {
      "cell_type": "markdown",
      "id": "9dc60a29",
      "metadata": {
        "id": "9dc60a29"
      },
      "source": [
        "# Regression Model of House Prices' Prediction"
      ]
    },
    {
      "cell_type": "code",
      "execution_count": 193,
      "id": "729d6bfa",
      "metadata": {
        "id": "729d6bfa"
      },
      "outputs": [],
      "source": [
        "import pandas as pd\n",
        "import numpy as np\n",
        "import matplotlib.pyplot as plt\n",
        "import seaborn as sns\n",
        "import scipy.stats as stats\n",
        "plt.rcParams[\"figure.figsize\"] = (10,6)\n",
        "\n",
        "from sklearn.linear_model import LinearRegression,Ridge,Lasso\n",
        "from sklearn.model_selection import train_test_split\n",
        "from sklearn.metrics import mean_squared_error,r2_score\n",
        "\n",
        "\n",
        "import warnings\n",
        "warnings.filterwarnings('ignore')"
      ]
    },
    {
      "cell_type": "code",
      "execution_count": 194,
      "id": "023d84ec",
      "metadata": {
        "id": "023d84ec"
      },
      "outputs": [],
      "source": [
        "df = pd.read_csv(\"kc_house_data.csv\")"
      ]
    },
    {
      "cell_type": "markdown",
      "id": "d7cc0f12",
      "metadata": {
        "id": "d7cc0f12"
      },
      "source": [
        "## EDA Process"
      ]
    },
    {
      "cell_type": "code",
      "execution_count": 195,
      "id": "b23c12a0",
      "metadata": {
        "id": "b23c12a0",
        "colab": {
          "base_uri": "https://localhost:8080/",
          "height": 299
        },
        "outputId": "acd27a8b-863f-46d7-bd16-e996af8a0b60"
      },
      "outputs": [
        {
          "output_type": "execute_result",
          "data": {
            "text/plain": [
              "               id             date      price  bedrooms  bathrooms  \\\n",
              "6348   5422560470  20141203T000000   440000.0         3       2.00   \n",
              "10265   224069114  20140829T000000   635000.0         4       2.50   \n",
              "13046  8651611590  20140528T000000   840000.0         4       2.50   \n",
              "4811   9831200500  20150304T000000  2479000.0         5       3.75   \n",
              "12630   522059158  20140616T000000   230000.0         3       1.75   \n",
              "\n",
              "       sqft_living  sqft_lot  floors  waterfront  view  ...  grade  \\\n",
              "6348          1650      6408     2.0           0     0  ...      8   \n",
              "10265         2470     77550     1.0           0     0  ...      7   \n",
              "13046         3420      8405     2.0           0     0  ...     10   \n",
              "4811          6810      7500     2.5           0     0  ...     13   \n",
              "12630         1400      6956     1.0           0     0  ...      7   \n",
              "\n",
              "       sqft_above  sqft_basement  yr_built  yr_renovated  zipcode      lat  \\\n",
              "6348         1650              0      1977             0    98052  47.6638   \n",
              "10265        2470              0      1987             0    98075  47.5888   \n",
              "13046        3420              0      2000             0    98074  47.6328   \n",
              "4811         6110            700      1922             0    98102  47.6285   \n",
              "12630        1400              0      1957             0    98031  47.4233   \n",
              "\n",
              "          long  sqft_living15  sqft_lot15  \n",
              "6348  -122.128           1750        6402  \n",
              "10265 -122.011           2490       40894  \n",
              "13046 -122.064           3230        8460  \n",
              "4811  -122.322           2660        7500  \n",
              "12630 -122.198           1400        9375  \n",
              "\n",
              "[5 rows x 21 columns]"
            ],
            "text/html": [
              "\n",
              "  <div id=\"df-93bd7baf-4b4b-4efd-b308-027c922f2a35\">\n",
              "    <div class=\"colab-df-container\">\n",
              "      <div>\n",
              "<style scoped>\n",
              "    .dataframe tbody tr th:only-of-type {\n",
              "        vertical-align: middle;\n",
              "    }\n",
              "\n",
              "    .dataframe tbody tr th {\n",
              "        vertical-align: top;\n",
              "    }\n",
              "\n",
              "    .dataframe thead th {\n",
              "        text-align: right;\n",
              "    }\n",
              "</style>\n",
              "<table border=\"1\" class=\"dataframe\">\n",
              "  <thead>\n",
              "    <tr style=\"text-align: right;\">\n",
              "      <th></th>\n",
              "      <th>id</th>\n",
              "      <th>date</th>\n",
              "      <th>price</th>\n",
              "      <th>bedrooms</th>\n",
              "      <th>bathrooms</th>\n",
              "      <th>sqft_living</th>\n",
              "      <th>sqft_lot</th>\n",
              "      <th>floors</th>\n",
              "      <th>waterfront</th>\n",
              "      <th>view</th>\n",
              "      <th>...</th>\n",
              "      <th>grade</th>\n",
              "      <th>sqft_above</th>\n",
              "      <th>sqft_basement</th>\n",
              "      <th>yr_built</th>\n",
              "      <th>yr_renovated</th>\n",
              "      <th>zipcode</th>\n",
              "      <th>lat</th>\n",
              "      <th>long</th>\n",
              "      <th>sqft_living15</th>\n",
              "      <th>sqft_lot15</th>\n",
              "    </tr>\n",
              "  </thead>\n",
              "  <tbody>\n",
              "    <tr>\n",
              "      <th>6348</th>\n",
              "      <td>5422560470</td>\n",
              "      <td>20141203T000000</td>\n",
              "      <td>440000.0</td>\n",
              "      <td>3</td>\n",
              "      <td>2.00</td>\n",
              "      <td>1650</td>\n",
              "      <td>6408</td>\n",
              "      <td>2.0</td>\n",
              "      <td>0</td>\n",
              "      <td>0</td>\n",
              "      <td>...</td>\n",
              "      <td>8</td>\n",
              "      <td>1650</td>\n",
              "      <td>0</td>\n",
              "      <td>1977</td>\n",
              "      <td>0</td>\n",
              "      <td>98052</td>\n",
              "      <td>47.6638</td>\n",
              "      <td>-122.128</td>\n",
              "      <td>1750</td>\n",
              "      <td>6402</td>\n",
              "    </tr>\n",
              "    <tr>\n",
              "      <th>10265</th>\n",
              "      <td>224069114</td>\n",
              "      <td>20140829T000000</td>\n",
              "      <td>635000.0</td>\n",
              "      <td>4</td>\n",
              "      <td>2.50</td>\n",
              "      <td>2470</td>\n",
              "      <td>77550</td>\n",
              "      <td>1.0</td>\n",
              "      <td>0</td>\n",
              "      <td>0</td>\n",
              "      <td>...</td>\n",
              "      <td>7</td>\n",
              "      <td>2470</td>\n",
              "      <td>0</td>\n",
              "      <td>1987</td>\n",
              "      <td>0</td>\n",
              "      <td>98075</td>\n",
              "      <td>47.5888</td>\n",
              "      <td>-122.011</td>\n",
              "      <td>2490</td>\n",
              "      <td>40894</td>\n",
              "    </tr>\n",
              "    <tr>\n",
              "      <th>13046</th>\n",
              "      <td>8651611590</td>\n",
              "      <td>20140528T000000</td>\n",
              "      <td>840000.0</td>\n",
              "      <td>4</td>\n",
              "      <td>2.50</td>\n",
              "      <td>3420</td>\n",
              "      <td>8405</td>\n",
              "      <td>2.0</td>\n",
              "      <td>0</td>\n",
              "      <td>0</td>\n",
              "      <td>...</td>\n",
              "      <td>10</td>\n",
              "      <td>3420</td>\n",
              "      <td>0</td>\n",
              "      <td>2000</td>\n",
              "      <td>0</td>\n",
              "      <td>98074</td>\n",
              "      <td>47.6328</td>\n",
              "      <td>-122.064</td>\n",
              "      <td>3230</td>\n",
              "      <td>8460</td>\n",
              "    </tr>\n",
              "    <tr>\n",
              "      <th>4811</th>\n",
              "      <td>9831200500</td>\n",
              "      <td>20150304T000000</td>\n",
              "      <td>2479000.0</td>\n",
              "      <td>5</td>\n",
              "      <td>3.75</td>\n",
              "      <td>6810</td>\n",
              "      <td>7500</td>\n",
              "      <td>2.5</td>\n",
              "      <td>0</td>\n",
              "      <td>0</td>\n",
              "      <td>...</td>\n",
              "      <td>13</td>\n",
              "      <td>6110</td>\n",
              "      <td>700</td>\n",
              "      <td>1922</td>\n",
              "      <td>0</td>\n",
              "      <td>98102</td>\n",
              "      <td>47.6285</td>\n",
              "      <td>-122.322</td>\n",
              "      <td>2660</td>\n",
              "      <td>7500</td>\n",
              "    </tr>\n",
              "    <tr>\n",
              "      <th>12630</th>\n",
              "      <td>522059158</td>\n",
              "      <td>20140616T000000</td>\n",
              "      <td>230000.0</td>\n",
              "      <td>3</td>\n",
              "      <td>1.75</td>\n",
              "      <td>1400</td>\n",
              "      <td>6956</td>\n",
              "      <td>1.0</td>\n",
              "      <td>0</td>\n",
              "      <td>0</td>\n",
              "      <td>...</td>\n",
              "      <td>7</td>\n",
              "      <td>1400</td>\n",
              "      <td>0</td>\n",
              "      <td>1957</td>\n",
              "      <td>0</td>\n",
              "      <td>98031</td>\n",
              "      <td>47.4233</td>\n",
              "      <td>-122.198</td>\n",
              "      <td>1400</td>\n",
              "      <td>9375</td>\n",
              "    </tr>\n",
              "  </tbody>\n",
              "</table>\n",
              "<p>5 rows × 21 columns</p>\n",
              "</div>\n",
              "      <button class=\"colab-df-convert\" onclick=\"convertToInteractive('df-93bd7baf-4b4b-4efd-b308-027c922f2a35')\"\n",
              "              title=\"Convert this dataframe to an interactive table.\"\n",
              "              style=\"display:none;\">\n",
              "        \n",
              "  <svg xmlns=\"http://www.w3.org/2000/svg\" height=\"24px\"viewBox=\"0 0 24 24\"\n",
              "       width=\"24px\">\n",
              "    <path d=\"M0 0h24v24H0V0z\" fill=\"none\"/>\n",
              "    <path d=\"M18.56 5.44l.94 2.06.94-2.06 2.06-.94-2.06-.94-.94-2.06-.94 2.06-2.06.94zm-11 1L8.5 8.5l.94-2.06 2.06-.94-2.06-.94L8.5 2.5l-.94 2.06-2.06.94zm10 10l.94 2.06.94-2.06 2.06-.94-2.06-.94-.94-2.06-.94 2.06-2.06.94z\"/><path d=\"M17.41 7.96l-1.37-1.37c-.4-.4-.92-.59-1.43-.59-.52 0-1.04.2-1.43.59L10.3 9.45l-7.72 7.72c-.78.78-.78 2.05 0 2.83L4 21.41c.39.39.9.59 1.41.59.51 0 1.02-.2 1.41-.59l7.78-7.78 2.81-2.81c.8-.78.8-2.07 0-2.86zM5.41 20L4 18.59l7.72-7.72 1.47 1.35L5.41 20z\"/>\n",
              "  </svg>\n",
              "      </button>\n",
              "      \n",
              "  <style>\n",
              "    .colab-df-container {\n",
              "      display:flex;\n",
              "      flex-wrap:wrap;\n",
              "      gap: 12px;\n",
              "    }\n",
              "\n",
              "    .colab-df-convert {\n",
              "      background-color: #E8F0FE;\n",
              "      border: none;\n",
              "      border-radius: 50%;\n",
              "      cursor: pointer;\n",
              "      display: none;\n",
              "      fill: #1967D2;\n",
              "      height: 32px;\n",
              "      padding: 0 0 0 0;\n",
              "      width: 32px;\n",
              "    }\n",
              "\n",
              "    .colab-df-convert:hover {\n",
              "      background-color: #E2EBFA;\n",
              "      box-shadow: 0px 1px 2px rgba(60, 64, 67, 0.3), 0px 1px 3px 1px rgba(60, 64, 67, 0.15);\n",
              "      fill: #174EA6;\n",
              "    }\n",
              "\n",
              "    [theme=dark] .colab-df-convert {\n",
              "      background-color: #3B4455;\n",
              "      fill: #D2E3FC;\n",
              "    }\n",
              "\n",
              "    [theme=dark] .colab-df-convert:hover {\n",
              "      background-color: #434B5C;\n",
              "      box-shadow: 0px 1px 3px 1px rgba(0, 0, 0, 0.15);\n",
              "      filter: drop-shadow(0px 1px 2px rgba(0, 0, 0, 0.3));\n",
              "      fill: #FFFFFF;\n",
              "    }\n",
              "  </style>\n",
              "\n",
              "      <script>\n",
              "        const buttonEl =\n",
              "          document.querySelector('#df-93bd7baf-4b4b-4efd-b308-027c922f2a35 button.colab-df-convert');\n",
              "        buttonEl.style.display =\n",
              "          google.colab.kernel.accessAllowed ? 'block' : 'none';\n",
              "\n",
              "        async function convertToInteractive(key) {\n",
              "          const element = document.querySelector('#df-93bd7baf-4b4b-4efd-b308-027c922f2a35');\n",
              "          const dataTable =\n",
              "            await google.colab.kernel.invokeFunction('convertToInteractive',\n",
              "                                                     [key], {});\n",
              "          if (!dataTable) return;\n",
              "\n",
              "          const docLinkHtml = 'Like what you see? Visit the ' +\n",
              "            '<a target=\"_blank\" href=https://colab.research.google.com/notebooks/data_table.ipynb>data table notebook</a>'\n",
              "            + ' to learn more about interactive tables.';\n",
              "          element.innerHTML = '';\n",
              "          dataTable['output_type'] = 'display_data';\n",
              "          await google.colab.output.renderOutput(dataTable, element);\n",
              "          const docLink = document.createElement('div');\n",
              "          docLink.innerHTML = docLinkHtml;\n",
              "          element.appendChild(docLink);\n",
              "        }\n",
              "      </script>\n",
              "    </div>\n",
              "  </div>\n",
              "  "
            ]
          },
          "metadata": {},
          "execution_count": 195
        }
      ],
      "source": [
        "df.sample(5)"
      ]
    },
    {
      "cell_type": "code",
      "execution_count": 196,
      "id": "14f58342",
      "metadata": {
        "id": "14f58342",
        "colab": {
          "base_uri": "https://localhost:8080/"
        },
        "outputId": "e127261b-7451-4143-e031-3b0e35aaf293"
      },
      "outputs": [
        {
          "output_type": "execute_result",
          "data": {
            "text/plain": [
              "Index(['id', 'date', 'price', 'bedrooms', 'bathrooms', 'sqft_living',\n",
              "       'sqft_lot', 'floors', 'waterfront', 'view', 'condition', 'grade',\n",
              "       'sqft_above', 'sqft_basement', 'yr_built', 'yr_renovated', 'zipcode',\n",
              "       'lat', 'long', 'sqft_living15', 'sqft_lot15'],\n",
              "      dtype='object')"
            ]
          },
          "metadata": {},
          "execution_count": 196
        }
      ],
      "source": [
        "df.columns"
      ]
    },
    {
      "cell_type": "code",
      "execution_count": 197,
      "id": "dc0cc656",
      "metadata": {
        "id": "dc0cc656",
        "colab": {
          "base_uri": "https://localhost:8080/"
        },
        "outputId": "0fd8b82b-addd-4534-df5a-0b50cc25160d"
      },
      "outputs": [
        {
          "output_type": "execute_result",
          "data": {
            "text/plain": [
              "(21613, 21)"
            ]
          },
          "metadata": {},
          "execution_count": 197
        }
      ],
      "source": [
        "df.shape"
      ]
    },
    {
      "cell_type": "code",
      "execution_count": 198,
      "id": "36ec0eb4",
      "metadata": {
        "id": "36ec0eb4",
        "colab": {
          "base_uri": "https://localhost:8080/"
        },
        "outputId": "8de7f070-c456-451e-aaea-a6a66b620cbe"
      },
      "outputs": [
        {
          "output_type": "stream",
          "name": "stdout",
          "text": [
            "<class 'pandas.core.frame.DataFrame'>\n",
            "RangeIndex: 21613 entries, 0 to 21612\n",
            "Data columns (total 21 columns):\n",
            " #   Column         Non-Null Count  Dtype  \n",
            "---  ------         --------------  -----  \n",
            " 0   id             21613 non-null  int64  \n",
            " 1   date           21613 non-null  object \n",
            " 2   price          21613 non-null  float64\n",
            " 3   bedrooms       21613 non-null  int64  \n",
            " 4   bathrooms      21613 non-null  float64\n",
            " 5   sqft_living    21613 non-null  int64  \n",
            " 6   sqft_lot       21613 non-null  int64  \n",
            " 7   floors         21613 non-null  float64\n",
            " 8   waterfront     21613 non-null  int64  \n",
            " 9   view           21613 non-null  int64  \n",
            " 10  condition      21613 non-null  int64  \n",
            " 11  grade          21613 non-null  int64  \n",
            " 12  sqft_above     21613 non-null  int64  \n",
            " 13  sqft_basement  21613 non-null  int64  \n",
            " 14  yr_built       21613 non-null  int64  \n",
            " 15  yr_renovated   21613 non-null  int64  \n",
            " 16  zipcode        21613 non-null  int64  \n",
            " 17  lat            21613 non-null  float64\n",
            " 18  long           21613 non-null  float64\n",
            " 19  sqft_living15  21613 non-null  int64  \n",
            " 20  sqft_lot15     21613 non-null  int64  \n",
            "dtypes: float64(5), int64(15), object(1)\n",
            "memory usage: 3.5+ MB\n"
          ]
        }
      ],
      "source": [
        "df.info()"
      ]
    },
    {
      "cell_type": "code",
      "execution_count": 199,
      "id": "08ea63f0",
      "metadata": {
        "id": "08ea63f0",
        "colab": {
          "base_uri": "https://localhost:8080/"
        },
        "outputId": "d4a323c2-f767-4658-8dc9-c35be041fd49"
      },
      "outputs": [
        {
          "output_type": "execute_result",
          "data": {
            "text/plain": [
              "id               0\n",
              "date             0\n",
              "price            0\n",
              "bedrooms         0\n",
              "bathrooms        0\n",
              "sqft_living      0\n",
              "sqft_lot         0\n",
              "floors           0\n",
              "waterfront       0\n",
              "view             0\n",
              "condition        0\n",
              "grade            0\n",
              "sqft_above       0\n",
              "sqft_basement    0\n",
              "yr_built         0\n",
              "yr_renovated     0\n",
              "zipcode          0\n",
              "lat              0\n",
              "long             0\n",
              "sqft_living15    0\n",
              "sqft_lot15       0\n",
              "dtype: int64"
            ]
          },
          "metadata": {},
          "execution_count": 199
        }
      ],
      "source": [
        "df.isnull().sum()"
      ]
    },
    {
      "cell_type": "code",
      "execution_count": 200,
      "id": "25934395",
      "metadata": {
        "id": "25934395",
        "outputId": "807e226a-487a-49a5-b290-dd90f15e8499",
        "colab": {
          "base_uri": "https://localhost:8080/",
          "height": 364
        }
      },
      "outputs": [
        {
          "output_type": "execute_result",
          "data": {
            "text/plain": [
              "                 id         price      bedrooms     bathrooms   sqft_living  \\\n",
              "count  2.161300e+04  2.161300e+04  21613.000000  21613.000000  21613.000000   \n",
              "mean   4.580302e+09  5.400881e+05      3.370842      2.114757   2079.899736   \n",
              "std    2.876566e+09  3.671272e+05      0.930062      0.770163    918.440897   \n",
              "min    1.000102e+06  7.500000e+04      0.000000      0.000000    290.000000   \n",
              "25%    2.123049e+09  3.219500e+05      3.000000      1.750000   1427.000000   \n",
              "50%    3.904930e+09  4.500000e+05      3.000000      2.250000   1910.000000   \n",
              "75%    7.308900e+09  6.450000e+05      4.000000      2.500000   2550.000000   \n",
              "max    9.900000e+09  7.700000e+06     33.000000      8.000000  13540.000000   \n",
              "\n",
              "           sqft_lot        floors    waterfront          view     condition  \\\n",
              "count  2.161300e+04  21613.000000  21613.000000  21613.000000  21613.000000   \n",
              "mean   1.510697e+04      1.494309      0.007542      0.234303      3.409430   \n",
              "std    4.142051e+04      0.539989      0.086517      0.766318      0.650743   \n",
              "min    5.200000e+02      1.000000      0.000000      0.000000      1.000000   \n",
              "25%    5.040000e+03      1.000000      0.000000      0.000000      3.000000   \n",
              "50%    7.618000e+03      1.500000      0.000000      0.000000      3.000000   \n",
              "75%    1.068800e+04      2.000000      0.000000      0.000000      4.000000   \n",
              "max    1.651359e+06      3.500000      1.000000      4.000000      5.000000   \n",
              "\n",
              "              grade    sqft_above  sqft_basement      yr_built  yr_renovated  \\\n",
              "count  21613.000000  21613.000000   21613.000000  21613.000000  21613.000000   \n",
              "mean       7.656873   1788.390691     291.509045   1971.005136     84.402258   \n",
              "std        1.175459    828.090978     442.575043     29.373411    401.679240   \n",
              "min        1.000000    290.000000       0.000000   1900.000000      0.000000   \n",
              "25%        7.000000   1190.000000       0.000000   1951.000000      0.000000   \n",
              "50%        7.000000   1560.000000       0.000000   1975.000000      0.000000   \n",
              "75%        8.000000   2210.000000     560.000000   1997.000000      0.000000   \n",
              "max       13.000000   9410.000000    4820.000000   2015.000000   2015.000000   \n",
              "\n",
              "            zipcode           lat          long  sqft_living15     sqft_lot15  \n",
              "count  21613.000000  21613.000000  21613.000000   21613.000000   21613.000000  \n",
              "mean   98077.939805     47.560053   -122.213896    1986.552492   12768.455652  \n",
              "std       53.505026      0.138564      0.140828     685.391304   27304.179631  \n",
              "min    98001.000000     47.155900   -122.519000     399.000000     651.000000  \n",
              "25%    98033.000000     47.471000   -122.328000    1490.000000    5100.000000  \n",
              "50%    98065.000000     47.571800   -122.230000    1840.000000    7620.000000  \n",
              "75%    98118.000000     47.678000   -122.125000    2360.000000   10083.000000  \n",
              "max    98199.000000     47.777600   -121.315000    6210.000000  871200.000000  "
            ],
            "text/html": [
              "\n",
              "  <div id=\"df-f3dc9d25-495a-4482-9b0d-caf037d113e4\">\n",
              "    <div class=\"colab-df-container\">\n",
              "      <div>\n",
              "<style scoped>\n",
              "    .dataframe tbody tr th:only-of-type {\n",
              "        vertical-align: middle;\n",
              "    }\n",
              "\n",
              "    .dataframe tbody tr th {\n",
              "        vertical-align: top;\n",
              "    }\n",
              "\n",
              "    .dataframe thead th {\n",
              "        text-align: right;\n",
              "    }\n",
              "</style>\n",
              "<table border=\"1\" class=\"dataframe\">\n",
              "  <thead>\n",
              "    <tr style=\"text-align: right;\">\n",
              "      <th></th>\n",
              "      <th>id</th>\n",
              "      <th>price</th>\n",
              "      <th>bedrooms</th>\n",
              "      <th>bathrooms</th>\n",
              "      <th>sqft_living</th>\n",
              "      <th>sqft_lot</th>\n",
              "      <th>floors</th>\n",
              "      <th>waterfront</th>\n",
              "      <th>view</th>\n",
              "      <th>condition</th>\n",
              "      <th>grade</th>\n",
              "      <th>sqft_above</th>\n",
              "      <th>sqft_basement</th>\n",
              "      <th>yr_built</th>\n",
              "      <th>yr_renovated</th>\n",
              "      <th>zipcode</th>\n",
              "      <th>lat</th>\n",
              "      <th>long</th>\n",
              "      <th>sqft_living15</th>\n",
              "      <th>sqft_lot15</th>\n",
              "    </tr>\n",
              "  </thead>\n",
              "  <tbody>\n",
              "    <tr>\n",
              "      <th>count</th>\n",
              "      <td>2.161300e+04</td>\n",
              "      <td>2.161300e+04</td>\n",
              "      <td>21613.000000</td>\n",
              "      <td>21613.000000</td>\n",
              "      <td>21613.000000</td>\n",
              "      <td>2.161300e+04</td>\n",
              "      <td>21613.000000</td>\n",
              "      <td>21613.000000</td>\n",
              "      <td>21613.000000</td>\n",
              "      <td>21613.000000</td>\n",
              "      <td>21613.000000</td>\n",
              "      <td>21613.000000</td>\n",
              "      <td>21613.000000</td>\n",
              "      <td>21613.000000</td>\n",
              "      <td>21613.000000</td>\n",
              "      <td>21613.000000</td>\n",
              "      <td>21613.000000</td>\n",
              "      <td>21613.000000</td>\n",
              "      <td>21613.000000</td>\n",
              "      <td>21613.000000</td>\n",
              "    </tr>\n",
              "    <tr>\n",
              "      <th>mean</th>\n",
              "      <td>4.580302e+09</td>\n",
              "      <td>5.400881e+05</td>\n",
              "      <td>3.370842</td>\n",
              "      <td>2.114757</td>\n",
              "      <td>2079.899736</td>\n",
              "      <td>1.510697e+04</td>\n",
              "      <td>1.494309</td>\n",
              "      <td>0.007542</td>\n",
              "      <td>0.234303</td>\n",
              "      <td>3.409430</td>\n",
              "      <td>7.656873</td>\n",
              "      <td>1788.390691</td>\n",
              "      <td>291.509045</td>\n",
              "      <td>1971.005136</td>\n",
              "      <td>84.402258</td>\n",
              "      <td>98077.939805</td>\n",
              "      <td>47.560053</td>\n",
              "      <td>-122.213896</td>\n",
              "      <td>1986.552492</td>\n",
              "      <td>12768.455652</td>\n",
              "    </tr>\n",
              "    <tr>\n",
              "      <th>std</th>\n",
              "      <td>2.876566e+09</td>\n",
              "      <td>3.671272e+05</td>\n",
              "      <td>0.930062</td>\n",
              "      <td>0.770163</td>\n",
              "      <td>918.440897</td>\n",
              "      <td>4.142051e+04</td>\n",
              "      <td>0.539989</td>\n",
              "      <td>0.086517</td>\n",
              "      <td>0.766318</td>\n",
              "      <td>0.650743</td>\n",
              "      <td>1.175459</td>\n",
              "      <td>828.090978</td>\n",
              "      <td>442.575043</td>\n",
              "      <td>29.373411</td>\n",
              "      <td>401.679240</td>\n",
              "      <td>53.505026</td>\n",
              "      <td>0.138564</td>\n",
              "      <td>0.140828</td>\n",
              "      <td>685.391304</td>\n",
              "      <td>27304.179631</td>\n",
              "    </tr>\n",
              "    <tr>\n",
              "      <th>min</th>\n",
              "      <td>1.000102e+06</td>\n",
              "      <td>7.500000e+04</td>\n",
              "      <td>0.000000</td>\n",
              "      <td>0.000000</td>\n",
              "      <td>290.000000</td>\n",
              "      <td>5.200000e+02</td>\n",
              "      <td>1.000000</td>\n",
              "      <td>0.000000</td>\n",
              "      <td>0.000000</td>\n",
              "      <td>1.000000</td>\n",
              "      <td>1.000000</td>\n",
              "      <td>290.000000</td>\n",
              "      <td>0.000000</td>\n",
              "      <td>1900.000000</td>\n",
              "      <td>0.000000</td>\n",
              "      <td>98001.000000</td>\n",
              "      <td>47.155900</td>\n",
              "      <td>-122.519000</td>\n",
              "      <td>399.000000</td>\n",
              "      <td>651.000000</td>\n",
              "    </tr>\n",
              "    <tr>\n",
              "      <th>25%</th>\n",
              "      <td>2.123049e+09</td>\n",
              "      <td>3.219500e+05</td>\n",
              "      <td>3.000000</td>\n",
              "      <td>1.750000</td>\n",
              "      <td>1427.000000</td>\n",
              "      <td>5.040000e+03</td>\n",
              "      <td>1.000000</td>\n",
              "      <td>0.000000</td>\n",
              "      <td>0.000000</td>\n",
              "      <td>3.000000</td>\n",
              "      <td>7.000000</td>\n",
              "      <td>1190.000000</td>\n",
              "      <td>0.000000</td>\n",
              "      <td>1951.000000</td>\n",
              "      <td>0.000000</td>\n",
              "      <td>98033.000000</td>\n",
              "      <td>47.471000</td>\n",
              "      <td>-122.328000</td>\n",
              "      <td>1490.000000</td>\n",
              "      <td>5100.000000</td>\n",
              "    </tr>\n",
              "    <tr>\n",
              "      <th>50%</th>\n",
              "      <td>3.904930e+09</td>\n",
              "      <td>4.500000e+05</td>\n",
              "      <td>3.000000</td>\n",
              "      <td>2.250000</td>\n",
              "      <td>1910.000000</td>\n",
              "      <td>7.618000e+03</td>\n",
              "      <td>1.500000</td>\n",
              "      <td>0.000000</td>\n",
              "      <td>0.000000</td>\n",
              "      <td>3.000000</td>\n",
              "      <td>7.000000</td>\n",
              "      <td>1560.000000</td>\n",
              "      <td>0.000000</td>\n",
              "      <td>1975.000000</td>\n",
              "      <td>0.000000</td>\n",
              "      <td>98065.000000</td>\n",
              "      <td>47.571800</td>\n",
              "      <td>-122.230000</td>\n",
              "      <td>1840.000000</td>\n",
              "      <td>7620.000000</td>\n",
              "    </tr>\n",
              "    <tr>\n",
              "      <th>75%</th>\n",
              "      <td>7.308900e+09</td>\n",
              "      <td>6.450000e+05</td>\n",
              "      <td>4.000000</td>\n",
              "      <td>2.500000</td>\n",
              "      <td>2550.000000</td>\n",
              "      <td>1.068800e+04</td>\n",
              "      <td>2.000000</td>\n",
              "      <td>0.000000</td>\n",
              "      <td>0.000000</td>\n",
              "      <td>4.000000</td>\n",
              "      <td>8.000000</td>\n",
              "      <td>2210.000000</td>\n",
              "      <td>560.000000</td>\n",
              "      <td>1997.000000</td>\n",
              "      <td>0.000000</td>\n",
              "      <td>98118.000000</td>\n",
              "      <td>47.678000</td>\n",
              "      <td>-122.125000</td>\n",
              "      <td>2360.000000</td>\n",
              "      <td>10083.000000</td>\n",
              "    </tr>\n",
              "    <tr>\n",
              "      <th>max</th>\n",
              "      <td>9.900000e+09</td>\n",
              "      <td>7.700000e+06</td>\n",
              "      <td>33.000000</td>\n",
              "      <td>8.000000</td>\n",
              "      <td>13540.000000</td>\n",
              "      <td>1.651359e+06</td>\n",
              "      <td>3.500000</td>\n",
              "      <td>1.000000</td>\n",
              "      <td>4.000000</td>\n",
              "      <td>5.000000</td>\n",
              "      <td>13.000000</td>\n",
              "      <td>9410.000000</td>\n",
              "      <td>4820.000000</td>\n",
              "      <td>2015.000000</td>\n",
              "      <td>2015.000000</td>\n",
              "      <td>98199.000000</td>\n",
              "      <td>47.777600</td>\n",
              "      <td>-121.315000</td>\n",
              "      <td>6210.000000</td>\n",
              "      <td>871200.000000</td>\n",
              "    </tr>\n",
              "  </tbody>\n",
              "</table>\n",
              "</div>\n",
              "      <button class=\"colab-df-convert\" onclick=\"convertToInteractive('df-f3dc9d25-495a-4482-9b0d-caf037d113e4')\"\n",
              "              title=\"Convert this dataframe to an interactive table.\"\n",
              "              style=\"display:none;\">\n",
              "        \n",
              "  <svg xmlns=\"http://www.w3.org/2000/svg\" height=\"24px\"viewBox=\"0 0 24 24\"\n",
              "       width=\"24px\">\n",
              "    <path d=\"M0 0h24v24H0V0z\" fill=\"none\"/>\n",
              "    <path d=\"M18.56 5.44l.94 2.06.94-2.06 2.06-.94-2.06-.94-.94-2.06-.94 2.06-2.06.94zm-11 1L8.5 8.5l.94-2.06 2.06-.94-2.06-.94L8.5 2.5l-.94 2.06-2.06.94zm10 10l.94 2.06.94-2.06 2.06-.94-2.06-.94-.94-2.06-.94 2.06-2.06.94z\"/><path d=\"M17.41 7.96l-1.37-1.37c-.4-.4-.92-.59-1.43-.59-.52 0-1.04.2-1.43.59L10.3 9.45l-7.72 7.72c-.78.78-.78 2.05 0 2.83L4 21.41c.39.39.9.59 1.41.59.51 0 1.02-.2 1.41-.59l7.78-7.78 2.81-2.81c.8-.78.8-2.07 0-2.86zM5.41 20L4 18.59l7.72-7.72 1.47 1.35L5.41 20z\"/>\n",
              "  </svg>\n",
              "      </button>\n",
              "      \n",
              "  <style>\n",
              "    .colab-df-container {\n",
              "      display:flex;\n",
              "      flex-wrap:wrap;\n",
              "      gap: 12px;\n",
              "    }\n",
              "\n",
              "    .colab-df-convert {\n",
              "      background-color: #E8F0FE;\n",
              "      border: none;\n",
              "      border-radius: 50%;\n",
              "      cursor: pointer;\n",
              "      display: none;\n",
              "      fill: #1967D2;\n",
              "      height: 32px;\n",
              "      padding: 0 0 0 0;\n",
              "      width: 32px;\n",
              "    }\n",
              "\n",
              "    .colab-df-convert:hover {\n",
              "      background-color: #E2EBFA;\n",
              "      box-shadow: 0px 1px 2px rgba(60, 64, 67, 0.3), 0px 1px 3px 1px rgba(60, 64, 67, 0.15);\n",
              "      fill: #174EA6;\n",
              "    }\n",
              "\n",
              "    [theme=dark] .colab-df-convert {\n",
              "      background-color: #3B4455;\n",
              "      fill: #D2E3FC;\n",
              "    }\n",
              "\n",
              "    [theme=dark] .colab-df-convert:hover {\n",
              "      background-color: #434B5C;\n",
              "      box-shadow: 0px 1px 3px 1px rgba(0, 0, 0, 0.15);\n",
              "      filter: drop-shadow(0px 1px 2px rgba(0, 0, 0, 0.3));\n",
              "      fill: #FFFFFF;\n",
              "    }\n",
              "  </style>\n",
              "\n",
              "      <script>\n",
              "        const buttonEl =\n",
              "          document.querySelector('#df-f3dc9d25-495a-4482-9b0d-caf037d113e4 button.colab-df-convert');\n",
              "        buttonEl.style.display =\n",
              "          google.colab.kernel.accessAllowed ? 'block' : 'none';\n",
              "\n",
              "        async function convertToInteractive(key) {\n",
              "          const element = document.querySelector('#df-f3dc9d25-495a-4482-9b0d-caf037d113e4');\n",
              "          const dataTable =\n",
              "            await google.colab.kernel.invokeFunction('convertToInteractive',\n",
              "                                                     [key], {});\n",
              "          if (!dataTable) return;\n",
              "\n",
              "          const docLinkHtml = 'Like what you see? Visit the ' +\n",
              "            '<a target=\"_blank\" href=https://colab.research.google.com/notebooks/data_table.ipynb>data table notebook</a>'\n",
              "            + ' to learn more about interactive tables.';\n",
              "          element.innerHTML = '';\n",
              "          dataTable['output_type'] = 'display_data';\n",
              "          await google.colab.output.renderOutput(dataTable, element);\n",
              "          const docLink = document.createElement('div');\n",
              "          docLink.innerHTML = docLinkHtml;\n",
              "          element.appendChild(docLink);\n",
              "        }\n",
              "      </script>\n",
              "    </div>\n",
              "  </div>\n",
              "  "
            ]
          },
          "metadata": {},
          "execution_count": 200
        }
      ],
      "source": [
        "df.describe()"
      ]
    },
    {
      "cell_type": "code",
      "execution_count": 201,
      "id": "c2775e52",
      "metadata": {
        "scrolled": false,
        "id": "c2775e52",
        "colab": {
          "base_uri": "https://localhost:8080/",
          "height": 740
        },
        "outputId": "bd2478f0-548c-457d-a7c6-a49151358dd6"
      },
      "outputs": [
        {
          "output_type": "execute_result",
          "data": {
            "text/plain": [
              "                     id     price  bedrooms  bathrooms  sqft_living  sqft_lot  \\\n",
              "id             1.000000 -0.016762  0.001286   0.005160    -0.012258 -0.132109   \n",
              "price         -0.016762  1.000000  0.308350   0.525138     0.702035  0.089661   \n",
              "bedrooms       0.001286  0.308350  1.000000   0.515884     0.576671  0.031703   \n",
              "bathrooms      0.005160  0.525138  0.515884   1.000000     0.754665  0.087740   \n",
              "sqft_living   -0.012258  0.702035  0.576671   0.754665     1.000000  0.172826   \n",
              "sqft_lot      -0.132109  0.089661  0.031703   0.087740     0.172826  1.000000   \n",
              "floors         0.018525  0.256794  0.175429   0.500653     0.353949 -0.005201   \n",
              "waterfront    -0.002721  0.266369 -0.006582   0.063744     0.103818  0.021604   \n",
              "view           0.011592  0.397293  0.079532   0.187737     0.284611  0.074710   \n",
              "condition     -0.023783  0.036362  0.028472  -0.124982    -0.058753 -0.008958   \n",
              "grade          0.008130  0.667434  0.356967   0.664983     0.762704  0.113621   \n",
              "sqft_above    -0.010842  0.605567  0.477600   0.685342     0.876597  0.183512   \n",
              "sqft_basement -0.005151  0.323816  0.303093   0.283770     0.435043  0.015286   \n",
              "yr_built       0.021380  0.054012  0.154178   0.506019     0.318049  0.053080   \n",
              "yr_renovated  -0.016907  0.126434  0.018841   0.050739     0.055363  0.007644   \n",
              "zipcode       -0.008224 -0.053203 -0.152668  -0.203866    -0.199430 -0.129574   \n",
              "lat           -0.001891  0.307003 -0.008931   0.024573     0.052529 -0.085683   \n",
              "long           0.020799  0.021626  0.129473   0.223042     0.240223  0.229521   \n",
              "sqft_living15 -0.002901  0.585379  0.391638   0.568634     0.756420  0.144608   \n",
              "sqft_lot15    -0.138798  0.082447  0.029244   0.087175     0.183286  0.718557   \n",
              "\n",
              "                 floors  waterfront      view  condition     grade  \\\n",
              "id             0.018525   -0.002721  0.011592  -0.023783  0.008130   \n",
              "price          0.256794    0.266369  0.397293   0.036362  0.667434   \n",
              "bedrooms       0.175429   -0.006582  0.079532   0.028472  0.356967   \n",
              "bathrooms      0.500653    0.063744  0.187737  -0.124982  0.664983   \n",
              "sqft_living    0.353949    0.103818  0.284611  -0.058753  0.762704   \n",
              "sqft_lot      -0.005201    0.021604  0.074710  -0.008958  0.113621   \n",
              "floors         1.000000    0.023698  0.029444  -0.263768  0.458183   \n",
              "waterfront     0.023698    1.000000  0.401857   0.016653  0.082775   \n",
              "view           0.029444    0.401857  1.000000   0.045990  0.251321   \n",
              "condition     -0.263768    0.016653  0.045990   1.000000 -0.144674   \n",
              "grade          0.458183    0.082775  0.251321  -0.144674  1.000000   \n",
              "sqft_above     0.523885    0.072075  0.167649  -0.158214  0.755923   \n",
              "sqft_basement -0.245705    0.080588  0.276947   0.174105  0.168392   \n",
              "yr_built       0.489319   -0.026161 -0.053440  -0.361417  0.446963   \n",
              "yr_renovated   0.006338    0.092885  0.103917  -0.060618  0.014414   \n",
              "zipcode       -0.059121    0.030285  0.084827   0.003026 -0.184862   \n",
              "lat            0.049614   -0.014274  0.006157  -0.014941  0.114084   \n",
              "long           0.125419   -0.041910 -0.078400  -0.106500  0.198372   \n",
              "sqft_living15  0.279885    0.086463  0.280439  -0.092824  0.713202   \n",
              "sqft_lot15    -0.011269    0.030703  0.072575  -0.003406  0.119248   \n",
              "\n",
              "               sqft_above  sqft_basement  yr_built  yr_renovated   zipcode  \\\n",
              "id              -0.010842      -0.005151  0.021380     -0.016907 -0.008224   \n",
              "price            0.605567       0.323816  0.054012      0.126434 -0.053203   \n",
              "bedrooms         0.477600       0.303093  0.154178      0.018841 -0.152668   \n",
              "bathrooms        0.685342       0.283770  0.506019      0.050739 -0.203866   \n",
              "sqft_living      0.876597       0.435043  0.318049      0.055363 -0.199430   \n",
              "sqft_lot         0.183512       0.015286  0.053080      0.007644 -0.129574   \n",
              "floors           0.523885      -0.245705  0.489319      0.006338 -0.059121   \n",
              "waterfront       0.072075       0.080588 -0.026161      0.092885  0.030285   \n",
              "view             0.167649       0.276947 -0.053440      0.103917  0.084827   \n",
              "condition       -0.158214       0.174105 -0.361417     -0.060618  0.003026   \n",
              "grade            0.755923       0.168392  0.446963      0.014414 -0.184862   \n",
              "sqft_above       1.000000      -0.051943  0.423898      0.023285 -0.261190   \n",
              "sqft_basement   -0.051943       1.000000 -0.133124      0.071323  0.074845   \n",
              "yr_built         0.423898      -0.133124  1.000000     -0.224874 -0.346869   \n",
              "yr_renovated     0.023285       0.071323 -0.224874      1.000000  0.064357   \n",
              "zipcode         -0.261190       0.074845 -0.346869      0.064357  1.000000   \n",
              "lat             -0.000816       0.110538 -0.148122      0.029398  0.267048   \n",
              "long             0.343803      -0.144765  0.409356     -0.068372 -0.564072   \n",
              "sqft_living15    0.731870       0.200355  0.326229     -0.002673 -0.279033   \n",
              "sqft_lot15       0.194050       0.017276  0.070958      0.007854 -0.147221   \n",
              "\n",
              "                    lat      long  sqft_living15  sqft_lot15  \n",
              "id            -0.001891  0.020799      -0.002901   -0.138798  \n",
              "price          0.307003  0.021626       0.585379    0.082447  \n",
              "bedrooms      -0.008931  0.129473       0.391638    0.029244  \n",
              "bathrooms      0.024573  0.223042       0.568634    0.087175  \n",
              "sqft_living    0.052529  0.240223       0.756420    0.183286  \n",
              "sqft_lot      -0.085683  0.229521       0.144608    0.718557  \n",
              "floors         0.049614  0.125419       0.279885   -0.011269  \n",
              "waterfront    -0.014274 -0.041910       0.086463    0.030703  \n",
              "view           0.006157 -0.078400       0.280439    0.072575  \n",
              "condition     -0.014941 -0.106500      -0.092824   -0.003406  \n",
              "grade          0.114084  0.198372       0.713202    0.119248  \n",
              "sqft_above    -0.000816  0.343803       0.731870    0.194050  \n",
              "sqft_basement  0.110538 -0.144765       0.200355    0.017276  \n",
              "yr_built      -0.148122  0.409356       0.326229    0.070958  \n",
              "yr_renovated   0.029398 -0.068372      -0.002673    0.007854  \n",
              "zipcode        0.267048 -0.564072      -0.279033   -0.147221  \n",
              "lat            1.000000 -0.135512       0.048858   -0.086419  \n",
              "long          -0.135512  1.000000       0.334605    0.254451  \n",
              "sqft_living15  0.048858  0.334605       1.000000    0.183192  \n",
              "sqft_lot15    -0.086419  0.254451       0.183192    1.000000  "
            ],
            "text/html": [
              "\n",
              "  <div id=\"df-1a733902-f706-4865-8d3f-7d5a631676a4\">\n",
              "    <div class=\"colab-df-container\">\n",
              "      <div>\n",
              "<style scoped>\n",
              "    .dataframe tbody tr th:only-of-type {\n",
              "        vertical-align: middle;\n",
              "    }\n",
              "\n",
              "    .dataframe tbody tr th {\n",
              "        vertical-align: top;\n",
              "    }\n",
              "\n",
              "    .dataframe thead th {\n",
              "        text-align: right;\n",
              "    }\n",
              "</style>\n",
              "<table border=\"1\" class=\"dataframe\">\n",
              "  <thead>\n",
              "    <tr style=\"text-align: right;\">\n",
              "      <th></th>\n",
              "      <th>id</th>\n",
              "      <th>price</th>\n",
              "      <th>bedrooms</th>\n",
              "      <th>bathrooms</th>\n",
              "      <th>sqft_living</th>\n",
              "      <th>sqft_lot</th>\n",
              "      <th>floors</th>\n",
              "      <th>waterfront</th>\n",
              "      <th>view</th>\n",
              "      <th>condition</th>\n",
              "      <th>grade</th>\n",
              "      <th>sqft_above</th>\n",
              "      <th>sqft_basement</th>\n",
              "      <th>yr_built</th>\n",
              "      <th>yr_renovated</th>\n",
              "      <th>zipcode</th>\n",
              "      <th>lat</th>\n",
              "      <th>long</th>\n",
              "      <th>sqft_living15</th>\n",
              "      <th>sqft_lot15</th>\n",
              "    </tr>\n",
              "  </thead>\n",
              "  <tbody>\n",
              "    <tr>\n",
              "      <th>id</th>\n",
              "      <td>1.000000</td>\n",
              "      <td>-0.016762</td>\n",
              "      <td>0.001286</td>\n",
              "      <td>0.005160</td>\n",
              "      <td>-0.012258</td>\n",
              "      <td>-0.132109</td>\n",
              "      <td>0.018525</td>\n",
              "      <td>-0.002721</td>\n",
              "      <td>0.011592</td>\n",
              "      <td>-0.023783</td>\n",
              "      <td>0.008130</td>\n",
              "      <td>-0.010842</td>\n",
              "      <td>-0.005151</td>\n",
              "      <td>0.021380</td>\n",
              "      <td>-0.016907</td>\n",
              "      <td>-0.008224</td>\n",
              "      <td>-0.001891</td>\n",
              "      <td>0.020799</td>\n",
              "      <td>-0.002901</td>\n",
              "      <td>-0.138798</td>\n",
              "    </tr>\n",
              "    <tr>\n",
              "      <th>price</th>\n",
              "      <td>-0.016762</td>\n",
              "      <td>1.000000</td>\n",
              "      <td>0.308350</td>\n",
              "      <td>0.525138</td>\n",
              "      <td>0.702035</td>\n",
              "      <td>0.089661</td>\n",
              "      <td>0.256794</td>\n",
              "      <td>0.266369</td>\n",
              "      <td>0.397293</td>\n",
              "      <td>0.036362</td>\n",
              "      <td>0.667434</td>\n",
              "      <td>0.605567</td>\n",
              "      <td>0.323816</td>\n",
              "      <td>0.054012</td>\n",
              "      <td>0.126434</td>\n",
              "      <td>-0.053203</td>\n",
              "      <td>0.307003</td>\n",
              "      <td>0.021626</td>\n",
              "      <td>0.585379</td>\n",
              "      <td>0.082447</td>\n",
              "    </tr>\n",
              "    <tr>\n",
              "      <th>bedrooms</th>\n",
              "      <td>0.001286</td>\n",
              "      <td>0.308350</td>\n",
              "      <td>1.000000</td>\n",
              "      <td>0.515884</td>\n",
              "      <td>0.576671</td>\n",
              "      <td>0.031703</td>\n",
              "      <td>0.175429</td>\n",
              "      <td>-0.006582</td>\n",
              "      <td>0.079532</td>\n",
              "      <td>0.028472</td>\n",
              "      <td>0.356967</td>\n",
              "      <td>0.477600</td>\n",
              "      <td>0.303093</td>\n",
              "      <td>0.154178</td>\n",
              "      <td>0.018841</td>\n",
              "      <td>-0.152668</td>\n",
              "      <td>-0.008931</td>\n",
              "      <td>0.129473</td>\n",
              "      <td>0.391638</td>\n",
              "      <td>0.029244</td>\n",
              "    </tr>\n",
              "    <tr>\n",
              "      <th>bathrooms</th>\n",
              "      <td>0.005160</td>\n",
              "      <td>0.525138</td>\n",
              "      <td>0.515884</td>\n",
              "      <td>1.000000</td>\n",
              "      <td>0.754665</td>\n",
              "      <td>0.087740</td>\n",
              "      <td>0.500653</td>\n",
              "      <td>0.063744</td>\n",
              "      <td>0.187737</td>\n",
              "      <td>-0.124982</td>\n",
              "      <td>0.664983</td>\n",
              "      <td>0.685342</td>\n",
              "      <td>0.283770</td>\n",
              "      <td>0.506019</td>\n",
              "      <td>0.050739</td>\n",
              "      <td>-0.203866</td>\n",
              "      <td>0.024573</td>\n",
              "      <td>0.223042</td>\n",
              "      <td>0.568634</td>\n",
              "      <td>0.087175</td>\n",
              "    </tr>\n",
              "    <tr>\n",
              "      <th>sqft_living</th>\n",
              "      <td>-0.012258</td>\n",
              "      <td>0.702035</td>\n",
              "      <td>0.576671</td>\n",
              "      <td>0.754665</td>\n",
              "      <td>1.000000</td>\n",
              "      <td>0.172826</td>\n",
              "      <td>0.353949</td>\n",
              "      <td>0.103818</td>\n",
              "      <td>0.284611</td>\n",
              "      <td>-0.058753</td>\n",
              "      <td>0.762704</td>\n",
              "      <td>0.876597</td>\n",
              "      <td>0.435043</td>\n",
              "      <td>0.318049</td>\n",
              "      <td>0.055363</td>\n",
              "      <td>-0.199430</td>\n",
              "      <td>0.052529</td>\n",
              "      <td>0.240223</td>\n",
              "      <td>0.756420</td>\n",
              "      <td>0.183286</td>\n",
              "    </tr>\n",
              "    <tr>\n",
              "      <th>sqft_lot</th>\n",
              "      <td>-0.132109</td>\n",
              "      <td>0.089661</td>\n",
              "      <td>0.031703</td>\n",
              "      <td>0.087740</td>\n",
              "      <td>0.172826</td>\n",
              "      <td>1.000000</td>\n",
              "      <td>-0.005201</td>\n",
              "      <td>0.021604</td>\n",
              "      <td>0.074710</td>\n",
              "      <td>-0.008958</td>\n",
              "      <td>0.113621</td>\n",
              "      <td>0.183512</td>\n",
              "      <td>0.015286</td>\n",
              "      <td>0.053080</td>\n",
              "      <td>0.007644</td>\n",
              "      <td>-0.129574</td>\n",
              "      <td>-0.085683</td>\n",
              "      <td>0.229521</td>\n",
              "      <td>0.144608</td>\n",
              "      <td>0.718557</td>\n",
              "    </tr>\n",
              "    <tr>\n",
              "      <th>floors</th>\n",
              "      <td>0.018525</td>\n",
              "      <td>0.256794</td>\n",
              "      <td>0.175429</td>\n",
              "      <td>0.500653</td>\n",
              "      <td>0.353949</td>\n",
              "      <td>-0.005201</td>\n",
              "      <td>1.000000</td>\n",
              "      <td>0.023698</td>\n",
              "      <td>0.029444</td>\n",
              "      <td>-0.263768</td>\n",
              "      <td>0.458183</td>\n",
              "      <td>0.523885</td>\n",
              "      <td>-0.245705</td>\n",
              "      <td>0.489319</td>\n",
              "      <td>0.006338</td>\n",
              "      <td>-0.059121</td>\n",
              "      <td>0.049614</td>\n",
              "      <td>0.125419</td>\n",
              "      <td>0.279885</td>\n",
              "      <td>-0.011269</td>\n",
              "    </tr>\n",
              "    <tr>\n",
              "      <th>waterfront</th>\n",
              "      <td>-0.002721</td>\n",
              "      <td>0.266369</td>\n",
              "      <td>-0.006582</td>\n",
              "      <td>0.063744</td>\n",
              "      <td>0.103818</td>\n",
              "      <td>0.021604</td>\n",
              "      <td>0.023698</td>\n",
              "      <td>1.000000</td>\n",
              "      <td>0.401857</td>\n",
              "      <td>0.016653</td>\n",
              "      <td>0.082775</td>\n",
              "      <td>0.072075</td>\n",
              "      <td>0.080588</td>\n",
              "      <td>-0.026161</td>\n",
              "      <td>0.092885</td>\n",
              "      <td>0.030285</td>\n",
              "      <td>-0.014274</td>\n",
              "      <td>-0.041910</td>\n",
              "      <td>0.086463</td>\n",
              "      <td>0.030703</td>\n",
              "    </tr>\n",
              "    <tr>\n",
              "      <th>view</th>\n",
              "      <td>0.011592</td>\n",
              "      <td>0.397293</td>\n",
              "      <td>0.079532</td>\n",
              "      <td>0.187737</td>\n",
              "      <td>0.284611</td>\n",
              "      <td>0.074710</td>\n",
              "      <td>0.029444</td>\n",
              "      <td>0.401857</td>\n",
              "      <td>1.000000</td>\n",
              "      <td>0.045990</td>\n",
              "      <td>0.251321</td>\n",
              "      <td>0.167649</td>\n",
              "      <td>0.276947</td>\n",
              "      <td>-0.053440</td>\n",
              "      <td>0.103917</td>\n",
              "      <td>0.084827</td>\n",
              "      <td>0.006157</td>\n",
              "      <td>-0.078400</td>\n",
              "      <td>0.280439</td>\n",
              "      <td>0.072575</td>\n",
              "    </tr>\n",
              "    <tr>\n",
              "      <th>condition</th>\n",
              "      <td>-0.023783</td>\n",
              "      <td>0.036362</td>\n",
              "      <td>0.028472</td>\n",
              "      <td>-0.124982</td>\n",
              "      <td>-0.058753</td>\n",
              "      <td>-0.008958</td>\n",
              "      <td>-0.263768</td>\n",
              "      <td>0.016653</td>\n",
              "      <td>0.045990</td>\n",
              "      <td>1.000000</td>\n",
              "      <td>-0.144674</td>\n",
              "      <td>-0.158214</td>\n",
              "      <td>0.174105</td>\n",
              "      <td>-0.361417</td>\n",
              "      <td>-0.060618</td>\n",
              "      <td>0.003026</td>\n",
              "      <td>-0.014941</td>\n",
              "      <td>-0.106500</td>\n",
              "      <td>-0.092824</td>\n",
              "      <td>-0.003406</td>\n",
              "    </tr>\n",
              "    <tr>\n",
              "      <th>grade</th>\n",
              "      <td>0.008130</td>\n",
              "      <td>0.667434</td>\n",
              "      <td>0.356967</td>\n",
              "      <td>0.664983</td>\n",
              "      <td>0.762704</td>\n",
              "      <td>0.113621</td>\n",
              "      <td>0.458183</td>\n",
              "      <td>0.082775</td>\n",
              "      <td>0.251321</td>\n",
              "      <td>-0.144674</td>\n",
              "      <td>1.000000</td>\n",
              "      <td>0.755923</td>\n",
              "      <td>0.168392</td>\n",
              "      <td>0.446963</td>\n",
              "      <td>0.014414</td>\n",
              "      <td>-0.184862</td>\n",
              "      <td>0.114084</td>\n",
              "      <td>0.198372</td>\n",
              "      <td>0.713202</td>\n",
              "      <td>0.119248</td>\n",
              "    </tr>\n",
              "    <tr>\n",
              "      <th>sqft_above</th>\n",
              "      <td>-0.010842</td>\n",
              "      <td>0.605567</td>\n",
              "      <td>0.477600</td>\n",
              "      <td>0.685342</td>\n",
              "      <td>0.876597</td>\n",
              "      <td>0.183512</td>\n",
              "      <td>0.523885</td>\n",
              "      <td>0.072075</td>\n",
              "      <td>0.167649</td>\n",
              "      <td>-0.158214</td>\n",
              "      <td>0.755923</td>\n",
              "      <td>1.000000</td>\n",
              "      <td>-0.051943</td>\n",
              "      <td>0.423898</td>\n",
              "      <td>0.023285</td>\n",
              "      <td>-0.261190</td>\n",
              "      <td>-0.000816</td>\n",
              "      <td>0.343803</td>\n",
              "      <td>0.731870</td>\n",
              "      <td>0.194050</td>\n",
              "    </tr>\n",
              "    <tr>\n",
              "      <th>sqft_basement</th>\n",
              "      <td>-0.005151</td>\n",
              "      <td>0.323816</td>\n",
              "      <td>0.303093</td>\n",
              "      <td>0.283770</td>\n",
              "      <td>0.435043</td>\n",
              "      <td>0.015286</td>\n",
              "      <td>-0.245705</td>\n",
              "      <td>0.080588</td>\n",
              "      <td>0.276947</td>\n",
              "      <td>0.174105</td>\n",
              "      <td>0.168392</td>\n",
              "      <td>-0.051943</td>\n",
              "      <td>1.000000</td>\n",
              "      <td>-0.133124</td>\n",
              "      <td>0.071323</td>\n",
              "      <td>0.074845</td>\n",
              "      <td>0.110538</td>\n",
              "      <td>-0.144765</td>\n",
              "      <td>0.200355</td>\n",
              "      <td>0.017276</td>\n",
              "    </tr>\n",
              "    <tr>\n",
              "      <th>yr_built</th>\n",
              "      <td>0.021380</td>\n",
              "      <td>0.054012</td>\n",
              "      <td>0.154178</td>\n",
              "      <td>0.506019</td>\n",
              "      <td>0.318049</td>\n",
              "      <td>0.053080</td>\n",
              "      <td>0.489319</td>\n",
              "      <td>-0.026161</td>\n",
              "      <td>-0.053440</td>\n",
              "      <td>-0.361417</td>\n",
              "      <td>0.446963</td>\n",
              "      <td>0.423898</td>\n",
              "      <td>-0.133124</td>\n",
              "      <td>1.000000</td>\n",
              "      <td>-0.224874</td>\n",
              "      <td>-0.346869</td>\n",
              "      <td>-0.148122</td>\n",
              "      <td>0.409356</td>\n",
              "      <td>0.326229</td>\n",
              "      <td>0.070958</td>\n",
              "    </tr>\n",
              "    <tr>\n",
              "      <th>yr_renovated</th>\n",
              "      <td>-0.016907</td>\n",
              "      <td>0.126434</td>\n",
              "      <td>0.018841</td>\n",
              "      <td>0.050739</td>\n",
              "      <td>0.055363</td>\n",
              "      <td>0.007644</td>\n",
              "      <td>0.006338</td>\n",
              "      <td>0.092885</td>\n",
              "      <td>0.103917</td>\n",
              "      <td>-0.060618</td>\n",
              "      <td>0.014414</td>\n",
              "      <td>0.023285</td>\n",
              "      <td>0.071323</td>\n",
              "      <td>-0.224874</td>\n",
              "      <td>1.000000</td>\n",
              "      <td>0.064357</td>\n",
              "      <td>0.029398</td>\n",
              "      <td>-0.068372</td>\n",
              "      <td>-0.002673</td>\n",
              "      <td>0.007854</td>\n",
              "    </tr>\n",
              "    <tr>\n",
              "      <th>zipcode</th>\n",
              "      <td>-0.008224</td>\n",
              "      <td>-0.053203</td>\n",
              "      <td>-0.152668</td>\n",
              "      <td>-0.203866</td>\n",
              "      <td>-0.199430</td>\n",
              "      <td>-0.129574</td>\n",
              "      <td>-0.059121</td>\n",
              "      <td>0.030285</td>\n",
              "      <td>0.084827</td>\n",
              "      <td>0.003026</td>\n",
              "      <td>-0.184862</td>\n",
              "      <td>-0.261190</td>\n",
              "      <td>0.074845</td>\n",
              "      <td>-0.346869</td>\n",
              "      <td>0.064357</td>\n",
              "      <td>1.000000</td>\n",
              "      <td>0.267048</td>\n",
              "      <td>-0.564072</td>\n",
              "      <td>-0.279033</td>\n",
              "      <td>-0.147221</td>\n",
              "    </tr>\n",
              "    <tr>\n",
              "      <th>lat</th>\n",
              "      <td>-0.001891</td>\n",
              "      <td>0.307003</td>\n",
              "      <td>-0.008931</td>\n",
              "      <td>0.024573</td>\n",
              "      <td>0.052529</td>\n",
              "      <td>-0.085683</td>\n",
              "      <td>0.049614</td>\n",
              "      <td>-0.014274</td>\n",
              "      <td>0.006157</td>\n",
              "      <td>-0.014941</td>\n",
              "      <td>0.114084</td>\n",
              "      <td>-0.000816</td>\n",
              "      <td>0.110538</td>\n",
              "      <td>-0.148122</td>\n",
              "      <td>0.029398</td>\n",
              "      <td>0.267048</td>\n",
              "      <td>1.000000</td>\n",
              "      <td>-0.135512</td>\n",
              "      <td>0.048858</td>\n",
              "      <td>-0.086419</td>\n",
              "    </tr>\n",
              "    <tr>\n",
              "      <th>long</th>\n",
              "      <td>0.020799</td>\n",
              "      <td>0.021626</td>\n",
              "      <td>0.129473</td>\n",
              "      <td>0.223042</td>\n",
              "      <td>0.240223</td>\n",
              "      <td>0.229521</td>\n",
              "      <td>0.125419</td>\n",
              "      <td>-0.041910</td>\n",
              "      <td>-0.078400</td>\n",
              "      <td>-0.106500</td>\n",
              "      <td>0.198372</td>\n",
              "      <td>0.343803</td>\n",
              "      <td>-0.144765</td>\n",
              "      <td>0.409356</td>\n",
              "      <td>-0.068372</td>\n",
              "      <td>-0.564072</td>\n",
              "      <td>-0.135512</td>\n",
              "      <td>1.000000</td>\n",
              "      <td>0.334605</td>\n",
              "      <td>0.254451</td>\n",
              "    </tr>\n",
              "    <tr>\n",
              "      <th>sqft_living15</th>\n",
              "      <td>-0.002901</td>\n",
              "      <td>0.585379</td>\n",
              "      <td>0.391638</td>\n",
              "      <td>0.568634</td>\n",
              "      <td>0.756420</td>\n",
              "      <td>0.144608</td>\n",
              "      <td>0.279885</td>\n",
              "      <td>0.086463</td>\n",
              "      <td>0.280439</td>\n",
              "      <td>-0.092824</td>\n",
              "      <td>0.713202</td>\n",
              "      <td>0.731870</td>\n",
              "      <td>0.200355</td>\n",
              "      <td>0.326229</td>\n",
              "      <td>-0.002673</td>\n",
              "      <td>-0.279033</td>\n",
              "      <td>0.048858</td>\n",
              "      <td>0.334605</td>\n",
              "      <td>1.000000</td>\n",
              "      <td>0.183192</td>\n",
              "    </tr>\n",
              "    <tr>\n",
              "      <th>sqft_lot15</th>\n",
              "      <td>-0.138798</td>\n",
              "      <td>0.082447</td>\n",
              "      <td>0.029244</td>\n",
              "      <td>0.087175</td>\n",
              "      <td>0.183286</td>\n",
              "      <td>0.718557</td>\n",
              "      <td>-0.011269</td>\n",
              "      <td>0.030703</td>\n",
              "      <td>0.072575</td>\n",
              "      <td>-0.003406</td>\n",
              "      <td>0.119248</td>\n",
              "      <td>0.194050</td>\n",
              "      <td>0.017276</td>\n",
              "      <td>0.070958</td>\n",
              "      <td>0.007854</td>\n",
              "      <td>-0.147221</td>\n",
              "      <td>-0.086419</td>\n",
              "      <td>0.254451</td>\n",
              "      <td>0.183192</td>\n",
              "      <td>1.000000</td>\n",
              "    </tr>\n",
              "  </tbody>\n",
              "</table>\n",
              "</div>\n",
              "      <button class=\"colab-df-convert\" onclick=\"convertToInteractive('df-1a733902-f706-4865-8d3f-7d5a631676a4')\"\n",
              "              title=\"Convert this dataframe to an interactive table.\"\n",
              "              style=\"display:none;\">\n",
              "        \n",
              "  <svg xmlns=\"http://www.w3.org/2000/svg\" height=\"24px\"viewBox=\"0 0 24 24\"\n",
              "       width=\"24px\">\n",
              "    <path d=\"M0 0h24v24H0V0z\" fill=\"none\"/>\n",
              "    <path d=\"M18.56 5.44l.94 2.06.94-2.06 2.06-.94-2.06-.94-.94-2.06-.94 2.06-2.06.94zm-11 1L8.5 8.5l.94-2.06 2.06-.94-2.06-.94L8.5 2.5l-.94 2.06-2.06.94zm10 10l.94 2.06.94-2.06 2.06-.94-2.06-.94-.94-2.06-.94 2.06-2.06.94z\"/><path d=\"M17.41 7.96l-1.37-1.37c-.4-.4-.92-.59-1.43-.59-.52 0-1.04.2-1.43.59L10.3 9.45l-7.72 7.72c-.78.78-.78 2.05 0 2.83L4 21.41c.39.39.9.59 1.41.59.51 0 1.02-.2 1.41-.59l7.78-7.78 2.81-2.81c.8-.78.8-2.07 0-2.86zM5.41 20L4 18.59l7.72-7.72 1.47 1.35L5.41 20z\"/>\n",
              "  </svg>\n",
              "      </button>\n",
              "      \n",
              "  <style>\n",
              "    .colab-df-container {\n",
              "      display:flex;\n",
              "      flex-wrap:wrap;\n",
              "      gap: 12px;\n",
              "    }\n",
              "\n",
              "    .colab-df-convert {\n",
              "      background-color: #E8F0FE;\n",
              "      border: none;\n",
              "      border-radius: 50%;\n",
              "      cursor: pointer;\n",
              "      display: none;\n",
              "      fill: #1967D2;\n",
              "      height: 32px;\n",
              "      padding: 0 0 0 0;\n",
              "      width: 32px;\n",
              "    }\n",
              "\n",
              "    .colab-df-convert:hover {\n",
              "      background-color: #E2EBFA;\n",
              "      box-shadow: 0px 1px 2px rgba(60, 64, 67, 0.3), 0px 1px 3px 1px rgba(60, 64, 67, 0.15);\n",
              "      fill: #174EA6;\n",
              "    }\n",
              "\n",
              "    [theme=dark] .colab-df-convert {\n",
              "      background-color: #3B4455;\n",
              "      fill: #D2E3FC;\n",
              "    }\n",
              "\n",
              "    [theme=dark] .colab-df-convert:hover {\n",
              "      background-color: #434B5C;\n",
              "      box-shadow: 0px 1px 3px 1px rgba(0, 0, 0, 0.15);\n",
              "      filter: drop-shadow(0px 1px 2px rgba(0, 0, 0, 0.3));\n",
              "      fill: #FFFFFF;\n",
              "    }\n",
              "  </style>\n",
              "\n",
              "      <script>\n",
              "        const buttonEl =\n",
              "          document.querySelector('#df-1a733902-f706-4865-8d3f-7d5a631676a4 button.colab-df-convert');\n",
              "        buttonEl.style.display =\n",
              "          google.colab.kernel.accessAllowed ? 'block' : 'none';\n",
              "\n",
              "        async function convertToInteractive(key) {\n",
              "          const element = document.querySelector('#df-1a733902-f706-4865-8d3f-7d5a631676a4');\n",
              "          const dataTable =\n",
              "            await google.colab.kernel.invokeFunction('convertToInteractive',\n",
              "                                                     [key], {});\n",
              "          if (!dataTable) return;\n",
              "\n",
              "          const docLinkHtml = 'Like what you see? Visit the ' +\n",
              "            '<a target=\"_blank\" href=https://colab.research.google.com/notebooks/data_table.ipynb>data table notebook</a>'\n",
              "            + ' to learn more about interactive tables.';\n",
              "          element.innerHTML = '';\n",
              "          dataTable['output_type'] = 'display_data';\n",
              "          await google.colab.output.renderOutput(dataTable, element);\n",
              "          const docLink = document.createElement('div');\n",
              "          docLink.innerHTML = docLinkHtml;\n",
              "          element.appendChild(docLink);\n",
              "        }\n",
              "      </script>\n",
              "    </div>\n",
              "  </div>\n",
              "  "
            ]
          },
          "metadata": {},
          "execution_count": 201
        }
      ],
      "source": [
        "df.corr()"
      ]
    },
    {
      "cell_type": "code",
      "execution_count": 202,
      "id": "09d979a5",
      "metadata": {
        "id": "09d979a5",
        "colab": {
          "base_uri": "https://localhost:8080/",
          "height": 605
        },
        "outputId": "7da05f89-d323-4452-8a88-3b112fdc8306"
      },
      "outputs": [
        {
          "output_type": "display_data",
          "data": {
            "text/plain": [
              "<Figure size 1152x648 with 2 Axes>"
            ],
            "image/png": "[encoded data removed]"
          },
          "metadata": {
            "needs_background": "light"
          }
        }
      ],
      "source": [
        "plt.figure(figsize=(16,9))\n",
        "sns.heatmap(df.corr(),annot=True);"
      ]
    },
    {
      "cell_type": "code",
      "source": [
        "#df.drop_duplicates()"
      ],
      "metadata": {
        "id": "Fglo1e9ItIQu"
      },
      "id": "Fglo1e9ItIQu",
      "execution_count": 203,
      "outputs": []
    },
    {
      "cell_type": "markdown",
      "id": "e3fb3838",
      "metadata": {
        "id": "e3fb3838"
      },
      "source": [
        "### Works on Columns"
      ]
    },
    {
      "cell_type": "markdown",
      "id": "08530a08",
      "metadata": {
        "id": "08530a08"
      },
      "source": [
        "### Price "
      ]
    },
    {
      "cell_type": "code",
      "execution_count": 204,
      "id": "e2280927",
      "metadata": {
        "id": "e2280927",
        "colab": {
          "base_uri": "https://localhost:8080/",
          "height": 0
        },
        "outputId": "68e12ec7-c17c-4edf-f0d7-8969fba2c4c9"
      },
      "outputs": [
        {
          "output_type": "execute_result",
          "data": {
            "text/plain": [
              "<seaborn.axisgrid.FacetGrid at 0x7f189ee9a690>"
            ]
          },
          "metadata": {},
          "execution_count": 204
        },
        {
          "output_type": "display_data",
          "data": {
            "text/plain": [
              "<Figure size 360x360 with 1 Axes>"
            ],
            "image/png": "[encoded data removed]"
          },
          "metadata": {
            "needs_background": "light"
          }
        }
      ],
      "source": [
        "sns.displot(df.price, bins = 50, kde = True)"
      ]
    },
    {
      "cell_type": "code",
      "execution_count": 205,
      "id": "c392a6f4",
      "metadata": {
        "id": "c392a6f4",
        "colab": {
          "base_uri": "https://localhost:8080/",
          "height": 0
        },
        "outputId": "b2f52309-3999-4d85-dd57-8f9835edd8b4"
      },
      "outputs": [
        {
          "output_type": "display_data",
          "data": {
            "text/plain": [
              "<Figure size 720x432 with 1 Axes>"
            ],
            "image/png": "[encoded data removed]"
          },
          "metadata": {
            "needs_background": "light"
          }
        }
      ],
      "source": [
        "sns.boxplot(x=df.price);    #I can see the outliers here."
      ]
    },
    {
      "cell_type": "code",
      "execution_count": 206,
      "id": "b711979d",
      "metadata": {
        "id": "b711979d",
        "colab": {
          "base_uri": "https://localhost:8080/"
        },
        "outputId": "31d4b25a-de8d-4aed-acff-0c10e9a19f24"
      },
      "outputs": [
        {
          "output_type": "execute_result",
          "data": {
            "text/plain": [
              "7252     7700000.0\n",
              "3914     7062500.0\n",
              "9254     6885000.0\n",
              "4411     5570000.0\n",
              "1448     5350000.0\n",
              "1315     5300000.0\n",
              "1164     5110800.0\n",
              "8092     4668000.0\n",
              "2626     4500000.0\n",
              "8638     4489000.0\n",
              "12370    4208000.0\n",
              "4149     4000000.0\n",
              "2085     3850000.0\n",
              "19017    3800000.0\n",
              "7035     3800000.0\n",
              "16302    3710000.0\n",
              "6508     3650000.0\n",
              "18482    3650000.0\n",
              "15255    3640900.0\n",
              "19148    3635000.0\n",
              "2864     3600000.0\n",
              "21576    3567000.0\n",
              "5880     3418800.0\n",
              "7989     3400000.0\n",
              "10446    3400000.0\n",
              "Name: price, dtype: float64"
            ]
          },
          "metadata": {},
          "execution_count": 206
        }
      ],
      "source": [
        "df.price.sort_values(ascending=False).head(25)  # detailed high prices"
      ]
    },
    {
      "cell_type": "code",
      "execution_count": 207,
      "id": "a86ba78c",
      "metadata": {
        "id": "a86ba78c",
        "colab": {
          "base_uri": "https://localhost:8080/"
        },
        "outputId": "bc0bccde-8559-45f1-abba-1a5e8f0ce080"
      },
      "outputs": [
        {
          "output_type": "execute_result",
          "data": {
            "text/plain": [
              "price            1.000000\n",
              "sqft_living      0.702035\n",
              "grade            0.667434\n",
              "sqft_above       0.605567\n",
              "sqft_living15    0.585379\n",
              "bathrooms        0.525138\n",
              "view             0.397293\n",
              "sqft_basement    0.323816\n",
              "bedrooms         0.308350\n",
              "lat              0.307003\n",
              "waterfront       0.266369\n",
              "floors           0.256794\n",
              "yr_renovated     0.126434\n",
              "sqft_lot         0.089661\n",
              "sqft_lot15       0.082447\n",
              "yr_built         0.054012\n",
              "zipcode          0.053203\n",
              "condition        0.036362\n",
              "long             0.021626\n",
              "id               0.016762\n",
              "Name: price, dtype: float64"
            ]
          },
          "metadata": {},
          "execution_count": 207
        }
      ],
      "source": [
        "abs(df.corr()[\"price\"]).sort_values(ascending=False) "
      ]
    },
    {
      "cell_type": "markdown",
      "id": "7ff31ebf",
      "metadata": {
        "id": "7ff31ebf"
      },
      "source": [
        "### Bedrooms"
      ]
    },
    {
      "cell_type": "code",
      "execution_count": 208,
      "id": "f9f36ff1",
      "metadata": {
        "id": "f9f36ff1",
        "colab": {
          "base_uri": "https://localhost:8080/",
          "height": 0
        },
        "outputId": "16e2c228-cb52-44c6-b392-3ca45bb8d669"
      },
      "outputs": [
        {
          "output_type": "display_data",
          "data": {
            "text/plain": [
              "<Figure size 720x432 with 1 Axes>"
            ],
            "image/png": "[encoded data removed]"
          },
          "metadata": {
            "needs_background": "light"
          }
        }
      ],
      "source": [
        "sns.boxplot(x = df.bedrooms);"
      ]
    },
    {
      "cell_type": "code",
      "execution_count": 209,
      "id": "41e632a3",
      "metadata": {
        "id": "41e632a3",
        "colab": {
          "base_uri": "https://localhost:8080/"
        },
        "outputId": "0bd15e1f-1b67-415b-f3cb-b22fe5a2ffea"
      },
      "outputs": [
        {
          "output_type": "execute_result",
          "data": {
            "text/plain": [
              "3     9824\n",
              "4     6882\n",
              "2     2760\n",
              "5     1601\n",
              "6      272\n",
              "1      199\n",
              "7       38\n",
              "0       13\n",
              "8       13\n",
              "9        6\n",
              "10       3\n",
              "11       1\n",
              "33       1\n",
              "Name: bedrooms, dtype: int64"
            ]
          },
          "metadata": {},
          "execution_count": 209
        }
      ],
      "source": [
        "df.bedrooms.value_counts()"
      ]
    },
    {
      "cell_type": "code",
      "execution_count": 210,
      "id": "95009253",
      "metadata": {
        "id": "95009253",
        "colab": {
          "base_uri": "https://localhost:8080/",
          "height": 0
        },
        "outputId": "ec2851a0-8a7e-438d-9390-c357926a8adf"
      },
      "outputs": [
        {
          "output_type": "execute_result",
          "data": {
            "text/plain": [
              "           price\n",
              "875    1095000.0\n",
              "3119    380000.0\n",
              "3467    288000.0\n",
              "4868    228000.0\n",
              "6994   1295650.0\n",
              "8477    339950.0\n",
              "8484    240000.0\n",
              "9773    355000.0\n",
              "9854    235000.0\n",
              "12653   320000.0\n",
              "14423   139950.0\n",
              "18379   265000.0\n",
              "19452   142000.0"
            ],
            "text/html": [
              "\n",
              "  <div id=\"df-d6da87df-3ae6-4189-a376-1bda723e67df\">\n",
              "    <div class=\"colab-df-container\">\n",
              "      <div>\n",
              "<style scoped>\n",
              "    .dataframe tbody tr th:only-of-type {\n",
              "        vertical-align: middle;\n",
              "    }\n",
              "\n",
              "    .dataframe tbody tr th {\n",
              "        vertical-align: top;\n",
              "    }\n",
              "\n",
              "    .dataframe thead th {\n",
              "        text-align: right;\n",
              "    }\n",
              "</style>\n",
              "<table border=\"1\" class=\"dataframe\">\n",
              "  <thead>\n",
              "    <tr style=\"text-align: right;\">\n",
              "      <th></th>\n",
              "      <th>price</th>\n",
              "    </tr>\n",
              "  </thead>\n",
              "  <tbody>\n",
              "    <tr>\n",
              "      <th>875</th>\n",
              "      <td>1095000.0</td>\n",
              "    </tr>\n",
              "    <tr>\n",
              "      <th>3119</th>\n",
              "      <td>380000.0</td>\n",
              "    </tr>\n",
              "    <tr>\n",
              "      <th>3467</th>\n",
              "      <td>288000.0</td>\n",
              "    </tr>\n",
              "    <tr>\n",
              "      <th>4868</th>\n",
              "      <td>228000.0</td>\n",
              "    </tr>\n",
              "    <tr>\n",
              "      <th>6994</th>\n",
              "      <td>1295650.0</td>\n",
              "    </tr>\n",
              "    <tr>\n",
              "      <th>8477</th>\n",
              "      <td>339950.0</td>\n",
              "    </tr>\n",
              "    <tr>\n",
              "      <th>8484</th>\n",
              "      <td>240000.0</td>\n",
              "    </tr>\n",
              "    <tr>\n",
              "      <th>9773</th>\n",
              "      <td>355000.0</td>\n",
              "    </tr>\n",
              "    <tr>\n",
              "      <th>9854</th>\n",
              "      <td>235000.0</td>\n",
              "    </tr>\n",
              "    <tr>\n",
              "      <th>12653</th>\n",
              "      <td>320000.0</td>\n",
              "    </tr>\n",
              "    <tr>\n",
              "      <th>14423</th>\n",
              "      <td>139950.0</td>\n",
              "    </tr>\n",
              "    <tr>\n",
              "      <th>18379</th>\n",
              "      <td>265000.0</td>\n",
              "    </tr>\n",
              "    <tr>\n",
              "      <th>19452</th>\n",
              "      <td>142000.0</td>\n",
              "    </tr>\n",
              "  </tbody>\n",
              "</table>\n",
              "</div>\n",
              "      <button class=\"colab-df-convert\" onclick=\"convertToInteractive('df-d6da87df-3ae6-4189-a376-1bda723e67df')\"\n",
              "              title=\"Convert this dataframe to an interactive table.\"\n",
              "              style=\"display:none;\">\n",
              "        \n",
              "  <svg xmlns=\"http://www.w3.org/2000/svg\" height=\"24px\"viewBox=\"0 0 24 24\"\n",
              "       width=\"24px\">\n",
              "    <path d=\"M0 0h24v24H0V0z\" fill=\"none\"/>\n",
              "    <path d=\"M18.56 5.44l.94 2.06.94-2.06 2.06-.94-2.06-.94-.94-2.06-.94 2.06-2.06.94zm-11 1L8.5 8.5l.94-2.06 2.06-.94-2.06-.94L8.5 2.5l-.94 2.06-2.06.94zm10 10l.94 2.06.94-2.06 2.06-.94-2.06-.94-.94-2.06-.94 2.06-2.06.94z\"/><path d=\"M17.41 7.96l-1.37-1.37c-.4-.4-.92-.59-1.43-.59-.52 0-1.04.2-1.43.59L10.3 9.45l-7.72 7.72c-.78.78-.78 2.05 0 2.83L4 21.41c.39.39.9.59 1.41.59.51 0 1.02-.2 1.41-.59l7.78-7.78 2.81-2.81c.8-.78.8-2.07 0-2.86zM5.41 20L4 18.59l7.72-7.72 1.47 1.35L5.41 20z\"/>\n",
              "  </svg>\n",
              "      </button>\n",
              "      \n",
              "  <style>\n",
              "    .colab-df-container {\n",
              "      display:flex;\n",
              "      flex-wrap:wrap;\n",
              "      gap: 12px;\n",
              "    }\n",
              "\n",
              "    .colab-df-convert {\n",
              "      background-color: #E8F0FE;\n",
              "      border: none;\n",
              "      border-radius: 50%;\n",
              "      cursor: pointer;\n",
              "      display: none;\n",
              "      fill: #1967D2;\n",
              "      height: 32px;\n",
              "      padding: 0 0 0 0;\n",
              "      width: 32px;\n",
              "    }\n",
              "\n",
              "    .colab-df-convert:hover {\n",
              "      background-color: #E2EBFA;\n",
              "      box-shadow: 0px 1px 2px rgba(60, 64, 67, 0.3), 0px 1px 3px 1px rgba(60, 64, 67, 0.15);\n",
              "      fill: #174EA6;\n",
              "    }\n",
              "\n",
              "    [theme=dark] .colab-df-convert {\n",
              "      background-color: #3B4455;\n",
              "      fill: #D2E3FC;\n",
              "    }\n",
              "\n",
              "    [theme=dark] .colab-df-convert:hover {\n",
              "      background-color: #434B5C;\n",
              "      box-shadow: 0px 1px 3px 1px rgba(0, 0, 0, 0.15);\n",
              "      filter: drop-shadow(0px 1px 2px rgba(0, 0, 0, 0.3));\n",
              "      fill: #FFFFFF;\n",
              "    }\n",
              "  </style>\n",
              "\n",
              "      <script>\n",
              "        const buttonEl =\n",
              "          document.querySelector('#df-d6da87df-3ae6-4189-a376-1bda723e67df button.colab-df-convert');\n",
              "        buttonEl.style.display =\n",
              "          google.colab.kernel.accessAllowed ? 'block' : 'none';\n",
              "\n",
              "        async function convertToInteractive(key) {\n",
              "          const element = document.querySelector('#df-d6da87df-3ae6-4189-a376-1bda723e67df');\n",
              "          const dataTable =\n",
              "            await google.colab.kernel.invokeFunction('convertToInteractive',\n",
              "                                                     [key], {});\n",
              "          if (!dataTable) return;\n",
              "\n",
              "          const docLinkHtml = 'Like what you see? Visit the ' +\n",
              "            '<a target=\"_blank\" href=https://colab.research.google.com/notebooks/data_table.ipynb>data table notebook</a>'\n",
              "            + ' to learn more about interactive tables.';\n",
              "          element.innerHTML = '';\n",
              "          dataTable['output_type'] = 'display_data';\n",
              "          await google.colab.output.renderOutput(dataTable, element);\n",
              "          const docLink = document.createElement('div');\n",
              "          docLink.innerHTML = docLinkHtml;\n",
              "          element.appendChild(docLink);\n",
              "        }\n",
              "      </script>\n",
              "    </div>\n",
              "  </div>\n",
              "  "
            ]
          },
          "metadata": {},
          "execution_count": 210
        }
      ],
      "source": [
        "df[(df.bedrooms==0)].price.to_frame()"
      ]
    },
    {
      "cell_type": "code",
      "execution_count": 211,
      "id": "e45d4648",
      "metadata": {
        "id": "e45d4648"
      },
      "outputs": [],
      "source": [
        "df.drop([875,6994],axis=0,inplace=True)"
      ]
    },
    {
      "cell_type": "code",
      "execution_count": 212,
      "id": "1c4a1a2b",
      "metadata": {
        "id": "1c4a1a2b",
        "colab": {
          "base_uri": "https://localhost:8080/"
        },
        "outputId": "226bc9a4-41b0-4e7e-e146-2dd00ff19e2d"
      },
      "outputs": [
        {
          "output_type": "execute_result",
          "data": {
            "text/plain": [
              "(21611, 21)"
            ]
          },
          "metadata": {},
          "execution_count": 212
        }
      ],
      "source": [
        "df.shape"
      ]
    },
    {
      "cell_type": "markdown",
      "id": "93e6c294",
      "metadata": {
        "id": "93e6c294"
      },
      "source": [
        "### Zipcode"
      ]
    },
    {
      "cell_type": "code",
      "execution_count": 213,
      "id": "4483da88",
      "metadata": {
        "id": "4483da88",
        "outputId": "921540ab-f437-4d05-afdf-016cd1015fa2",
        "colab": {
          "base_uri": "https://localhost:8080/"
        }
      },
      "outputs": [
        {
          "output_type": "execute_result",
          "data": {
            "text/plain": [
              "70"
            ]
          },
          "metadata": {},
          "execution_count": 213
        }
      ],
      "source": [
        "df[\"zipcode\"].nunique()"
      ]
    },
    {
      "cell_type": "code",
      "execution_count": 214,
      "id": "14b8f482",
      "metadata": {
        "id": "14b8f482"
      },
      "outputs": [],
      "source": [
        "df[\"zipcode\"]=df[\"zipcode\"].astype(\"object\")"
      ]
    },
    {
      "cell_type": "markdown",
      "id": "3e78410a",
      "metadata": {
        "id": "3e78410a"
      },
      "source": [
        "### ID "
      ]
    },
    {
      "cell_type": "code",
      "execution_count": 215,
      "id": "4b985103",
      "metadata": {
        "id": "4b985103",
        "outputId": "df51f30b-91f1-4f0c-b5c9-c20418420b11",
        "colab": {
          "base_uri": "https://localhost:8080/"
        }
      },
      "outputs": [
        {
          "output_type": "execute_result",
          "data": {
            "text/plain": [
              "21434"
            ]
          },
          "metadata": {},
          "execution_count": 215
        }
      ],
      "source": [
        "df[\"id\"].nunique()"
      ]
    },
    {
      "cell_type": "code",
      "execution_count": 216,
      "id": "d077d5aa",
      "metadata": {
        "id": "d077d5aa"
      },
      "outputs": [],
      "source": [
        "df.drop(\"id\", axis = 1,inplace=True)"
      ]
    },
    {
      "cell_type": "code",
      "execution_count": 217,
      "id": "66397990",
      "metadata": {
        "id": "66397990",
        "outputId": "85181fbe-6394-4ac5-9643-2e60bb2e6150",
        "colab": {
          "base_uri": "https://localhost:8080/"
        }
      },
      "outputs": [
        {
          "output_type": "execute_result",
          "data": {
            "text/plain": [
              "Index(['date', 'price', 'bedrooms', 'bathrooms', 'sqft_living', 'sqft_lot',\n",
              "       'floors', 'waterfront', 'view', 'condition', 'grade', 'sqft_above',\n",
              "       'sqft_basement', 'yr_built', 'yr_renovated', 'zipcode', 'lat', 'long',\n",
              "       'sqft_living15', 'sqft_lot15'],\n",
              "      dtype='object')"
            ]
          },
          "metadata": {},
          "execution_count": 217
        }
      ],
      "source": [
        "df.columns"
      ]
    },
    {
      "cell_type": "markdown",
      "id": "ed332e10",
      "metadata": {
        "id": "ed332e10"
      },
      "source": [
        "### Date"
      ]
    },
    {
      "cell_type": "code",
      "execution_count": 218,
      "id": "0d2744f7",
      "metadata": {
        "id": "0d2744f7",
        "outputId": "8c443a5e-fea0-48e5-b459-31facd49e8cd",
        "colab": {
          "base_uri": "https://localhost:8080/"
        }
      },
      "outputs": [
        {
          "output_type": "execute_result",
          "data": {
            "text/plain": [
              "0       2014-10-13\n",
              "1       2014-12-09\n",
              "2       2015-02-25\n",
              "3       2014-12-09\n",
              "4       2015-02-18\n",
              "           ...    \n",
              "21608   2014-05-21\n",
              "21609   2015-02-23\n",
              "21610   2014-06-23\n",
              "21611   2015-01-16\n",
              "21612   2014-10-15\n",
              "Name: date, Length: 21611, dtype: datetime64[ns]"
            ]
          },
          "metadata": {},
          "execution_count": 218
        }
      ],
      "source": [
        "df[\"date\"]=pd.to_datetime(df[\"date\"])\n",
        "df.date"
      ]
    },
    {
      "cell_type": "code",
      "execution_count": 219,
      "id": "e518ec2b",
      "metadata": {
        "id": "e518ec2b",
        "outputId": "23b591b2-0161-4873-a33a-755d147a41ff",
        "colab": {
          "base_uri": "https://localhost:8080/"
        }
      },
      "outputs": [
        {
          "output_type": "execute_result",
          "data": {
            "text/plain": [
              "0        1955\n",
              "1        1951\n",
              "2        1933\n",
              "3        1965\n",
              "4        1987\n",
              "         ... \n",
              "21608    2009\n",
              "21609    2014\n",
              "21610    2009\n",
              "21611    2004\n",
              "21612    2008\n",
              "Name: yr_built, Length: 21611, dtype: int64"
            ]
          },
          "metadata": {},
          "execution_count": 219
        }
      ],
      "source": [
        "df.yr_built"
      ]
    },
    {
      "cell_type": "code",
      "execution_count": 220,
      "id": "7df6cdd0",
      "metadata": {
        "id": "7df6cdd0",
        "outputId": "3c00318d-0192-44a5-b4f4-40c08b2a7daf",
        "colab": {
          "base_uri": "https://localhost:8080/"
        }
      },
      "outputs": [
        {
          "output_type": "execute_result",
          "data": {
            "text/plain": [
              "0        59\n",
              "1        63\n",
              "2        82\n",
              "3        49\n",
              "4        28\n",
              "         ..\n",
              "21608     5\n",
              "21609     1\n",
              "21610     5\n",
              "21611    11\n",
              "21612     6\n",
              "Name: age, Length: 21611, dtype: int64"
            ]
          },
          "metadata": {},
          "execution_count": 220
        }
      ],
      "source": [
        "df['age'] = df.date.dt.year - df.yr_built\n",
        "df.age"
      ]
    },
    {
      "cell_type": "code",
      "execution_count": 221,
      "id": "17d27728",
      "metadata": {
        "id": "17d27728"
      },
      "outputs": [],
      "source": [
        "df[\"sales_year\"] = df.date.dt.year"
      ]
    },
    {
      "cell_type": "code",
      "execution_count": 222,
      "id": "a4464114",
      "metadata": {
        "id": "a4464114"
      },
      "outputs": [],
      "source": [
        "df.drop(\"date\",axis=1,inplace=True)"
      ]
    },
    {
      "cell_type": "code",
      "execution_count": 223,
      "id": "57fa3000",
      "metadata": {
        "id": "57fa3000",
        "outputId": "efbafed5-9aed-4524-bde9-27ac8fd9ecc3",
        "colab": {
          "base_uri": "https://localhost:8080/"
        }
      },
      "outputs": [
        {
          "output_type": "execute_result",
          "data": {
            "text/plain": [
              "Index(['price', 'bedrooms', 'bathrooms', 'sqft_living', 'sqft_lot', 'floors',\n",
              "       'waterfront', 'view', 'condition', 'grade', 'sqft_above',\n",
              "       'sqft_basement', 'yr_built', 'yr_renovated', 'zipcode', 'lat', 'long',\n",
              "       'sqft_living15', 'sqft_lot15', 'age', 'sales_year'],\n",
              "      dtype='object')"
            ]
          },
          "metadata": {},
          "execution_count": 223
        }
      ],
      "source": [
        "df.columns"
      ]
    },
    {
      "cell_type": "code",
      "execution_count": 224,
      "id": "03b0a908",
      "metadata": {
        "id": "03b0a908",
        "outputId": "1f5d6bba-327a-4fcc-98fb-0bbb998fb181",
        "colab": {
          "base_uri": "https://localhost:8080/"
        }
      },
      "outputs": [
        {
          "output_type": "execute_result",
          "data": {
            "text/plain": [
              "(21611, 21)"
            ]
          },
          "metadata": {},
          "execution_count": 224
        }
      ],
      "source": [
        "df.shape"
      ]
    },
    {
      "cell_type": "markdown",
      "source": [
        "## yr_renovated"
      ],
      "metadata": {
        "id": "mot-4JKLKL8T"
      },
      "id": "mot-4JKLKL8T"
    },
    {
      "cell_type": "code",
      "source": [
        "#df.yr_renovated.value_counts()"
      ],
      "metadata": {
        "id": "DI09mHx7KCoT"
      },
      "id": "DI09mHx7KCoT",
      "execution_count": 225,
      "outputs": []
    },
    {
      "cell_type": "code",
      "source": [
        "#df[df[\"yr_renovated\"]!=0]"
      ],
      "metadata": {
        "id": "oUNN8auqKK_E"
      },
      "id": "oUNN8auqKK_E",
      "execution_count": 226,
      "outputs": []
    },
    {
      "cell_type": "code",
      "source": [
        "#df.loc[(df.yr_renovated != 0), \"yr_renovated\"] = 1"
      ],
      "metadata": {
        "id": "M9NtTIJMKLIu"
      },
      "id": "M9NtTIJMKLIu",
      "execution_count": 227,
      "outputs": []
    },
    {
      "cell_type": "code",
      "source": [
        "#df[\"renovated\"] = df[\"yr_renovated\"].astype(int)"
      ],
      "metadata": {
        "id": "4i2P_6jMKLLT"
      },
      "id": "4i2P_6jMKLLT",
      "execution_count": 228,
      "outputs": []
    },
    {
      "cell_type": "code",
      "source": [
        "#df[\"renovated\"].value_counts()"
      ],
      "metadata": {
        "id": "hnwtlrE0KLNS"
      },
      "id": "hnwtlrE0KLNS",
      "execution_count": 229,
      "outputs": []
    },
    {
      "cell_type": "code",
      "source": [
        "#df.drop(\"yr_renovated\",axis=1,inplace=True)"
      ],
      "metadata": {
        "id": "nu90_bbDKb-t"
      },
      "id": "nu90_bbDKb-t",
      "execution_count": 230,
      "outputs": []
    },
    {
      "cell_type": "markdown",
      "id": "cf01047d",
      "metadata": {
        "id": "cf01047d"
      },
      "source": [
        "### sqft_living15 and sqft_lot15"
      ]
    },
    {
      "cell_type": "code",
      "execution_count": 231,
      "id": "581ca532",
      "metadata": {
        "id": "581ca532",
        "colab": {
          "base_uri": "https://localhost:8080/",
          "height": 406
        },
        "outputId": "c41823b1-ed37-4a61-8b3e-eeac2fead951"
      },
      "outputs": [
        {
          "output_type": "execute_result",
          "data": {
            "text/plain": [
              "<matplotlib.axes._subplots.AxesSubplot at 0x7f189eaba8d0>"
            ]
          },
          "metadata": {},
          "execution_count": 231
        },
        {
          "output_type": "display_data",
          "data": {
            "text/plain": [
              "<Figure size 720x432 with 1 Axes>"
            ],
            "image/png": "[encoded data removed]"
          },
          "metadata": {
            "needs_background": "light"
          }
        }
      ],
      "source": [
        "sns.boxplot(df.sqft_living15)"
      ]
    },
    {
      "cell_type": "code",
      "execution_count": 232,
      "id": "0356e1aa",
      "metadata": {
        "id": "0356e1aa",
        "colab": {
          "base_uri": "https://localhost:8080/",
          "height": 406
        },
        "outputId": "aabcd0ad-69a2-4bfa-c1fb-f48c85f97b5a"
      },
      "outputs": [
        {
          "output_type": "execute_result",
          "data": {
            "text/plain": [
              "<matplotlib.axes._subplots.AxesSubplot at 0x7f189e833490>"
            ]
          },
          "metadata": {},
          "execution_count": 232
        },
        {
          "output_type": "display_data",
          "data": {
            "text/plain": [
              "<Figure size 720x432 with 1 Axes>"
            ],
            "image/png": "[encoded data removed]"
          },
          "metadata": {
            "needs_background": "light"
          }
        }
      ],
      "source": [
        "sns.boxplot(df.sqft_lot15)"
      ]
    },
    {
      "cell_type": "code",
      "source": [
        "from seaborn.utils import iqr\n",
        "\n",
        "list = [df.price,df.bedrooms,df.sqft_living,df.sqft_lot,df.sqft_lot15,df.sqft_living15]\n",
        "\n",
        "for i in list:\n",
        "  lowerlim=i.mean() - 2 * iqr(i)\n",
        "  upperlim=i.mean() + 2 * iqr(i)\n",
        "  not_out = (i >= lowerlim) & (i <= upperlim)\n",
        "  df=df[not_out]\n"
      ],
      "metadata": {
        "id": "ym3Pagsb2jXw"
      },
      "id": "ym3Pagsb2jXw",
      "execution_count": 233,
      "outputs": []
    },
    {
      "cell_type": "code",
      "source": [
        "df.shape"
      ],
      "metadata": {
        "colab": {
          "base_uri": "https://localhost:8080/"
        },
        "id": "kVZTwjwJLLMx",
        "outputId": "16b09453-93e0-4961-99ba-ea9392947566"
      },
      "id": "kVZTwjwJLLMx",
      "execution_count": 234,
      "outputs": [
        {
          "output_type": "execute_result",
          "data": {
            "text/plain": [
              "(15376, 21)"
            ]
          },
          "metadata": {},
          "execution_count": 234
        }
      ]
    },
    {
      "cell_type": "markdown",
      "id": "8efdaf8d",
      "metadata": {
        "id": "8efdaf8d"
      },
      "source": [
        "## Modeling"
      ]
    },
    {
      "cell_type": "code",
      "execution_count": 235,
      "id": "a20fc4e1",
      "metadata": {
        "id": "a20fc4e1",
        "outputId": "ac45c575-f944-4843-98ac-d0f97d8136a9",
        "colab": {
          "base_uri": "https://localhost:8080/",
          "height": 299
        }
      },
      "outputs": [
        {
          "output_type": "execute_result",
          "data": {
            "text/plain": [
              "      price  bedrooms  bathrooms  sqft_living  sqft_lot  floors  waterfront  \\\n",
              "0  221900.0         3       1.00         1180      5650     1.0           0   \n",
              "1  538000.0         3       2.25         2570      7242     2.0           0   \n",
              "2  180000.0         2       1.00          770     10000     1.0           0   \n",
              "3  604000.0         4       3.00         1960      5000     1.0           0   \n",
              "4  510000.0         3       2.00         1680      8080     1.0           0   \n",
              "\n",
              "   view  condition  grade  ...  zipcode_98146  zipcode_98148  zipcode_98155  \\\n",
              "0     0          3      7  ...              0              0              0   \n",
              "1     0          3      7  ...              0              0              0   \n",
              "2     0          3      6  ...              0              0              0   \n",
              "3     0          5      7  ...              0              0              0   \n",
              "4     0          3      8  ...              0              0              0   \n",
              "\n",
              "   zipcode_98166  zipcode_98168  zipcode_98177  zipcode_98178  zipcode_98188  \\\n",
              "0              0              0              0              1              0   \n",
              "1              0              0              0              0              0   \n",
              "2              0              0              0              0              0   \n",
              "3              0              0              0              0              0   \n",
              "4              0              0              0              0              0   \n",
              "\n",
              "   zipcode_98198  zipcode_98199  \n",
              "0              0              0  \n",
              "1              0              0  \n",
              "2              0              0  \n",
              "3              0              0  \n",
              "4              0              0  \n",
              "\n",
              "[5 rows x 89 columns]"
            ],
            "text/html": [
              "\n",
              "  <div id=\"df-af374bb2-e763-44c3-bdc2-7fe0a755c3e4\">\n",
              "    <div class=\"colab-df-container\">\n",
              "      <div>\n",
              "<style scoped>\n",
              "    .dataframe tbody tr th:only-of-type {\n",
              "        vertical-align: middle;\n",
              "    }\n",
              "\n",
              "    .dataframe tbody tr th {\n",
              "        vertical-align: top;\n",
              "    }\n",
              "\n",
              "    .dataframe thead th {\n",
              "        text-align: right;\n",
              "    }\n",
              "</style>\n",
              "<table border=\"1\" class=\"dataframe\">\n",
              "  <thead>\n",
              "    <tr style=\"text-align: right;\">\n",
              "      <th></th>\n",
              "      <th>price</th>\n",
              "      <th>bedrooms</th>\n",
              "      <th>bathrooms</th>\n",
              "      <th>sqft_living</th>\n",
              "      <th>sqft_lot</th>\n",
              "      <th>floors</th>\n",
              "      <th>waterfront</th>\n",
              "      <th>view</th>\n",
              "      <th>condition</th>\n",
              "      <th>grade</th>\n",
              "      <th>...</th>\n",
              "      <th>zipcode_98146</th>\n",
              "      <th>zipcode_98148</th>\n",
              "      <th>zipcode_98155</th>\n",
              "      <th>zipcode_98166</th>\n",
              "      <th>zipcode_98168</th>\n",
              "      <th>zipcode_98177</th>\n",
              "      <th>zipcode_98178</th>\n",
              "      <th>zipcode_98188</th>\n",
              "      <th>zipcode_98198</th>\n",
              "      <th>zipcode_98199</th>\n",
              "    </tr>\n",
              "  </thead>\n",
              "  <tbody>\n",
              "    <tr>\n",
              "      <th>0</th>\n",
              "      <td>221900.0</td>\n",
              "      <td>3</td>\n",
              "      <td>1.00</td>\n",
              "      <td>1180</td>\n",
              "      <td>5650</td>\n",
              "      <td>1.0</td>\n",
              "      <td>0</td>\n",
              "      <td>0</td>\n",
              "      <td>3</td>\n",
              "      <td>7</td>\n",
              "      <td>...</td>\n",
              "      <td>0</td>\n",
              "      <td>0</td>\n",
              "      <td>0</td>\n",
              "      <td>0</td>\n",
              "      <td>0</td>\n",
              "      <td>0</td>\n",
              "      <td>1</td>\n",
              "      <td>0</td>\n",
              "      <td>0</td>\n",
              "      <td>0</td>\n",
              "    </tr>\n",
              "    <tr>\n",
              "      <th>1</th>\n",
              "      <td>538000.0</td>\n",
              "      <td>3</td>\n",
              "      <td>2.25</td>\n",
              "      <td>2570</td>\n",
              "      <td>7242</td>\n",
              "      <td>2.0</td>\n",
              "      <td>0</td>\n",
              "      <td>0</td>\n",
              "      <td>3</td>\n",
              "      <td>7</td>\n",
              "      <td>...</td>\n",
              "      <td>0</td>\n",
              "      <td>0</td>\n",
              "      <td>0</td>\n",
              "      <td>0</td>\n",
              "      <td>0</td>\n",
              "      <td>0</td>\n",
              "      <td>0</td>\n",
              "      <td>0</td>\n",
              "      <td>0</td>\n",
              "      <td>0</td>\n",
              "    </tr>\n",
              "    <tr>\n",
              "      <th>2</th>\n",
              "      <td>180000.0</td>\n",
              "      <td>2</td>\n",
              "      <td>1.00</td>\n",
              "      <td>770</td>\n",
              "      <td>10000</td>\n",
              "      <td>1.0</td>\n",
              "      <td>0</td>\n",
              "      <td>0</td>\n",
              "      <td>3</td>\n",
              "      <td>6</td>\n",
              "      <td>...</td>\n",
              "      <td>0</td>\n",
              "      <td>0</td>\n",
              "      <td>0</td>\n",
              "      <td>0</td>\n",
              "      <td>0</td>\n",
              "      <td>0</td>\n",
              "      <td>0</td>\n",
              "      <td>0</td>\n",
              "      <td>0</td>\n",
              "      <td>0</td>\n",
              "    </tr>\n",
              "    <tr>\n",
              "      <th>3</th>\n",
              "      <td>604000.0</td>\n",
              "      <td>4</td>\n",
              "      <td>3.00</td>\n",
              "      <td>1960</td>\n",
              "      <td>5000</td>\n",
              "      <td>1.0</td>\n",
              "      <td>0</td>\n",
              "      <td>0</td>\n",
              "      <td>5</td>\n",
              "      <td>7</td>\n",
              "      <td>...</td>\n",
              "      <td>0</td>\n",
              "      <td>0</td>\n",
              "      <td>0</td>\n",
              "      <td>0</td>\n",
              "      <td>0</td>\n",
              "      <td>0</td>\n",
              "      <td>0</td>\n",
              "      <td>0</td>\n",
              "      <td>0</td>\n",
              "      <td>0</td>\n",
              "    </tr>\n",
              "    <tr>\n",
              "      <th>4</th>\n",
              "      <td>510000.0</td>\n",
              "      <td>3</td>\n",
              "      <td>2.00</td>\n",
              "      <td>1680</td>\n",
              "      <td>8080</td>\n",
              "      <td>1.0</td>\n",
              "      <td>0</td>\n",
              "      <td>0</td>\n",
              "      <td>3</td>\n",
              "      <td>8</td>\n",
              "      <td>...</td>\n",
              "      <td>0</td>\n",
              "      <td>0</td>\n",
              "      <td>0</td>\n",
              "      <td>0</td>\n",
              "      <td>0</td>\n",
              "      <td>0</td>\n",
              "      <td>0</td>\n",
              "      <td>0</td>\n",
              "      <td>0</td>\n",
              "      <td>0</td>\n",
              "    </tr>\n",
              "  </tbody>\n",
              "</table>\n",
              "<p>5 rows × 89 columns</p>\n",
              "</div>\n",
              "      <button class=\"colab-df-convert\" onclick=\"convertToInteractive('df-af374bb2-e763-44c3-bdc2-7fe0a755c3e4')\"\n",
              "              title=\"Convert this dataframe to an interactive table.\"\n",
              "              style=\"display:none;\">\n",
              "        \n",
              "  <svg xmlns=\"http://www.w3.org/2000/svg\" height=\"24px\"viewBox=\"0 0 24 24\"\n",
              "       width=\"24px\">\n",
              "    <path d=\"M0 0h24v24H0V0z\" fill=\"none\"/>\n",
              "    <path d=\"M18.56 5.44l.94 2.06.94-2.06 2.06-.94-2.06-.94-.94-2.06-.94 2.06-2.06.94zm-11 1L8.5 8.5l.94-2.06 2.06-.94-2.06-.94L8.5 2.5l-.94 2.06-2.06.94zm10 10l.94 2.06.94-2.06 2.06-.94-2.06-.94-.94-2.06-.94 2.06-2.06.94z\"/><path d=\"M17.41 7.96l-1.37-1.37c-.4-.4-.92-.59-1.43-.59-.52 0-1.04.2-1.43.59L10.3 9.45l-7.72 7.72c-.78.78-.78 2.05 0 2.83L4 21.41c.39.39.9.59 1.41.59.51 0 1.02-.2 1.41-.59l7.78-7.78 2.81-2.81c.8-.78.8-2.07 0-2.86zM5.41 20L4 18.59l7.72-7.72 1.47 1.35L5.41 20z\"/>\n",
              "  </svg>\n",
              "      </button>\n",
              "      \n",
              "  <style>\n",
              "    .colab-df-container {\n",
              "      display:flex;\n",
              "      flex-wrap:wrap;\n",
              "      gap: 12px;\n",
              "    }\n",
              "\n",
              "    .colab-df-convert {\n",
              "      background-color: #E8F0FE;\n",
              "      border: none;\n",
              "      border-radius: 50%;\n",
              "      cursor: pointer;\n",
              "      display: none;\n",
              "      fill: #1967D2;\n",
              "      height: 32px;\n",
              "      padding: 0 0 0 0;\n",
              "      width: 32px;\n",
              "    }\n",
              "\n",
              "    .colab-df-convert:hover {\n",
              "      background-color: #E2EBFA;\n",
              "      box-shadow: 0px 1px 2px rgba(60, 64, 67, 0.3), 0px 1px 3px 1px rgba(60, 64, 67, 0.15);\n",
              "      fill: #174EA6;\n",
              "    }\n",
              "\n",
              "    [theme=dark] .colab-df-convert {\n",
              "      background-color: #3B4455;\n",
              "      fill: #D2E3FC;\n",
              "    }\n",
              "\n",
              "    [theme=dark] .colab-df-convert:hover {\n",
              "      background-color: #434B5C;\n",
              "      box-shadow: 0px 1px 3px 1px rgba(0, 0, 0, 0.15);\n",
              "      filter: drop-shadow(0px 1px 2px rgba(0, 0, 0, 0.3));\n",
              "      fill: #FFFFFF;\n",
              "    }\n",
              "  </style>\n",
              "\n",
              "      <script>\n",
              "        const buttonEl =\n",
              "          document.querySelector('#df-af374bb2-e763-44c3-bdc2-7fe0a755c3e4 button.colab-df-convert');\n",
              "        buttonEl.style.display =\n",
              "          google.colab.kernel.accessAllowed ? 'block' : 'none';\n",
              "\n",
              "        async function convertToInteractive(key) {\n",
              "          const element = document.querySelector('#df-af374bb2-e763-44c3-bdc2-7fe0a755c3e4');\n",
              "          const dataTable =\n",
              "            await google.colab.kernel.invokeFunction('convertToInteractive',\n",
              "                                                     [key], {});\n",
              "          if (!dataTable) return;\n",
              "\n",
              "          const docLinkHtml = 'Like what you see? Visit the ' +\n",
              "            '<a target=\"_blank\" href=https://colab.research.google.com/notebooks/data_table.ipynb>data table notebook</a>'\n",
              "            + ' to learn more about interactive tables.';\n",
              "          element.innerHTML = '';\n",
              "          dataTable['output_type'] = 'display_data';\n",
              "          await google.colab.output.renderOutput(dataTable, element);\n",
              "          const docLink = document.createElement('div');\n",
              "          docLink.innerHTML = docLinkHtml;\n",
              "          element.appendChild(docLink);\n",
              "        }\n",
              "      </script>\n",
              "    </div>\n",
              "  </div>\n",
              "  "
            ]
          },
          "metadata": {},
          "execution_count": 235
        }
      ],
      "source": [
        "df = pd.get_dummies(df,drop_first=True)\n",
        "df.head()"
      ]
    },
    {
      "cell_type": "code",
      "execution_count": 236,
      "id": "7bf7bf78",
      "metadata": {
        "id": "7bf7bf78",
        "outputId": "588e96c6-2f82-42cf-989d-5785dbb7dab0",
        "colab": {
          "base_uri": "https://localhost:8080/"
        }
      },
      "outputs": [
        {
          "output_type": "execute_result",
          "data": {
            "text/plain": [
              "Index(['price', 'bedrooms', 'bathrooms', 'sqft_living', 'sqft_lot', 'floors',\n",
              "       'waterfront', 'view', 'condition', 'grade', 'sqft_above',\n",
              "       'sqft_basement', 'yr_built', 'yr_renovated', 'lat', 'long',\n",
              "       'sqft_living15', 'sqft_lot15', 'age', 'sales_year', 'zipcode_98002',\n",
              "       'zipcode_98003', 'zipcode_98004', 'zipcode_98005', 'zipcode_98006',\n",
              "       'zipcode_98007', 'zipcode_98008', 'zipcode_98010', 'zipcode_98011',\n",
              "       'zipcode_98014', 'zipcode_98019', 'zipcode_98022', 'zipcode_98023',\n",
              "       'zipcode_98024', 'zipcode_98027', 'zipcode_98028', 'zipcode_98029',\n",
              "       'zipcode_98030', 'zipcode_98031', 'zipcode_98032', 'zipcode_98033',\n",
              "       'zipcode_98034', 'zipcode_98038', 'zipcode_98039', 'zipcode_98040',\n",
              "       'zipcode_98042', 'zipcode_98045', 'zipcode_98052', 'zipcode_98053',\n",
              "       'zipcode_98055', 'zipcode_98056', 'zipcode_98058', 'zipcode_98059',\n",
              "       'zipcode_98065', 'zipcode_98070', 'zipcode_98072', 'zipcode_98074',\n",
              "       'zipcode_98075', 'zipcode_98077', 'zipcode_98092', 'zipcode_98102',\n",
              "       'zipcode_98103', 'zipcode_98105', 'zipcode_98106', 'zipcode_98107',\n",
              "       'zipcode_98108', 'zipcode_98109', 'zipcode_98112', 'zipcode_98115',\n",
              "       'zipcode_98116', 'zipcode_98117', 'zipcode_98118', 'zipcode_98119',\n",
              "       'zipcode_98122', 'zipcode_98125', 'zipcode_98126', 'zipcode_98133',\n",
              "       'zipcode_98136', 'zipcode_98144', 'zipcode_98146', 'zipcode_98148',\n",
              "       'zipcode_98155', 'zipcode_98166', 'zipcode_98168', 'zipcode_98177',\n",
              "       'zipcode_98178', 'zipcode_98188', 'zipcode_98198', 'zipcode_98199'],\n",
              "      dtype='object')"
            ]
          },
          "metadata": {},
          "execution_count": 236
        }
      ],
      "source": [
        "df.columns"
      ]
    },
    {
      "cell_type": "code",
      "execution_count": 237,
      "id": "2ba68601",
      "metadata": {
        "colab": {
          "base_uri": "https://localhost:8080/"
        },
        "id": "2ba68601",
        "outputId": "7d488a06-a018-4deb-c6e0-46fdb3a87f4b"
      },
      "outputs": [
        {
          "output_type": "execute_result",
          "data": {
            "text/plain": [
              "(15376, 89)"
            ]
          },
          "metadata": {},
          "execution_count": 237
        }
      ],
      "source": [
        "df.shape"
      ]
    },
    {
      "cell_type": "code",
      "execution_count": 238,
      "id": "05fd7eed",
      "metadata": {
        "id": "05fd7eed"
      },
      "outputs": [],
      "source": [
        "x =df.drop(columns=\"price\") \n",
        "y = df[\"price\"]   "
      ]
    },
    {
      "cell_type": "code",
      "execution_count": 239,
      "id": "98a42b94",
      "metadata": {
        "id": "98a42b94"
      },
      "outputs": [],
      "source": [
        "x_train,x_test,y_train,y_test = train_test_split(x,y,test_size=0.20,random_state=42)"
      ]
    },
    {
      "cell_type": "code",
      "execution_count": 240,
      "id": "e89d3ce0",
      "metadata": {
        "colab": {
          "base_uri": "https://localhost:8080/"
        },
        "id": "e89d3ce0",
        "outputId": "dcec8c41-dd7f-4b8e-bafd-97549c5ebea8"
      },
      "outputs": [
        {
          "output_type": "execute_result",
          "data": {
            "text/plain": [
              "((12300, 88), (3076, 88))"
            ]
          },
          "metadata": {},
          "execution_count": 240
        }
      ],
      "source": [
        "x_train.shape,x_test.shape"
      ]
    },
    {
      "cell_type": "code",
      "execution_count": 241,
      "id": "a735e2bd",
      "metadata": {
        "id": "a735e2bd"
      },
      "outputs": [],
      "source": [
        "lr=LinearRegression()"
      ]
    },
    {
      "cell_type": "code",
      "execution_count": 242,
      "id": "ec0dcff6",
      "metadata": {
        "id": "ec0dcff6"
      },
      "outputs": [],
      "source": [
        "model = lr.fit(x_train,y_train)"
      ]
    },
    {
      "cell_type": "code",
      "execution_count": 243,
      "id": "bf713787",
      "metadata": {
        "id": "bf713787"
      },
      "outputs": [],
      "source": [
        "y_pred=model.predict(x_test)"
      ]
    },
    {
      "cell_type": "code",
      "execution_count": 244,
      "id": "e719bc1f",
      "metadata": {
        "colab": {
          "base_uri": "https://localhost:8080/"
        },
        "id": "e719bc1f",
        "outputId": "2ce3f2fc-28f7-46da-872e-bb57b3affa49"
      },
      "outputs": [
        {
          "output_type": "execute_result",
          "data": {
            "text/plain": [
              "79884.85618072226"
            ]
          },
          "metadata": {},
          "execution_count": 244
        }
      ],
      "source": [
        "(mean_squared_error(y_pred,y_test))**.5"
      ]
    },
    {
      "cell_type": "code",
      "execution_count": 245,
      "id": "95a08b2c",
      "metadata": {
        "colab": {
          "base_uri": "https://localhost:8080/"
        },
        "id": "95a08b2c",
        "outputId": "c0fff74c-3361-4543-8cac-ca0b2d723e5f"
      },
      "outputs": [
        {
          "output_type": "execute_result",
          "data": {
            "text/plain": [
              "0.8356405697196941"
            ]
          },
          "metadata": {},
          "execution_count": 245
        }
      ],
      "source": [
        "r2_score(y_pred,y_test)  #r2 eksi çıkarsa büyük bir hata vardır."
      ]
    },
    {
      "cell_type": "code",
      "execution_count": 246,
      "id": "6db858e4",
      "metadata": {
        "id": "6db858e4"
      },
      "outputs": [],
      "source": [
        "R = Ridge()\n",
        "L = Lasso()"
      ]
    },
    {
      "cell_type": "code",
      "execution_count": 247,
      "id": "04134e48",
      "metadata": {
        "colab": {
          "base_uri": "https://localhost:8080/"
        },
        "id": "04134e48",
        "outputId": "a70c0eef-d267-4234-f2eb-0c3f6376a83c"
      },
      "outputs": [
        {
          "output_type": "execute_result",
          "data": {
            "text/plain": [
              "0.8356385209119385"
            ]
          },
          "metadata": {},
          "execution_count": 247
        }
      ],
      "source": [
        "R.fit(x_train,y_train)\n",
        "tahmin2=R.predict(x_test)\n",
        "\n",
        "L.fit(x_train,y_train)\n",
        "tahmin3=L.predict(x_test)\n",
        "\n",
        "mean_squared_error(tahmin3,y_test)**.5\n",
        "\n",
        "r2_score(tahmin3,y_test)"
      ]
    },
    {
      "cell_type": "code",
      "source": [
        "## EXTRA WORKS to CHECK"
      ],
      "metadata": {
        "id": "K_C38tUj3PHS"
      },
      "id": "K_C38tUj3PHS",
      "execution_count": 248,
      "outputs": []
    },
    {
      "cell_type": "code",
      "source": [
        "from sklearn.preprocessing import StandardScaler\n",
        "scaler = StandardScaler()\n",
        "scaler.fit(x_train)\n",
        "x_train_scaled = scaler.transform(x_train)  "
      ],
      "metadata": {
        "id": "fQOatiRWqq2Y"
      },
      "id": "fQOatiRWqq2Y",
      "execution_count": 249,
      "outputs": []
    },
    {
      "cell_type": "code",
      "execution_count": 250,
      "id": "62f7058e",
      "metadata": {
        "id": "62f7058e"
      },
      "outputs": [],
      "source": [
        "from sklearn.model_selection import cross_validate, cross_val_score\n",
        "model = LinearRegression()\n",
        "scores = cross_validate(model, x_train_scaled, y_train, scoring = ['r2', 'neg_mean_absolute_error','neg_mean_squared_error', \\\n",
        "                                                            'neg_root_mean_squared_error'], cv = 5)"
      ]
    },
    {
      "cell_type": "code",
      "source": [
        "scores"
      ],
      "metadata": {
        "id": "qJ5SONk1rQY0",
        "outputId": "b99f8aaf-a278-43b2-e89d-c004f0b2752a",
        "colab": {
          "base_uri": "https://localhost:8080/"
        }
      },
      "id": "qJ5SONk1rQY0",
      "execution_count": 251,
      "outputs": [
        {
          "output_type": "execute_result",
          "data": {
            "text/plain": [
              "{'fit_time': array([0.03393078, 0.03240919, 0.0318222 , 0.03220797, 0.03510547]),\n",
              " 'score_time': array([0.0015614 , 0.00161171, 0.0015707 , 0.00149512, 0.00181103]),\n",
              " 'test_r2': array([0.84606814, 0.85855808, 0.85094407, 0.85101304, 0.86375045]),\n",
              " 'test_neg_mean_absolute_error': array([-58912.20917038, -56966.91684356, -58634.76217154, -59306.91347232,\n",
              "        -56939.03730927]),\n",
              " 'test_neg_mean_squared_error': array([-6.70757678e+09, -6.43272277e+09, -6.55182643e+09, -6.67937770e+09,\n",
              "        -6.05122205e+09]),\n",
              " 'test_neg_root_mean_squared_error': array([-81899.79716197, -80204.25658552, -80943.35319697, -81727.45991987,\n",
              "        -77789.60117843])}"
            ]
          },
          "metadata": {},
          "execution_count": 251
        }
      ]
    },
    {
      "cell_type": "code",
      "source": [
        "scores = pd.DataFrame(scores, index = range(1,6))\n",
        "scores"
      ],
      "metadata": {
        "colab": {
          "base_uri": "https://localhost:8080/",
          "height": 206
        },
        "id": "AnA6UtZGraDI",
        "outputId": "1d6aea9d-fc15-409a-d821-4f88ac4b8b02"
      },
      "id": "AnA6UtZGraDI",
      "execution_count": 252,
      "outputs": [
        {
          "output_type": "execute_result",
          "data": {
            "text/plain": [
              "   fit_time  score_time   test_r2  test_neg_mean_absolute_error  \\\n",
              "1  0.033931    0.001561  0.846068                 -58912.209170   \n",
              "2  0.032409    0.001612  0.858558                 -56966.916844   \n",
              "3  0.031822    0.001571  0.850944                 -58634.762172   \n",
              "4  0.032208    0.001495  0.851013                 -59306.913472   \n",
              "5  0.035105    0.001811  0.863750                 -56939.037309   \n",
              "\n",
              "   test_neg_mean_squared_error  test_neg_root_mean_squared_error  \n",
              "1                -6.707577e+09                     -81899.797162  \n",
              "2                -6.432723e+09                     -80204.256586  \n",
              "3                -6.551826e+09                     -80943.353197  \n",
              "4                -6.679378e+09                     -81727.459920  \n",
              "5                -6.051222e+09                     -77789.601178  "
            ],
            "text/html": [
              "\n",
              "  <div id=\"df-e2b396c0-e361-435b-b6fc-f06d3e68f0ba\">\n",
              "    <div class=\"colab-df-container\">\n",
              "      <div>\n",
              "<style scoped>\n",
              "    .dataframe tbody tr th:only-of-type {\n",
              "        vertical-align: middle;\n",
              "    }\n",
              "\n",
              "    .dataframe tbody tr th {\n",
              "        vertical-align: top;\n",
              "    }\n",
              "\n",
              "    .dataframe thead th {\n",
              "        text-align: right;\n",
              "    }\n",
              "</style>\n",
              "<table border=\"1\" class=\"dataframe\">\n",
              "  <thead>\n",
              "    <tr style=\"text-align: right;\">\n",
              "      <th></th>\n",
              "      <th>fit_time</th>\n",
              "      <th>score_time</th>\n",
              "      <th>test_r2</th>\n",
              "      <th>test_neg_mean_absolute_error</th>\n",
              "      <th>test_neg_mean_squared_error</th>\n",
              "      <th>test_neg_root_mean_squared_error</th>\n",
              "    </tr>\n",
              "  </thead>\n",
              "  <tbody>\n",
              "    <tr>\n",
              "      <th>1</th>\n",
              "      <td>0.033931</td>\n",
              "      <td>0.001561</td>\n",
              "      <td>0.846068</td>\n",
              "      <td>-58912.209170</td>\n",
              "      <td>-6.707577e+09</td>\n",
              "      <td>-81899.797162</td>\n",
              "    </tr>\n",
              "    <tr>\n",
              "      <th>2</th>\n",
              "      <td>0.032409</td>\n",
              "      <td>0.001612</td>\n",
              "      <td>0.858558</td>\n",
              "      <td>-56966.916844</td>\n",
              "      <td>-6.432723e+09</td>\n",
              "      <td>-80204.256586</td>\n",
              "    </tr>\n",
              "    <tr>\n",
              "      <th>3</th>\n",
              "      <td>0.031822</td>\n",
              "      <td>0.001571</td>\n",
              "      <td>0.850944</td>\n",
              "      <td>-58634.762172</td>\n",
              "      <td>-6.551826e+09</td>\n",
              "      <td>-80943.353197</td>\n",
              "    </tr>\n",
              "    <tr>\n",
              "      <th>4</th>\n",
              "      <td>0.032208</td>\n",
              "      <td>0.001495</td>\n",
              "      <td>0.851013</td>\n",
              "      <td>-59306.913472</td>\n",
              "      <td>-6.679378e+09</td>\n",
              "      <td>-81727.459920</td>\n",
              "    </tr>\n",
              "    <tr>\n",
              "      <th>5</th>\n",
              "      <td>0.035105</td>\n",
              "      <td>0.001811</td>\n",
              "      <td>0.863750</td>\n",
              "      <td>-56939.037309</td>\n",
              "      <td>-6.051222e+09</td>\n",
              "      <td>-77789.601178</td>\n",
              "    </tr>\n",
              "  </tbody>\n",
              "</table>\n",
              "</div>\n",
              "      <button class=\"colab-df-convert\" onclick=\"convertToInteractive('df-e2b396c0-e361-435b-b6fc-f06d3e68f0ba')\"\n",
              "              title=\"Convert this dataframe to an interactive table.\"\n",
              "              style=\"display:none;\">\n",
              "        \n",
              "  <svg xmlns=\"http://www.w3.org/2000/svg\" height=\"24px\"viewBox=\"0 0 24 24\"\n",
              "       width=\"24px\">\n",
              "    <path d=\"M0 0h24v24H0V0z\" fill=\"none\"/>\n",
              "    <path d=\"M18.56 5.44l.94 2.06.94-2.06 2.06-.94-2.06-.94-.94-2.06-.94 2.06-2.06.94zm-11 1L8.5 8.5l.94-2.06 2.06-.94-2.06-.94L8.5 2.5l-.94 2.06-2.06.94zm10 10l.94 2.06.94-2.06 2.06-.94-2.06-.94-.94-2.06-.94 2.06-2.06.94z\"/><path d=\"M17.41 7.96l-1.37-1.37c-.4-.4-.92-.59-1.43-.59-.52 0-1.04.2-1.43.59L10.3 9.45l-7.72 7.72c-.78.78-.78 2.05 0 2.83L4 21.41c.39.39.9.59 1.41.59.51 0 1.02-.2 1.41-.59l7.78-7.78 2.81-2.81c.8-.78.8-2.07 0-2.86zM5.41 20L4 18.59l7.72-7.72 1.47 1.35L5.41 20z\"/>\n",
              "  </svg>\n",
              "      </button>\n",
              "      \n",
              "  <style>\n",
              "    .colab-df-container {\n",
              "      display:flex;\n",
              "      flex-wrap:wrap;\n",
              "      gap: 12px;\n",
              "    }\n",
              "\n",
              "    .colab-df-convert {\n",
              "      background-color: #E8F0FE;\n",
              "      border: none;\n",
              "      border-radius: 50%;\n",
              "      cursor: pointer;\n",
              "      display: none;\n",
              "      fill: #1967D2;\n",
              "      height: 32px;\n",
              "      padding: 0 0 0 0;\n",
              "      width: 32px;\n",
              "    }\n",
              "\n",
              "    .colab-df-convert:hover {\n",
              "      background-color: #E2EBFA;\n",
              "      box-shadow: 0px 1px 2px rgba(60, 64, 67, 0.3), 0px 1px 3px 1px rgba(60, 64, 67, 0.15);\n",
              "      fill: #174EA6;\n",
              "    }\n",
              "\n",
              "    [theme=dark] .colab-df-convert {\n",
              "      background-color: #3B4455;\n",
              "      fill: #D2E3FC;\n",
              "    }\n",
              "\n",
              "    [theme=dark] .colab-df-convert:hover {\n",
              "      background-color: #434B5C;\n",
              "      box-shadow: 0px 1px 3px 1px rgba(0, 0, 0, 0.15);\n",
              "      filter: drop-shadow(0px 1px 2px rgba(0, 0, 0, 0.3));\n",
              "      fill: #FFFFFF;\n",
              "    }\n",
              "  </style>\n",
              "\n",
              "      <script>\n",
              "        const buttonEl =\n",
              "          document.querySelector('#df-e2b396c0-e361-435b-b6fc-f06d3e68f0ba button.colab-df-convert');\n",
              "        buttonEl.style.display =\n",
              "          google.colab.kernel.accessAllowed ? 'block' : 'none';\n",
              "\n",
              "        async function convertToInteractive(key) {\n",
              "          const element = document.querySelector('#df-e2b396c0-e361-435b-b6fc-f06d3e68f0ba');\n",
              "          const dataTable =\n",
              "            await google.colab.kernel.invokeFunction('convertToInteractive',\n",
              "                                                     [key], {});\n",
              "          if (!dataTable) return;\n",
              "\n",
              "          const docLinkHtml = 'Like what you see? Visit the ' +\n",
              "            '<a target=\"_blank\" href=https://colab.research.google.com/notebooks/data_table.ipynb>data table notebook</a>'\n",
              "            + ' to learn more about interactive tables.';\n",
              "          element.innerHTML = '';\n",
              "          dataTable['output_type'] = 'display_data';\n",
              "          await google.colab.output.renderOutput(dataTable, element);\n",
              "          const docLink = document.createElement('div');\n",
              "          docLink.innerHTML = docLinkHtml;\n",
              "          element.appendChild(docLink);\n",
              "        }\n",
              "      </script>\n",
              "    </div>\n",
              "  </div>\n",
              "  "
            ]
          },
          "metadata": {},
          "execution_count": 252
        }
      ]
    },
    {
      "cell_type": "code",
      "source": [
        "scores.iloc[0]"
      ],
      "metadata": {
        "colab": {
          "base_uri": "https://localhost:8080/"
        },
        "id": "c42SDDvo4d6T",
        "outputId": "135133cc-7c6b-4dd2-8967-27787e78d901"
      },
      "id": "c42SDDvo4d6T",
      "execution_count": 253,
      "outputs": [
        {
          "output_type": "execute_result",
          "data": {
            "text/plain": [
              "fit_time                            3.393078e-02\n",
              "score_time                          1.561403e-03\n",
              "test_r2                             8.460681e-01\n",
              "test_neg_mean_absolute_error       -5.891221e+04\n",
              "test_neg_mean_squared_error        -6.707577e+09\n",
              "test_neg_root_mean_squared_error   -8.189980e+04\n",
              "Name: 1, dtype: float64"
            ]
          },
          "metadata": {},
          "execution_count": 253
        }
      ]
    },
    {
      "cell_type": "code",
      "execution_count": 254,
      "id": "b36ce43a",
      "metadata": {
        "id": "b36ce43a"
      },
      "outputs": [],
      "source": [
        "#hedef rmse < 100000dolar\n",
        "#r2 >=0.8"
      ]
    }
  ],
  "metadata": {
    "kernelspec": {
      "display_name": "Python 3 (ipykernel)",
      "language": "python",
      "name": "python3"
    },
    "language_info": {
      "codemirror_mode": {
        "name": "ipython",
        "version": 3
      },
      "file_extension": ".py",
      "mimetype": "text/x-python",
      "name": "python",
      "nbconvert_exporter": "python",
      "pygments_lexer": "ipython3",
      "version": "3.10.5"
    },
    "colab": {
      "name": "Predict_House_Lastversion.ipynb",
      "provenance": [],
      "collapsed_sections": [
        "08530a08",
        "7ff31ebf",
        "93e6c294",
        "3e78410a",
        "ed332e10"
      ]
    }
  },
  "nbformat": 4,
  "nbformat_minor": 5
}