{
  "cells": [
    {
      "cell_type": "markdown",
      "metadata": {
        "id": "OJMvVT2agMVU"
      },
      "source": [
        "<img src=https://i.ibb.co/wJW61Y2/Used-cars.jpg width=\"700\" height=\"200\">\n",
        "\n",
        "## <p style=\"background-color:#FDFEFE; font-family:newtimeroman; color:#060108; font-size:200%; text-align:center; border-radius:10px 10px;\">The Capstone Project of Data Analytics</p>\n",
        "\n",
        "## <p style=\"background-color:#FDFEFE; font-family:newtimeroman; color:#060108; font-size:150%; text-align:center; border-radius:10px 10px;\">Car Price Prediction EDA</p>"
      ]
    },
    {
      "cell_type": "markdown",
      "metadata": {
        "id": "cE2x9pVggMVW"
      },
      "source": [
        "## Introduction\n",
        "**Auto Scout** data which using for this project, scraped from the on-line car trading company in 2019, contains many features of 9 different car models.\n",
        "\n",
        "The project consists of 3 parts:\n",
        "* First part is related with 'data cleaning'. It deals with Incorrect Headers, Incorrect Format, Anomalies, Dropping useless columns.\n",
        "* Second part is related with 'filling data'. It deals with Missing Values. Categorical to numeric transformation is done.\n",
        "* Third part is related with 'handling outliers of data' via Visualisation libraries. Some insights are extracted.\n"
      ]
    },
    {
      "cell_type": "code",
      "execution_count": null,
      "metadata": {
        "id": "s20zBkVC1cyh"
      },
      "outputs": [],
      "source": [
        "#pip install skimpy --user"
      ]
    },
    {
      "cell_type": "code",
      "execution_count": null,
      "metadata": {
        "id": "8PQ4SNc81c1V"
      },
      "outputs": [],
      "source": [
        "import numpy as np\n",
        "import pandas as pd\n",
        "import seaborn as sns \n",
        "import matplotlib.pyplot as plt\n",
        "#from skimpy import clean_columns\n",
        "\n",
        "import warnings\n",
        "warnings.filterwarnings(\"ignore\")\n",
        "warnings.warn(\"this will not show\")\n",
        "\n",
        "%matplotlib inline\n",
        "# %matplotlib notebook\n",
        "\n",
        "plt.rcParams[\"figure.figsize\"] = (10,6)\n",
        "# plt.rcParams['figure.dpi'] = 100\n",
        "\n",
        "sns.set_style(\"whitegrid\")\n",
        "pd.set_option('display.float_format', lambda x: '%.2f' % x)\n",
        "\n",
        "pd.options.display.max_rows = 100\n",
        "pd.options.display.max_columns = 100"
      ]
    },
    {
      "cell_type": "markdown",
      "metadata": {
        "id": "TWIZX4OOgMVX"
      },
      "source": [
        "# PART- 1 `( Data Cleaning )`\n",
        "\n",
        "\n",
        "\n"
      ]
    },
    {
      "cell_type": "code",
      "execution_count": null,
      "metadata": {
        "id": "CtSKn8PPgMVY"
      },
      "outputs": [],
      "source": [
        "df=pd.read_json(\"../OneDrive/Masaüstü/scout_car.json\",lines=True)"
      ]
    },
    {
      "cell_type": "code",
      "execution_count": null,
      "metadata": {
        "colab": {
          "base_uri": "https://localhost:8080/",
          "height": 1000
        },
        "id": "Em-DQbIz3bWv",
        "outputId": "72603ca6-6803-476f-9e0f-9a7a21755d99"
      },
      "outputs": [
        {
          "data": {
            "text/html": [
              "<div>\n",
              "<style scoped>\n",
              "    .dataframe tbody tr th:only-of-type {\n",
              "        vertical-align: middle;\n",
              "    }\n",
              "\n",
              "    .dataframe tbody tr th {\n",
              "        vertical-align: top;\n",
              "    }\n",
              "\n",
              "    .dataframe thead th {\n",
              "        text-align: right;\n",
              "    }\n",
              "</style>\n",
              "<table border=\"1\" class=\"dataframe\">\n",
              "  <thead>\n",
              "    <tr style=\"text-align: right;\">\n",
              "      <th></th>\n",
              "      <th>0</th>\n",
              "      <th>1</th>\n",
              "      <th>2</th>\n",
              "    </tr>\n",
              "  </thead>\n",
              "  <tbody>\n",
              "    <tr>\n",
              "      <th>url</th>\n",
              "      <td>https://www.autoscout24.com//offers/audi-a1-sp...</td>\n",
              "      <td>https://www.autoscout24.com//offers/audi-a1-1-...</td>\n",
              "      <td>https://www.autoscout24.com//offers/audi-a1-sp...</td>\n",
              "    </tr>\n",
              "    <tr>\n",
              "      <th>make_model</th>\n",
              "      <td>Audi A1</td>\n",
              "      <td>Audi A1</td>\n",
              "      <td>Audi A1</td>\n",
              "    </tr>\n",
              "    <tr>\n",
              "      <th>short_description</th>\n",
              "      <td>Sportback 1.4 TDI S-tronic Xenon Navi Klima</td>\n",
              "      <td>1.8 TFSI sport</td>\n",
              "      <td>Sportback 1.6 TDI S tronic Einparkhilfe plus+m...</td>\n",
              "    </tr>\n",
              "    <tr>\n",
              "      <th>body_type</th>\n",
              "      <td>Sedans</td>\n",
              "      <td>Sedans</td>\n",
              "      <td>Sedans</td>\n",
              "    </tr>\n",
              "    <tr>\n",
              "      <th>price</th>\n",
              "      <td>15770</td>\n",
              "      <td>14500</td>\n",
              "      <td>14640</td>\n",
              "    </tr>\n",
              "    <tr>\n",
              "      <th>vat</th>\n",
              "      <td>VAT deductible</td>\n",
              "      <td>Price negotiable</td>\n",
              "      <td>VAT deductible</td>\n",
              "    </tr>\n",
              "    <tr>\n",
              "      <th>km</th>\n",
              "      <td>56,013 km</td>\n",
              "      <td>80,000 km</td>\n",
              "      <td>83,450 km</td>\n",
              "    </tr>\n",
              "    <tr>\n",
              "      <th>registration</th>\n",
              "      <td>01/2016</td>\n",
              "      <td>03/2017</td>\n",
              "      <td>02/2016</td>\n",
              "    </tr>\n",
              "    <tr>\n",
              "      <th>prev_owner</th>\n",
              "      <td>2 previous owners</td>\n",
              "      <td>None</td>\n",
              "      <td>1 previous owner</td>\n",
              "    </tr>\n",
              "    <tr>\n",
              "      <th>kW</th>\n",
              "      <td>NaN</td>\n",
              "      <td>NaN</td>\n",
              "      <td>NaN</td>\n",
              "    </tr>\n",
              "    <tr>\n",
              "      <th>hp</th>\n",
              "      <td>66 kW</td>\n",
              "      <td>141 kW</td>\n",
              "      <td>85 kW</td>\n",
              "    </tr>\n",
              "    <tr>\n",
              "      <th>Type</th>\n",
              "      <td>[, Used, , Diesel (Particulate Filter)]</td>\n",
              "      <td>[, Used, , Gasoline]</td>\n",
              "      <td>[, Used, , Diesel (Particulate Filter)]</td>\n",
              "    </tr>\n",
              "    <tr>\n",
              "      <th>Previous Owners</th>\n",
              "      <td>\\n2\\n</td>\n",
              "      <td>NaN</td>\n",
              "      <td>\\n1\\n</td>\n",
              "    </tr>\n",
              "    <tr>\n",
              "      <th>Next Inspection</th>\n",
              "      <td>[\\n06/2021\\n, \\n99 g CO2/km (comb)\\n]</td>\n",
              "      <td>NaN</td>\n",
              "      <td>NaN</td>\n",
              "    </tr>\n",
              "    <tr>\n",
              "      <th>Inspection new</th>\n",
              "      <td>[\\nYes\\n, \\nEuro 6\\n]</td>\n",
              "      <td>NaN</td>\n",
              "      <td>NaN</td>\n",
              "    </tr>\n",
              "    <tr>\n",
              "      <th>Warranty</th>\n",
              "      <td>[\\n, \\n, \\n4 (Green)\\n]</td>\n",
              "      <td>NaN</td>\n",
              "      <td>[\\n, \\n, \\n99 g CO2/km (comb)\\n]</td>\n",
              "    </tr>\n",
              "    <tr>\n",
              "      <th>Full Service</th>\n",
              "      <td>[\\n, \\n]</td>\n",
              "      <td>NaN</td>\n",
              "      <td>NaN</td>\n",
              "    </tr>\n",
              "    <tr>\n",
              "      <th>Non-smoking Vehicle</th>\n",
              "      <td>[\\n, \\n]</td>\n",
              "      <td>NaN</td>\n",
              "      <td>NaN</td>\n",
              "    </tr>\n",
              "    <tr>\n",
              "      <th>null</th>\n",
              "      <td>[]</td>\n",
              "      <td>[]</td>\n",
              "      <td>[]</td>\n",
              "    </tr>\n",
              "    <tr>\n",
              "      <th>Make</th>\n",
              "      <td>\\nAudi\\n</td>\n",
              "      <td>\\nAudi\\n</td>\n",
              "      <td>\\nAudi\\n</td>\n",
              "    </tr>\n",
              "    <tr>\n",
              "      <th>Model</th>\n",
              "      <td>[\\n, A1, \\n]</td>\n",
              "      <td>[\\n, A1, \\n]</td>\n",
              "      <td>[\\n, A1, \\n]</td>\n",
              "    </tr>\n",
              "    <tr>\n",
              "      <th>Offer Number</th>\n",
              "      <td>[\\nLR-062483\\n]</td>\n",
              "      <td>NaN</td>\n",
              "      <td>[\\nAM-95365\\n]</td>\n",
              "    </tr>\n",
              "    <tr>\n",
              "      <th>First Registration</th>\n",
              "      <td>[\\n, 2016, \\n]</td>\n",
              "      <td>[\\n, 2017, \\n]</td>\n",
              "      <td>[\\n, 2016, \\n]</td>\n",
              "    </tr>\n",
              "    <tr>\n",
              "      <th>Body Color</th>\n",
              "      <td>[\\n, Black, \\n]</td>\n",
              "      <td>[\\n, Red, \\n]</td>\n",
              "      <td>[\\n, Black, \\n]</td>\n",
              "    </tr>\n",
              "    <tr>\n",
              "      <th>Paint Type</th>\n",
              "      <td>[\\nMetallic\\n]</td>\n",
              "      <td>NaN</td>\n",
              "      <td>[\\nMetallic\\n]</td>\n",
              "    </tr>\n",
              "    <tr>\n",
              "      <th>Body Color Original</th>\n",
              "      <td>[\\nMythosschwarz\\n]</td>\n",
              "      <td>NaN</td>\n",
              "      <td>[\\nmythosschwarz metallic\\n]</td>\n",
              "    </tr>\n",
              "    <tr>\n",
              "      <th>Upholstery</th>\n",
              "      <td>[\\nCloth, Black\\n]</td>\n",
              "      <td>[\\nCloth, Grey\\n]</td>\n",
              "      <td>[\\nCloth, Black\\n]</td>\n",
              "    </tr>\n",
              "    <tr>\n",
              "      <th>Body</th>\n",
              "      <td>[\\n, Sedans, \\n]</td>\n",
              "      <td>[\\n, Sedans, \\n]</td>\n",
              "      <td>[\\n, Sedans, \\n]</td>\n",
              "    </tr>\n",
              "    <tr>\n",
              "      <th>Nr. of Doors</th>\n",
              "      <td>[\\n5\\n]</td>\n",
              "      <td>[\\n3\\n]</td>\n",
              "      <td>[\\n4\\n]</td>\n",
              "    </tr>\n",
              "    <tr>\n",
              "      <th>Nr. of Seats</th>\n",
              "      <td>[\\n5\\n]</td>\n",
              "      <td>[\\n4\\n]</td>\n",
              "      <td>[\\n4\\n]</td>\n",
              "    </tr>\n",
              "    <tr>\n",
              "      <th>Model Code</th>\n",
              "      <td>[\\n0588/BDF\\n]</td>\n",
              "      <td>[\\n0588/BCY\\n]</td>\n",
              "      <td>NaN</td>\n",
              "    </tr>\n",
              "    <tr>\n",
              "      <th>Gearing Type</th>\n",
              "      <td>[\\n, Automatic, \\n]</td>\n",
              "      <td>[\\n, Automatic, \\n]</td>\n",
              "      <td>[\\n, Automatic, \\n]</td>\n",
              "    </tr>\n",
              "    <tr>\n",
              "      <th>Displacement</th>\n",
              "      <td>[\\n1,422 cc\\n]</td>\n",
              "      <td>[\\n1,798 cc\\n]</td>\n",
              "      <td>[\\n1,598 cc\\n]</td>\n",
              "    </tr>\n",
              "    <tr>\n",
              "      <th>Cylinders</th>\n",
              "      <td>[\\n3\\n]</td>\n",
              "      <td>[\\n4\\n]</td>\n",
              "      <td>NaN</td>\n",
              "    </tr>\n",
              "    <tr>\n",
              "      <th>Weight</th>\n",
              "      <td>[\\n1,220 kg\\n]</td>\n",
              "      <td>[\\n1,255 kg\\n]</td>\n",
              "      <td>NaN</td>\n",
              "    </tr>\n",
              "    <tr>\n",
              "      <th>Drive chain</th>\n",
              "      <td>[\\nfront\\n]</td>\n",
              "      <td>[\\nfront\\n]</td>\n",
              "      <td>[\\nfront\\n]</td>\n",
              "    </tr>\n",
              "    <tr>\n",
              "      <th>Fuel</th>\n",
              "      <td>[\\n, Diesel (Particulate Filter), \\n]</td>\n",
              "      <td>[\\n, Gasoline, \\n]</td>\n",
              "      <td>[\\n, Diesel (Particulate Filter), \\n]</td>\n",
              "    </tr>\n",
              "    <tr>\n",
              "      <th>Consumption</th>\n",
              "      <td>[[3.8 l/100 km (comb)], [4.3 l/100 km (city)],...</td>\n",
              "      <td>[[5.6 l/100 km (comb)], [7.1 l/100 km (city)],...</td>\n",
              "      <td>[[3.8 l/100 km (comb)], [4.4 l/100 km (city)],...</td>\n",
              "    </tr>\n",
              "    <tr>\n",
              "      <th>CO2 Emission</th>\n",
              "      <td>[\\n99 g CO2/km (comb)\\n]</td>\n",
              "      <td>[\\n129 g CO2/km (comb)\\n]</td>\n",
              "      <td>[\\n99 g CO2/km (comb)\\n]</td>\n",
              "    </tr>\n",
              "    <tr>\n",
              "      <th>Emission Class</th>\n",
              "      <td>[\\nEuro 6\\n]</td>\n",
              "      <td>[\\nEuro 6\\n]</td>\n",
              "      <td>[\\nEuro 6\\n]</td>\n",
              "    </tr>\n",
              "    <tr>\n",
              "      <th>\\nComfort &amp; Convenience\\n</th>\n",
              "      <td>[Air conditioning, Armrest, Automatic climate ...</td>\n",
              "      <td>[Air conditioning, Automatic climate control, ...</td>\n",
              "      <td>[Air conditioning, Cruise control, Electrical ...</td>\n",
              "    </tr>\n",
              "    <tr>\n",
              "      <th>\\nEntertainment &amp; Media\\n</th>\n",
              "      <td>[Bluetooth, Hands-free equipment, On-board com...</td>\n",
              "      <td>[Bluetooth, Hands-free equipment, On-board com...</td>\n",
              "      <td>[MP3, On-board computer]</td>\n",
              "    </tr>\n",
              "    <tr>\n",
              "      <th>\\nExtras\\n</th>\n",
              "      <td>[Alloy wheels, Catalytic Converter, Voice Cont...</td>\n",
              "      <td>[Alloy wheels, Sport seats, Sport suspension, ...</td>\n",
              "      <td>[Alloy wheels, Voice Control]</td>\n",
              "    </tr>\n",
              "    <tr>\n",
              "      <th>\\nSafety &amp; Security\\n</th>\n",
              "      <td>[ABS, Central door lock, Daytime running light...</td>\n",
              "      <td>[ABS, Central door lock, Central door lock wit...</td>\n",
              "      <td>[ABS, Central door lock, Daytime running light...</td>\n",
              "    </tr>\n",
              "    <tr>\n",
              "      <th>description</th>\n",
              "      <td>[\\n, Sicherheit:,  , Deaktivierung für Beifahr...</td>\n",
              "      <td>[\\nLangstreckenfahrzeug daher die hohe Kilomet...</td>\n",
              "      <td>[\\n, Fahrzeug-Nummer: AM-95365,  , Ehem. UPE 2...</td>\n",
              "    </tr>\n",
              "    <tr>\n",
              "      <th>Emission Label</th>\n",
              "      <td>NaN</td>\n",
              "      <td>[\\n4 (Green)\\n]</td>\n",
              "      <td>[\\n4 (Green)\\n]</td>\n",
              "    </tr>\n",
              "    <tr>\n",
              "      <th>Gears</th>\n",
              "      <td>NaN</td>\n",
              "      <td>[\\n7\\n]</td>\n",
              "      <td>NaN</td>\n",
              "    </tr>\n",
              "    <tr>\n",
              "      <th>Country version</th>\n",
              "      <td>NaN</td>\n",
              "      <td>NaN</td>\n",
              "      <td>NaN</td>\n",
              "    </tr>\n",
              "    <tr>\n",
              "      <th>Electricity consumption</th>\n",
              "      <td>NaN</td>\n",
              "      <td>NaN</td>\n",
              "      <td>NaN</td>\n",
              "    </tr>\n",
              "    <tr>\n",
              "      <th>Last Service Date</th>\n",
              "      <td>NaN</td>\n",
              "      <td>NaN</td>\n",
              "      <td>NaN</td>\n",
              "    </tr>\n",
              "    <tr>\n",
              "      <th>Other Fuel Types</th>\n",
              "      <td>NaN</td>\n",
              "      <td>NaN</td>\n",
              "      <td>NaN</td>\n",
              "    </tr>\n",
              "    <tr>\n",
              "      <th>Availability</th>\n",
              "      <td>NaN</td>\n",
              "      <td>NaN</td>\n",
              "      <td>NaN</td>\n",
              "    </tr>\n",
              "    <tr>\n",
              "      <th>Last Timing Belt Service Date</th>\n",
              "      <td>NaN</td>\n",
              "      <td>NaN</td>\n",
              "      <td>NaN</td>\n",
              "    </tr>\n",
              "    <tr>\n",
              "      <th>Available from</th>\n",
              "      <td>NaN</td>\n",
              "      <td>NaN</td>\n",
              "      <td>NaN</td>\n",
              "    </tr>\n",
              "  </tbody>\n",
              "</table>\n",
              "</div>"
            ],
            "text/plain": [
              "                                                                               0  \\\n",
              "url                            https://www.autoscout24.com//offers/audi-a1-sp...   \n",
              "make_model                                                               Audi A1   \n",
              "short_description                    Sportback 1.4 TDI S-tronic Xenon Navi Klima   \n",
              "body_type                                                                 Sedans   \n",
              "price                                                                      15770   \n",
              "vat                                                               VAT deductible   \n",
              "km                                                                     56,013 km   \n",
              "registration                                                             01/2016   \n",
              "prev_owner                                                     2 previous owners   \n",
              "kW                                                                           NaN   \n",
              "hp                                                                         66 kW   \n",
              "Type                                     [, Used, , Diesel (Particulate Filter)]   \n",
              "Previous Owners                                                            \\n2\\n   \n",
              "Next Inspection                            [\\n06/2021\\n, \\n99 g CO2/km (comb)\\n]   \n",
              "Inspection new                                             [\\nYes\\n, \\nEuro 6\\n]   \n",
              "Warranty                                                 [\\n, \\n, \\n4 (Green)\\n]   \n",
              "Full Service                                                            [\\n, \\n]   \n",
              "Non-smoking Vehicle                                                     [\\n, \\n]   \n",
              "null                                                                          []   \n",
              "Make                                                                    \\nAudi\\n   \n",
              "Model                                                               [\\n, A1, \\n]   \n",
              "Offer Number                                                     [\\nLR-062483\\n]   \n",
              "First Registration                                                [\\n, 2016, \\n]   \n",
              "Body Color                                                       [\\n, Black, \\n]   \n",
              "Paint Type                                                        [\\nMetallic\\n]   \n",
              "Body Color Original                                          [\\nMythosschwarz\\n]   \n",
              "Upholstery                                                    [\\nCloth, Black\\n]   \n",
              "Body                                                            [\\n, Sedans, \\n]   \n",
              "Nr. of Doors                                                             [\\n5\\n]   \n",
              "Nr. of Seats                                                             [\\n5\\n]   \n",
              "Model Code                                                        [\\n0588/BDF\\n]   \n",
              "Gearing Type                                                 [\\n, Automatic, \\n]   \n",
              "Displacement                                                      [\\n1,422 cc\\n]   \n",
              "Cylinders                                                                [\\n3\\n]   \n",
              "Weight                                                            [\\n1,220 kg\\n]   \n",
              "Drive chain                                                          [\\nfront\\n]   \n",
              "Fuel                                       [\\n, Diesel (Particulate Filter), \\n]   \n",
              "Consumption                    [[3.8 l/100 km (comb)], [4.3 l/100 km (city)],...   \n",
              "CO2 Emission                                            [\\n99 g CO2/km (comb)\\n]   \n",
              "Emission Class                                                      [\\nEuro 6\\n]   \n",
              "\\nComfort & Convenience\\n      [Air conditioning, Armrest, Automatic climate ...   \n",
              "\\nEntertainment & Media\\n      [Bluetooth, Hands-free equipment, On-board com...   \n",
              "\\nExtras\\n                     [Alloy wheels, Catalytic Converter, Voice Cont...   \n",
              "\\nSafety & Security\\n          [ABS, Central door lock, Daytime running light...   \n",
              "description                    [\\n, Sicherheit:,  , Deaktivierung für Beifahr...   \n",
              "Emission Label                                                               NaN   \n",
              "Gears                                                                        NaN   \n",
              "Country version                                                              NaN   \n",
              "Electricity consumption                                                      NaN   \n",
              "Last Service Date                                                            NaN   \n",
              "Other Fuel Types                                                             NaN   \n",
              "Availability                                                                 NaN   \n",
              "Last Timing Belt Service Date                                                NaN   \n",
              "Available from                                                               NaN   \n",
              "\n",
              "                                                                               1  \\\n",
              "url                            https://www.autoscout24.com//offers/audi-a1-1-...   \n",
              "make_model                                                               Audi A1   \n",
              "short_description                                                 1.8 TFSI sport   \n",
              "body_type                                                                 Sedans   \n",
              "price                                                                      14500   \n",
              "vat                                                             Price negotiable   \n",
              "km                                                                     80,000 km   \n",
              "registration                                                             03/2017   \n",
              "prev_owner                                                                  None   \n",
              "kW                                                                           NaN   \n",
              "hp                                                                        141 kW   \n",
              "Type                                                        [, Used, , Gasoline]   \n",
              "Previous Owners                                                              NaN   \n",
              "Next Inspection                                                              NaN   \n",
              "Inspection new                                                               NaN   \n",
              "Warranty                                                                     NaN   \n",
              "Full Service                                                                 NaN   \n",
              "Non-smoking Vehicle                                                          NaN   \n",
              "null                                                                          []   \n",
              "Make                                                                    \\nAudi\\n   \n",
              "Model                                                               [\\n, A1, \\n]   \n",
              "Offer Number                                                                 NaN   \n",
              "First Registration                                                [\\n, 2017, \\n]   \n",
              "Body Color                                                         [\\n, Red, \\n]   \n",
              "Paint Type                                                                   NaN   \n",
              "Body Color Original                                                          NaN   \n",
              "Upholstery                                                     [\\nCloth, Grey\\n]   \n",
              "Body                                                            [\\n, Sedans, \\n]   \n",
              "Nr. of Doors                                                             [\\n3\\n]   \n",
              "Nr. of Seats                                                             [\\n4\\n]   \n",
              "Model Code                                                        [\\n0588/BCY\\n]   \n",
              "Gearing Type                                                 [\\n, Automatic, \\n]   \n",
              "Displacement                                                      [\\n1,798 cc\\n]   \n",
              "Cylinders                                                                [\\n4\\n]   \n",
              "Weight                                                            [\\n1,255 kg\\n]   \n",
              "Drive chain                                                          [\\nfront\\n]   \n",
              "Fuel                                                          [\\n, Gasoline, \\n]   \n",
              "Consumption                    [[5.6 l/100 km (comb)], [7.1 l/100 km (city)],...   \n",
              "CO2 Emission                                           [\\n129 g CO2/km (comb)\\n]   \n",
              "Emission Class                                                      [\\nEuro 6\\n]   \n",
              "\\nComfort & Convenience\\n      [Air conditioning, Automatic climate control, ...   \n",
              "\\nEntertainment & Media\\n      [Bluetooth, Hands-free equipment, On-board com...   \n",
              "\\nExtras\\n                     [Alloy wheels, Sport seats, Sport suspension, ...   \n",
              "\\nSafety & Security\\n          [ABS, Central door lock, Central door lock wit...   \n",
              "description                    [\\nLangstreckenfahrzeug daher die hohe Kilomet...   \n",
              "Emission Label                                                   [\\n4 (Green)\\n]   \n",
              "Gears                                                                    [\\n7\\n]   \n",
              "Country version                                                              NaN   \n",
              "Electricity consumption                                                      NaN   \n",
              "Last Service Date                                                            NaN   \n",
              "Other Fuel Types                                                             NaN   \n",
              "Availability                                                                 NaN   \n",
              "Last Timing Belt Service Date                                                NaN   \n",
              "Available from                                                               NaN   \n",
              "\n",
              "                                                                               2  \n",
              "url                            https://www.autoscout24.com//offers/audi-a1-sp...  \n",
              "make_model                                                               Audi A1  \n",
              "short_description              Sportback 1.6 TDI S tronic Einparkhilfe plus+m...  \n",
              "body_type                                                                 Sedans  \n",
              "price                                                                      14640  \n",
              "vat                                                               VAT deductible  \n",
              "km                                                                     83,450 km  \n",
              "registration                                                             02/2016  \n",
              "prev_owner                                                      1 previous owner  \n",
              "kW                                                                           NaN  \n",
              "hp                                                                         85 kW  \n",
              "Type                                     [, Used, , Diesel (Particulate Filter)]  \n",
              "Previous Owners                                                            \\n1\\n  \n",
              "Next Inspection                                                              NaN  \n",
              "Inspection new                                                               NaN  \n",
              "Warranty                                        [\\n, \\n, \\n99 g CO2/km (comb)\\n]  \n",
              "Full Service                                                                 NaN  \n",
              "Non-smoking Vehicle                                                          NaN  \n",
              "null                                                                          []  \n",
              "Make                                                                    \\nAudi\\n  \n",
              "Model                                                               [\\n, A1, \\n]  \n",
              "Offer Number                                                      [\\nAM-95365\\n]  \n",
              "First Registration                                                [\\n, 2016, \\n]  \n",
              "Body Color                                                       [\\n, Black, \\n]  \n",
              "Paint Type                                                        [\\nMetallic\\n]  \n",
              "Body Color Original                                 [\\nmythosschwarz metallic\\n]  \n",
              "Upholstery                                                    [\\nCloth, Black\\n]  \n",
              "Body                                                            [\\n, Sedans, \\n]  \n",
              "Nr. of Doors                                                             [\\n4\\n]  \n",
              "Nr. of Seats                                                             [\\n4\\n]  \n",
              "Model Code                                                                   NaN  \n",
              "Gearing Type                                                 [\\n, Automatic, \\n]  \n",
              "Displacement                                                      [\\n1,598 cc\\n]  \n",
              "Cylinders                                                                    NaN  \n",
              "Weight                                                                       NaN  \n",
              "Drive chain                                                          [\\nfront\\n]  \n",
              "Fuel                                       [\\n, Diesel (Particulate Filter), \\n]  \n",
              "Consumption                    [[3.8 l/100 km (comb)], [4.4 l/100 km (city)],...  \n",
              "CO2 Emission                                            [\\n99 g CO2/km (comb)\\n]  \n",
              "Emission Class                                                      [\\nEuro 6\\n]  \n",
              "\\nComfort & Convenience\\n      [Air conditioning, Cruise control, Electrical ...  \n",
              "\\nEntertainment & Media\\n                               [MP3, On-board computer]  \n",
              "\\nExtras\\n                                         [Alloy wheels, Voice Control]  \n",
              "\\nSafety & Security\\n          [ABS, Central door lock, Daytime running light...  \n",
              "description                    [\\n, Fahrzeug-Nummer: AM-95365,  , Ehem. UPE 2...  \n",
              "Emission Label                                                   [\\n4 (Green)\\n]  \n",
              "Gears                                                                        NaN  \n",
              "Country version                                                              NaN  \n",
              "Electricity consumption                                                      NaN  \n",
              "Last Service Date                                                            NaN  \n",
              "Other Fuel Types                                                             NaN  \n",
              "Availability                                                                 NaN  \n",
              "Last Timing Belt Service Date                                                NaN  \n",
              "Available from                                                               NaN  "
            ]
          },
          "execution_count": 14,
          "metadata": {},
          "output_type": "execute_result"
        }
      ],
      "source": [
        "df.head(3).T"
      ]
    },
    {
      "cell_type": "code",
      "execution_count": null,
      "metadata": {
        "colab": {
          "base_uri": "https://localhost:8080/"
        },
        "id": "KZoY6wXM3bsr",
        "outputId": "4671c565-775e-4bb4-b904-2606c5f1582e"
      },
      "outputs": [
        {
          "name": "stdout",
          "output_type": "stream",
          "text": [
            "<class 'pandas.core.frame.DataFrame'>\n",
            "RangeIndex: 15919 entries, 0 to 15918\n",
            "Data columns (total 54 columns):\n",
            " #   Column                         Non-Null Count  Dtype  \n",
            "---  ------                         --------------  -----  \n",
            " 0   url                            15919 non-null  object \n",
            " 1   make_model                     15919 non-null  object \n",
            " 2   short_description              15873 non-null  object \n",
            " 3   body_type                      15859 non-null  object \n",
            " 4   price                          15919 non-null  int64  \n",
            " 5   vat                            11406 non-null  object \n",
            " 6   km                             15919 non-null  object \n",
            " 7   registration                   15919 non-null  object \n",
            " 8   prev_owner                     9091 non-null   object \n",
            " 9   kW                             0 non-null      float64\n",
            " 10  hp                             15919 non-null  object \n",
            " 11  Type                           15917 non-null  object \n",
            " 12  Previous Owners                9279 non-null   object \n",
            " 13  Next Inspection                3535 non-null   object \n",
            " 14  Inspection new                 3932 non-null   object \n",
            " 15  Warranty                       10499 non-null  object \n",
            " 16  Full Service                   8215 non-null   object \n",
            " 17  Non-smoking Vehicle            7177 non-null   object \n",
            " 18  null                           15919 non-null  object \n",
            " 19  Make                           15919 non-null  object \n",
            " 20  Model                          15919 non-null  object \n",
            " 21  Offer Number                   12744 non-null  object \n",
            " 22  First Registration             14322 non-null  object \n",
            " 23  Body Color                     15322 non-null  object \n",
            " 24  Paint Type                     10147 non-null  object \n",
            " 25  Body Color Original            12160 non-null  object \n",
            " 26  Upholstery                     12199 non-null  object \n",
            " 27  Body                           15859 non-null  object \n",
            " 28  Nr. of Doors                   15707 non-null  object \n",
            " 29  Nr. of Seats                   14942 non-null  object \n",
            " 30  Model Code                     4978 non-null   object \n",
            " 31  Gearing Type                   15919 non-null  object \n",
            " 32  Displacement                   15423 non-null  object \n",
            " 33  Cylinders                      10239 non-null  object \n",
            " 34  Weight                         8945 non-null   object \n",
            " 35  Drive chain                    9061 non-null   object \n",
            " 36  Fuel                           15919 non-null  object \n",
            " 37  Consumption                    14013 non-null  object \n",
            " 38  CO2 Emission                   14111 non-null  object \n",
            " 39  Emission Class                 12898 non-null  object \n",
            " 40  \n",
            "Comfort & Convenience\n",
            "        14999 non-null  object \n",
            " 41  \n",
            "Entertainment & Media\n",
            "        14545 non-null  object \n",
            " 42  \n",
            "Extras\n",
            "                       12957 non-null  object \n",
            " 43  \n",
            "Safety & Security\n",
            "            14937 non-null  object \n",
            " 44  description                    15919 non-null  object \n",
            " 45  Emission Label                 3985 non-null   object \n",
            " 46  Gears                          11207 non-null  object \n",
            " 47  Country version                7586 non-null   object \n",
            " 48  Electricity consumption        137 non-null    object \n",
            " 49  Last Service Date              566 non-null    object \n",
            " 50  Other Fuel Types               880 non-null    object \n",
            " 51  Availability                   635 non-null    object \n",
            " 52  Last Timing Belt Service Date  16 non-null     object \n",
            " 53  Available from                 272 non-null    object \n",
            "dtypes: float64(1), int64(1), object(52)\n",
            "memory usage: 6.6+ MB\n"
          ]
        }
      ],
      "source": [
        "df.info()"
      ]
    },
    {
      "cell_type": "code",
      "execution_count": null,
      "metadata": {
        "id": "QXzWjl7N3bwG"
      },
      "outputs": [],
      "source": [
        "# First Method to convert all columns to same format. \n",
        "\n",
        "# from skimpy import clean_columns    \n",
        "\n",
        "# df1 = clean_columns(df)\n",
        "# df1.head(3)\n"
      ]
    },
    {
      "cell_type": "code",
      "execution_count": null,
      "metadata": {
        "colab": {
          "base_uri": "https://localhost:8080/",
          "height": 502
        },
        "id": "CYA4DSsn3b1h",
        "outputId": "ee4829d4-0d92-4303-9b68-3f2cddf9cb13"
      },
      "outputs": [
        {
          "data": {
            "text/html": [
              "<div>\n",
              "<style scoped>\n",
              "    .dataframe tbody tr th:only-of-type {\n",
              "        vertical-align: middle;\n",
              "    }\n",
              "\n",
              "    .dataframe tbody tr th {\n",
              "        vertical-align: top;\n",
              "    }\n",
              "\n",
              "    .dataframe thead th {\n",
              "        text-align: right;\n",
              "    }\n",
              "</style>\n",
              "<table border=\"1\" class=\"dataframe\">\n",
              "  <thead>\n",
              "    <tr style=\"text-align: right;\">\n",
              "      <th></th>\n",
              "      <th>url</th>\n",
              "      <th>make_model</th>\n",
              "      <th>short_description</th>\n",
              "      <th>body_type</th>\n",
              "      <th>price</th>\n",
              "      <th>vat</th>\n",
              "      <th>km</th>\n",
              "      <th>registration</th>\n",
              "      <th>prev_owner</th>\n",
              "      <th>kW</th>\n",
              "      <th>hp</th>\n",
              "      <th>Type</th>\n",
              "      <th>Previous Owners</th>\n",
              "      <th>Next Inspection</th>\n",
              "      <th>Inspection new</th>\n",
              "      <th>Warranty</th>\n",
              "      <th>Full Service</th>\n",
              "      <th>Non-smoking Vehicle</th>\n",
              "      <th>null</th>\n",
              "      <th>Make</th>\n",
              "      <th>Model</th>\n",
              "      <th>Offer Number</th>\n",
              "      <th>First Registration</th>\n",
              "      <th>Body Color</th>\n",
              "      <th>Paint Type</th>\n",
              "      <th>Body Color Original</th>\n",
              "      <th>Upholstery</th>\n",
              "      <th>Body</th>\n",
              "      <th>Nr. of Doors</th>\n",
              "      <th>Nr. of Seats</th>\n",
              "      <th>Model Code</th>\n",
              "      <th>Gearing Type</th>\n",
              "      <th>Displacement</th>\n",
              "      <th>Cylinders</th>\n",
              "      <th>Weight</th>\n",
              "      <th>Drive chain</th>\n",
              "      <th>Fuel</th>\n",
              "      <th>Consumption</th>\n",
              "      <th>CO2 Emission</th>\n",
              "      <th>Emission Class</th>\n",
              "      <th>Comfort_Convenience</th>\n",
              "      <th>Entertainment_Media</th>\n",
              "      <th>Extras</th>\n",
              "      <th>Safety_Security</th>\n",
              "      <th>description</th>\n",
              "      <th>Emission Label</th>\n",
              "      <th>Gears</th>\n",
              "      <th>Country version</th>\n",
              "      <th>Electricity consumption</th>\n",
              "      <th>Last Service Date</th>\n",
              "      <th>Other Fuel Types</th>\n",
              "      <th>Availability</th>\n",
              "      <th>Last Timing Belt Service Date</th>\n",
              "      <th>Available from</th>\n",
              "    </tr>\n",
              "  </thead>\n",
              "  <tbody>\n",
              "    <tr>\n",
              "      <th>0</th>\n",
              "      <td>https://www.autoscout24.com//offers/audi-a1-sp...</td>\n",
              "      <td>Audi A1</td>\n",
              "      <td>Sportback 1.4 TDI S-tronic Xenon Navi Klima</td>\n",
              "      <td>Sedans</td>\n",
              "      <td>15770</td>\n",
              "      <td>VAT deductible</td>\n",
              "      <td>56,013 km</td>\n",
              "      <td>01/2016</td>\n",
              "      <td>2 previous owners</td>\n",
              "      <td>NaN</td>\n",
              "      <td>66 kW</td>\n",
              "      <td>[, Used, , Diesel (Particulate Filter)]</td>\n",
              "      <td>\\n2\\n</td>\n",
              "      <td>[\\n06/2021\\n, \\n99 g CO2/km (comb)\\n]</td>\n",
              "      <td>[\\nYes\\n, \\nEuro 6\\n]</td>\n",
              "      <td>[\\n, \\n, \\n4 (Green)\\n]</td>\n",
              "      <td>[\\n, \\n]</td>\n",
              "      <td>[\\n, \\n]</td>\n",
              "      <td>[]</td>\n",
              "      <td>\\nAudi\\n</td>\n",
              "      <td>[\\n, A1, \\n]</td>\n",
              "      <td>[\\nLR-062483\\n]</td>\n",
              "      <td>[\\n, 2016, \\n]</td>\n",
              "      <td>[\\n, Black, \\n]</td>\n",
              "      <td>[\\nMetallic\\n]</td>\n",
              "      <td>[\\nMythosschwarz\\n]</td>\n",
              "      <td>[\\nCloth, Black\\n]</td>\n",
              "      <td>[\\n, Sedans, \\n]</td>\n",
              "      <td>[\\n5\\n]</td>\n",
              "      <td>[\\n5\\n]</td>\n",
              "      <td>[\\n0588/BDF\\n]</td>\n",
              "      <td>[\\n, Automatic, \\n]</td>\n",
              "      <td>[\\n1,422 cc\\n]</td>\n",
              "      <td>[\\n3\\n]</td>\n",
              "      <td>[\\n1,220 kg\\n]</td>\n",
              "      <td>[\\nfront\\n]</td>\n",
              "      <td>[\\n, Diesel (Particulate Filter), \\n]</td>\n",
              "      <td>[[3.8 l/100 km (comb)], [4.3 l/100 km (city)],...</td>\n",
              "      <td>[\\n99 g CO2/km (comb)\\n]</td>\n",
              "      <td>[\\nEuro 6\\n]</td>\n",
              "      <td>[Air conditioning, Armrest, Automatic climate ...</td>\n",
              "      <td>[Bluetooth, Hands-free equipment, On-board com...</td>\n",
              "      <td>[Alloy wheels, Catalytic Converter, Voice Cont...</td>\n",
              "      <td>[ABS, Central door lock, Daytime running light...</td>\n",
              "      <td>[\\n, Sicherheit:,  , Deaktivierung für Beifahr...</td>\n",
              "      <td>NaN</td>\n",
              "      <td>NaN</td>\n",
              "      <td>NaN</td>\n",
              "      <td>NaN</td>\n",
              "      <td>NaN</td>\n",
              "      <td>NaN</td>\n",
              "      <td>NaN</td>\n",
              "      <td>NaN</td>\n",
              "      <td>NaN</td>\n",
              "    </tr>\n",
              "    <tr>\n",
              "      <th>1</th>\n",
              "      <td>https://www.autoscout24.com//offers/audi-a1-1-...</td>\n",
              "      <td>Audi A1</td>\n",
              "      <td>1.8 TFSI sport</td>\n",
              "      <td>Sedans</td>\n",
              "      <td>14500</td>\n",
              "      <td>Price negotiable</td>\n",
              "      <td>80,000 km</td>\n",
              "      <td>03/2017</td>\n",
              "      <td>None</td>\n",
              "      <td>NaN</td>\n",
              "      <td>141 kW</td>\n",
              "      <td>[, Used, , Gasoline]</td>\n",
              "      <td>NaN</td>\n",
              "      <td>NaN</td>\n",
              "      <td>NaN</td>\n",
              "      <td>NaN</td>\n",
              "      <td>NaN</td>\n",
              "      <td>NaN</td>\n",
              "      <td>[]</td>\n",
              "      <td>\\nAudi\\n</td>\n",
              "      <td>[\\n, A1, \\n]</td>\n",
              "      <td>NaN</td>\n",
              "      <td>[\\n, 2017, \\n]</td>\n",
              "      <td>[\\n, Red, \\n]</td>\n",
              "      <td>NaN</td>\n",
              "      <td>NaN</td>\n",
              "      <td>[\\nCloth, Grey\\n]</td>\n",
              "      <td>[\\n, Sedans, \\n]</td>\n",
              "      <td>[\\n3\\n]</td>\n",
              "      <td>[\\n4\\n]</td>\n",
              "      <td>[\\n0588/BCY\\n]</td>\n",
              "      <td>[\\n, Automatic, \\n]</td>\n",
              "      <td>[\\n1,798 cc\\n]</td>\n",
              "      <td>[\\n4\\n]</td>\n",
              "      <td>[\\n1,255 kg\\n]</td>\n",
              "      <td>[\\nfront\\n]</td>\n",
              "      <td>[\\n, Gasoline, \\n]</td>\n",
              "      <td>[[5.6 l/100 km (comb)], [7.1 l/100 km (city)],...</td>\n",
              "      <td>[\\n129 g CO2/km (comb)\\n]</td>\n",
              "      <td>[\\nEuro 6\\n]</td>\n",
              "      <td>[Air conditioning, Automatic climate control, ...</td>\n",
              "      <td>[Bluetooth, Hands-free equipment, On-board com...</td>\n",
              "      <td>[Alloy wheels, Sport seats, Sport suspension, ...</td>\n",
              "      <td>[ABS, Central door lock, Central door lock wit...</td>\n",
              "      <td>[\\nLangstreckenfahrzeug daher die hohe Kilomet...</td>\n",
              "      <td>[\\n4 (Green)\\n]</td>\n",
              "      <td>[\\n7\\n]</td>\n",
              "      <td>NaN</td>\n",
              "      <td>NaN</td>\n",
              "      <td>NaN</td>\n",
              "      <td>NaN</td>\n",
              "      <td>NaN</td>\n",
              "      <td>NaN</td>\n",
              "      <td>NaN</td>\n",
              "    </tr>\n",
              "    <tr>\n",
              "      <th>2</th>\n",
              "      <td>https://www.autoscout24.com//offers/audi-a1-sp...</td>\n",
              "      <td>Audi A1</td>\n",
              "      <td>Sportback 1.6 TDI S tronic Einparkhilfe plus+m...</td>\n",
              "      <td>Sedans</td>\n",
              "      <td>14640</td>\n",
              "      <td>VAT deductible</td>\n",
              "      <td>83,450 km</td>\n",
              "      <td>02/2016</td>\n",
              "      <td>1 previous owner</td>\n",
              "      <td>NaN</td>\n",
              "      <td>85 kW</td>\n",
              "      <td>[, Used, , Diesel (Particulate Filter)]</td>\n",
              "      <td>\\n1\\n</td>\n",
              "      <td>NaN</td>\n",
              "      <td>NaN</td>\n",
              "      <td>[\\n, \\n, \\n99 g CO2/km (comb)\\n]</td>\n",
              "      <td>NaN</td>\n",
              "      <td>NaN</td>\n",
              "      <td>[]</td>\n",
              "      <td>\\nAudi\\n</td>\n",
              "      <td>[\\n, A1, \\n]</td>\n",
              "      <td>[\\nAM-95365\\n]</td>\n",
              "      <td>[\\n, 2016, \\n]</td>\n",
              "      <td>[\\n, Black, \\n]</td>\n",
              "      <td>[\\nMetallic\\n]</td>\n",
              "      <td>[\\nmythosschwarz metallic\\n]</td>\n",
              "      <td>[\\nCloth, Black\\n]</td>\n",
              "      <td>[\\n, Sedans, \\n]</td>\n",
              "      <td>[\\n4\\n]</td>\n",
              "      <td>[\\n4\\n]</td>\n",
              "      <td>NaN</td>\n",
              "      <td>[\\n, Automatic, \\n]</td>\n",
              "      <td>[\\n1,598 cc\\n]</td>\n",
              "      <td>NaN</td>\n",
              "      <td>NaN</td>\n",
              "      <td>[\\nfront\\n]</td>\n",
              "      <td>[\\n, Diesel (Particulate Filter), \\n]</td>\n",
              "      <td>[[3.8 l/100 km (comb)], [4.4 l/100 km (city)],...</td>\n",
              "      <td>[\\n99 g CO2/km (comb)\\n]</td>\n",
              "      <td>[\\nEuro 6\\n]</td>\n",
              "      <td>[Air conditioning, Cruise control, Electrical ...</td>\n",
              "      <td>[MP3, On-board computer]</td>\n",
              "      <td>[Alloy wheels, Voice Control]</td>\n",
              "      <td>[ABS, Central door lock, Daytime running light...</td>\n",
              "      <td>[\\n, Fahrzeug-Nummer: AM-95365,  , Ehem. UPE 2...</td>\n",
              "      <td>[\\n4 (Green)\\n]</td>\n",
              "      <td>NaN</td>\n",
              "      <td>NaN</td>\n",
              "      <td>NaN</td>\n",
              "      <td>NaN</td>\n",
              "      <td>NaN</td>\n",
              "      <td>NaN</td>\n",
              "      <td>NaN</td>\n",
              "      <td>NaN</td>\n",
              "    </tr>\n",
              "  </tbody>\n",
              "</table>\n",
              "</div>"
            ],
            "text/plain": [
              "                                                 url make_model  \\\n",
              "0  https://www.autoscout24.com//offers/audi-a1-sp...    Audi A1   \n",
              "1  https://www.autoscout24.com//offers/audi-a1-1-...    Audi A1   \n",
              "2  https://www.autoscout24.com//offers/audi-a1-sp...    Audi A1   \n",
              "\n",
              "                                   short_description body_type  price  \\\n",
              "0        Sportback 1.4 TDI S-tronic Xenon Navi Klima    Sedans  15770   \n",
              "1                                     1.8 TFSI sport    Sedans  14500   \n",
              "2  Sportback 1.6 TDI S tronic Einparkhilfe plus+m...    Sedans  14640   \n",
              "\n",
              "                vat         km registration         prev_owner  kW      hp  \\\n",
              "0    VAT deductible  56,013 km      01/2016  2 previous owners NaN   66 kW   \n",
              "1  Price negotiable  80,000 km      03/2017               None NaN  141 kW   \n",
              "2    VAT deductible  83,450 km      02/2016   1 previous owner NaN   85 kW   \n",
              "\n",
              "                                      Type Previous Owners  \\\n",
              "0  [, Used, , Diesel (Particulate Filter)]           \\n2\\n   \n",
              "1                     [, Used, , Gasoline]             NaN   \n",
              "2  [, Used, , Diesel (Particulate Filter)]           \\n1\\n   \n",
              "\n",
              "                         Next Inspection         Inspection new  \\\n",
              "0  [\\n06/2021\\n, \\n99 g CO2/km (comb)\\n]  [\\nYes\\n, \\nEuro 6\\n]   \n",
              "1                                    NaN                    NaN   \n",
              "2                                    NaN                    NaN   \n",
              "\n",
              "                           Warranty Full Service Non-smoking Vehicle null  \\\n",
              "0           [\\n, \\n, \\n4 (Green)\\n]     [\\n, \\n]            [\\n, \\n]   []   \n",
              "1                               NaN          NaN                 NaN   []   \n",
              "2  [\\n, \\n, \\n99 g CO2/km (comb)\\n]          NaN                 NaN   []   \n",
              "\n",
              "       Make         Model     Offer Number First Registration  \\\n",
              "0  \\nAudi\\n  [\\n, A1, \\n]  [\\nLR-062483\\n]     [\\n, 2016, \\n]   \n",
              "1  \\nAudi\\n  [\\n, A1, \\n]              NaN     [\\n, 2017, \\n]   \n",
              "2  \\nAudi\\n  [\\n, A1, \\n]   [\\nAM-95365\\n]     [\\n, 2016, \\n]   \n",
              "\n",
              "        Body Color      Paint Type           Body Color Original  \\\n",
              "0  [\\n, Black, \\n]  [\\nMetallic\\n]           [\\nMythosschwarz\\n]   \n",
              "1    [\\n, Red, \\n]             NaN                           NaN   \n",
              "2  [\\n, Black, \\n]  [\\nMetallic\\n]  [\\nmythosschwarz metallic\\n]   \n",
              "\n",
              "           Upholstery              Body Nr. of Doors Nr. of Seats  \\\n",
              "0  [\\nCloth, Black\\n]  [\\n, Sedans, \\n]      [\\n5\\n]      [\\n5\\n]   \n",
              "1   [\\nCloth, Grey\\n]  [\\n, Sedans, \\n]      [\\n3\\n]      [\\n4\\n]   \n",
              "2  [\\nCloth, Black\\n]  [\\n, Sedans, \\n]      [\\n4\\n]      [\\n4\\n]   \n",
              "\n",
              "       Model Code         Gearing Type    Displacement Cylinders  \\\n",
              "0  [\\n0588/BDF\\n]  [\\n, Automatic, \\n]  [\\n1,422 cc\\n]   [\\n3\\n]   \n",
              "1  [\\n0588/BCY\\n]  [\\n, Automatic, \\n]  [\\n1,798 cc\\n]   [\\n4\\n]   \n",
              "2             NaN  [\\n, Automatic, \\n]  [\\n1,598 cc\\n]       NaN   \n",
              "\n",
              "           Weight  Drive chain                                   Fuel  \\\n",
              "0  [\\n1,220 kg\\n]  [\\nfront\\n]  [\\n, Diesel (Particulate Filter), \\n]   \n",
              "1  [\\n1,255 kg\\n]  [\\nfront\\n]                     [\\n, Gasoline, \\n]   \n",
              "2             NaN  [\\nfront\\n]  [\\n, Diesel (Particulate Filter), \\n]   \n",
              "\n",
              "                                         Consumption  \\\n",
              "0  [[3.8 l/100 km (comb)], [4.3 l/100 km (city)],...   \n",
              "1  [[5.6 l/100 km (comb)], [7.1 l/100 km (city)],...   \n",
              "2  [[3.8 l/100 km (comb)], [4.4 l/100 km (city)],...   \n",
              "\n",
              "                CO2 Emission Emission Class  \\\n",
              "0   [\\n99 g CO2/km (comb)\\n]   [\\nEuro 6\\n]   \n",
              "1  [\\n129 g CO2/km (comb)\\n]   [\\nEuro 6\\n]   \n",
              "2   [\\n99 g CO2/km (comb)\\n]   [\\nEuro 6\\n]   \n",
              "\n",
              "                                 Comfort_Convenience  \\\n",
              "0  [Air conditioning, Armrest, Automatic climate ...   \n",
              "1  [Air conditioning, Automatic climate control, ...   \n",
              "2  [Air conditioning, Cruise control, Electrical ...   \n",
              "\n",
              "                                 Entertainment_Media  \\\n",
              "0  [Bluetooth, Hands-free equipment, On-board com...   \n",
              "1  [Bluetooth, Hands-free equipment, On-board com...   \n",
              "2                           [MP3, On-board computer]   \n",
              "\n",
              "                                              Extras  \\\n",
              "0  [Alloy wheels, Catalytic Converter, Voice Cont...   \n",
              "1  [Alloy wheels, Sport seats, Sport suspension, ...   \n",
              "2                      [Alloy wheels, Voice Control]   \n",
              "\n",
              "                                     Safety_Security  \\\n",
              "0  [ABS, Central door lock, Daytime running light...   \n",
              "1  [ABS, Central door lock, Central door lock wit...   \n",
              "2  [ABS, Central door lock, Daytime running light...   \n",
              "\n",
              "                                         description   Emission Label  \\\n",
              "0  [\\n, Sicherheit:,  , Deaktivierung für Beifahr...              NaN   \n",
              "1  [\\nLangstreckenfahrzeug daher die hohe Kilomet...  [\\n4 (Green)\\n]   \n",
              "2  [\\n, Fahrzeug-Nummer: AM-95365,  , Ehem. UPE 2...  [\\n4 (Green)\\n]   \n",
              "\n",
              "     Gears Country version Electricity consumption Last Service Date  \\\n",
              "0      NaN             NaN                     NaN               NaN   \n",
              "1  [\\n7\\n]             NaN                     NaN               NaN   \n",
              "2      NaN             NaN                     NaN               NaN   \n",
              "\n",
              "  Other Fuel Types Availability Last Timing Belt Service Date Available from  \n",
              "0              NaN          NaN                           NaN            NaN  \n",
              "1              NaN          NaN                           NaN            NaN  \n",
              "2              NaN          NaN                           NaN            NaN  "
            ]
          },
          "execution_count": 17,
          "metadata": {},
          "output_type": "execute_result"
        }
      ],
      "source": [
        "df.rename(columns={\"\\nComfort & Convenience\\n\": \"Comfort_Convenience\",\n",
        "                   \"\\nEntertainment & Media\\n\":\"Entertainment_Media\",\n",
        "                   \"\\nExtras\\n\":\"Extras\",\n",
        "                   \"\\nSafety & Security\\n\":\"Safety_Security\"}, inplace=True)\n",
        "\n",
        "df.head(3)"
      ]
    },
    {
      "cell_type": "code",
      "execution_count": null,
      "metadata": {
        "colab": {
          "base_uri": "https://localhost:8080/"
        },
        "id": "YdHq3MKU3b6g",
        "outputId": "f9c6d623-a06b-4c88-d80e-9804c442c962"
      },
      "outputs": [
        {
          "name": "stdout",
          "output_type": "stream",
          "text": [
            "<class 'pandas.core.frame.DataFrame'>\n",
            "RangeIndex: 15919 entries, 0 to 15918\n",
            "Data columns (total 54 columns):\n",
            " #   Column                         Non-Null Count  Dtype  \n",
            "---  ------                         --------------  -----  \n",
            " 0   url                            15919 non-null  object \n",
            " 1   make_model                     15919 non-null  object \n",
            " 2   short_description              15873 non-null  object \n",
            " 3   body_type                      15859 non-null  object \n",
            " 4   price                          15919 non-null  int64  \n",
            " 5   vat                            11406 non-null  object \n",
            " 6   km                             15919 non-null  object \n",
            " 7   registration                   15919 non-null  object \n",
            " 8   prev_owner                     9091 non-null   object \n",
            " 9   kW                             0 non-null      float64\n",
            " 10  hp                             15919 non-null  object \n",
            " 11  Type                           15917 non-null  object \n",
            " 12  Previous Owners                9279 non-null   object \n",
            " 13  Next Inspection                3535 non-null   object \n",
            " 14  Inspection new                 3932 non-null   object \n",
            " 15  Warranty                       10499 non-null  object \n",
            " 16  Full Service                   8215 non-null   object \n",
            " 17  Non-smoking Vehicle            7177 non-null   object \n",
            " 18  null                           15919 non-null  object \n",
            " 19  Make                           15919 non-null  object \n",
            " 20  Model                          15919 non-null  object \n",
            " 21  Offer Number                   12744 non-null  object \n",
            " 22  First Registration             14322 non-null  object \n",
            " 23  Body Color                     15322 non-null  object \n",
            " 24  Paint Type                     10147 non-null  object \n",
            " 25  Body Color Original            12160 non-null  object \n",
            " 26  Upholstery                     12199 non-null  object \n",
            " 27  Body                           15859 non-null  object \n",
            " 28  Nr. of Doors                   15707 non-null  object \n",
            " 29  Nr. of Seats                   14942 non-null  object \n",
            " 30  Model Code                     4978 non-null   object \n",
            " 31  Gearing Type                   15919 non-null  object \n",
            " 32  Displacement                   15423 non-null  object \n",
            " 33  Cylinders                      10239 non-null  object \n",
            " 34  Weight                         8945 non-null   object \n",
            " 35  Drive chain                    9061 non-null   object \n",
            " 36  Fuel                           15919 non-null  object \n",
            " 37  Consumption                    14013 non-null  object \n",
            " 38  CO2 Emission                   14111 non-null  object \n",
            " 39  Emission Class                 12898 non-null  object \n",
            " 40  Comfort_Convenience            14999 non-null  object \n",
            " 41  Entertainment_Media            14545 non-null  object \n",
            " 42  Extras                         12957 non-null  object \n",
            " 43  Safety_Security                14937 non-null  object \n",
            " 44  description                    15919 non-null  object \n",
            " 45  Emission Label                 3985 non-null   object \n",
            " 46  Gears                          11207 non-null  object \n",
            " 47  Country version                7586 non-null   object \n",
            " 48  Electricity consumption        137 non-null    object \n",
            " 49  Last Service Date              566 non-null    object \n",
            " 50  Other Fuel Types               880 non-null    object \n",
            " 51  Availability                   635 non-null    object \n",
            " 52  Last Timing Belt Service Date  16 non-null     object \n",
            " 53  Available from                 272 non-null    object \n",
            "dtypes: float64(1), int64(1), object(52)\n",
            "memory usage: 6.6+ MB\n"
          ]
        }
      ],
      "source": [
        "df.info()"
      ]
    },
    {
      "cell_type": "code",
      "execution_count": null,
      "metadata": {
        "colab": {
          "base_uri": "https://localhost:8080/"
        },
        "id": "MY3lRc9Q3b-t",
        "outputId": "45cbb2e6-9f57-4714-eb0c-bf7ab5b7b15c"
      },
      "outputs": [
        {
          "data": {
            "text/plain": [
              "url                               0.00\n",
              "make_model                        0.00\n",
              "short_description                 0.29\n",
              "body_type                         0.38\n",
              "price                             0.00\n",
              "vat                              28.35\n",
              "km                                0.00\n",
              "registration                      0.00\n",
              "prev_owner                       42.89\n",
              "kW                              100.00\n",
              "hp                                0.00\n",
              "Type                              0.01\n",
              "Previous Owners                  41.71\n",
              "Next Inspection                  77.79\n",
              "Inspection new                   75.30\n",
              "Warranty                         34.05\n",
              "Full Service                     48.39\n",
              "Non-smoking Vehicle              54.92\n",
              "null                              0.00\n",
              "Make                              0.00\n",
              "Model                             0.00\n",
              "Offer Number                     19.94\n",
              "First Registration               10.03\n",
              "Body Color                        3.75\n",
              "Paint Type                       36.26\n",
              "Body Color Original              23.61\n",
              "Upholstery                       23.37\n",
              "Body                              0.38\n",
              "Nr. of Doors                      1.33\n",
              "Nr. of Seats                      6.14\n",
              "Model Code                       68.73\n",
              "Gearing Type                      0.00\n",
              "Displacement                      3.12\n",
              "Cylinders                        35.68\n",
              "Weight                           43.81\n",
              "Drive chain                      43.08\n",
              "Fuel                              0.00\n",
              "Consumption                      11.97\n",
              "CO2 Emission                     11.36\n",
              "Emission Class                   18.98\n",
              "Comfort_Convenience               5.78\n",
              "Entertainment_Media               8.63\n",
              "Extras                           18.61\n",
              "Safety_Security                   6.17\n",
              "description                       0.00\n",
              "Emission Label                   74.97\n",
              "Gears                            29.60\n",
              "Country version                  52.35\n",
              "Electricity consumption          99.14\n",
              "Last Service Date                96.44\n",
              "Other Fuel Types                 94.47\n",
              "Availability                     96.01\n",
              "Last Timing Belt Service Date    99.90\n",
              "Available from                   98.29\n",
              "dtype: float64"
            ]
          },
          "execution_count": 19,
          "metadata": {},
          "output_type": "execute_result"
        }
      ],
      "source": [
        "#percentage of nan values in all columns\n",
        "df.isnull().sum()*100/df.shape[0] "
      ]
    },
    {
      "cell_type": "markdown",
      "metadata": {
        "id": "UIPjpTCD5cmt"
      },
      "source": [
        "## Droping columns that have missing values more than %90."
      ]
    },
    {
      "cell_type": "code",
      "execution_count": null,
      "metadata": {
        "id": "_1MnWiue3cAu"
      },
      "outputs": [],
      "source": [
        "def df_nans(df, limit):\n",
        "    missing = df.isnull().sum()*100 / df.shape[0]\n",
        "    return missing.loc[lambda x : x >= limit]\n",
        "\n",
        "def column_nans(serial):\n",
        "    # display percentage of nans in a Series\n",
        "    return serial.isnull().sum()*100 / serial.shape[0]"
      ]
    },
    {
      "cell_type": "code",
      "execution_count": null,
      "metadata": {
        "colab": {
          "base_uri": "https://localhost:8080/"
        },
        "id": "sgjpkona3cEU",
        "outputId": "10172297-cc63-48ea-c83c-6a9b6701c3bb"
      },
      "outputs": [
        {
          "data": {
            "text/plain": [
              "kW                              100.00\n",
              "Electricity consumption          99.14\n",
              "Last Service Date                96.44\n",
              "Other Fuel Types                 94.47\n",
              "Availability                     96.01\n",
              "Last Timing Belt Service Date    99.90\n",
              "Available from                   98.29\n",
              "dtype: float64"
            ]
          },
          "execution_count": 21,
          "metadata": {},
          "output_type": "execute_result"
        }
      ],
      "source": [
        "df_nans(df,90)"
      ]
    },
    {
      "cell_type": "code",
      "execution_count": null,
      "metadata": {
        "colab": {
          "base_uri": "https://localhost:8080/"
        },
        "id": "jJKHbzwN3cGo",
        "outputId": "89547f90-0131-49c9-ebb9-91e897aa32c1"
      },
      "outputs": [
        {
          "data": {
            "text/plain": [
              "99.13939317796344"
            ]
          },
          "execution_count": 22,
          "metadata": {},
          "output_type": "execute_result"
        }
      ],
      "source": [
        "column_nans(df[\"Electricity consumption\"])"
      ]
    },
    {
      "cell_type": "code",
      "execution_count": null,
      "metadata": {
        "colab": {
          "base_uri": "https://localhost:8080/"
        },
        "id": "wbOaOrthO9TE",
        "outputId": "ea0abc3d-05b0-4522-fdd4-c258f866826c"
      },
      "outputs": [
        {
          "data": {
            "text/plain": [
              "Index(['kW', 'Electricity consumption', 'Last Service Date',\n",
              "       'Other Fuel Types', 'Availability', 'Last Timing Belt Service Date',\n",
              "       'Available from'],\n",
              "      dtype='object')"
            ]
          },
          "execution_count": 23,
          "metadata": {},
          "output_type": "execute_result"
        }
      ],
      "source": [
        "df_nans(df,90).index"
      ]
    },
    {
      "cell_type": "code",
      "execution_count": null,
      "metadata": {
        "colab": {
          "base_uri": "https://localhost:8080/"
        },
        "id": "wt6R_I4T3cJH",
        "outputId": "ede6400d-88dd-43bb-8fff-661b67d813de"
      },
      "outputs": [
        {
          "data": {
            "text/plain": [
              "Index(['kW', 'Electricity consumption', 'Last Service Date',\n",
              "       'Other Fuel Types', 'Availability', 'Last Timing Belt Service Date',\n",
              "       'Available from'],\n",
              "      dtype='object')"
            ]
          },
          "execution_count": 24,
          "metadata": {},
          "output_type": "execute_result"
        }
      ],
      "source": [
        "drop_col = df_nans(df,90).index\n",
        "drop_col"
      ]
    },
    {
      "cell_type": "code",
      "execution_count": null,
      "metadata": {
        "id": "237AImJ23cMf"
      },
      "outputs": [],
      "source": [
        "df.drop(drop_col,axis=1,inplace=True)"
      ]
    },
    {
      "cell_type": "code",
      "execution_count": null,
      "metadata": {
        "id": "qt_qJEke3cOX"
      },
      "outputs": [],
      "source": [
        "df.drop(\"null\",axis=1,inplace=True)"
      ]
    },
    {
      "cell_type": "code",
      "execution_count": null,
      "metadata": {
        "colab": {
          "base_uri": "https://localhost:8080/"
        },
        "id": "_NwJn-fx3cQQ",
        "outputId": "df426052-d1fe-46fd-d340-a8ae698979ab"
      },
      "outputs": [
        {
          "name": "stdout",
          "output_type": "stream",
          "text": [
            "<class 'pandas.core.frame.DataFrame'>\n",
            "RangeIndex: 15919 entries, 0 to 15918\n",
            "Data columns (total 46 columns):\n",
            " #   Column               Non-Null Count  Dtype \n",
            "---  ------               --------------  ----- \n",
            " 0   url                  15919 non-null  object\n",
            " 1   make_model           15919 non-null  object\n",
            " 2   short_description    15873 non-null  object\n",
            " 3   body_type            15859 non-null  object\n",
            " 4   price                15919 non-null  int64 \n",
            " 5   vat                  11406 non-null  object\n",
            " 6   km                   15919 non-null  object\n",
            " 7   registration         15919 non-null  object\n",
            " 8   prev_owner           9091 non-null   object\n",
            " 9   hp                   15919 non-null  object\n",
            " 10  Type                 15917 non-null  object\n",
            " 11  Previous Owners      9279 non-null   object\n",
            " 12  Next Inspection      3535 non-null   object\n",
            " 13  Inspection new       3932 non-null   object\n",
            " 14  Warranty             10499 non-null  object\n",
            " 15  Full Service         8215 non-null   object\n",
            " 16  Non-smoking Vehicle  7177 non-null   object\n",
            " 17  Make                 15919 non-null  object\n",
            " 18  Model                15919 non-null  object\n",
            " 19  Offer Number         12744 non-null  object\n",
            " 20  First Registration   14322 non-null  object\n",
            " 21  Body Color           15322 non-null  object\n",
            " 22  Paint Type           10147 non-null  object\n",
            " 23  Body Color Original  12160 non-null  object\n",
            " 24  Upholstery           12199 non-null  object\n",
            " 25  Body                 15859 non-null  object\n",
            " 26  Nr. of Doors         15707 non-null  object\n",
            " 27  Nr. of Seats         14942 non-null  object\n",
            " 28  Model Code           4978 non-null   object\n",
            " 29  Gearing Type         15919 non-null  object\n",
            " 30  Displacement         15423 non-null  object\n",
            " 31  Cylinders            10239 non-null  object\n",
            " 32  Weight               8945 non-null   object\n",
            " 33  Drive chain          9061 non-null   object\n",
            " 34  Fuel                 15919 non-null  object\n",
            " 35  Consumption          14013 non-null  object\n",
            " 36  CO2 Emission         14111 non-null  object\n",
            " 37  Emission Class       12898 non-null  object\n",
            " 38  Comfort_Convenience  14999 non-null  object\n",
            " 39  Entertainment_Media  14545 non-null  object\n",
            " 40  Extras               12957 non-null  object\n",
            " 41  Safety_Security      14937 non-null  object\n",
            " 42  description          15919 non-null  object\n",
            " 43  Emission Label       3985 non-null   object\n",
            " 44  Gears                11207 non-null  object\n",
            " 45  Country version      7586 non-null   object\n",
            "dtypes: int64(1), object(45)\n",
            "memory usage: 5.6+ MB\n"
          ]
        }
      ],
      "source": [
        "df.info()"
      ]
    },
    {
      "cell_type": "markdown",
      "metadata": {
        "id": "vnPgdl5M8OXc"
      },
      "source": [
        "## The examination and cleaning all the columns/features one by one"
      ]
    },
    {
      "cell_type": "markdown",
      "metadata": {
        "id": "Rmt17Frf9HIy"
      },
      "source": [
        "## url\n",
        "\n",
        "A data analyst should primarily benefit from all incoming data s/he encounters; HOWEVER,Even if url contains some information, we do NOT need it since this information can be obtained from other features."
      ]
    },
    {
      "cell_type": "code",
      "execution_count": null,
      "metadata": {
        "colab": {
          "base_uri": "https://localhost:8080/"
        },
        "id": "_XimnXOm74lq",
        "outputId": "918b8a8d-4c2b-474c-c521-4740123d2474"
      },
      "outputs": [
        {
          "data": {
            "text/plain": [
              "https://www.autoscout24.com//offers/audi-a1-sportback-1-4-tdi-s-tronic-xenon-navi-klima-diesel-black-bdab349a-caa5-41b0-98eb-c1345b84445e                  1\n",
              "https://www.autoscout24.com//offers/opel-insignia-bus-inno-2-0-cdti-aut-navi-bi-xe-led-e6-diesel-black-8710b253-dd98-4ed0-9d46-cbad2d79532b                1\n",
              "https://www.autoscout24.com//offers/opel-insignia-sport-tourer-opel-sport-tourer-1-6-cdti-136-ch-a-c-diesel-silver-10b7463b-9f56-4348-af35-df3432b2b585    1\n",
              "https://www.autoscout24.com//offers/opel-insignia-2-0cdti-st-business-innovation-navi-bt-diesel-black-ba5a3368-dedc-4e51-9127-3976b26e93c2                 1\n",
              "https://www.autoscout24.com//offers/opel-insignia-sport-tourer-opel-sport-tourer-1-6-cdti-136-ch-a-c-diesel-silver-7b52f054-78d3-4d5e-9370-8a7d081d7edd    1\n",
              "                                                                                                                                                          ..\n",
              "https://www.autoscout24.com//offers/audi-a3-sb-30-1-6-tdi-business-116cv-s-tronic-diesel-black-cf50f7b1-4d7b-466f-93a2-4e11ec0b4107                        1\n",
              "https://www.autoscout24.com//offers/audi-a3-sb-30-1-6-tdi-business-116cv-s-tronic-diesel-grey-3f47eb34-15c4-4763-860d-78fcbbd2c9ff                         1\n",
              "https://www.autoscout24.com//offers/audi-a3-sb-30-1-6-tdi-business-116cv-s-tronic-diesel-silver-f7a4bc95-b2ef-4bac-9497-6bcbcd05db0b                       1\n",
              "https://www.autoscout24.com//offers/audi-a3-sb-30-1-6-tdi-business-116cv-s-tronic-diesel-silver-1c94c7a2-67b5-49ca-ae42-42a6800fb3f5                       1\n",
              "https://www.autoscout24.com//offers/renault-espace-initiale-paris-tce-225-edc-gpf-navi-shz-aux-gasoline-grey-0bd690d9-7e93-4cab-bc5a-9d5b63402481          1\n",
              "Name: url, Length: 15919, dtype: int64"
            ]
          },
          "execution_count": 28,
          "metadata": {},
          "output_type": "execute_result"
        }
      ],
      "source": [
        "df[\"url\"].value_counts(dropna=False)   #unique value of each items are not used in model."
      ]
    },
    {
      "cell_type": "code",
      "execution_count": null,
      "metadata": {
        "id": "Lmnj8dmj74oR"
      },
      "outputs": [],
      "source": [
        "df.drop(\"url\",axis=1,inplace=True)"
      ]
    },
    {
      "cell_type": "markdown",
      "metadata": {
        "id": "-_wy5Qiy-jN5"
      },
      "source": [
        "## make_model"
      ]
    },
    {
      "cell_type": "code",
      "execution_count": null,
      "metadata": {
        "colab": {
          "base_uri": "https://localhost:8080/"
        },
        "id": "IHR5G9qx74sn",
        "outputId": "7b916894-2e2e-4543-b138-02b3d752cdac"
      },
      "outputs": [
        {
          "data": {
            "text/plain": [
              "Audi A3           3097\n",
              "Audi A1           2614\n",
              "Opel Insignia     2598\n",
              "Opel Astra        2526\n",
              "Opel Corsa        2219\n",
              "Renault Clio      1839\n",
              "Renault Espace     991\n",
              "Renault Duster      34\n",
              "Audi A2              1\n",
              "Name: make_model, dtype: int64"
            ]
          },
          "execution_count": 30,
          "metadata": {},
          "output_type": "execute_result"
        }
      ],
      "source": [
        "df.make_model.value_counts(dropna=False)"
      ]
    },
    {
      "cell_type": "markdown",
      "metadata": {
        "id": "Ho5XAx9K-zSO"
      },
      "source": [
        "## make"
      ]
    },
    {
      "cell_type": "code",
      "execution_count": null,
      "metadata": {
        "colab": {
          "base_uri": "https://localhost:8080/"
        },
        "id": "46ZwaVpt74uy",
        "outputId": "554694e6-9e49-4e5e-97fc-a67c56abbcf5"
      },
      "outputs": [
        {
          "data": {
            "text/plain": [
              "\\nOpel\\n       7343\n",
              "\\nAudi\\n       5712\n",
              "\\nRenault\\n    2864\n",
              "Name: Make, dtype: int64"
            ]
          },
          "execution_count": 31,
          "metadata": {},
          "output_type": "execute_result"
        }
      ],
      "source": [
        "df.Make.value_counts(dropna=False)"
      ]
    },
    {
      "cell_type": "code",
      "execution_count": null,
      "metadata": {
        "id": "VoHswjUD74wm"
      },
      "outputs": [],
      "source": [
        "df['Make'] = df.Make.str.strip('\\n')"
      ]
    },
    {
      "cell_type": "code",
      "execution_count": null,
      "metadata": {
        "colab": {
          "base_uri": "https://localhost:8080/"
        },
        "id": "IWv40tg1_Ukb",
        "outputId": "9d27b18c-500a-492a-d6ab-206b12661d16"
      },
      "outputs": [
        {
          "data": {
            "text/plain": [
              "Opel       7343\n",
              "Audi       5712\n",
              "Renault    2864\n",
              "Name: Make, dtype: int64"
            ]
          },
          "execution_count": 33,
          "metadata": {},
          "output_type": "execute_result"
        }
      ],
      "source": [
        "df.Make.value_counts(dropna=False)"
      ]
    },
    {
      "cell_type": "markdown",
      "metadata": {
        "id": "jqvFTZGg_eud"
      },
      "source": [
        "## Model"
      ]
    },
    {
      "cell_type": "code",
      "execution_count": null,
      "metadata": {
        "colab": {
          "base_uri": "https://localhost:8080/",
          "height": 391
        },
        "id": "E1QCbrpe74yx",
        "outputId": "60ed357e-fcb9-4634-e6ee-9a78d25a14f6"
      },
      "outputs": [
        {
          "data": {
            "text/plain": [
              "[\\n, A3, \\n]          3097\n",
              "[\\n, A1, \\n]          2614\n",
              "[\\n, Insignia, \\n]    2598\n",
              "[\\n, Astra, \\n]       2526\n",
              "[\\n, Corsa, \\n]       2219\n",
              "[\\n, Clio, \\n]        1839\n",
              "[\\n, Espace, \\n]       991\n",
              "[\\n, Duster, \\n]        34\n",
              "[\\n, A2, \\n]             1\n",
              "Name: Model, dtype: int64"
            ]
          },
          "execution_count": 34,
          "metadata": {},
          "output_type": "execute_result"
        }
      ],
      "source": [
        "df['Model'].value_counts(dropna=False)"
      ]
    },
    {
      "cell_type": "code",
      "execution_count": null,
      "metadata": {
        "colab": {
          "base_uri": "https://localhost:8080/"
        },
        "id": "pDcsOkHN741G",
        "outputId": "c3154622-62bf-4d1d-b87f-d2336a308019"
      },
      "outputs": [
        {
          "data": {
            "text/plain": [
              "['\\n', 'A1', '\\n']"
            ]
          },
          "execution_count": 35,
          "metadata": {},
          "output_type": "execute_result"
        }
      ],
      "source": [
        "df['Model'][0]"
      ]
    },
    {
      "cell_type": "code",
      "execution_count": null,
      "metadata": {
        "colab": {
          "base_uri": "https://localhost:8080/",
          "height": 36
        },
        "id": "q1sHR8v-743i",
        "outputId": "4e57cc77-289d-408b-c6ca-a5936db5c137"
      },
      "outputs": [
        {
          "data": {
            "text/plain": [
              "'A1'"
            ]
          },
          "execution_count": 36,
          "metadata": {},
          "output_type": "execute_result"
        }
      ],
      "source": [
        "df['Model'][0][1]"
      ]
    },
    {
      "cell_type": "code",
      "execution_count": null,
      "metadata": {
        "colab": {
          "base_uri": "https://localhost:8080/"
        },
        "id": "Vuj2LHnj745p",
        "outputId": "815ab68f-5995-4de0-edf2-1ab761f2a32c"
      },
      "outputs": [
        {
          "data": {
            "text/plain": [
              "0            A1\n",
              "1            A1\n",
              "2            A1\n",
              "3            A1\n",
              "4            A1\n",
              "          ...  \n",
              "15914    Espace\n",
              "15915    Espace\n",
              "15916    Espace\n",
              "15917    Espace\n",
              "15918    Espace\n",
              "Name: Model, Length: 15919, dtype: object"
            ]
          },
          "execution_count": 37,
          "metadata": {},
          "output_type": "execute_result"
        }
      ],
      "source": [
        "df.Model.str[1]"
      ]
    },
    {
      "cell_type": "code",
      "execution_count": null,
      "metadata": {
        "id": "QtI-nBJ-747r"
      },
      "outputs": [],
      "source": [
        "df['Model']=df.Model.str[1]"
      ]
    },
    {
      "cell_type": "code",
      "execution_count": null,
      "metadata": {
        "colab": {
          "base_uri": "https://localhost:8080/"
        },
        "id": "tnStNK0MAZo3",
        "outputId": "095ee559-3410-4bc3-aa0b-04bde3a283dc"
      },
      "outputs": [
        {
          "data": {
            "text/plain": [
              "A3          3097\n",
              "A1          2614\n",
              "Insignia    2598\n",
              "Astra       2526\n",
              "Corsa       2219\n",
              "Clio        1839\n",
              "Espace       991\n",
              "Duster        34\n",
              "A2             1\n",
              "Name: Model, dtype: int64"
            ]
          },
          "execution_count": 39,
          "metadata": {},
          "output_type": "execute_result"
        }
      ],
      "source": [
        "df.Model.value_counts(dropna=False)"
      ]
    },
    {
      "cell_type": "code",
      "execution_count": null,
      "metadata": {
        "id": "RnRgMLLgAZuY"
      },
      "outputs": [],
      "source": [
        "df.drop(['Make','Model'],axis=1,inplace=True)"
      ]
    },
    {
      "cell_type": "markdown",
      "metadata": {
        "id": "mEGttPR_A86g"
      },
      "source": [
        "**\"make_model\" column gives us a more detailed information for our analysis.After the examination of the following columns, \"Make\" & \"Model\" I have decided to drop them.**"
      ]
    },
    {
      "cell_type": "markdown",
      "metadata": {
        "id": "yF6NYIb4BIuR"
      },
      "source": [
        "## short_description"
      ]
    },
    {
      "cell_type": "code",
      "execution_count": null,
      "metadata": {
        "colab": {
          "base_uri": "https://localhost:8080/"
        },
        "id": "XdntNYY2AZwe",
        "outputId": "7fa040a2-cb92-4a05-9eb6-5a0dceea7fab"
      },
      "outputs": [
        {
          "data": {
            "text/plain": [
              "SPB 1.6 TDI 116 CV S tronic Sport                 64\n",
              "None                                              46\n",
              "1.4 66kW (90CV) Selective                         40\n",
              "MOVE KLIMA CD USB ALLWETTER BLUETOOTH             38\n",
              "SPB 30 TDI S tronic Business                      35\n",
              "                                                  ..\n",
              "K Sports Tourer Business **Navi*Voll**             1\n",
              "1.0 Turbo ecoFLEX Automatic Elective Park Navi     1\n",
              "1.6 CDTI Business *Navi*Automatik*Spurh.*          1\n",
              "1.6 136 CV Automatica Navi E 6 Garanzia Full       1\n",
              "TCe 225 EDC GPF LIM Deluxe Pano,RFK                1\n",
              "Name: short_description, Length: 10002, dtype: int64"
            ]
          },
          "execution_count": 41,
          "metadata": {},
          "output_type": "execute_result"
        }
      ],
      "source": [
        "df.short_description.value_counts(dropna=False)"
      ]
    },
    {
      "cell_type": "code",
      "execution_count": null,
      "metadata": {
        "id": "pbefB_rvBPuB"
      },
      "outputs": [],
      "source": [
        "df.drop('short_description',axis=1,inplace=True)"
      ]
    },
    {
      "cell_type": "markdown",
      "metadata": {
        "id": "GzKXkyq9Bh4m"
      },
      "source": [
        "## description"
      ]
    },
    {
      "cell_type": "code",
      "execution_count": null,
      "metadata": {
        "id": "9W9JI1xWBPwl",
        "outputId": "1b26ec4c-d328-4d2c-bb04-0e7bda36ef65"
      },
      "outputs": [
        {
          "data": {
            "text/plain": [
              "[]                                                                                                                                                                                                                                                                                                                                                                                                                                                                                                                                                                                                                                                                                                                                                                                                                                                                                                                                                                                                                                                                                                                                                                                                                                                                                                                                                                                                                                                                                                                                                                                                                                                                                                                                                                                                                                                                                                                                                                                                                                                                                                                                                                                                                                                                                                                                                                                                                                                                                                                                                                                                                                                                                                                                                                                                                                                                                               636\n",
              "['\\n', '\\n']                                                                                                                                                                                                                                                                                                                                                                                                                                                                                                                                                                                                                                                                                                                                                                                                                                                                                                                                                                                                                                                                                                                                                                                                                                                                                                                                                                                                                                                                                                                                                                                                                                                                                                                                                                                                                                                                                                                                                                                                                                                                                                                                                                                                                                                                                                                                                                                                                                                                                                                                                                                                                                                                                                                                                                                                                                                                                      30\n",
              "['\\n', 'Fahrzeugbeschreibung', ' Sichern Sie sich diesen Renault Clio 1.6 TCE Energy Sport Trophy zum Top-Preis inklusive dem ', 'AUTOHERO-RUNDUM-SORGLOS-PAKET', ' ', 'Infos:', ' 1.Hand, deutsche Auslieferung, Unfallfrei, scheckheftgepflegt', ' ', 'Highlights', ' ', 'Audio-Navigationssystem R-Link Evolution mit Touchscreen und Carminat TomTom', ' ', 'Sportsitze ', ' ', 'Sportfahrwerk', ' ', 'Scheinwerfer Full-LED ', 'Komfort', ' ', 'Geschwindigkeits-Regelanlage (Tempomat) ', ' ', 'Klimaanlage', ' ', 'Einparkhilfe hinten', ' ', 'Multifunktionslenkrad (Sport/Leder) mit Schaltwippen/-tasten ', ' ', 'Fensterheber elektr. mit Impulsgeber links/rechts vorn', ' ', 'Zentralverriegelung / Startanlage Handsfree Entry & Drive ', ' ', 'Berganfahr-Assistent (HSA) ', 'Multimedia', ' ', 'Audiosystem: Radio R & GO (Bluetooth, DAB-Tuner)', ' ', 'Bordcomputer', ' ', 'Freisprecheinrichtung Bluetooth ', ' ', 'USB-Anschluss inkl. AUX-IN-Anschluss (Plug & Music) ', 'Licht und Sicht', ' ', 'Außenspiegel elektr. verstell- und heizbar ', ' ', 'Licht- und Regensensor ', ' ', 'Tagfahrlicht LED ', ' ', 'Nebelscheinwerfer LED ', ' ', 'Coming-Home-Lichtfunktion ', ' ', 'Heckleuchten LED ', 'Sicherheit', ' ', 'Isofix-Aufnahmen für Kindersitz ', ' ', 'Seitenairbag vorn', ' ', 'Wegfahrsperre', ' ', 'Differentialsperre', ' ', 'Bremsassistent ', ' ', 'Elektron. Stabilitäts-Programm (ESP)', ' ', 'Anti-Blockier-System (ABS)', ' ', 'Anti-Submarining-Airbag im Fond', ' ', 'Airbag Fahrer-/Beifahrerseite ', ' ', 'Differentialsperre ', ' ', 'Reifendruck-Kontrollsystem ', ' ', 'Untersteuerungskontrolle (USC) ', ' ', 'Antischlupfregelung (ASR) ', 'Weiteres', ' ', 'Start/Stop-Anlage ', ' ', 'Servolenkung geschwindigkeitsabhängig', ' ', 'R.S. Drive (Fahrmodusschalter) ', ' ', 'Gepäckraumabdeckung / Rollo ', ' ', 'Heckdiffusor ', ' ', 'LM-Felgen ', ' ', 'Heckspoiler (Renault Sport) ', ' ', 'Pedale Aluminium ', ' ', 'Energierückgewinnung (Energy Smart Management) ', ' ', 'Elektr. Bremskraftverteilung ', ' ', 'Reifen-Reparaturkit ', ' ', 'Sitzbezug / Polsterung: Stoff ', ' Ihr ', 'AUTOHERO-RUNDUM-SORGLOS-PAKET', ' beinhaltet:', 'Kostenlose Lieferung in Ihre Nähe', 'Optische & technische Aufbereitung', 'Mindestens 12 Monate gültige HU und AU', '1-Jahr-Premium-Garantie', 'Zulassung inklusive ', '14-Tage-Rückgaberecht', 'Markenunabhängige Inzahlungnahme ', 'Individuelle Finanzierungen zu fairen Konditionen', ' ', 'HIER GEHT ES ZUR 360° - ANSICHT DES FAHRZEUGES:', ':', 'https://www.autohero.com/de/renault-clio-1-6-tce-energy-renault-sport-trophy/id/f7ca29bf-e005-453f-bbc9-8c6fe892dec6/', ' ', 'Haftungsausschluss', ':', 'Für Angaben vom Verkäufer, des Herstellers oder von Datenbankabfragen übernimmt Autohero keine Haftung. Änderungen, Zwischenverkauf und Irrtümer sind vorbehalten.\\n']     27\n",
              "['\\nPosibilidad de prueba del vehículo hasta 5 días. Consultar condiciones. PVP para particulares. Varias unidades y colores disponibles. Precios publicados para vehículos industriales (furgonetas) válidos para compradores autónomos o empresas, consultar condiciones para particulares. Las imágenes y kilómetros pueden no corresponder con el modelo anunciado. Para confirmar póngase en contacto con nuestro departamento comercial. Consulta las excepcionales condiciones de financiación que tenemos disponibles. Precio de venta final IVA y gastos de transferencia incluidos. Horario de atención al cliente: Lunes a Viernes de 09:00 a 18:00.\\n']                                                                                                                                                                                                                                                                                                                                                                                                                                                                                                                                                                                                                                                                                                                                                                                                                                                                                                                                                                                                                                                                                                                                                                                                                                                                                                                                                                                                                                                                                                                                                                                                                                                                                                                                                                                                                                                                                                                                                                                                                                                                                                                                                                                                                               27\n",
              "['\\nSichern Sie sich diesen RENAULT CLIO 1.2 LIMITED zum Top-Preis inklusive dem', 'AUTOHERO-RUNDUM-SORGLOS-PAKET', ' ', 'Infos:', ' 2.Hand, mindestens 12 Monate gültige HU und AU, deutsche Ausführung, unfallfrei ', ' ', 'Highlights', ' ', 'Audio-Navigationssystem mit Touchscreen-Farbdisplay', 'Komfort', ' ', 'Klimaanlage ', ' ', 'Multifunktionslenkrad in Leder ', ' ', 'Berganfahr-Assistent (HSA)', ' ', 'Fensterheber elektrisch vorn ', ' ', 'Geschwindigkeits-Regelanlage (Tempomat) ', ' ', 'Heckscheibe heizbar ', ' ', 'Sitz vorn links höhenverstellbar', ' ', 'Sitz vorn rechts umklappbar ', ' ', 'Stau-/Ablagefach im Laderaumboden ', ' ', 'Zentralverriegelung mit Fernbedienung ', 'Multimedia', ' ', 'Radio R&GO', ' ', 'Bluetooth Freisprechanlage ', ' ', 'USB-/AUX-Schnittstelle ', ' ', 'Bordcomputer', ' ', 'Licht und Sicht', ' ', 'Tagfahrlicht LED ', ' ', 'Außenspiegel elektrisch verstell- und heizbar', 'Sicherheit', ' ', 'Airbag für Fahrer und Beifahrer', ' ', 'Beifahrerairbag deaktivierbar ', ' ', 'Seitenairbags vorn ', ' ', 'Kopfairbagsystem', ' ', 'Anti-Blockier-System (ABS)', ' ', 'Elektronische Bremskraftverteilung ', ' ', 'Elektronische Stabilitäts-Programm (ESP) ', ' ', 'Reifen-Reparaturkit ', ' ', 'Reifendruck-Kontrollsystem ', ' ', 'Untersteuerungskontrolle (USC) ', ' ', 'ISOFIX Kindersitzverankerung ', 'Weiteres', ' ', 'Dachreling silber ', ' ', 'Look-Paket Chrom (außen) ', ' ', 'Look-Paket Grau (innen) ', ' ', 'R&GO-Paket ', ' ', 'Style-Paket ', ' Ihr ', 'AUTOHERO-RUNDUM-SORGLOS-PAKET', ' beinhaltet:', 'Kostenlose Lieferung in Ihre Nähe', 'Optische & technische Aufbereitung', 'Mindestens 12 Monate gültige HU und AU', '1-Jahr-Premium-Garantie', 'Zulassung inklusive ', '14-Tage-Rückgaberecht', 'Markenunabhängige Inzahlungnahme ', 'Individuelle Finanzierungen zu fairen Konditionen', ' ', 'HIER GEHT ES ZUR 360° - ANSICHT DES FAHRZEUGES:', ':', 'https://www.autohero.com/de/renault-clio-1-2-limited/id/30f99516-8785-47e7-a4a3-6cdac4d8e633/', ' ', 'Haftungsausschluss', ':', 'Für Angaben vom Verkäufer, des Herstellers oder von Datenbankabfragen übernimmt Autohero keine Haftung. Änderungen, Zwischenverkauf und Irrtümer sind vorbehalten.\\n']                                                                                                                                                                                                                                                                                                                                                                                                                                                                                                                                                                                                                                   27\n",
              "                                                                                                                                                                                                                                                                                                                                                                                                                                                                                                                                                                                                                                                                                                                                                                                                                                                                                                                                                                                                                                                                                                                                                                                                                                                                                                                                                                                                                                                                                                                                                                                                                                                                                                                                                                                                                                                                                                                                                                                                                                                                                                                                                                                                                                                                                                                                                                                                                                                                                                                                                                                                                                                                                                                                                                                                                                                                                                ... \n",
              "['\\nPratica\\xa067374', 'Airbag fullsize per conducente e passeggero, Alzacristalli elettrici ant. e post. con funzione attivaz. a pressione, Assetto dinamico, Audi drive select, Inserti in micrometallic argento, Kit riparazione pneumatici, Pacchetto di navigazione, Piano di copertura del vano bagagli estraibile, Presa AUX-IN, Proiettori allo Xenon Plus con reg. aut. prof. fari, Lavafari, Rivestimenti dei sedili in tessuto, Serbatoio AdBlue, Sistema controllo pressione pneumatici, Sistema di ancoraggio ISOFIX e 3° punto di ancoraggio Top Tether sui sedili post. laterali, Sistema di informazioni per il conducente con display monocromatico, Tappetini anteriori e posteriori, Versione Business, Volante sportivo multifunzionale in pelle 3 razze, ABS, EBV (Ripartitore elettronico della forza frenante), Airbag laterali anteriori integrati negli schienali dei sedili, Airbag per la testa, Airbag per le ginocchia (lato conducente), Appoggiatesta anteriori (2) e posteriori (3) regolabili, Radio MMI plus, Interfaccia Bluetooth, Appoggiabraccia centrale anteriore, Cambio manuale, Cerchi in lega 7 J x 16\" a 5 razze a stella, Chiusura centralizzata con telecomando, Regolatore di velocità, ESC - Sistema elettronico di controllo della stabilizzazione con bloccaggio trasversale elettronico, ASR - Dispositivo di controllo della trazione, EDS (Dispositivo antislittamento in partenza), Filtro anti particolato, Cinture di sicurezza con pretensionatore, Specchietti retrovisivi esterni riscaldabili e ripiegabili elettricamente, Schienale del sedile posteriore ribaltabile (divisibile in rapporto 40:60 o ribaltabile completam.), Sistema di ausilio al parcheggio posteriore, Servosterzo elettromeccanico, Tergilunotto\\n']                                                                                                                                                                                                                                                                                                                                                                                                                                                                                                                                                                                                                                                                                                                                                                                                                                                                                                                                                                                                                                                                                                          1\n",
              "['\\n', 'Getriebe:', ' Schaltgetriebe', 'Technik:', ' Bordcomputer, Start-Stop-Automatik', 'Assistenten:', ' Regensensor, Lichtsensor, Berganfahrassistent', 'Komfort:', ' Servolenkung, Zentralverriegelung, Elektrischer Fensterheber, Sitzheizung, Elektrische Aussenspiegel, Teilbare Ruecksitzlehne, Tempomat, Park Distance Control, Multifunktionslenkrad, Innenspiegel autom. abblendbar, Mittelarmlehne, Innenraumfilter, Lenksaeule einstellbar, Sportsitze, Klimaautomatik-2-Zonen', 'Sicht:', ' Xenon Scheinwerfer, Colorverglasung, Scheinwerferreinigung, Aussenspiegel beheizbar, Privacyverglasung', 'Sicherheit:', ' ABS, Airbag, Beifahrer-Airbag, Wegfahrsperre, Seitenairbags, ESP, Antriebsschlupfregelung, Reifendruckkontrolle, Traktionskontrolle, Kopfairbag, Knieairbag, Kindersitzbefestigung, Pannenkit', 'Entertainment:', ' CD, Radio, AUX-In, USB-Anschluss, MP3, Bluetooth, Freisprecheinrichtung', 'Umwelt:', ' Grüne Umweltplakette, ', 'Energieeffizienzklasse B', 'Qualität:', ' Garantie, Scheckheftgepflegt, HUAU neu, Nichtraucherfahrzeug', 'Sonstiges:', ' Metallic, Alufelgen, Dachreling, Gepaeckraumabdeckung, Stossfaenger in Wagenfarbe, Sportfahrwerk', 'Weiteres:', ' Connectivity-Paket inkl. Bluetooth-Schnittstelle, Klimaautomatik 2-Zonen, Optik-Paket schwarz Audi exclusive, Einparkhilfe (APS), Verglasung hinten abgedunkelt, Sitzheizung vorn, Dachreling (Aluminium), Soundsystem DSP / Audi Sound-System, Ablage- und Gepäckraum-Paket, Audi music interface, Scheibenwaschdüsen heizbar, Vorbereitung Navigationssystem, Adaptives Bremslicht, Anfahr-Assistent (hold assist), Antriebsart: Frontantrieb, Audi Drive Select, Außenspiegel Wagenfarbe, Blinkleuchten LED in Außenspiegel integriert, Bremsanlage mit Rekuperation - Bremsenergierückgewinnung, Bremsassistent, Dachspoiler, Dekoreinlagen Aluminium Mistral, Einstiegsleisten Aluminium, Elektron. Differentialsperre (EDS), Elektron. Stabilitätskontrolle (ESC), Elektron. Stabilitäts-Programm, Euro 6, Fahrer-Informations-System (FIS), Fensterheber elektrisch vorn und hinten, Frontscheibe Akustikglas, Fußmatten Velours, Getriebe 6-Gang, Heckscheibe heizbar, Interieur Aluminium-Optik, Isofix-Aufnahmen für Kindersitz, Kopfstützen hinten, Multi-Media-Interface MMI, Parkbremse elektro-mechanisch, Polster: Stoff Rallye, Servolenkung elektro-mechanisch, Sitze vorn mit ausziehbarer Oberschenkelauflage, Sitzhöhenverstellung, Sport/Lederlenkrad, Sport-Fahrwerk, Start/Stop-Anlage, Telefon-Vorbereitung mit Bluetooth-Schnittstelle, Wagenheber, Wärmeschutzverglasung, Xenon Plus, ZV mit Fernbedienung', '... Änderungen, Zwischenverkauf und Irrtümer vorbehalten.', ' by CG360.de\\n']                                                                                                                                                         1\n",
              "['\\n', 'Getriebe', '6-Gang', 'Licht und Sicht', 'Xenon-Scheinwerfer Plus (Abblend- und Fernlicht)', 'Technik und Sicherheit', 'Fahrerairbag', 'Airbag Fahrer-/Beifahrerseite', 'Seitenairbag vorn', 'Kopfairbags', 'Anti-Blockier-System (ABS)', 'Elektron. Stabilitätskontrolle (ESC)', 'Elektron. Differentialsperre (EDS)', 'Zentralverriegelung mit Fernbedienung', 'Schließ-/Startsystem Advanced Key (Komfortschlüssel)', 'Servolenkung elektro-mechanisch', 'Geschwindigkeits-Regelanlage (Tempomat)', 'Elektronische Wegfahrsperre', 'Bordcomputer', 'Reifendruck-Kontrollsystem', 'Assistenzsysteme', 'Fahrassistenz-System: Anfahr-Assistent (hold assist)', 'Multimedia', 'Multi-Media-Interface MMI Basic Plus / MMI Radio Plus', 'Audi Smartphone Interface', 'Komfort', 'Komfort-Klimaautomatik 2-Zonen', 'Einparkhilfe hinten (APS)', 'Fensterheber elektrisch', 'Licht- und Regensensor', 'Außenspiegel elektr. verstellbar beide', 'Scheibenwaschdüsen und Außenspiegel beheizt', 'Wärmeschutzverglasung grün getönt', 'Innenausstattung', 'Sitzheizung vorn', 'Lenkrad (Sport/Leder - 3-Speichen) mit Multifunktion', 'Mittelarmlehne vorn', 'Rücksitzlehne geteilt/klappbar', 'Aussenausstattung', 'LM-Felgen', 'Pakete', 'Komfort-Paket', 'Sonstiges', 'Rußpartikelfilter', 'Scheckheftgepflegt', 'Nichtraucherfahrzeug', 'Weitere Informationen', 'Schadstoffklasse: EURO 6D-TEMP', 'Connectivity-Paket', 'Glanz-Paket', 'LM-Felgen 7.5x17 (5-Speichen Y-Design)', 'Progressivlenkung', 'Antriebs-Schlupfregelung (ASR)', 'Elektron. Stabilitäts-Programm (ESP)', 'Getriebe 6-Gang', 'Lenkrad (Sport - 3-Speichen)', 'Parkbremse elektro-mechanisch', 'Sitze vorn höhenverstellbar', 'Vorrüstung Mobiltelefon/Handy mit Bluetooth-Schnittstelle', 'Audi music interface', 'Außenspiegel elektr. verstell- und heizbar beide', 'Vorbereitung Navigationssystem', 'Irrtümer und Änderungen vorbehalten.', 'Die im Internet angebotene Ausstattung ist kein Vertragsbestandteil.', 'Die Ausstattung muss vor Ort geprüft werden.', 'Das angebotene Fahrzeug kann von einer Rückrufaktion betroffen sein. Co2 Angaben können abweichen.', '\\n']                                                                                                                                                                                                                                                                                                                                                                                                                                                                                                                                                                                                                                                                                                                                   1\n",
              "['\\n', 'Aluminium-Gussräder im 5-Speichen-Stern-Design Größe 7 J x 16 mit Reifen 205/55 R 16', 'Dachreling eloxiert', 'Einparkhilfe hinten', 'Fahrerinformationssystem mit Farbdisplay', 'Lederlenkrad im 3-Speichen-Design mit Multifunktion plus', 'Ablage-/Gepäckraumpaket mit erweitertem USB-Buchsen-Angebot', 'Lichtpaket', \"Reifen 16'\", 'Anlaufvariante RdW', 'Vorbereitung für Anhängevorrichtung', 'Audi sound system', 'Reifen 205/55 R16 91W', 'Xenon plus', 'Allwetterlicht', 'Kopfstützen hinten (3 Stück)', 'MMI Radio plus', 'Zentralverriegelung mit Funkschlüssel', 'Bluetooth-Schnittstelle', 'Innenspiegel abblendbar', 'elektronische Stabilisierungskontrolle (ESC)', 'Airbags', '6-Gang-Schaltgetriebe', 'Seitenairbags vorn und Kopfairbagsystem', 'elektromechanische Servolenkung', 'Leuchtweitenregulierung automatisch-statisch', 'Scheibenwaschdüsen beheizbar vorn', 'Reifendruck-Kontrollanzeige', 'Tagfahrlicht', 'Start-Stop-System', 'AUX-IN-Anschluss', 'Kindersitzverankerung ISOFIX und Top Tether für die äußeren Fondsitze', 'Sitzbezüge in Stoff Index', 'Wärmeschutzverglasung', 'Akustikfrontscheibe', 'Außenspiegel links asphärisch', 'Außen-Sound Standard', 'Außenspiegel rechts (großes Sichtfeld) konvex', 'elektromechanische Parkbremse', 'Dachhimmel in Stoff felsgrau', 'Kraftstoffsystem Otto-Einspritzer', 'Linkslenker', 'Reifenreparaturset', 'Heckleuchten', 'Scheibenwaschanlage', 'Entriegelung Hintersitz Standard', 'Waschwasserstandsanzeige', 'Abgaskonzept EU6 AG/H/I', 'Frontantrieb', 'A3', 'Außenspiegelgehäuse in Wagenfarbe', 'Ohne erweitertem Sicherheitssystem', 'Geschwindigkeitsbegrenzungsanlage', 'Dachkantenspoiler', 'Heckscheibenwischer', 'Sportback', 'Kindersicherung manuell', 'Ohne Kamerasysteme/Umfeldsensorik', '4-Zyl. Ottomotor 1 5 L/110KW TSI Grundmotor ist: TJ7/N09/T9F', 'Nebelschlussleuchten', 'Nichtraucherausführung', 'Radstand', 'Doppeltonfanfare', 'Serienfahrwerk', '4 Türen', 'Modellbezeichnung gemäß neuer Leistungskennzeichnung', 'Warnleuchten', 'Zierleisten schwarz', 'Nichtraucherfahrzeug', 'Irrtümer Änderungen und Zwischenverkauf vorbehalten', 'sehr guter Zustand', 'Komfortklima', 'Aussenspiegel heizbar', 'elektrische Aussenspiegel', 'geteilte Rückbank', 'Scheckheft gepflegt', 'Fahrersitz höhenverstellbar', 'Beifahrersitz höhenverstellbar', '\\n']                                                                                                                                                                                                                                                                                                                                                                                                                                                                                                                 1\n",
              "['\\nDEK:[2691331]', 'Renault Espace Blue dCi 200CV EDC Business', 'Nuova da Immatricolare', 'COLORE: Grigio Titanio', 'INTERNO: Pelle+Tessuto', 'TRASMISSIONE: Cambio Automatico EDC', '---', 'ACCESSORI: ', '7 Posti', ', ', 'Cerchi in Lega 17, Navigatore con Display 8.7, Clima Automatico, Sensori di Parcheggio Anteriori e Posteriori con Retrocamera, Fari Full LED Pure Vision, Cruise Control, Renault Multisense', '---', 'Listino Nuovo 44.300 Euro', 'Prezzo Gruppo Carmeli: 39.700 Euro (Esclusa IPT e Messa in Strada)', 'IVA Esposta', 'In caso di Adesione alla PROMO GRUPPO CARMELI puoi Averla a 36.000 Euro', 'Contattaci per scoprire tutti i vantaggi della PROMO GRUPPO CARMELI', '____________________________________', 'Gruppo Carmeli S.p.A. è Concessionaria e Service ufficiale dei Marchi Renault, Dacia, Nissan, Mercedes e Smart per la provincia di Brescia e Bergamo ed opera nel mercato dell’auto da più di 40 anni.', 'Nelle sedi di Brescia (Nissan e Renault-Dacia Autospazio), di Coccaglio (Renault-Dacia e Nissan) e di Bergamo (Nissan) oltre a tutta la gamma di veicoli dei Marchi rappresentati, propone anche 2.000 auto a Km Zero e Aziendali di tutte le marche.', 'Offriamo Servizi:', '-VALUTAZIONE e PERMUTA del tuo USATO', '-ACQUISTO con pagamento immediato del tuo USATO', '-FINANZIAMENTI e LEASING agevolati', '-NOLEGGIO A LUNGO TERMINE di veicoli di tutte le marche', '-PACCHETTI ASSICURATIVI su misura con possibilità di garanzia del valore a Nuovo', '____________________________________', \"Sebbene sia stato fatto ogni ragionevole sforzo per assicurare l'esattezza delle informazioni riportate, vi potrebbero essere involontarie incongruenze riguardanti le immagini e la descrizione degli accessori, che pertanto non rappresentano vincolo contrattuale. Per ulteriori informazioni sulle condizioni economiche ti invitiamo a contattarci.\", '\\n']                                                                                                                                                                                                                                                                                                                                                                                                                                                                                                                                                                                                                                                                                                                                                                                                                                                                                                                                                                1\n",
              "Name: description, Length: 12874, dtype: int64"
            ]
          },
          "execution_count": 43,
          "metadata": {},
          "output_type": "execute_result"
        }
      ],
      "source": [
        "df.description.astype(str).value_counts(dropna=False)"
      ]
    },
    {
      "cell_type": "code",
      "execution_count": null,
      "metadata": {
        "id": "C6tlWpYrBP02"
      },
      "outputs": [],
      "source": [
        "df.drop(\"description\", axis=1, inplace=True)"
      ]
    },
    {
      "cell_type": "markdown",
      "metadata": {
        "id": "6l6z73eZB3MO"
      },
      "source": [
        "**Even if the columns of \"short_description\" & \"description\" contain detailed information, we do NOT need it since this information can be obtained from other features.**"
      ]
    },
    {
      "cell_type": "markdown",
      "metadata": {
        "id": "GtkLCse5CAxX"
      },
      "source": [
        "## body_type"
      ]
    },
    {
      "cell_type": "code",
      "execution_count": null,
      "metadata": {
        "colab": {
          "base_uri": "https://localhost:8080/"
        },
        "id": "FZA0MoyvBP2z",
        "outputId": "4ba880c8-60f7-4e0d-f52e-6455fbd26043"
      },
      "outputs": [
        {
          "data": {
            "text/plain": [
              "Sedans           7903\n",
              "Station wagon    3553\n",
              "Compact          3153\n",
              "Van               783\n",
              "Other             290\n",
              "Transporter        88\n",
              "None               60\n",
              "Off-Road           56\n",
              "Coupe              25\n",
              "Convertible         8\n",
              "Name: body_type, dtype: int64"
            ]
          },
          "execution_count": 45,
          "metadata": {},
          "output_type": "execute_result"
        }
      ],
      "source": [
        "df.body_type.value_counts(dropna=False)"
      ]
    },
    {
      "cell_type": "markdown",
      "metadata": {
        "id": "7PyHXbAKCSLQ"
      },
      "source": [
        "## Body"
      ]
    },
    {
      "cell_type": "code",
      "execution_count": null,
      "metadata": {
        "colab": {
          "base_uri": "https://localhost:8080/",
          "height": 408
        },
        "id": "AI99AKcXBNdp",
        "outputId": "b4688ecd-7059-48e0-9cbc-6a141db57596"
      },
      "outputs": [
        {
          "data": {
            "text/plain": [
              "[\\n, Sedans, \\n]           7903\n",
              "[\\n, Station wagon, \\n]    3553\n",
              "[\\n, Compact, \\n]          3153\n",
              "[\\n, Van, \\n]               783\n",
              "[\\n, Other, \\n]             290\n",
              "[\\n, Transporter, \\n]        88\n",
              "NaN                          60\n",
              "[\\n, Off-Road, \\n]           56\n",
              "[\\n, Coupe, \\n]              25\n",
              "[\\n, Convertible, \\n]         8\n",
              "Name: Body, dtype: int64"
            ]
          },
          "execution_count": 46,
          "metadata": {},
          "output_type": "execute_result"
        }
      ],
      "source": [
        "df.Body.value_counts(dropna=False)"
      ]
    },
    {
      "cell_type": "code",
      "execution_count": null,
      "metadata": {
        "id": "T9RRC1D2BNjz"
      },
      "outputs": [],
      "source": [
        "df.drop('Body',axis=1,inplace=True)"
      ]
    },
    {
      "cell_type": "markdown",
      "metadata": {
        "id": "iIfFZIEJCmSD"
      },
      "source": [
        "**Both the columns of \"body_type\" & \"Body\" have the same information, we will keep the \"body_type\" column which is more readable.**"
      ]
    },
    {
      "cell_type": "markdown",
      "metadata": {
        "id": "uz905MznCrkq"
      },
      "source": [
        "## price (target column)   \n",
        " \n",
        "**Target column is not manipulated by principle.**"
      ]
    },
    {
      "cell_type": "code",
      "execution_count": null,
      "metadata": {
        "colab": {
          "base_uri": "https://localhost:8080/"
        },
        "id": "uAkhFrPAAZyr",
        "outputId": "412dc9fc-99d2-46ab-8400-03faa0c564f6"
      },
      "outputs": [
        {
          "data": {
            "text/plain": [
              "14990    154\n",
              "15990    151\n",
              "10990    139\n",
              "15900    106\n",
              "17990    102\n",
              "        ... \n",
              "17559      1\n",
              "17560      1\n",
              "17570      1\n",
              "17575      1\n",
              "39875      1\n",
              "Name: price, Length: 2956, dtype: int64"
            ]
          },
          "execution_count": 48,
          "metadata": {},
          "output_type": "execute_result"
        }
      ],
      "source": [
        "df.price.value_counts(dropna=False)"
      ]
    },
    {
      "cell_type": "code",
      "execution_count": null,
      "metadata": {
        "colab": {
          "base_uri": "https://localhost:8080/"
        },
        "id": "j2xaozC7Cy8D",
        "outputId": "984544ec-a03b-4048-bacc-f5a15cda1821"
      },
      "outputs": [
        {
          "data": {
            "text/plain": [
              "0"
            ]
          },
          "execution_count": 49,
          "metadata": {},
          "output_type": "execute_result"
        }
      ],
      "source": [
        "df.price.isnull().sum()"
      ]
    },
    {
      "cell_type": "code",
      "execution_count": null,
      "metadata": {
        "colab": {
          "base_uri": "https://localhost:8080/",
          "height": 388
        },
        "id": "k3zKFC4HCy-y",
        "outputId": "d3f5ad83-1145-445a-a4e3-dd0230fdc447"
      },
      "outputs": [
        {
          "data": {
            "image/png": "[encoded data removed]",
            "text/plain": [
              "<Figure size 720x432 with 1 Axes>"
            ]
          },
          "metadata": {},
          "output_type": "display_data"
        }
      ],
      "source": [
        "sns.boxplot(df.price);"
      ]
    },
    {
      "cell_type": "code",
      "execution_count": null,
      "metadata": {
        "colab": {
          "base_uri": "https://localhost:8080/",
          "height": 399
        },
        "id": "25LIrCuYCzBZ",
        "outputId": "2073c077-c13d-4666-a32b-7b522788b61c"
      },
      "outputs": [
        {
          "data": {
            "image/png": "[encoded data removed]",
            "text/plain": [
              "<Figure size 720x432 with 1 Axes>"
            ]
          },
          "metadata": {},
          "output_type": "display_data"
        }
      ],
      "source": [
        "sns.distplot(df.price);"
      ]
    },
    {
      "cell_type": "markdown",
      "metadata": {
        "id": "CLMuDCp4SmJ5"
      },
      "source": [
        "## vat\n",
        "\n",
        "The Value Added Tax, or VAT, in the European Union is a general, broadly based consumption tax assessed on the value added to goods and services."
      ]
    },
    {
      "cell_type": "code",
      "execution_count": null,
      "metadata": {
        "colab": {
          "base_uri": "https://localhost:8080/"
        },
        "id": "y4hAW1LbCzDP",
        "outputId": "8fadf332-178f-4bb8-f24a-cb315bfc914c"
      },
      "outputs": [
        {
          "data": {
            "text/plain": [
              "VAT deductible      10980\n",
              "None                 4513\n",
              "Price negotiable      426\n",
              "Name: vat, dtype: int64"
            ]
          },
          "execution_count": 52,
          "metadata": {},
          "output_type": "execute_result"
        }
      ],
      "source": [
        "df.vat.value_counts(dropna=False)"
      ]
    },
    {
      "cell_type": "markdown",
      "metadata": {
        "id": "VIG9YDkSTLQd"
      },
      "source": [
        "## km"
      ]
    },
    {
      "cell_type": "code",
      "execution_count": null,
      "metadata": {
        "colab": {
          "base_uri": "https://localhost:8080/"
        },
        "id": "H7i3tBziTJQd",
        "outputId": "2fff6a62-1571-4dfa-998b-e019355b1442"
      },
      "outputs": [
        {
          "data": {
            "text/plain": [
              "10 km        1045\n",
              "- km         1024\n",
              "1 km          367\n",
              "5 km          170\n",
              "50 km         148\n",
              "             ... \n",
              "67,469 km       1\n",
              "43,197 km       1\n",
              "10,027 km       1\n",
              "35,882 km       1\n",
              "57 km           1\n",
              "Name: km, Length: 6690, dtype: int64"
            ]
          },
          "execution_count": 53,
          "metadata": {},
          "output_type": "execute_result"
        }
      ],
      "source": [
        "df.km.value_counts(dropna=False)"
      ]
    },
    {
      "cell_type": "code",
      "execution_count": null,
      "metadata": {
        "id": "9WAu9IGvTJZF"
      },
      "outputs": [],
      "source": [
        "#alternative\n",
        "#df[\"km\"]=df.km.str.replace(\",\",\"\").str.rstrip(\"km\").replace(\"-\",np.nan).astype(float)"
      ]
    },
    {
      "cell_type": "code",
      "execution_count": null,
      "metadata": {
        "id": "ZFeb38zSTJbJ"
      },
      "outputs": [],
      "source": [
        "df[\"km\"] = df.km.str.replace(',','').str.extract('(\\d{1,8})')[0].astype('float')  \n",
        "#Function of extract returns a dataframe, that's why we have to use slicing method before changing the type of column\n",
        "#astype(float) is needed here,because there are nan values, column is not be converted to numeric type.Being float is one way of nan&numeric column.\n",
        "#str.(extract('(\\d+)')"
      ]
    },
    {
      "cell_type": "code",
      "execution_count": null,
      "metadata": {
        "colab": {
          "base_uri": "https://localhost:8080/"
        },
        "id": "ErrmlKjUTJdq",
        "outputId": "769286c1-3e34-48f7-96e9-cbbb4a69d5ec"
      },
      "outputs": [
        {
          "data": {
            "text/plain": [
              "10.00       1045\n",
              "NaN         1024\n",
              "1.00         367\n",
              "5.00         170\n",
              "50.00        148\n",
              "            ... \n",
              "67469.00       1\n",
              "43197.00       1\n",
              "10027.00       1\n",
              "35882.00       1\n",
              "57.00          1\n",
              "Name: km, Length: 6690, dtype: int64"
            ]
          },
          "execution_count": 56,
          "metadata": {},
          "output_type": "execute_result"
        }
      ],
      "source": [
        "df.km.value_counts(dropna=False)"
      ]
    },
    {
      "cell_type": "code",
      "execution_count": null,
      "metadata": {
        "colab": {
          "base_uri": "https://localhost:8080/"
        },
        "id": "fMcXtJrPTJgL",
        "outputId": "0e0f9e69-8748-4f6f-d1f3-10faa278736c"
      },
      "outputs": [
        {
          "data": {
            "text/plain": [
              "1024"
            ]
          },
          "execution_count": 57,
          "metadata": {},
          "output_type": "execute_result"
        }
      ],
      "source": [
        "df.km.isnull().sum()"
      ]
    },
    {
      "cell_type": "markdown",
      "metadata": {
        "id": "GAYfXWnWa0Ic"
      },
      "source": [
        "## registration & First Registration"
      ]
    },
    {
      "cell_type": "code",
      "execution_count": null,
      "metadata": {
        "colab": {
          "base_uri": "https://localhost:8080/"
        },
        "id": "9C5ROmR8TJig",
        "outputId": "13aff70e-1527-4b5a-f821-293287dc3a02"
      },
      "outputs": [
        {
          "data": {
            "text/plain": [
              "-/-        1597\n",
              "03/2018     695\n",
              "02/2019     585\n",
              "05/2018     572\n",
              "03/2019     543\n",
              "01/2019     541\n",
              "04/2018     541\n",
              "02/2018     539\n",
              "03/2016     536\n",
              "04/2016     532\n",
              "06/2018     532\n",
              "01/2018     511\n",
              "04/2019     506\n",
              "02/2016     472\n",
              "03/2017     471\n",
              "05/2016     459\n",
              "06/2016     452\n",
              "05/2019     440\n",
              "06/2017     409\n",
              "05/2017     404\n",
              "07/2018     396\n",
              "04/2017     380\n",
              "01/2016     376\n",
              "02/2017     368\n",
              "01/2017     306\n",
              "08/2018     285\n",
              "06/2019     224\n",
              "07/2017     215\n",
              "11/2017     180\n",
              "07/2016     176\n",
              "10/2016     160\n",
              "10/2017     154\n",
              "09/2017     149\n",
              "11/2016     142\n",
              "09/2018     141\n",
              "09/2016     141\n",
              "12/2016     134\n",
              "12/2017     123\n",
              "08/2017     114\n",
              "11/2018     110\n",
              "12/2018     103\n",
              "10/2018      97\n",
              "08/2016      94\n",
              "07/2019       6\n",
              "09/2019       5\n",
              "08/2019       1\n",
              "11/2019       1\n",
              "12/2019       1\n",
              "Name: registration, dtype: int64"
            ]
          },
          "execution_count": 58,
          "metadata": {},
          "output_type": "execute_result"
        }
      ],
      "source": [
        "df.registration.value_counts(dropna=False)"
      ]
    },
    {
      "cell_type": "code",
      "execution_count": null,
      "metadata": {
        "colab": {
          "base_uri": "https://localhost:8080/",
          "height": 321
        },
        "id": "G7VUyAUaa2c9",
        "outputId": "9c738712-9019-4d3f-8edb-9b8332428279"
      },
      "outputs": [
        {
          "data": {
            "text/plain": [
              "[\\n, 2018, \\n]    4522\n",
              "[\\n, 2016, \\n]    3674\n",
              "[\\n, 2017, \\n]    3273\n",
              "[\\n, 2019, \\n]    2853\n",
              "NaN               1597\n",
              "Name: First Registration, dtype: int64"
            ]
          },
          "execution_count": 59,
          "metadata": {},
          "output_type": "execute_result"
        }
      ],
      "source": [
        "df[\"First Registration\"].value_counts(dropna=False)"
      ]
    },
    {
      "cell_type": "markdown",
      "metadata": {
        "id": "Rr04dYRN6Z9r"
      },
      "source": [
        "**I prefer \"First Registration\" column because I don't need month values.**"
      ]
    },
    {
      "cell_type": "code",
      "execution_count": null,
      "metadata": {
        "id": "Fuum_kfya2iy"
      },
      "outputs": [],
      "source": [
        "df['First Registration']=df['First Registration'].str[1].astype(\"float\")\n"
      ]
    },
    {
      "cell_type": "code",
      "execution_count": null,
      "metadata": {
        "id": "ifcnuCkRa2kt"
      },
      "outputs": [],
      "source": [
        "df[\"age\"]=2022 - df['First Registration']"
      ]
    },
    {
      "cell_type": "code",
      "execution_count": null,
      "metadata": {
        "colab": {
          "base_uri": "https://localhost:8080/"
        },
        "id": "VYaCB5yLa2m1",
        "outputId": "48196645-94b5-4d5b-9601-65d3e31b5996"
      },
      "outputs": [
        {
          "data": {
            "text/plain": [
              "4.00    4522\n",
              "6.00    3674\n",
              "5.00    3273\n",
              "3.00    2853\n",
              "Name: age, dtype: int64"
            ]
          },
          "execution_count": 62,
          "metadata": {},
          "output_type": "execute_result"
        }
      ],
      "source": [
        "df[\"age\"].value_counts()"
      ]
    },
    {
      "cell_type": "code",
      "execution_count": null,
      "metadata": {
        "id": "RN97uaIVCzF1"
      },
      "outputs": [],
      "source": [
        "df.drop(['First Registration','registration'],axis=1,inplace=True)"
      ]
    },
    {
      "cell_type": "markdown",
      "metadata": {
        "id": "Qy5Elf-a63mj"
      },
      "source": [
        "## prev_owner & Previous Owners"
      ]
    },
    {
      "cell_type": "code",
      "execution_count": null,
      "metadata": {
        "colab": {
          "base_uri": "https://localhost:8080/"
        },
        "id": "ZnnFoSGO6z1W",
        "outputId": "72945bb9-a06e-4449-b851-6370a70d39be"
      },
      "outputs": [
        {
          "data": {
            "text/plain": [
              "Index(['make_model', 'body_type', 'price', 'vat', 'km', 'prev_owner', 'hp',\n",
              "       'Type', 'Previous Owners', 'Next Inspection', 'Inspection new',\n",
              "       'Warranty', 'Full Service', 'Non-smoking Vehicle', 'Offer Number',\n",
              "       'Body Color', 'Paint Type', 'Body Color Original', 'Upholstery',\n",
              "       'Nr. of Doors', 'Nr. of Seats', 'Model Code', 'Gearing Type',\n",
              "       'Displacement', 'Cylinders', 'Weight', 'Drive chain', 'Fuel',\n",
              "       'Consumption', 'CO2 Emission', 'Emission Class', 'Comfort_Convenience',\n",
              "       'Entertainment_Media', 'Extras', 'Safety_Security', 'Emission Label',\n",
              "       'Gears', 'Country version', 'age'],\n",
              "      dtype='object')"
            ]
          },
          "execution_count": 64,
          "metadata": {},
          "output_type": "execute_result"
        }
      ],
      "source": [
        "df.columns"
      ]
    },
    {
      "cell_type": "code",
      "execution_count": null,
      "metadata": {
        "colab": {
          "base_uri": "https://localhost:8080/"
        },
        "id": "kHwMQaWv6z3a",
        "outputId": "a3542f73-813e-4eaa-dd15-05dbbd51ff63"
      },
      "outputs": [
        {
          "data": {
            "text/plain": [
              "1 previous owner     8294\n",
              "None                 6828\n",
              "2 previous owners     778\n",
              "3 previous owners      17\n",
              "4 previous owners       2\n",
              "Name: prev_owner, dtype: int64"
            ]
          },
          "execution_count": 65,
          "metadata": {},
          "output_type": "execute_result"
        }
      ],
      "source": [
        "df['prev_owner'].value_counts(dropna=False)"
      ]
    },
    {
      "cell_type": "code",
      "execution_count": null,
      "metadata": {
        "id": "Bten4lwbYyBT"
      },
      "outputs": [],
      "source": [
        "df['prev_owner'] = df['prev_owner'].str.extract(\"(\\d*)\").astype(\"float\")"
      ]
    },
    {
      "cell_type": "code",
      "execution_count": null,
      "metadata": {
        "colab": {
          "base_uri": "https://localhost:8080/",
          "height": 425
        },
        "id": "VFs9JRge6z5l",
        "outputId": "2a099b74-a422-441e-a921-14912738a3b5"
      },
      "outputs": [
        {
          "data": {
            "text/plain": [
              "\\n1\\n                                                                                        8101\n",
              "NaN                                                                                          6640\n",
              "\\n2\\n                                                                                         766\n",
              "\\n0\\n                                                                                         163\n",
              "\\n3\\n                                                                                          17\n",
              "                                                                                             ... \n",
              "[\\n1\\n, \\n111 g CO2/km (comb)\\n]                                                                1\n",
              "[\\n1\\n, \\nEuro 6\\n]                                                                             1\n",
              "[\\n2\\n, \\n119 g CO2/km (comb)\\n]                                                                1\n",
              "[\\n1\\n, \\n, 6.6 l/100 km (comb), \\n, 8.1 l/100 km (city), \\n, 5.7 l/100 km (country), \\n]       1\n",
              "[\\n2\\n, \\n137 g CO2/km (comb)\\n]                                                                1\n",
              "Name: Previous Owners, Length: 103, dtype: int64"
            ]
          },
          "execution_count": 67,
          "metadata": {},
          "output_type": "execute_result"
        }
      ],
      "source": [
        "df['Previous Owners'].value_counts(dropna=False)    "
      ]
    },
    {
      "cell_type": "markdown",
      "metadata": {
        "id": "BQcx5H2EBwfu"
      },
      "source": [
        "**I prefer \"Previous Owners\" column because it has less NaN values.**"
      ]
    },
    {
      "cell_type": "code",
      "execution_count": null,
      "metadata": {
        "colab": {
          "base_uri": "https://localhost:8080/"
        },
        "id": "bO9SIB8A60M4",
        "outputId": "5a193388-8280-45c2-e767-0757125a8621"
      },
      "outputs": [
        {
          "data": {
            "text/plain": [
              "['\\n2\\n',\n",
              " nan,\n",
              " '\\n1\\n',\n",
              " '\\n1\\n',\n",
              " '\\n1\\n',\n",
              " '\\n1\\n',\n",
              " '\\n1\\n',\n",
              " '\\n1\\n',\n",
              " '\\n1\\n',\n",
              " nan,\n",
              " nan,\n",
              " '\\n1\\n',\n",
              " '\\n1\\n',\n",
              " nan,\n",
              " '\\n1\\n',\n",
              " '\\n1\\n',\n",
              " nan,\n",
              " '\\n1\\n',\n",
              " nan,\n",
              " nan,\n",
              " '\\n1\\n',\n",
              " '\\n1\\n',\n",
              " '\\n1\\n',\n",
              " nan,\n",
              " '\\n1\\n',\n",
              " nan,\n",
              " '\\n1\\n',\n",
              " '\\n1\\n',\n",
              " nan,\n",
              " nan,\n",
              " nan,\n",
              " '\\n1\\n',\n",
              " '\\n1\\n',\n",
              " '\\n1\\n',\n",
              " nan,\n",
              " '\\n1\\n',\n",
              " '\\n1\\n',\n",
              " '\\n1\\n',\n",
              " '\\n2\\n',\n",
              " '\\n1\\n',\n",
              " '\\n1\\n',\n",
              " '\\n1\\n',\n",
              " '\\n1\\n',\n",
              " '\\n1\\n',\n",
              " '\\n1\\n',\n",
              " '\\n1\\n',\n",
              " '\\n1\\n',\n",
              " '\\n0\\n',\n",
              " '\\n2\\n',\n",
              " '\\n1\\n',\n",
              " '\\n1\\n',\n",
              " '\\n1\\n',\n",
              " nan,\n",
              " nan,\n",
              " '\\n1\\n',\n",
              " '\\n1\\n',\n",
              " '\\n1\\n',\n",
              " '\\n1\\n',\n",
              " '\\n2\\n',\n",
              " nan,\n",
              " '\\n1\\n',\n",
              " '\\n1\\n',\n",
              " '\\n1\\n',\n",
              " '\\n1\\n',\n",
              " '\\n1\\n',\n",
              " nan,\n",
              " nan,\n",
              " nan,\n",
              " '\\n1\\n',\n",
              " '\\n1\\n',\n",
              " nan,\n",
              " '\\n1\\n',\n",
              " '\\n1\\n',\n",
              " '\\n1\\n',\n",
              " '\\n1\\n',\n",
              " '\\n1\\n',\n",
              " '\\n1\\n',\n",
              " '\\n1\\n',\n",
              " '\\n1\\n',\n",
              " '\\n1\\n',\n",
              " '\\n1\\n',\n",
              " nan,\n",
              " '\\n1\\n',\n",
              " '\\n1\\n',\n",
              " '\\n2\\n',\n",
              " nan,\n",
              " nan,\n",
              " '\\n1\\n',\n",
              " '\\n1\\n',\n",
              " '\\n1\\n',\n",
              " '\\n1\\n',\n",
              " '\\n1\\n',\n",
              " '\\n2\\n',\n",
              " '\\n1\\n',\n",
              " nan,\n",
              " nan,\n",
              " nan,\n",
              " nan,\n",
              " '\\n1\\n',\n",
              " '\\n1\\n',\n",
              " nan,\n",
              " nan,\n",
              " '\\n1\\n',\n",
              " nan,\n",
              " nan,\n",
              " nan,\n",
              " nan,\n",
              " nan,\n",
              " nan,\n",
              " nan,\n",
              " nan,\n",
              " nan,\n",
              " nan,\n",
              " nan,\n",
              " '\\n1\\n',\n",
              " nan,\n",
              " nan,\n",
              " '\\n1\\n',\n",
              " nan,\n",
              " '\\n1\\n',\n",
              " '\\n1\\n',\n",
              " '\\n1\\n',\n",
              " nan,\n",
              " '\\n1\\n',\n",
              " '\\n1\\n',\n",
              " '\\n1\\n',\n",
              " '\\n1\\n',\n",
              " '\\n1\\n',\n",
              " '\\n1\\n',\n",
              " '\\n1\\n',\n",
              " nan,\n",
              " nan,\n",
              " nan,\n",
              " '\\n1\\n',\n",
              " nan,\n",
              " '\\n1\\n',\n",
              " '\\n1\\n',\n",
              " '\\n1\\n',\n",
              " '\\n1\\n',\n",
              " '\\n2\\n',\n",
              " nan,\n",
              " nan,\n",
              " '\\n1\\n',\n",
              " '\\n1\\n',\n",
              " '\\n2\\n',\n",
              " '\\n1\\n',\n",
              " '\\n2\\n',\n",
              " '\\n2\\n',\n",
              " '\\n1\\n',\n",
              " '\\n1\\n',\n",
              " nan,\n",
              " '\\n1\\n',\n",
              " '\\n1\\n',\n",
              " '\\n1\\n',\n",
              " '\\n1\\n',\n",
              " '\\n2\\n',\n",
              " '\\n1\\n',\n",
              " '\\n1\\n',\n",
              " '\\n1\\n',\n",
              " nan,\n",
              " '\\n1\\n',\n",
              " '\\n1\\n',\n",
              " '\\n2\\n',\n",
              " '\\n1\\n',\n",
              " '\\n1\\n',\n",
              " '\\n2\\n',\n",
              " '\\n2\\n',\n",
              " '\\n1\\n',\n",
              " nan,\n",
              " '\\n1\\n',\n",
              " nan,\n",
              " nan,\n",
              " '\\n1\\n',\n",
              " nan,\n",
              " '\\n2\\n',\n",
              " '\\n1\\n',\n",
              " nan,\n",
              " '\\n2\\n',\n",
              " '\\n1\\n',\n",
              " '\\n2\\n',\n",
              " '\\n1\\n',\n",
              " '\\n2\\n',\n",
              " '\\n1\\n',\n",
              " '\\n1\\n',\n",
              " '\\n1\\n',\n",
              " '\\n1\\n',\n",
              " '\\n1\\n',\n",
              " '\\n1\\n',\n",
              " '\\n1\\n',\n",
              " '\\n1\\n',\n",
              " nan,\n",
              " nan,\n",
              " '\\n1\\n',\n",
              " '\\n1\\n',\n",
              " '\\n1\\n',\n",
              " nan,\n",
              " '\\n1\\n',\n",
              " nan,\n",
              " '\\n1\\n',\n",
              " '\\n1\\n',\n",
              " '\\n2\\n',\n",
              " nan,\n",
              " '\\n1\\n',\n",
              " '\\n1\\n',\n",
              " '\\n1\\n',\n",
              " nan,\n",
              " '\\n2\\n',\n",
              " '\\n2\\n',\n",
              " nan,\n",
              " '\\n1\\n',\n",
              " nan,\n",
              " '\\n1\\n',\n",
              " '\\n1\\n',\n",
              " '\\n1\\n',\n",
              " '\\n1\\n',\n",
              " '\\n1\\n',\n",
              " '\\n1\\n',\n",
              " '\\n1\\n',\n",
              " '\\n1\\n',\n",
              " nan,\n",
              " '\\n2\\n',\n",
              " '\\n1\\n',\n",
              " '\\n1\\n',\n",
              " '\\n1\\n',\n",
              " '\\n1\\n',\n",
              " '\\n1\\n',\n",
              " '\\n1\\n',\n",
              " nan,\n",
              " nan,\n",
              " nan,\n",
              " '\\n1\\n',\n",
              " nan,\n",
              " nan,\n",
              " nan,\n",
              " '\\n1\\n',\n",
              " '\\n1\\n',\n",
              " '\\n1\\n',\n",
              " '\\n1\\n',\n",
              " '\\n1\\n',\n",
              " '\\n1\\n',\n",
              " '\\n1\\n',\n",
              " '\\n2\\n',\n",
              " '\\n2\\n',\n",
              " '\\n1\\n',\n",
              " nan,\n",
              " '\\n1\\n',\n",
              " '\\n1\\n',\n",
              " nan,\n",
              " '\\n1\\n',\n",
              " '\\n1\\n',\n",
              " nan,\n",
              " '\\n2\\n',\n",
              " nan,\n",
              " nan,\n",
              " '\\n1\\n',\n",
              " '\\n1\\n',\n",
              " '\\n2\\n',\n",
              " '\\n1\\n',\n",
              " '\\n1\\n',\n",
              " '\\n2\\n',\n",
              " nan,\n",
              " nan,\n",
              " nan,\n",
              " '\\n1\\n',\n",
              " '\\n1\\n',\n",
              " '\\n1\\n',\n",
              " '\\n1\\n',\n",
              " '\\n2\\n',\n",
              " '\\n1\\n',\n",
              " '\\n1\\n',\n",
              " nan,\n",
              " '\\n1\\n',\n",
              " '\\n1\\n',\n",
              " '\\n1\\n',\n",
              " nan,\n",
              " nan,\n",
              " nan,\n",
              " '\\n1\\n',\n",
              " nan,\n",
              " '\\n2\\n',\n",
              " '\\n1\\n',\n",
              " '\\n1\\n',\n",
              " '\\n2\\n',\n",
              " '\\n1\\n',\n",
              " '\\n1\\n',\n",
              " '\\n1\\n',\n",
              " '\\n1\\n',\n",
              " '\\n1\\n',\n",
              " '\\n1\\n',\n",
              " '\\n1\\n',\n",
              " '\\n1\\n',\n",
              " '\\n1\\n',\n",
              " '\\n1\\n',\n",
              " '\\n1\\n',\n",
              " '\\n1\\n',\n",
              " '\\n1\\n',\n",
              " '\\n1\\n',\n",
              " '\\n1\\n',\n",
              " '\\n1\\n',\n",
              " '\\n1\\n',\n",
              " '\\n1\\n',\n",
              " '\\n1\\n',\n",
              " '\\n1\\n',\n",
              " '\\n2\\n',\n",
              " '\\n1\\n',\n",
              " '\\n1\\n',\n",
              " '\\n1\\n',\n",
              " '\\n1\\n',\n",
              " '\\n1\\n',\n",
              " nan,\n",
              " nan,\n",
              " '\\n1\\n',\n",
              " '\\n1\\n',\n",
              " '\\n1\\n',\n",
              " '\\n1\\n',\n",
              " '\\n1\\n',\n",
              " '\\n1\\n',\n",
              " '\\n1\\n',\n",
              " '\\n1\\n',\n",
              " '\\n1\\n',\n",
              " '\\n1\\n',\n",
              " '\\n1\\n',\n",
              " '\\n1\\n',\n",
              " '\\n1\\n',\n",
              " '\\n1\\n',\n",
              " '\\n1\\n',\n",
              " '\\n1\\n',\n",
              " nan,\n",
              " '\\n1\\n',\n",
              " '\\n1\\n',\n",
              " '\\n1\\n',\n",
              " nan,\n",
              " '\\n1\\n',\n",
              " '\\n1\\n',\n",
              " nan,\n",
              " '\\n2\\n',\n",
              " '\\n2\\n',\n",
              " '\\n2\\n',\n",
              " '\\n1\\n',\n",
              " '\\n2\\n',\n",
              " '\\n2\\n',\n",
              " '\\n2\\n',\n",
              " '\\n2\\n',\n",
              " '\\n2\\n',\n",
              " '\\n2\\n',\n",
              " '\\n2\\n',\n",
              " '\\n2\\n',\n",
              " '\\n1\\n',\n",
              " '\\n1\\n',\n",
              " '\\n2\\n',\n",
              " '\\n1\\n',\n",
              " '\\n2\\n',\n",
              " '\\n2\\n',\n",
              " '\\n1\\n',\n",
              " '\\n2\\n',\n",
              " nan,\n",
              " '\\n2\\n',\n",
              " '\\n2\\n',\n",
              " '\\n2\\n',\n",
              " '\\n2\\n',\n",
              " '\\n2\\n',\n",
              " nan,\n",
              " '\\n2\\n',\n",
              " '\\n2\\n',\n",
              " '\\n2\\n',\n",
              " '\\n1\\n',\n",
              " '\\n2\\n',\n",
              " nan,\n",
              " '\\n1\\n',\n",
              " '\\n2\\n',\n",
              " nan,\n",
              " '\\n1\\n',\n",
              " nan,\n",
              " '\\n1\\n',\n",
              " nan,\n",
              " '\\n2\\n',\n",
              " '\\n2\\n',\n",
              " '\\n2\\n',\n",
              " '\\n2\\n',\n",
              " '\\n2\\n',\n",
              " '\\n1\\n',\n",
              " nan,\n",
              " '\\n1\\n',\n",
              " '\\n2\\n',\n",
              " '\\n2\\n',\n",
              " '\\n2\\n',\n",
              " '\\n2\\n',\n",
              " nan,\n",
              " nan,\n",
              " '\\n1\\n',\n",
              " '\\n1\\n',\n",
              " '\\n1\\n',\n",
              " '\\n1\\n',\n",
              " '\\n1\\n',\n",
              " '\\n1\\n',\n",
              " '\\n1\\n',\n",
              " '\\n1\\n',\n",
              " nan,\n",
              " '\\n2\\n',\n",
              " '\\n1\\n',\n",
              " '\\n1\\n',\n",
              " '\\n1\\n',\n",
              " '\\n1\\n',\n",
              " '\\n1\\n',\n",
              " nan,\n",
              " nan,\n",
              " nan,\n",
              " nan,\n",
              " nan,\n",
              " '\\n1\\n',\n",
              " '\\n1\\n',\n",
              " '\\n1\\n',\n",
              " '\\n1\\n',\n",
              " '\\n1\\n',\n",
              " '\\n1\\n',\n",
              " '\\n1\\n',\n",
              " '\\n1\\n',\n",
              " '\\n1\\n',\n",
              " '\\n0\\n',\n",
              " nan,\n",
              " '\\n1\\n',\n",
              " '\\n1\\n',\n",
              " '\\n2\\n',\n",
              " '\\n2\\n',\n",
              " '\\n1\\n',\n",
              " '\\n1\\n',\n",
              " '\\n2\\n',\n",
              " nan,\n",
              " '\\n1\\n',\n",
              " '\\n1\\n',\n",
              " '\\n1\\n',\n",
              " '\\n1\\n',\n",
              " '\\n1\\n',\n",
              " '\\n2\\n',\n",
              " '\\n1\\n',\n",
              " nan,\n",
              " '\\n1\\n',\n",
              " '\\n1\\n',\n",
              " '\\n1\\n',\n",
              " '\\n1\\n',\n",
              " '\\n1\\n',\n",
              " '\\n1\\n',\n",
              " '\\n1\\n',\n",
              " '\\n2\\n',\n",
              " nan,\n",
              " '\\n1\\n',\n",
              " nan,\n",
              " nan,\n",
              " nan,\n",
              " '\\n1\\n',\n",
              " '\\n1\\n',\n",
              " '\\n1\\n',\n",
              " '\\n1\\n',\n",
              " '\\n1\\n',\n",
              " '\\n1\\n',\n",
              " '\\n1\\n',\n",
              " '\\n1\\n',\n",
              " nan,\n",
              " '\\n1\\n',\n",
              " nan,\n",
              " nan,\n",
              " nan,\n",
              " '\\n1\\n',\n",
              " '\\n1\\n',\n",
              " '\\n1\\n',\n",
              " '\\n1\\n',\n",
              " nan,\n",
              " '\\n1\\n',\n",
              " nan,\n",
              " nan,\n",
              " nan,\n",
              " '\\n2\\n',\n",
              " '\\n1\\n',\n",
              " '\\n1\\n',\n",
              " '\\n1\\n',\n",
              " '\\n1\\n',\n",
              " nan,\n",
              " '\\n1\\n',\n",
              " '\\n1\\n',\n",
              " nan,\n",
              " nan,\n",
              " '\\n1\\n',\n",
              " '\\n1\\n',\n",
              " nan,\n",
              " nan,\n",
              " nan,\n",
              " nan,\n",
              " nan,\n",
              " '\\n1\\n',\n",
              " nan,\n",
              " '\\n1\\n',\n",
              " '\\n1\\n',\n",
              " '\\n1\\n',\n",
              " '\\n1\\n',\n",
              " '\\n1\\n',\n",
              " '\\n1\\n',\n",
              " '\\n1\\n',\n",
              " nan,\n",
              " '\\n1\\n',\n",
              " '\\n1\\n',\n",
              " '\\n1\\n',\n",
              " nan,\n",
              " '\\n1\\n',\n",
              " '\\n2\\n',\n",
              " '\\n2\\n',\n",
              " nan,\n",
              " '\\n1\\n',\n",
              " '\\n1\\n',\n",
              " '\\n1\\n',\n",
              " '\\n1\\n',\n",
              " nan,\n",
              " '\\n1\\n',\n",
              " '\\n1\\n',\n",
              " '\\n2\\n',\n",
              " '\\n1\\n',\n",
              " nan,\n",
              " '\\n2\\n',\n",
              " nan,\n",
              " nan,\n",
              " '\\n1\\n',\n",
              " '\\n1\\n',\n",
              " '\\n1\\n',\n",
              " '\\n2\\n',\n",
              " '\\n1\\n',\n",
              " nan,\n",
              " '\\n1\\n',\n",
              " '\\n1\\n',\n",
              " '\\n1\\n',\n",
              " '\\n1\\n',\n",
              " '\\n1\\n',\n",
              " nan,\n",
              " '\\n1\\n',\n",
              " nan,\n",
              " '\\n1\\n',\n",
              " '\\n1\\n',\n",
              " '\\n1\\n',\n",
              " '\\n1\\n',\n",
              " '\\n1\\n',\n",
              " '\\n1\\n',\n",
              " '\\n1\\n',\n",
              " '\\n1\\n',\n",
              " '\\n1\\n',\n",
              " '\\n1\\n',\n",
              " '\\n1\\n',\n",
              " '\\n1\\n',\n",
              " '\\n1\\n',\n",
              " nan,\n",
              " nan,\n",
              " '\\n1\\n',\n",
              " '\\n1\\n',\n",
              " '\\n1\\n',\n",
              " '\\n1\\n',\n",
              " '\\n1\\n',\n",
              " '\\n1\\n',\n",
              " '\\n1\\n',\n",
              " '\\n1\\n',\n",
              " '\\n1\\n',\n",
              " '\\n1\\n',\n",
              " '\\n1\\n',\n",
              " '\\n1\\n',\n",
              " '\\n1\\n',\n",
              " '\\n1\\n',\n",
              " nan,\n",
              " nan,\n",
              " nan,\n",
              " nan,\n",
              " nan,\n",
              " '\\n2\\n',\n",
              " '\\n1\\n',\n",
              " nan,\n",
              " nan,\n",
              " '\\n1\\n',\n",
              " '\\n1\\n',\n",
              " '\\n1\\n',\n",
              " '\\n1\\n',\n",
              " '\\n1\\n',\n",
              " '\\n1\\n',\n",
              " nan,\n",
              " nan,\n",
              " '\\n1\\n',\n",
              " '\\n1\\n',\n",
              " nan,\n",
              " '\\n1\\n',\n",
              " '\\n1\\n',\n",
              " nan,\n",
              " '\\n2\\n',\n",
              " '\\n0\\n',\n",
              " '\\n1\\n',\n",
              " '\\n2\\n',\n",
              " nan,\n",
              " '\\n1\\n',\n",
              " '\\n1\\n',\n",
              " '\\n1\\n',\n",
              " '\\n1\\n',\n",
              " '\\n2\\n',\n",
              " nan,\n",
              " '\\n1\\n',\n",
              " '\\n1\\n',\n",
              " nan,\n",
              " '\\n1\\n',\n",
              " '\\n1\\n',\n",
              " nan,\n",
              " '\\n1\\n',\n",
              " '\\n1\\n',\n",
              " '\\n2\\n',\n",
              " nan,\n",
              " '\\n1\\n',\n",
              " '\\n1\\n',\n",
              " nan,\n",
              " '\\n1\\n',\n",
              " '\\n1\\n',\n",
              " '\\n1\\n',\n",
              " '\\n2\\n',\n",
              " '\\n1\\n',\n",
              " '\\n2\\n',\n",
              " '\\n1\\n',\n",
              " '\\n1\\n',\n",
              " nan,\n",
              " '\\n1\\n',\n",
              " '\\n1\\n',\n",
              " '\\n1\\n',\n",
              " '\\n1\\n',\n",
              " '\\n1\\n',\n",
              " nan,\n",
              " '\\n1\\n',\n",
              " '\\n1\\n',\n",
              " '\\n1\\n',\n",
              " '\\n2\\n',\n",
              " '\\n1\\n',\n",
              " '\\n1\\n',\n",
              " '\\n1\\n',\n",
              " '\\n1\\n',\n",
              " '\\n1\\n',\n",
              " '\\n1\\n',\n",
              " nan,\n",
              " '\\n1\\n',\n",
              " '\\n1\\n',\n",
              " nan,\n",
              " '\\n1\\n',\n",
              " '\\n2\\n',\n",
              " '\\n2\\n',\n",
              " nan,\n",
              " '\\n1\\n',\n",
              " nan,\n",
              " nan,\n",
              " '\\n1\\n',\n",
              " '\\n1\\n',\n",
              " nan,\n",
              " '\\n0\\n',\n",
              " '\\n1\\n',\n",
              " '\\n1\\n',\n",
              " '\\n2\\n',\n",
              " '\\n1\\n',\n",
              " '\\n2\\n',\n",
              " '\\n1\\n',\n",
              " nan,\n",
              " nan,\n",
              " '\\n1\\n',\n",
              " '\\n1\\n',\n",
              " '\\n1\\n',\n",
              " '\\n1\\n',\n",
              " nan,\n",
              " nan,\n",
              " '\\n2\\n',\n",
              " '\\n1\\n',\n",
              " nan,\n",
              " '\\n1\\n',\n",
              " '\\n1\\n',\n",
              " '\\n1\\n',\n",
              " '\\n1\\n',\n",
              " '\\n1\\n',\n",
              " nan,\n",
              " nan,\n",
              " '\\n1\\n',\n",
              " nan,\n",
              " '\\n1\\n',\n",
              " '\\n1\\n',\n",
              " '\\n1\\n',\n",
              " nan,\n",
              " '\\n3\\n',\n",
              " '\\n1\\n',\n",
              " nan,\n",
              " '\\n1\\n',\n",
              " '\\n1\\n',\n",
              " '\\n1\\n',\n",
              " '\\n1\\n',\n",
              " '\\n1\\n',\n",
              " '\\n1\\n',\n",
              " nan,\n",
              " nan,\n",
              " '\\n1\\n',\n",
              " '\\n1\\n',\n",
              " '\\n1\\n',\n",
              " '\\n1\\n',\n",
              " '\\n1\\n',\n",
              " nan,\n",
              " '\\n1\\n',\n",
              " '\\n1\\n',\n",
              " '\\n1\\n',\n",
              " '\\n1\\n',\n",
              " '\\n1\\n',\n",
              " '\\n1\\n',\n",
              " '\\n2\\n',\n",
              " '\\n1\\n',\n",
              " '\\n1\\n',\n",
              " '\\n1\\n',\n",
              " nan,\n",
              " '\\n1\\n',\n",
              " nan,\n",
              " '\\n1\\n',\n",
              " nan,\n",
              " '\\n1\\n',\n",
              " '\\n1\\n',\n",
              " nan,\n",
              " '\\n1\\n',\n",
              " '\\n1\\n',\n",
              " '\\n1\\n',\n",
              " '\\n1\\n',\n",
              " '\\n1\\n',\n",
              " '\\n1\\n',\n",
              " nan,\n",
              " '\\n1\\n',\n",
              " '\\n1\\n',\n",
              " nan,\n",
              " '\\n1\\n',\n",
              " '\\n2\\n',\n",
              " '\\n1\\n',\n",
              " '\\n2\\n',\n",
              " '\\n1\\n',\n",
              " '\\n1\\n',\n",
              " '\\n1\\n',\n",
              " '\\n1\\n',\n",
              " '\\n1\\n',\n",
              " nan,\n",
              " '\\n0\\n',\n",
              " nan,\n",
              " '\\n1\\n',\n",
              " '\\n1\\n',\n",
              " '\\n1\\n',\n",
              " '\\n1\\n',\n",
              " '\\n1\\n',\n",
              " nan,\n",
              " '\\n1\\n',\n",
              " '\\n0\\n',\n",
              " nan,\n",
              " '\\n1\\n',\n",
              " '\\n1\\n',\n",
              " '\\n1\\n',\n",
              " '\\n1\\n',\n",
              " '\\n1\\n',\n",
              " '\\n1\\n',\n",
              " '\\n2\\n',\n",
              " nan,\n",
              " '\\n1\\n',\n",
              " nan,\n",
              " nan,\n",
              " nan,\n",
              " nan,\n",
              " '\\n2\\n',\n",
              " '\\n1\\n',\n",
              " nan,\n",
              " '\\n1\\n',\n",
              " '\\n1\\n',\n",
              " '\\n1\\n',\n",
              " '\\n2\\n',\n",
              " '\\n1\\n',\n",
              " '\\n1\\n',\n",
              " nan,\n",
              " nan,\n",
              " nan,\n",
              " nan,\n",
              " nan,\n",
              " nan,\n",
              " nan,\n",
              " nan,\n",
              " nan,\n",
              " nan,\n",
              " nan,\n",
              " nan,\n",
              " nan,\n",
              " '\\n1\\n',\n",
              " nan,\n",
              " nan,\n",
              " nan,\n",
              " nan,\n",
              " nan,\n",
              " nan,\n",
              " nan,\n",
              " nan,\n",
              " '\\n1\\n',\n",
              " '\\n1\\n',\n",
              " nan,\n",
              " '\\n2\\n',\n",
              " '\\n1\\n',\n",
              " nan,\n",
              " nan,\n",
              " '\\n1\\n',\n",
              " '\\n1\\n',\n",
              " nan,\n",
              " '\\n1\\n',\n",
              " '\\n1\\n',\n",
              " '\\n1\\n',\n",
              " nan,\n",
              " '\\n2\\n',\n",
              " '\\n1\\n',\n",
              " nan,\n",
              " '\\n1\\n',\n",
              " '\\n1\\n',\n",
              " '\\n1\\n',\n",
              " '\\n2\\n',\n",
              " nan,\n",
              " nan,\n",
              " '\\n2\\n',\n",
              " nan,\n",
              " nan,\n",
              " '\\n2\\n',\n",
              " nan,\n",
              " '\\n1\\n',\n",
              " '\\n1\\n',\n",
              " '\\n1\\n',\n",
              " '\\n1\\n',\n",
              " '\\n1\\n',\n",
              " '\\n2\\n',\n",
              " '\\n2\\n',\n",
              " '\\n1\\n',\n",
              " '\\n1\\n',\n",
              " '\\n2\\n',\n",
              " '\\n1\\n',\n",
              " '\\n1\\n',\n",
              " '\\n1\\n',\n",
              " '\\n1\\n',\n",
              " nan,\n",
              " nan,\n",
              " nan,\n",
              " '\\n1\\n',\n",
              " '\\n1\\n',\n",
              " '\\n1\\n',\n",
              " nan,\n",
              " nan,\n",
              " '\\n1\\n',\n",
              " '\\n2\\n',\n",
              " '\\n1\\n',\n",
              " '\\n2\\n',\n",
              " nan,\n",
              " '\\n1\\n',\n",
              " '\\n1\\n',\n",
              " '\\n1\\n',\n",
              " '\\n1\\n',\n",
              " '\\n1\\n',\n",
              " '\\n1\\n',\n",
              " '\\n1\\n',\n",
              " '\\n1\\n',\n",
              " '\\n1\\n',\n",
              " '\\n1\\n',\n",
              " nan,\n",
              " nan,\n",
              " '\\n1\\n',\n",
              " '\\n2\\n',\n",
              " '\\n1\\n',\n",
              " '\\n1\\n',\n",
              " nan,\n",
              " nan,\n",
              " nan,\n",
              " nan,\n",
              " '\\n1\\n',\n",
              " nan,\n",
              " nan,\n",
              " nan,\n",
              " nan,\n",
              " '\\n0\\n',\n",
              " '\\n1\\n',\n",
              " '\\n1\\n',\n",
              " '\\n1\\n',\n",
              " '\\n1\\n',\n",
              " nan,\n",
              " nan,\n",
              " nan,\n",
              " nan,\n",
              " '\\n1\\n',\n",
              " nan,\n",
              " '\\n1\\n',\n",
              " nan,\n",
              " '\\n1\\n',\n",
              " '\\n1\\n',\n",
              " '\\n2\\n',\n",
              " nan,\n",
              " nan,\n",
              " '\\n1\\n',\n",
              " nan,\n",
              " nan,\n",
              " nan,\n",
              " '\\n1\\n',\n",
              " '\\n1\\n',\n",
              " '\\n1\\n',\n",
              " '\\n2\\n',\n",
              " '\\n1\\n',\n",
              " nan,\n",
              " '\\n1\\n',\n",
              " nan,\n",
              " nan,\n",
              " '\\n1\\n',\n",
              " nan,\n",
              " nan,\n",
              " nan,\n",
              " '\\n1\\n',\n",
              " '\\n1\\n',\n",
              " nan,\n",
              " '\\n1\\n',\n",
              " nan,\n",
              " '\\n1\\n',\n",
              " '\\n1\\n',\n",
              " '\\n1\\n',\n",
              " '\\n1\\n',\n",
              " '\\n1\\n',\n",
              " '\\n1\\n',\n",
              " '\\n1\\n',\n",
              " '\\n1\\n',\n",
              " '\\n1\\n',\n",
              " '\\n1\\n',\n",
              " '\\n1\\n',\n",
              " '\\n2\\n',\n",
              " '\\n1\\n',\n",
              " '\\n1\\n',\n",
              " '\\n1\\n',\n",
              " '\\n1\\n',\n",
              " '\\n1\\n',\n",
              " '\\n1\\n',\n",
              " nan,\n",
              " '\\n1\\n',\n",
              " '\\n1\\n',\n",
              " nan,\n",
              " '\\n2\\n',\n",
              " nan,\n",
              " nan,\n",
              " '\\n1\\n',\n",
              " '\\n1\\n',\n",
              " nan,\n",
              " nan,\n",
              " nan,\n",
              " nan,\n",
              " nan,\n",
              " nan,\n",
              " '\\n1\\n',\n",
              " '\\n1\\n',\n",
              " '\\n1\\n',\n",
              " '\\n1\\n',\n",
              " nan,\n",
              " '\\n1\\n',\n",
              " '\\n1\\n',\n",
              " '\\n1\\n',\n",
              " '\\n1\\n',\n",
              " '\\n1\\n',\n",
              " nan,\n",
              " nan,\n",
              " nan,\n",
              " '\\n2\\n',\n",
              " '\\n1\\n',\n",
              " '\\n2\\n',\n",
              " '\\n1\\n',\n",
              " '\\n1\\n',\n",
              " nan,\n",
              " nan,\n",
              " nan,\n",
              " '\\n1\\n',\n",
              " '\\n1\\n',\n",
              " '\\n1\\n',\n",
              " nan,\n",
              " '\\n1\\n',\n",
              " '\\n1\\n',\n",
              " nan,\n",
              " '\\n1\\n',\n",
              " '\\n1\\n',\n",
              " '\\n4\\n',\n",
              " '\\n1\\n',\n",
              " nan,\n",
              " '\\n1\\n',\n",
              " '\\n1\\n',\n",
              " nan,\n",
              " '\\n1\\n',\n",
              " '\\n1\\n',\n",
              " '\\n0\\n',\n",
              " '\\n1\\n',\n",
              " nan,\n",
              " '\\n1\\n',\n",
              " nan,\n",
              " '\\n1\\n',\n",
              " '\\n1\\n',\n",
              " nan,\n",
              " '\\n1\\n',\n",
              " '\\n1\\n',\n",
              " nan,\n",
              " nan,\n",
              " nan,\n",
              " nan,\n",
              " '\\n1\\n',\n",
              " '\\n1\\n',\n",
              " '\\n1\\n',\n",
              " '\\n1\\n',\n",
              " '\\n1\\n',\n",
              " '\\n1\\n',\n",
              " ...]"
            ]
          },
          "execution_count": 68,
          "metadata": {},
          "output_type": "execute_result"
        }
      ],
      "source": [
        "[item[0] if type(item)==list else item for item in df['Previous Owners']]   #değerlerin hepsi liste içinde değildi."
      ]
    },
    {
      "cell_type": "code",
      "execution_count": null,
      "metadata": {
        "colab": {
          "base_uri": "https://localhost:8080/"
        },
        "id": "adBqveNb-xtk",
        "outputId": "ad9c5779-832e-4dcf-ff20-4ebd6b4b2125"
      },
      "outputs": [
        {
          "data": {
            "text/plain": [
              "0        \\n2\\n\n",
              "1          NaN\n",
              "2        \\n1\\n\n",
              "3        \\n1\\n\n",
              "4        \\n1\\n\n",
              "         ...  \n",
              "15914      NaN\n",
              "15915    \\n1\\n\n",
              "15916    \\n1\\n\n",
              "15917      NaN\n",
              "15918    \\n1\\n\n",
              "Name: Previous Owners, Length: 15919, dtype: object"
            ]
          },
          "execution_count": 69,
          "metadata": {},
          "output_type": "execute_result"
        }
      ],
      "source": [
        "df[\"Previous Owners\"].apply(lambda item: item[0] if type(item) == list else item)\n"
      ]
    },
    {
      "cell_type": "code",
      "execution_count": null,
      "metadata": {
        "colab": {
          "base_uri": "https://localhost:8080/"
        },
        "id": "woDlPStv-xwX",
        "outputId": "7e3cff5f-6fc5-4c6a-8f86-3c3d7d978ca4"
      },
      "outputs": [
        {
          "data": {
            "text/plain": [
              "0        \\n2\\n\n",
              "1          NaN\n",
              "2        \\n1\\n\n",
              "3        \\n1\\n\n",
              "4        \\n1\\n\n",
              "         ...  \n",
              "15914      NaN\n",
              "15915    \\n1\\n\n",
              "15916    \\n1\\n\n",
              "15917      NaN\n",
              "15918    \\n1\\n\n",
              "Name: Previous_Owners, Length: 15919, dtype: object"
            ]
          },
          "execution_count": 70,
          "metadata": {},
          "output_type": "execute_result"
        }
      ],
      "source": [
        "df[\"Previous_Owners\"] = df[\"Previous Owners\"].apply(lambda item: item[0] if type(item) == list else item)\n",
        "df[\"Previous_Owners\"]"
      ]
    },
    {
      "cell_type": "code",
      "execution_count": null,
      "metadata": {
        "id": "3wlfAmuIA-CM"
      },
      "outputs": [],
      "source": [
        "df[\"Previous_Owners\"]=df[\"Previous_Owners\"].str.strip('\\n').astype(float)"
      ]
    },
    {
      "cell_type": "code",
      "execution_count": null,
      "metadata": {
        "colab": {
          "base_uri": "https://localhost:8080/"
        },
        "id": "NXbyqO9mA-Fg",
        "outputId": "0c84d075-524f-4daa-bf98-cdc88dfaa78e"
      },
      "outputs": [
        {
          "data": {
            "text/plain": [
              "1.00    8294\n",
              "NaN     6640\n",
              "2.00     778\n",
              "0.00     188\n",
              "3.00      17\n",
              "4.00       2\n",
              "Name: Previous_Owners, dtype: int64"
            ]
          },
          "execution_count": 72,
          "metadata": {},
          "output_type": "execute_result"
        }
      ],
      "source": [
        "df[\"Previous_Owners\"].value_counts(dropna=False)"
      ]
    },
    {
      "cell_type": "code",
      "execution_count": null,
      "metadata": {
        "id": "fI8bLAlzZc0f"
      },
      "outputs": [],
      "source": [
        "df[\"Previous_Owners\"].fillna(df[\"prev_owner\"],inplace=True)"
      ]
    },
    {
      "cell_type": "code",
      "execution_count": null,
      "metadata": {
        "colab": {
          "base_uri": "https://localhost:8080/",
          "height": 148
        },
        "id": "sGboBT2ZaZ9g",
        "outputId": "2d5e58b2-5c93-4d48-c8ea-064c37db74ff"
      },
      "outputs": [
        {
          "data": {
            "text/html": [
              "<div>\n",
              "<style scoped>\n",
              "    .dataframe tbody tr th:only-of-type {\n",
              "        vertical-align: middle;\n",
              "    }\n",
              "\n",
              "    .dataframe tbody tr th {\n",
              "        vertical-align: top;\n",
              "    }\n",
              "\n",
              "    .dataframe thead th {\n",
              "        text-align: right;\n",
              "    }\n",
              "</style>\n",
              "<table border=\"1\" class=\"dataframe\">\n",
              "  <thead>\n",
              "    <tr style=\"text-align: right;\">\n",
              "      <th></th>\n",
              "      <th>make_model</th>\n",
              "      <th>body_type</th>\n",
              "      <th>price</th>\n",
              "      <th>vat</th>\n",
              "      <th>km</th>\n",
              "      <th>prev_owner</th>\n",
              "      <th>hp</th>\n",
              "      <th>Type</th>\n",
              "      <th>Previous Owners</th>\n",
              "      <th>Next Inspection</th>\n",
              "      <th>Inspection new</th>\n",
              "      <th>Warranty</th>\n",
              "      <th>Full Service</th>\n",
              "      <th>Non-smoking Vehicle</th>\n",
              "      <th>Offer Number</th>\n",
              "      <th>Body Color</th>\n",
              "      <th>Paint Type</th>\n",
              "      <th>Body Color Original</th>\n",
              "      <th>Upholstery</th>\n",
              "      <th>Nr. of Doors</th>\n",
              "      <th>Nr. of Seats</th>\n",
              "      <th>Model Code</th>\n",
              "      <th>Gearing Type</th>\n",
              "      <th>Displacement</th>\n",
              "      <th>Cylinders</th>\n",
              "      <th>Weight</th>\n",
              "      <th>Drive chain</th>\n",
              "      <th>Fuel</th>\n",
              "      <th>Consumption</th>\n",
              "      <th>CO2 Emission</th>\n",
              "      <th>Emission Class</th>\n",
              "      <th>Comfort_Convenience</th>\n",
              "      <th>Entertainment_Media</th>\n",
              "      <th>Extras</th>\n",
              "      <th>Safety_Security</th>\n",
              "      <th>Emission Label</th>\n",
              "      <th>Gears</th>\n",
              "      <th>Country version</th>\n",
              "      <th>age</th>\n",
              "      <th>Previous_Owners</th>\n",
              "    </tr>\n",
              "  </thead>\n",
              "  <tbody>\n",
              "  </tbody>\n",
              "</table>\n",
              "</div>"
            ],
            "text/plain": [
              "Empty DataFrame\n",
              "Columns: [make_model, body_type, price, vat, km, prev_owner, hp, Type, Previous Owners, Next Inspection, Inspection new, Warranty, Full Service, Non-smoking Vehicle, Offer Number, Body Color, Paint Type, Body Color Original, Upholstery, Nr. of Doors, Nr. of Seats, Model Code, Gearing Type, Displacement, Cylinders, Weight, Drive chain, Fuel, Consumption, CO2 Emission, Emission Class, Comfort_Convenience, Entertainment_Media, Extras, Safety_Security, Emission Label, Gears, Country version, age, Previous_Owners]\n",
              "Index: []"
            ]
          },
          "execution_count": 74,
          "metadata": {},
          "output_type": "execute_result"
        }
      ],
      "source": [
        "df[(df[\"Previous_Owners\"].isna()) & (df[\"prev_owner\"].notna())] #.value_counts()  #CHECK"
      ]
    },
    {
      "cell_type": "code",
      "execution_count": null,
      "metadata": {
        "colab": {
          "base_uri": "https://localhost:8080/"
        },
        "id": "fRIvQFGta9_Z",
        "outputId": "35a64277-0a36-4832-b10b-39ee92ae7912"
      },
      "outputs": [
        {
          "data": {
            "text/plain": [
              "1.00    8294\n",
              "NaN     6640\n",
              "2.00     778\n",
              "0.00     188\n",
              "3.00      17\n",
              "4.00       2\n",
              "Name: Previous_Owners, dtype: int64"
            ]
          },
          "execution_count": 75,
          "metadata": {},
          "output_type": "execute_result"
        }
      ],
      "source": [
        "df[\"Previous_Owners\"].value_counts(dropna=False)   # çakışan nan değerler yokmuş.Nan lar aynı sayıda."
      ]
    },
    {
      "cell_type": "code",
      "execution_count": null,
      "metadata": {
        "id": "HM8GjsISXW3v"
      },
      "outputs": [],
      "source": [
        "df.drop([\"Previous Owners\",\"prev_owner\"],axis=1,inplace=True)"
      ]
    },
    {
      "cell_type": "code",
      "execution_count": null,
      "metadata": {
        "colab": {
          "base_uri": "https://localhost:8080/"
        },
        "id": "wTdqWpVoYBGP",
        "outputId": "f6571361-1e3a-49ee-a928-8bd224df3e33"
      },
      "outputs": [
        {
          "data": {
            "text/plain": [
              "Index(['make_model', 'body_type', 'price', 'vat', 'km', 'hp', 'Type',\n",
              "       'Next Inspection', 'Inspection new', 'Warranty', 'Full Service',\n",
              "       'Non-smoking Vehicle', 'Offer Number', 'Body Color', 'Paint Type',\n",
              "       'Body Color Original', 'Upholstery', 'Nr. of Doors', 'Nr. of Seats',\n",
              "       'Model Code', 'Gearing Type', 'Displacement', 'Cylinders', 'Weight',\n",
              "       'Drive chain', 'Fuel', 'Consumption', 'CO2 Emission', 'Emission Class',\n",
              "       'Comfort_Convenience', 'Entertainment_Media', 'Extras',\n",
              "       'Safety_Security', 'Emission Label', 'Gears', 'Country version', 'age',\n",
              "       'Previous_Owners'],\n",
              "      dtype='object')"
            ]
          },
          "execution_count": 77,
          "metadata": {},
          "output_type": "execute_result"
        }
      ],
      "source": [
        "df.columns"
      ]
    },
    {
      "cell_type": "markdown",
      "metadata": {
        "id": "YVWIZ72CB2ue"
      },
      "source": [
        "## hp"
      ]
    },
    {
      "cell_type": "code",
      "execution_count": null,
      "metadata": {
        "colab": {
          "base_uri": "https://localhost:8080/"
        },
        "id": "iFN7Yow9B1mq",
        "outputId": "4ce84c38-53bc-4f27-d585-b60590717d0c"
      },
      "outputs": [
        {
          "data": {
            "text/plain": [
              "85 kW     2542\n",
              "66 kW     2122\n",
              "81 kW     1402\n",
              "100 kW    1308\n",
              "110 kW    1112\n",
              "70 kW      888\n",
              "125 kW     707\n",
              "51 kW      695\n",
              "55 kW      569\n",
              "118 kW     516\n",
              "92 kW      466\n",
              "121 kW     392\n",
              "147 kW     380\n",
              "77 kW      345\n",
              "56 kW      286\n",
              "54 kW      276\n",
              "103 kW     253\n",
              "87 kW      232\n",
              "165 kW     194\n",
              "88 kW      177\n",
              "60 kW      160\n",
              "162 kW      98\n",
              "- kW        88\n",
              "74 kW       81\n",
              "96 kW       72\n",
              "71 kW       59\n",
              "101 kW      47\n",
              "67 kW       40\n",
              "154 kW      39\n",
              "122 kW      35\n",
              "119 kW      30\n",
              "164 kW      27\n",
              "135 kW      24\n",
              "82 kW       22\n",
              "52 kW       22\n",
              "78 kW       20\n",
              "1 kW        20\n",
              "294 kW      18\n",
              "146 kW      18\n",
              "141 kW      16\n",
              "57 kW       10\n",
              "104 kW       8\n",
              "120 kW       8\n",
              "191 kW       7\n",
              "112 kW       7\n",
              "155 kW       6\n",
              "117 kW       6\n",
              "184 kW       5\n",
              "90 kW        4\n",
              "76 kW        4\n",
              "65 kW        4\n",
              "149 kW       3\n",
              "80 kW        3\n",
              "168 kW       3\n",
              "98 kW        3\n",
              "93 kW        3\n",
              "228 kW       2\n",
              "270 kW       2\n",
              "53 kW        2\n",
              "140 kW       2\n",
              "86 kW        2\n",
              "167 kW       2\n",
              "127 kW       2\n",
              "89 kW        2\n",
              "143 kW       2\n",
              "63 kW        2\n",
              "40 kW        2\n",
              "150 kW       2\n",
              "163 kW       1\n",
              "115 kW       1\n",
              "132 kW       1\n",
              "75 kW        1\n",
              "4 kW         1\n",
              "137 kW       1\n",
              "123 kW       1\n",
              "133 kW       1\n",
              "84 kW        1\n",
              "195 kW       1\n",
              "44 kW        1\n",
              "239 kW       1\n",
              "9 kW         1\n",
              "Name: hp, dtype: int64"
            ]
          },
          "execution_count": 78,
          "metadata": {},
          "output_type": "execute_result"
        }
      ],
      "source": [
        "df.hp.value_counts(dropna=False)"
      ]
    },
    {
      "cell_type": "code",
      "execution_count": null,
      "metadata": {
        "id": "L8bYEagaB1pk"
      },
      "outputs": [],
      "source": [
        "df['hp_kw']=df.hp.str.extract('(\\d{1,4})').astype(\"float\") #str.extract(\"(\\d+)\")"
      ]
    },
    {
      "cell_type": "code",
      "execution_count": null,
      "metadata": {
        "colab": {
          "base_uri": "https://localhost:8080/"
        },
        "id": "SBriLwvUB1sX",
        "outputId": "90e21bd5-379e-4809-e5df-db84f119add4"
      },
      "outputs": [
        {
          "data": {
            "text/plain": [
              "0        66.00\n",
              "1       141.00\n",
              "2        85.00\n",
              "3        66.00\n",
              "4        66.00\n",
              "         ...  \n",
              "15914   147.00\n",
              "15915   165.00\n",
              "15916   146.00\n",
              "15917   147.00\n",
              "15918   165.00\n",
              "Name: hp_kw, Length: 15919, dtype: float64"
            ]
          },
          "execution_count": 80,
          "metadata": {},
          "output_type": "execute_result"
        }
      ],
      "source": [
        "df['hp_kw']"
      ]
    },
    {
      "cell_type": "code",
      "execution_count": null,
      "metadata": {
        "id": "YbpgBx1GB1vF"
      },
      "outputs": [],
      "source": [
        "df.drop('hp',axis=1,inplace=True)"
      ]
    },
    {
      "cell_type": "markdown",
      "metadata": {
        "id": "bH9mvaWAFA0I"
      },
      "source": [
        "## Type"
      ]
    },
    {
      "cell_type": "code",
      "execution_count": null,
      "metadata": {
        "colab": {
          "base_uri": "https://localhost:8080/"
        },
        "id": "y6BiIy9mB1x7",
        "outputId": "0db179c0-824c-4330-9e78-744e77c64088"
      },
      "outputs": [
        {
          "data": {
            "text/plain": [
              "Index(['make_model', 'body_type', 'price', 'vat', 'km', 'Type',\n",
              "       'Next Inspection', 'Inspection new', 'Warranty', 'Full Service',\n",
              "       'Non-smoking Vehicle', 'Offer Number', 'Body Color', 'Paint Type',\n",
              "       'Body Color Original', 'Upholstery', 'Nr. of Doors', 'Nr. of Seats',\n",
              "       'Model Code', 'Gearing Type', 'Displacement', 'Cylinders', 'Weight',\n",
              "       'Drive chain', 'Fuel', 'Consumption', 'CO2 Emission', 'Emission Class',\n",
              "       'Comfort_Convenience', 'Entertainment_Media', 'Extras',\n",
              "       'Safety_Security', 'Emission Label', 'Gears', 'Country version', 'age',\n",
              "       'Previous_Owners', 'hp_kw'],\n",
              "      dtype='object')"
            ]
          },
          "execution_count": 82,
          "metadata": {},
          "output_type": "execute_result"
        }
      ],
      "source": [
        "df.columns"
      ]
    },
    {
      "cell_type": "code",
      "execution_count": null,
      "metadata": {
        "colab": {
          "base_uri": "https://localhost:8080/",
          "height": 425
        },
        "id": "DMABLXA3B10-",
        "outputId": "fcad8669-13a1-4a93-ddc1-a50135928c6c"
      },
      "outputs": [
        {
          "data": {
            "text/plain": [
              "[, Used, , Diesel (Particulate Filter)]                                                                                 3475\n",
              "[, Used, , Diesel]                                                                                                      2516\n",
              "[, Used, , Gasoline]                                                                                                    2367\n",
              "[, Used, , Super 95]                                                                                                    1818\n",
              "[, Pre-registered, , Super 95]                                                                                           500\n",
              "                                                                                                                        ... \n",
              "[, New, , Regular/Benzine 91 / Super 95 / Super Plus 98 / Regular/Benzine E10 91 / Super Plus E10 98 / Super E10 95]       1\n",
              "[, Used, , Super 95 / Super Plus 98 / Super E10 95 / Super Plus E10 98 (Particulate Filter)]                               1\n",
              "[, Demonstration, , Super Plus 98]                                                                                         1\n",
              "[, New, , Super Plus E10 98]                                                                                               1\n",
              "[, Demonstration, , Regular/Benzine E10 91]                                                                                1\n",
              "Name: Type, Length: 170, dtype: int64"
            ]
          },
          "execution_count": 83,
          "metadata": {},
          "output_type": "execute_result"
        }
      ],
      "source": [
        "df['Type'].value_counts(dropna=False)  #yakıt tipleri başka sutunda mevcut."
      ]
    },
    {
      "cell_type": "code",
      "execution_count": null,
      "metadata": {
        "id": "lA1BETqDFTzH"
      },
      "outputs": [],
      "source": [
        "df['Type']=df.Type.str[1]   #hepsi liste içinde olduğu için kolayca alabildim."
      ]
    },
    {
      "cell_type": "code",
      "execution_count": null,
      "metadata": {
        "colab": {
          "base_uri": "https://localhost:8080/"
        },
        "id": "ioVA3WnPFT1v",
        "outputId": "231efa24-6b71-4a76-9ddf-17e8f461ac1e"
      },
      "outputs": [
        {
          "data": {
            "text/plain": [
              "Used              11096\n",
              "New                1650\n",
              "Pre-registered     1364\n",
              "Employee's car     1011\n",
              "Demonstration       796\n",
              "NaN                   2\n",
              "Name: Type, dtype: int64"
            ]
          },
          "execution_count": 85,
          "metadata": {},
          "output_type": "execute_result"
        }
      ],
      "source": [
        "df['Type'].value_counts(dropna=False)"
      ]
    },
    {
      "cell_type": "markdown",
      "metadata": {
        "id": "0oGLy57eFqqW"
      },
      "source": [
        "## Next Inspection & Inspection new"
      ]
    },
    {
      "cell_type": "code",
      "execution_count": null,
      "metadata": {
        "colab": {
          "base_uri": "https://localhost:8080/",
          "height": 425
        },
        "id": "4mQI7tAUFT45",
        "outputId": "746bc148-056d-4689-d2ad-2b4eeaeefc43"
      },
      "outputs": [
        {
          "data": {
            "text/plain": [
              "NaN                                       12384\n",
              "\\n04/2022\\n                                  62\n",
              "\\n03/2021\\n                                  38\n",
              "\\n03/2022\\n                                  36\n",
              "\\n06/2021\\n                                  34\n",
              "                                          ...  \n",
              "[\\n12/2018\\n, \\n97 g CO2/km (comb)\\n]         1\n",
              "[\\n03/2022\\n, \\n1 (No sticker)\\n]             1\n",
              "[\\n05/2021\\n, \\n93 g CO2/km (comb)\\n]         1\n",
              "[\\n06/2021\\n, \\n93 g CO2/km (comb)\\n]         1\n",
              "[\\n01/2022\\n, \\n168 g CO2/km (comb)\\n]        1\n",
              "Name: Next Inspection, Length: 1400, dtype: int64"
            ]
          },
          "execution_count": 86,
          "metadata": {},
          "output_type": "execute_result"
        }
      ],
      "source": [
        "df['Next Inspection'].value_counts(dropna=False)"
      ]
    },
    {
      "cell_type": "code",
      "execution_count": null,
      "metadata": {
        "colab": {
          "base_uri": "https://localhost:8080/",
          "height": 425
        },
        "id": "Lk5rB1FbFT7e",
        "outputId": "b6c4248b-a576-4ff1-f0c9-2513c2b73355"
      },
      "outputs": [
        {
          "data": {
            "text/plain": [
              "NaN                                                                                            11987\n",
              "[\\nYes\\n, \\nEuro 6\\n]                                                                            523\n",
              "\\nYes\\n                                                                                          362\n",
              "[\\nYes\\n, \\n102 g CO2/km (comb)\\n]                                                               174\n",
              "[\\nYes\\n, \\n4 (Green)\\n]                                                                         166\n",
              "                                                                                               ...  \n",
              "[\\nYes\\n, \\n, 6 l/100 km (comb), \\n, 8 l/100 km (city), \\n, 4.9 l/100 km (country), \\n]            1\n",
              "[\\nYes\\n, \\n, 6.8 l/100 km (comb), \\n, 8.5 l/100 km (city), \\n, 6.1 l/100 km (country), \\n]        1\n",
              "[\\nYes\\n, \\n, 4.1 l/100 km (comb), \\n, 7.5 l/100 km (city), \\n, 5.2 l/100 km (country), \\n]        1\n",
              "[\\nYes\\n, \\n, 5.2 l/100 km (comb), \\n, 6.8 l/100 km (city), \\n, 4.3 l/100 km (country), \\n]        1\n",
              "[\\nYes\\n, \\n172 g CO2/km (comb)\\n]                                                                 1\n",
              "Name: Inspection new, Length: 203, dtype: int64"
            ]
          },
          "execution_count": 87,
          "metadata": {},
          "output_type": "execute_result"
        }
      ],
      "source": [
        "df['Inspection new'].value_counts(dropna=False)"
      ]
    },
    {
      "cell_type": "code",
      "execution_count": null,
      "metadata": {
        "id": "m12-A8l9GQUw"
      },
      "outputs": [],
      "source": [
        "df['Inspection_new']= [item[0] if type(item)==list else item for item in df['Inspection new']]  #hepsi liste içinde değil."
      ]
    },
    {
      "cell_type": "code",
      "execution_count": null,
      "metadata": {
        "id": "xzFB7COSGQYT"
      },
      "outputs": [],
      "source": [
        "df['Inspection_new']=df['Inspection_new'].str.strip(\"\\n\")"
      ]
    },
    {
      "cell_type": "code",
      "execution_count": null,
      "metadata": {
        "colab": {
          "base_uri": "https://localhost:8080/"
        },
        "id": "bOSsUaOjGQb2",
        "outputId": "883c6064-7f21-4010-e19a-6b39a0bb07c2"
      },
      "outputs": [
        {
          "data": {
            "text/plain": [
              "NaN    11987\n",
              "Yes     3932\n",
              "Name: Inspection_new, dtype: int64"
            ]
          },
          "execution_count": 90,
          "metadata": {},
          "output_type": "execute_result"
        }
      ],
      "source": [
        "df['Inspection_new'].value_counts(dropna=False)"
      ]
    },
    {
      "cell_type": "code",
      "execution_count": null,
      "metadata": {
        "colab": {
          "base_uri": "https://localhost:8080/"
        },
        "id": "S2W6QjX6GQmf",
        "outputId": "f77e3a09-3790-4ed8-98aa-097bc46e1349"
      },
      "outputs": [
        {
          "data": {
            "text/plain": [
              "75.29995602738866"
            ]
          },
          "execution_count": 91,
          "metadata": {},
          "output_type": "execute_result"
        }
      ],
      "source": [
        "df['Inspection new'].isnull().sum()*100/len(df['Inspection new'])"
      ]
    },
    {
      "cell_type": "code",
      "execution_count": null,
      "metadata": {
        "id": "2AmW0PkNIRLe"
      },
      "outputs": [],
      "source": [
        "df.drop([\"Next Inspection\",\"Inspection new\"],axis=1,inplace=True)"
      ]
    },
    {
      "cell_type": "markdown",
      "metadata": {
        "id": "pS_lhlVbIfnn"
      },
      "source": [
        "## Warranty"
      ]
    },
    {
      "cell_type": "code",
      "execution_count": null,
      "metadata": {
        "colab": {
          "base_uri": "https://localhost:8080/",
          "height": 425
        },
        "id": "AuTEo_lNIRQE",
        "outputId": "33152d8f-9086-4cc2-a312-74cb70c9408c"
      },
      "outputs": [
        {
          "data": {
            "text/plain": [
              "NaN                                                                                                5420\n",
              "[\\n, \\n, \\nEuro 6\\n]                                                                               1868\n",
              "\\n12 months\\n                                                                                      1177\n",
              "\\n                                                                                                  979\n",
              "\\n24 months\\n                                                                                       566\n",
              "                                                                                                   ... \n",
              "[\\n72 months\\n, \\n125 g CO2/km (comb)\\n]                                                              1\n",
              "[\\n60 months\\n, \\n14 g CO2/km (comb)\\n]                                                               1\n",
              "[\\n24 months\\n, \\n121 g CO2/km (comb)\\n]                                                              1\n",
              "[\\n12 months\\n, \\nEuro 6d\\n]                                                                          1\n",
              "[\\n36 months\\n, \\n, 7.4 l/100 km (comb), \\n, 9.6 l/100 km (city), \\n, 6 l/100 km (country), \\n]       1\n",
              "Name: Warranty, Length: 516, dtype: int64"
            ]
          },
          "execution_count": 93,
          "metadata": {},
          "output_type": "execute_result"
        }
      ],
      "source": [
        "df.Warranty.value_counts(dropna=False)"
      ]
    },
    {
      "cell_type": "code",
      "execution_count": null,
      "metadata": {
        "id": "h-JID_h1IRU_"
      },
      "outputs": [],
      "source": [
        "df['Warranty']=[item[0] if type(item)==list else item for item in df['Warranty']]"
      ]
    },
    {
      "cell_type": "code",
      "execution_count": null,
      "metadata": {
        "id": "-BiDiplcI8cj"
      },
      "outputs": [],
      "source": [
        "df['Warranty']=df['Warranty'].str.strip('\\n').str.extract('(\\d{1,2})')[0].astype(\"float\")   #nan varsa str[] indexleme yapamıyorum."
      ]
    },
    {
      "cell_type": "code",
      "execution_count": null,
      "metadata": {
        "colab": {
          "base_uri": "https://localhost:8080/"
        },
        "id": "X1J1WoEhI8hg",
        "outputId": "9442e303-d787-4af9-e872-75069c603c49"
      },
      "outputs": [
        {
          "data": {
            "text/plain": [
              "NaN      11066\n",
              "12.00     2594\n",
              "24.00     1118\n",
              "60.00      401\n",
              "36.00      279\n",
              "48.00      149\n",
              "6.00       125\n",
              "72.00       59\n",
              "3.00        33\n",
              "23.00       11\n",
              "18.00       10\n",
              "20.00        7\n",
              "25.00        6\n",
              "2.00         5\n",
              "50.00        4\n",
              "26.00        4\n",
              "16.00        4\n",
              "4.00         3\n",
              "1.00         3\n",
              "19.00        3\n",
              "34.00        3\n",
              "13.00        3\n",
              "28.00        2\n",
              "22.00        2\n",
              "14.00        2\n",
              "11.00        2\n",
              "46.00        2\n",
              "21.00        2\n",
              "9.00         2\n",
              "17.00        2\n",
              "45.00        2\n",
              "33.00        1\n",
              "40.00        1\n",
              "65.00        1\n",
              "10.00        1\n",
              "15.00        1\n",
              "7.00         1\n",
              "8.00         1\n",
              "56.00        1\n",
              "49.00        1\n",
              "47.00        1\n",
              "30.00        1\n",
              "Name: Warranty, dtype: int64"
            ]
          },
          "execution_count": 96,
          "metadata": {},
          "output_type": "execute_result"
        }
      ],
      "source": [
        "df['Warranty'].value_counts(dropna=False)"
      ]
    },
    {
      "cell_type": "markdown",
      "metadata": {
        "id": "9zM8x5zmKlhK"
      },
      "source": [
        "## Full Service"
      ]
    },
    {
      "cell_type": "code",
      "execution_count": null,
      "metadata": {
        "colab": {
          "base_uri": "https://localhost:8080/",
          "height": 425
        },
        "id": "NkGXehXAI8mY",
        "outputId": "8908dc68-a488-4204-edee-364452dde822"
      },
      "outputs": [
        {
          "data": {
            "text/plain": [
              "NaN                                                                                           7704\n",
              "[\\n, \\n, \\n4 (Green)\\n]                                                                       2235\n",
              "[\\n, \\n, \\nEuro 6\\n]                                                                          2097\n",
              "[\\n, \\n]                                                                                      1702\n",
              "[\\n, \\n, \\nEuro 6d-TEMP\\n]                                                                     399\n",
              "                                                                                              ... \n",
              "[\\n, \\n, \\n80 g CO2/km (comb)\\n]                                                                 1\n",
              "[\\n, \\n, \\n84 g CO2/km (comb)\\n]                                                                 1\n",
              "[\\n, \\n, \\n, 6 l/100 km (comb), \\n, 8 l/100 km (city), \\n, 4.9 l/100 km (country), \\n]           1\n",
              "[\\n, \\n, \\n, 4.9 l/100 km (comb), \\n, 6.2 l/100 km (city), \\n, 4.1 l/100 km (country), \\n]       1\n",
              "[\\n, \\n, \\nEuro 4\\n]                                                                             1\n",
              "Name: Full Service, Length: 123, dtype: int64"
            ]
          },
          "execution_count": 97,
          "metadata": {},
          "output_type": "execute_result"
        }
      ],
      "source": [
        "df['Full Service'].value_counts(dropna=False)"
      ]
    },
    {
      "cell_type": "code",
      "execution_count": null,
      "metadata": {
        "id": "LWlT5rWDI8qR"
      },
      "outputs": [],
      "source": [
        "df['Full Service']=[item[0] if type(item)==list else item for item in df['Full Service']]"
      ]
    },
    {
      "cell_type": "code",
      "execution_count": null,
      "metadata": {
        "colab": {
          "base_uri": "https://localhost:8080/"
        },
        "id": "1JaPlNo2I8uV",
        "outputId": "ec9e2297-e2f9-45a7-d135-88d7b58c5ed6"
      },
      "outputs": [
        {
          "data": {
            "text/plain": [
              "\\n     8215\n",
              "NaN    7704\n",
              "Name: Full Service, dtype: int64"
            ]
          },
          "execution_count": 99,
          "metadata": {},
          "output_type": "execute_result"
        }
      ],
      "source": [
        "df['Full Service'].value_counts(dropna=False)"
      ]
    },
    {
      "cell_type": "code",
      "execution_count": null,
      "metadata": {
        "id": "8cumIocVI8yv"
      },
      "outputs": [],
      "source": [
        "df.drop(\"Full Service\",axis=1,inplace=True)"
      ]
    },
    {
      "cell_type": "markdown",
      "metadata": {
        "id": "hB9ZUsBlLW-x"
      },
      "source": [
        "## Non-smoking Vehicle"
      ]
    },
    {
      "cell_type": "code",
      "execution_count": null,
      "metadata": {
        "colab": {
          "base_uri": "https://localhost:8080/",
          "height": 1000
        },
        "id": "EzwInW74LV4C",
        "outputId": "24c56536-714b-4665-c656-ae046816c14b"
      },
      "outputs": [
        {
          "data": {
            "text/plain": [
              "NaN                                                                                           8742\n",
              "[\\n, \\n]                                                                                      3647\n",
              "[\\n, \\n, \\n4 (Green)\\n]                                                                       1240\n",
              "[\\n, \\n, \\nEuro 6\\n]                                                                          1127\n",
              "[\\n, \\n, \\nEuro 6d-TEMP\\n]                                                                     345\n",
              "\\n                                                                                              70\n",
              "[\\n, \\n, \\n120 g CO2/km (comb)\\n]                                                               63\n",
              "[\\n, \\n, \\n85 g CO2/km (comb)\\n]                                                                46\n",
              "[\\n, \\n, \\n104 g CO2/km (comb)\\n]                                                               36\n",
              "[\\n, \\n, \\n107 g CO2/km (comb)\\n]                                                               36\n",
              "[\\n, \\n, \\n153 g CO2/km (comb)\\n]                                                               31\n",
              "[\\n, \\n, \\n124 g CO2/km (comb)\\n]                                                               29\n",
              "[\\n, \\n, \\n1 (No sticker)\\n]                                                                    24\n",
              "[\\n, \\n, \\n99 g CO2/km (comb)\\n]                                                                23\n",
              "[\\n, \\n, \\n106 g CO2/km (comb)\\n]                                                               20\n",
              "[\\n, \\n, \\n97 g CO2/km (comb)\\n]                                                                20\n",
              "[\\n, \\n, \\n108 g CO2/km (comb)\\n]                                                               19\n",
              "[\\n, \\n, \\n113 g CO2/km (comb)\\n]                                                               18\n",
              "[\\n, \\n, \\n100 g CO2/km (comb)\\n]                                                               18\n",
              "[\\n, \\n, \\n109 g CO2/km (comb)\\n]                                                               18\n",
              "[\\n, \\n, \\n105 g CO2/km (comb)\\n]                                                               18\n",
              "[\\n, \\n, \\nEuro 6c\\n]                                                                           17\n",
              "[\\n, \\n, \\n98 g CO2/km (comb)\\n]                                                                15\n",
              "[\\n, \\n, \\n129 g CO2/km (comb)\\n]                                                               14\n",
              "[\\n, \\n, \\n131 g CO2/km (comb)\\n]                                                               13\n",
              "[\\n, \\n, \\n133 g CO2/km (comb)\\n]                                                               12\n",
              "[\\n, \\n, \\n103 g CO2/km (comb)\\n]                                                               12\n",
              "[\\n, \\n, \\n114 g CO2/km (comb)\\n]                                                               12\n",
              "[\\n, \\n, \\n116 g CO2/km (comb)\\n]                                                               11\n",
              "[\\n, \\n, \\n135 g CO2/km (comb)\\n]                                                               11\n",
              "[\\n, \\n, \\n102 g CO2/km (comb)\\n]                                                               11\n",
              "[\\n, \\n, \\n127 g CO2/km (comb)\\n]                                                               10\n",
              "[\\n, \\n, \\n143 g CO2/km (comb)\\n]                                                               10\n",
              "[\\n, \\n, \\n92 g CO2/km (comb)\\n]                                                                 9\n",
              "[\\n, \\n, \\nEuro 6d\\n]                                                                            9\n",
              "[\\n, \\n, \\n112 g CO2/km (comb)\\n]                                                                9\n",
              "[\\n, \\n, \\n5 (Blue)\\n]                                                                           8\n",
              "[\\n, \\n, \\n118 g CO2/km (comb)\\n]                                                                8\n",
              "[\\n, \\n, \\n139 g CO2/km (comb)\\n]                                                                7\n",
              "[\\n, \\n, \\n128 g CO2/km (comb)\\n]                                                                7\n",
              "[\\n, \\n, \\n147 g CO2/km (comb)\\n]                                                                7\n",
              "[\\n, \\n, \\n126 g CO2/km (comb)\\n]                                                                6\n",
              "[\\n, \\n, \\n137 g CO2/km (comb)\\n]                                                                6\n",
              "[\\n, \\n, \\n117 g CO2/km (comb)\\n]                                                                6\n",
              "[\\n, \\n, \\n140 g CO2/km (comb)\\n]                                                                6\n",
              "[\\n, \\n, \\n130 g CO2/km (comb)\\n]                                                                5\n",
              "[\\n, \\n, \\n115 g CO2/km (comb)\\n]                                                                5\n",
              "[\\n, \\n, \\nEuro 5\\n]                                                                             4\n",
              "[\\n, \\n, \\n, 5.2 l/100 km (comb), \\n, 5.8 l/100 km (city), \\n, 4.8 l/100 km (country), \\n]       4\n",
              "[\\n, \\n, \\n123 g CO2/km (comb)\\n]                                                                4\n",
              "[\\n, \\n, \\n151 g CO2/km (comb)\\n]                                                                4\n",
              "[\\n, \\n, \\n95 g CO2/km (comb)\\n]                                                                 3\n",
              "[\\n, \\n, \\n119 g CO2/km (comb)\\n]                                                                3\n",
              "[\\n, \\n, \\n148 g CO2/km (comb)\\n]                                                                3\n",
              "[\\n, \\n, \\n157 g CO2/km (comb)\\n]                                                                3\n",
              "[\\n, \\n, \\n136 g CO2/km (comb)\\n]                                                                3\n",
              "[\\n, \\n, \\n110 g CO2/km (comb)\\n]                                                                3\n",
              "[\\n, \\n, \\n149 g CO2/km (comb)\\n]                                                                3\n",
              "[\\n, \\n, \\n138 g CO2/km (comb)\\n]                                                                2\n",
              "[\\n, \\n, \\n125 g CO2/km (comb)\\n]                                                                2\n",
              "[\\n, \\n, \\n, 5.2 l/100 km (comb), \\n, 6.4 l/100 km (city), \\n, 4.4 l/100 km (country), \\n]       2\n",
              "[\\n, \\n, \\n166 g CO2/km (comb)\\n]                                                                2\n",
              "[\\n, \\n, \\n121 g CO2/km (comb)\\n]                                                                2\n",
              "[\\n, \\n, \\n142 g CO2/km (comb)\\n]                                                                2\n",
              "[\\n, \\n, \\n90 g CO2/km (comb)\\n]                                                                 2\n",
              "[\\n, \\n, \\n111 g CO2/km (comb)\\n]                                                                2\n",
              "[\\n, \\n, \\n134 g CO2/km (comb)\\n]                                                                2\n",
              "[\\n, \\n, \\n, 6.5 l/100 km (comb), \\n, 8.5 l/100 km (city), \\n, 5.4 l/100 km (country), \\n]       1\n",
              "[\\n, \\n, \\n, 6.4 l/100 km (comb), \\n, 8.1 l/100 km (city), \\n, 5.4 l/100 km (country), \\n]       1\n",
              "[\\n, \\n, \\n161 g CO2/km (comb)\\n]                                                                1\n",
              "[\\n, \\n, \\n172 g CO2/km (comb)\\n]                                                                1\n",
              "[\\n, \\n, \\n189 g CO2/km (comb)\\n]                                                                1\n",
              "[\\n, \\n, \\n82 g CO2/km (comb)\\n]                                                                 1\n",
              "[\\n, \\n, \\n154 g CO2/km (comb)\\n]                                                                1\n",
              "[\\n, \\n, \\n, 6.5 l/100 km (comb), \\n, 7.9 l/100 km (city), \\n, 5.6 l/100 km (country), \\n]       1\n",
              "[\\n, \\n, \\n, 6.3 l/100 km (comb), \\n, 8 l/100 km (city), \\n, 5.3 l/100 km (country), \\n]         1\n",
              "[\\n, \\n, \\n146 g CO2/km (comb)\\n]                                                                1\n",
              "[\\n, \\n, \\n, 5.7 l/100 km (comb), \\n, 7.3 l/100 km (city), \\n, 4.7 l/100 km (country), \\n]       1\n",
              "[\\n, \\n, \\n, 6.1 l/100 km (comb), \\n, 7.7 l/100 km (city), \\n, 5.2 l/100 km (country), \\n]       1\n",
              "[\\n, \\n, \\n156 g CO2/km (comb)\\n]                                                                1\n",
              "[\\n, \\n, \\n, 6.1 l/100 km (comb), \\n, 7.8 l/100 km (city), \\n, 5.1 l/100 km (country), \\n]       1\n",
              "[\\n, \\n, \\n, 6.2 l/100 km (comb), \\n, 7.9 l/100 km (city), \\n, 5.3 l/100 km (country), \\n]       1\n",
              "[\\n, \\n, \\n152 g CO2/km (comb)\\n]                                                                1\n",
              "[\\n, \\n, \\n144 g CO2/km (comb)\\n]                                                                1\n",
              "[\\n, \\n, \\n132 g CO2/km (comb)\\n]                                                                1\n",
              "[\\n, \\n, \\n, 1.6 l/100 km (comb), \\n, \\n, \\n]                                                    1\n",
              "[\\n, \\n, \\n169 g CO2/km (comb)\\n]                                                                1\n",
              "[\\n, \\n, \\n101 g CO2/km (comb)\\n]                                                                1\n",
              "[\\n, \\n, \\n159 g CO2/km (comb)\\n]                                                                1\n",
              "[\\n, \\n, \\n91 g CO2/km (comb)\\n]                                                                 1\n",
              "[\\n, \\n, \\n, 5.6 l/100 km (comb), \\n, 7.3 l/100 km (city), \\n, 4.7 l/100 km (country), \\n]       1\n",
              "[\\n, \\n, \\n122 g CO2/km (comb)\\n]                                                                1\n",
              "[\\n, \\n, \\n158 g CO2/km (comb)\\n]                                                                1\n",
              "[\\n, \\n, \\n150 g CO2/km (comb)\\n]                                                                1\n",
              "[\\n, \\n, \\n175 g CO2/km (comb)\\n]                                                                1\n",
              "Name: Non-smoking Vehicle, dtype: int64"
            ]
          },
          "execution_count": 101,
          "metadata": {},
          "output_type": "execute_result"
        }
      ],
      "source": [
        "df['Non-smoking Vehicle'].value_counts(dropna=False)"
      ]
    },
    {
      "cell_type": "code",
      "execution_count": null,
      "metadata": {
        "id": "AkcwWdBALV7e"
      },
      "outputs": [],
      "source": [
        "df.drop('Non-smoking Vehicle',axis=1,inplace=True)"
      ]
    },
    {
      "cell_type": "markdown",
      "metadata": {
        "id": "xsquodiBL6Sh"
      },
      "source": [
        "## Offer Number"
      ]
    },
    {
      "cell_type": "code",
      "execution_count": null,
      "metadata": {
        "colab": {
          "base_uri": "https://localhost:8080/"
        },
        "id": "sKSz0hTJLV-g",
        "outputId": "10b1b3f1-52b5-4b85-c410-b25515f2113c"
      },
      "outputs": [
        {
          "data": {
            "text/plain": [
              "nan                                                 3175\n",
              "['\\nLT67679\\n']                                       27\n",
              "['\\nUN89904\\n']                                       27\n",
              "['\\nXJ38068\\n']                                       27\n",
              "['\\nJV03654\\n']                                       27\n",
              "                                                    ... \n",
              "['\\n160_dcbb6c3e-a6da-43a3-8754-ccd994cec93b\\n']       1\n",
              "['\\n6701576\\n']                                        1\n",
              "['\\n6701569\\n']                                        1\n",
              "['\\n158121\\n']                                         1\n",
              "['\\nRe_30000008029\\n']                                 1\n",
              "Name: Offer Number, Length: 11441, dtype: int64"
            ]
          },
          "execution_count": 103,
          "metadata": {},
          "output_type": "execute_result"
        }
      ],
      "source": [
        "df['Offer Number'].astype(\"str\").value_counts(dropna=False)   #astype(\"str\") versiyon farkından kaynaklı hatayı engelledi.string olarak çağırdım."
      ]
    },
    {
      "cell_type": "code",
      "execution_count": null,
      "metadata": {
        "id": "3nDTl67JLWB8"
      },
      "outputs": [],
      "source": [
        "df['Offer_Number']= [item[0] if type(item)==list else item for item in df['Offer Number']]"
      ]
    },
    {
      "cell_type": "code",
      "execution_count": null,
      "metadata": {
        "id": "Hu0V8fj4LWEk"
      },
      "outputs": [],
      "source": [
        "df['Offer_Number']=df['Offer_Number'].str.strip('\\n')"
      ]
    },
    {
      "cell_type": "code",
      "execution_count": null,
      "metadata": {
        "id": "T-5pve8jLWHD"
      },
      "outputs": [],
      "source": [
        "df.drop('Offer Number',axis=1,inplace=True)"
      ]
    },
    {
      "cell_type": "markdown",
      "metadata": {
        "id": "3J88lbCmNVNk"
      },
      "source": [
        "## Body Color"
      ]
    },
    {
      "cell_type": "code",
      "execution_count": null,
      "metadata": {
        "colab": {
          "base_uri": "https://localhost:8080/",
          "height": 495
        },
        "id": "OV-goVT8NYFv",
        "outputId": "f28ff61a-6e59-4241-a3ee-4bd5cdda0158"
      },
      "outputs": [
        {
          "data": {
            "text/plain": [
              "[\\n, Black, \\n]     3745\n",
              "[\\n, Grey, \\n]      3505\n",
              "[\\n, White, \\n]     3406\n",
              "[\\n, Silver, \\n]    1647\n",
              "[\\n, Blue, \\n]      1431\n",
              "[\\n, Red, \\n]        957\n",
              "NaN                  597\n",
              "[\\n, Brown, \\n]      289\n",
              "[\\n, Green, \\n]      154\n",
              "[\\n, Beige, \\n]      108\n",
              "[\\n, Yellow, \\n]      51\n",
              "[\\n, Violet, \\n]      18\n",
              "[\\n, Bronze, \\n]       6\n",
              "[\\n, Orange, \\n]       3\n",
              "[\\n, Gold, \\n]         2\n",
              "Name: Body Color, dtype: int64"
            ]
          },
          "execution_count": 107,
          "metadata": {},
          "output_type": "execute_result"
        }
      ],
      "source": [
        "df['Body Color'].value_counts(dropna=False)"
      ]
    },
    {
      "cell_type": "code",
      "execution_count": null,
      "metadata": {
        "id": "jw7wE7agNYJU"
      },
      "outputs": [],
      "source": [
        "df['BodyColor']=df['Body Color'].str[1]  "
      ]
    },
    {
      "cell_type": "code",
      "execution_count": null,
      "metadata": {
        "colab": {
          "base_uri": "https://localhost:8080/"
        },
        "id": "9p2heQyLNYmU",
        "outputId": "0c3b9f27-18ef-4256-e56f-fdd4fff520ba"
      },
      "outputs": [
        {
          "data": {
            "text/plain": [
              "Black     3745\n",
              "Grey      3505\n",
              "White     3406\n",
              "Silver    1647\n",
              "Blue      1431\n",
              "Red        957\n",
              "NaN        597\n",
              "Brown      289\n",
              "Green      154\n",
              "Beige      108\n",
              "Yellow      51\n",
              "Violet      18\n",
              "Bronze       6\n",
              "Orange       3\n",
              "Gold         2\n",
              "Name: BodyColor, dtype: int64"
            ]
          },
          "execution_count": 109,
          "metadata": {},
          "output_type": "execute_result"
        }
      ],
      "source": [
        "df['BodyColor'].value_counts(dropna=False)"
      ]
    },
    {
      "cell_type": "code",
      "execution_count": null,
      "metadata": {
        "id": "Ai9YfVI_fTe4"
      },
      "outputs": [],
      "source": [
        "df.drop('Body Color',axis=1,inplace=True)"
      ]
    },
    {
      "cell_type": "markdown",
      "metadata": {
        "id": "ykkM43ziRh96"
      },
      "source": [
        "## Body Color Original"
      ]
    },
    {
      "cell_type": "code",
      "execution_count": null,
      "metadata": {
        "colab": {
          "base_uri": "https://localhost:8080/",
          "height": 425
        },
        "id": "G5WA2G_MN0Si",
        "outputId": "6054db9c-0fd8-4c38-e7fc-95c7aabec944"
      },
      "outputs": [
        {
          "data": {
            "text/plain": [
              "NaN                                    3759\n",
              "[\\nOnyx Schwarz\\n]                      338\n",
              "[\\nBianco\\n]                            282\n",
              "[\\nMythosschwarz Metallic\\n]            238\n",
              "[\\nBrillantschwarz\\n]                   216\n",
              "                                       ... \n",
              "[\\nRouge-Braun (G0Y)\\n]                   1\n",
              "[\\nVARI COLRI DISPONIBILI\\n]              1\n",
              "[\\nKokosnussbraun Metallic\\n]             1\n",
              "[\\nFarbe frei wählbar\\n]                  1\n",
              "[\\nPerlmutt-Weiß Metallic (Weiß)\\n]       1\n",
              "Name: Body Color Original, Length: 1928, dtype: int64"
            ]
          },
          "execution_count": 111,
          "metadata": {},
          "output_type": "execute_result"
        }
      ],
      "source": [
        "df['Body Color Original'].value_counts(dropna=False)"
      ]
    },
    {
      "cell_type": "code",
      "execution_count": null,
      "metadata": {
        "id": "DobhynQKN0YN"
      },
      "outputs": [],
      "source": [
        "df.drop('Body Color Original',axis=1,inplace=True)"
      ]
    },
    {
      "cell_type": "markdown",
      "metadata": {
        "id": "Bhm5Cx5sR0w_"
      },
      "source": [
        "## Paint Type"
      ]
    },
    {
      "cell_type": "code",
      "execution_count": null,
      "metadata": {
        "colab": {
          "base_uri": "https://localhost:8080/",
          "height": 304
        },
        "id": "IyC4HRplN0cu",
        "outputId": "356e49df-77e2-4496-f2c0-fb585f9bed9b"
      },
      "outputs": [
        {
          "data": {
            "text/plain": [
              "[\\nMetallic\\n]       9794\n",
              "NaN                  5772\n",
              "[\\nUni/basic\\n]       347\n",
              "[\\nPerl effect\\n]       6\n",
              "Name: Paint Type, dtype: int64"
            ]
          },
          "execution_count": 113,
          "metadata": {},
          "output_type": "execute_result"
        }
      ],
      "source": [
        "df['Paint Type'].value_counts(dropna=False)"
      ]
    },
    {
      "cell_type": "code",
      "execution_count": null,
      "metadata": {
        "id": "swAAM9d-N0gv"
      },
      "outputs": [],
      "source": [
        "df['Paint_Type']=df['Paint Type'].str[0].str.strip('\\n')"
      ]
    },
    {
      "cell_type": "code",
      "execution_count": null,
      "metadata": {
        "colab": {
          "base_uri": "https://localhost:8080/"
        },
        "id": "tSano-bDNYpm",
        "outputId": "152aff43-a985-4843-95a2-c4204755a747"
      },
      "outputs": [
        {
          "data": {
            "text/plain": [
              "Metallic       9794\n",
              "NaN            5772\n",
              "Uni/basic       347\n",
              "Perl effect       6\n",
              "Name: Paint_Type, dtype: int64"
            ]
          },
          "execution_count": 115,
          "metadata": {},
          "output_type": "execute_result"
        }
      ],
      "source": [
        "df['Paint_Type'].value_counts(dropna=False)"
      ]
    },
    {
      "cell_type": "code",
      "execution_count": null,
      "metadata": {
        "colab": {
          "base_uri": "https://localhost:8080/"
        },
        "id": "WZktbWFRqQYb",
        "outputId": "ef986051-dd58-4dc9-d779-d8d1596bc40d"
      },
      "outputs": [
        {
          "data": {
            "text/plain": [
              "Index(['make_model', 'body_type', 'price', 'vat', 'km', 'Type', 'Warranty',\n",
              "       'Paint Type', 'Upholstery', 'Nr. of Doors', 'Nr. of Seats',\n",
              "       'Model Code', 'Gearing Type', 'Displacement', 'Cylinders', 'Weight',\n",
              "       'Drive chain', 'Fuel', 'Consumption', 'CO2 Emission', 'Emission Class',\n",
              "       'Comfort_Convenience', 'Entertainment_Media', 'Extras',\n",
              "       'Safety_Security', 'Emission Label', 'Gears', 'Country version', 'age',\n",
              "       'Previous_Owners', 'hp_kw', 'Inspection_new', 'Offer_Number',\n",
              "       'BodyColor', 'Paint_Type'],\n",
              "      dtype='object')"
            ]
          },
          "execution_count": 116,
          "metadata": {},
          "output_type": "execute_result"
        }
      ],
      "source": [
        "df.columns"
      ]
    },
    {
      "cell_type": "code",
      "execution_count": null,
      "metadata": {
        "id": "0SD5ViRrqK43"
      },
      "outputs": [],
      "source": [
        "df.drop('Paint Type',axis=1,inplace=True)"
      ]
    },
    {
      "cell_type": "markdown",
      "metadata": {
        "id": "dzgFq_TdS_tt"
      },
      "source": [
        "## Upholstery"
      ]
    },
    {
      "cell_type": "code",
      "execution_count": null,
      "metadata": {
        "colab": {
          "base_uri": "https://localhost:8080/",
          "height": 1000
        },
        "id": "hsABQDw-Szo7",
        "outputId": "9c436615-3e50-4ac7-85ee-919d797308cc"
      },
      "outputs": [
        {
          "data": {
            "text/plain": [
              "[\\nCloth, Black\\n]           5821\n",
              "NaN                          3720\n",
              "[\\nPart leather, Black\\n]    1121\n",
              "[\\nCloth\\n]                  1005\n",
              "[\\nCloth, Grey\\n]             891\n",
              "[\\nCloth, Other\\n]            639\n",
              "[\\nFull leather, Black\\n]     575\n",
              "[\\nBlack\\n]                   491\n",
              "[\\nGrey\\n]                    273\n",
              "[\\nOther, Other\\n]            182\n",
              "[\\nPart leather\\n]            140\n",
              "[\\nFull leather\\n]            139\n",
              "[\\nFull leather, Brown\\n]     116\n",
              "[\\nPart leather, Grey\\n]      116\n",
              "[\\nOther, Black\\n]            110\n",
              "[\\nFull leather, Other\\n]      72\n",
              "[\\nFull leather, Grey\\n]       67\n",
              "[\\nPart leather, Other\\n]      65\n",
              "[\\nOther\\n]                    56\n",
              "[\\nPart leather, Brown\\n]      50\n",
              "[\\nalcantara, Black\\n]         47\n",
              "[\\nVelour, Black\\n]            36\n",
              "[\\nFull leather, Beige\\n]      36\n",
              "[\\nCloth, Brown\\n]             28\n",
              "[\\nVelour\\n]                   16\n",
              "[\\nOther, Grey\\n]              15\n",
              "[\\nCloth, Beige\\n]             13\n",
              "[\\nBrown\\n]                    12\n",
              "[\\nCloth, Blue\\n]              12\n",
              "[\\nVelour, Grey\\n]              8\n",
              "[\\nCloth, White\\n]              8\n",
              "[\\nalcantara, Grey\\n]           6\n",
              "[\\nCloth, Red\\n]                5\n",
              "[\\nOther, Yellow\\n]             4\n",
              "[\\nPart leather, Red\\n]         3\n",
              "[\\nBeige\\n]                     3\n",
              "[\\nPart leather, White\\n]       2\n",
              "[\\nFull leather, Blue\\n]        2\n",
              "[\\nalcantara, Other\\n]          2\n",
              "[\\nalcantara\\n]                 2\n",
              "[\\nWhite\\n]                     2\n",
              "[\\nPart leather, Beige\\n]       2\n",
              "[\\nBlue\\n]                      2\n",
              "[\\nCloth, Orange\\n]             1\n",
              "[\\nFull leather, Red\\n]         1\n",
              "[\\nOther, Brown\\n]              1\n",
              "[\\nFull leather, White\\n]       1\n",
              "Name: Upholstery, dtype: int64"
            ]
          },
          "execution_count": 118,
          "metadata": {},
          "output_type": "execute_result"
        }
      ],
      "source": [
        "df['Upholstery'].value_counts(dropna=False)"
      ]
    },
    {
      "cell_type": "code",
      "execution_count": null,
      "metadata": {
        "id": "iT1L4oe_Sz5p"
      },
      "outputs": [],
      "source": [
        "df['Upholstery']=[item[0] if type(item)==list else item for item in df.Upholstery]  #liste içinde olan olmayan eleman sayıları farlklı."
      ]
    },
    {
      "cell_type": "code",
      "execution_count": null,
      "metadata": {
        "id": "WfGNtqzRSz_P"
      },
      "outputs": [],
      "source": [
        "df['Upholstery']=df['Upholstery'].str.strip('\\n').str.split(\",\")"
      ]
    },
    {
      "cell_type": "code",
      "execution_count": null,
      "metadata": {
        "colab": {
          "base_uri": "https://localhost:8080/",
          "height": 1000
        },
        "id": "UZ3zso9DS0Eb",
        "outputId": "0cb9f62a-2ca1-479f-d67e-918cad7455cf"
      },
      "outputs": [
        {
          "data": {
            "text/plain": [
              "[Cloth,  Black]           5821\n",
              "NaN                       3720\n",
              "[Part leather,  Black]    1121\n",
              "[Cloth]                   1005\n",
              "[Cloth,  Grey]             891\n",
              "[Cloth,  Other]            639\n",
              "[Full leather,  Black]     575\n",
              "[Black]                    491\n",
              "[Grey]                     273\n",
              "[Other,  Other]            182\n",
              "[Part leather]             140\n",
              "[Full leather]             139\n",
              "[Full leather,  Brown]     116\n",
              "[Part leather,  Grey]      116\n",
              "[Other,  Black]            110\n",
              "[Full leather,  Other]      72\n",
              "[Full leather,  Grey]       67\n",
              "[Part leather,  Other]      65\n",
              "[Other]                     56\n",
              "[Part leather,  Brown]      50\n",
              "[alcantara,  Black]         47\n",
              "[Velour,  Black]            36\n",
              "[Full leather,  Beige]      36\n",
              "[Cloth,  Brown]             28\n",
              "[Velour]                    16\n",
              "[Other,  Grey]              15\n",
              "[Cloth,  Beige]             13\n",
              "[Brown]                     12\n",
              "[Cloth,  Blue]              12\n",
              "[Velour,  Grey]              8\n",
              "[Cloth,  White]              8\n",
              "[alcantara,  Grey]           6\n",
              "[Cloth,  Red]                5\n",
              "[Other,  Yellow]             4\n",
              "[Part leather,  Red]         3\n",
              "[Beige]                      3\n",
              "[Part leather,  White]       2\n",
              "[Full leather,  Blue]        2\n",
              "[alcantara,  Other]          2\n",
              "[alcantara]                  2\n",
              "[White]                      2\n",
              "[Part leather,  Beige]       2\n",
              "[Blue]                       2\n",
              "[Cloth,  Orange]             1\n",
              "[Full leather,  Red]         1\n",
              "[Other,  Brown]              1\n",
              "[Full leather,  White]       1\n",
              "Name: Upholstery, dtype: int64"
            ]
          },
          "execution_count": 121,
          "metadata": {},
          "output_type": "execute_result"
        }
      ],
      "source": [
        "df[\"Upholstery\"].value_counts(dropna=False)"
      ]
    },
    {
      "cell_type": "code",
      "execution_count": null,
      "metadata": {
        "id": "A_9tfTfVS0IX"
      },
      "outputs": [],
      "source": [
        "u_type = [\"Cloth\", 'Part leather', 'Full leather', 'Velour', 'alcantara']   #küçük büyük hafle başlayanlar varsa hepsi bu listede olmalı.\n",
        "df[\"Upholstery_type\"] = df[\"Upholstery\"].apply(lambda x : x[0] if type(x) == list and x[0] in u_type else np.nan)"
      ]
    },
    {
      "cell_type": "code",
      "execution_count": null,
      "metadata": {
        "colab": {
          "base_uri": "https://localhost:8080/"
        },
        "id": "XiEtLbJiS0Nb",
        "outputId": "a5f02615-f363-4aa8-e656-3aed5e8cd4c9"
      },
      "outputs": [
        {
          "data": {
            "text/plain": [
              "Cloth           8423\n",
              "NaN             4871\n",
              "Part leather    1499\n",
              "Full leather    1009\n",
              "Velour            60\n",
              "alcantara         57\n",
              "Name: Upholstery_type, dtype: int64"
            ]
          },
          "execution_count": 123,
          "metadata": {},
          "output_type": "execute_result"
        }
      ],
      "source": [
        "df[\"Upholstery_type\"].value_counts(dropna=False)"
      ]
    },
    {
      "cell_type": "code",
      "execution_count": null,
      "metadata": {
        "id": "w9w58puiS0RX"
      },
      "outputs": [],
      "source": [
        "color = ['Black', 'Grey', 'Brown', 'Beige', 'White', 'Blue', 'Red', 'Yellow', 'Orange']\n",
        "\n",
        "def finder(x):\n",
        "    if type(x) == list and len(x) == 2:\n",
        "        return x[1]\n",
        "    elif type(x) == list and x[0] in color:\n",
        "        return x[0]\n",
        "    else:\n",
        "        return np.nan\n",
        "    \n",
        "df['Upholstery_color'] = df.Upholstery.apply(finder)"
      ]
    },
    {
      "cell_type": "code",
      "execution_count": null,
      "metadata": {
        "colab": {
          "base_uri": "https://localhost:8080/"
        },
        "id": "tGhlLC4DS0Wd",
        "outputId": "87b0b189-5222-4b85-939a-dcae60f958a7"
      },
      "outputs": [
        {
          "data": {
            "text/plain": [
              " Black     7710\n",
              "NaN        5078\n",
              " Grey      1103\n",
              " Other      960\n",
              "Black       491\n",
              "Grey        273\n",
              " Brown      195\n",
              " Beige       51\n",
              " Blue        14\n",
              "Brown        12\n",
              " White       11\n",
              " Red          9\n",
              " Yellow       4\n",
              "Beige         3\n",
              "Blue          2\n",
              "White         2\n",
              " Orange       1\n",
              "Name: Upholstery_color, dtype: int64"
            ]
          },
          "execution_count": 125,
          "metadata": {},
          "output_type": "execute_result"
        }
      ],
      "source": [
        "df[\"Upholstery_color\"].value_counts(dropna=False)"
      ]
    },
    {
      "cell_type": "code",
      "execution_count": null,
      "metadata": {
        "id": "8ZKwP8N3VZS8"
      },
      "outputs": [],
      "source": [
        "df.drop(\"Upholstery\", axis=1, inplace=True)"
      ]
    },
    {
      "cell_type": "markdown",
      "metadata": {
        "id": "JrQfugZJVhIK"
      },
      "source": [
        "## Nr. of Doors"
      ]
    },
    {
      "cell_type": "code",
      "execution_count": null,
      "metadata": {
        "colab": {
          "base_uri": "https://localhost:8080/",
          "height": 356
        },
        "id": "4LII0lz4VZXQ",
        "outputId": "309ba148-de84-4c21-9919-508e4efe4d05"
      },
      "outputs": [
        {
          "data": {
            "text/plain": [
              "[\\n5\\n]    11575\n",
              "[\\n4\\n]     3079\n",
              "[\\n3\\n]      832\n",
              "[\\n2\\n]      219\n",
              "NaN          212\n",
              "[\\n1\\n]        1\n",
              "[\\n7\\n]        1\n",
              "Name: Nr. of Doors, dtype: int64"
            ]
          },
          "execution_count": 127,
          "metadata": {},
          "output_type": "execute_result"
        }
      ],
      "source": [
        "df[\"Nr. of Doors\"].value_counts(dropna=False)"
      ]
    },
    {
      "cell_type": "code",
      "execution_count": null,
      "metadata": {
        "id": "YlTeu45TVj6c"
      },
      "outputs": [],
      "source": [
        "df[\"Nr_of_Doors\"]=df[\"Nr. of Doors\"].str[0].str.strip('\\n').astype('float')"
      ]
    },
    {
      "cell_type": "code",
      "execution_count": null,
      "metadata": {
        "colab": {
          "base_uri": "https://localhost:8080/"
        },
        "id": "nUkHzeeVVkA1",
        "outputId": "a03603fb-736b-4d71-eb08-4f08fcf4dd19"
      },
      "outputs": [
        {
          "data": {
            "text/plain": [
              "5.00    11575\n",
              "4.00     3079\n",
              "3.00      832\n",
              "2.00      219\n",
              "NaN       212\n",
              "1.00        1\n",
              "7.00        1\n",
              "Name: Nr_of_Doors, dtype: int64"
            ]
          },
          "execution_count": 129,
          "metadata": {},
          "output_type": "execute_result"
        }
      ],
      "source": [
        "df[\"Nr_of_Doors\"].value_counts(dropna=False)"
      ]
    },
    {
      "cell_type": "code",
      "execution_count": null,
      "metadata": {
        "id": "uCj9vNboWnND"
      },
      "outputs": [],
      "source": [
        "df.drop(\"Nr. of Doors\", axis=1, inplace=True)"
      ]
    },
    {
      "cell_type": "markdown",
      "metadata": {
        "id": "_WGU3tWeXDhy"
      },
      "source": [
        "## Nr. of Seats"
      ]
    },
    {
      "cell_type": "code",
      "execution_count": null,
      "metadata": {
        "colab": {
          "base_uri": "https://localhost:8080/",
          "height": 356
        },
        "id": "zFttYCrBWneR",
        "outputId": "9ce560eb-e3fd-4570-b176-e29b1c2cb79c"
      },
      "outputs": [
        {
          "data": {
            "text/plain": [
              "[\\n5\\n]    13336\n",
              "[\\n4\\n]     1125\n",
              "NaN          977\n",
              "[\\n7\\n]      362\n",
              "[\\n2\\n]      116\n",
              "[\\n6\\n]        2\n",
              "[\\n3\\n]        1\n",
              "Name: Nr. of Seats, dtype: int64"
            ]
          },
          "execution_count": 131,
          "metadata": {},
          "output_type": "execute_result"
        }
      ],
      "source": [
        "df[\"Nr. of Seats\"].value_counts(dropna=False)"
      ]
    },
    {
      "cell_type": "code",
      "execution_count": null,
      "metadata": {
        "id": "X_YAc1PBWnhS"
      },
      "outputs": [],
      "source": [
        "df[\"Nr_of_Seats\"]=df[\"Nr. of Seats\"].str[0].str.strip('\\n').astype('float')"
      ]
    },
    {
      "cell_type": "code",
      "execution_count": null,
      "metadata": {
        "colab": {
          "base_uri": "https://localhost:8080/"
        },
        "id": "EGaFoA94VkGe",
        "outputId": "8c983954-df70-445a-f657-008741240f0a"
      },
      "outputs": [
        {
          "data": {
            "text/plain": [
              "5.00    13336\n",
              "4.00     1125\n",
              "NaN       977\n",
              "7.00      362\n",
              "2.00      116\n",
              "6.00        2\n",
              "3.00        1\n",
              "Name: Nr_of_Seats, dtype: int64"
            ]
          },
          "execution_count": 133,
          "metadata": {},
          "output_type": "execute_result"
        }
      ],
      "source": [
        "df[\"Nr_of_Seats\"].value_counts(dropna=False)"
      ]
    },
    {
      "cell_type": "code",
      "execution_count": null,
      "metadata": {
        "id": "e1QsZpnmVZbF"
      },
      "outputs": [],
      "source": [
        "df.drop(\"Nr. of Seats\", axis=1, inplace=True)"
      ]
    },
    {
      "cell_type": "markdown",
      "metadata": {
        "id": "VkJVkKaNXbF1"
      },
      "source": [
        "## Model Code"
      ]
    },
    {
      "cell_type": "code",
      "execution_count": null,
      "metadata": {
        "colab": {
          "base_uri": "https://localhost:8080/",
          "height": 425
        },
        "id": "4WmA50xwVZeq",
        "outputId": "345c6062-3633-4cfe-d7ab-a466f5e81011"
      },
      "outputs": [
        {
          "data": {
            "text/plain": [
              "NaN               10941\n",
              "[\\n0035/BCB\\n]      268\n",
              "[\\n0588/BNO\\n]      245\n",
              "[\\n0588/BDB\\n]      206\n",
              "[\\n0588/BHX\\n]      188\n",
              "                  ...  \n",
              "[\\n0035/AVN\\n]        1\n",
              "[\\n0035/BEM\\n]        1\n",
              "[\\n0035/BAG\\n]        1\n",
              "[\\n0035/BAA\\n]        1\n",
              "[\\n3333/BKG\\n]        1\n",
              "Name: Model Code, Length: 233, dtype: int64"
            ]
          },
          "execution_count": 135,
          "metadata": {},
          "output_type": "execute_result"
        }
      ],
      "source": [
        "df[\"Model Code\"].value_counts(dropna=False)  #bazı eksik yerlerde kullanılabilir şimdilik düşüyorum."
      ]
    },
    {
      "cell_type": "code",
      "execution_count": null,
      "metadata": {
        "id": "tAh0gZgoVZh9"
      },
      "outputs": [],
      "source": [
        "df.drop(\"Model Code\", axis=1, inplace=True)"
      ]
    },
    {
      "cell_type": "markdown",
      "metadata": {
        "id": "9u_M5E2wXvtG"
      },
      "source": [
        "## Gearing Type"
      ]
    },
    {
      "cell_type": "code",
      "execution_count": null,
      "metadata": {
        "colab": {
          "base_uri": "https://localhost:8080/",
          "height": 287
        },
        "id": "1e9TTan-XkFw",
        "outputId": "2c268c81-7181-4503-f522-0a6956562f44"
      },
      "outputs": [
        {
          "data": {
            "text/plain": [
              "[\\n, Manual, \\n]            8153\n",
              "[\\n, Automatic, \\n]         7297\n",
              "[\\n, Semi-automatic, \\n]     469\n",
              "Name: Gearing Type, dtype: int64"
            ]
          },
          "execution_count": 137,
          "metadata": {},
          "output_type": "execute_result"
        }
      ],
      "source": [
        "df[\"Gearing Type\"].value_counts(dropna=False)"
      ]
    },
    {
      "cell_type": "code",
      "execution_count": null,
      "metadata": {
        "id": "yacd4zOgXkOV"
      },
      "outputs": [],
      "source": [
        "df[\"Gearing_Type\"]=df[\"Gearing Type\"].str[1]"
      ]
    },
    {
      "cell_type": "code",
      "execution_count": null,
      "metadata": {
        "colab": {
          "base_uri": "https://localhost:8080/"
        },
        "id": "YmiE3AfCXkVV",
        "outputId": "ac57e59e-cc78-4d4f-f1d9-75580db66b09"
      },
      "outputs": [
        {
          "data": {
            "text/plain": [
              "Manual            8153\n",
              "Automatic         7297\n",
              "Semi-automatic     469\n",
              "Name: Gearing_Type, dtype: int64"
            ]
          },
          "execution_count": 139,
          "metadata": {},
          "output_type": "execute_result"
        }
      ],
      "source": [
        "df[\"Gearing_Type\"].value_counts(dropna=False)"
      ]
    },
    {
      "cell_type": "code",
      "execution_count": null,
      "metadata": {
        "id": "VG-jC5HtXkdl"
      },
      "outputs": [],
      "source": [
        "df.drop(\"Gearing Type\", axis=1, inplace=True)"
      ]
    },
    {
      "cell_type": "markdown",
      "metadata": {
        "id": "1rGB-AikYQEq"
      },
      "source": [
        "## Displacement  (motor hacmi)"
      ]
    },
    {
      "cell_type": "code",
      "execution_count": null,
      "metadata": {
        "colab": {
          "base_uri": "https://localhost:8080/",
          "height": 321
        },
        "id": "foJ7U-b3YI0Z",
        "outputId": "71277db2-e038-431f-ceff-ad83f5418992"
      },
      "outputs": [
        {
          "data": {
            "text/plain": [
              "[\\n1,598 cc\\n]    4761\n",
              "[\\n999 cc\\n]      2438\n",
              "[\\n1,398 cc\\n]    1314\n",
              "[\\n1,399 cc\\n]     749\n",
              "[\\n1,229 cc\\n]     677\n",
              "Name: Displacement, dtype: int64"
            ]
          },
          "execution_count": 141,
          "metadata": {},
          "output_type": "execute_result"
        }
      ],
      "source": [
        "df[\"Displacement\"].value_counts(dropna=False).head()"
      ]
    },
    {
      "cell_type": "code",
      "execution_count": null,
      "metadata": {
        "id": "3pJ3K4LZYI5e"
      },
      "outputs": [],
      "source": [
        "df[\"Displacement_cc\"]=df.Displacement.str[0].str.strip(\"\\n\").str.replace(\",\",\"\").str.extract(\"(\\d{1,5})\").astype(float)"
      ]
    },
    {
      "cell_type": "code",
      "execution_count": null,
      "metadata": {
        "colab": {
          "base_uri": "https://localhost:8080/"
        },
        "id": "aBZivGeQYI-p",
        "outputId": "5f940beb-c1a3-4e28-8632-ac9f2c425778"
      },
      "outputs": [
        {
          "data": {
            "text/plain": [
              "1598.00     4761\n",
              "999.00      2438\n",
              "1398.00     1314\n",
              "1399.00      749\n",
              "1229.00      677\n",
              "1956.00      670\n",
              "1461.00      595\n",
              "1490.00      559\n",
              "NaN          496\n",
              "1422.00      467\n",
              "1197.00      353\n",
              "898.00       351\n",
              "1395.00      320\n",
              "1968.00      301\n",
              "1149.00      288\n",
              "1618.00      212\n",
              "1798.00      210\n",
              "1498.00      196\n",
              "1600.00      130\n",
              "1248.00      110\n",
              "1997.00      103\n",
              "1364.00      102\n",
              "1400.00       90\n",
              "998.00        72\n",
              "1500.00       50\n",
              "2000.00       46\n",
              "1000.00       40\n",
              "1.00          36\n",
              "1998.00       25\n",
              "2480.00       20\n",
              "1200.00       18\n",
              "1984.00       18\n",
              "1397.00       11\n",
              "899.00        11\n",
              "160.00         6\n",
              "929.00         5\n",
              "1499.00        5\n",
              "997.00         4\n",
              "1596.00        4\n",
              "139.00         4\n",
              "900.00         4\n",
              "1599.00        3\n",
              "1199.00        3\n",
              "1396.00        3\n",
              "1495.00        2\n",
              "1589.00        2\n",
              "1300.00        2\n",
              "2.00           2\n",
              "995.00         2\n",
              "1496.00        1\n",
              "890.00         1\n",
              "1580.00        1\n",
              "1995.00        1\n",
              "1333.00        1\n",
              "54.00          1\n",
              "1533.00        1\n",
              "1100.00        1\n",
              "1350.00        1\n",
              "16000.00       1\n",
              "1856.00        1\n",
              "1568.00        1\n",
              "1896.00        1\n",
              "1584.00        1\n",
              "996.00         1\n",
              "1696.00        1\n",
              "1686.00        1\n",
              "15898.00       1\n",
              "1368.00        1\n",
              "140.00         1\n",
              "973.00         1\n",
              "1239.00        1\n",
              "1369.00        1\n",
              "1390.00        1\n",
              "122.00         1\n",
              "1198.00        1\n",
              "1195.00        1\n",
              "2967.00        1\n",
              "1800.00        1\n",
              "Name: Displacement_cc, dtype: int64"
            ]
          },
          "execution_count": 143,
          "metadata": {},
          "output_type": "execute_result"
        }
      ],
      "source": [
        "df[\"Displacement_cc\"].value_counts(dropna=False)"
      ]
    },
    {
      "cell_type": "code",
      "execution_count": null,
      "metadata": {
        "id": "vjn0ZAq1YJFx"
      },
      "outputs": [],
      "source": [
        "df.drop(\"Displacement\",axis=1,inplace=True)"
      ]
    },
    {
      "cell_type": "markdown",
      "metadata": {
        "id": "s47O574yaaRP"
      },
      "source": [
        "## Cylinders"
      ]
    },
    {
      "cell_type": "code",
      "execution_count": null,
      "metadata": {
        "colab": {
          "base_uri": "https://localhost:8080/",
          "height": 373
        },
        "id": "IAaJQJ6oaKzZ",
        "outputId": "a9a2ed58-6cec-450f-85a5-e985a7cbfafd"
      },
      "outputs": [
        {
          "data": {
            "text/plain": [
              "[\\n4\\n]    8105\n",
              "NaN        5680\n",
              "[\\n3\\n]    2104\n",
              "[\\n5\\n]      22\n",
              "[\\n6\\n]       3\n",
              "[\\n8\\n]       2\n",
              "[\\n2\\n]       2\n",
              "[\\n1\\n]       1\n",
              "Name: Cylinders, dtype: int64"
            ]
          },
          "execution_count": 145,
          "metadata": {},
          "output_type": "execute_result"
        }
      ],
      "source": [
        "df[\"Cylinders\"].value_counts(dropna=False)"
      ]
    },
    {
      "cell_type": "code",
      "execution_count": null,
      "metadata": {
        "id": "nmkBKbrQaMCw"
      },
      "outputs": [],
      "source": [
        "df[\"Cylinders\"]=df[\"Cylinders\"].str[0].str.strip(\"\\n\").astype(float)"
      ]
    },
    {
      "cell_type": "code",
      "execution_count": null,
      "metadata": {
        "colab": {
          "base_uri": "https://localhost:8080/"
        },
        "id": "TlIvAaG8aMMX",
        "outputId": "d05618f0-f6da-4dd7-ddfe-30074322d79e"
      },
      "outputs": [
        {
          "data": {
            "text/plain": [
              "4.00    8105\n",
              "NaN     5680\n",
              "3.00    2104\n",
              "5.00      22\n",
              "6.00       3\n",
              "8.00       2\n",
              "2.00       2\n",
              "1.00       1\n",
              "Name: Cylinders, dtype: int64"
            ]
          },
          "execution_count": 147,
          "metadata": {},
          "output_type": "execute_result"
        }
      ],
      "source": [
        "df[\"Cylinders\"].value_counts(dropna=False)"
      ]
    },
    {
      "cell_type": "markdown",
      "metadata": {
        "id": "kz3Xmy-MbNsM"
      },
      "source": [
        "## Weight\n"
      ]
    },
    {
      "cell_type": "code",
      "execution_count": null,
      "metadata": {
        "colab": {
          "base_uri": "https://localhost:8080/",
          "height": 425
        },
        "id": "QoD7qJxjaMQN",
        "outputId": "2848b3fb-4fc7-4aac-edf2-7a838e34f22c"
      },
      "outputs": [
        {
          "data": {
            "text/plain": [
              "NaN               6974\n",
              "[\\n1,163 kg\\n]     574\n",
              "[\\n1,360 kg\\n]     356\n",
              "[\\n1,165 kg\\n]     301\n",
              "[\\n1,335 kg\\n]     242\n",
              "                  ... \n",
              "[\\n1,960 kg\\n]       1\n",
              "[\\n1,258 kg\\n]       1\n",
              "[\\n1,167 kg\\n]       1\n",
              "[\\n1,331 kg\\n]       1\n",
              "[\\n2,037 kg\\n]       1\n",
              "Name: Weight, Length: 435, dtype: int64"
            ]
          },
          "execution_count": 148,
          "metadata": {},
          "output_type": "execute_result"
        }
      ],
      "source": [
        "df[\"Weight\"].value_counts(dropna=False)"
      ]
    },
    {
      "cell_type": "code",
      "execution_count": null,
      "metadata": {
        "id": "penu7z4maK4E"
      },
      "outputs": [],
      "source": [
        "df[\"Weight_kg\"]=df[\"Weight\"].str[0].str.strip('\\n').str.replace(\",\",\"\").str.extract(\"(\\d{1,6})\")[0].astype(\"float\")"
      ]
    },
    {
      "cell_type": "code",
      "execution_count": null,
      "metadata": {
        "colab": {
          "base_uri": "https://localhost:8080/"
        },
        "id": "snXw12qwaK73",
        "outputId": "28b05da4-a711-4782-9912-9b3bb2185b60"
      },
      "outputs": [
        {
          "data": {
            "text/plain": [
              "NaN        6974\n",
              "1163.00     574\n",
              "1360.00     356\n",
              "1165.00     301\n",
              "1335.00     242\n",
              "           ... \n",
              "1960.00       1\n",
              "1258.00       1\n",
              "1167.00       1\n",
              "1331.00       1\n",
              "2037.00       1\n",
              "Name: Weight_kg, Length: 435, dtype: int64"
            ]
          },
          "execution_count": 150,
          "metadata": {},
          "output_type": "execute_result"
        }
      ],
      "source": [
        "df[\"Weight_kg\"].value_counts(dropna=False)"
      ]
    },
    {
      "cell_type": "code",
      "execution_count": null,
      "metadata": {
        "id": "EysiWebhi2g_"
      },
      "outputs": [],
      "source": [
        "df.drop(\"Weight\",axis=1,inplace=True)"
      ]
    },
    {
      "cell_type": "markdown",
      "metadata": {
        "id": "iFXHssGJcNSO"
      },
      "source": [
        "## Drive chain"
      ]
    },
    {
      "cell_type": "code",
      "execution_count": null,
      "metadata": {
        "colab": {
          "base_uri": "https://localhost:8080/",
          "height": 304
        },
        "id": "3KC4-nqlaLAW",
        "outputId": "843d4c07-0f53-4681-d421-e4ac7df7a07b"
      },
      "outputs": [
        {
          "data": {
            "text/plain": [
              "[\\nfront\\n]    8886\n",
              "NaN            6858\n",
              "[\\n4WD\\n]       171\n",
              "[\\nrear\\n]        4\n",
              "Name: Drive chain, dtype: int64"
            ]
          },
          "execution_count": 152,
          "metadata": {},
          "output_type": "execute_result"
        }
      ],
      "source": [
        "df[\"Drive chain\"].value_counts(dropna=False)"
      ]
    },
    {
      "cell_type": "code",
      "execution_count": null,
      "metadata": {
        "id": "1sgR58FHaLEZ"
      },
      "outputs": [],
      "source": [
        "df[\"Drive_chain\"]=df[\"Drive chain\"].str[0].str.strip('\\n')"
      ]
    },
    {
      "cell_type": "code",
      "execution_count": null,
      "metadata": {
        "colab": {
          "base_uri": "https://localhost:8080/"
        },
        "id": "1Kat_FhTaLJT",
        "outputId": "5baee8e5-3480-4da3-f058-249c8c5ef4b3"
      },
      "outputs": [
        {
          "data": {
            "text/plain": [
              "front    8886\n",
              "NaN      6858\n",
              "4WD       171\n",
              "rear        4\n",
              "Name: Drive_chain, dtype: int64"
            ]
          },
          "execution_count": 154,
          "metadata": {},
          "output_type": "execute_result"
        }
      ],
      "source": [
        "df[\"Drive_chain\"].value_counts(dropna=False)"
      ]
    },
    {
      "cell_type": "code",
      "execution_count": null,
      "metadata": {
        "id": "_Dv9tS4ccsh6"
      },
      "outputs": [],
      "source": [
        "df.drop(\"Drive chain\", axis=1, inplace=True)"
      ]
    },
    {
      "cell_type": "markdown",
      "metadata": {
        "id": "cld0c1bAcuC5"
      },
      "source": [
        "## Fuel"
      ]
    },
    {
      "cell_type": "code",
      "execution_count": null,
      "metadata": {
        "colab": {
          "base_uri": "https://localhost:8080/",
          "height": 1000
        },
        "id": "5g6PUKiccskv",
        "outputId": "7aac09ce-b24c-4428-e373-512742b16e57"
      },
      "outputs": [
        {
          "data": {
            "text/plain": [
              "[\\n, Diesel (Particulate Filter), \\n]                                                                                                       4315\n",
              "[\\n, Super 95, \\n]                                                                                                                          3338\n",
              "[\\n, Gasoline, \\n]                                                                                                                          3175\n",
              "[\\n, Diesel, \\n]                                                                                                                            2984\n",
              "[\\n, Super 95 / Regular/Benzine 91, \\n]                                                                                                      424\n",
              "[\\n, Regular/Benzine 91, \\n]                                                                                                                 354\n",
              "[\\n, Super E10 95, \\n]                                                                                                                       331\n",
              "[\\n, Super 95 (Particulate Filter), \\n]                                                                                                      268\n",
              "[\\n, Super 95 / Super E10 95, \\n]                                                                                                            131\n",
              "[\\n, Regular/Benzine 91 (Particulate Filter), \\n]                                                                                            100\n",
              "[\\n, Super 95 / Super Plus 98, \\n]                                                                                                            85\n",
              "[\\n, Gasoline (Particulate Filter), \\n]                                                                                                       77\n",
              "[\\n, Super 95 / Super Plus 98 / Super E10 95 / Super Plus E10 98, \\n]                                                                         40\n",
              "[\\n, Super E10 95 / Super 95, \\n]                                                                                                             38\n",
              "[\\n, CNG, \\n]                                                                                                                                 33\n",
              "[\\n, Super 95 / Super E10 95 (Particulate Filter), \\n]                                                                                        25\n",
              "[\\n, Super E10 95 / Super 95 / Super Plus 98 / Super Plus E10 98, \\n]                                                                         19\n",
              "[\\n, LPG, \\n]                                                                                                                                 16\n",
              "[\\n, Super 95 / Super Plus 98 (Particulate Filter), \\n]                                                                                       14\n",
              "[\\n, Regular/Benzine 91 / Super 95 / Super Plus 98 / Regular/Benzine E10 91 / Super E10 95 / Super Plus E10 98, \\n]                           13\n",
              "[\\n, Regular/Benzine E10 91, \\n]                                                                                                              11\n",
              "[\\n, Liquid petroleum gas (LPG), \\n]                                                                                                          10\n",
              "[\\n, Super 95 / Super Plus 98 / Super E10 95, \\n]                                                                                              8\n",
              "[\\n, Regular/Benzine 91 / Regular/Benzine E10 91, \\n]                                                                                          7\n",
              "[\\n, Super 95 / Regular/Benzine 91 / Super Plus 98 / Regular/Benzine E10 91 / Super E10 95 / Super Plus E10 98, \\n]                            7\n",
              "[\\n, Super Plus 98, \\n]                                                                                                                        7\n",
              "[\\n, Super E10 95 (Particulate Filter), \\n]                                                                                                    7\n",
              "[\\n, Super 95 / Super Plus 98 / Super Plus E10 98 / Super E10 95, \\n]                                                                          5\n",
              "[\\n, Others, \\n]                                                                                                                               5\n",
              "[\\n, Super E10 95 / Super Plus E10 98, \\n]                                                                                                     4\n",
              "[\\n, Electric/Gasoline, \\n]                                                                                                                    4\n",
              "[\\n, Super 95 / Super Plus 98 / Super E10 95 / Super Plus E10 98 (Particulate Filter), \\n]                                                     4\n",
              "[\\n, Super 95 / Super E10 95 / Super Plus E10 98 / Super Plus 98, \\n]                                                                          4\n",
              "[\\n, Regular/Benzine 91 / Super 95 / Super Plus 98 / Regular/Benzine E10 91 / Super Plus E10 98 / Super E10 95, \\n]                            4\n",
              "[\\n, CNG (Particulate Filter), \\n]                                                                                                             3\n",
              "[\\n, Super E10 95 / Super 95 / Super Plus 98 / Super Plus E10 98 (Particulate Filter), \\n]                                                     3\n",
              "[\\n, Super E10 95 / Super 95 / Super Plus 98, \\n]                                                                                              3\n",
              "[\\n, Super E10 95 / Regular/Benzine 91, \\n]                                                                                                    2\n",
              "[\\n, Super 95 / Regular/Benzine 91 / Super Plus 98, \\n]                                                                                        2\n",
              "[\\n, Regular/Benzine 91 / Super 95 / Super Plus 98 / Super Plus E10 98 / Super E10 95 / Regular/Benzine E10 91, \\n]                            2\n",
              "[\\n, Regular/Benzine 91 / Super 95 / Super E10 95, \\n]                                                                                         1\n",
              "[\\n, Electric, \\n]                                                                                                                             1\n",
              "[\\n, Regular/Benzine 91 / Super 95 / Super E10 95 / Super Plus E10 98 / Super Plus 98 / Regular/Benzine E10 91, \\n]                            1\n",
              "[\\n, Super 95 / Super E10 95 / Super Plus E10 98, \\n]                                                                                          1\n",
              "[\\n, Super 95 / Super E10 95 / Super Plus 98, \\n]                                                                                              1\n",
              "[\\n, Regular/Benzine 91 / Super 95 / Super Plus E10 98 / Super E10 95 / Regular/Benzine E10 91 / Super Plus 98, \\n]                            1\n",
              "[\\n, Super 95 / Super Plus 98 / Regular/Benzine E10 91 / Super Plus E10 98 / Super E10 95 / Regular/Benzine 91, \\n]                            1\n",
              "[\\n, Super 95 / Regular/Benzine E10 91, \\n]                                                                                                    1\n",
              "[\\n, Super E10 95 / Regular/Benzine 91 / Regular/Benzine E10 91 / Super 95, \\n]                                                                1\n",
              "[\\n, Super Plus 98 / Regular/Benzine 91, \\n]                                                                                                   1\n",
              "[\\n, Super 95 / Regular/Benzine 91 / Super E10 95 / Super Plus 98 / Super Plus E10 98 / Regular/Benzine E10 91, \\n]                            1\n",
              "[\\n, Super 95 / Super Plus 98 / Super Plus E10 98, \\n]                                                                                         1\n",
              "[\\n, Super 95 / Regular/Benzine 91 (Particulate Filter), \\n]                                                                                   1\n",
              "[\\n, Super 95 / Super E10 95 / Regular/Benzine 91, \\n]                                                                                         1\n",
              "[\\n, Regular/Benzine 91 / Super 95 / Super E10 95 / Regular/Benzine E10 91, \\n]                                                                1\n",
              "[\\n, Super 95 / Regular/Benzine E10 91 / Super E10 95, \\n]                                                                                     1\n",
              "[\\n, Super 95 / Regular/Benzine 91 / Super Plus 98 / Regular/Benzine E10 91 / Super Plus E10 98 / Super E10 95, \\n]                            1\n",
              "[\\n, Regular/Benzine E10 91 / Super E10 95 / Super Plus E10 98 / Super Plus 98 / Super 95 / Regular/Benzine 91, \\n]                            1\n",
              "[\\n, Super 95 / Regular/Benzine 91 / Super E10 95 / Super Plus E10 98 / Super Plus 98, \\n]                                                     1\n",
              "[\\n, Others (Particulate Filter), \\n]                                                                                                          1\n",
              "[\\n, Biogas, \\n]                                                                                                                               1\n",
              "[\\n, Super 95 / Biodiesel, \\n]                                                                                                                 1\n",
              "[\\n, Regular/Benzine 91 / Super 95 / Super Plus 98 / Super Plus E10 98 / Super E10 95 / Regular/Benzine E10 91 (Particulate Filter), \\n]       1\n",
              "[\\n, Regular/Benzine 91 / Super 95 / Super Plus 98, \\n]                                                                                        1\n",
              "[\\n, Regular/Benzine 91 / Super 95, \\n]                                                                                                        1\n",
              "[\\n, Regular/Benzine E10 91 / Regular/Benzine 91 / Super 95 / Super Plus 98 / Super E10 95 / Super Plus E10 98, \\n]                            1\n",
              "[\\n, Domestic gas H, \\n]                                                                                                                       1\n",
              "[\\n, Super E10 95 / Regular/Benzine 91 / Super 95 / Super Plus 98 / Regular/Benzine E10 91 / Super Plus E10 98, \\n]                            1\n",
              "[\\n, Super Plus E10 98 / Super 95 / Super Plus 98 / Super E10 95, \\n]                                                                          1\n",
              "[\\n, Super 95 / Regular/Benzine 91 / Super E10 95 / Super Plus E10 98 / Super Plus 98 / Regular/Benzine E10 91, \\n]                            1\n",
              "[\\n, Super Plus 98 / Super 95 / Super E10 95, \\n]                                                                                              1\n",
              "[\\n, Super Plus E10 98, \\n]                                                                                                                    1\n",
              "[\\n, Regular/Benzine 91 / Super 95 / Regular/Benzine E10 91, \\n]                                                                               1\n",
              "[\\n, Super Plus 98 / Super E10 95, \\n]                                                                                                         1\n",
              "[\\n, Regular/Benzine 91 / Super 95 / Regular/Benzine E10 91 / Super E10 95 / Super Plus 98 / Super Plus E10 98, \\n]                            1\n",
              "[\\n, Regular/Benzine 91 / Super Plus 98 / Regular/Benzine E10 91 / Super 95 / Super E10 95 / Super Plus E10 98, \\n]                            1\n",
              "[\\n, Super Plus 98 / Super 95 / Super Plus E10 98, \\n]                                                                                         1\n",
              "Name: Fuel, dtype: int64"
            ]
          },
          "execution_count": 156,
          "metadata": {},
          "output_type": "execute_result"
        }
      ],
      "source": [
        "df[\"Fuel\"].value_counts(dropna=False)"
      ]
    },
    {
      "cell_type": "code",
      "execution_count": null,
      "metadata": {
        "id": "wGKAz7nRczy4"
      },
      "outputs": [],
      "source": [
        "df[\"Fuel\"]=df.Fuel.str[1].str.split(\"/\").str[0].str.strip()"
      ]
    },
    {
      "cell_type": "code",
      "execution_count": null,
      "metadata": {
        "colab": {
          "base_uri": "https://localhost:8080/"
        },
        "id": "CCW7KjyOcz13",
        "outputId": "9d2e24ea-c0fa-4464-bfc0-000755a80d23"
      },
      "outputs": [
        {
          "data": {
            "text/plain": [
              "Diesel (Particulate Filter)          4315\n",
              "Super 95                             4100\n",
              "Gasoline                             3175\n",
              "Diesel                               2984\n",
              "Regular                               503\n",
              "Super E10 95                          402\n",
              "Super 95 (Particulate Filter)         268\n",
              "Gasoline (Particulate Filter)          77\n",
              "CNG                                    33\n",
              "LPG                                    16\n",
              "Super Plus 98                          11\n",
              "Liquid petroleum gas (LPG)             10\n",
              "Super E10 95 (Particulate Filter)       7\n",
              "Electric                                5\n",
              "Others                                  5\n",
              "CNG (Particulate Filter)                3\n",
              "Super Plus E10 98                       2\n",
              "Others (Particulate Filter)             1\n",
              "Biogas                                  1\n",
              "Domestic gas H                          1\n",
              "Name: Fuel, dtype: int64"
            ]
          },
          "execution_count": 158,
          "metadata": {},
          "output_type": "execute_result"
        }
      ],
      "source": [
        "df[\"Fuel\"].value_counts(dropna=False)"
      ]
    },
    {
      "cell_type": "code",
      "execution_count": null,
      "metadata": {
        "id": "RQ-EKDq2c0CB"
      },
      "outputs": [],
      "source": [
        "df[\"Fuel\"] = df.Fuel.str.split(\"(\").str[0].str.strip()   # ayır,kes al"
      ]
    },
    {
      "cell_type": "code",
      "execution_count": null,
      "metadata": {
        "colab": {
          "base_uri": "https://localhost:8080/"
        },
        "id": "favPIzh0c0EL",
        "outputId": "fb1d6fe2-1bf5-4261-b78c-5fcfee292425"
      },
      "outputs": [
        {
          "data": {
            "text/plain": [
              "Diesel                  7299\n",
              "Super 95                4368\n",
              "Gasoline                3252\n",
              "Regular                  503\n",
              "Super E10 95             409\n",
              "CNG                       36\n",
              "LPG                       16\n",
              "Super Plus 98             11\n",
              "Liquid petroleum gas      10\n",
              "Others                     6\n",
              "Electric                   5\n",
              "Super Plus E10 98          2\n",
              "Biogas                     1\n",
              "Domestic gas H             1\n",
              "Name: Fuel, dtype: int64"
            ]
          },
          "execution_count": 160,
          "metadata": {},
          "output_type": "execute_result"
        }
      ],
      "source": [
        "df[\"Fuel\"].value_counts(dropna=False)"
      ]
    },
    {
      "cell_type": "code",
      "execution_count": null,
      "metadata": {
        "id": "wKzPN0Tac0Gl"
      },
      "outputs": [],
      "source": [
        "benzine = [\"Gasoline\", \"Super 95\",\"Regular\",\"Super E10 95\",\"Super Plus 98\",\"Super Plus E10 98\", \"Others\"]\n",
        "lpg = [\"LPG\",\"Liquid petroleum gas\", \"CNG\", \"Biogas\", \"Domestic gas H\"]\n",
        "def fueltype(x):\n",
        "    if x in benzine:\n",
        "        return \"Benzine\"\n",
        "    elif x in lpg:\n",
        "        return \"LPG/CNG\"\n",
        "    else:\n",
        "        return x\n",
        "df[\"Fuel\"] = df.Fuel.apply(fueltype)"
      ]
    },
    {
      "cell_type": "code",
      "execution_count": null,
      "metadata": {
        "colab": {
          "base_uri": "https://localhost:8080/"
        },
        "id": "R-lajK67eDxQ",
        "outputId": "49cb8d3d-1916-4cb6-f038-7775e96230b1"
      },
      "outputs": [
        {
          "data": {
            "text/plain": [
              "Benzine     8551\n",
              "Diesel      7299\n",
              "LPG/CNG       64\n",
              "Electric       5\n",
              "Name: Fuel, dtype: int64"
            ]
          },
          "execution_count": 162,
          "metadata": {},
          "output_type": "execute_result"
        }
      ],
      "source": [
        "df.Fuel.value_counts(dropna=False)"
      ]
    },
    {
      "cell_type": "markdown",
      "metadata": {
        "id": "-7Fh3HzeePdZ"
      },
      "source": [
        "## Consumption"
      ]
    },
    {
      "cell_type": "code",
      "execution_count": null,
      "metadata": {
        "colab": {
          "base_uri": "https://localhost:8080/",
          "height": 425
        },
        "id": "QM0xCdzneD0s",
        "outputId": "98c6413a-b09d-4aac-df20-dd21ae23d8af"
      },
      "outputs": [
        {
          "data": {
            "text/plain": [
              "NaN                                                                                   1906\n",
              "[[3.9 l/100 km (comb)], [4.1 l/100 km (city)], [3.7 l/100 km (country)]]               304\n",
              "[[4.2 l/100 km (comb)], [5 l/100 km (city)], [3.7 l/100 km (country)]]                 276\n",
              "[[5.4 l/100 km (comb)], [6.8 l/100 km (city)], [4.5 l/100 km (country)]]               257\n",
              "[[3.8 l/100 km (comb)], [4.3 l/100 km (city)], [3.5 l/100 km (country)]]               253\n",
              "                                                                                      ... \n",
              "[[4.2 l/100 km (comb)], [5.3 l/100 km (city)], [3.6 l/100 km (country)]]                 1\n",
              "[\\n, 5.1 l/100 km (comb), \\n, 6.4 l/100 km (city), \\n, 4.3 l/100 km (country), \\n]       1\n",
              "[[4.6 l/100 km (comb)], [5.4 l/100 km (city)], [6.7 l/100 km (country)]]                 1\n",
              "[\\n, 6.3 l/100 km (comb), \\n, \\n, \\n]                                                    1\n",
              "[\\n, 7.4 l/100 km (comb), \\n, 9.6 l/100 km (city), \\n, 6 l/100 km (country), \\n]         1\n",
              "Name: Consumption, Length: 882, dtype: int64"
            ]
          },
          "execution_count": 163,
          "metadata": {},
          "output_type": "execute_result"
        }
      ],
      "source": [
        "df[\"Consumption\"].value_counts(dropna=False)"
      ]
    },
    {
      "cell_type": "code",
      "execution_count": null,
      "metadata": {
        "id": "21v53zGReD4N"
      },
      "outputs": [],
      "source": [
        "def comb(x):\n",
        "    if type(x) == float:\n",
        "        return np.nan\n",
        "    elif type(x[0]) == list:\n",
        "        if x[0] != []:\n",
        "            return x[0][0]\n",
        "        else:\n",
        "            return np.nan\n",
        "    else:\n",
        "        return x[1]\n",
        "\n",
        "def city(x):\n",
        "    if type(x) == float:\n",
        "        return np.nan\n",
        "    elif type(x[0]) == list:\n",
        "        if x[1] != []:\n",
        "            return x[1][0]\n",
        "        else:\n",
        "            return np.nan\n",
        "    elif x[3].endswith(')'):\n",
        "        return x[3]\n",
        "    else:\n",
        "        return np.nan\n",
        "\n",
        "def country(x):\n",
        "    if type(x) == float:\n",
        "        return np.nan\n",
        "    elif type(x[0]) == list:\n",
        "        if x[2] != []:\n",
        "            return x[2][0]\n",
        "        else:\n",
        "            return np.nan\n",
        "    elif type(x[0]) != list and x[3].endswith(')'):\n",
        "        return x[5]\n",
        "    else:\n",
        "        return np.nan"
      ]
    },
    {
      "cell_type": "code",
      "execution_count": null,
      "metadata": {
        "id": "em1xLtj3eD6-"
      },
      "outputs": [],
      "source": [
        "df['cons_comb'] = df.Consumption.apply(comb).str.extract('(\\d{1,2}.\\d|\\d{1,3})')[0].astype(\"float\")  #str.extract(\"(\\s+)\") boşluk dışında herşeyi al.\n",
        "df['cons_city'] = df.Consumption.apply(city).str.extract('(\\d{1,2}.\\d|\\d{1,3})')[0].astype(\"float\")\n",
        "df['cons_country'] = df.Consumption.apply(country).str.extract('(\\d{1,2}.\\d|\\d{1,3})')[0].astype(\"float\")"
      ]
    },
    {
      "cell_type": "code",
      "execution_count": null,
      "metadata": {
        "colab": {
          "base_uri": "https://localhost:8080/"
        },
        "id": "LqHJFS01fN7L",
        "outputId": "3ca52d04-1d68-4b3e-f710-6a88dca8657d"
      },
      "outputs": [
        {
          "data": {
            "text/plain": [
              "NaN     2033\n",
              "5.40     770\n",
              "3.90     733\n",
              "4.00     713\n",
              "5.10     657\n",
              "Name: cons_comb, dtype: int64"
            ]
          },
          "execution_count": 166,
          "metadata": {},
          "output_type": "execute_result"
        }
      ],
      "source": [
        "df[\"cons_comb\"].value_counts(dropna=False).head()"
      ]
    },
    {
      "cell_type": "code",
      "execution_count": null,
      "metadata": {
        "id": "7Y4oEECWfOKW"
      },
      "outputs": [],
      "source": [
        "df.drop('Consumption', axis=1,inplace=True)"
      ]
    },
    {
      "cell_type": "markdown",
      "metadata": {
        "id": "Bzd9kaiknrVt"
      },
      "source": [
        "## CO2 Emission"
      ]
    },
    {
      "cell_type": "code",
      "execution_count": null,
      "metadata": {
        "colab": {
          "base_uri": "https://localhost:8080/"
        },
        "id": "WfT8LgYbnozp",
        "outputId": "1c80dda8-0597-41a8-f856-76c60472c88b"
      },
      "outputs": [
        {
          "data": {
            "text/plain": [
              "nan                              1808\n",
              "['\\n120 g CO2/km (comb)\\n']       740\n",
              "[[], [], []]                      628\n",
              "['\\n99 g CO2/km (comb)\\n']        545\n",
              "['\\n97 g CO2/km (comb)\\n']        537\n",
              "                                 ... \n",
              "['\\n14 g CO2/km (comb)\\n']          1\n",
              "['\\n1,060 g CO2/km (comb)\\n']       1\n",
              "['\\n51 g CO2/km (comb)\\n']          1\n",
              "['\\n165 g CO2/km (comb)\\n']         1\n",
              "['\\n193 g CO2/km (comb)\\n']         1\n",
              "Name: CO2 Emission, Length: 124, dtype: int64"
            ]
          },
          "execution_count": 168,
          "metadata": {},
          "output_type": "execute_result"
        }
      ],
      "source": [
        "df[\"CO2 Emission\"].astype('str').value_counts(dropna=False)"
      ]
    },
    {
      "cell_type": "code",
      "execution_count": null,
      "metadata": {
        "id": "_9deypsQno8q"
      },
      "outputs": [],
      "source": [
        "df[\"CO2_Emission\"] = df['CO2 Emission'].str[0].str.strip().str.replace(',', '').str.extract('(\\d+)').astype('float')\n",
        "\n",
        "#df[\"CO2_Emission\"] = [item[0] if type(item) == list else item for item in df[\"CO2 Emission\"]]\n",
        "#df[\"CO2_Emission\"] = df[\"CO2_Emission\"].str.strip(\"\\n\").str.rstrip(\" g CO2/km (comb)\").str.replace(\",\", \"\").astype(\"float\""
      ]
    },
    {
      "cell_type": "code",
      "execution_count": null,
      "metadata": {
        "colab": {
          "base_uri": "https://localhost:8080/"
        },
        "id": "tHyxvvpHn90O",
        "outputId": "07e60d0c-8200-4a21-a893-d7e62049ad35"
      },
      "outputs": [
        {
          "data": {
            "text/plain": [
              "NaN        2436\n",
              "120.00      740\n",
              "99.00       545\n",
              "97.00       537\n",
              "104.00      501\n",
              "           ... \n",
              "14.00         1\n",
              "1060.00       1\n",
              "51.00         1\n",
              "165.00        1\n",
              "193.00        1\n",
              "Name: CO2_Emission, Length: 123, dtype: int64"
            ]
          },
          "execution_count": 170,
          "metadata": {},
          "output_type": "execute_result"
        }
      ],
      "source": [
        "df[\"CO2_Emission\"].value_counts(dropna=False)"
      ]
    },
    {
      "cell_type": "code",
      "execution_count": null,
      "metadata": {
        "id": "JCPj-dVAn98H"
      },
      "outputs": [],
      "source": [
        "df.drop(\"CO2 Emission\", axis=1, inplace=True)"
      ]
    },
    {
      "cell_type": "markdown",
      "metadata": {
        "id": "HBEZ2BkTfRiq"
      },
      "source": [
        "## Emission Class"
      ]
    },
    {
      "cell_type": "code",
      "execution_count": null,
      "metadata": {
        "colab": {
          "base_uri": "https://localhost:8080/",
          "height": 373
        },
        "id": "tPIsRX8jfhO6",
        "outputId": "15085e6c-dbdb-4eff-f8e8-7b2fc3178a15"
      },
      "outputs": [
        {
          "data": {
            "text/plain": [
              "[\\nEuro 6\\n]          10139\n",
              "NaN                    3021\n",
              "[\\nEuro 6d-TEMP\\n]     1845\n",
              "[[], [], []]            607\n",
              "[\\nEuro 6c\\n]           127\n",
              "[\\nEuro 5\\n]             78\n",
              "[\\nEuro 6d\\n]            62\n",
              "[\\nEuro 4\\n]             40\n",
              "Name: Emission Class, dtype: int64"
            ]
          },
          "execution_count": 172,
          "metadata": {},
          "output_type": "execute_result"
        }
      ],
      "source": [
        "df[\"Emission Class\"].value_counts(dropna=False)"
      ]
    },
    {
      "cell_type": "code",
      "execution_count": null,
      "metadata": {
        "id": "0OMJctDhfhRs"
      },
      "outputs": [],
      "source": [
        "df[\"Emission_Class\"] = [item[0] if type(item) == list else item for item in df[\"Emission Class\"]]\n",
        "df[\"Emission_Class\"] = df[\"Emission_Class\"].str.strip(\"\\n\")"
      ]
    },
    {
      "cell_type": "code",
      "execution_count": null,
      "metadata": {
        "colab": {
          "base_uri": "https://localhost:8080/"
        },
        "id": "aWqShZbmfhUP",
        "outputId": "91c574b4-49eb-413c-bcf4-5470adc7225b"
      },
      "outputs": [
        {
          "data": {
            "text/plain": [
              "Euro 6          10139\n",
              "NaN              3628\n",
              "Euro 6d-TEMP     1845\n",
              "Euro 6c           127\n",
              "Euro 5             78\n",
              "Euro 6d            62\n",
              "Euro 4             40\n",
              "Name: Emission_Class, dtype: int64"
            ]
          },
          "execution_count": 174,
          "metadata": {},
          "output_type": "execute_result"
        }
      ],
      "source": [
        "df[\"Emission_Class\"].value_counts(dropna=False)"
      ]
    },
    {
      "cell_type": "code",
      "execution_count": null,
      "metadata": {
        "id": "5K3TrofvfhX-"
      },
      "outputs": [],
      "source": [
        "df.replace({\"Emission_Class\" : {\"Euro 6d-TEMP\":\"Euro 6\", \"Euro 6c\":\"Euro 6\", \"Euro 6d\":\"Euro 6\"}}, regex = True, inplace = True)"
      ]
    },
    {
      "cell_type": "code",
      "execution_count": null,
      "metadata": {
        "colab": {
          "base_uri": "https://localhost:8080/"
        },
        "id": "lB2Uq_Nffhan",
        "outputId": "c30ebbe1-72ad-4589-fc1d-15ce6d8175ff"
      },
      "outputs": [
        {
          "data": {
            "text/plain": [
              "Euro 6    12173\n",
              "NaN        3628\n",
              "Euro 5       78\n",
              "Euro 4       40\n",
              "Name: Emission_Class, dtype: int64"
            ]
          },
          "execution_count": 176,
          "metadata": {},
          "output_type": "execute_result"
        }
      ],
      "source": [
        "df[\"Emission_Class\"].value_counts(dropna=False)"
      ]
    },
    {
      "cell_type": "code",
      "execution_count": null,
      "metadata": {
        "id": "HkMo6qDSf_aY"
      },
      "outputs": [],
      "source": [
        "df.drop(\"Emission Class\", axis=1, inplace=True)\n"
      ]
    },
    {
      "cell_type": "markdown",
      "metadata": {
        "id": "9_8o5gFeg0EH"
      },
      "source": [
        "## Emission Label"
      ]
    },
    {
      "cell_type": "code",
      "execution_count": null,
      "metadata": {
        "colab": {
          "base_uri": "https://localhost:8080/",
          "height": 356
        },
        "id": "k1keBzxCf_nJ",
        "outputId": "ae8d7b95-3bee-45a3-f998-4b81fd2457c4"
      },
      "outputs": [
        {
          "data": {
            "text/plain": [
              "NaN                     11934\n",
              "[\\n4 (Green)\\n]          3553\n",
              "[\\n1 (No sticker)\\n]      381\n",
              "[[], [], []]               40\n",
              "[\\n5 (Blue)\\n]              8\n",
              "[\\n3 (Yellow)\\n]            2\n",
              "[\\n2 (Red)\\n]               1\n",
              "Name: Emission Label, dtype: int64"
            ]
          },
          "execution_count": 178,
          "metadata": {},
          "output_type": "execute_result"
        }
      ],
      "source": [
        "df[\"Emission Label\"].value_counts(dropna=False)"
      ]
    },
    {
      "cell_type": "code",
      "execution_count": null,
      "metadata": {
        "id": "EB0e1z7kg5xs"
      },
      "outputs": [],
      "source": [
        "df.drop(\"Emission Label\", axis=1, inplace=True)"
      ]
    },
    {
      "cell_type": "markdown",
      "metadata": {
        "id": "BIc9U8Wdg_Rt"
      },
      "source": [
        "## Gears"
      ]
    },
    {
      "cell_type": "code",
      "execution_count": null,
      "metadata": {
        "colab": {
          "base_uri": "https://localhost:8080/",
          "height": 425
        },
        "id": "jdY1CRa_g53G",
        "outputId": "c5e77a11-f2a7-4668-b2f6-5aaa0d913dbc"
      },
      "outputs": [
        {
          "data": {
            "text/plain": [
              "[\\n6\\n]     5822\n",
              "NaN         4712\n",
              "[\\n5\\n]     3239\n",
              "[\\n7\\n]     1908\n",
              "[\\n8\\n]      224\n",
              "[\\n9\\n]        6\n",
              "[\\n1\\n]        2\n",
              "[\\n3\\n]        2\n",
              "[\\n4\\n]        2\n",
              "[\\n2\\n]        1\n",
              "[\\n50\\n]       1\n",
              "Name: Gears, dtype: int64"
            ]
          },
          "execution_count": 180,
          "metadata": {},
          "output_type": "execute_result"
        }
      ],
      "source": [
        "df[\"Gears\"].value_counts(dropna=False)"
      ]
    },
    {
      "cell_type": "code",
      "execution_count": null,
      "metadata": {
        "id": "Iu2ySAJ5g56F"
      },
      "outputs": [],
      "source": [
        "df[\"Gears\"]=df[\"Gears\"].str[0].str.strip('\\n')"
      ]
    },
    {
      "cell_type": "code",
      "execution_count": null,
      "metadata": {
        "colab": {
          "base_uri": "https://localhost:8080/"
        },
        "id": "OOfXhTgrhUv4",
        "outputId": "b7bc5dc3-0adc-4c92-c1b7-c20bc45d1487"
      },
      "outputs": [
        {
          "data": {
            "text/plain": [
              "6      5822\n",
              "NaN    4712\n",
              "5      3239\n",
              "7      1908\n",
              "8       224\n",
              "9         6\n",
              "1         2\n",
              "3         2\n",
              "4         2\n",
              "2         1\n",
              "50        1\n",
              "Name: Gears, dtype: int64"
            ]
          },
          "execution_count": 182,
          "metadata": {},
          "output_type": "execute_result"
        }
      ],
      "source": [
        "df[\"Gears\"].value_counts(dropna=False)"
      ]
    },
    {
      "cell_type": "markdown",
      "metadata": {
        "id": "Flo3YhDGhj9i"
      },
      "source": [
        "## Country version\n"
      ]
    },
    {
      "cell_type": "code",
      "execution_count": null,
      "metadata": {
        "colab": {
          "base_uri": "https://localhost:8080/",
          "height": 651
        },
        "id": "9aKZLbnLhUzl",
        "outputId": "8b3b0acb-a525-432c-e945-a3811905b969"
      },
      "outputs": [
        {
          "data": {
            "text/plain": [
              "NaN                     8333\n",
              "[\\nGermany\\n]           4502\n",
              "[\\nItaly\\n]             1038\n",
              "[\\nEuropean Union\\n]     507\n",
              "[\\nNetherlands\\n]        464\n",
              "[\\nSpain\\n]              325\n",
              "[\\nBelgium\\n]            314\n",
              "[\\nAustria\\n]            208\n",
              "[\\nCzech Republic\\n]      52\n",
              "[\\nPoland\\n]              49\n",
              "[\\nFrance\\n]              38\n",
              "[\\nDenmark\\n]             33\n",
              "[\\nHungary\\n]             28\n",
              "[\\nJapan\\n]                8\n",
              "[\\nSlovakia\\n]             4\n",
              "[\\nCroatia\\n]              4\n",
              "[\\nSweden\\n]               3\n",
              "[\\nRomania\\n]              2\n",
              "[\\nBulgaria\\n]             2\n",
              "[\\nLuxembourg\\n]           1\n",
              "[\\nSwitzerland\\n]          1\n",
              "[\\nSlovenia\\n]             1\n",
              "[\\nEgypt\\n]                1\n",
              "[\\nSerbia\\n]               1\n",
              "Name: Country version, dtype: int64"
            ]
          },
          "execution_count": 183,
          "metadata": {},
          "output_type": "execute_result"
        }
      ],
      "source": [
        "df[\"Country version\"].value_counts(dropna=False)"
      ]
    },
    {
      "cell_type": "code",
      "execution_count": null,
      "metadata": {
        "id": "weFhXWtohU3Y"
      },
      "outputs": [],
      "source": [
        "df.drop(\"Country version\", axis=1, inplace=True)"
      ]
    },
    {
      "cell_type": "markdown",
      "metadata": {
        "id": "F59YSBmYhwcH"
      },
      "source": [
        "## Comfort_Convenience"
      ]
    },
    {
      "cell_type": "code",
      "execution_count": null,
      "metadata": {
        "colab": {
          "base_uri": "https://localhost:8080/"
        },
        "id": "d7VBGJWthx6L",
        "outputId": "6a6ee275-4b74-4285-fe6b-0145a0175f84"
      },
      "outputs": [
        {
          "data": {
            "text/plain": [
              "Index(['make_model', 'body_type', 'price', 'vat', 'km', 'Type', 'Warranty',\n",
              "       'Cylinders', 'Fuel', 'Comfort_Convenience', 'Entertainment_Media',\n",
              "       'Extras', 'Safety_Security', 'Gears', 'age', 'Previous_Owners', 'hp_kw',\n",
              "       'Inspection_new', 'Offer_Number', 'BodyColor', 'Paint_Type',\n",
              "       'Upholstery_type', 'Upholstery_color', 'Nr_of_Doors', 'Nr_of_Seats',\n",
              "       'Gearing_Type', 'Displacement_cc', 'Weight_kg', 'Drive_chain',\n",
              "       'cons_comb', 'cons_city', 'cons_country', 'CO2_Emission',\n",
              "       'Emission_Class'],\n",
              "      dtype='object')"
            ]
          },
          "execution_count": 185,
          "metadata": {},
          "output_type": "execute_result"
        }
      ],
      "source": [
        "df.columns"
      ]
    },
    {
      "cell_type": "code",
      "execution_count": null,
      "metadata": {
        "colab": {
          "base_uri": "https://localhost:8080/",
          "height": 425
        },
        "id": "2E9pkNEqhx9c",
        "outputId": "8499721b-974b-45bd-b413-80be3a7f0be6"
      },
      "outputs": [
        {
          "data": {
            "text/plain": [
              "NaN                                                                                                                                                                                                                                                                                                                                                                     920\n",
              "[Air conditioning, Electrical side mirrors, Hill Holder, Power windows]                                                                                                                                                                                                                                                                                                 216\n",
              "[Air conditioning, Electrical side mirrors, Power windows]                                                                                                                                                                                                                                                                                                              134\n",
              "[Air conditioning, Power windows]                                                                                                                                                                                                                                                                                                                                       130\n",
              "[Air conditioning, Armrest, Automatic climate control, Cruise control, Electrical side mirrors, Leather steering wheel, Light sensor, Lumbar support, Multi-function steering wheel, Navigation system, Park Distance Control, Parking assist system sensors front, Parking assist system sensors rear, Power windows, Rain sensor, Seat heating, Start-stop system]    105\n",
              "Name: Comfort_Convenience, dtype: int64"
            ]
          },
          "execution_count": 186,
          "metadata": {},
          "output_type": "execute_result"
        }
      ],
      "source": [
        "df['Comfort_Convenience'].value_counts(dropna=False).head()"
      ]
    },
    {
      "cell_type": "code",
      "execution_count": null,
      "metadata": {
        "id": "bdZfxi_hhyAG"
      },
      "outputs": [],
      "source": [
        "df['Comfort_Convenience']= [\",\".join(item) if type(item) == list else item for item in df['Comfort_Convenience']]  #liste elemanlarını birleştirdim.tek bir string ifade olsun diye."
      ]
    },
    {
      "cell_type": "code",
      "execution_count": null,
      "metadata": {
        "colab": {
          "base_uri": "https://localhost:8080/"
        },
        "id": "-h49wVZhhyC2",
        "outputId": "92eac359-d49d-45e7-f1fe-60be49c1b13b"
      },
      "outputs": [
        {
          "data": {
            "text/plain": [
              "NaN                                                                                                                                                                                                                                                                                                                                                   920\n",
              "Air conditioning,Electrical side mirrors,Hill Holder,Power windows                                                                                                                                                                                                                                                                                    216\n",
              "Air conditioning,Electrical side mirrors,Power windows                                                                                                                                                                                                                                                                                                134\n",
              "Air conditioning,Power windows                                                                                                                                                                                                                                                                                                                        130\n",
              "Air conditioning,Armrest,Automatic climate control,Cruise control,Electrical side mirrors,Leather steering wheel,Light sensor,Lumbar support,Multi-function steering wheel,Navigation system,Park Distance Control,Parking assist system sensors front,Parking assist system sensors rear,Power windows,Rain sensor,Seat heating,Start-stop system    105\n",
              "Name: Comfort_Convenience, dtype: int64"
            ]
          },
          "execution_count": 188,
          "metadata": {},
          "output_type": "execute_result"
        }
      ],
      "source": [
        "df[\"Comfort_Convenience\"].value_counts(dropna=False).head()"
      ]
    },
    {
      "cell_type": "markdown",
      "metadata": {
        "id": "BRJmBl2LkTxN"
      },
      "source": [
        "## Entertainment_Media"
      ]
    },
    {
      "cell_type": "code",
      "execution_count": null,
      "metadata": {
        "colab": {
          "base_uri": "https://localhost:8080/",
          "height": 321
        },
        "id": "bgzj4r4JhyP-",
        "outputId": "0177fc4d-56ef-478f-fb3d-d4c57c70e3b3"
      },
      "outputs": [
        {
          "data": {
            "text/plain": [
              "NaN                                                                                 1374\n",
              "[Bluetooth, Hands-free equipment, On-board computer, Radio, USB]                    1282\n",
              "[Bluetooth, Hands-free equipment, MP3, On-board computer, Radio, USB]                982\n",
              "[Bluetooth, CD player, Hands-free equipment, MP3, On-board computer, Radio, USB]     783\n",
              "[On-board computer, Radio]                                                           487\n",
              "Name: Entertainment_Media, dtype: int64"
            ]
          },
          "execution_count": 189,
          "metadata": {},
          "output_type": "execute_result"
        }
      ],
      "source": [
        "df[\"Entertainment_Media\"].value_counts(dropna=False).head()"
      ]
    },
    {
      "cell_type": "code",
      "execution_count": null,
      "metadata": {
        "id": "ZJDTtRsRkdhf"
      },
      "outputs": [],
      "source": [
        "df[\"Entertainment_Media\"] = [\",\".join(item) if type(item) == list else item for item in df[\"Entertainment_Media\"]] "
      ]
    },
    {
      "cell_type": "code",
      "execution_count": null,
      "metadata": {
        "colab": {
          "base_uri": "https://localhost:8080/"
        },
        "id": "wg2UYP4dkkOB",
        "outputId": "60a246f7-cbd0-427d-c2db-da0aa11a460f"
      },
      "outputs": [
        {
          "data": {
            "text/plain": [
              "NaN                                                                         1374\n",
              "Bluetooth,Hands-free equipment,On-board computer,Radio,USB                  1282\n",
              "Bluetooth,Hands-free equipment,MP3,On-board computer,Radio,USB               982\n",
              "Bluetooth,CD player,Hands-free equipment,MP3,On-board computer,Radio,USB     783\n",
              "On-board computer,Radio                                                      487\n",
              "Name: Entertainment_Media, dtype: int64"
            ]
          },
          "execution_count": 191,
          "metadata": {},
          "output_type": "execute_result"
        }
      ],
      "source": [
        "df[\"Entertainment_Media\"].value_counts(dropna=False).head()"
      ]
    },
    {
      "cell_type": "markdown",
      "metadata": {
        "id": "qfnA-fHZlVXx"
      },
      "source": [
        "## Extras"
      ]
    },
    {
      "cell_type": "code",
      "execution_count": null,
      "metadata": {
        "colab": {
          "base_uri": "https://localhost:8080/"
        },
        "id": "ie3Jgx-8kkRI",
        "outputId": "88193000-a3bc-4ff5-ed1a-17538b64969a"
      },
      "outputs": [
        {
          "data": {
            "text/plain": [
              "Index(['make_model', 'body_type', 'price', 'vat', 'km', 'Type', 'Warranty',\n",
              "       'Cylinders', 'Fuel', 'Comfort_Convenience', 'Entertainment_Media',\n",
              "       'Extras', 'Safety_Security', 'Gears', 'age', 'Previous_Owners', 'hp_kw',\n",
              "       'Inspection_new', 'Offer_Number', 'BodyColor', 'Paint_Type',\n",
              "       'Upholstery_type', 'Upholstery_color', 'Nr_of_Doors', 'Nr_of_Seats',\n",
              "       'Gearing_Type', 'Displacement_cc', 'Weight_kg', 'Drive_chain',\n",
              "       'cons_comb', 'cons_city', 'cons_country', 'CO2_Emission',\n",
              "       'Emission_Class'],\n",
              "      dtype='object')"
            ]
          },
          "execution_count": 192,
          "metadata": {},
          "output_type": "execute_result"
        }
      ],
      "source": [
        "df.columns"
      ]
    },
    {
      "cell_type": "code",
      "execution_count": null,
      "metadata": {
        "colab": {
          "base_uri": "https://localhost:8080/",
          "height": 321
        },
        "id": "0R08ig_8kked",
        "outputId": "9d332271-6d2a-4f32-8f43-74cf6732ba1d"
      },
      "outputs": [
        {
          "data": {
            "text/plain": [
              "[Alloy wheels]                                 3245\n",
              "NaN                                            2962\n",
              "[Alloy wheels, Touch screen]                    697\n",
              "[Alloy wheels, Voice Control]                   577\n",
              "[Alloy wheels, Touch screen, Voice Control]     541\n",
              "Name: Extras, dtype: int64"
            ]
          },
          "execution_count": 193,
          "metadata": {},
          "output_type": "execute_result"
        }
      ],
      "source": [
        "df[\"Extras\"].value_counts(dropna=False).head()"
      ]
    },
    {
      "cell_type": "code",
      "execution_count": null,
      "metadata": {
        "id": "qWyU-yBkmf6y"
      },
      "outputs": [],
      "source": [
        "df[\"Extras\"] = [\",\".join(item) if type(item) == list else item for item in df[\"Extras\"]]"
      ]
    },
    {
      "cell_type": "code",
      "execution_count": null,
      "metadata": {
        "colab": {
          "base_uri": "https://localhost:8080/"
        },
        "id": "x9Buhk0xmf9u",
        "outputId": "2dc8d3d5-b749-4978-8438-815f0e0e0e09"
      },
      "outputs": [
        {
          "data": {
            "text/plain": [
              "Alloy wheels                               3245\n",
              "NaN                                        2962\n",
              "Alloy wheels,Touch screen                   697\n",
              "Alloy wheels,Voice Control                  577\n",
              "Alloy wheels,Touch screen,Voice Control     541\n",
              "Name: Extras, dtype: int64"
            ]
          },
          "execution_count": 195,
          "metadata": {},
          "output_type": "execute_result"
        }
      ],
      "source": [
        "df[\"Extras\"].value_counts(dropna=False).head()"
      ]
    },
    {
      "cell_type": "markdown",
      "metadata": {
        "id": "krjEAPo3m96t"
      },
      "source": [
        "## Safety_Security"
      ]
    },
    {
      "cell_type": "code",
      "execution_count": null,
      "metadata": {
        "colab": {
          "base_uri": "https://localhost:8080/",
          "height": 755
        },
        "id": "vp7WehaanC9o",
        "outputId": "fa2dc164-459b-439b-d1ba-268e73c2ef96"
      },
      "outputs": [
        {
          "data": {
            "text/plain": [
              "NaN                                                                                                                                                                                                                                                                                                                                                                                  982\n",
              "[ABS, Central door lock, Daytime running lights, Driver-side airbag, Electronic stability control, Fog lights, Immobilizer, Isofix, Passenger-side airbag, Power steering, Side airbag, Tire pressure monitoring system, Traction control]                                                                                                                                           538\n",
              "[ABS, Central door lock, Daytime running lights, Driver-side airbag, Electronic stability control, Immobilizer, Isofix, Passenger-side airbag, Power steering, Side airbag, Tire pressure monitoring system, Traction control]                                                                                                                                                       480\n",
              "[ABS, Central door lock, Daytime running lights, Driver-side airbag, Electronic stability control, Immobilizer, Isofix, Passenger-side airbag, Power steering, Side airbag, Tire pressure monitoring system, Traction control, Xenon headlights]                                                                                                                                     275\n",
              "[ABS, Central door lock, Daytime running lights, Driver-side airbag, Electronic stability control, Fog lights, Immobilizer, Isofix, LED Daytime Running Lights, Passenger-side airbag, Power steering, Side airbag, Tire pressure monitoring system, Traction control]                                                                                                               272\n",
              "                                                                                                                                                                                                                                                                                                                                                                                    ... \n",
              "[ABS, Central door lock, Electronic stability control, Immobilizer, Isofix, Passenger-side airbag, Power steering, Side airbag]                                                                                                                                                                                                                                                        1\n",
              "[ABS, Adaptive Cruise Control, Central door lock, Daytime running lights, Driver-side airbag, Electronic stability control, Emergency brake assistant, Immobilizer, Isofix, Passenger-side airbag, Power steering, Side airbag, Tire pressure monitoring system, Traction control]                                                                                                     1\n",
              "[ABS, Adaptive Cruise Control, Alarm system, Central door lock, Driver-side airbag, Electronic stability control, Fog lights, Immobilizer, Isofix, Lane departure warning system, LED Daytime Running Lights, Passenger-side airbag, Power steering, Side airbag, Tire pressure monitoring system, Traction control, Xenon headlights]                                                 1\n",
              "[ABS, Adaptive Cruise Control, Central door lock, Daytime running lights, Driver-side airbag, Electronic stability control, Fog lights, Immobilizer, Isofix, Power steering, Tire pressure monitoring system, Traction control]                                                                                                                                                        1\n",
              "[ABS, Adaptive Cruise Control, Central door lock, Daytime running lights, Driver-side airbag, Electronic stability control, Emergency brake assistant, Fog lights, Immobilizer, Isofix, Lane departure warning system, LED Daytime Running Lights, LED Headlights, Passenger-side airbag, Power steering, Side airbag, Tire pressure monitoring system, Traffic sign recognition]      1\n",
              "Name: Safety_Security, Length: 4444, dtype: int64"
            ]
          },
          "execution_count": 196,
          "metadata": {},
          "output_type": "execute_result"
        }
      ],
      "source": [
        "df[\"Safety_Security\"].value_counts(dropna=False)"
      ]
    },
    {
      "cell_type": "code",
      "execution_count": null,
      "metadata": {
        "id": "vfWpZX4LnDOR"
      },
      "outputs": [],
      "source": [
        "df[\"Safety_Security\"] = [\",\".join(item) if type(item) == list else item for item in df[\"Safety_Security\"]]"
      ]
    },
    {
      "cell_type": "code",
      "execution_count": null,
      "metadata": {
        "colab": {
          "base_uri": "https://localhost:8080/"
        },
        "id": "0-G2zxN-n7ZK",
        "outputId": "7390f440-e94a-4023-88a7-d51dbb52f14d"
      },
      "outputs": [
        {
          "data": {
            "text/plain": [
              "NaN                                                                                                                                                                                                                                                        982\n",
              "ABS,Central door lock,Daytime running lights,Driver-side airbag,Electronic stability control,Fog lights,Immobilizer,Isofix,Passenger-side airbag,Power steering,Side airbag,Tire pressure monitoring system,Traction control                               538\n",
              "ABS,Central door lock,Daytime running lights,Driver-side airbag,Electronic stability control,Immobilizer,Isofix,Passenger-side airbag,Power steering,Side airbag,Tire pressure monitoring system,Traction control                                          480\n",
              "ABS,Central door lock,Daytime running lights,Driver-side airbag,Electronic stability control,Immobilizer,Isofix,Passenger-side airbag,Power steering,Side airbag,Tire pressure monitoring system,Traction control,Xenon headlights                         275\n",
              "ABS,Central door lock,Daytime running lights,Driver-side airbag,Electronic stability control,Fog lights,Immobilizer,Isofix,LED Daytime Running Lights,Passenger-side airbag,Power steering,Side airbag,Tire pressure monitoring system,Traction control    272\n",
              "Name: Safety_Security, dtype: int64"
            ]
          },
          "execution_count": 198,
          "metadata": {},
          "output_type": "execute_result"
        }
      ],
      "source": [
        "df[\"Safety_Security\"].value_counts(dropna=False).head()    #faydalı veri çekilebilir ileride."
      ]
    },
    {
      "cell_type": "code",
      "execution_count": null,
      "metadata": {
        "colab": {
          "base_uri": "https://localhost:8080/"
        },
        "id": "mIFFeEkbpzlP",
        "outputId": "29e9bf24-92fa-4716-dff2-cc16b95c5918"
      },
      "outputs": [
        {
          "data": {
            "text/plain": [
              "(15919, 34)"
            ]
          },
          "execution_count": 199,
          "metadata": {},
          "output_type": "execute_result"
        }
      ],
      "source": [
        "df.shape"
      ]
    },
    {
      "cell_type": "code",
      "execution_count": null,
      "metadata": {
        "colab": {
          "base_uri": "https://localhost:8080/",
          "height": 1000
        },
        "id": "WKrqm2DepzpL",
        "outputId": "701f6b28-9dca-4b7c-adcd-018fbdd1d949"
      },
      "outputs": [
        {
          "data": {
            "text/html": [
              "<div>\n",
              "<style scoped>\n",
              "    .dataframe tbody tr th:only-of-type {\n",
              "        vertical-align: middle;\n",
              "    }\n",
              "\n",
              "    .dataframe tbody tr th {\n",
              "        vertical-align: top;\n",
              "    }\n",
              "\n",
              "    .dataframe thead th {\n",
              "        text-align: right;\n",
              "    }\n",
              "</style>\n",
              "<table border=\"1\" class=\"dataframe\">\n",
              "  <thead>\n",
              "    <tr style=\"text-align: right;\">\n",
              "      <th></th>\n",
              "      <th>0</th>\n",
              "      <th>1</th>\n",
              "      <th>2</th>\n",
              "      <th>3</th>\n",
              "      <th>4</th>\n",
              "    </tr>\n",
              "  </thead>\n",
              "  <tbody>\n",
              "    <tr>\n",
              "      <th>make_model</th>\n",
              "      <td>Audi A1</td>\n",
              "      <td>Audi A1</td>\n",
              "      <td>Audi A1</td>\n",
              "      <td>Audi A1</td>\n",
              "      <td>Audi A1</td>\n",
              "    </tr>\n",
              "    <tr>\n",
              "      <th>body_type</th>\n",
              "      <td>Sedans</td>\n",
              "      <td>Sedans</td>\n",
              "      <td>Sedans</td>\n",
              "      <td>Sedans</td>\n",
              "      <td>Sedans</td>\n",
              "    </tr>\n",
              "    <tr>\n",
              "      <th>price</th>\n",
              "      <td>15770</td>\n",
              "      <td>14500</td>\n",
              "      <td>14640</td>\n",
              "      <td>14500</td>\n",
              "      <td>16790</td>\n",
              "    </tr>\n",
              "    <tr>\n",
              "      <th>vat</th>\n",
              "      <td>VAT deductible</td>\n",
              "      <td>Price negotiable</td>\n",
              "      <td>VAT deductible</td>\n",
              "      <td>None</td>\n",
              "      <td>None</td>\n",
              "    </tr>\n",
              "    <tr>\n",
              "      <th>km</th>\n",
              "      <td>56013.00</td>\n",
              "      <td>80000.00</td>\n",
              "      <td>83450.00</td>\n",
              "      <td>73000.00</td>\n",
              "      <td>16200.00</td>\n",
              "    </tr>\n",
              "    <tr>\n",
              "      <th>Type</th>\n",
              "      <td>Used</td>\n",
              "      <td>Used</td>\n",
              "      <td>Used</td>\n",
              "      <td>Used</td>\n",
              "      <td>Used</td>\n",
              "    </tr>\n",
              "    <tr>\n",
              "      <th>Warranty</th>\n",
              "      <td>NaN</td>\n",
              "      <td>NaN</td>\n",
              "      <td>NaN</td>\n",
              "      <td>NaN</td>\n",
              "      <td>NaN</td>\n",
              "    </tr>\n",
              "    <tr>\n",
              "      <th>Cylinders</th>\n",
              "      <td>3.00</td>\n",
              "      <td>4.00</td>\n",
              "      <td>NaN</td>\n",
              "      <td>3.00</td>\n",
              "      <td>3.00</td>\n",
              "    </tr>\n",
              "    <tr>\n",
              "      <th>Fuel</th>\n",
              "      <td>Diesel</td>\n",
              "      <td>Benzine</td>\n",
              "      <td>Diesel</td>\n",
              "      <td>Diesel</td>\n",
              "      <td>Diesel</td>\n",
              "    </tr>\n",
              "    <tr>\n",
              "      <th>Comfort_Convenience</th>\n",
              "      <td>Air conditioning,Armrest,Automatic climate con...</td>\n",
              "      <td>Air conditioning,Automatic climate control,Hil...</td>\n",
              "      <td>Air conditioning,Cruise control,Electrical sid...</td>\n",
              "      <td>Air suspension,Armrest,Auxiliary heating,Elect...</td>\n",
              "      <td>Air conditioning,Armrest,Automatic climate con...</td>\n",
              "    </tr>\n",
              "    <tr>\n",
              "      <th>Entertainment_Media</th>\n",
              "      <td>Bluetooth,Hands-free equipment,On-board comput...</td>\n",
              "      <td>Bluetooth,Hands-free equipment,On-board comput...</td>\n",
              "      <td>MP3,On-board computer</td>\n",
              "      <td>Bluetooth,CD player,Hands-free equipment,MP3,O...</td>\n",
              "      <td>Bluetooth,CD player,Hands-free equipment,MP3,O...</td>\n",
              "    </tr>\n",
              "    <tr>\n",
              "      <th>Extras</th>\n",
              "      <td>Alloy wheels,Catalytic Converter,Voice Control</td>\n",
              "      <td>Alloy wheels,Sport seats,Sport suspension,Voic...</td>\n",
              "      <td>Alloy wheels,Voice Control</td>\n",
              "      <td>Alloy wheels,Sport seats,Voice Control</td>\n",
              "      <td>Alloy wheels,Sport package,Sport suspension,Vo...</td>\n",
              "    </tr>\n",
              "    <tr>\n",
              "      <th>Safety_Security</th>\n",
              "      <td>ABS,Central door lock,Daytime running lights,D...</td>\n",
              "      <td>ABS,Central door lock,Central door lock with r...</td>\n",
              "      <td>ABS,Central door lock,Daytime running lights,D...</td>\n",
              "      <td>ABS,Alarm system,Central door lock with remote...</td>\n",
              "      <td>ABS,Central door lock,Driver-side airbag,Elect...</td>\n",
              "    </tr>\n",
              "    <tr>\n",
              "      <th>Gears</th>\n",
              "      <td>NaN</td>\n",
              "      <td>7</td>\n",
              "      <td>NaN</td>\n",
              "      <td>6</td>\n",
              "      <td>NaN</td>\n",
              "    </tr>\n",
              "    <tr>\n",
              "      <th>age</th>\n",
              "      <td>6.00</td>\n",
              "      <td>5.00</td>\n",
              "      <td>6.00</td>\n",
              "      <td>6.00</td>\n",
              "      <td>6.00</td>\n",
              "    </tr>\n",
              "    <tr>\n",
              "      <th>Previous_Owners</th>\n",
              "      <td>2.00</td>\n",
              "      <td>NaN</td>\n",
              "      <td>1.00</td>\n",
              "      <td>1.00</td>\n",
              "      <td>1.00</td>\n",
              "    </tr>\n",
              "    <tr>\n",
              "      <th>hp_kw</th>\n",
              "      <td>66.00</td>\n",
              "      <td>141.00</td>\n",
              "      <td>85.00</td>\n",
              "      <td>66.00</td>\n",
              "      <td>66.00</td>\n",
              "    </tr>\n",
              "    <tr>\n",
              "      <th>Inspection_new</th>\n",
              "      <td>Yes</td>\n",
              "      <td>NaN</td>\n",
              "      <td>NaN</td>\n",
              "      <td>NaN</td>\n",
              "      <td>Yes</td>\n",
              "    </tr>\n",
              "    <tr>\n",
              "      <th>Offer_Number</th>\n",
              "      <td>LR-062483</td>\n",
              "      <td>NaN</td>\n",
              "      <td>AM-95365</td>\n",
              "      <td>NaN</td>\n",
              "      <td>C1626</td>\n",
              "    </tr>\n",
              "    <tr>\n",
              "      <th>BodyColor</th>\n",
              "      <td>Black</td>\n",
              "      <td>Red</td>\n",
              "      <td>Black</td>\n",
              "      <td>Brown</td>\n",
              "      <td>Black</td>\n",
              "    </tr>\n",
              "    <tr>\n",
              "      <th>Paint_Type</th>\n",
              "      <td>Metallic</td>\n",
              "      <td>NaN</td>\n",
              "      <td>Metallic</td>\n",
              "      <td>Metallic</td>\n",
              "      <td>Metallic</td>\n",
              "    </tr>\n",
              "    <tr>\n",
              "      <th>Upholstery_type</th>\n",
              "      <td>Cloth</td>\n",
              "      <td>Cloth</td>\n",
              "      <td>Cloth</td>\n",
              "      <td>NaN</td>\n",
              "      <td>Cloth</td>\n",
              "    </tr>\n",
              "    <tr>\n",
              "      <th>Upholstery_color</th>\n",
              "      <td>Black</td>\n",
              "      <td>Grey</td>\n",
              "      <td>Black</td>\n",
              "      <td>NaN</td>\n",
              "      <td>Black</td>\n",
              "    </tr>\n",
              "    <tr>\n",
              "      <th>Nr_of_Doors</th>\n",
              "      <td>5.00</td>\n",
              "      <td>3.00</td>\n",
              "      <td>4.00</td>\n",
              "      <td>3.00</td>\n",
              "      <td>5.00</td>\n",
              "    </tr>\n",
              "    <tr>\n",
              "      <th>Nr_of_Seats</th>\n",
              "      <td>5.00</td>\n",
              "      <td>4.00</td>\n",
              "      <td>4.00</td>\n",
              "      <td>4.00</td>\n",
              "      <td>5.00</td>\n",
              "    </tr>\n",
              "    <tr>\n",
              "      <th>Gearing_Type</th>\n",
              "      <td>Automatic</td>\n",
              "      <td>Automatic</td>\n",
              "      <td>Automatic</td>\n",
              "      <td>Automatic</td>\n",
              "      <td>Automatic</td>\n",
              "    </tr>\n",
              "    <tr>\n",
              "      <th>Displacement_cc</th>\n",
              "      <td>1422.00</td>\n",
              "      <td>1798.00</td>\n",
              "      <td>1598.00</td>\n",
              "      <td>1422.00</td>\n",
              "      <td>1422.00</td>\n",
              "    </tr>\n",
              "    <tr>\n",
              "      <th>Weight_kg</th>\n",
              "      <td>1220.00</td>\n",
              "      <td>1255.00</td>\n",
              "      <td>NaN</td>\n",
              "      <td>1195.00</td>\n",
              "      <td>NaN</td>\n",
              "    </tr>\n",
              "    <tr>\n",
              "      <th>Drive_chain</th>\n",
              "      <td>front</td>\n",
              "      <td>front</td>\n",
              "      <td>front</td>\n",
              "      <td>NaN</td>\n",
              "      <td>front</td>\n",
              "    </tr>\n",
              "    <tr>\n",
              "      <th>cons_comb</th>\n",
              "      <td>3.80</td>\n",
              "      <td>5.60</td>\n",
              "      <td>3.80</td>\n",
              "      <td>3.80</td>\n",
              "      <td>4.10</td>\n",
              "    </tr>\n",
              "    <tr>\n",
              "      <th>cons_city</th>\n",
              "      <td>4.30</td>\n",
              "      <td>7.10</td>\n",
              "      <td>4.40</td>\n",
              "      <td>4.30</td>\n",
              "      <td>4.60</td>\n",
              "    </tr>\n",
              "    <tr>\n",
              "      <th>cons_country</th>\n",
              "      <td>3.50</td>\n",
              "      <td>4.70</td>\n",
              "      <td>3.40</td>\n",
              "      <td>3.50</td>\n",
              "      <td>3.80</td>\n",
              "    </tr>\n",
              "    <tr>\n",
              "      <th>CO2_Emission</th>\n",
              "      <td>99.00</td>\n",
              "      <td>129.00</td>\n",
              "      <td>99.00</td>\n",
              "      <td>99.00</td>\n",
              "      <td>109.00</td>\n",
              "    </tr>\n",
              "    <tr>\n",
              "      <th>Emission_Class</th>\n",
              "      <td>Euro 6</td>\n",
              "      <td>Euro 6</td>\n",
              "      <td>Euro 6</td>\n",
              "      <td>Euro 6</td>\n",
              "      <td>Euro 6</td>\n",
              "    </tr>\n",
              "  </tbody>\n",
              "</table>\n",
              "</div>"
            ],
            "text/plain": [
              "                                                                     0  \\\n",
              "make_model                                                     Audi A1   \n",
              "body_type                                                       Sedans   \n",
              "price                                                            15770   \n",
              "vat                                                     VAT deductible   \n",
              "km                                                            56013.00   \n",
              "Type                                                              Used   \n",
              "Warranty                                                           NaN   \n",
              "Cylinders                                                         3.00   \n",
              "Fuel                                                            Diesel   \n",
              "Comfort_Convenience  Air conditioning,Armrest,Automatic climate con...   \n",
              "Entertainment_Media  Bluetooth,Hands-free equipment,On-board comput...   \n",
              "Extras                  Alloy wheels,Catalytic Converter,Voice Control   \n",
              "Safety_Security      ABS,Central door lock,Daytime running lights,D...   \n",
              "Gears                                                              NaN   \n",
              "age                                                               6.00   \n",
              "Previous_Owners                                                   2.00   \n",
              "hp_kw                                                            66.00   \n",
              "Inspection_new                                                     Yes   \n",
              "Offer_Number                                                 LR-062483   \n",
              "BodyColor                                                        Black   \n",
              "Paint_Type                                                    Metallic   \n",
              "Upholstery_type                                                  Cloth   \n",
              "Upholstery_color                                                 Black   \n",
              "Nr_of_Doors                                                       5.00   \n",
              "Nr_of_Seats                                                       5.00   \n",
              "Gearing_Type                                                 Automatic   \n",
              "Displacement_cc                                                1422.00   \n",
              "Weight_kg                                                      1220.00   \n",
              "Drive_chain                                                      front   \n",
              "cons_comb                                                         3.80   \n",
              "cons_city                                                         4.30   \n",
              "cons_country                                                      3.50   \n",
              "CO2_Emission                                                     99.00   \n",
              "Emission_Class                                                  Euro 6   \n",
              "\n",
              "                                                                     1  \\\n",
              "make_model                                                     Audi A1   \n",
              "body_type                                                       Sedans   \n",
              "price                                                            14500   \n",
              "vat                                                   Price negotiable   \n",
              "km                                                            80000.00   \n",
              "Type                                                              Used   \n",
              "Warranty                                                           NaN   \n",
              "Cylinders                                                         4.00   \n",
              "Fuel                                                           Benzine   \n",
              "Comfort_Convenience  Air conditioning,Automatic climate control,Hil...   \n",
              "Entertainment_Media  Bluetooth,Hands-free equipment,On-board comput...   \n",
              "Extras               Alloy wheels,Sport seats,Sport suspension,Voic...   \n",
              "Safety_Security      ABS,Central door lock,Central door lock with r...   \n",
              "Gears                                                                7   \n",
              "age                                                               5.00   \n",
              "Previous_Owners                                                    NaN   \n",
              "hp_kw                                                           141.00   \n",
              "Inspection_new                                                     NaN   \n",
              "Offer_Number                                                       NaN   \n",
              "BodyColor                                                          Red   \n",
              "Paint_Type                                                         NaN   \n",
              "Upholstery_type                                                  Cloth   \n",
              "Upholstery_color                                                  Grey   \n",
              "Nr_of_Doors                                                       3.00   \n",
              "Nr_of_Seats                                                       4.00   \n",
              "Gearing_Type                                                 Automatic   \n",
              "Displacement_cc                                                1798.00   \n",
              "Weight_kg                                                      1255.00   \n",
              "Drive_chain                                                      front   \n",
              "cons_comb                                                         5.60   \n",
              "cons_city                                                         7.10   \n",
              "cons_country                                                      4.70   \n",
              "CO2_Emission                                                    129.00   \n",
              "Emission_Class                                                  Euro 6   \n",
              "\n",
              "                                                                     2  \\\n",
              "make_model                                                     Audi A1   \n",
              "body_type                                                       Sedans   \n",
              "price                                                            14640   \n",
              "vat                                                     VAT deductible   \n",
              "km                                                            83450.00   \n",
              "Type                                                              Used   \n",
              "Warranty                                                           NaN   \n",
              "Cylinders                                                          NaN   \n",
              "Fuel                                                            Diesel   \n",
              "Comfort_Convenience  Air conditioning,Cruise control,Electrical sid...   \n",
              "Entertainment_Media                              MP3,On-board computer   \n",
              "Extras                                      Alloy wheels,Voice Control   \n",
              "Safety_Security      ABS,Central door lock,Daytime running lights,D...   \n",
              "Gears                                                              NaN   \n",
              "age                                                               6.00   \n",
              "Previous_Owners                                                   1.00   \n",
              "hp_kw                                                            85.00   \n",
              "Inspection_new                                                     NaN   \n",
              "Offer_Number                                                  AM-95365   \n",
              "BodyColor                                                        Black   \n",
              "Paint_Type                                                    Metallic   \n",
              "Upholstery_type                                                  Cloth   \n",
              "Upholstery_color                                                 Black   \n",
              "Nr_of_Doors                                                       4.00   \n",
              "Nr_of_Seats                                                       4.00   \n",
              "Gearing_Type                                                 Automatic   \n",
              "Displacement_cc                                                1598.00   \n",
              "Weight_kg                                                          NaN   \n",
              "Drive_chain                                                      front   \n",
              "cons_comb                                                         3.80   \n",
              "cons_city                                                         4.40   \n",
              "cons_country                                                      3.40   \n",
              "CO2_Emission                                                     99.00   \n",
              "Emission_Class                                                  Euro 6   \n",
              "\n",
              "                                                                     3  \\\n",
              "make_model                                                     Audi A1   \n",
              "body_type                                                       Sedans   \n",
              "price                                                            14500   \n",
              "vat                                                               None   \n",
              "km                                                            73000.00   \n",
              "Type                                                              Used   \n",
              "Warranty                                                           NaN   \n",
              "Cylinders                                                         3.00   \n",
              "Fuel                                                            Diesel   \n",
              "Comfort_Convenience  Air suspension,Armrest,Auxiliary heating,Elect...   \n",
              "Entertainment_Media  Bluetooth,CD player,Hands-free equipment,MP3,O...   \n",
              "Extras                          Alloy wheels,Sport seats,Voice Control   \n",
              "Safety_Security      ABS,Alarm system,Central door lock with remote...   \n",
              "Gears                                                                6   \n",
              "age                                                               6.00   \n",
              "Previous_Owners                                                   1.00   \n",
              "hp_kw                                                            66.00   \n",
              "Inspection_new                                                     NaN   \n",
              "Offer_Number                                                       NaN   \n",
              "BodyColor                                                        Brown   \n",
              "Paint_Type                                                    Metallic   \n",
              "Upholstery_type                                                    NaN   \n",
              "Upholstery_color                                                   NaN   \n",
              "Nr_of_Doors                                                       3.00   \n",
              "Nr_of_Seats                                                       4.00   \n",
              "Gearing_Type                                                 Automatic   \n",
              "Displacement_cc                                                1422.00   \n",
              "Weight_kg                                                      1195.00   \n",
              "Drive_chain                                                        NaN   \n",
              "cons_comb                                                         3.80   \n",
              "cons_city                                                         4.30   \n",
              "cons_country                                                      3.50   \n",
              "CO2_Emission                                                     99.00   \n",
              "Emission_Class                                                  Euro 6   \n",
              "\n",
              "                                                                     4  \n",
              "make_model                                                     Audi A1  \n",
              "body_type                                                       Sedans  \n",
              "price                                                            16790  \n",
              "vat                                                               None  \n",
              "km                                                            16200.00  \n",
              "Type                                                              Used  \n",
              "Warranty                                                           NaN  \n",
              "Cylinders                                                         3.00  \n",
              "Fuel                                                            Diesel  \n",
              "Comfort_Convenience  Air conditioning,Armrest,Automatic climate con...  \n",
              "Entertainment_Media  Bluetooth,CD player,Hands-free equipment,MP3,O...  \n",
              "Extras               Alloy wheels,Sport package,Sport suspension,Vo...  \n",
              "Safety_Security      ABS,Central door lock,Driver-side airbag,Elect...  \n",
              "Gears                                                              NaN  \n",
              "age                                                               6.00  \n",
              "Previous_Owners                                                   1.00  \n",
              "hp_kw                                                            66.00  \n",
              "Inspection_new                                                     Yes  \n",
              "Offer_Number                                                     C1626  \n",
              "BodyColor                                                        Black  \n",
              "Paint_Type                                                    Metallic  \n",
              "Upholstery_type                                                  Cloth  \n",
              "Upholstery_color                                                 Black  \n",
              "Nr_of_Doors                                                       5.00  \n",
              "Nr_of_Seats                                                       5.00  \n",
              "Gearing_Type                                                 Automatic  \n",
              "Displacement_cc                                                1422.00  \n",
              "Weight_kg                                                          NaN  \n",
              "Drive_chain                                                      front  \n",
              "cons_comb                                                         4.10  \n",
              "cons_city                                                         4.60  \n",
              "cons_country                                                      3.80  \n",
              "CO2_Emission                                                    109.00  \n",
              "Emission_Class                                                  Euro 6  "
            ]
          },
          "execution_count": 200,
          "metadata": {},
          "output_type": "execute_result"
        }
      ],
      "source": [
        "df.head().T"
      ]
    },
    {
      "cell_type": "code",
      "execution_count": null,
      "metadata": {
        "colab": {
          "base_uri": "https://localhost:8080/"
        },
        "id": "paE_gqXrpzsI",
        "outputId": "5a0f9d01-c725-4f1a-d5ad-80c01cd85561"
      },
      "outputs": [
        {
          "name": "stdout",
          "output_type": "stream",
          "text": [
            "<class 'pandas.core.frame.DataFrame'>\n",
            "RangeIndex: 15919 entries, 0 to 15918\n",
            "Data columns (total 34 columns):\n",
            " #   Column               Non-Null Count  Dtype  \n",
            "---  ------               --------------  -----  \n",
            " 0   make_model           15919 non-null  object \n",
            " 1   body_type            15859 non-null  object \n",
            " 2   price                15919 non-null  int64  \n",
            " 3   vat                  11406 non-null  object \n",
            " 4   km                   14895 non-null  float64\n",
            " 5   Type                 15917 non-null  object \n",
            " 6   Warranty             4853 non-null   float64\n",
            " 7   Cylinders            10239 non-null  float64\n",
            " 8   Fuel                 15919 non-null  object \n",
            " 9   Comfort_Convenience  14999 non-null  object \n",
            " 10  Entertainment_Media  14545 non-null  object \n",
            " 11  Extras               12957 non-null  object \n",
            " 12  Safety_Security      14937 non-null  object \n",
            " 13  Gears                11207 non-null  object \n",
            " 14  age                  14322 non-null  float64\n",
            " 15  Previous_Owners      9279 non-null   float64\n",
            " 16  hp_kw                15831 non-null  float64\n",
            " 17  Inspection_new       3932 non-null   object \n",
            " 18  Offer_Number         12744 non-null  object \n",
            " 19  BodyColor            15322 non-null  object \n",
            " 20  Paint_Type           10147 non-null  object \n",
            " 21  Upholstery_type      11048 non-null  object \n",
            " 22  Upholstery_color     10841 non-null  object \n",
            " 23  Nr_of_Doors          15707 non-null  float64\n",
            " 24  Nr_of_Seats          14942 non-null  float64\n",
            " 25  Gearing_Type         15919 non-null  object \n",
            " 26  Displacement_cc      15423 non-null  float64\n",
            " 27  Weight_kg            8945 non-null   float64\n",
            " 28  Drive_chain          9061 non-null   object \n",
            " 29  cons_comb            13886 non-null  float64\n",
            " 30  cons_city            13483 non-null  float64\n",
            " 31  cons_country         13543 non-null  float64\n",
            " 32  CO2_Emission         13483 non-null  float64\n",
            " 33  Emission_Class       12291 non-null  object \n",
            "dtypes: float64(14), int64(1), object(19)\n",
            "memory usage: 4.1+ MB\n"
          ]
        }
      ],
      "source": [
        "df.info()"
      ]
    },
    {
      "cell_type": "code",
      "execution_count": null,
      "metadata": {
        "id": "hBaQNYAN1sZN"
      },
      "outputs": [],
      "source": [
        "df.to_csv(\"clean_scout.csv\", index=False)"
      ]
    },
    {
      "cell_type": "code",
      "execution_count": null,
      "metadata": {
        "id": "PPF2zCu0jZdY"
      },
      "outputs": [],
      "source": [
        ""
      ]
    }
  ],
  "metadata": {
    "colab": {
      "collapsed_sections": [],
      "name": "AutoScout_Project_1gd.ipynb",
      "provenance": [],
      "toc_visible": true
    },
    "kernelspec": {
      "display_name": "Python 3 (ipykernel)",
      "language": "python",
      "name": "python3"
    },
    "language_info": {
      "codemirror_mode": {
        "name": "ipython",
        "version": 3
      },
      "file_extension": ".py",
      "mimetype": "text/x-python",
      "name": "python",
      "nbconvert_exporter": "python",
      "pygments_lexer": "ipython3",
      "version": "3.10.5"
    }
  },
  "nbformat": 4,
  "nbformat_minor": 0
}