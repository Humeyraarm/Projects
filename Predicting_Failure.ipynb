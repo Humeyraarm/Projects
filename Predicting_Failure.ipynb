{
  "nbformat": 4,
  "nbformat_minor": 0,
  "metadata": {
    "colab": {
      "provenance": []
    },
    "kernelspec": {
      "name": "python3",
      "display_name": "Python 3"
    },
    "language_info": {
      "name": "python"
    }
  },
  "cells": [
    {
      "cell_type": "code",
      "execution_count": 511,
      "metadata": {
        "id": "8y1xU_mggBAt"
      },
      "outputs": [],
      "source": [
        "\n",
        "import pandas as pd\n",
        "import datetime as dt\n",
        "import pandas_profiling\n",
        "import numpy as np\n",
        "import matplotlib.pyplot as plt\n",
        "import seaborn as sns\n",
        "%matplotlib inline\n",
        "import warnings\n",
        "warnings.filterwarnings(\"ignore\")\n",
        "from sklearn.model_selection import train_test_split\n",
        "from sklearn.linear_model import LinearRegression, ElasticNet, Ridge, Lasso, LogisticRegression\n",
        "from sklearn.ensemble import GradientBoostingClassifier, RandomForestClassifier\n",
        "from sklearn.metrics import r2_score, mean_squared_error, mean_absolute_error\n",
        "from sklearn.tree import ExtraTreeRegressor, DecisionTreeClassifier\n",
        "\n",
        "from sklearn.naive_bayes import GaussianNB\n",
        "from sklearn.naive_bayes import BernoulliNB\n",
        "from sklearn.neighbors import KNeighborsClassifier\n",
        "\n",
        "from sklearn.metrics import accuracy_score,precision_score,recall_score,f1_score\n",
        "from sklearn.metrics import confusion_matrix, classification_report"
      ]
    },
    {
      "cell_type": "code",
      "source": [
        "df = pd.read_csv('failure.csv')"
      ],
      "metadata": {
        "id": "H0jg__rCK6Bx"
      },
      "execution_count": 512,
      "outputs": []
    },
    {
      "cell_type": "code",
      "source": [
        "df.head(10)"
      ],
      "metadata": {
        "colab": {
          "base_uri": "https://localhost:8080/",
          "height": 363
        },
        "id": "Ee-IzfgtK6mX",
        "outputId": "0219b0c0-bad1-44f0-9576-c085872fc2df"
      },
      "execution_count": 513,
      "outputs": [
        {
          "output_type": "execute_result",
          "data": {
            "text/plain": [
              "         date    device  failure  attribute1  attribute2  attribute3  \\\n",
              "0  2015-01-01  S1F01085        0   215630672          56           0   \n",
              "1  2015-01-01  S1F0166B        0    61370680           0           3   \n",
              "2  2015-01-01  S1F01E6Y        0   173295968           0           0   \n",
              "3  2015-01-01  S1F01JE0        0    79694024           0           0   \n",
              "4  2015-01-01  S1F01R2B        0   135970480           0           0   \n",
              "5  2015-01-01  S1F01TD5        0    68837488           0           0   \n",
              "6  2015-01-01  S1F01XDJ        0   227721632           0           0   \n",
              "7  2015-01-01  S1F023H2        0   141503600           0           0   \n",
              "8  2015-01-01  S1F02A0J        0     8217840           0           1   \n",
              "9  2015-01-01  S1F02DZ2        0   116440096           0         323   \n",
              "\n",
              "   attribute4  attribute5  attribute6  attribute7  attribute8  attribute9  \n",
              "0          52           6      407438           0           0           7  \n",
              "1           0           6      403174           0           0           0  \n",
              "2           0          12      237394           0           0           0  \n",
              "3           0           6      410186           0           0           0  \n",
              "4           0          15      313173           0           0           3  \n",
              "5          41           6      413535           0           0           1  \n",
              "6           0           8      402525           0           0           0  \n",
              "7           1          19      494462          16          16           3  \n",
              "8           0          14      311869           0           0           0  \n",
              "9           9           9      407905           0           0         164  "
            ],
            "text/html": [
              "\n",
              "  <div id=\"df-f3d7489c-ce29-4471-8e65-80b08bd96cef\">\n",
              "    <div class=\"colab-df-container\">\n",
              "      <div>\n",
              "<style scoped>\n",
              "    .dataframe tbody tr th:only-of-type {\n",
              "        vertical-align: middle;\n",
              "    }\n",
              "\n",
              "    .dataframe tbody tr th {\n",
              "        vertical-align: top;\n",
              "    }\n",
              "\n",
              "    .dataframe thead th {\n",
              "        text-align: right;\n",
              "    }\n",
              "</style>\n",
              "<table border=\"1\" class=\"dataframe\">\n",
              "  <thead>\n",
              "    <tr style=\"text-align: right;\">\n",
              "      <th></th>\n",
              "      <th>date</th>\n",
              "      <th>device</th>\n",
              "      <th>failure</th>\n",
              "      <th>attribute1</th>\n",
              "      <th>attribute2</th>\n",
              "      <th>attribute3</th>\n",
              "      <th>attribute4</th>\n",
              "      <th>attribute5</th>\n",
              "      <th>attribute6</th>\n",
              "      <th>attribute7</th>\n",
              "      <th>attribute8</th>\n",
              "      <th>attribute9</th>\n",
              "    </tr>\n",
              "  </thead>\n",
              "  <tbody>\n",
              "    <tr>\n",
              "      <th>0</th>\n",
              "      <td>2015-01-01</td>\n",
              "      <td>S1F01085</td>\n",
              "      <td>0</td>\n",
              "      <td>215630672</td>\n",
              "      <td>56</td>\n",
              "      <td>0</td>\n",
              "      <td>52</td>\n",
              "      <td>6</td>\n",
              "      <td>407438</td>\n",
              "      <td>0</td>\n",
              "      <td>0</td>\n",
              "      <td>7</td>\n",
              "    </tr>\n",
              "    <tr>\n",
              "      <th>1</th>\n",
              "      <td>2015-01-01</td>\n",
              "      <td>S1F0166B</td>\n",
              "      <td>0</td>\n",
              "      <td>61370680</td>\n",
              "      <td>0</td>\n",
              "      <td>3</td>\n",
              "      <td>0</td>\n",
              "      <td>6</td>\n",
              "      <td>403174</td>\n",
              "      <td>0</td>\n",
              "      <td>0</td>\n",
              "      <td>0</td>\n",
              "    </tr>\n",
              "    <tr>\n",
              "      <th>2</th>\n",
              "      <td>2015-01-01</td>\n",
              "      <td>S1F01E6Y</td>\n",
              "      <td>0</td>\n",
              "      <td>173295968</td>\n",
              "      <td>0</td>\n",
              "      <td>0</td>\n",
              "      <td>0</td>\n",
              "      <td>12</td>\n",
              "      <td>237394</td>\n",
              "      <td>0</td>\n",
              "      <td>0</td>\n",
              "      <td>0</td>\n",
              "    </tr>\n",
              "    <tr>\n",
              "      <th>3</th>\n",
              "      <td>2015-01-01</td>\n",
              "      <td>S1F01JE0</td>\n",
              "      <td>0</td>\n",
              "      <td>79694024</td>\n",
              "      <td>0</td>\n",
              "      <td>0</td>\n",
              "      <td>0</td>\n",
              "      <td>6</td>\n",
              "      <td>410186</td>\n",
              "      <td>0</td>\n",
              "      <td>0</td>\n",
              "      <td>0</td>\n",
              "    </tr>\n",
              "    <tr>\n",
              "      <th>4</th>\n",
              "      <td>2015-01-01</td>\n",
              "      <td>S1F01R2B</td>\n",
              "      <td>0</td>\n",
              "      <td>135970480</td>\n",
              "      <td>0</td>\n",
              "      <td>0</td>\n",
              "      <td>0</td>\n",
              "      <td>15</td>\n",
              "      <td>313173</td>\n",
              "      <td>0</td>\n",
              "      <td>0</td>\n",
              "      <td>3</td>\n",
              "    </tr>\n",
              "    <tr>\n",
              "      <th>5</th>\n",
              "      <td>2015-01-01</td>\n",
              "      <td>S1F01TD5</td>\n",
              "      <td>0</td>\n",
              "      <td>68837488</td>\n",
              "      <td>0</td>\n",
              "      <td>0</td>\n",
              "      <td>41</td>\n",
              "      <td>6</td>\n",
              "      <td>413535</td>\n",
              "      <td>0</td>\n",
              "      <td>0</td>\n",
              "      <td>1</td>\n",
              "    </tr>\n",
              "    <tr>\n",
              "      <th>6</th>\n",
              "      <td>2015-01-01</td>\n",
              "      <td>S1F01XDJ</td>\n",
              "      <td>0</td>\n",
              "      <td>227721632</td>\n",
              "      <td>0</td>\n",
              "      <td>0</td>\n",
              "      <td>0</td>\n",
              "      <td>8</td>\n",
              "      <td>402525</td>\n",
              "      <td>0</td>\n",
              "      <td>0</td>\n",
              "      <td>0</td>\n",
              "    </tr>\n",
              "    <tr>\n",
              "      <th>7</th>\n",
              "      <td>2015-01-01</td>\n",
              "      <td>S1F023H2</td>\n",
              "      <td>0</td>\n",
              "      <td>141503600</td>\n",
              "      <td>0</td>\n",
              "      <td>0</td>\n",
              "      <td>1</td>\n",
              "      <td>19</td>\n",
              "      <td>494462</td>\n",
              "      <td>16</td>\n",
              "      <td>16</td>\n",
              "      <td>3</td>\n",
              "    </tr>\n",
              "    <tr>\n",
              "      <th>8</th>\n",
              "      <td>2015-01-01</td>\n",
              "      <td>S1F02A0J</td>\n",
              "      <td>0</td>\n",
              "      <td>8217840</td>\n",
              "      <td>0</td>\n",
              "      <td>1</td>\n",
              "      <td>0</td>\n",
              "      <td>14</td>\n",
              "      <td>311869</td>\n",
              "      <td>0</td>\n",
              "      <td>0</td>\n",
              "      <td>0</td>\n",
              "    </tr>\n",
              "    <tr>\n",
              "      <th>9</th>\n",
              "      <td>2015-01-01</td>\n",
              "      <td>S1F02DZ2</td>\n",
              "      <td>0</td>\n",
              "      <td>116440096</td>\n",
              "      <td>0</td>\n",
              "      <td>323</td>\n",
              "      <td>9</td>\n",
              "      <td>9</td>\n",
              "      <td>407905</td>\n",
              "      <td>0</td>\n",
              "      <td>0</td>\n",
              "      <td>164</td>\n",
              "    </tr>\n",
              "  </tbody>\n",
              "</table>\n",
              "</div>\n",
              "      <button class=\"colab-df-convert\" onclick=\"convertToInteractive('df-f3d7489c-ce29-4471-8e65-80b08bd96cef')\"\n",
              "              title=\"Convert this dataframe to an interactive table.\"\n",
              "              style=\"display:none;\">\n",
              "        \n",
              "  <svg xmlns=\"http://www.w3.org/2000/svg\" height=\"24px\"viewBox=\"0 0 24 24\"\n",
              "       width=\"24px\">\n",
              "    <path d=\"M0 0h24v24H0V0z\" fill=\"none\"/>\n",
              "    <path d=\"M18.56 5.44l.94 2.06.94-2.06 2.06-.94-2.06-.94-.94-2.06-.94 2.06-2.06.94zm-11 1L8.5 8.5l.94-2.06 2.06-.94-2.06-.94L8.5 2.5l-.94 2.06-2.06.94zm10 10l.94 2.06.94-2.06 2.06-.94-2.06-.94-.94-2.06-.94 2.06-2.06.94z\"/><path d=\"M17.41 7.96l-1.37-1.37c-.4-.4-.92-.59-1.43-.59-.52 0-1.04.2-1.43.59L10.3 9.45l-7.72 7.72c-.78.78-.78 2.05 0 2.83L4 21.41c.39.39.9.59 1.41.59.51 0 1.02-.2 1.41-.59l7.78-7.78 2.81-2.81c.8-.78.8-2.07 0-2.86zM5.41 20L4 18.59l7.72-7.72 1.47 1.35L5.41 20z\"/>\n",
              "  </svg>\n",
              "      </button>\n",
              "      \n",
              "  <style>\n",
              "    .colab-df-container {\n",
              "      display:flex;\n",
              "      flex-wrap:wrap;\n",
              "      gap: 12px;\n",
              "    }\n",
              "\n",
              "    .colab-df-convert {\n",
              "      background-color: #E8F0FE;\n",
              "      border: none;\n",
              "      border-radius: 50%;\n",
              "      cursor: pointer;\n",
              "      display: none;\n",
              "      fill: #1967D2;\n",
              "      height: 32px;\n",
              "      padding: 0 0 0 0;\n",
              "      width: 32px;\n",
              "    }\n",
              "\n",
              "    .colab-df-convert:hover {\n",
              "      background-color: #E2EBFA;\n",
              "      box-shadow: 0px 1px 2px rgba(60, 64, 67, 0.3), 0px 1px 3px 1px rgba(60, 64, 67, 0.15);\n",
              "      fill: #174EA6;\n",
              "    }\n",
              "\n",
              "    [theme=dark] .colab-df-convert {\n",
              "      background-color: #3B4455;\n",
              "      fill: #D2E3FC;\n",
              "    }\n",
              "\n",
              "    [theme=dark] .colab-df-convert:hover {\n",
              "      background-color: #434B5C;\n",
              "      box-shadow: 0px 1px 3px 1px rgba(0, 0, 0, 0.15);\n",
              "      filter: drop-shadow(0px 1px 2px rgba(0, 0, 0, 0.3));\n",
              "      fill: #FFFFFF;\n",
              "    }\n",
              "  </style>\n",
              "\n",
              "      <script>\n",
              "        const buttonEl =\n",
              "          document.querySelector('#df-f3d7489c-ce29-4471-8e65-80b08bd96cef button.colab-df-convert');\n",
              "        buttonEl.style.display =\n",
              "          google.colab.kernel.accessAllowed ? 'block' : 'none';\n",
              "\n",
              "        async function convertToInteractive(key) {\n",
              "          const element = document.querySelector('#df-f3d7489c-ce29-4471-8e65-80b08bd96cef');\n",
              "          const dataTable =\n",
              "            await google.colab.kernel.invokeFunction('convertToInteractive',\n",
              "                                                     [key], {});\n",
              "          if (!dataTable) return;\n",
              "\n",
              "          const docLinkHtml = 'Like what you see? Visit the ' +\n",
              "            '<a target=\"_blank\" href=https://colab.research.google.com/notebooks/data_table.ipynb>data table notebook</a>'\n",
              "            + ' to learn more about interactive tables.';\n",
              "          element.innerHTML = '';\n",
              "          dataTable['output_type'] = 'display_data';\n",
              "          await google.colab.output.renderOutput(dataTable, element);\n",
              "          const docLink = document.createElement('div');\n",
              "          docLink.innerHTML = docLinkHtml;\n",
              "          element.appendChild(docLink);\n",
              "        }\n",
              "      </script>\n",
              "    </div>\n",
              "  </div>\n",
              "  "
            ]
          },
          "metadata": {},
          "execution_count": 513
        }
      ]
    },
    {
      "cell_type": "code",
      "source": [
        "df.info()"
      ],
      "metadata": {
        "colab": {
          "base_uri": "https://localhost:8080/"
        },
        "id": "LwJcOR6eK6ox",
        "outputId": "3260b5ad-188f-4699-b176-f59387f481b8"
      },
      "execution_count": 514,
      "outputs": [
        {
          "output_type": "stream",
          "name": "stdout",
          "text": [
            "<class 'pandas.core.frame.DataFrame'>\n",
            "RangeIndex: 124494 entries, 0 to 124493\n",
            "Data columns (total 12 columns):\n",
            " #   Column      Non-Null Count   Dtype \n",
            "---  ------      --------------   ----- \n",
            " 0   date        124494 non-null  object\n",
            " 1   device      124494 non-null  object\n",
            " 2   failure     124494 non-null  int64 \n",
            " 3   attribute1  124494 non-null  int64 \n",
            " 4   attribute2  124494 non-null  int64 \n",
            " 5   attribute3  124494 non-null  int64 \n",
            " 6   attribute4  124494 non-null  int64 \n",
            " 7   attribute5  124494 non-null  int64 \n",
            " 8   attribute6  124494 non-null  int64 \n",
            " 9   attribute7  124494 non-null  int64 \n",
            " 10  attribute8  124494 non-null  int64 \n",
            " 11  attribute9  124494 non-null  int64 \n",
            "dtypes: int64(10), object(2)\n",
            "memory usage: 11.4+ MB\n"
          ]
        }
      ]
    },
    {
      "cell_type": "code",
      "source": [
        "df.isnull().sum()"
      ],
      "metadata": {
        "colab": {
          "base_uri": "https://localhost:8080/"
        },
        "id": "uFN67oCPidXX",
        "outputId": "35cef349-1e5c-4e70-ea95-ad19d3492ec1"
      },
      "execution_count": 515,
      "outputs": [
        {
          "output_type": "execute_result",
          "data": {
            "text/plain": [
              "date          0\n",
              "device        0\n",
              "failure       0\n",
              "attribute1    0\n",
              "attribute2    0\n",
              "attribute3    0\n",
              "attribute4    0\n",
              "attribute5    0\n",
              "attribute6    0\n",
              "attribute7    0\n",
              "attribute8    0\n",
              "attribute9    0\n",
              "dtype: int64"
            ]
          },
          "metadata": {},
          "execution_count": 515
        }
      ]
    },
    {
      "cell_type": "code",
      "source": [
        "df.corr()"
      ],
      "metadata": {
        "colab": {
          "base_uri": "https://localhost:8080/",
          "height": 363
        },
        "id": "Ul_2QNgE6Vbv",
        "outputId": "94632566-ade5-4a2f-e49e-4796683f1fa8"
      },
      "execution_count": 516,
      "outputs": [
        {
          "output_type": "execute_result",
          "data": {
            "text/plain": [
              "             failure  attribute1  attribute2  attribute3  attribute4  \\\n",
              "failure     1.000000    0.001984    0.052902   -0.000948    0.067398   \n",
              "attribute1  0.001984    1.000000   -0.004248    0.003702    0.001837   \n",
              "attribute2  0.052902   -0.004248    1.000000   -0.002617    0.146593   \n",
              "attribute3 -0.000948    0.003702   -0.002617    1.000000    0.097452   \n",
              "attribute4  0.067398    0.001837    0.146593    0.097452    1.000000   \n",
              "attribute5  0.002270   -0.003370   -0.013999   -0.006696   -0.009773   \n",
              "attribute6 -0.000550   -0.001516   -0.026350    0.009027    0.024870   \n",
              "attribute7  0.119055    0.000151    0.141367   -0.001884    0.045631   \n",
              "attribute8  0.119055    0.000151    0.141367   -0.001884    0.045631   \n",
              "attribute9  0.001622    0.001122   -0.002736    0.532366    0.036069   \n",
              "\n",
              "            attribute5  attribute6  attribute7  attribute8  attribute9  \n",
              "failure       0.002270   -0.000550    0.119055    0.119055    0.001622  \n",
              "attribute1   -0.003370   -0.001516    0.000151    0.000151    0.001122  \n",
              "attribute2   -0.013999   -0.026350    0.141367    0.141367   -0.002736  \n",
              "attribute3   -0.006696    0.009027   -0.001884   -0.001884    0.532366  \n",
              "attribute4   -0.009773    0.024870    0.045631    0.045631    0.036069  \n",
              "attribute5    1.000000   -0.017051   -0.009384   -0.009384    0.005949  \n",
              "attribute6   -0.017051    1.000000   -0.012207   -0.012207    0.021152  \n",
              "attribute7   -0.009384   -0.012207    1.000000    1.000000    0.006861  \n",
              "attribute8   -0.009384   -0.012207    1.000000    1.000000    0.006861  \n",
              "attribute9    0.005949    0.021152    0.006861    0.006861    1.000000  "
            ],
            "text/html": [
              "\n",
              "  <div id=\"df-ed529d42-b230-44c5-9d29-cc3edb3b82c7\">\n",
              "    <div class=\"colab-df-container\">\n",
              "      <div>\n",
              "<style scoped>\n",
              "    .dataframe tbody tr th:only-of-type {\n",
              "        vertical-align: middle;\n",
              "    }\n",
              "\n",
              "    .dataframe tbody tr th {\n",
              "        vertical-align: top;\n",
              "    }\n",
              "\n",
              "    .dataframe thead th {\n",
              "        text-align: right;\n",
              "    }\n",
              "</style>\n",
              "<table border=\"1\" class=\"dataframe\">\n",
              "  <thead>\n",
              "    <tr style=\"text-align: right;\">\n",
              "      <th></th>\n",
              "      <th>failure</th>\n",
              "      <th>attribute1</th>\n",
              "      <th>attribute2</th>\n",
              "      <th>attribute3</th>\n",
              "      <th>attribute4</th>\n",
              "      <th>attribute5</th>\n",
              "      <th>attribute6</th>\n",
              "      <th>attribute7</th>\n",
              "      <th>attribute8</th>\n",
              "      <th>attribute9</th>\n",
              "    </tr>\n",
              "  </thead>\n",
              "  <tbody>\n",
              "    <tr>\n",
              "      <th>failure</th>\n",
              "      <td>1.000000</td>\n",
              "      <td>0.001984</td>\n",
              "      <td>0.052902</td>\n",
              "      <td>-0.000948</td>\n",
              "      <td>0.067398</td>\n",
              "      <td>0.002270</td>\n",
              "      <td>-0.000550</td>\n",
              "      <td>0.119055</td>\n",
              "      <td>0.119055</td>\n",
              "      <td>0.001622</td>\n",
              "    </tr>\n",
              "    <tr>\n",
              "      <th>attribute1</th>\n",
              "      <td>0.001984</td>\n",
              "      <td>1.000000</td>\n",
              "      <td>-0.004248</td>\n",
              "      <td>0.003702</td>\n",
              "      <td>0.001837</td>\n",
              "      <td>-0.003370</td>\n",
              "      <td>-0.001516</td>\n",
              "      <td>0.000151</td>\n",
              "      <td>0.000151</td>\n",
              "      <td>0.001122</td>\n",
              "    </tr>\n",
              "    <tr>\n",
              "      <th>attribute2</th>\n",
              "      <td>0.052902</td>\n",
              "      <td>-0.004248</td>\n",
              "      <td>1.000000</td>\n",
              "      <td>-0.002617</td>\n",
              "      <td>0.146593</td>\n",
              "      <td>-0.013999</td>\n",
              "      <td>-0.026350</td>\n",
              "      <td>0.141367</td>\n",
              "      <td>0.141367</td>\n",
              "      <td>-0.002736</td>\n",
              "    </tr>\n",
              "    <tr>\n",
              "      <th>attribute3</th>\n",
              "      <td>-0.000948</td>\n",
              "      <td>0.003702</td>\n",
              "      <td>-0.002617</td>\n",
              "      <td>1.000000</td>\n",
              "      <td>0.097452</td>\n",
              "      <td>-0.006696</td>\n",
              "      <td>0.009027</td>\n",
              "      <td>-0.001884</td>\n",
              "      <td>-0.001884</td>\n",
              "      <td>0.532366</td>\n",
              "    </tr>\n",
              "    <tr>\n",
              "      <th>attribute4</th>\n",
              "      <td>0.067398</td>\n",
              "      <td>0.001837</td>\n",
              "      <td>0.146593</td>\n",
              "      <td>0.097452</td>\n",
              "      <td>1.000000</td>\n",
              "      <td>-0.009773</td>\n",
              "      <td>0.024870</td>\n",
              "      <td>0.045631</td>\n",
              "      <td>0.045631</td>\n",
              "      <td>0.036069</td>\n",
              "    </tr>\n",
              "    <tr>\n",
              "      <th>attribute5</th>\n",
              "      <td>0.002270</td>\n",
              "      <td>-0.003370</td>\n",
              "      <td>-0.013999</td>\n",
              "      <td>-0.006696</td>\n",
              "      <td>-0.009773</td>\n",
              "      <td>1.000000</td>\n",
              "      <td>-0.017051</td>\n",
              "      <td>-0.009384</td>\n",
              "      <td>-0.009384</td>\n",
              "      <td>0.005949</td>\n",
              "    </tr>\n",
              "    <tr>\n",
              "      <th>attribute6</th>\n",
              "      <td>-0.000550</td>\n",
              "      <td>-0.001516</td>\n",
              "      <td>-0.026350</td>\n",
              "      <td>0.009027</td>\n",
              "      <td>0.024870</td>\n",
              "      <td>-0.017051</td>\n",
              "      <td>1.000000</td>\n",
              "      <td>-0.012207</td>\n",
              "      <td>-0.012207</td>\n",
              "      <td>0.021152</td>\n",
              "    </tr>\n",
              "    <tr>\n",
              "      <th>attribute7</th>\n",
              "      <td>0.119055</td>\n",
              "      <td>0.000151</td>\n",
              "      <td>0.141367</td>\n",
              "      <td>-0.001884</td>\n",
              "      <td>0.045631</td>\n",
              "      <td>-0.009384</td>\n",
              "      <td>-0.012207</td>\n",
              "      <td>1.000000</td>\n",
              "      <td>1.000000</td>\n",
              "      <td>0.006861</td>\n",
              "    </tr>\n",
              "    <tr>\n",
              "      <th>attribute8</th>\n",
              "      <td>0.119055</td>\n",
              "      <td>0.000151</td>\n",
              "      <td>0.141367</td>\n",
              "      <td>-0.001884</td>\n",
              "      <td>0.045631</td>\n",
              "      <td>-0.009384</td>\n",
              "      <td>-0.012207</td>\n",
              "      <td>1.000000</td>\n",
              "      <td>1.000000</td>\n",
              "      <td>0.006861</td>\n",
              "    </tr>\n",
              "    <tr>\n",
              "      <th>attribute9</th>\n",
              "      <td>0.001622</td>\n",
              "      <td>0.001122</td>\n",
              "      <td>-0.002736</td>\n",
              "      <td>0.532366</td>\n",
              "      <td>0.036069</td>\n",
              "      <td>0.005949</td>\n",
              "      <td>0.021152</td>\n",
              "      <td>0.006861</td>\n",
              "      <td>0.006861</td>\n",
              "      <td>1.000000</td>\n",
              "    </tr>\n",
              "  </tbody>\n",
              "</table>\n",
              "</div>\n",
              "      <button class=\"colab-df-convert\" onclick=\"convertToInteractive('df-ed529d42-b230-44c5-9d29-cc3edb3b82c7')\"\n",
              "              title=\"Convert this dataframe to an interactive table.\"\n",
              "              style=\"display:none;\">\n",
              "        \n",
              "  <svg xmlns=\"http://www.w3.org/2000/svg\" height=\"24px\"viewBox=\"0 0 24 24\"\n",
              "       width=\"24px\">\n",
              "    <path d=\"M0 0h24v24H0V0z\" fill=\"none\"/>\n",
              "    <path d=\"M18.56 5.44l.94 2.06.94-2.06 2.06-.94-2.06-.94-.94-2.06-.94 2.06-2.06.94zm-11 1L8.5 8.5l.94-2.06 2.06-.94-2.06-.94L8.5 2.5l-.94 2.06-2.06.94zm10 10l.94 2.06.94-2.06 2.06-.94-2.06-.94-.94-2.06-.94 2.06-2.06.94z\"/><path d=\"M17.41 7.96l-1.37-1.37c-.4-.4-.92-.59-1.43-.59-.52 0-1.04.2-1.43.59L10.3 9.45l-7.72 7.72c-.78.78-.78 2.05 0 2.83L4 21.41c.39.39.9.59 1.41.59.51 0 1.02-.2 1.41-.59l7.78-7.78 2.81-2.81c.8-.78.8-2.07 0-2.86zM5.41 20L4 18.59l7.72-7.72 1.47 1.35L5.41 20z\"/>\n",
              "  </svg>\n",
              "      </button>\n",
              "      \n",
              "  <style>\n",
              "    .colab-df-container {\n",
              "      display:flex;\n",
              "      flex-wrap:wrap;\n",
              "      gap: 12px;\n",
              "    }\n",
              "\n",
              "    .colab-df-convert {\n",
              "      background-color: #E8F0FE;\n",
              "      border: none;\n",
              "      border-radius: 50%;\n",
              "      cursor: pointer;\n",
              "      display: none;\n",
              "      fill: #1967D2;\n",
              "      height: 32px;\n",
              "      padding: 0 0 0 0;\n",
              "      width: 32px;\n",
              "    }\n",
              "\n",
              "    .colab-df-convert:hover {\n",
              "      background-color: #E2EBFA;\n",
              "      box-shadow: 0px 1px 2px rgba(60, 64, 67, 0.3), 0px 1px 3px 1px rgba(60, 64, 67, 0.15);\n",
              "      fill: #174EA6;\n",
              "    }\n",
              "\n",
              "    [theme=dark] .colab-df-convert {\n",
              "      background-color: #3B4455;\n",
              "      fill: #D2E3FC;\n",
              "    }\n",
              "\n",
              "    [theme=dark] .colab-df-convert:hover {\n",
              "      background-color: #434B5C;\n",
              "      box-shadow: 0px 1px 3px 1px rgba(0, 0, 0, 0.15);\n",
              "      filter: drop-shadow(0px 1px 2px rgba(0, 0, 0, 0.3));\n",
              "      fill: #FFFFFF;\n",
              "    }\n",
              "  </style>\n",
              "\n",
              "      <script>\n",
              "        const buttonEl =\n",
              "          document.querySelector('#df-ed529d42-b230-44c5-9d29-cc3edb3b82c7 button.colab-df-convert');\n",
              "        buttonEl.style.display =\n",
              "          google.colab.kernel.accessAllowed ? 'block' : 'none';\n",
              "\n",
              "        async function convertToInteractive(key) {\n",
              "          const element = document.querySelector('#df-ed529d42-b230-44c5-9d29-cc3edb3b82c7');\n",
              "          const dataTable =\n",
              "            await google.colab.kernel.invokeFunction('convertToInteractive',\n",
              "                                                     [key], {});\n",
              "          if (!dataTable) return;\n",
              "\n",
              "          const docLinkHtml = 'Like what you see? Visit the ' +\n",
              "            '<a target=\"_blank\" href=https://colab.research.google.com/notebooks/data_table.ipynb>data table notebook</a>'\n",
              "            + ' to learn more about interactive tables.';\n",
              "          element.innerHTML = '';\n",
              "          dataTable['output_type'] = 'display_data';\n",
              "          await google.colab.output.renderOutput(dataTable, element);\n",
              "          const docLink = document.createElement('div');\n",
              "          docLink.innerHTML = docLinkHtml;\n",
              "          element.appendChild(docLink);\n",
              "        }\n",
              "      </script>\n",
              "    </div>\n",
              "  </div>\n",
              "  "
            ]
          },
          "metadata": {},
          "execution_count": 516
        }
      ]
    },
    {
      "cell_type": "code",
      "source": [
        "df.describe()"
      ],
      "metadata": {
        "colab": {
          "base_uri": "https://localhost:8080/",
          "height": 300
        },
        "id": "nRFiWH6y6fg1",
        "outputId": "3c814b37-b819-461c-e5f7-d6f231c01bfa"
      },
      "execution_count": 517,
      "outputs": [
        {
          "output_type": "execute_result",
          "data": {
            "text/plain": [
              "             failure    attribute1     attribute2     attribute3  \\\n",
              "count  124494.000000  1.244940e+05  124494.000000  124494.000000   \n",
              "mean        0.000851  1.223868e+08     159.484762       9.940455   \n",
              "std         0.029167  7.045960e+07    2179.657730     185.747321   \n",
              "min         0.000000  0.000000e+00       0.000000       0.000000   \n",
              "25%         0.000000  6.127675e+07       0.000000       0.000000   \n",
              "50%         0.000000  1.227957e+08       0.000000       0.000000   \n",
              "75%         0.000000  1.833084e+08       0.000000       0.000000   \n",
              "max         1.000000  2.441405e+08   64968.000000   24929.000000   \n",
              "\n",
              "          attribute4     attribute5     attribute6     attribute7  \\\n",
              "count  124494.000000  124494.000000  124494.000000  124494.000000   \n",
              "mean        1.741120      14.222693  260172.858025       0.292528   \n",
              "std        22.908507      15.943021   99151.009852       7.436924   \n",
              "min         0.000000       1.000000       8.000000       0.000000   \n",
              "25%         0.000000       8.000000  221452.000000       0.000000   \n",
              "50%         0.000000      10.000000  249799.500000       0.000000   \n",
              "75%         0.000000      12.000000  310266.000000       0.000000   \n",
              "max      1666.000000      98.000000  689161.000000     832.000000   \n",
              "\n",
              "          attribute8     attribute9  \n",
              "count  124494.000000  124494.000000  \n",
              "mean        0.292528      12.451524  \n",
              "std         7.436924     191.425623  \n",
              "min         0.000000       0.000000  \n",
              "25%         0.000000       0.000000  \n",
              "50%         0.000000       0.000000  \n",
              "75%         0.000000       0.000000  \n",
              "max       832.000000   18701.000000  "
            ],
            "text/html": [
              "\n",
              "  <div id=\"df-f33610f8-217c-4087-94d1-bcd2ff5bba0f\">\n",
              "    <div class=\"colab-df-container\">\n",
              "      <div>\n",
              "<style scoped>\n",
              "    .dataframe tbody tr th:only-of-type {\n",
              "        vertical-align: middle;\n",
              "    }\n",
              "\n",
              "    .dataframe tbody tr th {\n",
              "        vertical-align: top;\n",
              "    }\n",
              "\n",
              "    .dataframe thead th {\n",
              "        text-align: right;\n",
              "    }\n",
              "</style>\n",
              "<table border=\"1\" class=\"dataframe\">\n",
              "  <thead>\n",
              "    <tr style=\"text-align: right;\">\n",
              "      <th></th>\n",
              "      <th>failure</th>\n",
              "      <th>attribute1</th>\n",
              "      <th>attribute2</th>\n",
              "      <th>attribute3</th>\n",
              "      <th>attribute4</th>\n",
              "      <th>attribute5</th>\n",
              "      <th>attribute6</th>\n",
              "      <th>attribute7</th>\n",
              "      <th>attribute8</th>\n",
              "      <th>attribute9</th>\n",
              "    </tr>\n",
              "  </thead>\n",
              "  <tbody>\n",
              "    <tr>\n",
              "      <th>count</th>\n",
              "      <td>124494.000000</td>\n",
              "      <td>1.244940e+05</td>\n",
              "      <td>124494.000000</td>\n",
              "      <td>124494.000000</td>\n",
              "      <td>124494.000000</td>\n",
              "      <td>124494.000000</td>\n",
              "      <td>124494.000000</td>\n",
              "      <td>124494.000000</td>\n",
              "      <td>124494.000000</td>\n",
              "      <td>124494.000000</td>\n",
              "    </tr>\n",
              "    <tr>\n",
              "      <th>mean</th>\n",
              "      <td>0.000851</td>\n",
              "      <td>1.223868e+08</td>\n",
              "      <td>159.484762</td>\n",
              "      <td>9.940455</td>\n",
              "      <td>1.741120</td>\n",
              "      <td>14.222693</td>\n",
              "      <td>260172.858025</td>\n",
              "      <td>0.292528</td>\n",
              "      <td>0.292528</td>\n",
              "      <td>12.451524</td>\n",
              "    </tr>\n",
              "    <tr>\n",
              "      <th>std</th>\n",
              "      <td>0.029167</td>\n",
              "      <td>7.045960e+07</td>\n",
              "      <td>2179.657730</td>\n",
              "      <td>185.747321</td>\n",
              "      <td>22.908507</td>\n",
              "      <td>15.943021</td>\n",
              "      <td>99151.009852</td>\n",
              "      <td>7.436924</td>\n",
              "      <td>7.436924</td>\n",
              "      <td>191.425623</td>\n",
              "    </tr>\n",
              "    <tr>\n",
              "      <th>min</th>\n",
              "      <td>0.000000</td>\n",
              "      <td>0.000000e+00</td>\n",
              "      <td>0.000000</td>\n",
              "      <td>0.000000</td>\n",
              "      <td>0.000000</td>\n",
              "      <td>1.000000</td>\n",
              "      <td>8.000000</td>\n",
              "      <td>0.000000</td>\n",
              "      <td>0.000000</td>\n",
              "      <td>0.000000</td>\n",
              "    </tr>\n",
              "    <tr>\n",
              "      <th>25%</th>\n",
              "      <td>0.000000</td>\n",
              "      <td>6.127675e+07</td>\n",
              "      <td>0.000000</td>\n",
              "      <td>0.000000</td>\n",
              "      <td>0.000000</td>\n",
              "      <td>8.000000</td>\n",
              "      <td>221452.000000</td>\n",
              "      <td>0.000000</td>\n",
              "      <td>0.000000</td>\n",
              "      <td>0.000000</td>\n",
              "    </tr>\n",
              "    <tr>\n",
              "      <th>50%</th>\n",
              "      <td>0.000000</td>\n",
              "      <td>1.227957e+08</td>\n",
              "      <td>0.000000</td>\n",
              "      <td>0.000000</td>\n",
              "      <td>0.000000</td>\n",
              "      <td>10.000000</td>\n",
              "      <td>249799.500000</td>\n",
              "      <td>0.000000</td>\n",
              "      <td>0.000000</td>\n",
              "      <td>0.000000</td>\n",
              "    </tr>\n",
              "    <tr>\n",
              "      <th>75%</th>\n",
              "      <td>0.000000</td>\n",
              "      <td>1.833084e+08</td>\n",
              "      <td>0.000000</td>\n",
              "      <td>0.000000</td>\n",
              "      <td>0.000000</td>\n",
              "      <td>12.000000</td>\n",
              "      <td>310266.000000</td>\n",
              "      <td>0.000000</td>\n",
              "      <td>0.000000</td>\n",
              "      <td>0.000000</td>\n",
              "    </tr>\n",
              "    <tr>\n",
              "      <th>max</th>\n",
              "      <td>1.000000</td>\n",
              "      <td>2.441405e+08</td>\n",
              "      <td>64968.000000</td>\n",
              "      <td>24929.000000</td>\n",
              "      <td>1666.000000</td>\n",
              "      <td>98.000000</td>\n",
              "      <td>689161.000000</td>\n",
              "      <td>832.000000</td>\n",
              "      <td>832.000000</td>\n",
              "      <td>18701.000000</td>\n",
              "    </tr>\n",
              "  </tbody>\n",
              "</table>\n",
              "</div>\n",
              "      <button class=\"colab-df-convert\" onclick=\"convertToInteractive('df-f33610f8-217c-4087-94d1-bcd2ff5bba0f')\"\n",
              "              title=\"Convert this dataframe to an interactive table.\"\n",
              "              style=\"display:none;\">\n",
              "        \n",
              "  <svg xmlns=\"http://www.w3.org/2000/svg\" height=\"24px\"viewBox=\"0 0 24 24\"\n",
              "       width=\"24px\">\n",
              "    <path d=\"M0 0h24v24H0V0z\" fill=\"none\"/>\n",
              "    <path d=\"M18.56 5.44l.94 2.06.94-2.06 2.06-.94-2.06-.94-.94-2.06-.94 2.06-2.06.94zm-11 1L8.5 8.5l.94-2.06 2.06-.94-2.06-.94L8.5 2.5l-.94 2.06-2.06.94zm10 10l.94 2.06.94-2.06 2.06-.94-2.06-.94-.94-2.06-.94 2.06-2.06.94z\"/><path d=\"M17.41 7.96l-1.37-1.37c-.4-.4-.92-.59-1.43-.59-.52 0-1.04.2-1.43.59L10.3 9.45l-7.72 7.72c-.78.78-.78 2.05 0 2.83L4 21.41c.39.39.9.59 1.41.59.51 0 1.02-.2 1.41-.59l7.78-7.78 2.81-2.81c.8-.78.8-2.07 0-2.86zM5.41 20L4 18.59l7.72-7.72 1.47 1.35L5.41 20z\"/>\n",
              "  </svg>\n",
              "      </button>\n",
              "      \n",
              "  <style>\n",
              "    .colab-df-container {\n",
              "      display:flex;\n",
              "      flex-wrap:wrap;\n",
              "      gap: 12px;\n",
              "    }\n",
              "\n",
              "    .colab-df-convert {\n",
              "      background-color: #E8F0FE;\n",
              "      border: none;\n",
              "      border-radius: 50%;\n",
              "      cursor: pointer;\n",
              "      display: none;\n",
              "      fill: #1967D2;\n",
              "      height: 32px;\n",
              "      padding: 0 0 0 0;\n",
              "      width: 32px;\n",
              "    }\n",
              "\n",
              "    .colab-df-convert:hover {\n",
              "      background-color: #E2EBFA;\n",
              "      box-shadow: 0px 1px 2px rgba(60, 64, 67, 0.3), 0px 1px 3px 1px rgba(60, 64, 67, 0.15);\n",
              "      fill: #174EA6;\n",
              "    }\n",
              "\n",
              "    [theme=dark] .colab-df-convert {\n",
              "      background-color: #3B4455;\n",
              "      fill: #D2E3FC;\n",
              "    }\n",
              "\n",
              "    [theme=dark] .colab-df-convert:hover {\n",
              "      background-color: #434B5C;\n",
              "      box-shadow: 0px 1px 3px 1px rgba(0, 0, 0, 0.15);\n",
              "      filter: drop-shadow(0px 1px 2px rgba(0, 0, 0, 0.3));\n",
              "      fill: #FFFFFF;\n",
              "    }\n",
              "  </style>\n",
              "\n",
              "      <script>\n",
              "        const buttonEl =\n",
              "          document.querySelector('#df-f33610f8-217c-4087-94d1-bcd2ff5bba0f button.colab-df-convert');\n",
              "        buttonEl.style.display =\n",
              "          google.colab.kernel.accessAllowed ? 'block' : 'none';\n",
              "\n",
              "        async function convertToInteractive(key) {\n",
              "          const element = document.querySelector('#df-f33610f8-217c-4087-94d1-bcd2ff5bba0f');\n",
              "          const dataTable =\n",
              "            await google.colab.kernel.invokeFunction('convertToInteractive',\n",
              "                                                     [key], {});\n",
              "          if (!dataTable) return;\n",
              "\n",
              "          const docLinkHtml = 'Like what you see? Visit the ' +\n",
              "            '<a target=\"_blank\" href=https://colab.research.google.com/notebooks/data_table.ipynb>data table notebook</a>'\n",
              "            + ' to learn more about interactive tables.';\n",
              "          element.innerHTML = '';\n",
              "          dataTable['output_type'] = 'display_data';\n",
              "          await google.colab.output.renderOutput(dataTable, element);\n",
              "          const docLink = document.createElement('div');\n",
              "          docLink.innerHTML = docLinkHtml;\n",
              "          element.appendChild(docLink);\n",
              "        }\n",
              "      </script>\n",
              "    </div>\n",
              "  </div>\n",
              "  "
            ]
          },
          "metadata": {},
          "execution_count": 517
        }
      ]
    },
    {
      "cell_type": "code",
      "source": [
        "abs(df.corr()[\"failure\"].sort_values(ascending=False))"
      ],
      "metadata": {
        "colab": {
          "base_uri": "https://localhost:8080/"
        },
        "id": "P10CVkUG6fjk",
        "outputId": "594a168c-8bf7-4c43-83ef-3429b600add2"
      },
      "execution_count": 518,
      "outputs": [
        {
          "output_type": "execute_result",
          "data": {
            "text/plain": [
              "failure       1.000000\n",
              "attribute7    0.119055\n",
              "attribute8    0.119055\n",
              "attribute4    0.067398\n",
              "attribute2    0.052902\n",
              "attribute5    0.002270\n",
              "attribute1    0.001984\n",
              "attribute9    0.001622\n",
              "attribute6    0.000550\n",
              "attribute3    0.000948\n",
              "Name: failure, dtype: float64"
            ]
          },
          "metadata": {},
          "execution_count": 518
        }
      ]
    },
    {
      "cell_type": "code",
      "source": [
        "fig, ax = plt.subplots(figsize=(10,7))\n",
        "sns.heatmap(df.corr(),annot=True,linewidths=0.5)"
      ],
      "metadata": {
        "colab": {
          "base_uri": "https://localhost:8080/",
          "height": 489
        },
        "id": "ZmoDcoeqi2HW",
        "outputId": "d0d57d9b-d5c8-4007-d033-1316c847850c"
      },
      "execution_count": 519,
      "outputs": [
        {
          "output_type": "execute_result",
          "data": {
            "text/plain": [
              "<matplotlib.axes._subplots.AxesSubplot at 0x7fdab3d89220>"
            ]
          },
          "metadata": {},
          "execution_count": 519
        },
        {
          "output_type": "display_data",
          "data": {
            "text/plain": [
              "<Figure size 720x504 with 2 Axes>"
            ],
            "image/png": "[encoded data removed]"
          },
          "metadata": {
            "needs_background": "light"
          }
        }
      ]
    },
    {
      "cell_type": "code",
      "source": [
        "df.device.value_counts()"
      ],
      "metadata": {
        "colab": {
          "base_uri": "https://localhost:8080/"
        },
        "id": "GeYoF9mYcxom",
        "outputId": "a68b6b61-cb00-45df-d52c-7f5bcef3371a"
      },
      "execution_count": 520,
      "outputs": [
        {
          "output_type": "execute_result",
          "data": {
            "text/plain": [
              "S1F0FGBQ    304\n",
              "W1F0SJJ2    304\n",
              "Z1F0GE1M    304\n",
              "Z1F0KJDS    304\n",
              "Z1F0KKN4    304\n",
              "           ... \n",
              "Z1F0LT6P      5\n",
              "Z1F0LT6Z      5\n",
              "W1F1CJKT      5\n",
              "S1F04KSC      4\n",
              "W1F0WJFT      3\n",
              "Name: device, Length: 1168, dtype: int64"
            ]
          },
          "metadata": {},
          "execution_count": 520
        }
      ]
    },
    {
      "cell_type": "code",
      "source": [
        "df.attribute7.value_counts()"
      ],
      "metadata": {
        "id": "2cwEeFNvw4dU",
        "colab": {
          "base_uri": "https://localhost:8080/"
        },
        "outputId": "ee385fce-43e9-409b-c31e-fdb3f02dc07c"
      },
      "execution_count": 521,
      "outputs": [
        {
          "output_type": "execute_result",
          "data": {
            "text/plain": [
              "0      123036\n",
              "8         793\n",
              "16        397\n",
              "24         65\n",
              "48         36\n",
              "32         35\n",
              "128        23\n",
              "40         20\n",
              "176        20\n",
              "6          13\n",
              "72         11\n",
              "96          7\n",
              "56          6\n",
              "312         5\n",
              "736         4\n",
              "80          4\n",
              "104         3\n",
              "152         2\n",
              "832         2\n",
              "272         2\n",
              "112         2\n",
              "22          2\n",
              "744         1\n",
              "216         1\n",
              "496         1\n",
              "240         1\n",
              "136         1\n",
              "424         1\n",
              "Name: attribute7, dtype: int64"
            ]
          },
          "metadata": {},
          "execution_count": 521
        }
      ]
    },
    {
      "cell_type": "code",
      "source": [
        "df.attribute8.value_counts()"
      ],
      "metadata": {
        "id": "ysn_kxxuw4kh",
        "colab": {
          "base_uri": "https://localhost:8080/"
        },
        "outputId": "08cf7c74-23f7-49cb-aee7-816111cbe9b0"
      },
      "execution_count": 522,
      "outputs": [
        {
          "output_type": "execute_result",
          "data": {
            "text/plain": [
              "0      123036\n",
              "8         793\n",
              "16        397\n",
              "24         65\n",
              "48         36\n",
              "32         35\n",
              "128        23\n",
              "40         20\n",
              "176        20\n",
              "6          13\n",
              "72         11\n",
              "96          7\n",
              "56          6\n",
              "312         5\n",
              "736         4\n",
              "80          4\n",
              "104         3\n",
              "152         2\n",
              "832         2\n",
              "272         2\n",
              "112         2\n",
              "22          2\n",
              "744         1\n",
              "216         1\n",
              "496         1\n",
              "240         1\n",
              "136         1\n",
              "424         1\n",
              "Name: attribute8, dtype: int64"
            ]
          },
          "metadata": {},
          "execution_count": 522
        }
      ]
    },
    {
      "cell_type": "code",
      "source": [
        "df.drop(\"attribute8\",axis=1,inplace=True)  #attribute7 and attribute 8 attribute are duplicated."
      ],
      "metadata": {
        "id": "_05BfWJJwbAP"
      },
      "execution_count": 523,
      "outputs": []
    },
    {
      "cell_type": "code",
      "source": [
        "df.attribute3.value_counts()"
      ],
      "metadata": {
        "colab": {
          "base_uri": "https://localhost:8080/"
        },
        "id": "4XK6ajAiDocF",
        "outputId": "6565ff8e-ca57-4d5e-abaa-403139a326c9"
      },
      "execution_count": 524,
      "outputs": [
        {
          "output_type": "execute_result",
          "data": {
            "text/plain": [
              "0        115359\n",
              "1          3274\n",
              "2           749\n",
              "7           298\n",
              "34          293\n",
              "5           278\n",
              "21          269\n",
              "4           268\n",
              "9           262\n",
              "8           251\n",
              "61          245\n",
              "100         245\n",
              "10          241\n",
              "1331        240\n",
              "220         240\n",
              "107         228\n",
              "15          225\n",
              "62          224\n",
              "2693        179\n",
              "318         177\n",
              "70          118\n",
              "3           113\n",
              "18          106\n",
              "56           96\n",
              "12           90\n",
              "72           84\n",
              "263          84\n",
              "406          84\n",
              "35           70\n",
              "11           14\n",
              "208          13\n",
              "14           12\n",
              "25            6\n",
              "2112          6\n",
              "323           6\n",
              "266           6\n",
              "377           6\n",
              "16            5\n",
              "382           5\n",
              "36            5\n",
              "53            5\n",
              "1326          5\n",
              "24929         4\n",
              "279           3\n",
              "24            1\n",
              "38            1\n",
              "1162          1\n",
              "Name: attribute3, dtype: int64"
            ]
          },
          "metadata": {},
          "execution_count": 524
        }
      ]
    },
    {
      "cell_type": "code",
      "source": [
        "df.attribute9.value_counts()"
      ],
      "metadata": {
        "colab": {
          "base_uri": "https://localhost:8080/"
        },
        "id": "OCTZNmT_DofS",
        "outputId": "7941a950-4b4e-4df4-993e-31a1e67c5236"
      },
      "execution_count": 525,
      "outputs": [
        {
          "output_type": "execute_result",
          "data": {
            "text/plain": [
              "0        97358\n",
              "1         9436\n",
              "2         3722\n",
              "3         2327\n",
              "4         1396\n",
              "         ...  \n",
              "1864         5\n",
              "10137        4\n",
              "30           3\n",
              "38           3\n",
              "2269         1\n",
              "Name: attribute9, Length: 65, dtype: int64"
            ]
          },
          "metadata": {},
          "execution_count": 525
        }
      ]
    },
    {
      "cell_type": "code",
      "source": [],
      "metadata": {
        "id": "rk4ZFXc6DoiX"
      },
      "execution_count": 525,
      "outputs": []
    },
    {
      "cell_type": "code",
      "source": [
        "df.device.nunique()  #1168 device"
      ],
      "metadata": {
        "colab": {
          "base_uri": "https://localhost:8080/"
        },
        "id": "TiScEdYAkgDe",
        "outputId": "bb50b960-f3c4-4fee-aeb0-bf931d4058c0"
      },
      "execution_count": 526,
      "outputs": [
        {
          "output_type": "execute_result",
          "data": {
            "text/plain": [
              "1168"
            ]
          },
          "metadata": {},
          "execution_count": 526
        }
      ]
    },
    {
      "cell_type": "code",
      "source": [
        "df[df.failure == 1]  #106 failure"
      ],
      "metadata": {
        "colab": {
          "base_uri": "https://localhost:8080/",
          "height": 424
        },
        "id": "47J_rMbqv2ZQ",
        "outputId": "e647387b-e95d-44c2-ee17-b3d192a43338"
      },
      "execution_count": 527,
      "outputs": [
        {
          "output_type": "execute_result",
          "data": {
            "text/plain": [
              "              date    device  failure  attribute1  attribute2  attribute3  \\\n",
              "4885    2015-01-05  S1F0RRB1        1    48467332       64776           0   \n",
              "6879    2015-01-07  S1F0CTDN        1   184069720         528           0   \n",
              "8823    2015-01-09  W1F0PNA5        1   136429411       64784           0   \n",
              "11957   2015-01-13  W1F13SRV        1   188251248        2040           0   \n",
              "12668   2015-01-14  W1F1230J        1   220461296           0           0   \n",
              "...            ...       ...      ...         ...         ...         ...   \n",
              "109927  2015-08-04  W1F1CB5E        1    16043296          88           0   \n",
              "114251  2015-08-18  Z1F0MRPJ        1    65654088           0           0   \n",
              "122118  2015-10-05  S1F0JGJV        1    13739704           0           0   \n",
              "122808  2015-10-09  Z1F14BGY        1    85259320           0           0   \n",
              "124329  2015-10-26  W1F0T0B1        1    95073232           0           0   \n",
              "\n",
              "        attribute4  attribute5  attribute6  attribute7  attribute9  \n",
              "4885           841           8       39267          56           1  \n",
              "6879             4           9      387871          32           3  \n",
              "8823           406          30      224801           8           0  \n",
              "11957            0           6       39345          32           1  \n",
              "12668            0          14      325125           0           0  \n",
              "...            ...         ...         ...         ...         ...  \n",
              "109927           0           9          30           0           0  \n",
              "114251           0           9      298592           0          11  \n",
              "122118          18           8      343760           0           0  \n",
              "122808         164           8      262932           0           0  \n",
              "124329           7           9      354861          22           0  \n",
              "\n",
              "[106 rows x 11 columns]"
            ],
            "text/html": [
              "\n",
              "  <div id=\"df-433b3de4-37fa-4cb5-b968-a9bd7c1ee202\">\n",
              "    <div class=\"colab-df-container\">\n",
              "      <div>\n",
              "<style scoped>\n",
              "    .dataframe tbody tr th:only-of-type {\n",
              "        vertical-align: middle;\n",
              "    }\n",
              "\n",
              "    .dataframe tbody tr th {\n",
              "        vertical-align: top;\n",
              "    }\n",
              "\n",
              "    .dataframe thead th {\n",
              "        text-align: right;\n",
              "    }\n",
              "</style>\n",
              "<table border=\"1\" class=\"dataframe\">\n",
              "  <thead>\n",
              "    <tr style=\"text-align: right;\">\n",
              "      <th></th>\n",
              "      <th>date</th>\n",
              "      <th>device</th>\n",
              "      <th>failure</th>\n",
              "      <th>attribute1</th>\n",
              "      <th>attribute2</th>\n",
              "      <th>attribute3</th>\n",
              "      <th>attribute4</th>\n",
              "      <th>attribute5</th>\n",
              "      <th>attribute6</th>\n",
              "      <th>attribute7</th>\n",
              "      <th>attribute9</th>\n",
              "    </tr>\n",
              "  </thead>\n",
              "  <tbody>\n",
              "    <tr>\n",
              "      <th>4885</th>\n",
              "      <td>2015-01-05</td>\n",
              "      <td>S1F0RRB1</td>\n",
              "      <td>1</td>\n",
              "      <td>48467332</td>\n",
              "      <td>64776</td>\n",
              "      <td>0</td>\n",
              "      <td>841</td>\n",
              "      <td>8</td>\n",
              "      <td>39267</td>\n",
              "      <td>56</td>\n",
              "      <td>1</td>\n",
              "    </tr>\n",
              "    <tr>\n",
              "      <th>6879</th>\n",
              "      <td>2015-01-07</td>\n",
              "      <td>S1F0CTDN</td>\n",
              "      <td>1</td>\n",
              "      <td>184069720</td>\n",
              "      <td>528</td>\n",
              "      <td>0</td>\n",
              "      <td>4</td>\n",
              "      <td>9</td>\n",
              "      <td>387871</td>\n",
              "      <td>32</td>\n",
              "      <td>3</td>\n",
              "    </tr>\n",
              "    <tr>\n",
              "      <th>8823</th>\n",
              "      <td>2015-01-09</td>\n",
              "      <td>W1F0PNA5</td>\n",
              "      <td>1</td>\n",
              "      <td>136429411</td>\n",
              "      <td>64784</td>\n",
              "      <td>0</td>\n",
              "      <td>406</td>\n",
              "      <td>30</td>\n",
              "      <td>224801</td>\n",
              "      <td>8</td>\n",
              "      <td>0</td>\n",
              "    </tr>\n",
              "    <tr>\n",
              "      <th>11957</th>\n",
              "      <td>2015-01-13</td>\n",
              "      <td>W1F13SRV</td>\n",
              "      <td>1</td>\n",
              "      <td>188251248</td>\n",
              "      <td>2040</td>\n",
              "      <td>0</td>\n",
              "      <td>0</td>\n",
              "      <td>6</td>\n",
              "      <td>39345</td>\n",
              "      <td>32</td>\n",
              "      <td>1</td>\n",
              "    </tr>\n",
              "    <tr>\n",
              "      <th>12668</th>\n",
              "      <td>2015-01-14</td>\n",
              "      <td>W1F1230J</td>\n",
              "      <td>1</td>\n",
              "      <td>220461296</td>\n",
              "      <td>0</td>\n",
              "      <td>0</td>\n",
              "      <td>0</td>\n",
              "      <td>14</td>\n",
              "      <td>325125</td>\n",
              "      <td>0</td>\n",
              "      <td>0</td>\n",
              "    </tr>\n",
              "    <tr>\n",
              "      <th>...</th>\n",
              "      <td>...</td>\n",
              "      <td>...</td>\n",
              "      <td>...</td>\n",
              "      <td>...</td>\n",
              "      <td>...</td>\n",
              "      <td>...</td>\n",
              "      <td>...</td>\n",
              "      <td>...</td>\n",
              "      <td>...</td>\n",
              "      <td>...</td>\n",
              "      <td>...</td>\n",
              "    </tr>\n",
              "    <tr>\n",
              "      <th>109927</th>\n",
              "      <td>2015-08-04</td>\n",
              "      <td>W1F1CB5E</td>\n",
              "      <td>1</td>\n",
              "      <td>16043296</td>\n",
              "      <td>88</td>\n",
              "      <td>0</td>\n",
              "      <td>0</td>\n",
              "      <td>9</td>\n",
              "      <td>30</td>\n",
              "      <td>0</td>\n",
              "      <td>0</td>\n",
              "    </tr>\n",
              "    <tr>\n",
              "      <th>114251</th>\n",
              "      <td>2015-08-18</td>\n",
              "      <td>Z1F0MRPJ</td>\n",
              "      <td>1</td>\n",
              "      <td>65654088</td>\n",
              "      <td>0</td>\n",
              "      <td>0</td>\n",
              "      <td>0</td>\n",
              "      <td>9</td>\n",
              "      <td>298592</td>\n",
              "      <td>0</td>\n",
              "      <td>11</td>\n",
              "    </tr>\n",
              "    <tr>\n",
              "      <th>122118</th>\n",
              "      <td>2015-10-05</td>\n",
              "      <td>S1F0JGJV</td>\n",
              "      <td>1</td>\n",
              "      <td>13739704</td>\n",
              "      <td>0</td>\n",
              "      <td>0</td>\n",
              "      <td>18</td>\n",
              "      <td>8</td>\n",
              "      <td>343760</td>\n",
              "      <td>0</td>\n",
              "      <td>0</td>\n",
              "    </tr>\n",
              "    <tr>\n",
              "      <th>122808</th>\n",
              "      <td>2015-10-09</td>\n",
              "      <td>Z1F14BGY</td>\n",
              "      <td>1</td>\n",
              "      <td>85259320</td>\n",
              "      <td>0</td>\n",
              "      <td>0</td>\n",
              "      <td>164</td>\n",
              "      <td>8</td>\n",
              "      <td>262932</td>\n",
              "      <td>0</td>\n",
              "      <td>0</td>\n",
              "    </tr>\n",
              "    <tr>\n",
              "      <th>124329</th>\n",
              "      <td>2015-10-26</td>\n",
              "      <td>W1F0T0B1</td>\n",
              "      <td>1</td>\n",
              "      <td>95073232</td>\n",
              "      <td>0</td>\n",
              "      <td>0</td>\n",
              "      <td>7</td>\n",
              "      <td>9</td>\n",
              "      <td>354861</td>\n",
              "      <td>22</td>\n",
              "      <td>0</td>\n",
              "    </tr>\n",
              "  </tbody>\n",
              "</table>\n",
              "<p>106 rows × 11 columns</p>\n",
              "</div>\n",
              "      <button class=\"colab-df-convert\" onclick=\"convertToInteractive('df-433b3de4-37fa-4cb5-b968-a9bd7c1ee202')\"\n",
              "              title=\"Convert this dataframe to an interactive table.\"\n",
              "              style=\"display:none;\">\n",
              "        \n",
              "  <svg xmlns=\"http://www.w3.org/2000/svg\" height=\"24px\"viewBox=\"0 0 24 24\"\n",
              "       width=\"24px\">\n",
              "    <path d=\"M0 0h24v24H0V0z\" fill=\"none\"/>\n",
              "    <path d=\"M18.56 5.44l.94 2.06.94-2.06 2.06-.94-2.06-.94-.94-2.06-.94 2.06-2.06.94zm-11 1L8.5 8.5l.94-2.06 2.06-.94-2.06-.94L8.5 2.5l-.94 2.06-2.06.94zm10 10l.94 2.06.94-2.06 2.06-.94-2.06-.94-.94-2.06-.94 2.06-2.06.94z\"/><path d=\"M17.41 7.96l-1.37-1.37c-.4-.4-.92-.59-1.43-.59-.52 0-1.04.2-1.43.59L10.3 9.45l-7.72 7.72c-.78.78-.78 2.05 0 2.83L4 21.41c.39.39.9.59 1.41.59.51 0 1.02-.2 1.41-.59l7.78-7.78 2.81-2.81c.8-.78.8-2.07 0-2.86zM5.41 20L4 18.59l7.72-7.72 1.47 1.35L5.41 20z\"/>\n",
              "  </svg>\n",
              "      </button>\n",
              "      \n",
              "  <style>\n",
              "    .colab-df-container {\n",
              "      display:flex;\n",
              "      flex-wrap:wrap;\n",
              "      gap: 12px;\n",
              "    }\n",
              "\n",
              "    .colab-df-convert {\n",
              "      background-color: #E8F0FE;\n",
              "      border: none;\n",
              "      border-radius: 50%;\n",
              "      cursor: pointer;\n",
              "      display: none;\n",
              "      fill: #1967D2;\n",
              "      height: 32px;\n",
              "      padding: 0 0 0 0;\n",
              "      width: 32px;\n",
              "    }\n",
              "\n",
              "    .colab-df-convert:hover {\n",
              "      background-color: #E2EBFA;\n",
              "      box-shadow: 0px 1px 2px rgba(60, 64, 67, 0.3), 0px 1px 3px 1px rgba(60, 64, 67, 0.15);\n",
              "      fill: #174EA6;\n",
              "    }\n",
              "\n",
              "    [theme=dark] .colab-df-convert {\n",
              "      background-color: #3B4455;\n",
              "      fill: #D2E3FC;\n",
              "    }\n",
              "\n",
              "    [theme=dark] .colab-df-convert:hover {\n",
              "      background-color: #434B5C;\n",
              "      box-shadow: 0px 1px 3px 1px rgba(0, 0, 0, 0.15);\n",
              "      filter: drop-shadow(0px 1px 2px rgba(0, 0, 0, 0.3));\n",
              "      fill: #FFFFFF;\n",
              "    }\n",
              "  </style>\n",
              "\n",
              "      <script>\n",
              "        const buttonEl =\n",
              "          document.querySelector('#df-433b3de4-37fa-4cb5-b968-a9bd7c1ee202 button.colab-df-convert');\n",
              "        buttonEl.style.display =\n",
              "          google.colab.kernel.accessAllowed ? 'block' : 'none';\n",
              "\n",
              "        async function convertToInteractive(key) {\n",
              "          const element = document.querySelector('#df-433b3de4-37fa-4cb5-b968-a9bd7c1ee202');\n",
              "          const dataTable =\n",
              "            await google.colab.kernel.invokeFunction('convertToInteractive',\n",
              "                                                     [key], {});\n",
              "          if (!dataTable) return;\n",
              "\n",
              "          const docLinkHtml = 'Like what you see? Visit the ' +\n",
              "            '<a target=\"_blank\" href=https://colab.research.google.com/notebooks/data_table.ipynb>data table notebook</a>'\n",
              "            + ' to learn more about interactive tables.';\n",
              "          element.innerHTML = '';\n",
              "          dataTable['output_type'] = 'display_data';\n",
              "          await google.colab.output.renderOutput(dataTable, element);\n",
              "          const docLink = document.createElement('div');\n",
              "          docLink.innerHTML = docLinkHtml;\n",
              "          element.appendChild(docLink);\n",
              "        }\n",
              "      </script>\n",
              "    </div>\n",
              "  </div>\n",
              "  "
            ]
          },
          "metadata": {},
          "execution_count": 527
        }
      ]
    },
    {
      "cell_type": "code",
      "source": [
        "df.info()"
      ],
      "metadata": {
        "colab": {
          "base_uri": "https://localhost:8080/"
        },
        "id": "fI-uS5Ek4glg",
        "outputId": "7e4844eb-0ff9-406e-99ed-e7196337d571"
      },
      "execution_count": 528,
      "outputs": [
        {
          "output_type": "stream",
          "name": "stdout",
          "text": [
            "<class 'pandas.core.frame.DataFrame'>\n",
            "RangeIndex: 124494 entries, 0 to 124493\n",
            "Data columns (total 11 columns):\n",
            " #   Column      Non-Null Count   Dtype \n",
            "---  ------      --------------   ----- \n",
            " 0   date        124494 non-null  object\n",
            " 1   device      124494 non-null  object\n",
            " 2   failure     124494 non-null  int64 \n",
            " 3   attribute1  124494 non-null  int64 \n",
            " 4   attribute2  124494 non-null  int64 \n",
            " 5   attribute3  124494 non-null  int64 \n",
            " 6   attribute4  124494 non-null  int64 \n",
            " 7   attribute5  124494 non-null  int64 \n",
            " 8   attribute6  124494 non-null  int64 \n",
            " 9   attribute7  124494 non-null  int64 \n",
            " 10  attribute9  124494 non-null  int64 \n",
            "dtypes: int64(9), object(2)\n",
            "memory usage: 10.4+ MB\n"
          ]
        }
      ]
    },
    {
      "cell_type": "code",
      "source": [
        "df[\"date\"]=pd.to_datetime(df[\"date\"])\n",
        "df[\"year\"]=df[\"date\"].dt.year\n",
        "df[\"month\"]=df[\"date\"].dt.month\n",
        "df[\"day\"]=df[\"date\"].dt.day"
      ],
      "metadata": {
        "id": "A9QJ1cmocPfC"
      },
      "execution_count": 529,
      "outputs": []
    },
    {
      "cell_type": "code",
      "source": [
        "#df.year.value_counts()  #all years are 2015.\n",
        "#df.month.value_counts()\n",
        "#df.day.value_counts()"
      ],
      "metadata": {
        "id": "_rnmSw_acU1T"
      },
      "execution_count": 530,
      "outputs": []
    },
    {
      "cell_type": "code",
      "source": [
        "plt.plot(df.groupby(\"month\")[\"failure\"].mean());"
      ],
      "metadata": {
        "colab": {
          "base_uri": "https://localhost:8080/",
          "height": 265
        },
        "id": "c0vRA9ircU4U",
        "outputId": "92c79ebc-fa0d-4db1-df3b-41d8bbe558f1"
      },
      "execution_count": 531,
      "outputs": [
        {
          "output_type": "display_data",
          "data": {
            "text/plain": [
              "<Figure size 432x288 with 1 Axes>"
            ],
            "image/png": "[encoded data removed]"
          },
          "metadata": {
            "needs_background": "light"
          }
        }
      ]
    },
    {
      "cell_type": "code",
      "source": [
        "df1 = pd.DataFrame()\n",
        "#df1[\"workday\"]= df.groupby(\"device\")[\"date\"].max()-df.groupby(\"device\")[\"date\"].min()\n",
        "#df1[\"workday\"]=df1[\"workday\"].dt.days\n",
        "#df1[\"workday\"]"
      ],
      "metadata": {
        "id": "MvChUA6CcU7O"
      },
      "execution_count": 532,
      "outputs": []
    },
    {
      "cell_type": "code",
      "source": [
        "for i in df.columns :\n",
        "\n",
        "  df1[i] = df.groupby(\"device\")[i].max()"
      ],
      "metadata": {
        "id": "mmexDNZycU-u"
      },
      "execution_count": 533,
      "outputs": []
    },
    {
      "cell_type": "code",
      "source": [
        "df1.shape,df.shape"
      ],
      "metadata": {
        "colab": {
          "base_uri": "https://localhost:8080/"
        },
        "id": "SQ6fs2e_ez9Y",
        "outputId": "9e50e0a2-b912-4160-fd16-d6ab4a862ac0"
      },
      "execution_count": 534,
      "outputs": [
        {
          "output_type": "execute_result",
          "data": {
            "text/plain": [
              "((1168, 14), (124494, 14))"
            ]
          },
          "metadata": {},
          "execution_count": 534
        }
      ]
    },
    {
      "cell_type": "code",
      "source": [
        "df1[\"workday\"]= df.groupby(\"device\")[\"date\"].max()-df.groupby(\"device\")[\"date\"].min()\n",
        "df1[\"workday\"]=df1[\"workday\"].dt.days\n",
        "df1[\"workday\"]"
      ],
      "metadata": {
        "colab": {
          "base_uri": "https://localhost:8080/"
        },
        "id": "XcGADPoUfYb0",
        "outputId": "26760c67-3716-42a2-cef3-a2b9a48bfef7"
      },
      "execution_count": 535,
      "outputs": [
        {
          "output_type": "execute_result",
          "data": {
            "text/plain": [
              "device\n",
              "S1F01085      5\n",
              "S1F013BB      5\n",
              "S1F0166B      5\n",
              "S1F01E6Y     47\n",
              "S1F01JE0      5\n",
              "           ... \n",
              "Z1F1VMZB    291\n",
              "Z1F1VQFY    180\n",
              "Z1F26YZB     83\n",
              "Z1F282ZV     83\n",
              "Z1F2PBHX     95\n",
              "Name: workday, Length: 1168, dtype: int64"
            ]
          },
          "metadata": {},
          "execution_count": 535
        }
      ]
    },
    {
      "cell_type": "code",
      "source": [
        "df1.info()"
      ],
      "metadata": {
        "colab": {
          "base_uri": "https://localhost:8080/"
        },
        "id": "M8-X-VkEftIH",
        "outputId": "d3d15a00-f75e-4398-aa99-6be77c97ae2b"
      },
      "execution_count": 536,
      "outputs": [
        {
          "output_type": "stream",
          "name": "stdout",
          "text": [
            "<class 'pandas.core.frame.DataFrame'>\n",
            "Index: 1168 entries, S1F01085 to Z1F2PBHX\n",
            "Data columns (total 15 columns):\n",
            " #   Column      Non-Null Count  Dtype         \n",
            "---  ------      --------------  -----         \n",
            " 0   date        1168 non-null   datetime64[ns]\n",
            " 1   device      1168 non-null   object        \n",
            " 2   failure     1168 non-null   int64         \n",
            " 3   attribute1  1168 non-null   int64         \n",
            " 4   attribute2  1168 non-null   int64         \n",
            " 5   attribute3  1168 non-null   int64         \n",
            " 6   attribute4  1168 non-null   int64         \n",
            " 7   attribute5  1168 non-null   int64         \n",
            " 8   attribute6  1168 non-null   int64         \n",
            " 9   attribute7  1168 non-null   int64         \n",
            " 10  attribute9  1168 non-null   int64         \n",
            " 11  year        1168 non-null   int64         \n",
            " 12  month       1168 non-null   int64         \n",
            " 13  day         1168 non-null   int64         \n",
            " 14  workday     1168 non-null   int64         \n",
            "dtypes: datetime64[ns](1), int64(13), object(1)\n",
            "memory usage: 178.3+ KB\n"
          ]
        }
      ]
    },
    {
      "cell_type": "code",
      "source": [
        "df1.drop([\"date\",\"year\",\"day\"],axis=1,inplace=True)"
      ],
      "metadata": {
        "id": "nN0Wou8Cfw1P"
      },
      "execution_count": 537,
      "outputs": []
    },
    {
      "cell_type": "code",
      "source": [
        "df1.shape"
      ],
      "metadata": {
        "colab": {
          "base_uri": "https://localhost:8080/"
        },
        "id": "4Ai90e44f_q-",
        "outputId": "b570b680-f47c-454c-885d-55fbd6f24c97"
      },
      "execution_count": 538,
      "outputs": [
        {
          "output_type": "execute_result",
          "data": {
            "text/plain": [
              "(1168, 12)"
            ]
          },
          "metadata": {},
          "execution_count": 538
        }
      ]
    },
    {
      "cell_type": "code",
      "source": [
        "df1.info()"
      ],
      "metadata": {
        "colab": {
          "base_uri": "https://localhost:8080/"
        },
        "id": "qaUe4rJXhLh5",
        "outputId": "d71ede9d-194a-45d4-f435-f9103f547074"
      },
      "execution_count": 539,
      "outputs": [
        {
          "output_type": "stream",
          "name": "stdout",
          "text": [
            "<class 'pandas.core.frame.DataFrame'>\n",
            "Index: 1168 entries, S1F01085 to Z1F2PBHX\n",
            "Data columns (total 12 columns):\n",
            " #   Column      Non-Null Count  Dtype \n",
            "---  ------      --------------  ----- \n",
            " 0   device      1168 non-null   object\n",
            " 1   failure     1168 non-null   int64 \n",
            " 2   attribute1  1168 non-null   int64 \n",
            " 3   attribute2  1168 non-null   int64 \n",
            " 4   attribute3  1168 non-null   int64 \n",
            " 5   attribute4  1168 non-null   int64 \n",
            " 6   attribute5  1168 non-null   int64 \n",
            " 7   attribute6  1168 non-null   int64 \n",
            " 8   attribute7  1168 non-null   int64 \n",
            " 9   attribute9  1168 non-null   int64 \n",
            " 10  month       1168 non-null   int64 \n",
            " 11  workday     1168 non-null   int64 \n",
            "dtypes: int64(11), object(1)\n",
            "memory usage: 150.9+ KB\n"
          ]
        }
      ]
    },
    {
      "cell_type": "code",
      "source": [
        "df1.columns"
      ],
      "metadata": {
        "colab": {
          "base_uri": "https://localhost:8080/"
        },
        "id": "jtVq-qtTiXMF",
        "outputId": "4300888f-2fee-4622-9e5a-c741f39b488c"
      },
      "execution_count": 540,
      "outputs": [
        {
          "output_type": "execute_result",
          "data": {
            "text/plain": [
              "Index(['device', 'failure', 'attribute1', 'attribute2', 'attribute3',\n",
              "       'attribute4', 'attribute5', 'attribute6', 'attribute7', 'attribute9',\n",
              "       'month', 'workday'],\n",
              "      dtype='object')"
            ]
          },
          "metadata": {},
          "execution_count": 540
        }
      ]
    },
    {
      "cell_type": "code",
      "source": [
        "from sklearn.preprocessing import StandardScaler\n",
        "scaler = StandardScaler()"
      ],
      "metadata": {
        "id": "3cIOUz8lhrCF"
      },
      "execution_count": 541,
      "outputs": []
    },
    {
      "cell_type": "code",
      "source": [
        "df1[['attribute1', 'attribute2', 'attribute3',\n",
        "       'attribute4', 'attribute5', 'attribute6', 'attribute7', 'attribute9',\n",
        "       'month', 'workday']]=scaler.fit_transform(df1[['attribute1', 'attribute2', 'attribute3',\n",
        "       'attribute4', 'attribute5', 'attribute6', 'attribute7', 'attribute9',\n",
        "       'month', 'workday']])"
      ],
      "metadata": {
        "id": "Fm5PrcC6h0Y0"
      },
      "execution_count": 542,
      "outputs": []
    },
    {
      "cell_type": "code",
      "source": [
        "df1.shape"
      ],
      "metadata": {
        "colab": {
          "base_uri": "https://localhost:8080/"
        },
        "id": "U0pxKLL5i5Cx",
        "outputId": "e9b33705-18ae-44f4-f591-e26549021f58"
      },
      "execution_count": 543,
      "outputs": [
        {
          "output_type": "execute_result",
          "data": {
            "text/plain": [
              "(1168, 12)"
            ]
          },
          "metadata": {},
          "execution_count": 543
        }
      ]
    },
    {
      "cell_type": "code",
      "source": [
        "df1.info()"
      ],
      "metadata": {
        "colab": {
          "base_uri": "https://localhost:8080/"
        },
        "id": "hdGivfSXkoKl",
        "outputId": "6380b3e0-ff08-451c-ea3b-ac15c1980811"
      },
      "execution_count": 544,
      "outputs": [
        {
          "output_type": "stream",
          "name": "stdout",
          "text": [
            "<class 'pandas.core.frame.DataFrame'>\n",
            "Index: 1168 entries, S1F01085 to Z1F2PBHX\n",
            "Data columns (total 12 columns):\n",
            " #   Column      Non-Null Count  Dtype  \n",
            "---  ------      --------------  -----  \n",
            " 0   device      1168 non-null   object \n",
            " 1   failure     1168 non-null   int64  \n",
            " 2   attribute1  1168 non-null   float64\n",
            " 3   attribute2  1168 non-null   float64\n",
            " 4   attribute3  1168 non-null   float64\n",
            " 5   attribute4  1168 non-null   float64\n",
            " 6   attribute5  1168 non-null   float64\n",
            " 7   attribute6  1168 non-null   float64\n",
            " 8   attribute7  1168 non-null   float64\n",
            " 9   attribute9  1168 non-null   float64\n",
            " 10  month       1168 non-null   float64\n",
            " 11  workday     1168 non-null   float64\n",
            "dtypes: float64(10), int64(1), object(1)\n",
            "memory usage: 150.9+ KB\n"
          ]
        }
      ]
    },
    {
      "cell_type": "code",
      "source": [
        "columns =['failure', 'attribute1','attribute6','attribute2', 'attribute3',\n",
        "       'attribute4', 'attribute5', 'attribute7', 'attribute9',\n",
        "       'month', 'workday']\n",
        "for i in columns:\n",
        "  df1[i] = df1[i].astype(int)\n",
        "  "
      ],
      "metadata": {
        "id": "2hGTzrbNM0L6"
      },
      "execution_count": 545,
      "outputs": []
    },
    {
      "cell_type": "code",
      "source": [
        "df1.info()"
      ],
      "metadata": {
        "colab": {
          "base_uri": "https://localhost:8080/"
        },
        "id": "D5bG7OSHnOxy",
        "outputId": "5b3a8f86-d3b0-4775-9502-9056404647cb"
      },
      "execution_count": 546,
      "outputs": [
        {
          "output_type": "stream",
          "name": "stdout",
          "text": [
            "<class 'pandas.core.frame.DataFrame'>\n",
            "Index: 1168 entries, S1F01085 to Z1F2PBHX\n",
            "Data columns (total 12 columns):\n",
            " #   Column      Non-Null Count  Dtype \n",
            "---  ------      --------------  ----- \n",
            " 0   device      1168 non-null   object\n",
            " 1   failure     1168 non-null   int64 \n",
            " 2   attribute1  1168 non-null   int64 \n",
            " 3   attribute2  1168 non-null   int64 \n",
            " 4   attribute3  1168 non-null   int64 \n",
            " 5   attribute4  1168 non-null   int64 \n",
            " 6   attribute5  1168 non-null   int64 \n",
            " 7   attribute6  1168 non-null   int64 \n",
            " 8   attribute7  1168 non-null   int64 \n",
            " 9   attribute9  1168 non-null   int64 \n",
            " 10  month       1168 non-null   int64 \n",
            " 11  workday     1168 non-null   int64 \n",
            "dtypes: int64(11), object(1)\n",
            "memory usage: 150.9+ KB\n"
          ]
        }
      ]
    },
    {
      "cell_type": "code",
      "source": [
        "liste=list()\n",
        "\n",
        "for i in df.groupby(\"device\")[\"device\"]:\n",
        "  liste.append(i[0][0:3])\n",
        "\n",
        "df1[\"device_type\"]=liste\n",
        "df1[\"device_type\"]"
      ],
      "metadata": {
        "colab": {
          "base_uri": "https://localhost:8080/"
        },
        "id": "r3SGd_qTJBM6",
        "outputId": "5ba7d099-7ac6-452b-fc19-5c495cb6824b"
      },
      "execution_count": 547,
      "outputs": [
        {
          "output_type": "execute_result",
          "data": {
            "text/plain": [
              "device\n",
              "S1F01085    S1F\n",
              "S1F013BB    S1F\n",
              "S1F0166B    S1F\n",
              "S1F01E6Y    S1F\n",
              "S1F01JE0    S1F\n",
              "           ... \n",
              "Z1F1VMZB    Z1F\n",
              "Z1F1VQFY    Z1F\n",
              "Z1F26YZB    Z1F\n",
              "Z1F282ZV    Z1F\n",
              "Z1F2PBHX    Z1F\n",
              "Name: device_type, Length: 1168, dtype: object"
            ]
          },
          "metadata": {},
          "execution_count": 547
        }
      ]
    },
    {
      "cell_type": "code",
      "source": [
        "df1.head()"
      ],
      "metadata": {
        "colab": {
          "base_uri": "https://localhost:8080/",
          "height": 237
        },
        "id": "l-h3E1JvJIOi",
        "outputId": "a600d82f-97fc-440a-c19c-db9f282d3f7c"
      },
      "execution_count": 548,
      "outputs": [
        {
          "output_type": "execute_result",
          "data": {
            "text/plain": [
              "            device  failure  attribute1  attribute2  attribute3  attribute4  \\\n",
              "device                                                                        \n",
              "S1F01085  S1F01085        0           0           0           0           0   \n",
              "S1F013BB  S1F013BB        0           0           0           0           0   \n",
              "S1F0166B  S1F0166B        0           0           0           0           0   \n",
              "S1F01E6Y  S1F01E6Y        0           0           0           0           0   \n",
              "S1F01JE0  S1F01JE0        0           0           0           0           0   \n",
              "\n",
              "          attribute5  attribute6  attribute7  attribute9  month  workday  \\\n",
              "device                                                                     \n",
              "S1F01085           0           1           0           0      0       -1   \n",
              "S1F013BB           0           4           0           0      0       -1   \n",
              "S1F0166B           0           1           0           0      0       -1   \n",
              "S1F01E6Y           0           0           0           0      0        0   \n",
              "S1F01JE0           0           1           0           0      0       -1   \n",
              "\n",
              "         device_type  \n",
              "device                \n",
              "S1F01085         S1F  \n",
              "S1F013BB         S1F  \n",
              "S1F0166B         S1F  \n",
              "S1F01E6Y         S1F  \n",
              "S1F01JE0         S1F  "
            ],
            "text/html": [
              "\n",
              "  <div id=\"df-14f2cff8-74d5-437c-8c33-38f43f88361f\">\n",
              "    <div class=\"colab-df-container\">\n",
              "      <div>\n",
              "<style scoped>\n",
              "    .dataframe tbody tr th:only-of-type {\n",
              "        vertical-align: middle;\n",
              "    }\n",
              "\n",
              "    .dataframe tbody tr th {\n",
              "        vertical-align: top;\n",
              "    }\n",
              "\n",
              "    .dataframe thead th {\n",
              "        text-align: right;\n",
              "    }\n",
              "</style>\n",
              "<table border=\"1\" class=\"dataframe\">\n",
              "  <thead>\n",
              "    <tr style=\"text-align: right;\">\n",
              "      <th></th>\n",
              "      <th>device</th>\n",
              "      <th>failure</th>\n",
              "      <th>attribute1</th>\n",
              "      <th>attribute2</th>\n",
              "      <th>attribute3</th>\n",
              "      <th>attribute4</th>\n",
              "      <th>attribute5</th>\n",
              "      <th>attribute6</th>\n",
              "      <th>attribute7</th>\n",
              "      <th>attribute9</th>\n",
              "      <th>month</th>\n",
              "      <th>workday</th>\n",
              "      <th>device_type</th>\n",
              "    </tr>\n",
              "    <tr>\n",
              "      <th>device</th>\n",
              "      <th></th>\n",
              "      <th></th>\n",
              "      <th></th>\n",
              "      <th></th>\n",
              "      <th></th>\n",
              "      <th></th>\n",
              "      <th></th>\n",
              "      <th></th>\n",
              "      <th></th>\n",
              "      <th></th>\n",
              "      <th></th>\n",
              "      <th></th>\n",
              "      <th></th>\n",
              "    </tr>\n",
              "  </thead>\n",
              "  <tbody>\n",
              "    <tr>\n",
              "      <th>S1F01085</th>\n",
              "      <td>S1F01085</td>\n",
              "      <td>0</td>\n",
              "      <td>0</td>\n",
              "      <td>0</td>\n",
              "      <td>0</td>\n",
              "      <td>0</td>\n",
              "      <td>0</td>\n",
              "      <td>1</td>\n",
              "      <td>0</td>\n",
              "      <td>0</td>\n",
              "      <td>0</td>\n",
              "      <td>-1</td>\n",
              "      <td>S1F</td>\n",
              "    </tr>\n",
              "    <tr>\n",
              "      <th>S1F013BB</th>\n",
              "      <td>S1F013BB</td>\n",
              "      <td>0</td>\n",
              "      <td>0</td>\n",
              "      <td>0</td>\n",
              "      <td>0</td>\n",
              "      <td>0</td>\n",
              "      <td>0</td>\n",
              "      <td>4</td>\n",
              "      <td>0</td>\n",
              "      <td>0</td>\n",
              "      <td>0</td>\n",
              "      <td>-1</td>\n",
              "      <td>S1F</td>\n",
              "    </tr>\n",
              "    <tr>\n",
              "      <th>S1F0166B</th>\n",
              "      <td>S1F0166B</td>\n",
              "      <td>0</td>\n",
              "      <td>0</td>\n",
              "      <td>0</td>\n",
              "      <td>0</td>\n",
              "      <td>0</td>\n",
              "      <td>0</td>\n",
              "      <td>1</td>\n",
              "      <td>0</td>\n",
              "      <td>0</td>\n",
              "      <td>0</td>\n",
              "      <td>-1</td>\n",
              "      <td>S1F</td>\n",
              "    </tr>\n",
              "    <tr>\n",
              "      <th>S1F01E6Y</th>\n",
              "      <td>S1F01E6Y</td>\n",
              "      <td>0</td>\n",
              "      <td>0</td>\n",
              "      <td>0</td>\n",
              "      <td>0</td>\n",
              "      <td>0</td>\n",
              "      <td>0</td>\n",
              "      <td>0</td>\n",
              "      <td>0</td>\n",
              "      <td>0</td>\n",
              "      <td>0</td>\n",
              "      <td>0</td>\n",
              "      <td>S1F</td>\n",
              "    </tr>\n",
              "    <tr>\n",
              "      <th>S1F01JE0</th>\n",
              "      <td>S1F01JE0</td>\n",
              "      <td>0</td>\n",
              "      <td>0</td>\n",
              "      <td>0</td>\n",
              "      <td>0</td>\n",
              "      <td>0</td>\n",
              "      <td>0</td>\n",
              "      <td>1</td>\n",
              "      <td>0</td>\n",
              "      <td>0</td>\n",
              "      <td>0</td>\n",
              "      <td>-1</td>\n",
              "      <td>S1F</td>\n",
              "    </tr>\n",
              "  </tbody>\n",
              "</table>\n",
              "</div>\n",
              "      <button class=\"colab-df-convert\" onclick=\"convertToInteractive('df-14f2cff8-74d5-437c-8c33-38f43f88361f')\"\n",
              "              title=\"Convert this dataframe to an interactive table.\"\n",
              "              style=\"display:none;\">\n",
              "        \n",
              "  <svg xmlns=\"http://www.w3.org/2000/svg\" height=\"24px\"viewBox=\"0 0 24 24\"\n",
              "       width=\"24px\">\n",
              "    <path d=\"M0 0h24v24H0V0z\" fill=\"none\"/>\n",
              "    <path d=\"M18.56 5.44l.94 2.06.94-2.06 2.06-.94-2.06-.94-.94-2.06-.94 2.06-2.06.94zm-11 1L8.5 8.5l.94-2.06 2.06-.94-2.06-.94L8.5 2.5l-.94 2.06-2.06.94zm10 10l.94 2.06.94-2.06 2.06-.94-2.06-.94-.94-2.06-.94 2.06-2.06.94z\"/><path d=\"M17.41 7.96l-1.37-1.37c-.4-.4-.92-.59-1.43-.59-.52 0-1.04.2-1.43.59L10.3 9.45l-7.72 7.72c-.78.78-.78 2.05 0 2.83L4 21.41c.39.39.9.59 1.41.59.51 0 1.02-.2 1.41-.59l7.78-7.78 2.81-2.81c.8-.78.8-2.07 0-2.86zM5.41 20L4 18.59l7.72-7.72 1.47 1.35L5.41 20z\"/>\n",
              "  </svg>\n",
              "      </button>\n",
              "      \n",
              "  <style>\n",
              "    .colab-df-container {\n",
              "      display:flex;\n",
              "      flex-wrap:wrap;\n",
              "      gap: 12px;\n",
              "    }\n",
              "\n",
              "    .colab-df-convert {\n",
              "      background-color: #E8F0FE;\n",
              "      border: none;\n",
              "      border-radius: 50%;\n",
              "      cursor: pointer;\n",
              "      display: none;\n",
              "      fill: #1967D2;\n",
              "      height: 32px;\n",
              "      padding: 0 0 0 0;\n",
              "      width: 32px;\n",
              "    }\n",
              "\n",
              "    .colab-df-convert:hover {\n",
              "      background-color: #E2EBFA;\n",
              "      box-shadow: 0px 1px 2px rgba(60, 64, 67, 0.3), 0px 1px 3px 1px rgba(60, 64, 67, 0.15);\n",
              "      fill: #174EA6;\n",
              "    }\n",
              "\n",
              "    [theme=dark] .colab-df-convert {\n",
              "      background-color: #3B4455;\n",
              "      fill: #D2E3FC;\n",
              "    }\n",
              "\n",
              "    [theme=dark] .colab-df-convert:hover {\n",
              "      background-color: #434B5C;\n",
              "      box-shadow: 0px 1px 3px 1px rgba(0, 0, 0, 0.15);\n",
              "      filter: drop-shadow(0px 1px 2px rgba(0, 0, 0, 0.3));\n",
              "      fill: #FFFFFF;\n",
              "    }\n",
              "  </style>\n",
              "\n",
              "      <script>\n",
              "        const buttonEl =\n",
              "          document.querySelector('#df-14f2cff8-74d5-437c-8c33-38f43f88361f button.colab-df-convert');\n",
              "        buttonEl.style.display =\n",
              "          google.colab.kernel.accessAllowed ? 'block' : 'none';\n",
              "\n",
              "        async function convertToInteractive(key) {\n",
              "          const element = document.querySelector('#df-14f2cff8-74d5-437c-8c33-38f43f88361f');\n",
              "          const dataTable =\n",
              "            await google.colab.kernel.invokeFunction('convertToInteractive',\n",
              "                                                     [key], {});\n",
              "          if (!dataTable) return;\n",
              "\n",
              "          const docLinkHtml = 'Like what you see? Visit the ' +\n",
              "            '<a target=\"_blank\" href=https://colab.research.google.com/notebooks/data_table.ipynb>data table notebook</a>'\n",
              "            + ' to learn more about interactive tables.';\n",
              "          element.innerHTML = '';\n",
              "          dataTable['output_type'] = 'display_data';\n",
              "          await google.colab.output.renderOutput(dataTable, element);\n",
              "          const docLink = document.createElement('div');\n",
              "          docLink.innerHTML = docLinkHtml;\n",
              "          element.appendChild(docLink);\n",
              "        }\n",
              "      </script>\n",
              "    </div>\n",
              "  </div>\n",
              "  "
            ]
          },
          "metadata": {},
          "execution_count": 548
        }
      ]
    },
    {
      "cell_type": "code",
      "source": [
        "df.drop(\"device\",axis=1,inplace=True)"
      ],
      "metadata": {
        "id": "12klVJdZJWss"
      },
      "execution_count": 549,
      "outputs": []
    },
    {
      "cell_type": "code",
      "source": [
        "df1=pd.get_dummies(df1,drop_first=True)"
      ],
      "metadata": {
        "id": "Nq940iLM5sQh"
      },
      "execution_count": 550,
      "outputs": []
    },
    {
      "cell_type": "code",
      "source": [
        "df1.shape"
      ],
      "metadata": {
        "colab": {
          "base_uri": "https://localhost:8080/"
        },
        "id": "BG6CKUQY5sqn",
        "outputId": "88c1b7c9-38f5-4566-a9e6-cb96d4b19b56"
      },
      "execution_count": 551,
      "outputs": [
        {
          "output_type": "execute_result",
          "data": {
            "text/plain": [
              "(1168, 1180)"
            ]
          },
          "metadata": {},
          "execution_count": 551
        }
      ]
    },
    {
      "cell_type": "code",
      "source": [
        "x = df1.drop(\"failure\",axis=1)\n",
        "y = df1[\"failure\"]"
      ],
      "metadata": {
        "id": "qNP5nIV55stO"
      },
      "execution_count": 552,
      "outputs": []
    },
    {
      "cell_type": "code",
      "source": [
        "#x=pd.get_dummies(x,drop_first=True)"
      ],
      "metadata": {
        "id": "O8Gep-v5vPbQ"
      },
      "execution_count": 553,
      "outputs": []
    },
    {
      "cell_type": "code",
      "source": [
        "x.shape,y.shape"
      ],
      "metadata": {
        "colab": {
          "base_uri": "https://localhost:8080/"
        },
        "id": "98rbOCkl-u4u",
        "outputId": "4ae474ac-eafd-4153-8021-6e1d98653480"
      },
      "execution_count": 554,
      "outputs": [
        {
          "output_type": "execute_result",
          "data": {
            "text/plain": [
              "((1168, 1179), (1168,))"
            ]
          },
          "metadata": {},
          "execution_count": 554
        }
      ]
    },
    {
      "cell_type": "code",
      "source": [
        "x_train, x_test, y_train,y_test = train_test_split(x,y,test_size=0.2,random_state=42)"
      ],
      "metadata": {
        "id": "AI1XU29_Blmk"
      },
      "execution_count": 555,
      "outputs": []
    },
    {
      "cell_type": "code",
      "source": [
        "from imblearn.over_sampling import SMOTE\n",
        "SM= SMOTE(random_state=42)\n",
        "x_train_new,y_train_new = SM.fit_resample(x_train,y_train)"
      ],
      "metadata": {
        "id": "l8cbEHPkjXEu"
      },
      "execution_count": 556,
      "outputs": []
    },
    {
      "cell_type": "code",
      "source": [
        "x_train_new.shape ,y_train_new.shape"
      ],
      "metadata": {
        "colab": {
          "base_uri": "https://localhost:8080/"
        },
        "id": "6GDeubpbJhCa",
        "outputId": "60c554cd-fbdc-4c5e-fb10-f88e95f06aa9"
      },
      "execution_count": 557,
      "outputs": [
        {
          "output_type": "execute_result",
          "data": {
            "text/plain": [
              "((1692, 1179), (1692,))"
            ]
          },
          "metadata": {},
          "execution_count": 557
        }
      ]
    },
    {
      "cell_type": "code",
      "source": [
        "from sklearn.model_selection import train_test_split\n",
        "from sklearn.linear_model import LinearRegression, ElasticNet, Ridge, Lasso, LogisticRegression\n",
        "from sklearn.ensemble import GradientBoostingClassifier, RandomForestClassifier\n",
        "from sklearn.metrics import r2_score, mean_squared_error, mean_absolute_error\n",
        "from sklearn.tree import ExtraTreeRegressor, DecisionTreeClassifier\n",
        "\n",
        "from sklearn.naive_bayes import GaussianNB\n",
        "from sklearn.naive_bayes import BernoulliNB\n",
        "from sklearn.neighbors import KNeighborsClassifier\n",
        "\n",
        "from sklearn.metrics import accuracy_score,precision_score,recall_score,f1_score\n",
        "from sklearn.metrics import confusion_matrix, classification_report"
      ],
      "metadata": {
        "id": "uq5DgpBCn5vi"
      },
      "execution_count": 558,
      "outputs": []
    },
    {
      "cell_type": "code",
      "source": [
        "g = GaussianNB() \n",
        "b = BernoulliNB()\n",
        "k = KNeighborsClassifier()\n",
        "gbc = GradientBoostingClassifier()\n",
        "log = LogisticRegression()\n",
        "d = DecisionTreeClassifier()\n",
        "r = RandomForestClassifier()"
      ],
      "metadata": {
        "id": "CbUG_KkDoelB"
      },
      "execution_count": 559,
      "outputs": []
    },
    {
      "cell_type": "code",
      "source": [
        "algorithms = [g, b, k, log, gbc, r, d]\n",
        "names = [\"GaussianNB\", \"BernoulliNB\", \"K Nearest\", \"Logistic\", \"GradientBoosting\", \"RandomForest\", \"DesicionTree\"]"
      ],
      "metadata": {
        "id": "b_g39s8Sn5yE"
      },
      "execution_count": 560,
      "outputs": []
    },
    {
      "cell_type": "code",
      "source": [
        "def algo_test(x, y, algorithms = algorithms, names = names):\n",
        "    for i in range(len(algorithms)):\n",
        "        algorithms[i] = algorithms[i].fit(x, y)\n",
        "    accuracy = []\n",
        "    precision = []\n",
        "    recall = []\n",
        "    f1 = []\n",
        "    for i in range(len(algorithms)):\n",
        "        accuracy.append(accuracy_score(y, algorithms[i].predict(x)))\n",
        "        precision.append(precision_score(y, algorithms[i].predict(x)))\n",
        "        recall.append(recall_score(y, algorithms[i].predict(x)))\n",
        "        f1.append(f1_score(y, algorithms[i].predict(x)))\n",
        "    metrics = pd.DataFrame(columns = [\"Accuracy\", \"Precision\", \"Recall\", \"F1\"], index = names)\n",
        "    metrics[\"Accuracy\"] = accuracy\n",
        "    metrics[\"Precision\"] = precision\n",
        "    metrics[\"Recall\"] = recall\n",
        "    metrics[\"F1\"] = f1\n",
        "    return metrics.sort_values(\"F1\", ascending = False)"
      ],
      "metadata": {
        "id": "SbaJsPSiohHZ"
      },
      "execution_count": 561,
      "outputs": []
    },
    {
      "cell_type": "code",
      "source": [
        "algo_test(x_train_new,y_train_new)"
      ],
      "metadata": {
        "colab": {
          "base_uri": "https://localhost:8080/",
          "height": 269
        },
        "id": "5roy-EQvohNA",
        "outputId": "d186dde3-e8c8-44ca-cdfc-e717f1ba2da9"
      },
      "execution_count": 562,
      "outputs": [
        {
          "output_type": "execute_result",
          "data": {
            "text/plain": [
              "                  Accuracy  Precision    Recall        F1\n",
              "RandomForest      1.000000   1.000000  1.000000  1.000000\n",
              "DesicionTree      1.000000   1.000000  1.000000  1.000000\n",
              "GaussianNB        0.999409   0.998819  1.000000  0.999409\n",
              "GradientBoosting  0.815603   0.734622  0.988180  0.842742\n",
              "Logistic          0.809102   0.732444  0.973995  0.836124\n",
              "BernoulliNB       0.693262   0.623958  0.972813  0.760277\n",
              "K Nearest         0.682624   0.611875  0.998818  0.758868"
            ],
            "text/html": [
              "\n",
              "  <div id=\"df-ddd291eb-c5cd-4b44-8450-6865ace7fa9a\">\n",
              "    <div class=\"colab-df-container\">\n",
              "      <div>\n",
              "<style scoped>\n",
              "    .dataframe tbody tr th:only-of-type {\n",
              "        vertical-align: middle;\n",
              "    }\n",
              "\n",
              "    .dataframe tbody tr th {\n",
              "        vertical-align: top;\n",
              "    }\n",
              "\n",
              "    .dataframe thead th {\n",
              "        text-align: right;\n",
              "    }\n",
              "</style>\n",
              "<table border=\"1\" class=\"dataframe\">\n",
              "  <thead>\n",
              "    <tr style=\"text-align: right;\">\n",
              "      <th></th>\n",
              "      <th>Accuracy</th>\n",
              "      <th>Precision</th>\n",
              "      <th>Recall</th>\n",
              "      <th>F1</th>\n",
              "    </tr>\n",
              "  </thead>\n",
              "  <tbody>\n",
              "    <tr>\n",
              "      <th>RandomForest</th>\n",
              "      <td>1.000000</td>\n",
              "      <td>1.000000</td>\n",
              "      <td>1.000000</td>\n",
              "      <td>1.000000</td>\n",
              "    </tr>\n",
              "    <tr>\n",
              "      <th>DesicionTree</th>\n",
              "      <td>1.000000</td>\n",
              "      <td>1.000000</td>\n",
              "      <td>1.000000</td>\n",
              "      <td>1.000000</td>\n",
              "    </tr>\n",
              "    <tr>\n",
              "      <th>GaussianNB</th>\n",
              "      <td>0.999409</td>\n",
              "      <td>0.998819</td>\n",
              "      <td>1.000000</td>\n",
              "      <td>0.999409</td>\n",
              "    </tr>\n",
              "    <tr>\n",
              "      <th>GradientBoosting</th>\n",
              "      <td>0.815603</td>\n",
              "      <td>0.734622</td>\n",
              "      <td>0.988180</td>\n",
              "      <td>0.842742</td>\n",
              "    </tr>\n",
              "    <tr>\n",
              "      <th>Logistic</th>\n",
              "      <td>0.809102</td>\n",
              "      <td>0.732444</td>\n",
              "      <td>0.973995</td>\n",
              "      <td>0.836124</td>\n",
              "    </tr>\n",
              "    <tr>\n",
              "      <th>BernoulliNB</th>\n",
              "      <td>0.693262</td>\n",
              "      <td>0.623958</td>\n",
              "      <td>0.972813</td>\n",
              "      <td>0.760277</td>\n",
              "    </tr>\n",
              "    <tr>\n",
              "      <th>K Nearest</th>\n",
              "      <td>0.682624</td>\n",
              "      <td>0.611875</td>\n",
              "      <td>0.998818</td>\n",
              "      <td>0.758868</td>\n",
              "    </tr>\n",
              "  </tbody>\n",
              "</table>\n",
              "</div>\n",
              "      <button class=\"colab-df-convert\" onclick=\"convertToInteractive('df-ddd291eb-c5cd-4b44-8450-6865ace7fa9a')\"\n",
              "              title=\"Convert this dataframe to an interactive table.\"\n",
              "              style=\"display:none;\">\n",
              "        \n",
              "  <svg xmlns=\"http://www.w3.org/2000/svg\" height=\"24px\"viewBox=\"0 0 24 24\"\n",
              "       width=\"24px\">\n",
              "    <path d=\"M0 0h24v24H0V0z\" fill=\"none\"/>\n",
              "    <path d=\"M18.56 5.44l.94 2.06.94-2.06 2.06-.94-2.06-.94-.94-2.06-.94 2.06-2.06.94zm-11 1L8.5 8.5l.94-2.06 2.06-.94-2.06-.94L8.5 2.5l-.94 2.06-2.06.94zm10 10l.94 2.06.94-2.06 2.06-.94-2.06-.94-.94-2.06-.94 2.06-2.06.94z\"/><path d=\"M17.41 7.96l-1.37-1.37c-.4-.4-.92-.59-1.43-.59-.52 0-1.04.2-1.43.59L10.3 9.45l-7.72 7.72c-.78.78-.78 2.05 0 2.83L4 21.41c.39.39.9.59 1.41.59.51 0 1.02-.2 1.41-.59l7.78-7.78 2.81-2.81c.8-.78.8-2.07 0-2.86zM5.41 20L4 18.59l7.72-7.72 1.47 1.35L5.41 20z\"/>\n",
              "  </svg>\n",
              "      </button>\n",
              "      \n",
              "  <style>\n",
              "    .colab-df-container {\n",
              "      display:flex;\n",
              "      flex-wrap:wrap;\n",
              "      gap: 12px;\n",
              "    }\n",
              "\n",
              "    .colab-df-convert {\n",
              "      background-color: #E8F0FE;\n",
              "      border: none;\n",
              "      border-radius: 50%;\n",
              "      cursor: pointer;\n",
              "      display: none;\n",
              "      fill: #1967D2;\n",
              "      height: 32px;\n",
              "      padding: 0 0 0 0;\n",
              "      width: 32px;\n",
              "    }\n",
              "\n",
              "    .colab-df-convert:hover {\n",
              "      background-color: #E2EBFA;\n",
              "      box-shadow: 0px 1px 2px rgba(60, 64, 67, 0.3), 0px 1px 3px 1px rgba(60, 64, 67, 0.15);\n",
              "      fill: #174EA6;\n",
              "    }\n",
              "\n",
              "    [theme=dark] .colab-df-convert {\n",
              "      background-color: #3B4455;\n",
              "      fill: #D2E3FC;\n",
              "    }\n",
              "\n",
              "    [theme=dark] .colab-df-convert:hover {\n",
              "      background-color: #434B5C;\n",
              "      box-shadow: 0px 1px 3px 1px rgba(0, 0, 0, 0.15);\n",
              "      filter: drop-shadow(0px 1px 2px rgba(0, 0, 0, 0.3));\n",
              "      fill: #FFFFFF;\n",
              "    }\n",
              "  </style>\n",
              "\n",
              "      <script>\n",
              "        const buttonEl =\n",
              "          document.querySelector('#df-ddd291eb-c5cd-4b44-8450-6865ace7fa9a button.colab-df-convert');\n",
              "        buttonEl.style.display =\n",
              "          google.colab.kernel.accessAllowed ? 'block' : 'none';\n",
              "\n",
              "        async function convertToInteractive(key) {\n",
              "          const element = document.querySelector('#df-ddd291eb-c5cd-4b44-8450-6865ace7fa9a');\n",
              "          const dataTable =\n",
              "            await google.colab.kernel.invokeFunction('convertToInteractive',\n",
              "                                                     [key], {});\n",
              "          if (!dataTable) return;\n",
              "\n",
              "          const docLinkHtml = 'Like what you see? Visit the ' +\n",
              "            '<a target=\"_blank\" href=https://colab.research.google.com/notebooks/data_table.ipynb>data table notebook</a>'\n",
              "            + ' to learn more about interactive tables.';\n",
              "          element.innerHTML = '';\n",
              "          dataTable['output_type'] = 'display_data';\n",
              "          await google.colab.output.renderOutput(dataTable, element);\n",
              "          const docLink = document.createElement('div');\n",
              "          docLink.innerHTML = docLinkHtml;\n",
              "          element.appendChild(docLink);\n",
              "        }\n",
              "      </script>\n",
              "    </div>\n",
              "  </div>\n",
              "  "
            ]
          },
          "metadata": {},
          "execution_count": 562
        }
      ]
    },
    {
      "cell_type": "code",
      "source": [
        "import imblearn\n",
        "from imblearn.under_sampling import RandomUnderSampler\n",
        "from imblearn.metrics import geometric_mean_score, make_index_balanced_accuracy, classification_report_imbalanced\n"
      ],
      "metadata": {
        "id": "RFeKkpieK-qd"
      },
      "execution_count": 563,
      "outputs": []
    },
    {
      "cell_type": "code",
      "source": [
        "RUS=RandomUnderSampler(random_state=42)\n",
        "x_RUS,y_RUS=RUS.fit_resample(x_train,y_train)"
      ],
      "metadata": {
        "id": "AGz5lIzen50W"
      },
      "execution_count": 564,
      "outputs": []
    },
    {
      "cell_type": "code",
      "source": [
        " for item in algorithms:\n",
        "    predict=item.fit(x_RUS,y_RUS).predict(x_test)"
      ],
      "metadata": {
        "id": "tmJ6HWmAn52Y"
      },
      "execution_count": 565,
      "outputs": []
    },
    {
      "cell_type": "code",
      "source": [
        "algo_test(x_train,y_train)"
      ],
      "metadata": {
        "colab": {
          "base_uri": "https://localhost:8080/",
          "height": 269
        },
        "id": "Fu0MmwVfLoYB",
        "outputId": "78dafa91-0ef2-4f4a-b8da-215703fa0b02"
      },
      "execution_count": 566,
      "outputs": [
        {
          "output_type": "execute_result",
          "data": {
            "text/plain": [
              "                  Accuracy  Precision    Recall        F1\n",
              "RandomForest      1.000000   1.000000  1.000000  1.000000\n",
              "DesicionTree      1.000000   1.000000  1.000000  1.000000\n",
              "GaussianNB        0.998929   0.988764  1.000000  0.994350\n",
              "K Nearest         0.918630   0.642857  0.306818  0.415385\n",
              "Logistic          0.917559   0.823529  0.159091  0.266667\n",
              "GradientBoosting  0.918630   1.000000  0.136364  0.240000\n",
              "BernoulliNB       0.905782   0.000000  0.000000  0.000000"
            ],
            "text/html": [
              "\n",
              "  <div id=\"df-c0597c96-c8ac-4bb4-ba16-53d2ca34eb9d\">\n",
              "    <div class=\"colab-df-container\">\n",
              "      <div>\n",
              "<style scoped>\n",
              "    .dataframe tbody tr th:only-of-type {\n",
              "        vertical-align: middle;\n",
              "    }\n",
              "\n",
              "    .dataframe tbody tr th {\n",
              "        vertical-align: top;\n",
              "    }\n",
              "\n",
              "    .dataframe thead th {\n",
              "        text-align: right;\n",
              "    }\n",
              "</style>\n",
              "<table border=\"1\" class=\"dataframe\">\n",
              "  <thead>\n",
              "    <tr style=\"text-align: right;\">\n",
              "      <th></th>\n",
              "      <th>Accuracy</th>\n",
              "      <th>Precision</th>\n",
              "      <th>Recall</th>\n",
              "      <th>F1</th>\n",
              "    </tr>\n",
              "  </thead>\n",
              "  <tbody>\n",
              "    <tr>\n",
              "      <th>RandomForest</th>\n",
              "      <td>1.000000</td>\n",
              "      <td>1.000000</td>\n",
              "      <td>1.000000</td>\n",
              "      <td>1.000000</td>\n",
              "    </tr>\n",
              "    <tr>\n",
              "      <th>DesicionTree</th>\n",
              "      <td>1.000000</td>\n",
              "      <td>1.000000</td>\n",
              "      <td>1.000000</td>\n",
              "      <td>1.000000</td>\n",
              "    </tr>\n",
              "    <tr>\n",
              "      <th>GaussianNB</th>\n",
              "      <td>0.998929</td>\n",
              "      <td>0.988764</td>\n",
              "      <td>1.000000</td>\n",
              "      <td>0.994350</td>\n",
              "    </tr>\n",
              "    <tr>\n",
              "      <th>K Nearest</th>\n",
              "      <td>0.918630</td>\n",
              "      <td>0.642857</td>\n",
              "      <td>0.306818</td>\n",
              "      <td>0.415385</td>\n",
              "    </tr>\n",
              "    <tr>\n",
              "      <th>Logistic</th>\n",
              "      <td>0.917559</td>\n",
              "      <td>0.823529</td>\n",
              "      <td>0.159091</td>\n",
              "      <td>0.266667</td>\n",
              "    </tr>\n",
              "    <tr>\n",
              "      <th>GradientBoosting</th>\n",
              "      <td>0.918630</td>\n",
              "      <td>1.000000</td>\n",
              "      <td>0.136364</td>\n",
              "      <td>0.240000</td>\n",
              "    </tr>\n",
              "    <tr>\n",
              "      <th>BernoulliNB</th>\n",
              "      <td>0.905782</td>\n",
              "      <td>0.000000</td>\n",
              "      <td>0.000000</td>\n",
              "      <td>0.000000</td>\n",
              "    </tr>\n",
              "  </tbody>\n",
              "</table>\n",
              "</div>\n",
              "      <button class=\"colab-df-convert\" onclick=\"convertToInteractive('df-c0597c96-c8ac-4bb4-ba16-53d2ca34eb9d')\"\n",
              "              title=\"Convert this dataframe to an interactive table.\"\n",
              "              style=\"display:none;\">\n",
              "        \n",
              "  <svg xmlns=\"http://www.w3.org/2000/svg\" height=\"24px\"viewBox=\"0 0 24 24\"\n",
              "       width=\"24px\">\n",
              "    <path d=\"M0 0h24v24H0V0z\" fill=\"none\"/>\n",
              "    <path d=\"M18.56 5.44l.94 2.06.94-2.06 2.06-.94-2.06-.94-.94-2.06-.94 2.06-2.06.94zm-11 1L8.5 8.5l.94-2.06 2.06-.94-2.06-.94L8.5 2.5l-.94 2.06-2.06.94zm10 10l.94 2.06.94-2.06 2.06-.94-2.06-.94-.94-2.06-.94 2.06-2.06.94z\"/><path d=\"M17.41 7.96l-1.37-1.37c-.4-.4-.92-.59-1.43-.59-.52 0-1.04.2-1.43.59L10.3 9.45l-7.72 7.72c-.78.78-.78 2.05 0 2.83L4 21.41c.39.39.9.59 1.41.59.51 0 1.02-.2 1.41-.59l7.78-7.78 2.81-2.81c.8-.78.8-2.07 0-2.86zM5.41 20L4 18.59l7.72-7.72 1.47 1.35L5.41 20z\"/>\n",
              "  </svg>\n",
              "      </button>\n",
              "      \n",
              "  <style>\n",
              "    .colab-df-container {\n",
              "      display:flex;\n",
              "      flex-wrap:wrap;\n",
              "      gap: 12px;\n",
              "    }\n",
              "\n",
              "    .colab-df-convert {\n",
              "      background-color: #E8F0FE;\n",
              "      border: none;\n",
              "      border-radius: 50%;\n",
              "      cursor: pointer;\n",
              "      display: none;\n",
              "      fill: #1967D2;\n",
              "      height: 32px;\n",
              "      padding: 0 0 0 0;\n",
              "      width: 32px;\n",
              "    }\n",
              "\n",
              "    .colab-df-convert:hover {\n",
              "      background-color: #E2EBFA;\n",
              "      box-shadow: 0px 1px 2px rgba(60, 64, 67, 0.3), 0px 1px 3px 1px rgba(60, 64, 67, 0.15);\n",
              "      fill: #174EA6;\n",
              "    }\n",
              "\n",
              "    [theme=dark] .colab-df-convert {\n",
              "      background-color: #3B4455;\n",
              "      fill: #D2E3FC;\n",
              "    }\n",
              "\n",
              "    [theme=dark] .colab-df-convert:hover {\n",
              "      background-color: #434B5C;\n",
              "      box-shadow: 0px 1px 3px 1px rgba(0, 0, 0, 0.15);\n",
              "      filter: drop-shadow(0px 1px 2px rgba(0, 0, 0, 0.3));\n",
              "      fill: #FFFFFF;\n",
              "    }\n",
              "  </style>\n",
              "\n",
              "      <script>\n",
              "        const buttonEl =\n",
              "          document.querySelector('#df-c0597c96-c8ac-4bb4-ba16-53d2ca34eb9d button.colab-df-convert');\n",
              "        buttonEl.style.display =\n",
              "          google.colab.kernel.accessAllowed ? 'block' : 'none';\n",
              "\n",
              "        async function convertToInteractive(key) {\n",
              "          const element = document.querySelector('#df-c0597c96-c8ac-4bb4-ba16-53d2ca34eb9d');\n",
              "          const dataTable =\n",
              "            await google.colab.kernel.invokeFunction('convertToInteractive',\n",
              "                                                     [key], {});\n",
              "          if (!dataTable) return;\n",
              "\n",
              "          const docLinkHtml = 'Like what you see? Visit the ' +\n",
              "            '<a target=\"_blank\" href=https://colab.research.google.com/notebooks/data_table.ipynb>data table notebook</a>'\n",
              "            + ' to learn more about interactive tables.';\n",
              "          element.innerHTML = '';\n",
              "          dataTable['output_type'] = 'display_data';\n",
              "          await google.colab.output.renderOutput(dataTable, element);\n",
              "          const docLink = document.createElement('div');\n",
              "          docLink.innerHTML = docLinkHtml;\n",
              "          element.appendChild(docLink);\n",
              "        }\n",
              "      </script>\n",
              "    </div>\n",
              "  </div>\n",
              "  "
            ]
          },
          "metadata": {},
          "execution_count": 566
        }
      ]
    },
    {
      "cell_type": "code",
      "source": [
        "import pandas as pd\n",
        "from tensorflow.keras.models import Sequential\n",
        "from tensorflow.keras.layers import Dense"
      ],
      "metadata": {
        "id": "2-Jo31tvOptH"
      },
      "execution_count": 567,
      "outputs": []
    },
    {
      "cell_type": "code",
      "source": [
        "model=Sequential()\n",
        "model.add(Dense(12,activation=\"relu\")) \n",
        "model.add(Dense(8,activation=\"relu\"))\n",
        "model.add(Dense(8,activation=\"relu\"))\n",
        "model.add(Dense(8,activation=\"relu\"))\n",
        "model.add(Dense(4,activation=\"relu\"))\n",
        "model.add(Dense(1,activation=\"sigmoid\"))"
      ],
      "metadata": {
        "id": "V9bszE3aOp2L"
      },
      "execution_count": 568,
      "outputs": []
    },
    {
      "cell_type": "code",
      "source": [
        "model.compile(loss=\"binary_crossentropy\",optimizer=\"adam\",metrics=[\"accuracy\"])"
      ],
      "metadata": {
        "id": "-o-MfkDlOp64"
      },
      "execution_count": 569,
      "outputs": []
    },
    {
      "cell_type": "code",
      "source": [
        "model.fit(x,y,epochs=150,batch_size=10,verbose=1) "
      ],
      "metadata": {
        "colab": {
          "base_uri": "https://localhost:8080/"
        },
        "id": "IlVutZ2fO5my",
        "outputId": "a518d6c7-13d5-44dc-cb60-9a2c5cae3e58"
      },
      "execution_count": 570,
      "outputs": [
        {
          "output_type": "stream",
          "name": "stdout",
          "text": [
            "Epoch 1/150\n",
            "117/117 [==============================] - 1s 2ms/step - loss: 0.5119 - accuracy: 0.9084\n",
            "Epoch 2/150\n",
            "117/117 [==============================] - 0s 3ms/step - loss: 0.2781 - accuracy: 0.9092\n",
            "Epoch 3/150\n",
            "117/117 [==============================] - 0s 2ms/step - loss: 0.2481 - accuracy: 0.9092\n",
            "Epoch 4/150\n",
            "117/117 [==============================] - 0s 3ms/step - loss: 0.2160 - accuracy: 0.9092\n",
            "Epoch 5/150\n",
            "117/117 [==============================] - 0s 2ms/step - loss: 0.1608 - accuracy: 0.9092\n",
            "Epoch 6/150\n",
            "117/117 [==============================] - 0s 3ms/step - loss: 0.1174 - accuracy: 0.9092\n",
            "Epoch 7/150\n",
            "117/117 [==============================] - 0s 2ms/step - loss: 0.0955 - accuracy: 0.9092\n",
            "Epoch 8/150\n",
            "117/117 [==============================] - 0s 3ms/step - loss: 0.0848 - accuracy: 0.9717\n",
            "Epoch 9/150\n",
            "117/117 [==============================] - 0s 2ms/step - loss: 0.0767 - accuracy: 0.9889\n",
            "Epoch 10/150\n",
            "117/117 [==============================] - 0s 2ms/step - loss: 0.0719 - accuracy: 0.9914\n",
            "Epoch 11/150\n",
            "117/117 [==============================] - 0s 3ms/step - loss: 0.0675 - accuracy: 0.9923\n",
            "Epoch 12/150\n",
            "117/117 [==============================] - 0s 3ms/step - loss: 0.0641 - accuracy: 0.9923\n",
            "Epoch 13/150\n",
            "117/117 [==============================] - 0s 3ms/step - loss: 0.0601 - accuracy: 0.9932\n",
            "Epoch 14/150\n",
            "117/117 [==============================] - 0s 3ms/step - loss: 0.0567 - accuracy: 0.9940\n",
            "Epoch 15/150\n",
            "117/117 [==============================] - 0s 2ms/step - loss: 0.0546 - accuracy: 0.9940\n",
            "Epoch 16/150\n",
            "117/117 [==============================] - 0s 2ms/step - loss: 0.0528 - accuracy: 0.9940\n",
            "Epoch 17/150\n",
            "117/117 [==============================] - 0s 2ms/step - loss: 0.0511 - accuracy: 0.9940\n",
            "Epoch 18/150\n",
            "117/117 [==============================] - 0s 2ms/step - loss: 0.0494 - accuracy: 0.9940\n",
            "Epoch 19/150\n",
            "117/117 [==============================] - 0s 2ms/step - loss: 0.0478 - accuracy: 0.9940\n",
            "Epoch 20/150\n",
            "117/117 [==============================] - 0s 2ms/step - loss: 0.0464 - accuracy: 0.9940\n",
            "Epoch 21/150\n",
            "117/117 [==============================] - 0s 2ms/step - loss: 0.0450 - accuracy: 0.9940\n",
            "Epoch 22/150\n",
            "117/117 [==============================] - 0s 2ms/step - loss: 0.0436 - accuracy: 0.9940\n",
            "Epoch 23/150\n",
            "117/117 [==============================] - 0s 2ms/step - loss: 0.0423 - accuracy: 0.9940\n",
            "Epoch 24/150\n",
            "117/117 [==============================] - 0s 2ms/step - loss: 0.0411 - accuracy: 0.9940\n",
            "Epoch 25/150\n",
            "117/117 [==============================] - 0s 2ms/step - loss: 0.0399 - accuracy: 0.9940\n",
            "Epoch 26/150\n",
            "117/117 [==============================] - 0s 2ms/step - loss: 0.0388 - accuracy: 0.9940\n",
            "Epoch 27/150\n",
            "117/117 [==============================] - 0s 2ms/step - loss: 0.0377 - accuracy: 0.9940\n",
            "Epoch 28/150\n",
            "117/117 [==============================] - 0s 2ms/step - loss: 0.0367 - accuracy: 0.9940\n",
            "Epoch 29/150\n",
            "117/117 [==============================] - 0s 2ms/step - loss: 0.0359 - accuracy: 0.9940\n",
            "Epoch 30/150\n",
            "117/117 [==============================] - 0s 2ms/step - loss: 0.0350 - accuracy: 0.9940\n",
            "Epoch 31/150\n",
            "117/117 [==============================] - 0s 2ms/step - loss: 0.0341 - accuracy: 0.9940\n",
            "Epoch 32/150\n",
            "117/117 [==============================] - 0s 2ms/step - loss: 0.0334 - accuracy: 0.9940\n",
            "Epoch 33/150\n",
            "117/117 [==============================] - 0s 2ms/step - loss: 0.0326 - accuracy: 0.9940\n",
            "Epoch 34/150\n",
            "117/117 [==============================] - 0s 2ms/step - loss: 0.0341 - accuracy: 0.9932\n",
            "Epoch 35/150\n",
            "117/117 [==============================] - 0s 2ms/step - loss: 0.0306 - accuracy: 0.9940\n",
            "Epoch 36/150\n",
            "117/117 [==============================] - 0s 2ms/step - loss: 0.0352 - accuracy: 0.9914\n",
            "Epoch 37/150\n",
            "117/117 [==============================] - 0s 2ms/step - loss: 0.0316 - accuracy: 0.9932\n",
            "Epoch 38/150\n",
            "117/117 [==============================] - 0s 2ms/step - loss: 0.0311 - accuracy: 0.9932\n",
            "Epoch 39/150\n",
            "117/117 [==============================] - 0s 2ms/step - loss: 0.0307 - accuracy: 0.9932\n",
            "Epoch 40/150\n",
            "117/117 [==============================] - 0s 2ms/step - loss: 0.0302 - accuracy: 0.9932\n",
            "Epoch 41/150\n",
            "117/117 [==============================] - 0s 2ms/step - loss: 0.0298 - accuracy: 0.9932\n",
            "Epoch 42/150\n",
            "117/117 [==============================] - 0s 2ms/step - loss: 0.0295 - accuracy: 0.9932\n",
            "Epoch 43/150\n",
            "117/117 [==============================] - 0s 2ms/step - loss: 0.0291 - accuracy: 0.9932\n",
            "Epoch 44/150\n",
            "117/117 [==============================] - 0s 3ms/step - loss: 0.0289 - accuracy: 0.9932\n",
            "Epoch 45/150\n",
            "117/117 [==============================] - 0s 2ms/step - loss: 0.0255 - accuracy: 0.9949\n",
            "Epoch 46/150\n",
            "117/117 [==============================] - 0s 2ms/step - loss: 0.0251 - accuracy: 0.9949\n",
            "Epoch 47/150\n",
            "117/117 [==============================] - 0s 2ms/step - loss: 0.0264 - accuracy: 0.9940\n",
            "Epoch 48/150\n",
            "117/117 [==============================] - 0s 2ms/step - loss: 0.0293 - accuracy: 0.9923\n",
            "Epoch 49/150\n",
            "117/117 [==============================] - 0s 2ms/step - loss: 0.0292 - accuracy: 0.9923\n",
            "Epoch 50/150\n",
            "117/117 [==============================] - 0s 2ms/step - loss: 0.0290 - accuracy: 0.9923\n",
            "Epoch 51/150\n",
            "117/117 [==============================] - 0s 2ms/step - loss: 0.0288 - accuracy: 0.9923\n",
            "Epoch 52/150\n",
            "117/117 [==============================] - 0s 2ms/step - loss: 0.0287 - accuracy: 0.9923\n",
            "Epoch 53/150\n",
            "117/117 [==============================] - 0s 2ms/step - loss: 0.0383 - accuracy: 0.9906\n",
            "Epoch 54/150\n",
            "117/117 [==============================] - 0s 3ms/step - loss: 0.0289 - accuracy: 0.9932\n",
            "Epoch 55/150\n",
            "117/117 [==============================] - 0s 2ms/step - loss: 0.0252 - accuracy: 0.9940\n",
            "Epoch 56/150\n",
            "117/117 [==============================] - 0s 3ms/step - loss: 0.0240 - accuracy: 0.9940\n",
            "Epoch 57/150\n",
            "117/117 [==============================] - 0s 2ms/step - loss: 0.0227 - accuracy: 0.9949\n",
            "Epoch 58/150\n",
            "117/117 [==============================] - 0s 2ms/step - loss: 0.0225 - accuracy: 0.9949\n",
            "Epoch 59/150\n",
            "117/117 [==============================] - 0s 2ms/step - loss: 0.0223 - accuracy: 0.9949\n",
            "Epoch 60/150\n",
            "117/117 [==============================] - 0s 2ms/step - loss: 0.0222 - accuracy: 0.9949\n",
            "Epoch 61/150\n",
            "117/117 [==============================] - 0s 2ms/step - loss: 0.0220 - accuracy: 0.9949\n",
            "Epoch 62/150\n",
            "117/117 [==============================] - 0s 3ms/step - loss: 0.0219 - accuracy: 0.9949\n",
            "Epoch 63/150\n",
            "117/117 [==============================] - 0s 2ms/step - loss: 0.0218 - accuracy: 0.9949\n",
            "Epoch 64/150\n",
            "117/117 [==============================] - 0s 2ms/step - loss: 0.0217 - accuracy: 0.9949\n",
            "Epoch 65/150\n",
            "117/117 [==============================] - 0s 2ms/step - loss: 0.0216 - accuracy: 0.9949\n",
            "Epoch 66/150\n",
            "117/117 [==============================] - 0s 2ms/step - loss: 0.0215 - accuracy: 0.9949\n",
            "Epoch 67/150\n",
            "117/117 [==============================] - 0s 2ms/step - loss: 0.0214 - accuracy: 0.9949\n",
            "Epoch 68/150\n",
            "117/117 [==============================] - 0s 2ms/step - loss: 0.0213 - accuracy: 0.9949\n",
            "Epoch 69/150\n",
            "117/117 [==============================] - 0s 2ms/step - loss: 0.0212 - accuracy: 0.9949\n",
            "Epoch 70/150\n",
            "117/117 [==============================] - 0s 2ms/step - loss: 0.0211 - accuracy: 0.9949\n",
            "Epoch 71/150\n",
            "117/117 [==============================] - 0s 2ms/step - loss: 0.0211 - accuracy: 0.9949\n",
            "Epoch 72/150\n",
            "117/117 [==============================] - 0s 2ms/step - loss: 0.0210 - accuracy: 0.9949\n",
            "Epoch 73/150\n",
            "117/117 [==============================] - 0s 2ms/step - loss: 0.0209 - accuracy: 0.9949\n",
            "Epoch 74/150\n",
            "117/117 [==============================] - 0s 2ms/step - loss: 0.0209 - accuracy: 0.9949\n",
            "Epoch 75/150\n",
            "117/117 [==============================] - 0s 2ms/step - loss: 0.0208 - accuracy: 0.9949\n",
            "Epoch 76/150\n",
            "117/117 [==============================] - 0s 2ms/step - loss: 0.0208 - accuracy: 0.9949\n",
            "Epoch 77/150\n",
            "117/117 [==============================] - 0s 2ms/step - loss: 0.0207 - accuracy: 0.9949\n",
            "Epoch 78/150\n",
            "117/117 [==============================] - 0s 2ms/step - loss: 0.0207 - accuracy: 0.9949\n",
            "Epoch 79/150\n",
            "117/117 [==============================] - 0s 2ms/step - loss: 0.0206 - accuracy: 0.9949\n",
            "Epoch 80/150\n",
            "117/117 [==============================] - 0s 3ms/step - loss: 0.0206 - accuracy: 0.9949\n",
            "Epoch 81/150\n",
            "117/117 [==============================] - 0s 2ms/step - loss: 0.0206 - accuracy: 0.9949\n",
            "Epoch 82/150\n",
            "117/117 [==============================] - 0s 2ms/step - loss: 0.0205 - accuracy: 0.9949\n",
            "Epoch 83/150\n",
            "117/117 [==============================] - 0s 2ms/step - loss: 0.0205 - accuracy: 0.9949\n",
            "Epoch 84/150\n",
            "117/117 [==============================] - 0s 2ms/step - loss: 0.0205 - accuracy: 0.9949\n",
            "Epoch 85/150\n",
            "117/117 [==============================] - 0s 2ms/step - loss: 0.0204 - accuracy: 0.9949\n",
            "Epoch 86/150\n",
            "117/117 [==============================] - 0s 2ms/step - loss: 0.0204 - accuracy: 0.9949\n",
            "Epoch 87/150\n",
            "117/117 [==============================] - 0s 3ms/step - loss: 0.0204 - accuracy: 0.9949\n",
            "Epoch 88/150\n",
            "117/117 [==============================] - 0s 2ms/step - loss: 0.0204 - accuracy: 0.9949\n",
            "Epoch 89/150\n",
            "117/117 [==============================] - 0s 2ms/step - loss: 0.0204 - accuracy: 0.9949\n",
            "Epoch 90/150\n",
            "117/117 [==============================] - 0s 2ms/step - loss: 0.0203 - accuracy: 0.9949\n",
            "Epoch 91/150\n",
            "117/117 [==============================] - 0s 2ms/step - loss: 0.0203 - accuracy: 0.9949\n",
            "Epoch 92/150\n",
            "117/117 [==============================] - 0s 2ms/step - loss: 0.0203 - accuracy: 0.9949\n",
            "Epoch 93/150\n",
            "117/117 [==============================] - 0s 2ms/step - loss: 0.0203 - accuracy: 0.9949\n",
            "Epoch 94/150\n",
            "117/117 [==============================] - 0s 2ms/step - loss: 0.0203 - accuracy: 0.9949\n",
            "Epoch 95/150\n",
            "117/117 [==============================] - 0s 3ms/step - loss: 0.0203 - accuracy: 0.9949\n",
            "Epoch 96/150\n",
            "117/117 [==============================] - 0s 3ms/step - loss: 0.0203 - accuracy: 0.9949\n",
            "Epoch 97/150\n",
            "117/117 [==============================] - 0s 2ms/step - loss: 0.0202 - accuracy: 0.9949\n",
            "Epoch 98/150\n",
            "117/117 [==============================] - 0s 2ms/step - loss: 0.0202 - accuracy: 0.9949\n",
            "Epoch 99/150\n",
            "117/117 [==============================] - 0s 2ms/step - loss: 0.0202 - accuracy: 0.9949\n",
            "Epoch 100/150\n",
            "117/117 [==============================] - 0s 2ms/step - loss: 0.0202 - accuracy: 0.9949\n",
            "Epoch 101/150\n",
            "117/117 [==============================] - 0s 2ms/step - loss: 0.0202 - accuracy: 0.9949\n",
            "Epoch 102/150\n",
            "117/117 [==============================] - 0s 2ms/step - loss: 0.0202 - accuracy: 0.9949\n",
            "Epoch 103/150\n",
            "117/117 [==============================] - 0s 2ms/step - loss: 0.0202 - accuracy: 0.9949\n",
            "Epoch 104/150\n",
            "117/117 [==============================] - 0s 2ms/step - loss: 0.0202 - accuracy: 0.9949\n",
            "Epoch 105/150\n",
            "117/117 [==============================] - 0s 2ms/step - loss: 0.0202 - accuracy: 0.9949\n",
            "Epoch 106/150\n",
            "117/117 [==============================] - 0s 2ms/step - loss: 0.0202 - accuracy: 0.9949\n",
            "Epoch 107/150\n",
            "117/117 [==============================] - 0s 2ms/step - loss: 0.0201 - accuracy: 0.9949\n",
            "Epoch 108/150\n",
            "117/117 [==============================] - 0s 2ms/step - loss: 0.0201 - accuracy: 0.9949\n",
            "Epoch 109/150\n",
            "117/117 [==============================] - 0s 2ms/step - loss: 0.0201 - accuracy: 0.9949\n",
            "Epoch 110/150\n",
            "117/117 [==============================] - 0s 2ms/step - loss: 0.0201 - accuracy: 0.9949\n",
            "Epoch 111/150\n",
            "117/117 [==============================] - 0s 2ms/step - loss: 0.0201 - accuracy: 0.9949\n",
            "Epoch 112/150\n",
            "117/117 [==============================] - 0s 2ms/step - loss: 0.0201 - accuracy: 0.9949\n",
            "Epoch 113/150\n",
            "117/117 [==============================] - 0s 2ms/step - loss: 0.0201 - accuracy: 0.9949\n",
            "Epoch 114/150\n",
            "117/117 [==============================] - 0s 2ms/step - loss: 0.0201 - accuracy: 0.9949\n",
            "Epoch 115/150\n",
            "117/117 [==============================] - 0s 2ms/step - loss: 0.0201 - accuracy: 0.9949\n",
            "Epoch 116/150\n",
            "117/117 [==============================] - 0s 3ms/step - loss: 0.0201 - accuracy: 0.9949\n",
            "Epoch 117/150\n",
            "117/117 [==============================] - 0s 2ms/step - loss: 0.0201 - accuracy: 0.9949\n",
            "Epoch 118/150\n",
            "117/117 [==============================] - 0s 3ms/step - loss: 0.0201 - accuracy: 0.9949\n",
            "Epoch 119/150\n",
            "117/117 [==============================] - 0s 3ms/step - loss: 0.0201 - accuracy: 0.9949\n",
            "Epoch 120/150\n",
            "117/117 [==============================] - 0s 3ms/step - loss: 0.0201 - accuracy: 0.9949\n",
            "Epoch 121/150\n",
            "117/117 [==============================] - 0s 3ms/step - loss: 0.0201 - accuracy: 0.9949\n",
            "Epoch 122/150\n",
            "117/117 [==============================] - 0s 3ms/step - loss: 0.0201 - accuracy: 0.9949\n",
            "Epoch 123/150\n",
            "117/117 [==============================] - 0s 2ms/step - loss: 0.0201 - accuracy: 0.9949\n",
            "Epoch 124/150\n",
            "117/117 [==============================] - 0s 2ms/step - loss: 0.0201 - accuracy: 0.9949\n",
            "Epoch 125/150\n",
            "117/117 [==============================] - 0s 2ms/step - loss: 0.0201 - accuracy: 0.9949\n",
            "Epoch 126/150\n",
            "117/117 [==============================] - 0s 2ms/step - loss: 0.0201 - accuracy: 0.9949\n",
            "Epoch 127/150\n",
            "117/117 [==============================] - 0s 2ms/step - loss: 0.0201 - accuracy: 0.9949\n",
            "Epoch 128/150\n",
            "117/117 [==============================] - 0s 2ms/step - loss: 0.0201 - accuracy: 0.9949\n",
            "Epoch 129/150\n",
            "117/117 [==============================] - 0s 2ms/step - loss: 0.0201 - accuracy: 0.9949\n",
            "Epoch 130/150\n",
            "117/117 [==============================] - 0s 2ms/step - loss: 0.0201 - accuracy: 0.9949\n",
            "Epoch 131/150\n",
            "117/117 [==============================] - 0s 2ms/step - loss: 0.0201 - accuracy: 0.9949\n",
            "Epoch 132/150\n",
            "117/117 [==============================] - 0s 2ms/step - loss: 0.0201 - accuracy: 0.9949\n",
            "Epoch 133/150\n",
            "117/117 [==============================] - 0s 3ms/step - loss: 0.0201 - accuracy: 0.9949\n",
            "Epoch 134/150\n",
            "117/117 [==============================] - 0s 2ms/step - loss: 0.0201 - accuracy: 0.9949\n",
            "Epoch 135/150\n",
            "117/117 [==============================] - 0s 2ms/step - loss: 0.0201 - accuracy: 0.9949\n",
            "Epoch 136/150\n",
            "117/117 [==============================] - 0s 3ms/step - loss: 0.0201 - accuracy: 0.9949\n",
            "Epoch 137/150\n",
            "117/117 [==============================] - 0s 2ms/step - loss: 0.0201 - accuracy: 0.9949\n",
            "Epoch 138/150\n",
            "117/117 [==============================] - 0s 2ms/step - loss: 0.0201 - accuracy: 0.9949\n",
            "Epoch 139/150\n",
            "117/117 [==============================] - 0s 2ms/step - loss: 0.0201 - accuracy: 0.9949\n",
            "Epoch 140/150\n",
            "117/117 [==============================] - 0s 2ms/step - loss: 0.0201 - accuracy: 0.9949\n",
            "Epoch 141/150\n",
            "117/117 [==============================] - 0s 2ms/step - loss: 0.0201 - accuracy: 0.9949\n",
            "Epoch 142/150\n",
            "117/117 [==============================] - 0s 2ms/step - loss: 0.0201 - accuracy: 0.9949\n",
            "Epoch 143/150\n",
            "117/117 [==============================] - 0s 3ms/step - loss: 0.0201 - accuracy: 0.9949\n",
            "Epoch 144/150\n",
            "117/117 [==============================] - 0s 2ms/step - loss: 0.0201 - accuracy: 0.9949\n",
            "Epoch 145/150\n",
            "117/117 [==============================] - 0s 2ms/step - loss: 0.0201 - accuracy: 0.9949\n",
            "Epoch 146/150\n",
            "117/117 [==============================] - 0s 3ms/step - loss: 0.0201 - accuracy: 0.9949\n",
            "Epoch 147/150\n",
            "117/117 [==============================] - 0s 3ms/step - loss: 0.0201 - accuracy: 0.9949\n",
            "Epoch 148/150\n",
            "117/117 [==============================] - 0s 2ms/step - loss: 0.0200 - accuracy: 0.9949\n",
            "Epoch 149/150\n",
            "117/117 [==============================] - 0s 3ms/step - loss: 0.0200 - accuracy: 0.9949\n",
            "Epoch 150/150\n",
            "117/117 [==============================] - 0s 2ms/step - loss: 0.0200 - accuracy: 0.9949\n"
          ]
        },
        {
          "output_type": "execute_result",
          "data": {
            "text/plain": [
              "<keras.callbacks.History at 0x7fdab38fdbe0>"
            ]
          },
          "metadata": {},
          "execution_count": 570
        }
      ]
    },
    {
      "cell_type": "code",
      "source": [
        "model.summary()"
      ],
      "metadata": {
        "colab": {
          "base_uri": "https://localhost:8080/"
        },
        "id": "LP8VylRlO6L6",
        "outputId": "2d496295-f1f4-4480-8832-15b39bc95f24"
      },
      "execution_count": 571,
      "outputs": [
        {
          "output_type": "stream",
          "name": "stdout",
          "text": [
            "Model: \"sequential_1\"\n",
            "_________________________________________________________________\n",
            " Layer (type)                Output Shape              Param #   \n",
            "=================================================================\n",
            " dense_6 (Dense)             (None, 12)                14160     \n",
            "                                                                 \n",
            " dense_7 (Dense)             (None, 8)                 104       \n",
            "                                                                 \n",
            " dense_8 (Dense)             (None, 8)                 72        \n",
            "                                                                 \n",
            " dense_9 (Dense)             (None, 8)                 72        \n",
            "                                                                 \n",
            " dense_10 (Dense)            (None, 4)                 36        \n",
            "                                                                 \n",
            " dense_11 (Dense)            (None, 1)                 5         \n",
            "                                                                 \n",
            "=================================================================\n",
            "Total params: 14,449\n",
            "Trainable params: 14,449\n",
            "Non-trainable params: 0\n",
            "_________________________________________________________________\n"
          ]
        }
      ]
    },
    {
      "cell_type": "code",
      "source": [
        "scores=model.evaluate(x,y)"
      ],
      "metadata": {
        "colab": {
          "base_uri": "https://localhost:8080/"
        },
        "id": "3ztLrWe5O6OS",
        "outputId": "3101cbbf-3ca7-4f58-a683-6175659d6091"
      },
      "execution_count": 572,
      "outputs": [
        {
          "output_type": "stream",
          "name": "stdout",
          "text": [
            "37/37 [==============================] - 0s 2ms/step - loss: 0.0200 - accuracy: 0.9949\n"
          ]
        }
      ]
    },
    {
      "cell_type": "code",
      "source": [
        "print(\"%s:%.2r%%\" % (model.metrics_names[1],scores[1]*100))"
      ],
      "metadata": {
        "colab": {
          "base_uri": "https://localhost:8080/"
        },
        "id": "bQkBS_wTPH_q",
        "outputId": "3ba7d307-701b-4496-948c-9f77b2752fe9"
      },
      "execution_count": 573,
      "outputs": [
        {
          "output_type": "stream",
          "name": "stdout",
          "text": [
            "accuracy:99%\n"
          ]
        }
      ]
    }
  ]
}