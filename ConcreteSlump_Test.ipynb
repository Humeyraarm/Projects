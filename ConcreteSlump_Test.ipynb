{
 "cells": [
  {
   "cell_type": "markdown",
   "id": "2af5ac38",
   "metadata": {
    "id": "2af5ac38"
   },
   "source": [
    "# Concrete Slump Test Regression\n",
    "\n",
    "👉 This study will examine the dataset named as **\"\n",
    "Concrete Slump Test Data Set\"** at UCI Machine Learning Repository website [external link text](https://archive.ics.uci.edu/ml/datasets/Concrete+Slump+Test)."
   ]
  },
  {
   "cell_type": "markdown",
   "id": "de0f6448",
   "metadata": {
    "id": "de0f6448"
   },
   "source": [
    "The concrete slump test measures the consistency of fresh concrete before it sets. It is performed to check the workability of freshly made concrete, and therefore the ease with which concrete flows. It can also be used as an indicator of an improperly mixed batch.\n",
    "\n",
    "<img src=\"https://i0.wp.com/civiconcepts.com/wp-content/uploads/2019/08/Slump-Cone-test-of-concrete.jpg?fit=977%2C488&ssl=1\">\n",
    "\n",
    "Our data set consists of various cement properties and the resulting slump test metrics in cm. Later on the set concrete is tested for its compressive strength 28 days later.\n",
    "\n",
    "Input variables (9):\n",
    "\n",
    "(component kg in one M^3 concrete)(7):\n",
    "* Cement\n",
    "* Slag\n",
    "* Fly ash\n",
    "* Water\n",
    "* SP\n",
    "* Coarse Aggr.\n",
    "* Fine Aggr.\n",
    "\n",
    "(Measurements)(2)\n",
    "* SLUMP (cm)\n",
    "* FLOW (cm)\n",
    "\n",
    "Target variable (1):\n",
    "* **28-day Compressive Strength (Mpa)**"
   ]
  },
  {
   "cell_type": "markdown",
   "id": "ebc30337",
   "metadata": {
    "id": "ebc30337"
   },
   "source": [
    "# Importing dependencies"
   ]
  },
  {
   "cell_type": "code",
   "execution_count": 2,
   "id": "spare-thumb",
   "metadata": {
    "executionInfo": {
     "elapsed": 1963,
     "status": "ok",
     "timestamp": 1674757992190,
     "user": {
      "displayName": "Humeyra Armutlu",
      "userId": "12643211298338865125"
     },
     "user_tz": -180
    },
    "id": "spare-thumb"
   },
   "outputs": [],
   "source": [
    "import numpy as np\n",
    "import pandas as pd\n",
    "import matplotlib.pyplot as plt\n",
    "import seaborn as sns\n",
    "plt.rcParams[\"figure.figsize\"] = (10,6)\n",
    "pd.set_option('display.max_columns', 100)"
   ]
  },
  {
   "cell_type": "markdown",
   "id": "ccc2374b",
   "metadata": {
    "id": "ccc2374b"
   },
   "source": [
    "# Loading data and EDA"
   ]
  },
  {
   "cell_type": "code",
   "execution_count": 3,
   "id": "atlantic-accountability",
   "metadata": {
    "colab": {
     "base_uri": "https://localhost:8080/",
     "height": 206
    },
    "executionInfo": {
     "elapsed": 31,
     "status": "ok",
     "timestamp": 1674757992192,
     "user": {
      "displayName": "Humeyra Armutlu",
      "userId": "12643211298338865125"
     },
     "user_tz": -180
    },
    "id": "atlantic-accountability",
    "outputId": "7af5cd6e-c023-4c41-e123-4bdf2ea2a720"
   },
   "outputs": [
    {
     "data": {
      "text/html": [
       "\n",
       "  <div id=\"df-9d66d65a-1ea7-4593-a1b3-91ca5a326b08\">\n",
       "    <div class=\"colab-df-container\">\n",
       "      <div>\n",
       "<style scoped>\n",
       "    .dataframe tbody tr th:only-of-type {\n",
       "        vertical-align: middle;\n",
       "    }\n",
       "\n",
       "    .dataframe tbody tr th {\n",
       "        vertical-align: top;\n",
       "    }\n",
       "\n",
       "    .dataframe thead th {\n",
       "        text-align: right;\n",
       "    }\n",
       "</style>\n",
       "<table border=\"1\" class=\"dataframe\">\n",
       "  <thead>\n",
       "    <tr style=\"text-align: right;\">\n",
       "      <th></th>\n",
       "      <th>Cement</th>\n",
       "      <th>Slag</th>\n",
       "      <th>Fly ash</th>\n",
       "      <th>Water</th>\n",
       "      <th>SP</th>\n",
       "      <th>Coarse Aggr.</th>\n",
       "      <th>Fine Aggr.</th>\n",
       "      <th>SLUMP(cm)</th>\n",
       "      <th>FLOW(cm)</th>\n",
       "      <th>Compressive Strength (28-day)(Mpa)</th>\n",
       "    </tr>\n",
       "  </thead>\n",
       "  <tbody>\n",
       "    <tr>\n",
       "      <th>0</th>\n",
       "      <td>273.0</td>\n",
       "      <td>82.0</td>\n",
       "      <td>105.0</td>\n",
       "      <td>210.0</td>\n",
       "      <td>9.0</td>\n",
       "      <td>904.0</td>\n",
       "      <td>680.0</td>\n",
       "      <td>23.0</td>\n",
       "      <td>62.0</td>\n",
       "      <td>34.99</td>\n",
       "    </tr>\n",
       "    <tr>\n",
       "      <th>1</th>\n",
       "      <td>163.0</td>\n",
       "      <td>149.0</td>\n",
       "      <td>191.0</td>\n",
       "      <td>180.0</td>\n",
       "      <td>12.0</td>\n",
       "      <td>843.0</td>\n",
       "      <td>746.0</td>\n",
       "      <td>0.0</td>\n",
       "      <td>20.0</td>\n",
       "      <td>41.14</td>\n",
       "    </tr>\n",
       "    <tr>\n",
       "      <th>2</th>\n",
       "      <td>162.0</td>\n",
       "      <td>148.0</td>\n",
       "      <td>191.0</td>\n",
       "      <td>179.0</td>\n",
       "      <td>16.0</td>\n",
       "      <td>840.0</td>\n",
       "      <td>743.0</td>\n",
       "      <td>1.0</td>\n",
       "      <td>20.0</td>\n",
       "      <td>41.81</td>\n",
       "    </tr>\n",
       "    <tr>\n",
       "      <th>3</th>\n",
       "      <td>162.0</td>\n",
       "      <td>148.0</td>\n",
       "      <td>190.0</td>\n",
       "      <td>179.0</td>\n",
       "      <td>19.0</td>\n",
       "      <td>838.0</td>\n",
       "      <td>741.0</td>\n",
       "      <td>3.0</td>\n",
       "      <td>21.5</td>\n",
       "      <td>42.08</td>\n",
       "    </tr>\n",
       "    <tr>\n",
       "      <th>4</th>\n",
       "      <td>154.0</td>\n",
       "      <td>112.0</td>\n",
       "      <td>144.0</td>\n",
       "      <td>220.0</td>\n",
       "      <td>10.0</td>\n",
       "      <td>923.0</td>\n",
       "      <td>658.0</td>\n",
       "      <td>20.0</td>\n",
       "      <td>64.0</td>\n",
       "      <td>26.82</td>\n",
       "    </tr>\n",
       "  </tbody>\n",
       "</table>\n",
       "</div>\n",
       "      <button class=\"colab-df-convert\" onclick=\"convertToInteractive('df-9d66d65a-1ea7-4593-a1b3-91ca5a326b08')\"\n",
       "              title=\"Convert this dataframe to an interactive table.\"\n",
       "              style=\"display:none;\">\n",
       "        \n",
       "  <svg xmlns=\"http://www.w3.org/2000/svg\" height=\"24px\"viewBox=\"0 0 24 24\"\n",
       "       width=\"24px\">\n",
       "    <path d=\"M0 0h24v24H0V0z\" fill=\"none\"/>\n",
       "    <path d=\"M18.56 5.44l.94 2.06.94-2.06 2.06-.94-2.06-.94-.94-2.06-.94 2.06-2.06.94zm-11 1L8.5 8.5l.94-2.06 2.06-.94-2.06-.94L8.5 2.5l-.94 2.06-2.06.94zm10 10l.94 2.06.94-2.06 2.06-.94-2.06-.94-.94-2.06-.94 2.06-2.06.94z\"/><path d=\"M17.41 7.96l-1.37-1.37c-.4-.4-.92-.59-1.43-.59-.52 0-1.04.2-1.43.59L10.3 9.45l-7.72 7.72c-.78.78-.78 2.05 0 2.83L4 21.41c.39.39.9.59 1.41.59.51 0 1.02-.2 1.41-.59l7.78-7.78 2.81-2.81c.8-.78.8-2.07 0-2.86zM5.41 20L4 18.59l7.72-7.72 1.47 1.35L5.41 20z\"/>\n",
       "  </svg>\n",
       "      </button>\n",
       "      \n",
       "  <style>\n",
       "    .colab-df-container {\n",
       "      display:flex;\n",
       "      flex-wrap:wrap;\n",
       "      gap: 12px;\n",
       "    }\n",
       "\n",
       "    .colab-df-convert {\n",
       "      background-color: #E8F0FE;\n",
       "      border: none;\n",
       "      border-radius: 50%;\n",
       "      cursor: pointer;\n",
       "      display: none;\n",
       "      fill: #1967D2;\n",
       "      height: 32px;\n",
       "      padding: 0 0 0 0;\n",
       "      width: 32px;\n",
       "    }\n",
       "\n",
       "    .colab-df-convert:hover {\n",
       "      background-color: #E2EBFA;\n",
       "      box-shadow: 0px 1px 2px rgba(60, 64, 67, 0.3), 0px 1px 3px 1px rgba(60, 64, 67, 0.15);\n",
       "      fill: #174EA6;\n",
       "    }\n",
       "\n",
       "    [theme=dark] .colab-df-convert {\n",
       "      background-color: #3B4455;\n",
       "      fill: #D2E3FC;\n",
       "    }\n",
       "\n",
       "    [theme=dark] .colab-df-convert:hover {\n",
       "      background-color: #434B5C;\n",
       "      box-shadow: 0px 1px 3px 1px rgba(0, 0, 0, 0.15);\n",
       "      filter: drop-shadow(0px 1px 2px rgba(0, 0, 0, 0.3));\n",
       "      fill: #FFFFFF;\n",
       "    }\n",
       "  </style>\n",
       "\n",
       "      <script>\n",
       "        const buttonEl =\n",
       "          document.querySelector('#df-9d66d65a-1ea7-4593-a1b3-91ca5a326b08 button.colab-df-convert');\n",
       "        buttonEl.style.display =\n",
       "          google.colab.kernel.accessAllowed ? 'block' : 'none';\n",
       "\n",
       "        async function convertToInteractive(key) {\n",
       "          const element = document.querySelector('#df-9d66d65a-1ea7-4593-a1b3-91ca5a326b08');\n",
       "          const dataTable =\n",
       "            await google.colab.kernel.invokeFunction('convertToInteractive',\n",
       "                                                     [key], {});\n",
       "          if (!dataTable) return;\n",
       "\n",
       "          const docLinkHtml = 'Like what you see? Visit the ' +\n",
       "            '<a target=\"_blank\" href=https://colab.research.google.com/notebooks/data_table.ipynb>data table notebook</a>'\n",
       "            + ' to learn more about interactive tables.';\n",
       "          element.innerHTML = '';\n",
       "          dataTable['output_type'] = 'display_data';\n",
       "          await google.colab.output.renderOutput(dataTable, element);\n",
       "          const docLink = document.createElement('div');\n",
       "          docLink.innerHTML = docLinkHtml;\n",
       "          element.appendChild(docLink);\n",
       "        }\n",
       "      </script>\n",
       "    </div>\n",
       "  </div>\n",
       "  "
      ],
      "text/plain": [
       "   Cement   Slag  Fly ash  Water    SP  Coarse Aggr.  Fine Aggr.  SLUMP(cm)  \\\n",
       "0   273.0   82.0    105.0  210.0   9.0         904.0       680.0       23.0   \n",
       "1   163.0  149.0    191.0  180.0  12.0         843.0       746.0        0.0   \n",
       "2   162.0  148.0    191.0  179.0  16.0         840.0       743.0        1.0   \n",
       "3   162.0  148.0    190.0  179.0  19.0         838.0       741.0        3.0   \n",
       "4   154.0  112.0    144.0  220.0  10.0         923.0       658.0       20.0   \n",
       "\n",
       "   FLOW(cm)  Compressive Strength (28-day)(Mpa)  \n",
       "0      62.0                               34.99  \n",
       "1      20.0                               41.14  \n",
       "2      20.0                               41.81  \n",
       "3      21.5                               42.08  \n",
       "4      64.0                               26.82  "
      ]
     },
     "execution_count": 3,
     "metadata": {},
     "output_type": "execute_result"
    }
   ],
   "source": [
    "df = pd.read_csv(\"cement_slump.csv\")\n",
    "df.head()"
   ]
  },
  {
   "cell_type": "code",
   "execution_count": 4,
   "id": "modified-blame",
   "metadata": {
    "colab": {
     "base_uri": "https://localhost:8080/"
    },
    "executionInfo": {
     "elapsed": 29,
     "status": "ok",
     "timestamp": 1674757992193,
     "user": {
      "displayName": "Humeyra Armutlu",
      "userId": "12643211298338865125"
     },
     "user_tz": -180
    },
    "id": "modified-blame",
    "outputId": "0ba98ec8-327c-4bec-b58d-617c55927708"
   },
   "outputs": [
    {
     "name": "stdout",
     "output_type": "stream",
     "text": [
      "<class 'pandas.core.frame.DataFrame'>\n",
      "RangeIndex: 103 entries, 0 to 102\n",
      "Data columns (total 10 columns):\n",
      " #   Column                              Non-Null Count  Dtype  \n",
      "---  ------                              --------------  -----  \n",
      " 0   Cement                              103 non-null    float64\n",
      " 1   Slag                                103 non-null    float64\n",
      " 2   Fly ash                             103 non-null    float64\n",
      " 3   Water                               103 non-null    float64\n",
      " 4   SP                                  103 non-null    float64\n",
      " 5   Coarse Aggr.                        103 non-null    float64\n",
      " 6   Fine Aggr.                          103 non-null    float64\n",
      " 7   SLUMP(cm)                           103 non-null    float64\n",
      " 8   FLOW(cm)                            103 non-null    float64\n",
      " 9   Compressive Strength (28-day)(Mpa)  103 non-null    float64\n",
      "dtypes: float64(10)\n",
      "memory usage: 8.2 KB\n"
     ]
    }
   ],
   "source": [
    "df.info()"
   ]
  },
  {
   "cell_type": "code",
   "execution_count": 5,
   "id": "3dcba22d",
   "metadata": {
    "colab": {
     "base_uri": "https://localhost:8080/",
     "height": 363
    },
    "executionInfo": {
     "elapsed": 24,
     "status": "ok",
     "timestamp": 1674757992195,
     "user": {
      "displayName": "Humeyra Armutlu",
      "userId": "12643211298338865125"
     },
     "user_tz": -180
    },
    "id": "3dcba22d",
    "outputId": "44780441-865f-426c-a62d-55a39510a58d"
   },
   "outputs": [
    {
     "data": {
      "text/html": [
       "\n",
       "  <div id=\"df-7154d718-5373-4390-ba75-991cf5ed64cf\">\n",
       "    <div class=\"colab-df-container\">\n",
       "      <div>\n",
       "<style scoped>\n",
       "    .dataframe tbody tr th:only-of-type {\n",
       "        vertical-align: middle;\n",
       "    }\n",
       "\n",
       "    .dataframe tbody tr th {\n",
       "        vertical-align: top;\n",
       "    }\n",
       "\n",
       "    .dataframe thead th {\n",
       "        text-align: right;\n",
       "    }\n",
       "</style>\n",
       "<table border=\"1\" class=\"dataframe\">\n",
       "  <thead>\n",
       "    <tr style=\"text-align: right;\">\n",
       "      <th></th>\n",
       "      <th>count</th>\n",
       "      <th>mean</th>\n",
       "      <th>std</th>\n",
       "      <th>min</th>\n",
       "      <th>25%</th>\n",
       "      <th>50%</th>\n",
       "      <th>75%</th>\n",
       "      <th>max</th>\n",
       "    </tr>\n",
       "  </thead>\n",
       "  <tbody>\n",
       "    <tr>\n",
       "      <th>Cement</th>\n",
       "      <td>103.0</td>\n",
       "      <td>229.894175</td>\n",
       "      <td>78.877230</td>\n",
       "      <td>137.00</td>\n",
       "      <td>152.00</td>\n",
       "      <td>248.00</td>\n",
       "      <td>303.900</td>\n",
       "      <td>374.00</td>\n",
       "    </tr>\n",
       "    <tr>\n",
       "      <th>Slag</th>\n",
       "      <td>103.0</td>\n",
       "      <td>77.973786</td>\n",
       "      <td>60.461363</td>\n",
       "      <td>0.00</td>\n",
       "      <td>0.05</td>\n",
       "      <td>100.00</td>\n",
       "      <td>125.000</td>\n",
       "      <td>193.00</td>\n",
       "    </tr>\n",
       "    <tr>\n",
       "      <th>Fly ash</th>\n",
       "      <td>103.0</td>\n",
       "      <td>149.014563</td>\n",
       "      <td>85.418080</td>\n",
       "      <td>0.00</td>\n",
       "      <td>115.50</td>\n",
       "      <td>164.00</td>\n",
       "      <td>235.950</td>\n",
       "      <td>260.00</td>\n",
       "    </tr>\n",
       "    <tr>\n",
       "      <th>Water</th>\n",
       "      <td>103.0</td>\n",
       "      <td>197.167961</td>\n",
       "      <td>20.208158</td>\n",
       "      <td>160.00</td>\n",
       "      <td>180.00</td>\n",
       "      <td>196.00</td>\n",
       "      <td>209.500</td>\n",
       "      <td>240.00</td>\n",
       "    </tr>\n",
       "    <tr>\n",
       "      <th>SP</th>\n",
       "      <td>103.0</td>\n",
       "      <td>8.539806</td>\n",
       "      <td>2.807530</td>\n",
       "      <td>4.40</td>\n",
       "      <td>6.00</td>\n",
       "      <td>8.00</td>\n",
       "      <td>10.000</td>\n",
       "      <td>19.00</td>\n",
       "    </tr>\n",
       "    <tr>\n",
       "      <th>Coarse Aggr.</th>\n",
       "      <td>103.0</td>\n",
       "      <td>883.978641</td>\n",
       "      <td>88.391393</td>\n",
       "      <td>708.00</td>\n",
       "      <td>819.50</td>\n",
       "      <td>879.00</td>\n",
       "      <td>952.800</td>\n",
       "      <td>1049.90</td>\n",
       "    </tr>\n",
       "    <tr>\n",
       "      <th>Fine Aggr.</th>\n",
       "      <td>103.0</td>\n",
       "      <td>739.604854</td>\n",
       "      <td>63.342117</td>\n",
       "      <td>640.60</td>\n",
       "      <td>684.50</td>\n",
       "      <td>742.70</td>\n",
       "      <td>788.000</td>\n",
       "      <td>902.00</td>\n",
       "    </tr>\n",
       "    <tr>\n",
       "      <th>SLUMP(cm)</th>\n",
       "      <td>103.0</td>\n",
       "      <td>18.048544</td>\n",
       "      <td>8.750844</td>\n",
       "      <td>0.00</td>\n",
       "      <td>14.50</td>\n",
       "      <td>21.50</td>\n",
       "      <td>24.000</td>\n",
       "      <td>29.00</td>\n",
       "    </tr>\n",
       "    <tr>\n",
       "      <th>FLOW(cm)</th>\n",
       "      <td>103.0</td>\n",
       "      <td>49.610680</td>\n",
       "      <td>17.568610</td>\n",
       "      <td>20.00</td>\n",
       "      <td>38.50</td>\n",
       "      <td>54.00</td>\n",
       "      <td>63.750</td>\n",
       "      <td>78.00</td>\n",
       "    </tr>\n",
       "    <tr>\n",
       "      <th>Compressive Strength (28-day)(Mpa)</th>\n",
       "      <td>103.0</td>\n",
       "      <td>36.038738</td>\n",
       "      <td>7.837120</td>\n",
       "      <td>17.19</td>\n",
       "      <td>30.90</td>\n",
       "      <td>35.52</td>\n",
       "      <td>41.205</td>\n",
       "      <td>58.53</td>\n",
       "    </tr>\n",
       "  </tbody>\n",
       "</table>\n",
       "</div>\n",
       "      <button class=\"colab-df-convert\" onclick=\"convertToInteractive('df-7154d718-5373-4390-ba75-991cf5ed64cf')\"\n",
       "              title=\"Convert this dataframe to an interactive table.\"\n",
       "              style=\"display:none;\">\n",
       "        \n",
       "  <svg xmlns=\"http://www.w3.org/2000/svg\" height=\"24px\"viewBox=\"0 0 24 24\"\n",
       "       width=\"24px\">\n",
       "    <path d=\"M0 0h24v24H0V0z\" fill=\"none\"/>\n",
       "    <path d=\"M18.56 5.44l.94 2.06.94-2.06 2.06-.94-2.06-.94-.94-2.06-.94 2.06-2.06.94zm-11 1L8.5 8.5l.94-2.06 2.06-.94-2.06-.94L8.5 2.5l-.94 2.06-2.06.94zm10 10l.94 2.06.94-2.06 2.06-.94-2.06-.94-.94-2.06-.94 2.06-2.06.94z\"/><path d=\"M17.41 7.96l-1.37-1.37c-.4-.4-.92-.59-1.43-.59-.52 0-1.04.2-1.43.59L10.3 9.45l-7.72 7.72c-.78.78-.78 2.05 0 2.83L4 21.41c.39.39.9.59 1.41.59.51 0 1.02-.2 1.41-.59l7.78-7.78 2.81-2.81c.8-.78.8-2.07 0-2.86zM5.41 20L4 18.59l7.72-7.72 1.47 1.35L5.41 20z\"/>\n",
       "  </svg>\n",
       "      </button>\n",
       "      \n",
       "  <style>\n",
       "    .colab-df-container {\n",
       "      display:flex;\n",
       "      flex-wrap:wrap;\n",
       "      gap: 12px;\n",
       "    }\n",
       "\n",
       "    .colab-df-convert {\n",
       "      background-color: #E8F0FE;\n",
       "      border: none;\n",
       "      border-radius: 50%;\n",
       "      cursor: pointer;\n",
       "      display: none;\n",
       "      fill: #1967D2;\n",
       "      height: 32px;\n",
       "      padding: 0 0 0 0;\n",
       "      width: 32px;\n",
       "    }\n",
       "\n",
       "    .colab-df-convert:hover {\n",
       "      background-color: #E2EBFA;\n",
       "      box-shadow: 0px 1px 2px rgba(60, 64, 67, 0.3), 0px 1px 3px 1px rgba(60, 64, 67, 0.15);\n",
       "      fill: #174EA6;\n",
       "    }\n",
       "\n",
       "    [theme=dark] .colab-df-convert {\n",
       "      background-color: #3B4455;\n",
       "      fill: #D2E3FC;\n",
       "    }\n",
       "\n",
       "    [theme=dark] .colab-df-convert:hover {\n",
       "      background-color: #434B5C;\n",
       "      box-shadow: 0px 1px 3px 1px rgba(0, 0, 0, 0.15);\n",
       "      filter: drop-shadow(0px 1px 2px rgba(0, 0, 0, 0.3));\n",
       "      fill: #FFFFFF;\n",
       "    }\n",
       "  </style>\n",
       "\n",
       "      <script>\n",
       "        const buttonEl =\n",
       "          document.querySelector('#df-7154d718-5373-4390-ba75-991cf5ed64cf button.colab-df-convert');\n",
       "        buttonEl.style.display =\n",
       "          google.colab.kernel.accessAllowed ? 'block' : 'none';\n",
       "\n",
       "        async function convertToInteractive(key) {\n",
       "          const element = document.querySelector('#df-7154d718-5373-4390-ba75-991cf5ed64cf');\n",
       "          const dataTable =\n",
       "            await google.colab.kernel.invokeFunction('convertToInteractive',\n",
       "                                                     [key], {});\n",
       "          if (!dataTable) return;\n",
       "\n",
       "          const docLinkHtml = 'Like what you see? Visit the ' +\n",
       "            '<a target=\"_blank\" href=https://colab.research.google.com/notebooks/data_table.ipynb>data table notebook</a>'\n",
       "            + ' to learn more about interactive tables.';\n",
       "          element.innerHTML = '';\n",
       "          dataTable['output_type'] = 'display_data';\n",
       "          await google.colab.output.renderOutput(dataTable, element);\n",
       "          const docLink = document.createElement('div');\n",
       "          docLink.innerHTML = docLinkHtml;\n",
       "          element.appendChild(docLink);\n",
       "        }\n",
       "      </script>\n",
       "    </div>\n",
       "  </div>\n",
       "  "
      ],
      "text/plain": [
       "                                    count        mean        std     min  \\\n",
       "Cement                              103.0  229.894175  78.877230  137.00   \n",
       "Slag                                103.0   77.973786  60.461363    0.00   \n",
       "Fly ash                             103.0  149.014563  85.418080    0.00   \n",
       "Water                               103.0  197.167961  20.208158  160.00   \n",
       "SP                                  103.0    8.539806   2.807530    4.40   \n",
       "Coarse Aggr.                        103.0  883.978641  88.391393  708.00   \n",
       "Fine Aggr.                          103.0  739.604854  63.342117  640.60   \n",
       "SLUMP(cm)                           103.0   18.048544   8.750844    0.00   \n",
       "FLOW(cm)                            103.0   49.610680  17.568610   20.00   \n",
       "Compressive Strength (28-day)(Mpa)  103.0   36.038738   7.837120   17.19   \n",
       "\n",
       "                                       25%     50%      75%      max  \n",
       "Cement                              152.00  248.00  303.900   374.00  \n",
       "Slag                                  0.05  100.00  125.000   193.00  \n",
       "Fly ash                             115.50  164.00  235.950   260.00  \n",
       "Water                               180.00  196.00  209.500   240.00  \n",
       "SP                                    6.00    8.00   10.000    19.00  \n",
       "Coarse Aggr.                        819.50  879.00  952.800  1049.90  \n",
       "Fine Aggr.                          684.50  742.70  788.000   902.00  \n",
       "SLUMP(cm)                            14.50   21.50   24.000    29.00  \n",
       "FLOW(cm)                             38.50   54.00   63.750    78.00  \n",
       "Compressive Strength (28-day)(Mpa)   30.90   35.52   41.205    58.53  "
      ]
     },
     "execution_count": 5,
     "metadata": {},
     "output_type": "execute_result"
    }
   ],
   "source": [
    "df.describe().T   #std > mean olduğu yerlerde outlier durumu oluyor."
   ]
  },
  {
   "cell_type": "code",
   "execution_count": 6,
   "id": "b7d24c72",
   "metadata": {
    "colab": {
     "base_uri": "https://localhost:8080/"
    },
    "executionInfo": {
     "elapsed": 23,
     "status": "ok",
     "timestamp": 1674757992196,
     "user": {
      "displayName": "Humeyra Armutlu",
      "userId": "12643211298338865125"
     },
     "user_tz": -180
    },
    "id": "b7d24c72",
    "outputId": "f3ea732c-f24f-4604-9f64-1c9dcd6c9df9"
   },
   "outputs": [
    {
     "data": {
      "text/plain": [
       "Cement                                0.445656\n",
       "Slag                                 -0.331522\n",
       "Fly ash                               0.444380\n",
       "Water                                -0.254320\n",
       "SP                                   -0.037909\n",
       "Coarse Aggr.                         -0.160610\n",
       "Fine Aggr.                           -0.154532\n",
       "SLUMP(cm)                            -0.223499\n",
       "FLOW(cm)                             -0.124189\n",
       "Compressive Strength (28-day)(Mpa)    1.000000\n",
       "Name: Compressive Strength (28-day)(Mpa), dtype: float64"
      ]
     },
     "execution_count": 6,
     "metadata": {},
     "output_type": "execute_result"
    }
   ],
   "source": [
    "df.corr()['Compressive Strength (28-day)(Mpa)'] #target column ile features arasındaki ilişkiye baktım.Yüzde 50 altında hepsi.Yüzde 90a çıkan multicol."
   ]
  },
  {
   "cell_type": "markdown",
   "id": "c1552cb6",
   "metadata": {
    "id": "c1552cb6"
   },
   "source": [
    "## Graphical analysis"
   ]
  },
  {
   "cell_type": "code",
   "execution_count": 7,
   "id": "6c4cf9c2",
   "metadata": {
    "colab": {
     "base_uri": "https://localhost:8080/",
     "height": 787
    },
    "executionInfo": {
     "elapsed": 2566,
     "status": "ok",
     "timestamp": 1674757994743,
     "user": {
      "displayName": "Humeyra Armutlu",
      "userId": "12643211298338865125"
     },
     "user_tz": -180
    },
    "id": "6c4cf9c2",
    "outputId": "8333ac55-7505-49ea-c90d-cd8f2a6def0b"
   },
   "outputs": [
    {
     "data": {
      "text/plain": [
       "<matplotlib.axes._subplots.AxesSubplot at 0x7f33a14cdf70>"
      ]
     },
     "execution_count": 7,
     "metadata": {},
     "output_type": "execute_result"
    },
    {
     "data": {
      "image/png": "[encoded data removed]",
      "text/plain": [
       "<Figure size 1440x720 with 2 Axes>"
      ]
     },
     "metadata": {
      "needs_background": "light"
     },
     "output_type": "display_data"
    }
   ],
   "source": [
    "plt.figure(figsize=(20,10))                          #flow ve slump yüzde 90 üzeri corele.Multicol.olduklarını gösterir.\n",
    "sns.heatmap(df.corr(), annot = True, vmin=-1, vmax=1)"
   ]
  },
  {
   "cell_type": "code",
   "execution_count": 8,
   "id": "14acc455",
   "metadata": {
    "executionInfo": {
     "elapsed": 22,
     "status": "ok",
     "timestamp": 1674757994744,
     "user": {
      "displayName": "Humeyra Armutlu",
      "userId": "12643211298338865125"
     },
     "user_tz": -180
    },
    "id": "14acc455"
   },
   "outputs": [],
   "source": [
    "#sns.pairplot(df)  #data küçük olduğunda iyi."
   ]
  },
  {
   "cell_type": "code",
   "execution_count": 9,
   "id": "1e0ac692",
   "metadata": {
    "colab": {
     "base_uri": "https://localhost:8080/",
     "height": 609
    },
    "executionInfo": {
     "elapsed": 620,
     "status": "ok",
     "timestamp": 1674757995343,
     "user": {
      "displayName": "Humeyra Armutlu",
      "userId": "12643211298338865125"
     },
     "user_tz": -180
    },
    "id": "1e0ac692",
    "outputId": "b3108bb2-cb3a-4f36-b068-751e2c4464fa"
   },
   "outputs": [
    {
     "data": {
      "text/plain": [
       "<matplotlib.axes._subplots.AxesSubplot at 0x7f3398c21dc0>"
      ]
     },
     "execution_count": 9,
     "metadata": {},
     "output_type": "execute_result"
    },
    {
     "data": {
      "image/png": "[encoded data removed]",
      "text/plain": [
       "<Figure size 1440x720 with 1 Axes>"
      ]
     },
     "metadata": {
      "needs_background": "light"
     },
     "output_type": "display_data"
    }
   ],
   "source": [
    "plt.figure(figsize =(20,10))  #Features are different scaled.I should scaled them.box plot also shows this. \n",
    "df.boxplot()"
   ]
  },
  {
   "cell_type": "markdown",
   "id": "delayed-textbook",
   "metadata": {
    "id": "delayed-textbook"
   },
   "source": [
    "### Train | Test Split"
   ]
  },
  {
   "cell_type": "code",
   "execution_count": 10,
   "id": "pointed-swift",
   "metadata": {
    "executionInfo": {
     "elapsed": 15,
     "status": "ok",
     "timestamp": 1674757995345,
     "user": {
      "displayName": "Humeyra Armutlu",
      "userId": "12643211298338865125"
     },
     "user_tz": -180
    },
    "id": "pointed-swift"
   },
   "outputs": [],
   "source": [
    "x = df.drop(\"Compressive Strength (28-day)(Mpa)\", axis =1)\n",
    "y = df[\"Compressive Strength (28-day)(Mpa)\"]"
   ]
  },
  {
   "cell_type": "code",
   "execution_count": 11,
   "id": "rubber-fairy",
   "metadata": {
    "executionInfo": {
     "elapsed": 14,
     "status": "ok",
     "timestamp": 1674757995346,
     "user": {
      "displayName": "Humeyra Armutlu",
      "userId": "12643211298338865125"
     },
     "user_tz": -180
    },
    "id": "rubber-fairy"
   },
   "outputs": [],
   "source": [
    "from sklearn.model_selection import train_test_split"
   ]
  },
  {
   "cell_type": "code",
   "execution_count": 13,
   "id": "graphic-lafayette",
   "metadata": {
    "executionInfo": {
     "elapsed": 558,
     "status": "ok",
     "timestamp": 1674758009289,
     "user": {
      "displayName": "Humeyra Armutlu",
      "userId": "12643211298338865125"
     },
     "user_tz": -180
    },
    "id": "graphic-lafayette"
   },
   "outputs": [],
   "source": [
    "x_train, x_test, y_train, y_test = train_test_split(x, y, test_size=0.2, random_state=42) "
   ]
  },
  {
   "cell_type": "markdown",
   "id": "sized-census",
   "metadata": {
    "id": "sized-census"
   },
   "source": [
    "## Scaling the Data"
   ]
  },
  {
   "cell_type": "code",
   "execution_count": 14,
   "id": "identified-closing",
   "metadata": {
    "executionInfo": {
     "elapsed": 533,
     "status": "ok",
     "timestamp": 1674758012755,
     "user": {
      "displayName": "Humeyra Armutlu",
      "userId": "12643211298338865125"
     },
     "user_tz": -180
    },
    "id": "identified-closing"
   },
   "outputs": [],
   "source": [
    "from sklearn.preprocessing import StandardScaler, MinMaxScaler, RobustScaler  \n",
    "scaler = StandardScaler()"
   ]
  },
  {
   "cell_type": "code",
   "execution_count": 15,
   "id": "anticipated-logging",
   "metadata": {
    "colab": {
     "base_uri": "https://localhost:8080/"
    },
    "executionInfo": {
     "elapsed": 4,
     "status": "ok",
     "timestamp": 1674758014654,
     "user": {
      "displayName": "Humeyra Armutlu",
      "userId": "12643211298338865125"
     },
     "user_tz": -180
    },
    "id": "anticipated-logging",
    "outputId": "65ab5dae-d83a-40b0-899a-1acd4610f4f5"
   },
   "outputs": [
    {
     "data": {
      "text/plain": [
       "StandardScaler()"
      ]
     },
     "execution_count": 15,
     "metadata": {},
     "output_type": "execute_result"
    }
   ],
   "source": [
    "#scaling fit ve transform train set üzerinden yapılır.\n",
    "scaler.fit(x_train)         "
   ]
  },
  {
   "cell_type": "code",
   "execution_count": 16,
   "id": "varied-final",
   "metadata": {
    "executionInfo": {
     "elapsed": 414,
     "status": "ok",
     "timestamp": 1674758016972,
     "user": {
      "displayName": "Humeyra Armutlu",
      "userId": "12643211298338865125"
     },
     "user_tz": -180
    },
    "id": "varied-final"
   },
   "outputs": [],
   "source": [
    "x_train_scaled = scaler.transform(x_train)"
   ]
  },
  {
   "cell_type": "code",
   "execution_count": 17,
   "id": "challenging-citizen",
   "metadata": {
    "executionInfo": {
     "elapsed": 5,
     "status": "ok",
     "timestamp": 1674758018566,
     "user": {
      "displayName": "Humeyra Armutlu",
      "userId": "12643211298338865125"
     },
     "user_tz": -180
    },
    "id": "challenging-citizen"
   },
   "outputs": [],
   "source": [
    "x_test_scaled = scaler.transform(x_test) \n",
    "# data leakage olmasın diye train değerleriyle test datasında transform yapıyoruz\n"
   ]
  },
  {
   "cell_type": "code",
   "execution_count": 18,
   "id": "UDbL8uyg1Ync",
   "metadata": {
    "executionInfo": {
     "elapsed": 4,
     "status": "ok",
     "timestamp": 1674758020330,
     "user": {
      "displayName": "Humeyra Armutlu",
      "userId": "12643211298338865125"
     },
     "user_tz": -180
    },
    "id": "UDbL8uyg1Ync"
   },
   "outputs": [],
   "source": [
    "def regression_funct(x,y):\n",
    "    from sklearn.linear_model import LinearRegression\n",
    "    from sklearn.linear_model import Ridge,Lasso\n",
    "    from sklearn.linear_model import ElasticNet\n",
    "    from sklearn.tree import ExtraTreeRegressor\n",
    "    from sklearn.ensemble import GradientBoostingRegressor\n",
    "    from sklearn.neighbors import KNeighborsRegressor\n",
    "    #from sklearn.model_selection import train_test_split\n",
    "\n",
    "    from sklearn.metrics import mean_squared_error,r2_score,mean_absolute_error\n",
    "\n",
    "    L=LinearRegression()\n",
    "    R=Ridge()\n",
    "    Lass=Lasso()\n",
    "    E=ElasticNet()\n",
    "    ExTree=ExtraTreeRegressor()\n",
    "    GBR=GradientBoostingRegressor()\n",
    "    KN=KNeighborsRegressor()\n",
    "    \n",
    "    algos=[L,R,Lass,E,ExTree,GBR,KN]\n",
    "    algo_names=['LinearRegression','Ridge','Lasso','ElasticNet','ExtraTreeRegressor','GradientBoostingRegressor','KNeighborsRegressor']\n",
    "    r_squared=[]\n",
    "    rmse=[]\n",
    "    mae=[]\n",
    "\n",
    "    result=pd.DataFrame(columns=['R_Squared','RMSE','MAE'],index=algo_names)\n",
    "    \n",
    "    #x_train,x_test,y_train,y_test=train_test_split(x,y,test_size=0.2,random_state=42)\n",
    "    \n",
    "    for item in algos:\n",
    "        item.fit(x_train,y_train)\n",
    "        pred = item.predict(x_test)\n",
    "        r_squared.append(r2_score(y_test,item.predict(x_test)))\n",
    "        rmse.append((mean_squared_error(y_test,item.predict(x_test)))**.5)\n",
    "        mae.append(mean_absolute_error(y_test,item.predict(x_test)))\n",
    "    \n",
    "    result.R_Squared=r_squared\n",
    "    result.RMSE=rmse\n",
    "    result.MAE=mae\n",
    "   \n",
    "\n",
    "    return result.sort_values('R_Squared',ascending=False)"
   ]
  },
  {
   "cell_type": "code",
   "execution_count": 19,
   "id": "x_MOC6dN1YlR",
   "metadata": {
    "colab": {
     "base_uri": "https://localhost:8080/",
     "height": 269
    },
    "executionInfo": {
     "elapsed": 401,
     "status": "ok",
     "timestamp": 1674758028193,
     "user": {
      "displayName": "Humeyra Armutlu",
      "userId": "12643211298338865125"
     },
     "user_tz": -180
    },
    "id": "x_MOC6dN1YlR",
    "outputId": "f5c06571-9e26-4493-98cc-4497259df0da"
   },
   "outputs": [
    {
     "data": {
      "text/html": [
       "\n",
       "  <div id=\"df-814c9eca-99ec-437d-920e-f09f4530ca4d\">\n",
       "    <div class=\"colab-df-container\">\n",
       "      <div>\n",
       "<style scoped>\n",
       "    .dataframe tbody tr th:only-of-type {\n",
       "        vertical-align: middle;\n",
       "    }\n",
       "\n",
       "    .dataframe tbody tr th {\n",
       "        vertical-align: top;\n",
       "    }\n",
       "\n",
       "    .dataframe thead th {\n",
       "        text-align: right;\n",
       "    }\n",
       "</style>\n",
       "<table border=\"1\" class=\"dataframe\">\n",
       "  <thead>\n",
       "    <tr style=\"text-align: right;\">\n",
       "      <th></th>\n",
       "      <th>R_Squared</th>\n",
       "      <th>RMSE</th>\n",
       "      <th>MAE</th>\n",
       "    </tr>\n",
       "  </thead>\n",
       "  <tbody>\n",
       "    <tr>\n",
       "      <th>ElasticNet</th>\n",
       "      <td>0.913017</td>\n",
       "      <td>2.097878</td>\n",
       "      <td>1.676145</td>\n",
       "    </tr>\n",
       "    <tr>\n",
       "      <th>Lasso</th>\n",
       "      <td>0.912471</td>\n",
       "      <td>2.104457</td>\n",
       "      <td>1.647911</td>\n",
       "    </tr>\n",
       "    <tr>\n",
       "      <th>Ridge</th>\n",
       "      <td>0.911972</td>\n",
       "      <td>2.110438</td>\n",
       "      <td>1.740248</td>\n",
       "    </tr>\n",
       "    <tr>\n",
       "      <th>LinearRegression</th>\n",
       "      <td>0.911967</td>\n",
       "      <td>2.110506</td>\n",
       "      <td>1.740383</td>\n",
       "    </tr>\n",
       "    <tr>\n",
       "      <th>GradientBoostingRegressor</th>\n",
       "      <td>0.839260</td>\n",
       "      <td>2.851837</td>\n",
       "      <td>2.248010</td>\n",
       "    </tr>\n",
       "    <tr>\n",
       "      <th>KNeighborsRegressor</th>\n",
       "      <td>0.824862</td>\n",
       "      <td>2.976830</td>\n",
       "      <td>2.512476</td>\n",
       "    </tr>\n",
       "    <tr>\n",
       "      <th>ExtraTreeRegressor</th>\n",
       "      <td>0.492370</td>\n",
       "      <td>5.068004</td>\n",
       "      <td>3.338571</td>\n",
       "    </tr>\n",
       "  </tbody>\n",
       "</table>\n",
       "</div>\n",
       "      <button class=\"colab-df-convert\" onclick=\"convertToInteractive('df-814c9eca-99ec-437d-920e-f09f4530ca4d')\"\n",
       "              title=\"Convert this dataframe to an interactive table.\"\n",
       "              style=\"display:none;\">\n",
       "        \n",
       "  <svg xmlns=\"http://www.w3.org/2000/svg\" height=\"24px\"viewBox=\"0 0 24 24\"\n",
       "       width=\"24px\">\n",
       "    <path d=\"M0 0h24v24H0V0z\" fill=\"none\"/>\n",
       "    <path d=\"M18.56 5.44l.94 2.06.94-2.06 2.06-.94-2.06-.94-.94-2.06-.94 2.06-2.06.94zm-11 1L8.5 8.5l.94-2.06 2.06-.94-2.06-.94L8.5 2.5l-.94 2.06-2.06.94zm10 10l.94 2.06.94-2.06 2.06-.94-2.06-.94-.94-2.06-.94 2.06-2.06.94z\"/><path d=\"M17.41 7.96l-1.37-1.37c-.4-.4-.92-.59-1.43-.59-.52 0-1.04.2-1.43.59L10.3 9.45l-7.72 7.72c-.78.78-.78 2.05 0 2.83L4 21.41c.39.39.9.59 1.41.59.51 0 1.02-.2 1.41-.59l7.78-7.78 2.81-2.81c.8-.78.8-2.07 0-2.86zM5.41 20L4 18.59l7.72-7.72 1.47 1.35L5.41 20z\"/>\n",
       "  </svg>\n",
       "      </button>\n",
       "      \n",
       "  <style>\n",
       "    .colab-df-container {\n",
       "      display:flex;\n",
       "      flex-wrap:wrap;\n",
       "      gap: 12px;\n",
       "    }\n",
       "\n",
       "    .colab-df-convert {\n",
       "      background-color: #E8F0FE;\n",
       "      border: none;\n",
       "      border-radius: 50%;\n",
       "      cursor: pointer;\n",
       "      display: none;\n",
       "      fill: #1967D2;\n",
       "      height: 32px;\n",
       "      padding: 0 0 0 0;\n",
       "      width: 32px;\n",
       "    }\n",
       "\n",
       "    .colab-df-convert:hover {\n",
       "      background-color: #E2EBFA;\n",
       "      box-shadow: 0px 1px 2px rgba(60, 64, 67, 0.3), 0px 1px 3px 1px rgba(60, 64, 67, 0.15);\n",
       "      fill: #174EA6;\n",
       "    }\n",
       "\n",
       "    [theme=dark] .colab-df-convert {\n",
       "      background-color: #3B4455;\n",
       "      fill: #D2E3FC;\n",
       "    }\n",
       "\n",
       "    [theme=dark] .colab-df-convert:hover {\n",
       "      background-color: #434B5C;\n",
       "      box-shadow: 0px 1px 3px 1px rgba(0, 0, 0, 0.15);\n",
       "      filter: drop-shadow(0px 1px 2px rgba(0, 0, 0, 0.3));\n",
       "      fill: #FFFFFF;\n",
       "    }\n",
       "  </style>\n",
       "\n",
       "      <script>\n",
       "        const buttonEl =\n",
       "          document.querySelector('#df-814c9eca-99ec-437d-920e-f09f4530ca4d button.colab-df-convert');\n",
       "        buttonEl.style.display =\n",
       "          google.colab.kernel.accessAllowed ? 'block' : 'none';\n",
       "\n",
       "        async function convertToInteractive(key) {\n",
       "          const element = document.querySelector('#df-814c9eca-99ec-437d-920e-f09f4530ca4d');\n",
       "          const dataTable =\n",
       "            await google.colab.kernel.invokeFunction('convertToInteractive',\n",
       "                                                     [key], {});\n",
       "          if (!dataTable) return;\n",
       "\n",
       "          const docLinkHtml = 'Like what you see? Visit the ' +\n",
       "            '<a target=\"_blank\" href=https://colab.research.google.com/notebooks/data_table.ipynb>data table notebook</a>'\n",
       "            + ' to learn more about interactive tables.';\n",
       "          element.innerHTML = '';\n",
       "          dataTable['output_type'] = 'display_data';\n",
       "          await google.colab.output.renderOutput(dataTable, element);\n",
       "          const docLink = document.createElement('div');\n",
       "          docLink.innerHTML = docLinkHtml;\n",
       "          element.appendChild(docLink);\n",
       "        }\n",
       "      </script>\n",
       "    </div>\n",
       "  </div>\n",
       "  "
      ],
      "text/plain": [
       "                           R_Squared      RMSE       MAE\n",
       "ElasticNet                  0.913017  2.097878  1.676145\n",
       "Lasso                       0.912471  2.104457  1.647911\n",
       "Ridge                       0.911972  2.110438  1.740248\n",
       "LinearRegression            0.911967  2.110506  1.740383\n",
       "GradientBoostingRegressor   0.839260  2.851837  2.248010\n",
       "KNeighborsRegressor         0.824862  2.976830  2.512476\n",
       "ExtraTreeRegressor          0.492370  5.068004  3.338571"
      ]
     },
     "execution_count": 19,
     "metadata": {},
     "output_type": "execute_result"
    }
   ],
   "source": [
    "regression_funct(x_train_scaled,y_train)"
   ]
  },
  {
   "cell_type": "markdown",
   "id": "meaningful-israel",
   "metadata": {
    "id": "meaningful-israel"
   },
   "source": [
    "## Cross Validate"
   ]
  },
  {
   "cell_type": "code",
   "execution_count": null,
   "id": "a57ece5c",
   "metadata": {},
   "outputs": [],
   "source": [
    "---Cross validation yani çapraz doğrulama anlamına gelen yöntem temelde tüm veri setini hem train hem de test verisi gibi kullanmaktadır.\n",
    "Makine öğrenmesi modeli kurulurken belli bir oranda veriyi train ve test olarak ayırırız. Ancak buradaki handikap örneğin; modelin öğrenmesini istediğimiz bazı uç değerler belki test bölümünde kalmış olabilir. \n",
    "Bu değerler train veri seti üzerinde, modeli eğitirken olmayacağı için algoritmayı test edildiğinde sonuçlar beklendiği gibi çıkmayabilir.\n",
    "O halde neye göre train veri setini ayırmamız gerekiyor ki test sırasında olabildiğince az sürpriz veri ile karşı karşıya kalabilelim. \n",
    "Tam bu noktada cross validation ile çapraz doğrulama yaparak train içinde yakalanabilecek en optimum değerleri yakalayabiliriz."
   ]
  },
  {
   "cell_type": "code",
   "execution_count": 20,
   "id": "mature-verification",
   "metadata": {
    "executionInfo": {
     "elapsed": 391,
     "status": "ok",
     "timestamp": 1674758035541,
     "user": {
      "displayName": "Humeyra Armutlu",
      "userId": "12643211298338865125"
     },
     "user_tz": -180
    },
    "id": "mature-verification"
   },
   "outputs": [],
   "source": [
    "#from sklearn.metrics import SCORERS\n",
    "#list(SCORERS.keys())"
   ]
  },
  {
   "cell_type": "code",
   "execution_count": 21,
   "id": "unusual-flexibility",
   "metadata": {
    "executionInfo": {
     "elapsed": 2,
     "status": "ok",
     "timestamp": 1674758037423,
     "user": {
      "displayName": "Humeyra Armutlu",
      "userId": "12643211298338865125"
     },
     "user_tz": -180
    },
    "id": "unusual-flexibility"
   },
   "outputs": [],
   "source": [
    "from sklearn.model_selection import cross_validate, cross_val_score\n",
    "from sklearn.linear_model import ElasticNet"
   ]
  },
  {
   "cell_type": "code",
   "execution_count": 22,
   "id": "v8fH-Lucnk4E",
   "metadata": {
    "executionInfo": {
     "elapsed": 1123,
     "status": "ok",
     "timestamp": 1674758038977,
     "user": {
      "displayName": "Humeyra Armutlu",
      "userId": "12643211298338865125"
     },
     "user_tz": -180
    },
    "id": "v8fH-Lucnk4E"
   },
   "outputs": [],
   "source": [
    "model = ElasticNet()"
   ]
  },
  {
   "cell_type": "code",
   "execution_count": 23,
   "id": "visible-roller",
   "metadata": {
    "executionInfo": {
     "elapsed": 4,
     "status": "ok",
     "timestamp": 1674758040393,
     "user": {
      "displayName": "Humeyra Armutlu",
      "userId": "12643211298338865125"
     },
     "user_tz": -180
    },
    "id": "visible-roller"
   },
   "outputs": [],
   "source": [
    "scores = cross_validate(model, x_train_scaled, y_train, scoring = ['r2', 'neg_mean_absolute_error','neg_mean_squared_error',  #R2 maximize ederken diğerlerini minimize etmeye çalışamaz aynı fonk içinde.oyüzden eksiden max ediyoruz.\n",
    "                                                            'neg_root_mean_squared_error'], cv = 5)"
   ]
  },
  {
   "cell_type": "code",
   "execution_count": 24,
   "id": "liable-investigation",
   "metadata": {
    "colab": {
     "base_uri": "https://localhost:8080/",
     "height": 206
    },
    "executionInfo": {
     "elapsed": 10,
     "status": "ok",
     "timestamp": 1674758042311,
     "user": {
      "displayName": "Humeyra Armutlu",
      "userId": "12643211298338865125"
     },
     "user_tz": -180
    },
    "id": "liable-investigation",
    "outputId": "bf344913-89c4-4b23-9a36-8a350777b3e2"
   },
   "outputs": [
    {
     "data": {
      "text/html": [
       "\n",
       "  <div id=\"df-36e9aa02-12a3-4032-a6d1-e195f6e0af6b\">\n",
       "    <div class=\"colab-df-container\">\n",
       "      <div>\n",
       "<style scoped>\n",
       "    .dataframe tbody tr th:only-of-type {\n",
       "        vertical-align: middle;\n",
       "    }\n",
       "\n",
       "    .dataframe tbody tr th {\n",
       "        vertical-align: top;\n",
       "    }\n",
       "\n",
       "    .dataframe thead th {\n",
       "        text-align: right;\n",
       "    }\n",
       "</style>\n",
       "<table border=\"1\" class=\"dataframe\">\n",
       "  <thead>\n",
       "    <tr style=\"text-align: right;\">\n",
       "      <th></th>\n",
       "      <th>fit_time</th>\n",
       "      <th>score_time</th>\n",
       "      <th>test_r2</th>\n",
       "      <th>test_neg_mean_absolute_error</th>\n",
       "      <th>test_neg_mean_squared_error</th>\n",
       "      <th>test_neg_root_mean_squared_error</th>\n",
       "    </tr>\n",
       "  </thead>\n",
       "  <tbody>\n",
       "    <tr>\n",
       "      <th>1</th>\n",
       "      <td>0.001798</td>\n",
       "      <td>0.001826</td>\n",
       "      <td>0.570214</td>\n",
       "      <td>-4.890605</td>\n",
       "      <td>-34.545133</td>\n",
       "      <td>-5.877511</td>\n",
       "    </tr>\n",
       "    <tr>\n",
       "      <th>2</th>\n",
       "      <td>0.000904</td>\n",
       "      <td>0.001221</td>\n",
       "      <td>0.460275</td>\n",
       "      <td>-3.333896</td>\n",
       "      <td>-19.789406</td>\n",
       "      <td>-4.448529</td>\n",
       "    </tr>\n",
       "    <tr>\n",
       "      <th>3</th>\n",
       "      <td>0.000892</td>\n",
       "      <td>0.001342</td>\n",
       "      <td>0.542123</td>\n",
       "      <td>-3.013683</td>\n",
       "      <td>-12.724666</td>\n",
       "      <td>-3.567165</td>\n",
       "    </tr>\n",
       "    <tr>\n",
       "      <th>4</th>\n",
       "      <td>0.000909</td>\n",
       "      <td>0.001168</td>\n",
       "      <td>0.537711</td>\n",
       "      <td>-5.548235</td>\n",
       "      <td>-50.745379</td>\n",
       "      <td>-7.123579</td>\n",
       "    </tr>\n",
       "    <tr>\n",
       "      <th>5</th>\n",
       "      <td>0.000846</td>\n",
       "      <td>0.001104</td>\n",
       "      <td>0.604910</td>\n",
       "      <td>-4.222511</td>\n",
       "      <td>-22.315915</td>\n",
       "      <td>-4.723972</td>\n",
       "    </tr>\n",
       "  </tbody>\n",
       "</table>\n",
       "</div>\n",
       "      <button class=\"colab-df-convert\" onclick=\"convertToInteractive('df-36e9aa02-12a3-4032-a6d1-e195f6e0af6b')\"\n",
       "              title=\"Convert this dataframe to an interactive table.\"\n",
       "              style=\"display:none;\">\n",
       "        \n",
       "  <svg xmlns=\"http://www.w3.org/2000/svg\" height=\"24px\"viewBox=\"0 0 24 24\"\n",
       "       width=\"24px\">\n",
       "    <path d=\"M0 0h24v24H0V0z\" fill=\"none\"/>\n",
       "    <path d=\"M18.56 5.44l.94 2.06.94-2.06 2.06-.94-2.06-.94-.94-2.06-.94 2.06-2.06.94zm-11 1L8.5 8.5l.94-2.06 2.06-.94-2.06-.94L8.5 2.5l-.94 2.06-2.06.94zm10 10l.94 2.06.94-2.06 2.06-.94-2.06-.94-.94-2.06-.94 2.06-2.06.94z\"/><path d=\"M17.41 7.96l-1.37-1.37c-.4-.4-.92-.59-1.43-.59-.52 0-1.04.2-1.43.59L10.3 9.45l-7.72 7.72c-.78.78-.78 2.05 0 2.83L4 21.41c.39.39.9.59 1.41.59.51 0 1.02-.2 1.41-.59l7.78-7.78 2.81-2.81c.8-.78.8-2.07 0-2.86zM5.41 20L4 18.59l7.72-7.72 1.47 1.35L5.41 20z\"/>\n",
       "  </svg>\n",
       "      </button>\n",
       "      \n",
       "  <style>\n",
       "    .colab-df-container {\n",
       "      display:flex;\n",
       "      flex-wrap:wrap;\n",
       "      gap: 12px;\n",
       "    }\n",
       "\n",
       "    .colab-df-convert {\n",
       "      background-color: #E8F0FE;\n",
       "      border: none;\n",
       "      border-radius: 50%;\n",
       "      cursor: pointer;\n",
       "      display: none;\n",
       "      fill: #1967D2;\n",
       "      height: 32px;\n",
       "      padding: 0 0 0 0;\n",
       "      width: 32px;\n",
       "    }\n",
       "\n",
       "    .colab-df-convert:hover {\n",
       "      background-color: #E2EBFA;\n",
       "      box-shadow: 0px 1px 2px rgba(60, 64, 67, 0.3), 0px 1px 3px 1px rgba(60, 64, 67, 0.15);\n",
       "      fill: #174EA6;\n",
       "    }\n",
       "\n",
       "    [theme=dark] .colab-df-convert {\n",
       "      background-color: #3B4455;\n",
       "      fill: #D2E3FC;\n",
       "    }\n",
       "\n",
       "    [theme=dark] .colab-df-convert:hover {\n",
       "      background-color: #434B5C;\n",
       "      box-shadow: 0px 1px 3px 1px rgba(0, 0, 0, 0.15);\n",
       "      filter: drop-shadow(0px 1px 2px rgba(0, 0, 0, 0.3));\n",
       "      fill: #FFFFFF;\n",
       "    }\n",
       "  </style>\n",
       "\n",
       "      <script>\n",
       "        const buttonEl =\n",
       "          document.querySelector('#df-36e9aa02-12a3-4032-a6d1-e195f6e0af6b button.colab-df-convert');\n",
       "        buttonEl.style.display =\n",
       "          google.colab.kernel.accessAllowed ? 'block' : 'none';\n",
       "\n",
       "        async function convertToInteractive(key) {\n",
       "          const element = document.querySelector('#df-36e9aa02-12a3-4032-a6d1-e195f6e0af6b');\n",
       "          const dataTable =\n",
       "            await google.colab.kernel.invokeFunction('convertToInteractive',\n",
       "                                                     [key], {});\n",
       "          if (!dataTable) return;\n",
       "\n",
       "          const docLinkHtml = 'Like what you see? Visit the ' +\n",
       "            '<a target=\"_blank\" href=https://colab.research.google.com/notebooks/data_table.ipynb>data table notebook</a>'\n",
       "            + ' to learn more about interactive tables.';\n",
       "          element.innerHTML = '';\n",
       "          dataTable['output_type'] = 'display_data';\n",
       "          await google.colab.output.renderOutput(dataTable, element);\n",
       "          const docLink = document.createElement('div');\n",
       "          docLink.innerHTML = docLinkHtml;\n",
       "          element.appendChild(docLink);\n",
       "        }\n",
       "      </script>\n",
       "    </div>\n",
       "  </div>\n",
       "  "
      ],
      "text/plain": [
       "   fit_time  score_time   test_r2  test_neg_mean_absolute_error  \\\n",
       "1  0.001798    0.001826  0.570214                     -4.890605   \n",
       "2  0.000904    0.001221  0.460275                     -3.333896   \n",
       "3  0.000892    0.001342  0.542123                     -3.013683   \n",
       "4  0.000909    0.001168  0.537711                     -5.548235   \n",
       "5  0.000846    0.001104  0.604910                     -4.222511   \n",
       "\n",
       "   test_neg_mean_squared_error  test_neg_root_mean_squared_error  \n",
       "1                   -34.545133                         -5.877511  \n",
       "2                   -19.789406                         -4.448529  \n",
       "3                   -12.724666                         -3.567165  \n",
       "4                   -50.745379                         -7.123579  \n",
       "5                   -22.315915                         -4.723972  "
      ]
     },
     "execution_count": 24,
     "metadata": {},
     "output_type": "execute_result"
    }
   ],
   "source": [
    "pd.DataFrame(scores, index = range(1,6))"
   ]
  },
  {
   "cell_type": "code",
   "execution_count": 26,
   "id": "established-tournament",
   "metadata": {
    "executionInfo": {
     "elapsed": 385,
     "status": "ok",
     "timestamp": 1674758067779,
     "user": {
      "displayName": "Humeyra Armutlu",
      "userId": "12643211298338865125"
     },
     "user_tz": -180
    },
    "id": "established-tournament"
   },
   "outputs": [],
   "source": [
    "# cross_validation, test setinden aldığımız tek seferlik score ın tutarlı olup olmadığını doğrulamak için yapılır\n",
    "# train score ile cross validation score kıyaslanıp over fittinge karar verilir\n",
    "#Burada gördüm ki 0.91lik score elastic netin en iyi paramtresinin sonucudur.cv sonrası score düştü.\n",
    "#GridSearchCV yaparak elastic net hangi alfa ile ve lasso,ridge ile kulland"
   ]
  },
  {
   "cell_type": "code",
   "execution_count": 27,
   "id": "awful-split",
   "metadata": {
    "colab": {
     "base_uri": "https://localhost:8080/",
     "height": 418
    },
    "executionInfo": {
     "elapsed": 602,
     "status": "ok",
     "timestamp": 1674758069938,
     "user": {
      "displayName": "Humeyra Armutlu",
      "userId": "12643211298338865125"
     },
     "user_tz": -180
    },
    "id": "awful-split",
    "outputId": "55e912d8-f2e3-47d6-8d73-144389bdc8eb",
    "scrolled": false
   },
   "outputs": [
    {
     "data": {
      "image/png": "[encoded data removed]",
      "text/plain": [
       "<Figure size 576x396 with 1 Axes>"
      ]
     },
     "metadata": {},
     "output_type": "display_data"
    },
    {
     "data": {
      "text/plain": [
       "<matplotlib.axes._subplots.AxesSubplot at 0x7f338e7243a0>"
      ]
     },
     "execution_count": 27,
     "metadata": {},
     "output_type": "execute_result"
    }
   ],
   "source": [
    "from yellowbrick.model_selection import FeatureImportances \n",
    "\n",
    "model = ElasticNet(alpha=0.1)  # lasso_cv_model.alpha_ = 0.1\n",
    "viz = FeatureImportances(model,labels=list(x.columns),relative=False)\n",
    "viz.fit(x_train_scaled,y_train)\n",
    "viz.show()\n",
    "\n"
   ]
  },
  {
   "cell_type": "code",
   "execution_count": null,
   "id": "e_y5GC2QTQ2s",
   "metadata": {
    "executionInfo": {
     "elapsed": 28,
     "status": "aborted",
     "timestamp": 1674757995964,
     "user": {
      "displayName": "Humeyra Armutlu",
      "userId": "12643211298338865125"
     },
     "user_tz": -180
    },
    "id": "e_y5GC2QTQ2s"
   },
   "outputs": [],
   "source": [
    "#!pip install pycaret \n"
   ]
  },
  {
   "cell_type": "code",
   "execution_count": null,
   "id": "ibS8SFJiWTvB",
   "metadata": {
    "executionInfo": {
     "elapsed": 27,
     "status": "aborted",
     "timestamp": 1674757995964,
     "user": {
      "displayName": "Humeyra Armutlu",
      "userId": "12643211298338865125"
     },
     "user_tz": -180
    },
    "id": "ibS8SFJiWTvB"
   },
   "outputs": [],
   "source": [
    "#!pip install scikit-learn==0.23.2"
   ]
  },
  {
   "cell_type": "code",
   "execution_count": 28,
   "id": "u-GAM0ofTTp5",
   "metadata": {
    "executionInfo": {
     "elapsed": 1824,
     "status": "ok",
     "timestamp": 1674758076173,
     "user": {
      "displayName": "Humeyra Armutlu",
      "userId": "12643211298338865125"
     },
     "user_tz": -180
    },
    "id": "u-GAM0ofTTp5"
   },
   "outputs": [],
   "source": [
    "import pandas as pd\n",
    "import numpy as np \n",
    "from pycaret.regression import *"
   ]
  },
  {
   "cell_type": "code",
   "execution_count": 29,
   "id": "9_4OSItRTTud",
   "metadata": {
    "colab": {
     "base_uri": "https://localhost:8080/",
     "height": 1000,
     "referenced_widgets": [
      "a82d2b7f9dde4db29381ab6a10e0d0da",
      "76a40282faf344c7a7b901f1a9ded244",
      "e956cbad99864002a7570581e7105079",
      "7891d84deade4062b1a28856b48c6bef",
      "aa4cee0b035d4e6fa02e422b3ca2d278",
      "43e1862a046b4661bc1c9eb4fae560d1"
     ]
    },
    "executionInfo": {
     "elapsed": 599842,
     "status": "ok",
     "timestamp": 1674761315194,
     "user": {
      "displayName": "Humeyra Armutlu",
      "userId": "12643211298338865125"
     },
     "user_tz": -180
    },
    "id": "9_4OSItRTTud",
    "outputId": "1e0dff4c-580a-4654-ecff-24de456884a3"
   },
   "outputs": [
    {
     "data": {
      "text/html": [
       "\n",
       "  <div id=\"df-d8eabc8d-f34f-47ba-8105-e1b3d5a25f9b\">\n",
       "    <div class=\"colab-df-container\">\n",
       "      <div>\n",
       "<style scoped>\n",
       "    .dataframe tbody tr th:only-of-type {\n",
       "        vertical-align: middle;\n",
       "    }\n",
       "\n",
       "    .dataframe tbody tr th {\n",
       "        vertical-align: top;\n",
       "    }\n",
       "\n",
       "    .dataframe thead th {\n",
       "        text-align: right;\n",
       "    }\n",
       "</style>\n",
       "<table border=\"1\" class=\"dataframe\">\n",
       "  <thead>\n",
       "    <tr style=\"text-align: right;\">\n",
       "      <th></th>\n",
       "      <th>Description</th>\n",
       "      <th>Value</th>\n",
       "    </tr>\n",
       "  </thead>\n",
       "  <tbody>\n",
       "    <tr>\n",
       "      <th>0</th>\n",
       "      <td>session_id</td>\n",
       "      <td>493</td>\n",
       "    </tr>\n",
       "    <tr>\n",
       "      <th>1</th>\n",
       "      <td>Target</td>\n",
       "      <td>Compressive Strength (28-day)(Mpa)</td>\n",
       "    </tr>\n",
       "    <tr>\n",
       "      <th>2</th>\n",
       "      <td>Original Data</td>\n",
       "      <td>(103, 10)</td>\n",
       "    </tr>\n",
       "    <tr>\n",
       "      <th>3</th>\n",
       "      <td>Missing Values</td>\n",
       "      <td>False</td>\n",
       "    </tr>\n",
       "    <tr>\n",
       "      <th>4</th>\n",
       "      <td>Numeric Features</td>\n",
       "      <td>9</td>\n",
       "    </tr>\n",
       "    <tr>\n",
       "      <th>5</th>\n",
       "      <td>Categorical Features</td>\n",
       "      <td>0</td>\n",
       "    </tr>\n",
       "    <tr>\n",
       "      <th>6</th>\n",
       "      <td>Ordinal Features</td>\n",
       "      <td>False</td>\n",
       "    </tr>\n",
       "    <tr>\n",
       "      <th>7</th>\n",
       "      <td>High Cardinality Features</td>\n",
       "      <td>False</td>\n",
       "    </tr>\n",
       "    <tr>\n",
       "      <th>8</th>\n",
       "      <td>High Cardinality Method</td>\n",
       "      <td>None</td>\n",
       "    </tr>\n",
       "    <tr>\n",
       "      <th>9</th>\n",
       "      <td>Transformed Train Set</td>\n",
       "      <td>(72, 9)</td>\n",
       "    </tr>\n",
       "    <tr>\n",
       "      <th>10</th>\n",
       "      <td>Transformed Test Set</td>\n",
       "      <td>(31, 9)</td>\n",
       "    </tr>\n",
       "    <tr>\n",
       "      <th>11</th>\n",
       "      <td>Shuffle Train-Test</td>\n",
       "      <td>True</td>\n",
       "    </tr>\n",
       "    <tr>\n",
       "      <th>12</th>\n",
       "      <td>Stratify Train-Test</td>\n",
       "      <td>False</td>\n",
       "    </tr>\n",
       "    <tr>\n",
       "      <th>13</th>\n",
       "      <td>Fold Generator</td>\n",
       "      <td>KFold</td>\n",
       "    </tr>\n",
       "    <tr>\n",
       "      <th>14</th>\n",
       "      <td>Fold Number</td>\n",
       "      <td>10</td>\n",
       "    </tr>\n",
       "    <tr>\n",
       "      <th>15</th>\n",
       "      <td>CPU Jobs</td>\n",
       "      <td>-1</td>\n",
       "    </tr>\n",
       "    <tr>\n",
       "      <th>16</th>\n",
       "      <td>Use GPU</td>\n",
       "      <td>False</td>\n",
       "    </tr>\n",
       "    <tr>\n",
       "      <th>17</th>\n",
       "      <td>Log Experiment</td>\n",
       "      <td>False</td>\n",
       "    </tr>\n",
       "    <tr>\n",
       "      <th>18</th>\n",
       "      <td>Experiment Name</td>\n",
       "      <td>reg-default-name</td>\n",
       "    </tr>\n",
       "    <tr>\n",
       "      <th>19</th>\n",
       "      <td>USI</td>\n",
       "      <td>b167</td>\n",
       "    </tr>\n",
       "    <tr>\n",
       "      <th>20</th>\n",
       "      <td>Imputation Type</td>\n",
       "      <td>simple</td>\n",
       "    </tr>\n",
       "    <tr>\n",
       "      <th>21</th>\n",
       "      <td>Iterative Imputation Iteration</td>\n",
       "      <td>None</td>\n",
       "    </tr>\n",
       "    <tr>\n",
       "      <th>22</th>\n",
       "      <td>Numeric Imputer</td>\n",
       "      <td>mean</td>\n",
       "    </tr>\n",
       "    <tr>\n",
       "      <th>23</th>\n",
       "      <td>Iterative Imputation Numeric Model</td>\n",
       "      <td>None</td>\n",
       "    </tr>\n",
       "    <tr>\n",
       "      <th>24</th>\n",
       "      <td>Categorical Imputer</td>\n",
       "      <td>constant</td>\n",
       "    </tr>\n",
       "    <tr>\n",
       "      <th>25</th>\n",
       "      <td>Iterative Imputation Categorical Model</td>\n",
       "      <td>None</td>\n",
       "    </tr>\n",
       "    <tr>\n",
       "      <th>26</th>\n",
       "      <td>Unknown Categoricals Handling</td>\n",
       "      <td>least_frequent</td>\n",
       "    </tr>\n",
       "    <tr>\n",
       "      <th>27</th>\n",
       "      <td>Normalize</td>\n",
       "      <td>False</td>\n",
       "    </tr>\n",
       "    <tr>\n",
       "      <th>28</th>\n",
       "      <td>Normalize Method</td>\n",
       "      <td>None</td>\n",
       "    </tr>\n",
       "    <tr>\n",
       "      <th>29</th>\n",
       "      <td>Transformation</td>\n",
       "      <td>False</td>\n",
       "    </tr>\n",
       "    <tr>\n",
       "      <th>30</th>\n",
       "      <td>Transformation Method</td>\n",
       "      <td>None</td>\n",
       "    </tr>\n",
       "    <tr>\n",
       "      <th>31</th>\n",
       "      <td>PCA</td>\n",
       "      <td>False</td>\n",
       "    </tr>\n",
       "    <tr>\n",
       "      <th>32</th>\n",
       "      <td>PCA Method</td>\n",
       "      <td>None</td>\n",
       "    </tr>\n",
       "    <tr>\n",
       "      <th>33</th>\n",
       "      <td>PCA Components</td>\n",
       "      <td>None</td>\n",
       "    </tr>\n",
       "    <tr>\n",
       "      <th>34</th>\n",
       "      <td>Ignore Low Variance</td>\n",
       "      <td>False</td>\n",
       "    </tr>\n",
       "    <tr>\n",
       "      <th>35</th>\n",
       "      <td>Combine Rare Levels</td>\n",
       "      <td>False</td>\n",
       "    </tr>\n",
       "    <tr>\n",
       "      <th>36</th>\n",
       "      <td>Rare Level Threshold</td>\n",
       "      <td>None</td>\n",
       "    </tr>\n",
       "    <tr>\n",
       "      <th>37</th>\n",
       "      <td>Numeric Binning</td>\n",
       "      <td>False</td>\n",
       "    </tr>\n",
       "    <tr>\n",
       "      <th>38</th>\n",
       "      <td>Remove Outliers</td>\n",
       "      <td>False</td>\n",
       "    </tr>\n",
       "    <tr>\n",
       "      <th>39</th>\n",
       "      <td>Outliers Threshold</td>\n",
       "      <td>None</td>\n",
       "    </tr>\n",
       "    <tr>\n",
       "      <th>40</th>\n",
       "      <td>Remove Multicollinearity</td>\n",
       "      <td>False</td>\n",
       "    </tr>\n",
       "    <tr>\n",
       "      <th>41</th>\n",
       "      <td>Multicollinearity Threshold</td>\n",
       "      <td>None</td>\n",
       "    </tr>\n",
       "    <tr>\n",
       "      <th>42</th>\n",
       "      <td>Remove Perfect Collinearity</td>\n",
       "      <td>True</td>\n",
       "    </tr>\n",
       "    <tr>\n",
       "      <th>43</th>\n",
       "      <td>Clustering</td>\n",
       "      <td>False</td>\n",
       "    </tr>\n",
       "    <tr>\n",
       "      <th>44</th>\n",
       "      <td>Clustering Iteration</td>\n",
       "      <td>None</td>\n",
       "    </tr>\n",
       "    <tr>\n",
       "      <th>45</th>\n",
       "      <td>Polynomial Features</td>\n",
       "      <td>False</td>\n",
       "    </tr>\n",
       "    <tr>\n",
       "      <th>46</th>\n",
       "      <td>Polynomial Degree</td>\n",
       "      <td>None</td>\n",
       "    </tr>\n",
       "    <tr>\n",
       "      <th>47</th>\n",
       "      <td>Trignometry Features</td>\n",
       "      <td>False</td>\n",
       "    </tr>\n",
       "    <tr>\n",
       "      <th>48</th>\n",
       "      <td>Polynomial Threshold</td>\n",
       "      <td>None</td>\n",
       "    </tr>\n",
       "    <tr>\n",
       "      <th>49</th>\n",
       "      <td>Group Features</td>\n",
       "      <td>False</td>\n",
       "    </tr>\n",
       "    <tr>\n",
       "      <th>50</th>\n",
       "      <td>Feature Selection</td>\n",
       "      <td>False</td>\n",
       "    </tr>\n",
       "    <tr>\n",
       "      <th>51</th>\n",
       "      <td>Feature Selection Method</td>\n",
       "      <td>classic</td>\n",
       "    </tr>\n",
       "    <tr>\n",
       "      <th>52</th>\n",
       "      <td>Features Selection Threshold</td>\n",
       "      <td>None</td>\n",
       "    </tr>\n",
       "    <tr>\n",
       "      <th>53</th>\n",
       "      <td>Feature Interaction</td>\n",
       "      <td>False</td>\n",
       "    </tr>\n",
       "    <tr>\n",
       "      <th>54</th>\n",
       "      <td>Feature Ratio</td>\n",
       "      <td>False</td>\n",
       "    </tr>\n",
       "    <tr>\n",
       "      <th>55</th>\n",
       "      <td>Interaction Threshold</td>\n",
       "      <td>None</td>\n",
       "    </tr>\n",
       "    <tr>\n",
       "      <th>56</th>\n",
       "      <td>Transform Target</td>\n",
       "      <td>False</td>\n",
       "    </tr>\n",
       "    <tr>\n",
       "      <th>57</th>\n",
       "      <td>Transform Target Method</td>\n",
       "      <td>box-cox</td>\n",
       "    </tr>\n",
       "  </tbody>\n",
       "</table>\n",
       "</div>\n",
       "      <button class=\"colab-df-convert\" onclick=\"convertToInteractive('df-d8eabc8d-f34f-47ba-8105-e1b3d5a25f9b')\"\n",
       "              title=\"Convert this dataframe to an interactive table.\"\n",
       "              style=\"display:none;\">\n",
       "        \n",
       "  <svg xmlns=\"http://www.w3.org/2000/svg\" height=\"24px\"viewBox=\"0 0 24 24\"\n",
       "       width=\"24px\">\n",
       "    <path d=\"M0 0h24v24H0V0z\" fill=\"none\"/>\n",
       "    <path d=\"M18.56 5.44l.94 2.06.94-2.06 2.06-.94-2.06-.94-.94-2.06-.94 2.06-2.06.94zm-11 1L8.5 8.5l.94-2.06 2.06-.94-2.06-.94L8.5 2.5l-.94 2.06-2.06.94zm10 10l.94 2.06.94-2.06 2.06-.94-2.06-.94-.94-2.06-.94 2.06-2.06.94z\"/><path d=\"M17.41 7.96l-1.37-1.37c-.4-.4-.92-.59-1.43-.59-.52 0-1.04.2-1.43.59L10.3 9.45l-7.72 7.72c-.78.78-.78 2.05 0 2.83L4 21.41c.39.39.9.59 1.41.59.51 0 1.02-.2 1.41-.59l7.78-7.78 2.81-2.81c.8-.78.8-2.07 0-2.86zM5.41 20L4 18.59l7.72-7.72 1.47 1.35L5.41 20z\"/>\n",
       "  </svg>\n",
       "      </button>\n",
       "      \n",
       "  <style>\n",
       "    .colab-df-container {\n",
       "      display:flex;\n",
       "      flex-wrap:wrap;\n",
       "      gap: 12px;\n",
       "    }\n",
       "\n",
       "    .colab-df-convert {\n",
       "      background-color: #E8F0FE;\n",
       "      border: none;\n",
       "      border-radius: 50%;\n",
       "      cursor: pointer;\n",
       "      display: none;\n",
       "      fill: #1967D2;\n",
       "      height: 32px;\n",
       "      padding: 0 0 0 0;\n",
       "      width: 32px;\n",
       "    }\n",
       "\n",
       "    .colab-df-convert:hover {\n",
       "      background-color: #E2EBFA;\n",
       "      box-shadow: 0px 1px 2px rgba(60, 64, 67, 0.3), 0px 1px 3px 1px rgba(60, 64, 67, 0.15);\n",
       "      fill: #174EA6;\n",
       "    }\n",
       "\n",
       "    [theme=dark] .colab-df-convert {\n",
       "      background-color: #3B4455;\n",
       "      fill: #D2E3FC;\n",
       "    }\n",
       "\n",
       "    [theme=dark] .colab-df-convert:hover {\n",
       "      background-color: #434B5C;\n",
       "      box-shadow: 0px 1px 3px 1px rgba(0, 0, 0, 0.15);\n",
       "      filter: drop-shadow(0px 1px 2px rgba(0, 0, 0, 0.3));\n",
       "      fill: #FFFFFF;\n",
       "    }\n",
       "  </style>\n",
       "\n",
       "      <script>\n",
       "        const buttonEl =\n",
       "          document.querySelector('#df-d8eabc8d-f34f-47ba-8105-e1b3d5a25f9b button.colab-df-convert');\n",
       "        buttonEl.style.display =\n",
       "          google.colab.kernel.accessAllowed ? 'block' : 'none';\n",
       "\n",
       "        async function convertToInteractive(key) {\n",
       "          const element = document.querySelector('#df-d8eabc8d-f34f-47ba-8105-e1b3d5a25f9b');\n",
       "          const dataTable =\n",
       "            await google.colab.kernel.invokeFunction('convertToInteractive',\n",
       "                                                     [key], {});\n",
       "          if (!dataTable) return;\n",
       "\n",
       "          const docLinkHtml = 'Like what you see? Visit the ' +\n",
       "            '<a target=\"_blank\" href=https://colab.research.google.com/notebooks/data_table.ipynb>data table notebook</a>'\n",
       "            + ' to learn more about interactive tables.';\n",
       "          element.innerHTML = '';\n",
       "          dataTable['output_type'] = 'display_data';\n",
       "          await google.colab.output.renderOutput(dataTable, element);\n",
       "          const docLink = document.createElement('div');\n",
       "          docLink.innerHTML = docLinkHtml;\n",
       "          element.appendChild(docLink);\n",
       "        }\n",
       "      </script>\n",
       "    </div>\n",
       "  </div>\n",
       "  "
      ],
      "text/plain": [
       "                               Description                               Value\n",
       "0                               session_id                                 493\n",
       "1                                   Target  Compressive Strength (28-day)(Mpa)\n",
       "2                            Original Data                           (103, 10)\n",
       "3                           Missing Values                               False\n",
       "4                         Numeric Features                                   9\n",
       "5                     Categorical Features                                   0\n",
       "6                         Ordinal Features                               False\n",
       "7                High Cardinality Features                               False\n",
       "8                  High Cardinality Method                                None\n",
       "9                    Transformed Train Set                             (72, 9)\n",
       "10                    Transformed Test Set                             (31, 9)\n",
       "11                      Shuffle Train-Test                                True\n",
       "12                     Stratify Train-Test                               False\n",
       "13                          Fold Generator                               KFold\n",
       "14                             Fold Number                                  10\n",
       "15                                CPU Jobs                                  -1\n",
       "16                                 Use GPU                               False\n",
       "17                          Log Experiment                               False\n",
       "18                         Experiment Name                    reg-default-name\n",
       "19                                     USI                                b167\n",
       "20                         Imputation Type                              simple\n",
       "21          Iterative Imputation Iteration                                None\n",
       "22                         Numeric Imputer                                mean\n",
       "23      Iterative Imputation Numeric Model                                None\n",
       "24                     Categorical Imputer                            constant\n",
       "25  Iterative Imputation Categorical Model                                None\n",
       "26           Unknown Categoricals Handling                      least_frequent\n",
       "27                               Normalize                               False\n",
       "28                        Normalize Method                                None\n",
       "29                          Transformation                               False\n",
       "30                   Transformation Method                                None\n",
       "31                                     PCA                               False\n",
       "32                              PCA Method                                None\n",
       "33                          PCA Components                                None\n",
       "34                     Ignore Low Variance                               False\n",
       "35                     Combine Rare Levels                               False\n",
       "36                    Rare Level Threshold                                None\n",
       "37                         Numeric Binning                               False\n",
       "38                         Remove Outliers                               False\n",
       "39                      Outliers Threshold                                None\n",
       "40                Remove Multicollinearity                               False\n",
       "41             Multicollinearity Threshold                                None\n",
       "42             Remove Perfect Collinearity                                True\n",
       "43                              Clustering                               False\n",
       "44                    Clustering Iteration                                None\n",
       "45                     Polynomial Features                               False\n",
       "46                       Polynomial Degree                                None\n",
       "47                    Trignometry Features                               False\n",
       "48                    Polynomial Threshold                                None\n",
       "49                          Group Features                               False\n",
       "50                       Feature Selection                               False\n",
       "51                Feature Selection Method                             classic\n",
       "52            Features Selection Threshold                                None\n",
       "53                     Feature Interaction                               False\n",
       "54                           Feature Ratio                               False\n",
       "55                   Interaction Threshold                                None\n",
       "56                        Transform Target                               False\n",
       "57                 Transform Target Method                             box-cox"
      ]
     },
     "metadata": {},
     "output_type": "display_data"
    },
    {
     "name": "stderr",
     "output_type": "stream",
     "text": [
      "INFO:logs:create_model_container: 0\n",
      "INFO:logs:master_model_container: 0\n",
      "INFO:logs:display_container: 1\n",
      "INFO:logs:Pipeline(memory=None,\n",
      "         steps=[('dtypes',\n",
      "                 DataTypes_Auto_infer(categorical_features=[],\n",
      "                                      display_types=True, features_todrop=[],\n",
      "                                      id_columns=[], ml_usecase='regression',\n",
      "                                      numerical_features=[],\n",
      "                                      target='Compressive Strength '\n",
      "                                             '(28-day)(Mpa)',\n",
      "                                      time_features=[])),\n",
      "                ('imputer',\n",
      "                 Simple_Imputer(categorical_strategy='not_available',\n",
      "                                fill_value_categorical=None,\n",
      "                                fill_value_nume...\n",
      "                ('binn', 'passthrough'), ('rem_outliers', 'passthrough'),\n",
      "                ('cluster_all', 'passthrough'),\n",
      "                ('dummy', Dummify(target='Compressive Strength (28-day)(Mpa)')),\n",
      "                ('fix_perfect',\n",
      "                 Remove_100(target='Compressive Strength (28-day)(Mpa)')),\n",
      "                ('clean_names', Clean_Colum_Names()),\n",
      "                ('feature_select', 'passthrough'), ('fix_multi', 'passthrough'),\n",
      "                ('dfs', 'passthrough'), ('pca', 'passthrough')],\n",
      "         verbose=False)\n",
      "INFO:logs:setup() succesfully completed......................................\n"
     ]
    }
   ],
   "source": [
    "reg =setup(data=df,target=\"Compressive Strength (28-day)(Mpa)\")"
   ]
  },
  {
   "cell_type": "code",
   "execution_count": 30,
   "id": "cHQN7ur1TQ7h",
   "metadata": {
    "colab": {
     "base_uri": "https://localhost:8080/",
     "height": 804,
     "referenced_widgets": [
      "0fff300f2e0a435699c1eef14292361c",
      "be0a03e10b884b52854a2f2221eee8dc",
      "20c9d5dc5296480f9ad53631952c02e9"
     ]
    },
    "executionInfo": {
     "elapsed": 23453,
     "status": "ok",
     "timestamp": 1674761485233,
     "user": {
      "displayName": "Humeyra Armutlu",
      "userId": "12643211298338865125"
     },
     "user_tz": -180
    },
    "id": "cHQN7ur1TQ7h",
    "outputId": "a0c72308-db60-49f8-bf3a-6f1a636787e9"
   },
   "outputs": [
    {
     "data": {
      "text/html": [
       "\n",
       "  <div id=\"df-fbc2decc-3555-4fd9-aabf-fb36aa15dccf\">\n",
       "    <div class=\"colab-df-container\">\n",
       "      <div>\n",
       "<style scoped>\n",
       "    .dataframe tbody tr th:only-of-type {\n",
       "        vertical-align: middle;\n",
       "    }\n",
       "\n",
       "    .dataframe tbody tr th {\n",
       "        vertical-align: top;\n",
       "    }\n",
       "\n",
       "    .dataframe thead th {\n",
       "        text-align: right;\n",
       "    }\n",
       "</style>\n",
       "<table border=\"1\" class=\"dataframe\">\n",
       "  <thead>\n",
       "    <tr style=\"text-align: right;\">\n",
       "      <th></th>\n",
       "      <th>Model</th>\n",
       "      <th>MAE</th>\n",
       "      <th>MSE</th>\n",
       "      <th>RMSE</th>\n",
       "      <th>R2</th>\n",
       "      <th>RMSLE</th>\n",
       "      <th>MAPE</th>\n",
       "      <th>TT (Sec)</th>\n",
       "    </tr>\n",
       "  </thead>\n",
       "  <tbody>\n",
       "    <tr>\n",
       "      <th>et</th>\n",
       "      <td>Extra Trees Regressor</td>\n",
       "      <td>2.2961</td>\n",
       "      <td>8.3812</td>\n",
       "      <td>2.7688</td>\n",
       "      <td>0.8114</td>\n",
       "      <td>0.0786</td>\n",
       "      <td>0.0675</td>\n",
       "      <td>0.259</td>\n",
       "    </tr>\n",
       "    <tr>\n",
       "      <th>br</th>\n",
       "      <td>Bayesian Ridge</td>\n",
       "      <td>2.2837</td>\n",
       "      <td>8.3621</td>\n",
       "      <td>2.8415</td>\n",
       "      <td>0.7930</td>\n",
       "      <td>0.0793</td>\n",
       "      <td>0.0656</td>\n",
       "      <td>0.011</td>\n",
       "    </tr>\n",
       "    <tr>\n",
       "      <th>lasso</th>\n",
       "      <td>Lasso Regression</td>\n",
       "      <td>2.3191</td>\n",
       "      <td>8.4340</td>\n",
       "      <td>2.8603</td>\n",
       "      <td>0.7842</td>\n",
       "      <td>0.0804</td>\n",
       "      <td>0.0670</td>\n",
       "      <td>0.013</td>\n",
       "    </tr>\n",
       "    <tr>\n",
       "      <th>en</th>\n",
       "      <td>Elastic Net</td>\n",
       "      <td>2.3316</td>\n",
       "      <td>8.5103</td>\n",
       "      <td>2.8669</td>\n",
       "      <td>0.7807</td>\n",
       "      <td>0.0805</td>\n",
       "      <td>0.0673</td>\n",
       "      <td>0.014</td>\n",
       "    </tr>\n",
       "    <tr>\n",
       "      <th>huber</th>\n",
       "      <td>Huber Regressor</td>\n",
       "      <td>2.4620</td>\n",
       "      <td>9.4098</td>\n",
       "      <td>2.9725</td>\n",
       "      <td>0.7675</td>\n",
       "      <td>0.0818</td>\n",
       "      <td>0.0692</td>\n",
       "      <td>0.035</td>\n",
       "    </tr>\n",
       "    <tr>\n",
       "      <th>ridge</th>\n",
       "      <td>Ridge Regression</td>\n",
       "      <td>2.4264</td>\n",
       "      <td>8.9751</td>\n",
       "      <td>2.9388</td>\n",
       "      <td>0.7582</td>\n",
       "      <td>0.0826</td>\n",
       "      <td>0.0700</td>\n",
       "      <td>0.012</td>\n",
       "    </tr>\n",
       "    <tr>\n",
       "      <th>lr</th>\n",
       "      <td>Linear Regression</td>\n",
       "      <td>2.4273</td>\n",
       "      <td>8.9812</td>\n",
       "      <td>2.9398</td>\n",
       "      <td>0.7579</td>\n",
       "      <td>0.0826</td>\n",
       "      <td>0.0700</td>\n",
       "      <td>0.556</td>\n",
       "    </tr>\n",
       "    <tr>\n",
       "      <th>lar</th>\n",
       "      <td>Least Angle Regression</td>\n",
       "      <td>2.4273</td>\n",
       "      <td>8.9812</td>\n",
       "      <td>2.9398</td>\n",
       "      <td>0.7579</td>\n",
       "      <td>0.0826</td>\n",
       "      <td>0.0700</td>\n",
       "      <td>0.012</td>\n",
       "    </tr>\n",
       "    <tr>\n",
       "      <th>gbr</th>\n",
       "      <td>Gradient Boosting Regressor</td>\n",
       "      <td>2.4674</td>\n",
       "      <td>10.2548</td>\n",
       "      <td>3.1320</td>\n",
       "      <td>0.7505</td>\n",
       "      <td>0.0930</td>\n",
       "      <td>0.0760</td>\n",
       "      <td>0.076</td>\n",
       "    </tr>\n",
       "    <tr>\n",
       "      <th>par</th>\n",
       "      <td>Passive Aggressive Regressor</td>\n",
       "      <td>2.9415</td>\n",
       "      <td>15.0393</td>\n",
       "      <td>3.7319</td>\n",
       "      <td>0.6904</td>\n",
       "      <td>0.1004</td>\n",
       "      <td>0.0822</td>\n",
       "      <td>0.013</td>\n",
       "    </tr>\n",
       "    <tr>\n",
       "      <th>rf</th>\n",
       "      <td>Random Forest Regressor</td>\n",
       "      <td>2.9817</td>\n",
       "      <td>14.7526</td>\n",
       "      <td>3.7062</td>\n",
       "      <td>0.6704</td>\n",
       "      <td>0.1119</td>\n",
       "      <td>0.0928</td>\n",
       "      <td>0.179</td>\n",
       "    </tr>\n",
       "    <tr>\n",
       "      <th>ada</th>\n",
       "      <td>AdaBoost Regressor</td>\n",
       "      <td>3.1524</td>\n",
       "      <td>15.9598</td>\n",
       "      <td>3.8645</td>\n",
       "      <td>0.6654</td>\n",
       "      <td>0.1176</td>\n",
       "      <td>0.0990</td>\n",
       "      <td>0.129</td>\n",
       "    </tr>\n",
       "    <tr>\n",
       "      <th>lightgbm</th>\n",
       "      <td>Light Gradient Boosting Machine</td>\n",
       "      <td>3.1186</td>\n",
       "      <td>15.3278</td>\n",
       "      <td>3.8012</td>\n",
       "      <td>0.6460</td>\n",
       "      <td>0.1119</td>\n",
       "      <td>0.0947</td>\n",
       "      <td>0.160</td>\n",
       "    </tr>\n",
       "    <tr>\n",
       "      <th>knn</th>\n",
       "      <td>K Neighbors Regressor</td>\n",
       "      <td>3.6259</td>\n",
       "      <td>21.1336</td>\n",
       "      <td>4.4138</td>\n",
       "      <td>0.5485</td>\n",
       "      <td>0.1291</td>\n",
       "      <td>0.1115</td>\n",
       "      <td>0.014</td>\n",
       "    </tr>\n",
       "    <tr>\n",
       "      <th>dt</th>\n",
       "      <td>Decision Tree Regressor</td>\n",
       "      <td>3.7197</td>\n",
       "      <td>24.3439</td>\n",
       "      <td>4.7147</td>\n",
       "      <td>0.3443</td>\n",
       "      <td>0.1392</td>\n",
       "      <td>0.1147</td>\n",
       "      <td>0.015</td>\n",
       "    </tr>\n",
       "    <tr>\n",
       "      <th>omp</th>\n",
       "      <td>Orthogonal Matching Pursuit</td>\n",
       "      <td>6.2858</td>\n",
       "      <td>58.9641</td>\n",
       "      <td>7.3758</td>\n",
       "      <td>-0.1730</td>\n",
       "      <td>0.2065</td>\n",
       "      <td>0.1903</td>\n",
       "      <td>0.011</td>\n",
       "    </tr>\n",
       "    <tr>\n",
       "      <th>llar</th>\n",
       "      <td>Lasso Least Angle Regression</td>\n",
       "      <td>6.4071</td>\n",
       "      <td>66.4497</td>\n",
       "      <td>7.8224</td>\n",
       "      <td>-0.1913</td>\n",
       "      <td>0.2197</td>\n",
       "      <td>0.1945</td>\n",
       "      <td>0.010</td>\n",
       "    </tr>\n",
       "    <tr>\n",
       "      <th>dummy</th>\n",
       "      <td>Dummy Regressor</td>\n",
       "      <td>6.4071</td>\n",
       "      <td>66.4497</td>\n",
       "      <td>7.8224</td>\n",
       "      <td>-0.1913</td>\n",
       "      <td>0.2197</td>\n",
       "      <td>0.1945</td>\n",
       "      <td>0.016</td>\n",
       "    </tr>\n",
       "  </tbody>\n",
       "</table>\n",
       "</div>\n",
       "      <button class=\"colab-df-convert\" onclick=\"convertToInteractive('df-fbc2decc-3555-4fd9-aabf-fb36aa15dccf')\"\n",
       "              title=\"Convert this dataframe to an interactive table.\"\n",
       "              style=\"display:none;\">\n",
       "        \n",
       "  <svg xmlns=\"http://www.w3.org/2000/svg\" height=\"24px\"viewBox=\"0 0 24 24\"\n",
       "       width=\"24px\">\n",
       "    <path d=\"M0 0h24v24H0V0z\" fill=\"none\"/>\n",
       "    <path d=\"M18.56 5.44l.94 2.06.94-2.06 2.06-.94-2.06-.94-.94-2.06-.94 2.06-2.06.94zm-11 1L8.5 8.5l.94-2.06 2.06-.94-2.06-.94L8.5 2.5l-.94 2.06-2.06.94zm10 10l.94 2.06.94-2.06 2.06-.94-2.06-.94-.94-2.06-.94 2.06-2.06.94z\"/><path d=\"M17.41 7.96l-1.37-1.37c-.4-.4-.92-.59-1.43-.59-.52 0-1.04.2-1.43.59L10.3 9.45l-7.72 7.72c-.78.78-.78 2.05 0 2.83L4 21.41c.39.39.9.59 1.41.59.51 0 1.02-.2 1.41-.59l7.78-7.78 2.81-2.81c.8-.78.8-2.07 0-2.86zM5.41 20L4 18.59l7.72-7.72 1.47 1.35L5.41 20z\"/>\n",
       "  </svg>\n",
       "      </button>\n",
       "      \n",
       "  <style>\n",
       "    .colab-df-container {\n",
       "      display:flex;\n",
       "      flex-wrap:wrap;\n",
       "      gap: 12px;\n",
       "    }\n",
       "\n",
       "    .colab-df-convert {\n",
       "      background-color: #E8F0FE;\n",
       "      border: none;\n",
       "      border-radius: 50%;\n",
       "      cursor: pointer;\n",
       "      display: none;\n",
       "      fill: #1967D2;\n",
       "      height: 32px;\n",
       "      padding: 0 0 0 0;\n",
       "      width: 32px;\n",
       "    }\n",
       "\n",
       "    .colab-df-convert:hover {\n",
       "      background-color: #E2EBFA;\n",
       "      box-shadow: 0px 1px 2px rgba(60, 64, 67, 0.3), 0px 1px 3px 1px rgba(60, 64, 67, 0.15);\n",
       "      fill: #174EA6;\n",
       "    }\n",
       "\n",
       "    [theme=dark] .colab-df-convert {\n",
       "      background-color: #3B4455;\n",
       "      fill: #D2E3FC;\n",
       "    }\n",
       "\n",
       "    [theme=dark] .colab-df-convert:hover {\n",
       "      background-color: #434B5C;\n",
       "      box-shadow: 0px 1px 3px 1px rgba(0, 0, 0, 0.15);\n",
       "      filter: drop-shadow(0px 1px 2px rgba(0, 0, 0, 0.3));\n",
       "      fill: #FFFFFF;\n",
       "    }\n",
       "  </style>\n",
       "\n",
       "      <script>\n",
       "        const buttonEl =\n",
       "          document.querySelector('#df-fbc2decc-3555-4fd9-aabf-fb36aa15dccf button.colab-df-convert');\n",
       "        buttonEl.style.display =\n",
       "          google.colab.kernel.accessAllowed ? 'block' : 'none';\n",
       "\n",
       "        async function convertToInteractive(key) {\n",
       "          const element = document.querySelector('#df-fbc2decc-3555-4fd9-aabf-fb36aa15dccf');\n",
       "          const dataTable =\n",
       "            await google.colab.kernel.invokeFunction('convertToInteractive',\n",
       "                                                     [key], {});\n",
       "          if (!dataTable) return;\n",
       "\n",
       "          const docLinkHtml = 'Like what you see? Visit the ' +\n",
       "            '<a target=\"_blank\" href=https://colab.research.google.com/notebooks/data_table.ipynb>data table notebook</a>'\n",
       "            + ' to learn more about interactive tables.';\n",
       "          element.innerHTML = '';\n",
       "          dataTable['output_type'] = 'display_data';\n",
       "          await google.colab.output.renderOutput(dataTable, element);\n",
       "          const docLink = document.createElement('div');\n",
       "          docLink.innerHTML = docLinkHtml;\n",
       "          element.appendChild(docLink);\n",
       "        }\n",
       "      </script>\n",
       "    </div>\n",
       "  </div>\n",
       "  "
      ],
      "text/plain": [
       "                                    Model     MAE      MSE    RMSE      R2  \\\n",
       "et                  Extra Trees Regressor  2.2961   8.3812  2.7688  0.8114   \n",
       "br                         Bayesian Ridge  2.2837   8.3621  2.8415  0.7930   \n",
       "lasso                    Lasso Regression  2.3191   8.4340  2.8603  0.7842   \n",
       "en                            Elastic Net  2.3316   8.5103  2.8669  0.7807   \n",
       "huber                     Huber Regressor  2.4620   9.4098  2.9725  0.7675   \n",
       "ridge                    Ridge Regression  2.4264   8.9751  2.9388  0.7582   \n",
       "lr                      Linear Regression  2.4273   8.9812  2.9398  0.7579   \n",
       "lar                Least Angle Regression  2.4273   8.9812  2.9398  0.7579   \n",
       "gbr           Gradient Boosting Regressor  2.4674  10.2548  3.1320  0.7505   \n",
       "par          Passive Aggressive Regressor  2.9415  15.0393  3.7319  0.6904   \n",
       "rf                Random Forest Regressor  2.9817  14.7526  3.7062  0.6704   \n",
       "ada                    AdaBoost Regressor  3.1524  15.9598  3.8645  0.6654   \n",
       "lightgbm  Light Gradient Boosting Machine  3.1186  15.3278  3.8012  0.6460   \n",
       "knn                 K Neighbors Regressor  3.6259  21.1336  4.4138  0.5485   \n",
       "dt                Decision Tree Regressor  3.7197  24.3439  4.7147  0.3443   \n",
       "omp           Orthogonal Matching Pursuit  6.2858  58.9641  7.3758 -0.1730   \n",
       "llar         Lasso Least Angle Regression  6.4071  66.4497  7.8224 -0.1913   \n",
       "dummy                     Dummy Regressor  6.4071  66.4497  7.8224 -0.1913   \n",
       "\n",
       "           RMSLE    MAPE  TT (Sec)  \n",
       "et        0.0786  0.0675     0.259  \n",
       "br        0.0793  0.0656     0.011  \n",
       "lasso     0.0804  0.0670     0.013  \n",
       "en        0.0805  0.0673     0.014  \n",
       "huber     0.0818  0.0692     0.035  \n",
       "ridge     0.0826  0.0700     0.012  \n",
       "lr        0.0826  0.0700     0.556  \n",
       "lar       0.0826  0.0700     0.012  \n",
       "gbr       0.0930  0.0760     0.076  \n",
       "par       0.1004  0.0822     0.013  \n",
       "rf        0.1119  0.0928     0.179  \n",
       "ada       0.1176  0.0990     0.129  \n",
       "lightgbm  0.1119  0.0947     0.160  \n",
       "knn       0.1291  0.1115     0.014  \n",
       "dt        0.1392  0.1147     0.015  \n",
       "omp       0.2065  0.1903     0.011  \n",
       "llar      0.2197  0.1945     0.010  \n",
       "dummy     0.2197  0.1945     0.016  "
      ]
     },
     "metadata": {},
     "output_type": "display_data"
    },
    {
     "name": "stderr",
     "output_type": "stream",
     "text": [
      "INFO:logs:create_model_container: 18\n",
      "INFO:logs:master_model_container: 18\n",
      "INFO:logs:display_container: 2\n",
      "INFO:logs:ExtraTreesRegressor(bootstrap=False, ccp_alpha=0.0, criterion='mse',\n",
      "                    max_depth=None, max_features='auto', max_leaf_nodes=None,\n",
      "                    max_samples=None, min_impurity_decrease=0.0,\n",
      "                    min_impurity_split=None, min_samples_leaf=1,\n",
      "                    min_samples_split=2, min_weight_fraction_leaf=0.0,\n",
      "                    n_estimators=100, n_jobs=-1, oob_score=False,\n",
      "                    random_state=493, verbose=0, warm_start=False)\n",
      "INFO:logs:compare_models() succesfully completed......................................\n"
     ]
    }
   ],
   "source": [
    "best_model=compare_models()"
   ]
  },
  {
   "cell_type": "code",
   "execution_count": null,
   "id": "T62zdiv4j2uO",
   "metadata": {
    "id": "T62zdiv4j2uO"
   },
   "outputs": [],
   "source": [
    "#best result is from elasticnet with alpha=0.1"
   ]
  },
  {
   "cell_type": "code",
   "execution_count": 33,
   "id": "ktv4yOBDj2zX",
   "metadata": {
    "colab": {
     "base_uri": "https://localhost:8080/"
    },
    "executionInfo": {
     "elapsed": 630,
     "status": "ok",
     "timestamp": 1674761697068,
     "user": {
      "displayName": "Humeyra Armutlu",
      "userId": "12643211298338865125"
     },
     "user_tz": -180
    },
    "id": "ktv4yOBDj2zX",
    "outputId": "28818d86-411b-4121-8b78-97c0607b70fe"
   },
   "outputs": [
    {
     "data": {
      "text/plain": [
       "ElasticNet(alpha=0.1, copy_X=True, fit_intercept=True, l1_ratio=0.5,\n",
       "           max_iter=1000, normalize=False, positive=False, precompute=False,\n",
       "           random_state=None, selection='cyclic', tol=0.0001, warm_start=False)"
      ]
     },
     "execution_count": 33,
     "metadata": {},
     "output_type": "execute_result"
    }
   ],
   "source": [
    "final_model = ElasticNet(alpha=0.1)\n",
    "final_model.fit(x,y)"
   ]
  },
  {
   "cell_type": "code",
   "execution_count": 35,
   "id": "dJQv-w4pTQ-1",
   "metadata": {
    "executionInfo": {
     "elapsed": 955,
     "status": "ok",
     "timestamp": 1674761938782,
     "user": {
      "displayName": "Humeyra Armutlu",
      "userId": "12643211298338865125"
     },
     "user_tz": -180
    },
    "id": "dJQv-w4pTQ-1"
   },
   "outputs": [],
   "source": [
    "tahmin = final_model.predict(x_test) "
   ]
  },
  {
   "cell_type": "code",
   "execution_count": 37,
   "id": "0TGwK_zMlukq",
   "metadata": {
    "colab": {
     "base_uri": "https://localhost:8080/"
    },
    "executionInfo": {
     "elapsed": 484,
     "status": "ok",
     "timestamp": 1674761980016,
     "user": {
      "displayName": "Humeyra Armutlu",
      "userId": "12643211298338865125"
     },
     "user_tz": -180
    },
    "id": "0TGwK_zMlukq",
    "outputId": "0bb7d222-436d-4bf8-be5e-ae3f6d44500c"
   },
   "outputs": [
    {
     "data": {
      "text/plain": [
       "1.9092531955762946"
      ]
     },
     "execution_count": 37,
     "metadata": {},
     "output_type": "execute_result"
    }
   ],
   "source": [
    "from sklearn.metrics import mean_squared_error,r2_score\n",
    "(mean_squared_error(tahmin,y_test))**.5\n"
   ]
  },
  {
   "cell_type": "code",
   "execution_count": 38,
   "id": "Jot0Mz9YlupD",
   "metadata": {
    "colab": {
     "base_uri": "https://localhost:8080/"
    },
    "executionInfo": {
     "elapsed": 468,
     "status": "ok",
     "timestamp": 1674762018634,
     "user": {
      "displayName": "Humeyra Armutlu",
      "userId": "12643211298338865125"
     },
     "user_tz": -180
    },
    "id": "Jot0Mz9YlupD",
    "outputId": "279a670d-2f0b-4e13-8afd-daa7d958a688"
   },
   "outputs": [
    {
     "data": {
      "text/plain": [
       "0.9166529252804735"
      ]
     },
     "execution_count": 38,
     "metadata": {},
     "output_type": "execute_result"
    }
   ],
   "source": [
    "r2_score(tahmin,y_test)"
   ]
  }
 ],
 "metadata": {
  "colab": {
   "provenance": []
  },
  "kernelspec": {
   "display_name": "Python 3 (ipykernel)",
   "language": "python",
   "name": "python3"
  },
  "language_info": {
   "codemirror_mode": {
    "name": "ipython",
    "version": 3
   },
   "file_extension": ".py",
   "mimetype": "text/x-python",
   "name": "python",
   "nbconvert_exporter": "python",
   "pygments_lexer": "ipython3",
   "version": "3.11.1"
  },
  "widgets": {
   "application/vnd.jupyter.widget-state+json": {
    "0fff300f2e0a435699c1eef14292361c": {
     "model_module": "@jupyter-widgets/controls",
     "model_module_version": "1.5.0",
     "model_name": "IntProgressModel",
     "state": {
      "_dom_classes": [],
      "_model_module": "@jupyter-widgets/controls",
      "_model_module_version": "1.5.0",
      "_model_name": "IntProgressModel",
      "_view_count": null,
      "_view_module": "@jupyter-widgets/controls",
      "_view_module_version": "1.5.0",
      "_view_name": "ProgressView",
      "bar_style": "",
      "description": "Processing: ",
      "description_tooltip": null,
      "layout": "IPY_MODEL_be0a03e10b884b52854a2f2221eee8dc",
      "max": 94,
      "min": 0,
      "orientation": "horizontal",
      "style": "IPY_MODEL_20c9d5dc5296480f9ad53631952c02e9",
      "value": 94
     }
    },
    "20c9d5dc5296480f9ad53631952c02e9": {
     "model_module": "@jupyter-widgets/controls",
     "model_module_version": "1.5.0",
     "model_name": "ProgressStyleModel",
     "state": {
      "_model_module": "@jupyter-widgets/controls",
      "_model_module_version": "1.5.0",
      "_model_name": "ProgressStyleModel",
      "_view_count": null,
      "_view_module": "@jupyter-widgets/base",
      "_view_module_version": "1.2.0",
      "_view_name": "StyleView",
      "bar_color": null,
      "description_width": ""
     }
    },
    "43e1862a046b4661bc1c9eb4fae560d1": {
     "model_module": "@jupyter-widgets/controls",
     "model_module_version": "1.5.0",
     "model_name": "DescriptionStyleModel",
     "state": {
      "_model_module": "@jupyter-widgets/controls",
      "_model_module_version": "1.5.0",
      "_model_name": "DescriptionStyleModel",
      "_view_count": null,
      "_view_module": "@jupyter-widgets/base",
      "_view_module_version": "1.2.0",
      "_view_name": "StyleView",
      "description_width": ""
     }
    },
    "76a40282faf344c7a7b901f1a9ded244": {
     "model_module": "@jupyter-widgets/base",
     "model_module_version": "1.2.0",
     "model_name": "LayoutModel",
     "state": {
      "_model_module": "@jupyter-widgets/base",
      "_model_module_version": "1.2.0",
      "_model_name": "LayoutModel",
      "_view_count": null,
      "_view_module": "@jupyter-widgets/base",
      "_view_module_version": "1.2.0",
      "_view_name": "LayoutView",
      "align_content": null,
      "align_items": null,
      "align_self": null,
      "border": null,
      "bottom": null,
      "display": null,
      "flex": null,
      "flex_flow": null,
      "grid_area": null,
      "grid_auto_columns": null,
      "grid_auto_flow": null,
      "grid_auto_rows": null,
      "grid_column": null,
      "grid_gap": null,
      "grid_row": null,
      "grid_template_areas": null,
      "grid_template_columns": null,
      "grid_template_rows": null,
      "height": null,
      "justify_content": null,
      "justify_items": null,
      "left": null,
      "margin": null,
      "max_height": null,
      "max_width": null,
      "min_height": null,
      "min_width": null,
      "object_fit": null,
      "object_position": null,
      "order": null,
      "overflow": null,
      "overflow_x": null,
      "overflow_y": null,
      "padding": null,
      "right": null,
      "top": null,
      "visibility": null,
      "width": null
     }
    },
    "7891d84deade4062b1a28856b48c6bef": {
     "model_module": "@jupyter-widgets/controls",
     "model_module_version": "1.5.0",
     "model_name": "TextModel",
     "state": {
      "_dom_classes": [],
      "_model_module": "@jupyter-widgets/controls",
      "_model_module_version": "1.5.0",
      "_model_name": "TextModel",
      "_view_count": null,
      "_view_module": "@jupyter-widgets/controls",
      "_view_module_version": "1.5.0",
      "_view_name": "TextView",
      "continuous_update": true,
      "description": "",
      "description_tooltip": null,
      "disabled": false,
      "layout": "IPY_MODEL_aa4cee0b035d4e6fa02e422b3ca2d278",
      "placeholder": "​",
      "style": "IPY_MODEL_43e1862a046b4661bc1c9eb4fae560d1",
      "value": "Following data types have been inferred automatically, if they are correct press enter to continue or type 'quit' otherwise."
     }
    },
    "a82d2b7f9dde4db29381ab6a10e0d0da": {
     "model_module": "@jupyter-widgets/controls",
     "model_module_version": "1.5.0",
     "model_name": "IntProgressModel",
     "state": {
      "_dom_classes": [],
      "_model_module": "@jupyter-widgets/controls",
      "_model_module_version": "1.5.0",
      "_model_name": "IntProgressModel",
      "_view_count": null,
      "_view_module": "@jupyter-widgets/controls",
      "_view_module_version": "1.5.0",
      "_view_name": "ProgressView",
      "bar_style": "",
      "description": "Processing: ",
      "description_tooltip": null,
      "layout": "IPY_MODEL_76a40282faf344c7a7b901f1a9ded244",
      "max": 3,
      "min": 0,
      "orientation": "horizontal",
      "style": "IPY_MODEL_e956cbad99864002a7570581e7105079",
      "value": 3
     }
    },
    "aa4cee0b035d4e6fa02e422b3ca2d278": {
     "model_module": "@jupyter-widgets/base",
     "model_module_version": "1.2.0",
     "model_name": "LayoutModel",
     "state": {
      "_model_module": "@jupyter-widgets/base",
      "_model_module_version": "1.2.0",
      "_model_name": "LayoutModel",
      "_view_count": null,
      "_view_module": "@jupyter-widgets/base",
      "_view_module_version": "1.2.0",
      "_view_name": "LayoutView",
      "align_content": null,
      "align_items": null,
      "align_self": null,
      "border": null,
      "bottom": null,
      "display": null,
      "flex": null,
      "flex_flow": null,
      "grid_area": null,
      "grid_auto_columns": null,
      "grid_auto_flow": null,
      "grid_auto_rows": null,
      "grid_column": null,
      "grid_gap": null,
      "grid_row": null,
      "grid_template_areas": null,
      "grid_template_columns": null,
      "grid_template_rows": null,
      "height": null,
      "justify_content": null,
      "justify_items": null,
      "left": null,
      "margin": null,
      "max_height": null,
      "max_width": null,
      "min_height": null,
      "min_width": null,
      "object_fit": null,
      "object_position": null,
      "order": null,
      "overflow": null,
      "overflow_x": null,
      "overflow_y": null,
      "padding": null,
      "right": null,
      "top": null,
      "visibility": null,
      "width": "100%"
     }
    },
    "be0a03e10b884b52854a2f2221eee8dc": {
     "model_module": "@jupyter-widgets/base",
     "model_module_version": "1.2.0",
     "model_name": "LayoutModel",
     "state": {
      "_model_module": "@jupyter-widgets/base",
      "_model_module_version": "1.2.0",
      "_model_name": "LayoutModel",
      "_view_count": null,
      "_view_module": "@jupyter-widgets/base",
      "_view_module_version": "1.2.0",
      "_view_name": "LayoutView",
      "align_content": null,
      "align_items": null,
      "align_self": null,
      "border": null,
      "bottom": null,
      "display": null,
      "flex": null,
      "flex_flow": null,
      "grid_area": null,
      "grid_auto_columns": null,
      "grid_auto_flow": null,
      "grid_auto_rows": null,
      "grid_column": null,
      "grid_gap": null,
      "grid_row": null,
      "grid_template_areas": null,
      "grid_template_columns": null,
      "grid_template_rows": null,
      "height": null,
      "justify_content": null,
      "justify_items": null,
      "left": null,
      "margin": null,
      "max_height": null,
      "max_width": null,
      "min_height": null,
      "min_width": null,
      "object_fit": null,
      "object_position": null,
      "order": null,
      "overflow": null,
      "overflow_x": null,
      "overflow_y": null,
      "padding": null,
      "right": null,
      "top": null,
      "visibility": null,
      "width": null
     }
    },
    "e956cbad99864002a7570581e7105079": {
     "model_module": "@jupyter-widgets/controls",
     "model_module_version": "1.5.0",
     "model_name": "ProgressStyleModel",
     "state": {
      "_model_module": "@jupyter-widgets/controls",
      "_model_module_version": "1.5.0",
      "_model_name": "ProgressStyleModel",
      "_view_count": null,
      "_view_module": "@jupyter-widgets/base",
      "_view_module_version": "1.2.0",
      "_view_name": "StyleView",
      "bar_color": null,
      "description_width": ""
     }
    }
   }
  }
 },
 "nbformat": 4,
 "nbformat_minor": 5
}
