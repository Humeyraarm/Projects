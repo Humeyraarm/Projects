{
  "nbformat": 4,
  "nbformat_minor": 0,
  "metadata": {
    "colab": {
      "provenance": [],
      "collapsed_sections": []
    },
    "kernelspec": {
      "name": "python3",
      "display_name": "Python 3"
    },
    "language_info": {
      "name": "python"
    }
  },
  "cells": [
    {
      "cell_type": "code",
      "execution_count": 142,
      "metadata": {
        "id": "AQ9cF3f1qokF"
      },
      "outputs": [],
      "source": [
        "import numpy as np\n",
        "import pandas as pd\n",
        "import seaborn as sns\n",
        "import matplotlib.pyplot as plt\n",
        "import warnings\n",
        "warnings.filterwarnings('ignore')"
      ]
    },
    {
      "cell_type": "code",
      "source": [
        "df=pd.read_csv(\"LoansTrainingSet.csv\")"
      ],
      "metadata": {
        "id": "zXO1Odbdul8H"
      },
      "execution_count": 143,
      "outputs": []
    },
    {
      "cell_type": "markdown",
      "source": [
        "# EDA"
      ],
      "metadata": {
        "id": "gydWZvbmtIdt"
      }
    },
    {
      "cell_type": "code",
      "source": [
        "df.info()"
      ],
      "metadata": {
        "colab": {
          "base_uri": "https://localhost:8080/"
        },
        "id": "ABC6Clr1ul_b",
        "outputId": "a6cab7bc-7fce-4d91-93cc-953f647bf565"
      },
      "execution_count": 144,
      "outputs": [
        {
          "output_type": "stream",
          "name": "stdout",
          "text": [
            "<class 'pandas.core.frame.DataFrame'>\n",
            "RangeIndex: 256984 entries, 0 to 256983\n",
            "Data columns (total 19 columns):\n",
            " #   Column                        Non-Null Count   Dtype  \n",
            "---  ------                        --------------   -----  \n",
            " 0   Loan ID                       256984 non-null  object \n",
            " 1   Customer ID                   256984 non-null  object \n",
            " 2   Loan Status                   256984 non-null  object \n",
            " 3   Current Loan Amount           256984 non-null  int64  \n",
            " 4   Term                          256984 non-null  object \n",
            " 5   Credit Score                  195308 non-null  float64\n",
            " 6   Years in current job          245508 non-null  object \n",
            " 7   Home Ownership                256984 non-null  object \n",
            " 8   Annual Income                 195308 non-null  float64\n",
            " 9   Purpose                       256984 non-null  object \n",
            " 10  Monthly Debt                  256984 non-null  object \n",
            " 11  Years of Credit History       256984 non-null  float64\n",
            " 12  Months since last delinquent  116601 non-null  float64\n",
            " 13  Number of Open Accounts       256984 non-null  int64  \n",
            " 14  Number of Credit Problems     256984 non-null  int64  \n",
            " 15  Current Credit Balance        256984 non-null  int64  \n",
            " 16  Maximum Open Credit           256984 non-null  object \n",
            " 17  Bankruptcies                  256455 non-null  float64\n",
            " 18  Tax Liens                     256961 non-null  float64\n",
            "dtypes: float64(6), int64(4), object(9)\n",
            "memory usage: 37.3+ MB\n"
          ]
        }
      ]
    },
    {
      "cell_type": "code",
      "source": [
        "df.isnull().sum()   #There are null values in 6 columns."
      ],
      "metadata": {
        "colab": {
          "base_uri": "https://localhost:8080/"
        },
        "id": "mrXaBsWIwULv",
        "outputId": "c8393950-4f3b-4409-8817-2d0a06e29348"
      },
      "execution_count": 145,
      "outputs": [
        {
          "output_type": "execute_result",
          "data": {
            "text/plain": [
              "Loan ID                              0\n",
              "Customer ID                          0\n",
              "Loan Status                          0\n",
              "Current Loan Amount                  0\n",
              "Term                                 0\n",
              "Credit Score                     61676\n",
              "Years in current job             11476\n",
              "Home Ownership                       0\n",
              "Annual Income                    61676\n",
              "Purpose                              0\n",
              "Monthly Debt                         0\n",
              "Years of Credit History              0\n",
              "Months since last delinquent    140383\n",
              "Number of Open Accounts              0\n",
              "Number of Credit Problems            0\n",
              "Current Credit Balance               0\n",
              "Maximum Open Credit                  0\n",
              "Bankruptcies                       529\n",
              "Tax Liens                           23\n",
              "dtype: int64"
            ]
          },
          "metadata": {},
          "execution_count": 145
        }
      ]
    },
    {
      "cell_type": "code",
      "source": [
        "df.describe()"
      ],
      "metadata": {
        "colab": {
          "base_uri": "https://localhost:8080/",
          "height": 362
        },
        "id": "zuOIPTU7umB3",
        "outputId": "4f66190d-3e3f-4ee5-bc04-a761ecb3f3d7"
      },
      "execution_count": 146,
      "outputs": [
        {
          "output_type": "execute_result",
          "data": {
            "text/plain": [
              "       Current Loan Amount   Credit Score  Annual Income  \\\n",
              "count         2.569840e+05  195308.000000   1.953080e+05   \n",
              "mean          1.371331e+07    1251.116099   7.195272e+04   \n",
              "std           3.438131e+07    1762.016848   5.887757e+04   \n",
              "min           5.050000e+02     585.000000   0.000000e+00   \n",
              "25%           8.299000e+03     714.000000   4.432100e+04   \n",
              "50%           1.429800e+04     733.000000   6.124200e+04   \n",
              "75%           2.436700e+04     744.000000   8.646200e+04   \n",
              "max           1.000000e+08    7510.000000   8.713547e+06   \n",
              "\n",
              "       Years of Credit History  Months since last delinquent  \\\n",
              "count            256984.000000                 116601.000000   \n",
              "mean                 18.290195                     34.881450   \n",
              "std                   7.075747                     21.854165   \n",
              "min                   3.400000                      0.000000   \n",
              "25%                  13.500000                     16.000000   \n",
              "50%                  17.000000                     32.000000   \n",
              "75%                  21.700000                     51.000000   \n",
              "max                  70.500000                    176.000000   \n",
              "\n",
              "       Number of Open Accounts  Number of Credit Problems  \\\n",
              "count            256984.000000              256984.000000   \n",
              "mean                 11.106267                   0.156628   \n",
              "std                   4.982982                   0.460731   \n",
              "min                   0.000000                   0.000000   \n",
              "25%                   8.000000                   0.000000   \n",
              "50%                  10.000000                   0.000000   \n",
              "75%                  14.000000                   0.000000   \n",
              "max                  76.000000                  11.000000   \n",
              "\n",
              "       Current Credit Balance   Bankruptcies      Tax Liens  \n",
              "count            2.569840e+05  256455.000000  256961.000000  \n",
              "mean             1.540656e+04       0.110316       0.027203  \n",
              "std              1.966506e+04       0.336229       0.245950  \n",
              "min              0.000000e+00       0.000000       0.000000  \n",
              "25%              5.974000e+03       0.000000       0.000000  \n",
              "50%              1.107800e+04       0.000000       0.000000  \n",
              "75%              1.931900e+04       0.000000       0.000000  \n",
              "max              1.731412e+06       7.000000      11.000000  "
            ],
            "text/html": [
              "\n",
              "  <div id=\"df-1c919253-916b-4bec-ad9b-5ada5fdad3d4\">\n",
              "    <div class=\"colab-df-container\">\n",
              "      <div>\n",
              "<style scoped>\n",
              "    .dataframe tbody tr th:only-of-type {\n",
              "        vertical-align: middle;\n",
              "    }\n",
              "\n",
              "    .dataframe tbody tr th {\n",
              "        vertical-align: top;\n",
              "    }\n",
              "\n",
              "    .dataframe thead th {\n",
              "        text-align: right;\n",
              "    }\n",
              "</style>\n",
              "<table border=\"1\" class=\"dataframe\">\n",
              "  <thead>\n",
              "    <tr style=\"text-align: right;\">\n",
              "      <th></th>\n",
              "      <th>Current Loan Amount</th>\n",
              "      <th>Credit Score</th>\n",
              "      <th>Annual Income</th>\n",
              "      <th>Years of Credit History</th>\n",
              "      <th>Months since last delinquent</th>\n",
              "      <th>Number of Open Accounts</th>\n",
              "      <th>Number of Credit Problems</th>\n",
              "      <th>Current Credit Balance</th>\n",
              "      <th>Bankruptcies</th>\n",
              "      <th>Tax Liens</th>\n",
              "    </tr>\n",
              "  </thead>\n",
              "  <tbody>\n",
              "    <tr>\n",
              "      <th>count</th>\n",
              "      <td>2.569840e+05</td>\n",
              "      <td>195308.000000</td>\n",
              "      <td>1.953080e+05</td>\n",
              "      <td>256984.000000</td>\n",
              "      <td>116601.000000</td>\n",
              "      <td>256984.000000</td>\n",
              "      <td>256984.000000</td>\n",
              "      <td>2.569840e+05</td>\n",
              "      <td>256455.000000</td>\n",
              "      <td>256961.000000</td>\n",
              "    </tr>\n",
              "    <tr>\n",
              "      <th>mean</th>\n",
              "      <td>1.371331e+07</td>\n",
              "      <td>1251.116099</td>\n",
              "      <td>7.195272e+04</td>\n",
              "      <td>18.290195</td>\n",
              "      <td>34.881450</td>\n",
              "      <td>11.106267</td>\n",
              "      <td>0.156628</td>\n",
              "      <td>1.540656e+04</td>\n",
              "      <td>0.110316</td>\n",
              "      <td>0.027203</td>\n",
              "    </tr>\n",
              "    <tr>\n",
              "      <th>std</th>\n",
              "      <td>3.438131e+07</td>\n",
              "      <td>1762.016848</td>\n",
              "      <td>5.887757e+04</td>\n",
              "      <td>7.075747</td>\n",
              "      <td>21.854165</td>\n",
              "      <td>4.982982</td>\n",
              "      <td>0.460731</td>\n",
              "      <td>1.966506e+04</td>\n",
              "      <td>0.336229</td>\n",
              "      <td>0.245950</td>\n",
              "    </tr>\n",
              "    <tr>\n",
              "      <th>min</th>\n",
              "      <td>5.050000e+02</td>\n",
              "      <td>585.000000</td>\n",
              "      <td>0.000000e+00</td>\n",
              "      <td>3.400000</td>\n",
              "      <td>0.000000</td>\n",
              "      <td>0.000000</td>\n",
              "      <td>0.000000</td>\n",
              "      <td>0.000000e+00</td>\n",
              "      <td>0.000000</td>\n",
              "      <td>0.000000</td>\n",
              "    </tr>\n",
              "    <tr>\n",
              "      <th>25%</th>\n",
              "      <td>8.299000e+03</td>\n",
              "      <td>714.000000</td>\n",
              "      <td>4.432100e+04</td>\n",
              "      <td>13.500000</td>\n",
              "      <td>16.000000</td>\n",
              "      <td>8.000000</td>\n",
              "      <td>0.000000</td>\n",
              "      <td>5.974000e+03</td>\n",
              "      <td>0.000000</td>\n",
              "      <td>0.000000</td>\n",
              "    </tr>\n",
              "    <tr>\n",
              "      <th>50%</th>\n",
              "      <td>1.429800e+04</td>\n",
              "      <td>733.000000</td>\n",
              "      <td>6.124200e+04</td>\n",
              "      <td>17.000000</td>\n",
              "      <td>32.000000</td>\n",
              "      <td>10.000000</td>\n",
              "      <td>0.000000</td>\n",
              "      <td>1.107800e+04</td>\n",
              "      <td>0.000000</td>\n",
              "      <td>0.000000</td>\n",
              "    </tr>\n",
              "    <tr>\n",
              "      <th>75%</th>\n",
              "      <td>2.436700e+04</td>\n",
              "      <td>744.000000</td>\n",
              "      <td>8.646200e+04</td>\n",
              "      <td>21.700000</td>\n",
              "      <td>51.000000</td>\n",
              "      <td>14.000000</td>\n",
              "      <td>0.000000</td>\n",
              "      <td>1.931900e+04</td>\n",
              "      <td>0.000000</td>\n",
              "      <td>0.000000</td>\n",
              "    </tr>\n",
              "    <tr>\n",
              "      <th>max</th>\n",
              "      <td>1.000000e+08</td>\n",
              "      <td>7510.000000</td>\n",
              "      <td>8.713547e+06</td>\n",
              "      <td>70.500000</td>\n",
              "      <td>176.000000</td>\n",
              "      <td>76.000000</td>\n",
              "      <td>11.000000</td>\n",
              "      <td>1.731412e+06</td>\n",
              "      <td>7.000000</td>\n",
              "      <td>11.000000</td>\n",
              "    </tr>\n",
              "  </tbody>\n",
              "</table>\n",
              "</div>\n",
              "      <button class=\"colab-df-convert\" onclick=\"convertToInteractive('df-1c919253-916b-4bec-ad9b-5ada5fdad3d4')\"\n",
              "              title=\"Convert this dataframe to an interactive table.\"\n",
              "              style=\"display:none;\">\n",
              "        \n",
              "  <svg xmlns=\"http://www.w3.org/2000/svg\" height=\"24px\"viewBox=\"0 0 24 24\"\n",
              "       width=\"24px\">\n",
              "    <path d=\"M0 0h24v24H0V0z\" fill=\"none\"/>\n",
              "    <path d=\"M18.56 5.44l.94 2.06.94-2.06 2.06-.94-2.06-.94-.94-2.06-.94 2.06-2.06.94zm-11 1L8.5 8.5l.94-2.06 2.06-.94-2.06-.94L8.5 2.5l-.94 2.06-2.06.94zm10 10l.94 2.06.94-2.06 2.06-.94-2.06-.94-.94-2.06-.94 2.06-2.06.94z\"/><path d=\"M17.41 7.96l-1.37-1.37c-.4-.4-.92-.59-1.43-.59-.52 0-1.04.2-1.43.59L10.3 9.45l-7.72 7.72c-.78.78-.78 2.05 0 2.83L4 21.41c.39.39.9.59 1.41.59.51 0 1.02-.2 1.41-.59l7.78-7.78 2.81-2.81c.8-.78.8-2.07 0-2.86zM5.41 20L4 18.59l7.72-7.72 1.47 1.35L5.41 20z\"/>\n",
              "  </svg>\n",
              "      </button>\n",
              "      \n",
              "  <style>\n",
              "    .colab-df-container {\n",
              "      display:flex;\n",
              "      flex-wrap:wrap;\n",
              "      gap: 12px;\n",
              "    }\n",
              "\n",
              "    .colab-df-convert {\n",
              "      background-color: #E8F0FE;\n",
              "      border: none;\n",
              "      border-radius: 50%;\n",
              "      cursor: pointer;\n",
              "      display: none;\n",
              "      fill: #1967D2;\n",
              "      height: 32px;\n",
              "      padding: 0 0 0 0;\n",
              "      width: 32px;\n",
              "    }\n",
              "\n",
              "    .colab-df-convert:hover {\n",
              "      background-color: #E2EBFA;\n",
              "      box-shadow: 0px 1px 2px rgba(60, 64, 67, 0.3), 0px 1px 3px 1px rgba(60, 64, 67, 0.15);\n",
              "      fill: #174EA6;\n",
              "    }\n",
              "\n",
              "    [theme=dark] .colab-df-convert {\n",
              "      background-color: #3B4455;\n",
              "      fill: #D2E3FC;\n",
              "    }\n",
              "\n",
              "    [theme=dark] .colab-df-convert:hover {\n",
              "      background-color: #434B5C;\n",
              "      box-shadow: 0px 1px 3px 1px rgba(0, 0, 0, 0.15);\n",
              "      filter: drop-shadow(0px 1px 2px rgba(0, 0, 0, 0.3));\n",
              "      fill: #FFFFFF;\n",
              "    }\n",
              "  </style>\n",
              "\n",
              "      <script>\n",
              "        const buttonEl =\n",
              "          document.querySelector('#df-1c919253-916b-4bec-ad9b-5ada5fdad3d4 button.colab-df-convert');\n",
              "        buttonEl.style.display =\n",
              "          google.colab.kernel.accessAllowed ? 'block' : 'none';\n",
              "\n",
              "        async function convertToInteractive(key) {\n",
              "          const element = document.querySelector('#df-1c919253-916b-4bec-ad9b-5ada5fdad3d4');\n",
              "          const dataTable =\n",
              "            await google.colab.kernel.invokeFunction('convertToInteractive',\n",
              "                                                     [key], {});\n",
              "          if (!dataTable) return;\n",
              "\n",
              "          const docLinkHtml = 'Like what you see? Visit the ' +\n",
              "            '<a target=\"_blank\" href=https://colab.research.google.com/notebooks/data_table.ipynb>data table notebook</a>'\n",
              "            + ' to learn more about interactive tables.';\n",
              "          element.innerHTML = '';\n",
              "          dataTable['output_type'] = 'display_data';\n",
              "          await google.colab.output.renderOutput(dataTable, element);\n",
              "          const docLink = document.createElement('div');\n",
              "          docLink.innerHTML = docLinkHtml;\n",
              "          element.appendChild(docLink);\n",
              "        }\n",
              "      </script>\n",
              "    </div>\n",
              "  </div>\n",
              "  "
            ]
          },
          "metadata": {},
          "execution_count": 146
        }
      ]
    },
    {
      "cell_type": "code",
      "source": [
        "df.sample(10)"
      ],
      "metadata": {
        "colab": {
          "base_uri": "https://localhost:8080/",
          "height": 1000
        },
        "id": "uCSi1TYWumDz",
        "outputId": "e3d3be74-5f3f-43d7-d244-5873f12ab336"
      },
      "execution_count": 147,
      "outputs": [
        {
          "output_type": "execute_result",
          "data": {
            "text/plain": [
              "                                     Loan ID  \\\n",
              "241318  f043d0a2-c7f4-4f57-a2fc-6a3bf4593746   \n",
              "54815   36923626-8908-493d-8bb0-a0b035eec301   \n",
              "133094  846d262c-6194-4571-8305-32f6597834ec   \n",
              "97583   610ffed4-027f-41c2-b746-2d961b72c8fe   \n",
              "159952  9f1ae0a5-c4e5-4616-9f6d-9e7480166670   \n",
              "213496  d46da5b3-7b89-4354-a14b-a2f0b31a3945   \n",
              "83705   531d5224-ac53-4121-8983-f46a43ea6643   \n",
              "115437  72b6b95f-7443-4ddf-a8f7-c9abb0270e5d   \n",
              "44847   2c9c3414-d01d-4aa0-80c4-4e6f1a757b70   \n",
              "202407  c95b3435-bd87-40e9-a0c5-a6a7a7410ac6   \n",
              "\n",
              "                                 Customer ID  Loan Status  \\\n",
              "241318  602c9743-c23b-4bec-9bd8-92c9ecdcaee1   Fully Paid   \n",
              "54815   19343e6d-1bfa-466d-af7c-31e7bd5d393e   Fully Paid   \n",
              "133094  99f30c49-5c6c-47f7-afaf-e3b2c68f8aae   Fully Paid   \n",
              "97583   429c1ebb-f748-40df-a0b2-5a137657ccc3   Fully Paid   \n",
              "159952  fe439d28-66a2-468a-a1d8-6b38d9df6326  Charged Off   \n",
              "213496  19a429bc-d31d-4595-987f-8222b762616c   Fully Paid   \n",
              "83705   e05007ec-f242-4bf9-85f0-a8fa01adcebf   Fully Paid   \n",
              "115437  953b0ca9-c44d-4bc2-a699-7e159a75b513   Fully Paid   \n",
              "44847   d871a961-001d-4d70-9ca6-46b50f707ea5  Charged Off   \n",
              "202407  cdca70e4-40d6-4c59-8b11-31860c6faf38   Fully Paid   \n",
              "\n",
              "        Current Loan Amount        Term  Credit Score Years in current job  \\\n",
              "241318                23772  Short Term         737.0              2 years   \n",
              "54815                 35539  Short Term         732.0                  NaN   \n",
              "133094                12919  Short Term           NaN                  NaN   \n",
              "97583                  6038  Short Term         693.0              4 years   \n",
              "159952                10833   Long Term           NaN               1 year   \n",
              "213496                 7930   Long Term         707.0              4 years   \n",
              "83705                 11034  Short Term         742.0              5 years   \n",
              "115437                 6371  Short Term         750.0              3 years   \n",
              "44847                  2518  Short Term         721.0             < 1 year   \n",
              "202407                17692  Short Term         720.0              5 years   \n",
              "\n",
              "       Home Ownership  Annual Income             Purpose Monthly Debt  \\\n",
              "241318       Own Home        99050.0  Debt Consolidation   $1,541.05    \n",
              "54815   Home Mortgage       101540.0  Debt Consolidation   $1,658.48    \n",
              "133094  Home Mortgage            NaN  Debt Consolidation      $825.18   \n",
              "97583            Rent        36227.0  Debt Consolidation      $634.87   \n",
              "159952           Rent            NaN  Debt Consolidation   $1,375.51    \n",
              "213496           Rent        38145.0  Debt Consolidation      $722.54   \n",
              "83705   Home Mortgage       120372.0  Debt Consolidation   $1,103.41    \n",
              "115437  Home Mortgage        48926.0  Debt Consolidation      $994.84   \n",
              "44847            Rent        35249.0  Debt Consolidation      $481.73   \n",
              "202407           Rent       103205.0  Debt Consolidation   $2,339.30    \n",
              "\n",
              "        Years of Credit History  Months since last delinquent  \\\n",
              "241318                     15.6                           NaN   \n",
              "54815                      42.2                          11.0   \n",
              "133094                     25.5                           NaN   \n",
              "97583                      10.2                           NaN   \n",
              "159952                     12.5                           NaN   \n",
              "213496                     17.4                           NaN   \n",
              "83705                      14.8                          23.0   \n",
              "115437                     15.7                           NaN   \n",
              "44847                      14.7                           NaN   \n",
              "202407                     20.8                           NaN   \n",
              "\n",
              "        Number of Open Accounts  Number of Credit Problems  \\\n",
              "241318                       15                          0   \n",
              "54815                        35                          0   \n",
              "133094                       12                          1   \n",
              "97583                         4                          0   \n",
              "159952                       18                          0   \n",
              "213496                        6                          0   \n",
              "83705                         8                          3   \n",
              "115437                       11                          0   \n",
              "44847                        10                          0   \n",
              "202407                       11                          1   \n",
              "\n",
              "        Current Credit Balance Maximum Open Credit  Bankruptcies  Tax Liens  \n",
              "241318                   18096               49579           0.0        0.0  \n",
              "54815                    32540              162698           0.0        0.0  \n",
              "133094                    6442               23256           1.0        0.0  \n",
              "97583                     5012                5533           0.0        0.0  \n",
              "159952                   14738               22096           0.0        0.0  \n",
              "213496                    5398                6543           0.0        0.0  \n",
              "83705                     7964               10437           0.0        1.0  \n",
              "115437                    1565               11176           0.0        0.0  \n",
              "44847                     9837               13994           0.0        0.0  \n",
              "202407                   14789               17796           1.0        0.0  "
            ],
            "text/html": [
              "\n",
              "  <div id=\"df-85fa3ed3-9fd1-4f06-9c58-409551274dcb\">\n",
              "    <div class=\"colab-df-container\">\n",
              "      <div>\n",
              "<style scoped>\n",
              "    .dataframe tbody tr th:only-of-type {\n",
              "        vertical-align: middle;\n",
              "    }\n",
              "\n",
              "    .dataframe tbody tr th {\n",
              "        vertical-align: top;\n",
              "    }\n",
              "\n",
              "    .dataframe thead th {\n",
              "        text-align: right;\n",
              "    }\n",
              "</style>\n",
              "<table border=\"1\" class=\"dataframe\">\n",
              "  <thead>\n",
              "    <tr style=\"text-align: right;\">\n",
              "      <th></th>\n",
              "      <th>Loan ID</th>\n",
              "      <th>Customer ID</th>\n",
              "      <th>Loan Status</th>\n",
              "      <th>Current Loan Amount</th>\n",
              "      <th>Term</th>\n",
              "      <th>Credit Score</th>\n",
              "      <th>Years in current job</th>\n",
              "      <th>Home Ownership</th>\n",
              "      <th>Annual Income</th>\n",
              "      <th>Purpose</th>\n",
              "      <th>Monthly Debt</th>\n",
              "      <th>Years of Credit History</th>\n",
              "      <th>Months since last delinquent</th>\n",
              "      <th>Number of Open Accounts</th>\n",
              "      <th>Number of Credit Problems</th>\n",
              "      <th>Current Credit Balance</th>\n",
              "      <th>Maximum Open Credit</th>\n",
              "      <th>Bankruptcies</th>\n",
              "      <th>Tax Liens</th>\n",
              "    </tr>\n",
              "  </thead>\n",
              "  <tbody>\n",
              "    <tr>\n",
              "      <th>241318</th>\n",
              "      <td>f043d0a2-c7f4-4f57-a2fc-6a3bf4593746</td>\n",
              "      <td>602c9743-c23b-4bec-9bd8-92c9ecdcaee1</td>\n",
              "      <td>Fully Paid</td>\n",
              "      <td>23772</td>\n",
              "      <td>Short Term</td>\n",
              "      <td>737.0</td>\n",
              "      <td>2 years</td>\n",
              "      <td>Own Home</td>\n",
              "      <td>99050.0</td>\n",
              "      <td>Debt Consolidation</td>\n",
              "      <td>$1,541.05</td>\n",
              "      <td>15.6</td>\n",
              "      <td>NaN</td>\n",
              "      <td>15</td>\n",
              "      <td>0</td>\n",
              "      <td>18096</td>\n",
              "      <td>49579</td>\n",
              "      <td>0.0</td>\n",
              "      <td>0.0</td>\n",
              "    </tr>\n",
              "    <tr>\n",
              "      <th>54815</th>\n",
              "      <td>36923626-8908-493d-8bb0-a0b035eec301</td>\n",
              "      <td>19343e6d-1bfa-466d-af7c-31e7bd5d393e</td>\n",
              "      <td>Fully Paid</td>\n",
              "      <td>35539</td>\n",
              "      <td>Short Term</td>\n",
              "      <td>732.0</td>\n",
              "      <td>NaN</td>\n",
              "      <td>Home Mortgage</td>\n",
              "      <td>101540.0</td>\n",
              "      <td>Debt Consolidation</td>\n",
              "      <td>$1,658.48</td>\n",
              "      <td>42.2</td>\n",
              "      <td>11.0</td>\n",
              "      <td>35</td>\n",
              "      <td>0</td>\n",
              "      <td>32540</td>\n",
              "      <td>162698</td>\n",
              "      <td>0.0</td>\n",
              "      <td>0.0</td>\n",
              "    </tr>\n",
              "    <tr>\n",
              "      <th>133094</th>\n",
              "      <td>846d262c-6194-4571-8305-32f6597834ec</td>\n",
              "      <td>99f30c49-5c6c-47f7-afaf-e3b2c68f8aae</td>\n",
              "      <td>Fully Paid</td>\n",
              "      <td>12919</td>\n",
              "      <td>Short Term</td>\n",
              "      <td>NaN</td>\n",
              "      <td>NaN</td>\n",
              "      <td>Home Mortgage</td>\n",
              "      <td>NaN</td>\n",
              "      <td>Debt Consolidation</td>\n",
              "      <td>$825.18</td>\n",
              "      <td>25.5</td>\n",
              "      <td>NaN</td>\n",
              "      <td>12</td>\n",
              "      <td>1</td>\n",
              "      <td>6442</td>\n",
              "      <td>23256</td>\n",
              "      <td>1.0</td>\n",
              "      <td>0.0</td>\n",
              "    </tr>\n",
              "    <tr>\n",
              "      <th>97583</th>\n",
              "      <td>610ffed4-027f-41c2-b746-2d961b72c8fe</td>\n",
              "      <td>429c1ebb-f748-40df-a0b2-5a137657ccc3</td>\n",
              "      <td>Fully Paid</td>\n",
              "      <td>6038</td>\n",
              "      <td>Short Term</td>\n",
              "      <td>693.0</td>\n",
              "      <td>4 years</td>\n",
              "      <td>Rent</td>\n",
              "      <td>36227.0</td>\n",
              "      <td>Debt Consolidation</td>\n",
              "      <td>$634.87</td>\n",
              "      <td>10.2</td>\n",
              "      <td>NaN</td>\n",
              "      <td>4</td>\n",
              "      <td>0</td>\n",
              "      <td>5012</td>\n",
              "      <td>5533</td>\n",
              "      <td>0.0</td>\n",
              "      <td>0.0</td>\n",
              "    </tr>\n",
              "    <tr>\n",
              "      <th>159952</th>\n",
              "      <td>9f1ae0a5-c4e5-4616-9f6d-9e7480166670</td>\n",
              "      <td>fe439d28-66a2-468a-a1d8-6b38d9df6326</td>\n",
              "      <td>Charged Off</td>\n",
              "      <td>10833</td>\n",
              "      <td>Long Term</td>\n",
              "      <td>NaN</td>\n",
              "      <td>1 year</td>\n",
              "      <td>Rent</td>\n",
              "      <td>NaN</td>\n",
              "      <td>Debt Consolidation</td>\n",
              "      <td>$1,375.51</td>\n",
              "      <td>12.5</td>\n",
              "      <td>NaN</td>\n",
              "      <td>18</td>\n",
              "      <td>0</td>\n",
              "      <td>14738</td>\n",
              "      <td>22096</td>\n",
              "      <td>0.0</td>\n",
              "      <td>0.0</td>\n",
              "    </tr>\n",
              "    <tr>\n",
              "      <th>213496</th>\n",
              "      <td>d46da5b3-7b89-4354-a14b-a2f0b31a3945</td>\n",
              "      <td>19a429bc-d31d-4595-987f-8222b762616c</td>\n",
              "      <td>Fully Paid</td>\n",
              "      <td>7930</td>\n",
              "      <td>Long Term</td>\n",
              "      <td>707.0</td>\n",
              "      <td>4 years</td>\n",
              "      <td>Rent</td>\n",
              "      <td>38145.0</td>\n",
              "      <td>Debt Consolidation</td>\n",
              "      <td>$722.54</td>\n",
              "      <td>17.4</td>\n",
              "      <td>NaN</td>\n",
              "      <td>6</td>\n",
              "      <td>0</td>\n",
              "      <td>5398</td>\n",
              "      <td>6543</td>\n",
              "      <td>0.0</td>\n",
              "      <td>0.0</td>\n",
              "    </tr>\n",
              "    <tr>\n",
              "      <th>83705</th>\n",
              "      <td>531d5224-ac53-4121-8983-f46a43ea6643</td>\n",
              "      <td>e05007ec-f242-4bf9-85f0-a8fa01adcebf</td>\n",
              "      <td>Fully Paid</td>\n",
              "      <td>11034</td>\n",
              "      <td>Short Term</td>\n",
              "      <td>742.0</td>\n",
              "      <td>5 years</td>\n",
              "      <td>Home Mortgage</td>\n",
              "      <td>120372.0</td>\n",
              "      <td>Debt Consolidation</td>\n",
              "      <td>$1,103.41</td>\n",
              "      <td>14.8</td>\n",
              "      <td>23.0</td>\n",
              "      <td>8</td>\n",
              "      <td>3</td>\n",
              "      <td>7964</td>\n",
              "      <td>10437</td>\n",
              "      <td>0.0</td>\n",
              "      <td>1.0</td>\n",
              "    </tr>\n",
              "    <tr>\n",
              "      <th>115437</th>\n",
              "      <td>72b6b95f-7443-4ddf-a8f7-c9abb0270e5d</td>\n",
              "      <td>953b0ca9-c44d-4bc2-a699-7e159a75b513</td>\n",
              "      <td>Fully Paid</td>\n",
              "      <td>6371</td>\n",
              "      <td>Short Term</td>\n",
              "      <td>750.0</td>\n",
              "      <td>3 years</td>\n",
              "      <td>Home Mortgage</td>\n",
              "      <td>48926.0</td>\n",
              "      <td>Debt Consolidation</td>\n",
              "      <td>$994.84</td>\n",
              "      <td>15.7</td>\n",
              "      <td>NaN</td>\n",
              "      <td>11</td>\n",
              "      <td>0</td>\n",
              "      <td>1565</td>\n",
              "      <td>11176</td>\n",
              "      <td>0.0</td>\n",
              "      <td>0.0</td>\n",
              "    </tr>\n",
              "    <tr>\n",
              "      <th>44847</th>\n",
              "      <td>2c9c3414-d01d-4aa0-80c4-4e6f1a757b70</td>\n",
              "      <td>d871a961-001d-4d70-9ca6-46b50f707ea5</td>\n",
              "      <td>Charged Off</td>\n",
              "      <td>2518</td>\n",
              "      <td>Short Term</td>\n",
              "      <td>721.0</td>\n",
              "      <td>&lt; 1 year</td>\n",
              "      <td>Rent</td>\n",
              "      <td>35249.0</td>\n",
              "      <td>Debt Consolidation</td>\n",
              "      <td>$481.73</td>\n",
              "      <td>14.7</td>\n",
              "      <td>NaN</td>\n",
              "      <td>10</td>\n",
              "      <td>0</td>\n",
              "      <td>9837</td>\n",
              "      <td>13994</td>\n",
              "      <td>0.0</td>\n",
              "      <td>0.0</td>\n",
              "    </tr>\n",
              "    <tr>\n",
              "      <th>202407</th>\n",
              "      <td>c95b3435-bd87-40e9-a0c5-a6a7a7410ac6</td>\n",
              "      <td>cdca70e4-40d6-4c59-8b11-31860c6faf38</td>\n",
              "      <td>Fully Paid</td>\n",
              "      <td>17692</td>\n",
              "      <td>Short Term</td>\n",
              "      <td>720.0</td>\n",
              "      <td>5 years</td>\n",
              "      <td>Rent</td>\n",
              "      <td>103205.0</td>\n",
              "      <td>Debt Consolidation</td>\n",
              "      <td>$2,339.30</td>\n",
              "      <td>20.8</td>\n",
              "      <td>NaN</td>\n",
              "      <td>11</td>\n",
              "      <td>1</td>\n",
              "      <td>14789</td>\n",
              "      <td>17796</td>\n",
              "      <td>1.0</td>\n",
              "      <td>0.0</td>\n",
              "    </tr>\n",
              "  </tbody>\n",
              "</table>\n",
              "</div>\n",
              "      <button class=\"colab-df-convert\" onclick=\"convertToInteractive('df-85fa3ed3-9fd1-4f06-9c58-409551274dcb')\"\n",
              "              title=\"Convert this dataframe to an interactive table.\"\n",
              "              style=\"display:none;\">\n",
              "        \n",
              "  <svg xmlns=\"http://www.w3.org/2000/svg\" height=\"24px\"viewBox=\"0 0 24 24\"\n",
              "       width=\"24px\">\n",
              "    <path d=\"M0 0h24v24H0V0z\" fill=\"none\"/>\n",
              "    <path d=\"M18.56 5.44l.94 2.06.94-2.06 2.06-.94-2.06-.94-.94-2.06-.94 2.06-2.06.94zm-11 1L8.5 8.5l.94-2.06 2.06-.94-2.06-.94L8.5 2.5l-.94 2.06-2.06.94zm10 10l.94 2.06.94-2.06 2.06-.94-2.06-.94-.94-2.06-.94 2.06-2.06.94z\"/><path d=\"M17.41 7.96l-1.37-1.37c-.4-.4-.92-.59-1.43-.59-.52 0-1.04.2-1.43.59L10.3 9.45l-7.72 7.72c-.78.78-.78 2.05 0 2.83L4 21.41c.39.39.9.59 1.41.59.51 0 1.02-.2 1.41-.59l7.78-7.78 2.81-2.81c.8-.78.8-2.07 0-2.86zM5.41 20L4 18.59l7.72-7.72 1.47 1.35L5.41 20z\"/>\n",
              "  </svg>\n",
              "      </button>\n",
              "      \n",
              "  <style>\n",
              "    .colab-df-container {\n",
              "      display:flex;\n",
              "      flex-wrap:wrap;\n",
              "      gap: 12px;\n",
              "    }\n",
              "\n",
              "    .colab-df-convert {\n",
              "      background-color: #E8F0FE;\n",
              "      border: none;\n",
              "      border-radius: 50%;\n",
              "      cursor: pointer;\n",
              "      display: none;\n",
              "      fill: #1967D2;\n",
              "      height: 32px;\n",
              "      padding: 0 0 0 0;\n",
              "      width: 32px;\n",
              "    }\n",
              "\n",
              "    .colab-df-convert:hover {\n",
              "      background-color: #E2EBFA;\n",
              "      box-shadow: 0px 1px 2px rgba(60, 64, 67, 0.3), 0px 1px 3px 1px rgba(60, 64, 67, 0.15);\n",
              "      fill: #174EA6;\n",
              "    }\n",
              "\n",
              "    [theme=dark] .colab-df-convert {\n",
              "      background-color: #3B4455;\n",
              "      fill: #D2E3FC;\n",
              "    }\n",
              "\n",
              "    [theme=dark] .colab-df-convert:hover {\n",
              "      background-color: #434B5C;\n",
              "      box-shadow: 0px 1px 3px 1px rgba(0, 0, 0, 0.15);\n",
              "      filter: drop-shadow(0px 1px 2px rgba(0, 0, 0, 0.3));\n",
              "      fill: #FFFFFF;\n",
              "    }\n",
              "  </style>\n",
              "\n",
              "      <script>\n",
              "        const buttonEl =\n",
              "          document.querySelector('#df-85fa3ed3-9fd1-4f06-9c58-409551274dcb button.colab-df-convert');\n",
              "        buttonEl.style.display =\n",
              "          google.colab.kernel.accessAllowed ? 'block' : 'none';\n",
              "\n",
              "        async function convertToInteractive(key) {\n",
              "          const element = document.querySelector('#df-85fa3ed3-9fd1-4f06-9c58-409551274dcb');\n",
              "          const dataTable =\n",
              "            await google.colab.kernel.invokeFunction('convertToInteractive',\n",
              "                                                     [key], {});\n",
              "          if (!dataTable) return;\n",
              "\n",
              "          const docLinkHtml = 'Like what you see? Visit the ' +\n",
              "            '<a target=\"_blank\" href=https://colab.research.google.com/notebooks/data_table.ipynb>data table notebook</a>'\n",
              "            + ' to learn more about interactive tables.';\n",
              "          element.innerHTML = '';\n",
              "          dataTable['output_type'] = 'display_data';\n",
              "          await google.colab.output.renderOutput(dataTable, element);\n",
              "          const docLink = document.createElement('div');\n",
              "          docLink.innerHTML = docLinkHtml;\n",
              "          element.appendChild(docLink);\n",
              "        }\n",
              "      </script>\n",
              "    </div>\n",
              "  </div>\n",
              "  "
            ]
          },
          "metadata": {},
          "execution_count": 147
        }
      ]
    },
    {
      "cell_type": "code",
      "source": [
        "df.corr()"
      ],
      "metadata": {
        "colab": {
          "base_uri": "https://localhost:8080/",
          "height": 546
        },
        "id": "QPBS0qhavxJe",
        "outputId": "7f7fafc6-f7c5-4223-8284-8161851cfd36"
      },
      "execution_count": 148,
      "outputs": [
        {
          "output_type": "execute_result",
          "data": {
            "text/plain": [
              "                              Current Loan Amount  Credit Score  \\\n",
              "Current Loan Amount                      1.000000     -0.139743   \n",
              "Credit Score                            -0.139743      1.000000   \n",
              "Annual Income                            0.024069     -0.033221   \n",
              "Years of Credit History                  0.014725     -0.011658   \n",
              "Months since last delinquent             0.003488     -0.007994   \n",
              "Number of Open Accounts                 -0.003094      0.008124   \n",
              "Number of Credit Problems               -0.000062      0.000777   \n",
              "Current Credit Balance                   0.003138     -0.003263   \n",
              "Bankruptcies                             0.003576     -0.003426   \n",
              "Tax Liens                               -0.003069      0.004381   \n",
              "\n",
              "                              Annual Income  Years of Credit History  \\\n",
              "Current Loan Amount                0.024069                 0.014725   \n",
              "Credit Score                      -0.033221                -0.011658   \n",
              "Annual Income                      1.000000                 0.146859   \n",
              "Years of Credit History            0.146859                 1.000000   \n",
              "Months since last delinquent      -0.059675                -0.039695   \n",
              "Number of Open Accounts            0.140463                 0.128033   \n",
              "Number of Credit Problems         -0.013672                 0.061251   \n",
              "Current Credit Balance             0.292165                 0.201001   \n",
              "Bankruptcies                      -0.044837                 0.062049   \n",
              "Tax Liens                          0.038185                 0.020915   \n",
              "\n",
              "                              Months since last delinquent  \\\n",
              "Current Loan Amount                               0.003488   \n",
              "Credit Score                                     -0.007994   \n",
              "Annual Income                                    -0.059675   \n",
              "Years of Credit History                          -0.039695   \n",
              "Months since last delinquent                      1.000000   \n",
              "Number of Open Accounts                          -0.035803   \n",
              "Number of Credit Problems                         0.088612   \n",
              "Current Credit Balance                           -0.024292   \n",
              "Bankruptcies                                      0.112907   \n",
              "Tax Liens                                         0.002730   \n",
              "\n",
              "                              Number of Open Accounts  \\\n",
              "Current Loan Amount                         -0.003094   \n",
              "Credit Score                                 0.008124   \n",
              "Annual Income                                0.140463   \n",
              "Years of Credit History                      0.128033   \n",
              "Months since last delinquent                -0.035803   \n",
              "Number of Open Accounts                      1.000000   \n",
              "Number of Credit Problems                   -0.013731   \n",
              "Current Credit Balance                       0.222763   \n",
              "Bankruptcies                                -0.022805   \n",
              "Tax Liens                                    0.005754   \n",
              "\n",
              "                              Number of Credit Problems  \\\n",
              "Current Loan Amount                           -0.000062   \n",
              "Credit Score                                   0.000777   \n",
              "Annual Income                                 -0.013672   \n",
              "Years of Credit History                        0.061251   \n",
              "Months since last delinquent                   0.088612   \n",
              "Number of Open Accounts                       -0.013731   \n",
              "Number of Credit Problems                      1.000000   \n",
              "Current Credit Balance                        -0.103814   \n",
              "Bankruptcies                                   0.755866   \n",
              "Tax Liens                                      0.584917   \n",
              "\n",
              "                              Current Credit Balance  Bankruptcies  Tax Liens  \n",
              "Current Loan Amount                         0.003138      0.003576  -0.003069  \n",
              "Credit Score                               -0.003263     -0.003426   0.004381  \n",
              "Annual Income                               0.292165     -0.044837   0.038185  \n",
              "Years of Credit History                     0.201001      0.062049   0.020915  \n",
              "Months since last delinquent               -0.024292      0.112907   0.002730  \n",
              "Number of Open Accounts                     0.222763     -0.022805   0.005754  \n",
              "Number of Credit Problems                  -0.103814      0.755866   0.584917  \n",
              "Current Credit Balance                      1.000000     -0.117995  -0.011118  \n",
              "Bankruptcies                               -0.117995      1.000000   0.046160  \n",
              "Tax Liens                                  -0.011118      0.046160   1.000000  "
            ],
            "text/html": [
              "\n",
              "  <div id=\"df-c8c98a47-81e4-4ee3-ba8c-65692019fe09\">\n",
              "    <div class=\"colab-df-container\">\n",
              "      <div>\n",
              "<style scoped>\n",
              "    .dataframe tbody tr th:only-of-type {\n",
              "        vertical-align: middle;\n",
              "    }\n",
              "\n",
              "    .dataframe tbody tr th {\n",
              "        vertical-align: top;\n",
              "    }\n",
              "\n",
              "    .dataframe thead th {\n",
              "        text-align: right;\n",
              "    }\n",
              "</style>\n",
              "<table border=\"1\" class=\"dataframe\">\n",
              "  <thead>\n",
              "    <tr style=\"text-align: right;\">\n",
              "      <th></th>\n",
              "      <th>Current Loan Amount</th>\n",
              "      <th>Credit Score</th>\n",
              "      <th>Annual Income</th>\n",
              "      <th>Years of Credit History</th>\n",
              "      <th>Months since last delinquent</th>\n",
              "      <th>Number of Open Accounts</th>\n",
              "      <th>Number of Credit Problems</th>\n",
              "      <th>Current Credit Balance</th>\n",
              "      <th>Bankruptcies</th>\n",
              "      <th>Tax Liens</th>\n",
              "    </tr>\n",
              "  </thead>\n",
              "  <tbody>\n",
              "    <tr>\n",
              "      <th>Current Loan Amount</th>\n",
              "      <td>1.000000</td>\n",
              "      <td>-0.139743</td>\n",
              "      <td>0.024069</td>\n",
              "      <td>0.014725</td>\n",
              "      <td>0.003488</td>\n",
              "      <td>-0.003094</td>\n",
              "      <td>-0.000062</td>\n",
              "      <td>0.003138</td>\n",
              "      <td>0.003576</td>\n",
              "      <td>-0.003069</td>\n",
              "    </tr>\n",
              "    <tr>\n",
              "      <th>Credit Score</th>\n",
              "      <td>-0.139743</td>\n",
              "      <td>1.000000</td>\n",
              "      <td>-0.033221</td>\n",
              "      <td>-0.011658</td>\n",
              "      <td>-0.007994</td>\n",
              "      <td>0.008124</td>\n",
              "      <td>0.000777</td>\n",
              "      <td>-0.003263</td>\n",
              "      <td>-0.003426</td>\n",
              "      <td>0.004381</td>\n",
              "    </tr>\n",
              "    <tr>\n",
              "      <th>Annual Income</th>\n",
              "      <td>0.024069</td>\n",
              "      <td>-0.033221</td>\n",
              "      <td>1.000000</td>\n",
              "      <td>0.146859</td>\n",
              "      <td>-0.059675</td>\n",
              "      <td>0.140463</td>\n",
              "      <td>-0.013672</td>\n",
              "      <td>0.292165</td>\n",
              "      <td>-0.044837</td>\n",
              "      <td>0.038185</td>\n",
              "    </tr>\n",
              "    <tr>\n",
              "      <th>Years of Credit History</th>\n",
              "      <td>0.014725</td>\n",
              "      <td>-0.011658</td>\n",
              "      <td>0.146859</td>\n",
              "      <td>1.000000</td>\n",
              "      <td>-0.039695</td>\n",
              "      <td>0.128033</td>\n",
              "      <td>0.061251</td>\n",
              "      <td>0.201001</td>\n",
              "      <td>0.062049</td>\n",
              "      <td>0.020915</td>\n",
              "    </tr>\n",
              "    <tr>\n",
              "      <th>Months since last delinquent</th>\n",
              "      <td>0.003488</td>\n",
              "      <td>-0.007994</td>\n",
              "      <td>-0.059675</td>\n",
              "      <td>-0.039695</td>\n",
              "      <td>1.000000</td>\n",
              "      <td>-0.035803</td>\n",
              "      <td>0.088612</td>\n",
              "      <td>-0.024292</td>\n",
              "      <td>0.112907</td>\n",
              "      <td>0.002730</td>\n",
              "    </tr>\n",
              "    <tr>\n",
              "      <th>Number of Open Accounts</th>\n",
              "      <td>-0.003094</td>\n",
              "      <td>0.008124</td>\n",
              "      <td>0.140463</td>\n",
              "      <td>0.128033</td>\n",
              "      <td>-0.035803</td>\n",
              "      <td>1.000000</td>\n",
              "      <td>-0.013731</td>\n",
              "      <td>0.222763</td>\n",
              "      <td>-0.022805</td>\n",
              "      <td>0.005754</td>\n",
              "    </tr>\n",
              "    <tr>\n",
              "      <th>Number of Credit Problems</th>\n",
              "      <td>-0.000062</td>\n",
              "      <td>0.000777</td>\n",
              "      <td>-0.013672</td>\n",
              "      <td>0.061251</td>\n",
              "      <td>0.088612</td>\n",
              "      <td>-0.013731</td>\n",
              "      <td>1.000000</td>\n",
              "      <td>-0.103814</td>\n",
              "      <td>0.755866</td>\n",
              "      <td>0.584917</td>\n",
              "    </tr>\n",
              "    <tr>\n",
              "      <th>Current Credit Balance</th>\n",
              "      <td>0.003138</td>\n",
              "      <td>-0.003263</td>\n",
              "      <td>0.292165</td>\n",
              "      <td>0.201001</td>\n",
              "      <td>-0.024292</td>\n",
              "      <td>0.222763</td>\n",
              "      <td>-0.103814</td>\n",
              "      <td>1.000000</td>\n",
              "      <td>-0.117995</td>\n",
              "      <td>-0.011118</td>\n",
              "    </tr>\n",
              "    <tr>\n",
              "      <th>Bankruptcies</th>\n",
              "      <td>0.003576</td>\n",
              "      <td>-0.003426</td>\n",
              "      <td>-0.044837</td>\n",
              "      <td>0.062049</td>\n",
              "      <td>0.112907</td>\n",
              "      <td>-0.022805</td>\n",
              "      <td>0.755866</td>\n",
              "      <td>-0.117995</td>\n",
              "      <td>1.000000</td>\n",
              "      <td>0.046160</td>\n",
              "    </tr>\n",
              "    <tr>\n",
              "      <th>Tax Liens</th>\n",
              "      <td>-0.003069</td>\n",
              "      <td>0.004381</td>\n",
              "      <td>0.038185</td>\n",
              "      <td>0.020915</td>\n",
              "      <td>0.002730</td>\n",
              "      <td>0.005754</td>\n",
              "      <td>0.584917</td>\n",
              "      <td>-0.011118</td>\n",
              "      <td>0.046160</td>\n",
              "      <td>1.000000</td>\n",
              "    </tr>\n",
              "  </tbody>\n",
              "</table>\n",
              "</div>\n",
              "      <button class=\"colab-df-convert\" onclick=\"convertToInteractive('df-c8c98a47-81e4-4ee3-ba8c-65692019fe09')\"\n",
              "              title=\"Convert this dataframe to an interactive table.\"\n",
              "              style=\"display:none;\">\n",
              "        \n",
              "  <svg xmlns=\"http://www.w3.org/2000/svg\" height=\"24px\"viewBox=\"0 0 24 24\"\n",
              "       width=\"24px\">\n",
              "    <path d=\"M0 0h24v24H0V0z\" fill=\"none\"/>\n",
              "    <path d=\"M18.56 5.44l.94 2.06.94-2.06 2.06-.94-2.06-.94-.94-2.06-.94 2.06-2.06.94zm-11 1L8.5 8.5l.94-2.06 2.06-.94-2.06-.94L8.5 2.5l-.94 2.06-2.06.94zm10 10l.94 2.06.94-2.06 2.06-.94-2.06-.94-.94-2.06-.94 2.06-2.06.94z\"/><path d=\"M17.41 7.96l-1.37-1.37c-.4-.4-.92-.59-1.43-.59-.52 0-1.04.2-1.43.59L10.3 9.45l-7.72 7.72c-.78.78-.78 2.05 0 2.83L4 21.41c.39.39.9.59 1.41.59.51 0 1.02-.2 1.41-.59l7.78-7.78 2.81-2.81c.8-.78.8-2.07 0-2.86zM5.41 20L4 18.59l7.72-7.72 1.47 1.35L5.41 20z\"/>\n",
              "  </svg>\n",
              "      </button>\n",
              "      \n",
              "  <style>\n",
              "    .colab-df-container {\n",
              "      display:flex;\n",
              "      flex-wrap:wrap;\n",
              "      gap: 12px;\n",
              "    }\n",
              "\n",
              "    .colab-df-convert {\n",
              "      background-color: #E8F0FE;\n",
              "      border: none;\n",
              "      border-radius: 50%;\n",
              "      cursor: pointer;\n",
              "      display: none;\n",
              "      fill: #1967D2;\n",
              "      height: 32px;\n",
              "      padding: 0 0 0 0;\n",
              "      width: 32px;\n",
              "    }\n",
              "\n",
              "    .colab-df-convert:hover {\n",
              "      background-color: #E2EBFA;\n",
              "      box-shadow: 0px 1px 2px rgba(60, 64, 67, 0.3), 0px 1px 3px 1px rgba(60, 64, 67, 0.15);\n",
              "      fill: #174EA6;\n",
              "    }\n",
              "\n",
              "    [theme=dark] .colab-df-convert {\n",
              "      background-color: #3B4455;\n",
              "      fill: #D2E3FC;\n",
              "    }\n",
              "\n",
              "    [theme=dark] .colab-df-convert:hover {\n",
              "      background-color: #434B5C;\n",
              "      box-shadow: 0px 1px 3px 1px rgba(0, 0, 0, 0.15);\n",
              "      filter: drop-shadow(0px 1px 2px rgba(0, 0, 0, 0.3));\n",
              "      fill: #FFFFFF;\n",
              "    }\n",
              "  </style>\n",
              "\n",
              "      <script>\n",
              "        const buttonEl =\n",
              "          document.querySelector('#df-c8c98a47-81e4-4ee3-ba8c-65692019fe09 button.colab-df-convert');\n",
              "        buttonEl.style.display =\n",
              "          google.colab.kernel.accessAllowed ? 'block' : 'none';\n",
              "\n",
              "        async function convertToInteractive(key) {\n",
              "          const element = document.querySelector('#df-c8c98a47-81e4-4ee3-ba8c-65692019fe09');\n",
              "          const dataTable =\n",
              "            await google.colab.kernel.invokeFunction('convertToInteractive',\n",
              "                                                     [key], {});\n",
              "          if (!dataTable) return;\n",
              "\n",
              "          const docLinkHtml = 'Like what you see? Visit the ' +\n",
              "            '<a target=\"_blank\" href=https://colab.research.google.com/notebooks/data_table.ipynb>data table notebook</a>'\n",
              "            + ' to learn more about interactive tables.';\n",
              "          element.innerHTML = '';\n",
              "          dataTable['output_type'] = 'display_data';\n",
              "          await google.colab.output.renderOutput(dataTable, element);\n",
              "          const docLink = document.createElement('div');\n",
              "          docLink.innerHTML = docLinkHtml;\n",
              "          element.appendChild(docLink);\n",
              "        }\n",
              "      </script>\n",
              "    </div>\n",
              "  </div>\n",
              "  "
            ]
          },
          "metadata": {},
          "execution_count": 148
        }
      ]
    },
    {
      "cell_type": "code",
      "source": [
        "df.columns"
      ],
      "metadata": {
        "colab": {
          "base_uri": "https://localhost:8080/"
        },
        "id": "rOyZHmezvxMK",
        "outputId": "a4484844-d0fe-497f-e8bf-261f9b4026a5"
      },
      "execution_count": 149,
      "outputs": [
        {
          "output_type": "execute_result",
          "data": {
            "text/plain": [
              "Index(['Loan ID', 'Customer ID', 'Loan Status', 'Current Loan Amount', 'Term',\n",
              "       'Credit Score', 'Years in current job', 'Home Ownership',\n",
              "       'Annual Income', 'Purpose', 'Monthly Debt', 'Years of Credit History',\n",
              "       'Months since last delinquent', 'Number of Open Accounts',\n",
              "       'Number of Credit Problems', 'Current Credit Balance',\n",
              "       'Maximum Open Credit', 'Bankruptcies', 'Tax Liens'],\n",
              "      dtype='object')"
            ]
          },
          "metadata": {},
          "execution_count": 149
        }
      ]
    },
    {
      "cell_type": "markdown",
      "source": [
        "## Loan Status - The Target"
      ],
      "metadata": {
        "id": "kR5eBeF-tOIK"
      }
    },
    {
      "cell_type": "code",
      "source": [
        "df[\"Loan Status\"].unique()"
      ],
      "metadata": {
        "colab": {
          "base_uri": "https://localhost:8080/"
        },
        "id": "fZs7WBZTvxOy",
        "outputId": "29a09491-b9a4-4b0f-95d1-e4227b529577"
      },
      "execution_count": 150,
      "outputs": [
        {
          "output_type": "execute_result",
          "data": {
            "text/plain": [
              "array(['Fully Paid', 'Charged Off'], dtype=object)"
            ]
          },
          "metadata": {},
          "execution_count": 150
        }
      ]
    },
    {
      "cell_type": "code",
      "source": [
        "df['Loan Status']=df['Loan Status'].replace(['Fully Paid','Charged Off'],[1,0])"
      ],
      "metadata": {
        "id": "-1Ls-PvrvxSy"
      },
      "execution_count": 151,
      "outputs": []
    },
    {
      "cell_type": "code",
      "source": [
        "df[\"Loan Status\"].unique()"
      ],
      "metadata": {
        "colab": {
          "base_uri": "https://localhost:8080/"
        },
        "id": "SxV8MZV_vxUo",
        "outputId": "6d23b44a-6280-4844-e9dd-d030a4530005"
      },
      "execution_count": 152,
      "outputs": [
        {
          "output_type": "execute_result",
          "data": {
            "text/plain": [
              "array([1, 0])"
            ]
          },
          "metadata": {},
          "execution_count": 152
        }
      ]
    },
    {
      "cell_type": "code",
      "source": [
        "abs(df.corr()['Loan Status']).sort_values(ascending=False)"
      ],
      "metadata": {
        "colab": {
          "base_uri": "https://localhost:8080/"
        },
        "id": "ToFzKAAamZ8w",
        "outputId": "6a0934cb-9db4-48bc-c3cc-d1ae46eddda4"
      },
      "execution_count": 153,
      "outputs": [
        {
          "output_type": "execute_result",
          "data": {
            "text/plain": [
              "Loan Status                     1.000000\n",
              "Credit Score                    0.440307\n",
              "Current Loan Amount             0.269804\n",
              "Annual Income                   0.070328\n",
              "Years of Credit History         0.035548\n",
              "Months since last delinquent    0.023541\n",
              "Number of Open Accounts         0.020787\n",
              "Tax Liens                       0.012585\n",
              "Number of Credit Problems       0.010179\n",
              "Current Credit Balance          0.008838\n",
              "Bankruptcies                    0.001154\n",
              "Name: Loan Status, dtype: float64"
            ]
          },
          "metadata": {},
          "execution_count": 153
        }
      ]
    },
    {
      "cell_type": "markdown",
      "source": [
        "## Bankruptcies"
      ],
      "metadata": {
        "id": "YmcJyaD6tZg5"
      }
    },
    {
      "cell_type": "code",
      "source": [
        "df.Bankruptcies.unique()"
      ],
      "metadata": {
        "colab": {
          "base_uri": "https://localhost:8080/"
        },
        "id": "HqFE4CZ8vxZM",
        "outputId": "1689cccf-340c-4c57-f9a1-ba707731f695"
      },
      "execution_count": 154,
      "outputs": [
        {
          "output_type": "execute_result",
          "data": {
            "text/plain": [
              "array([ 0.,  1.,  2., nan,  3.,  4.,  5.,  7.,  6.])"
            ]
          },
          "metadata": {},
          "execution_count": 154
        }
      ]
    },
    {
      "cell_type": "code",
      "source": [
        "df.Bankruptcies=df.Bankruptcies.fillna(df['Bankruptcies'].mean())"
      ],
      "metadata": {
        "id": "3vvEGYVB-5dl"
      },
      "execution_count": 155,
      "outputs": []
    },
    {
      "cell_type": "markdown",
      "source": [
        "## Tax Liens"
      ],
      "metadata": {
        "id": "zDOg26CLtvXK"
      }
    },
    {
      "cell_type": "code",
      "source": [
        "df[\"Tax Liens\"]=df[\"Tax Liens\"].fillna(df[\"Tax Liens\"].mean())"
      ],
      "metadata": {
        "id": "8XvR2EwN-5gQ"
      },
      "execution_count": 156,
      "outputs": []
    },
    {
      "cell_type": "markdown",
      "source": [
        "## Years in current job"
      ],
      "metadata": {
        "id": "1Z3ZroJZt2c7"
      }
    },
    {
      "cell_type": "code",
      "source": [
        "df['Years in current job'].unique()"
      ],
      "metadata": {
        "colab": {
          "base_uri": "https://localhost:8080/"
        },
        "id": "mwf-HRoH-5jR",
        "outputId": "2de91a76-057f-4414-d019-7c280a86c460"
      },
      "execution_count": 157,
      "outputs": [
        {
          "output_type": "execute_result",
          "data": {
            "text/plain": [
              "array(['10+ years', '4 years', '6 years', '5 years', nan, '3 years',\n",
              "       '2 years', '< 1 year', '1 year', '7 years', '9 years', '8 years'],\n",
              "      dtype=object)"
            ]
          },
          "metadata": {},
          "execution_count": 157
        }
      ]
    },
    {
      "cell_type": "code",
      "source": [
        "df['Years in current job']=df['Years in current job'].replace('< 1 year',\"0\")"
      ],
      "metadata": {
        "id": "69WGOtdZqrVW"
      },
      "execution_count": 158,
      "outputs": []
    },
    {
      "cell_type": "code",
      "source": [
        "df['Years in current job']=df['Years in current job'].str.extract(\"(\\d*)\")"
      ],
      "metadata": {
        "id": "c75QWQ_3-5nA"
      },
      "execution_count": 159,
      "outputs": []
    },
    {
      "cell_type": "code",
      "source": [
        "df['Years in current job'].unique()"
      ],
      "metadata": {
        "id": "ft2SoiH7-5qN",
        "colab": {
          "base_uri": "https://localhost:8080/"
        },
        "outputId": "e54d80e1-5b75-4bbd-eb35-212ebdc494ac"
      },
      "execution_count": 160,
      "outputs": [
        {
          "output_type": "execute_result",
          "data": {
            "text/plain": [
              "array(['10', '4', '6', '5', nan, '3', '2', '0', '1', '7', '9', '8'],\n",
              "      dtype=object)"
            ]
          },
          "metadata": {},
          "execution_count": 160
        }
      ]
    },
    {
      "cell_type": "code",
      "source": [
        "df['Years in current job']=df['Years in current job'].fillna('0')\n"
      ],
      "metadata": {
        "id": "CCIPkR8upmy6"
      },
      "execution_count": 161,
      "outputs": []
    },
    {
      "cell_type": "code",
      "source": [
        "df['Years in current job'].value_counts()"
      ],
      "metadata": {
        "id": "nTLWRnj9-5sg",
        "colab": {
          "base_uri": "https://localhost:8080/"
        },
        "outputId": "7d50d486-a84e-4986-83b0-c7715830ae0c"
      },
      "execution_count": 162,
      "outputs": [
        {
          "output_type": "execute_result",
          "data": {
            "text/plain": [
              "10    78896\n",
              "0     32488\n",
              "2     23462\n",
              "3     20659\n",
              "5     17864\n",
              "1     16746\n",
              "4     16166\n",
              "6     14597\n",
              "7     13968\n",
              "8     12206\n",
              "9      9932\n",
              "Name: Years in current job, dtype: int64"
            ]
          },
          "metadata": {},
          "execution_count": 162
        }
      ]
    },
    {
      "cell_type": "code",
      "source": [
        "#df['Years in current job']=df['Years in current job'].astype(\"int\")"
      ],
      "metadata": {
        "id": "Oyf7GwYooeJ9"
      },
      "execution_count": 163,
      "outputs": []
    },
    {
      "cell_type": "markdown",
      "source": [
        "## Credit Score"
      ],
      "metadata": {
        "id": "FwRGUIPPt6Mi"
      }
    },
    {
      "cell_type": "code",
      "source": [
        "df['Credit Score']=df['Credit Score'].fillna(df['Credit Score'].median())  #median is less sensitive to extreme values.\n",
        "                                                                           #Increase number of median values does not affect mean so much."
      ],
      "metadata": {
        "id": "pd1jBKl9rvhA"
      },
      "execution_count": 164,
      "outputs": []
    },
    {
      "cell_type": "markdown",
      "source": [
        "## Annual Income"
      ],
      "metadata": {
        "id": "RtScyJyn3lYD"
      }
    },
    {
      "cell_type": "code",
      "source": [
        "df['Annual Income']=df['Annual Income'].fillna(df.groupby('Years in current job')['Annual Income'].transform(\"median\"))"
      ],
      "metadata": {
        "id": "wvsmFJUprvkb"
      },
      "execution_count": 165,
      "outputs": []
    },
    {
      "cell_type": "code",
      "source": [
        "#df.groupby('Years in current job')['Annual Income'].mean() #mean is very sensitive to outliers.ıt may manipulate our results."
      ],
      "metadata": {
        "id": "ugnKDeDyrvmq"
      },
      "execution_count": 166,
      "outputs": []
    },
    {
      "cell_type": "markdown",
      "source": [
        "## Home Ownership"
      ],
      "metadata": {
        "id": "I_CdudZv5X-n"
      }
    },
    {
      "cell_type": "code",
      "source": [
        "df[\"Home Ownership\"].unique()"
      ],
      "metadata": {
        "colab": {
          "base_uri": "https://localhost:8080/"
        },
        "id": "eAHlil9orvpS",
        "outputId": "ae93e047-73e2-402f-fbca-a4eb1b02606b"
      },
      "execution_count": 167,
      "outputs": [
        {
          "output_type": "execute_result",
          "data": {
            "text/plain": [
              "array(['Home Mortgage', 'Own Home', 'Rent', 'HaveMortgage'], dtype=object)"
            ]
          },
          "metadata": {},
          "execution_count": 167
        }
      ]
    },
    {
      "cell_type": "code",
      "source": [
        "sns.countplot(df['Home Ownership'])"
      ],
      "metadata": {
        "colab": {
          "base_uri": "https://localhost:8080/",
          "height": 296
        },
        "id": "bJ3lCioKrvrm",
        "outputId": "50bf5288-94f2-4ce4-aa32-0a056d008a06"
      },
      "execution_count": 168,
      "outputs": [
        {
          "output_type": "execute_result",
          "data": {
            "text/plain": [
              "<matplotlib.axes._subplots.AxesSubplot at 0x7fa3b9613c90>"
            ]
          },
          "metadata": {},
          "execution_count": 168
        },
        {
          "output_type": "display_data",
          "data": {
            "text/plain": [
              "<Figure size 432x288 with 1 Axes>"
            ],
            "image/png": "[encoded data removed]"
          },
          "metadata": {
            "needs_background": "light"
          }
        }
      ]
    },
    {
      "cell_type": "code",
      "source": [
        "df['Home Ownership']=df['Home Ownership'].replace('HaveMortgage','Home Mortgage')"
      ],
      "metadata": {
        "id": "gzNJMTW7rvuN"
      },
      "execution_count": 169,
      "outputs": []
    },
    {
      "cell_type": "code",
      "source": [
        "df[\"Home Ownership\"].unique()"
      ],
      "metadata": {
        "colab": {
          "base_uri": "https://localhost:8080/"
        },
        "id": "-0PWP7dx6Eft",
        "outputId": "1f8ef8e6-eac5-4bd8-f822-3f37fee83af4"
      },
      "execution_count": 170,
      "outputs": [
        {
          "output_type": "execute_result",
          "data": {
            "text/plain": [
              "array(['Home Mortgage', 'Own Home', 'Rent'], dtype=object)"
            ]
          },
          "metadata": {},
          "execution_count": 170
        }
      ]
    },
    {
      "cell_type": "markdown",
      "source": [
        "## 'Months since last delinquent'"
      ],
      "metadata": {
        "id": "t8owUzSb6dI-"
      }
    },
    {
      "cell_type": "code",
      "source": [
        "df['Months since last delinquent'].unique()"
      ],
      "metadata": {
        "colab": {
          "base_uri": "https://localhost:8080/"
        },
        "id": "o9XBIroV6EjI",
        "outputId": "987bfb50-2d7a-4332-9c40-2ab0d0613411"
      },
      "execution_count": 171,
      "outputs": [
        {
          "output_type": "execute_result",
          "data": {
            "text/plain": [
              "array([ 41.,  nan,  73.,  29.,  43.,  79.,   2.,  15.,  27.,   5.,  55.,\n",
              "        21.,  56.,  25.,  67.,  37.,  74.,  45.,  76.,  46.,  35.,  60.,\n",
              "        28.,  34.,  13.,   7.,  17.,  22.,  42.,  53.,  12.,  39.,  71.,\n",
              "        20.,  38.,   0.,  81.,  78.,  44.,  63.,  77.,  49.,  30.,  70.,\n",
              "        26.,  14.,   8.,  52.,  68.,  75.,  51.,  59.,  40.,   4.,  18.,\n",
              "        47.,  24.,  31.,  69.,  32.,  36.,  16.,  10.,  62.,   9.,  11.,\n",
              "        66.,  58.,  54.,   3.,  50.,  82.,  61.,  72.,  57.,  23.,  19.,\n",
              "        80.,   6.,   1.,  86.,  48.,  33.,  65.,  64.,  84.,  83., 104.,\n",
              "        90., 149.,  96., 110.,  99.,  91.,  95., 152.,  87., 131., 100.,\n",
              "       116., 106., 107.,  85.,  89., 101., 122.,  93., 135., 139.,  88.,\n",
              "       148.,  92.,  94., 114., 143., 115., 108., 140., 130.,  98.,  97.,\n",
              "       120., 102., 176., 151., 118., 109., 134., 112., 113., 133., 119.])"
            ]
          },
          "metadata": {},
          "execution_count": 171
        }
      ]
    },
    {
      "cell_type": "code",
      "source": [
        "df['Months since last delinquent'].isnull().sum() * 100 / len(df) #becuse the missing values more than %50 I will not use this feature.\n"
      ],
      "metadata": {
        "colab": {
          "base_uri": "https://localhost:8080/"
        },
        "id": "sD7FGiBJ6EmW",
        "outputId": "f0a7ad41-875f-4185-b982-736f21ffdddb"
      },
      "execution_count": 172,
      "outputs": [
        {
          "output_type": "execute_result",
          "data": {
            "text/plain": [
              "54.627136319770884"
            ]
          },
          "metadata": {},
          "execution_count": 172
        }
      ]
    },
    {
      "cell_type": "markdown",
      "source": [
        "## Dropped Features "
      ],
      "metadata": {
        "id": "4CIMJU0NBq7j"
      }
    },
    {
      "cell_type": "code",
      "source": [
        "df.drop(['Months since last delinquent','Loan ID', 'Customer ID','Monthly Debt', 'Years of Credit History','Maximum Open Credit','Years of Credit History'],axis=1,inplace=True)"
      ],
      "metadata": {
        "id": "ApPcXO4r6EoS"
      },
      "execution_count": 174,
      "outputs": []
    },
    {
      "cell_type": "code",
      "source": [
        "df.columns"
      ],
      "metadata": {
        "colab": {
          "base_uri": "https://localhost:8080/"
        },
        "id": "ZwEJ-UAb6Eqx",
        "outputId": "3ef1fdf3-9e62-48e1-9506-04952ca80610"
      },
      "execution_count": 175,
      "outputs": [
        {
          "output_type": "execute_result",
          "data": {
            "text/plain": [
              "Index(['Loan Status', 'Current Loan Amount', 'Term', 'Credit Score',\n",
              "       'Years in current job', 'Home Ownership', 'Annual Income', 'Purpose',\n",
              "       'Number of Open Accounts', 'Number of Credit Problems',\n",
              "       'Current Credit Balance', 'Bankruptcies', 'Tax Liens'],\n",
              "      dtype='object')"
            ]
          },
          "metadata": {},
          "execution_count": 175
        }
      ]
    },
    {
      "cell_type": "markdown",
      "source": [
        "# MODELLING"
      ],
      "metadata": {
        "id": "K-roWD6gB1S5"
      }
    },
    {
      "cell_type": "code",
      "source": [
        "from sklearn.naive_bayes import GaussianNB\n",
        "from sklearn.naive_bayes import BernoulliNB\n",
        "from sklearn.metrics import accuracy_score, precision_score, recall_score, f1_score, confusion_matrix, classification_report\n",
        "from sklearn.neighbors import KNeighborsClassifier\n",
        "from sklearn.ensemble import RandomForestClassifier\n",
        "from sklearn.ensemble import GradientBoostingClassifier\n",
        "from sklearn.linear_model import LogisticRegression\n",
        "from sklearn.tree import DecisionTreeClassifier\n",
        "from sklearn.model_selection import train_test_split\n"
      ],
      "metadata": {
        "id": "HYoxMftOCeYd"
      },
      "execution_count": 176,
      "outputs": []
    },
    {
      "cell_type": "code",
      "source": [
        "def classalgo_test(x_train,x_test,y_train,y_test): #classification\n",
        "      \n",
        "    g=GaussianNB()\n",
        "    b=BernoulliNB()\n",
        "    kc=KNeighborsClassifier()\n",
        "    lr=LogisticRegression()\n",
        "    dc=DecisionTreeClassifier()\n",
        "    rfc=RandomForestClassifier()\n",
        "    gbc=GradientBoostingClassifier()\n",
        "    \n",
        "    algos = [g,b,kc,lr,dc,rfc,gbc]\n",
        "    algo_names = ['GaussianNB','BernoulliNB','KNeighborsClassifier','LogisticRegression','DecisionTreeClassifier','RandomForestClassifier','GradientBoostingClassifier']\n",
        "    accsc=[]\n",
        "    precsc=[]\n",
        "    \n",
        "    result = pd.DataFrame(columns = ['Accuracy Score','Precision Score'],index = algo_names)\n",
        "    \n",
        "    for algo in algos:\n",
        "    \n",
        "        algo.fit(x_train,y_train)\n",
        "        pred=algo.predict(x_test)\n",
        "        accsc.append(accuracy_score(pred,y_test))\n",
        "        precsc.append(precision_score(pred,y_test))\n",
        "    \n",
        "    result['Accuracy Score'] = accsc\n",
        "    result['Precision Score'] = precsc\n",
        "        \n",
        "    return result.sort_values('Accuracy Score', ascending=False)"
      ],
      "metadata": {
        "id": "--AwcxaJC-ac"
      },
      "execution_count": 183,
      "outputs": []
    },
    {
      "cell_type": "code",
      "source": [
        "x=df.drop(\"Loan Status\",axis=1)\n",
        "y=df[\"Loan Status\"]"
      ],
      "metadata": {
        "id": "FkT1qwDL6EyB"
      },
      "execution_count": 179,
      "outputs": []
    },
    {
      "cell_type": "code",
      "source": [
        "x=pd.get_dummies(x,drop_first=True)"
      ],
      "metadata": {
        "id": "zRblW7bBCFcK"
      },
      "execution_count": 180,
      "outputs": []
    },
    {
      "cell_type": "code",
      "source": [
        "x_train,x_test,y_train,y_test = train_test_split(x,y,test_size = 0.2, random_state = 42)"
      ],
      "metadata": {
        "id": "iXGaIBgICFgE"
      },
      "execution_count": 181,
      "outputs": []
    },
    {
      "cell_type": "code",
      "source": [
        "x_train.shape,x_test.shape,y_train.shape,y_test.shape"
      ],
      "metadata": {
        "colab": {
          "base_uri": "https://localhost:8080/"
        },
        "id": "Vb1WGXXoCFiC",
        "outputId": "5468210d-3b71-4386-c227-ca7a44eb4f9a"
      },
      "execution_count": 182,
      "outputs": [
        {
          "output_type": "execute_result",
          "data": {
            "text/plain": [
              "((205587, 30), (51397, 30), (205587,), (51397,))"
            ]
          },
          "metadata": {},
          "execution_count": 182
        }
      ]
    },
    {
      "cell_type": "code",
      "source": [
        "gbc=GradientBoostingClassifier()\n",
        "gbc.fit(x_train,y_train)\n",
        "tahmin1=gbc.predict(x_test)\n",
        "print(classification_report(tahmin1,y_test))"
      ],
      "metadata": {
        "colab": {
          "base_uri": "https://localhost:8080/"
        },
        "id": "J2zS5yWDFmbP",
        "outputId": "35b52d71-ea28-4e9f-d968-9d050f9ecc56"
      },
      "execution_count": 185,
      "outputs": [
        {
          "output_type": "stream",
          "name": "stdout",
          "text": [
            "              precision    recall  f1-score   support\n",
            "\n",
            "           0       0.34      0.77      0.48      7269\n",
            "           1       0.95      0.76      0.85     44128\n",
            "\n",
            "    accuracy                           0.76     51397\n",
            "   macro avg       0.65      0.76      0.66     51397\n",
            "weighted avg       0.87      0.76      0.79     51397\n",
            "\n"
          ]
        }
      ]
    },
    {
      "cell_type": "code",
      "source": [
        "rfc=RandomForestClassifier()\n",
        "rfc.fit(x_train,y_train)\n",
        "tahmin2=rfc.predict(x_test)\n",
        "print(classification_report(tahmin2,y_test))\n"
      ],
      "metadata": {
        "colab": {
          "base_uri": "https://localhost:8080/"
        },
        "id": "tUjicuLaFmj7",
        "outputId": "34b16fbc-d6ee-4d16-cf74-c4ea3050dbb0"
      },
      "execution_count": 186,
      "outputs": [
        {
          "output_type": "stream",
          "name": "stdout",
          "text": [
            "              precision    recall  f1-score   support\n",
            "\n",
            "           0       0.62      0.80      0.70     12506\n",
            "           1       0.93      0.84      0.88     38891\n",
            "\n",
            "    accuracy                           0.83     51397\n",
            "   macro avg       0.77      0.82      0.79     51397\n",
            "weighted avg       0.85      0.83      0.84     51397\n",
            "\n"
          ]
        }
      ]
    },
    {
      "cell_type": "code",
      "source": [
        "lr=LogisticRegression()\n",
        "lr.fit(x_train,y_train)\n",
        "tahmin3=lr.predict(x_test)\n",
        "print(classification_report(tahmin3,y_test))"
      ],
      "metadata": {
        "colab": {
          "base_uri": "https://localhost:8080/"
        },
        "id": "yksOAeJJGEdb",
        "outputId": "578da0e0-24f1-4e2e-db30-99f0abea5c24"
      },
      "execution_count": 187,
      "outputs": [
        {
          "output_type": "stream",
          "name": "stdout",
          "text": [
            "              precision    recall  f1-score   support\n",
            "\n",
            "           0       0.23      0.82      0.36      4617\n",
            "           1       0.98      0.74      0.84     46780\n",
            "\n",
            "    accuracy                           0.74     51397\n",
            "   macro avg       0.60      0.78      0.60     51397\n",
            "weighted avg       0.91      0.74      0.80     51397\n",
            "\n"
          ]
        }
      ]
    },
    {
      "cell_type": "markdown",
      "source": [
        "F1 Score is the weighted average of Precision and Recall."
      ],
      "metadata": {
        "id": "ndSNEVHNJDwN"
      }
    },
    {
      "cell_type": "code",
      "source": [
        "confusion_matrix(tahmin1,y_test) #GradientBoosting<"
      ],
      "metadata": {
        "colab": {
          "base_uri": "https://localhost:8080/"
        },
        "id": "3odHWoIaGZn7",
        "outputId": "3f80c453-e858-46da-d50a-a0ef59403051"
      },
      "execution_count": 188,
      "outputs": [
        {
          "output_type": "execute_result",
          "data": {
            "text/plain": [
              "array([[ 5566,  1703],\n",
              "       [10595, 33533]])"
            ]
          },
          "metadata": {},
          "execution_count": 188
        }
      ]
    },
    {
      "cell_type": "code",
      "source": [
        "confusion_matrix(tahmin2,y_test) #RandomForest"
      ],
      "metadata": {
        "colab": {
          "base_uri": "https://localhost:8080/"
        },
        "id": "c3QddPYYGfCh",
        "outputId": "8ada5f31-5f4e-47e0-d0d4-4c74f262fd23"
      },
      "execution_count": 189,
      "outputs": [
        {
          "output_type": "execute_result",
          "data": {
            "text/plain": [
              "array([[ 9975,  2531],\n",
              "       [ 6186, 32705]])"
            ]
          },
          "metadata": {},
          "execution_count": 189
        }
      ]
    },
    {
      "cell_type": "code",
      "source": [
        "confusion_matrix(tahmin3,y_test) #Logistic"
      ],
      "metadata": {
        "colab": {
          "base_uri": "https://localhost:8080/"
        },
        "id": "i9jg4I39Ghho",
        "outputId": "4aaea04b-392a-48a0-fa53-c64927d6058a"
      },
      "execution_count": 190,
      "outputs": [
        {
          "output_type": "execute_result",
          "data": {
            "text/plain": [
              "array([[ 3767,   850],\n",
              "       [12394, 34386]])"
            ]
          },
          "metadata": {},
          "execution_count": 190
        }
      ]
    },
    {
      "cell_type": "code",
      "source": [
        "classalgo_test(x_train,x_test,y_train,y_test)"
      ],
      "metadata": {
        "colab": {
          "base_uri": "https://localhost:8080/",
          "height": 269
        },
        "id": "LEQtLElaCFkB",
        "outputId": "620e0a68-9b39-40ff-9b27-f7f84563f452"
      },
      "execution_count": 184,
      "outputs": [
        {
          "output_type": "execute_result",
          "data": {
            "text/plain": [
              "                            Accuracy Score  Precision Score\n",
              "RandomForestClassifier            0.830691         0.929021\n",
              "GradientBoostingClassifier        0.760725         0.951669\n",
              "DecisionTreeClassifier            0.752845         0.786497\n",
              "LogisticRegression                0.742320         0.975877\n",
              "KNeighborsClassifier              0.717085         0.843739\n",
              "BernoulliNB                       0.688776         0.970428\n",
              "GaussianNB                        0.449034         0.196674"
            ],
            "text/html": [
              "\n",
              "  <div id=\"df-979610f1-d8ac-4d82-b43b-900b378a41f4\">\n",
              "    <div class=\"colab-df-container\">\n",
              "      <div>\n",
              "<style scoped>\n",
              "    .dataframe tbody tr th:only-of-type {\n",
              "        vertical-align: middle;\n",
              "    }\n",
              "\n",
              "    .dataframe tbody tr th {\n",
              "        vertical-align: top;\n",
              "    }\n",
              "\n",
              "    .dataframe thead th {\n",
              "        text-align: right;\n",
              "    }\n",
              "</style>\n",
              "<table border=\"1\" class=\"dataframe\">\n",
              "  <thead>\n",
              "    <tr style=\"text-align: right;\">\n",
              "      <th></th>\n",
              "      <th>Accuracy Score</th>\n",
              "      <th>Precision Score</th>\n",
              "    </tr>\n",
              "  </thead>\n",
              "  <tbody>\n",
              "    <tr>\n",
              "      <th>RandomForestClassifier</th>\n",
              "      <td>0.830691</td>\n",
              "      <td>0.929021</td>\n",
              "    </tr>\n",
              "    <tr>\n",
              "      <th>GradientBoostingClassifier</th>\n",
              "      <td>0.760725</td>\n",
              "      <td>0.951669</td>\n",
              "    </tr>\n",
              "    <tr>\n",
              "      <th>DecisionTreeClassifier</th>\n",
              "      <td>0.752845</td>\n",
              "      <td>0.786497</td>\n",
              "    </tr>\n",
              "    <tr>\n",
              "      <th>LogisticRegression</th>\n",
              "      <td>0.742320</td>\n",
              "      <td>0.975877</td>\n",
              "    </tr>\n",
              "    <tr>\n",
              "      <th>KNeighborsClassifier</th>\n",
              "      <td>0.717085</td>\n",
              "      <td>0.843739</td>\n",
              "    </tr>\n",
              "    <tr>\n",
              "      <th>BernoulliNB</th>\n",
              "      <td>0.688776</td>\n",
              "      <td>0.970428</td>\n",
              "    </tr>\n",
              "    <tr>\n",
              "      <th>GaussianNB</th>\n",
              "      <td>0.449034</td>\n",
              "      <td>0.196674</td>\n",
              "    </tr>\n",
              "  </tbody>\n",
              "</table>\n",
              "</div>\n",
              "      <button class=\"colab-df-convert\" onclick=\"convertToInteractive('df-979610f1-d8ac-4d82-b43b-900b378a41f4')\"\n",
              "              title=\"Convert this dataframe to an interactive table.\"\n",
              "              style=\"display:none;\">\n",
              "        \n",
              "  <svg xmlns=\"http://www.w3.org/2000/svg\" height=\"24px\"viewBox=\"0 0 24 24\"\n",
              "       width=\"24px\">\n",
              "    <path d=\"M0 0h24v24H0V0z\" fill=\"none\"/>\n",
              "    <path d=\"M18.56 5.44l.94 2.06.94-2.06 2.06-.94-2.06-.94-.94-2.06-.94 2.06-2.06.94zm-11 1L8.5 8.5l.94-2.06 2.06-.94-2.06-.94L8.5 2.5l-.94 2.06-2.06.94zm10 10l.94 2.06.94-2.06 2.06-.94-2.06-.94-.94-2.06-.94 2.06-2.06.94z\"/><path d=\"M17.41 7.96l-1.37-1.37c-.4-.4-.92-.59-1.43-.59-.52 0-1.04.2-1.43.59L10.3 9.45l-7.72 7.72c-.78.78-.78 2.05 0 2.83L4 21.41c.39.39.9.59 1.41.59.51 0 1.02-.2 1.41-.59l7.78-7.78 2.81-2.81c.8-.78.8-2.07 0-2.86zM5.41 20L4 18.59l7.72-7.72 1.47 1.35L5.41 20z\"/>\n",
              "  </svg>\n",
              "      </button>\n",
              "      \n",
              "  <style>\n",
              "    .colab-df-container {\n",
              "      display:flex;\n",
              "      flex-wrap:wrap;\n",
              "      gap: 12px;\n",
              "    }\n",
              "\n",
              "    .colab-df-convert {\n",
              "      background-color: #E8F0FE;\n",
              "      border: none;\n",
              "      border-radius: 50%;\n",
              "      cursor: pointer;\n",
              "      display: none;\n",
              "      fill: #1967D2;\n",
              "      height: 32px;\n",
              "      padding: 0 0 0 0;\n",
              "      width: 32px;\n",
              "    }\n",
              "\n",
              "    .colab-df-convert:hover {\n",
              "      background-color: #E2EBFA;\n",
              "      box-shadow: 0px 1px 2px rgba(60, 64, 67, 0.3), 0px 1px 3px 1px rgba(60, 64, 67, 0.15);\n",
              "      fill: #174EA6;\n",
              "    }\n",
              "\n",
              "    [theme=dark] .colab-df-convert {\n",
              "      background-color: #3B4455;\n",
              "      fill: #D2E3FC;\n",
              "    }\n",
              "\n",
              "    [theme=dark] .colab-df-convert:hover {\n",
              "      background-color: #434B5C;\n",
              "      box-shadow: 0px 1px 3px 1px rgba(0, 0, 0, 0.15);\n",
              "      filter: drop-shadow(0px 1px 2px rgba(0, 0, 0, 0.3));\n",
              "      fill: #FFFFFF;\n",
              "    }\n",
              "  </style>\n",
              "\n",
              "      <script>\n",
              "        const buttonEl =\n",
              "          document.querySelector('#df-979610f1-d8ac-4d82-b43b-900b378a41f4 button.colab-df-convert');\n",
              "        buttonEl.style.display =\n",
              "          google.colab.kernel.accessAllowed ? 'block' : 'none';\n",
              "\n",
              "        async function convertToInteractive(key) {\n",
              "          const element = document.querySelector('#df-979610f1-d8ac-4d82-b43b-900b378a41f4');\n",
              "          const dataTable =\n",
              "            await google.colab.kernel.invokeFunction('convertToInteractive',\n",
              "                                                     [key], {});\n",
              "          if (!dataTable) return;\n",
              "\n",
              "          const docLinkHtml = 'Like what you see? Visit the ' +\n",
              "            '<a target=\"_blank\" href=https://colab.research.google.com/notebooks/data_table.ipynb>data table notebook</a>'\n",
              "            + ' to learn more about interactive tables.';\n",
              "          element.innerHTML = '';\n",
              "          dataTable['output_type'] = 'display_data';\n",
              "          await google.colab.output.renderOutput(dataTable, element);\n",
              "          const docLink = document.createElement('div');\n",
              "          docLink.innerHTML = docLinkHtml;\n",
              "          element.appendChild(docLink);\n",
              "        }\n",
              "      </script>\n",
              "    </div>\n",
              "  </div>\n",
              "  "
            ]
          },
          "metadata": {},
          "execution_count": 184
        }
      ]
    },
    {
      "cell_type": "markdown",
      "source": [
        "Accuracy is how close a value is to its true value. An example is how close an arrow gets to the bull's-eye center. \n",
        "\n",
        "Precision is how repeatable a measurement is. An example is how close a second arrow is to the first one (regardless of whether either is near the mark)."
      ],
      "metadata": {
        "id": "RYw3ZhxeH-ew"
      }
    },
    {
      "cell_type": "code",
      "source": [
        "# We get the best results with RandomForestClassifier"
      ],
      "metadata": {
        "id": "9G43WbYJIbCk"
      },
      "execution_count": null,
      "outputs": []
    }
  ]
}