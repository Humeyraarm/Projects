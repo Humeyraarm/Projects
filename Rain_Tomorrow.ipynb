{
 "cells": [
  {
   "cell_type": "markdown",
   "id": "XZ4ZLFo9MEXd",
   "metadata": {
    "id": "XZ4ZLFo9MEXd"
   },
   "source": [
    "# Rain in Australia"
   ]
  },
  {
   "cell_type": "markdown",
   "id": "759f7ff6",
   "metadata": {
    "id": "759f7ff6"
   },
   "source": [
    "👉 This study will examine the dataset named as **\"Rain in Australia\"** at Kaggle website [external link text](https://www.kaggle.com/datasets/jsphyg/weather-dataset-rattle-package\n",
    ").\n",
    "\n",
    "Context of this dataset predicting next-day rain by training classification models on the target variable RainTomorrow.\n",
    "\n",
    "This dataset contains about 10 years of daily weather observations from many locations across Australia.\n",
    "\n",
    "RainTomorrow is the target variable to predict. It means -- did it rain the next day, Yes or No? This column is Yes if the rain for that day was 1mm or more.\n",
    "\n",
    "Features includes that one of the location at spesific time;\n",
    "\n",
    "Temperature,rainfall,evaporation,sunshine,windspeed,humidity,pressure,cloud\n"
   ]
  },
  {
   "cell_type": "code",
   "execution_count": 69,
   "id": "66b9615f",
   "metadata": {
    "executionInfo": {
     "elapsed": 348,
     "status": "ok",
     "timestamp": 1674924583002,
     "user": {
      "displayName": "Humeyra Armutlu",
      "userId": "12643211298338865125"
     },
     "user_tz": -180
    },
    "id": "66b9615f"
   },
   "outputs": [],
   "source": [
    "import numpy as np\n",
    "import pandas as pd\n",
    "import matplotlib.pyplot as plt\n",
    "import seaborn as sns\n",
    "import warnings\n",
    "warnings.filterwarnings(\"ignore\")"
   ]
  },
  {
   "cell_type": "code",
   "execution_count": 70,
   "id": "bfab1c80",
   "metadata": {
    "executionInfo": {
     "elapsed": 16,
     "status": "ok",
     "timestamp": 1674924583436,
     "user": {
      "displayName": "Humeyra Armutlu",
      "userId": "12643211298338865125"
     },
     "user_tz": -180
    },
    "id": "bfab1c80"
   },
   "outputs": [],
   "source": [
    "df=pd.read_csv('weatherAUS.csv')"
   ]
  },
  {
   "cell_type": "markdown",
   "id": "ce705077",
   "metadata": {
    "id": "ce705077"
   },
   "source": [
    "# Data Analysis"
   ]
  },
  {
   "cell_type": "code",
   "execution_count": 71,
   "id": "6758726b",
   "metadata": {
    "colab": {
     "base_uri": "https://localhost:8080/",
     "height": 386
    },
    "executionInfo": {
     "elapsed": 16,
     "status": "ok",
     "timestamp": 1674924583437,
     "user": {
      "displayName": "Humeyra Armutlu",
      "userId": "12643211298338865125"
     },
     "user_tz": -180
    },
    "id": "6758726b",
    "outputId": "7f745dc7-ddf5-43f7-d128-65f6996a4d2f"
   },
   "outputs": [
    {
     "data": {
      "text/html": [
       "\n",
       "  <div id=\"df-3dc5b692-78b7-4318-80b9-451dfde5e480\">\n",
       "    <div class=\"colab-df-container\">\n",
       "      <div>\n",
       "<style scoped>\n",
       "    .dataframe tbody tr th:only-of-type {\n",
       "        vertical-align: middle;\n",
       "    }\n",
       "\n",
       "    .dataframe tbody tr th {\n",
       "        vertical-align: top;\n",
       "    }\n",
       "\n",
       "    .dataframe thead th {\n",
       "        text-align: right;\n",
       "    }\n",
       "</style>\n",
       "<table border=\"1\" class=\"dataframe\">\n",
       "  <thead>\n",
       "    <tr style=\"text-align: right;\">\n",
       "      <th></th>\n",
       "      <th>Date</th>\n",
       "      <th>Location</th>\n",
       "      <th>MinTemp</th>\n",
       "      <th>MaxTemp</th>\n",
       "      <th>Rainfall</th>\n",
       "      <th>Evaporation</th>\n",
       "      <th>Sunshine</th>\n",
       "      <th>WindGustDir</th>\n",
       "      <th>WindGustSpeed</th>\n",
       "      <th>WindDir9am</th>\n",
       "      <th>...</th>\n",
       "      <th>Humidity9am</th>\n",
       "      <th>Humidity3pm</th>\n",
       "      <th>Pressure9am</th>\n",
       "      <th>Pressure3pm</th>\n",
       "      <th>Cloud9am</th>\n",
       "      <th>Cloud3pm</th>\n",
       "      <th>Temp9am</th>\n",
       "      <th>Temp3pm</th>\n",
       "      <th>RainToday</th>\n",
       "      <th>RainTomorrow</th>\n",
       "    </tr>\n",
       "  </thead>\n",
       "  <tbody>\n",
       "    <tr>\n",
       "      <th>0</th>\n",
       "      <td>2008-12-01</td>\n",
       "      <td>Albury</td>\n",
       "      <td>13.4</td>\n",
       "      <td>22.9</td>\n",
       "      <td>0.6</td>\n",
       "      <td>NaN</td>\n",
       "      <td>NaN</td>\n",
       "      <td>W</td>\n",
       "      <td>44.0</td>\n",
       "      <td>W</td>\n",
       "      <td>...</td>\n",
       "      <td>71.0</td>\n",
       "      <td>22.0</td>\n",
       "      <td>1007.7</td>\n",
       "      <td>1007.1</td>\n",
       "      <td>8.0</td>\n",
       "      <td>NaN</td>\n",
       "      <td>16.9</td>\n",
       "      <td>21.8</td>\n",
       "      <td>No</td>\n",
       "      <td>No</td>\n",
       "    </tr>\n",
       "    <tr>\n",
       "      <th>1</th>\n",
       "      <td>2008-12-02</td>\n",
       "      <td>Albury</td>\n",
       "      <td>7.4</td>\n",
       "      <td>25.1</td>\n",
       "      <td>0.0</td>\n",
       "      <td>NaN</td>\n",
       "      <td>NaN</td>\n",
       "      <td>WNW</td>\n",
       "      <td>44.0</td>\n",
       "      <td>NNW</td>\n",
       "      <td>...</td>\n",
       "      <td>44.0</td>\n",
       "      <td>25.0</td>\n",
       "      <td>1010.6</td>\n",
       "      <td>1007.8</td>\n",
       "      <td>NaN</td>\n",
       "      <td>NaN</td>\n",
       "      <td>17.2</td>\n",
       "      <td>24.3</td>\n",
       "      <td>No</td>\n",
       "      <td>No</td>\n",
       "    </tr>\n",
       "    <tr>\n",
       "      <th>2</th>\n",
       "      <td>2008-12-03</td>\n",
       "      <td>Albury</td>\n",
       "      <td>12.9</td>\n",
       "      <td>25.7</td>\n",
       "      <td>0.0</td>\n",
       "      <td>NaN</td>\n",
       "      <td>NaN</td>\n",
       "      <td>WSW</td>\n",
       "      <td>46.0</td>\n",
       "      <td>W</td>\n",
       "      <td>...</td>\n",
       "      <td>38.0</td>\n",
       "      <td>30.0</td>\n",
       "      <td>1007.6</td>\n",
       "      <td>1008.7</td>\n",
       "      <td>NaN</td>\n",
       "      <td>2.0</td>\n",
       "      <td>21.0</td>\n",
       "      <td>23.2</td>\n",
       "      <td>No</td>\n",
       "      <td>No</td>\n",
       "    </tr>\n",
       "    <tr>\n",
       "      <th>3</th>\n",
       "      <td>2008-12-04</td>\n",
       "      <td>Albury</td>\n",
       "      <td>9.2</td>\n",
       "      <td>28.0</td>\n",
       "      <td>0.0</td>\n",
       "      <td>NaN</td>\n",
       "      <td>NaN</td>\n",
       "      <td>NE</td>\n",
       "      <td>24.0</td>\n",
       "      <td>SE</td>\n",
       "      <td>...</td>\n",
       "      <td>45.0</td>\n",
       "      <td>16.0</td>\n",
       "      <td>1017.6</td>\n",
       "      <td>1012.8</td>\n",
       "      <td>NaN</td>\n",
       "      <td>NaN</td>\n",
       "      <td>18.1</td>\n",
       "      <td>26.5</td>\n",
       "      <td>No</td>\n",
       "      <td>No</td>\n",
       "    </tr>\n",
       "    <tr>\n",
       "      <th>4</th>\n",
       "      <td>2008-12-05</td>\n",
       "      <td>Albury</td>\n",
       "      <td>17.5</td>\n",
       "      <td>32.3</td>\n",
       "      <td>1.0</td>\n",
       "      <td>NaN</td>\n",
       "      <td>NaN</td>\n",
       "      <td>W</td>\n",
       "      <td>41.0</td>\n",
       "      <td>ENE</td>\n",
       "      <td>...</td>\n",
       "      <td>82.0</td>\n",
       "      <td>33.0</td>\n",
       "      <td>1010.8</td>\n",
       "      <td>1006.0</td>\n",
       "      <td>7.0</td>\n",
       "      <td>8.0</td>\n",
       "      <td>17.8</td>\n",
       "      <td>29.7</td>\n",
       "      <td>No</td>\n",
       "      <td>No</td>\n",
       "    </tr>\n",
       "  </tbody>\n",
       "</table>\n",
       "<p>5 rows × 23 columns</p>\n",
       "</div>\n",
       "      <button class=\"colab-df-convert\" onclick=\"convertToInteractive('df-3dc5b692-78b7-4318-80b9-451dfde5e480')\"\n",
       "              title=\"Convert this dataframe to an interactive table.\"\n",
       "              style=\"display:none;\">\n",
       "        \n",
       "  <svg xmlns=\"http://www.w3.org/2000/svg\" height=\"24px\"viewBox=\"0 0 24 24\"\n",
       "       width=\"24px\">\n",
       "    <path d=\"M0 0h24v24H0V0z\" fill=\"none\"/>\n",
       "    <path d=\"M18.56 5.44l.94 2.06.94-2.06 2.06-.94-2.06-.94-.94-2.06-.94 2.06-2.06.94zm-11 1L8.5 8.5l.94-2.06 2.06-.94-2.06-.94L8.5 2.5l-.94 2.06-2.06.94zm10 10l.94 2.06.94-2.06 2.06-.94-2.06-.94-.94-2.06-.94 2.06-2.06.94z\"/><path d=\"M17.41 7.96l-1.37-1.37c-.4-.4-.92-.59-1.43-.59-.52 0-1.04.2-1.43.59L10.3 9.45l-7.72 7.72c-.78.78-.78 2.05 0 2.83L4 21.41c.39.39.9.59 1.41.59.51 0 1.02-.2 1.41-.59l7.78-7.78 2.81-2.81c.8-.78.8-2.07 0-2.86zM5.41 20L4 18.59l7.72-7.72 1.47 1.35L5.41 20z\"/>\n",
       "  </svg>\n",
       "      </button>\n",
       "      \n",
       "  <style>\n",
       "    .colab-df-container {\n",
       "      display:flex;\n",
       "      flex-wrap:wrap;\n",
       "      gap: 12px;\n",
       "    }\n",
       "\n",
       "    .colab-df-convert {\n",
       "      background-color: #E8F0FE;\n",
       "      border: none;\n",
       "      border-radius: 50%;\n",
       "      cursor: pointer;\n",
       "      display: none;\n",
       "      fill: #1967D2;\n",
       "      height: 32px;\n",
       "      padding: 0 0 0 0;\n",
       "      width: 32px;\n",
       "    }\n",
       "\n",
       "    .colab-df-convert:hover {\n",
       "      background-color: #E2EBFA;\n",
       "      box-shadow: 0px 1px 2px rgba(60, 64, 67, 0.3), 0px 1px 3px 1px rgba(60, 64, 67, 0.15);\n",
       "      fill: #174EA6;\n",
       "    }\n",
       "\n",
       "    [theme=dark] .colab-df-convert {\n",
       "      background-color: #3B4455;\n",
       "      fill: #D2E3FC;\n",
       "    }\n",
       "\n",
       "    [theme=dark] .colab-df-convert:hover {\n",
       "      background-color: #434B5C;\n",
       "      box-shadow: 0px 1px 3px 1px rgba(0, 0, 0, 0.15);\n",
       "      filter: drop-shadow(0px 1px 2px rgba(0, 0, 0, 0.3));\n",
       "      fill: #FFFFFF;\n",
       "    }\n",
       "  </style>\n",
       "\n",
       "      <script>\n",
       "        const buttonEl =\n",
       "          document.querySelector('#df-3dc5b692-78b7-4318-80b9-451dfde5e480 button.colab-df-convert');\n",
       "        buttonEl.style.display =\n",
       "          google.colab.kernel.accessAllowed ? 'block' : 'none';\n",
       "\n",
       "        async function convertToInteractive(key) {\n",
       "          const element = document.querySelector('#df-3dc5b692-78b7-4318-80b9-451dfde5e480');\n",
       "          const dataTable =\n",
       "            await google.colab.kernel.invokeFunction('convertToInteractive',\n",
       "                                                     [key], {});\n",
       "          if (!dataTable) return;\n",
       "\n",
       "          const docLinkHtml = 'Like what you see? Visit the ' +\n",
       "            '<a target=\"_blank\" href=https://colab.research.google.com/notebooks/data_table.ipynb>data table notebook</a>'\n",
       "            + ' to learn more about interactive tables.';\n",
       "          element.innerHTML = '';\n",
       "          dataTable['output_type'] = 'display_data';\n",
       "          await google.colab.output.renderOutput(dataTable, element);\n",
       "          const docLink = document.createElement('div');\n",
       "          docLink.innerHTML = docLinkHtml;\n",
       "          element.appendChild(docLink);\n",
       "        }\n",
       "      </script>\n",
       "    </div>\n",
       "  </div>\n",
       "  "
      ],
      "text/plain": [
       "         Date Location  MinTemp  MaxTemp  Rainfall  Evaporation  Sunshine  \\\n",
       "0  2008-12-01   Albury     13.4     22.9       0.6          NaN       NaN   \n",
       "1  2008-12-02   Albury      7.4     25.1       0.0          NaN       NaN   \n",
       "2  2008-12-03   Albury     12.9     25.7       0.0          NaN       NaN   \n",
       "3  2008-12-04   Albury      9.2     28.0       0.0          NaN       NaN   \n",
       "4  2008-12-05   Albury     17.5     32.3       1.0          NaN       NaN   \n",
       "\n",
       "  WindGustDir  WindGustSpeed WindDir9am  ... Humidity9am  Humidity3pm  \\\n",
       "0           W           44.0          W  ...        71.0         22.0   \n",
       "1         WNW           44.0        NNW  ...        44.0         25.0   \n",
       "2         WSW           46.0          W  ...        38.0         30.0   \n",
       "3          NE           24.0         SE  ...        45.0         16.0   \n",
       "4           W           41.0        ENE  ...        82.0         33.0   \n",
       "\n",
       "   Pressure9am  Pressure3pm  Cloud9am  Cloud3pm  Temp9am  Temp3pm  RainToday  \\\n",
       "0       1007.7       1007.1       8.0       NaN     16.9     21.8         No   \n",
       "1       1010.6       1007.8       NaN       NaN     17.2     24.3         No   \n",
       "2       1007.6       1008.7       NaN       2.0     21.0     23.2         No   \n",
       "3       1017.6       1012.8       NaN       NaN     18.1     26.5         No   \n",
       "4       1010.8       1006.0       7.0       8.0     17.8     29.7         No   \n",
       "\n",
       "   RainTomorrow  \n",
       "0            No  \n",
       "1            No  \n",
       "2            No  \n",
       "3            No  \n",
       "4            No  \n",
       "\n",
       "[5 rows x 23 columns]"
      ]
     },
     "execution_count": 71,
     "metadata": {},
     "output_type": "execute_result"
    }
   ],
   "source": [
    "df.head()"
   ]
  },
  {
   "cell_type": "code",
   "execution_count": 72,
   "id": "3d8c0f13",
   "metadata": {
    "colab": {
     "base_uri": "https://localhost:8080/"
    },
    "executionInfo": {
     "elapsed": 28,
     "status": "ok",
     "timestamp": 1674924583822,
     "user": {
      "displayName": "Humeyra Armutlu",
      "userId": "12643211298338865125"
     },
     "user_tz": -180
    },
    "id": "3d8c0f13",
    "outputId": "768e48a5-d8be-4a8c-d116-2fe3fe140d5c"
   },
   "outputs": [
    {
     "data": {
      "text/plain": [
       "(145460, 23)"
      ]
     },
     "execution_count": 72,
     "metadata": {},
     "output_type": "execute_result"
    }
   ],
   "source": [
    "df.shape"
   ]
  },
  {
   "cell_type": "code",
   "execution_count": 73,
   "id": "be558235",
   "metadata": {
    "colab": {
     "base_uri": "https://localhost:8080/"
    },
    "executionInfo": {
     "elapsed": 26,
     "status": "ok",
     "timestamp": 1674924583822,
     "user": {
      "displayName": "Humeyra Armutlu",
      "userId": "12643211298338865125"
     },
     "user_tz": -180
    },
    "id": "be558235",
    "outputId": "280a560f-a7a5-4c75-860f-b91b2cb0a4da"
   },
   "outputs": [
    {
     "data": {
      "text/plain": [
       "Date                 0\n",
       "Location             0\n",
       "MinTemp           1485\n",
       "MaxTemp           1261\n",
       "Rainfall          3261\n",
       "Evaporation      62790\n",
       "Sunshine         69835\n",
       "WindGustDir      10326\n",
       "WindGustSpeed    10263\n",
       "WindDir9am       10566\n",
       "WindDir3pm        4228\n",
       "WindSpeed9am      1767\n",
       "WindSpeed3pm      3062\n",
       "Humidity9am       2654\n",
       "Humidity3pm       4507\n",
       "Pressure9am      15065\n",
       "Pressure3pm      15028\n",
       "Cloud9am         55888\n",
       "Cloud3pm         59358\n",
       "Temp9am           1767\n",
       "Temp3pm           3609\n",
       "RainToday         3261\n",
       "RainTomorrow      3267\n",
       "dtype: int64"
      ]
     },
     "execution_count": 73,
     "metadata": {},
     "output_type": "execute_result"
    }
   ],
   "source": [
    "df.isnull().sum()  #There are lots of none values."
   ]
  },
  {
   "cell_type": "code",
   "execution_count": 74,
   "id": "e5b57b53",
   "metadata": {
    "colab": {
     "base_uri": "https://localhost:8080/"
    },
    "executionInfo": {
     "elapsed": 22,
     "status": "ok",
     "timestamp": 1674924583823,
     "user": {
      "displayName": "Humeyra Armutlu",
      "userId": "12643211298338865125"
     },
     "user_tz": -180
    },
    "id": "e5b57b53",
    "outputId": "32a09731-d0fd-4131-b020-c8a0b0b6aa23"
   },
   "outputs": [
    {
     "data": {
      "text/plain": [
       "Date                 0\n",
       "Location             0\n",
       "MinTemp           1485\n",
       "MaxTemp           1261\n",
       "Rainfall          3261\n",
       "Evaporation      62790\n",
       "Sunshine         69835\n",
       "WindGustDir      10326\n",
       "WindGustSpeed    10263\n",
       "WindDir9am       10566\n",
       "WindDir3pm        4228\n",
       "WindSpeed9am      1767\n",
       "WindSpeed3pm      3062\n",
       "Humidity9am       2654\n",
       "Humidity3pm       4507\n",
       "Pressure9am      15065\n",
       "Pressure3pm      15028\n",
       "Cloud9am         55888\n",
       "Cloud3pm         59358\n",
       "Temp9am           1767\n",
       "Temp3pm           3609\n",
       "RainToday         3261\n",
       "RainTomorrow      3267\n",
       "dtype: int64"
      ]
     },
     "execution_count": 74,
     "metadata": {},
     "output_type": "execute_result"
    }
   ],
   "source": [
    "df.isnull().sum()"
   ]
  },
  {
   "cell_type": "code",
   "execution_count": 75,
   "id": "ShT74qx3OCbU",
   "metadata": {
    "executionInfo": {
     "elapsed": 17,
     "status": "ok",
     "timestamp": 1674924583824,
     "user": {
      "displayName": "Humeyra Armutlu",
      "userId": "12643211298338865125"
     },
     "user_tz": -180
    },
    "id": "ShT74qx3OCbU"
   },
   "outputs": [],
   "source": [
    "#Clear the columns that has %60 none values.\n",
    "for i in df.columns:\n",
    "   if (df[i].isnull().sum()>df.shape[0]*0.6):\n",
    "     df.drop([i],axis=1,inplace=True)"
   ]
  },
  {
   "cell_type": "code",
   "execution_count": 76,
   "id": "42a88540",
   "metadata": {
    "executionInfo": {
     "elapsed": 16,
     "status": "ok",
     "timestamp": 1674924583824,
     "user": {
      "displayName": "Humeyra Armutlu",
      "userId": "12643211298338865125"
     },
     "user_tz": -180
    },
    "id": "42a88540"
   },
   "outputs": [],
   "source": [
    "df.fillna(method=\"bfill\",inplace=True) #I choose the back fill method to fill the none values."
   ]
  },
  {
   "cell_type": "code",
   "execution_count": 77,
   "id": "7a6c96b4",
   "metadata": {
    "executionInfo": {
     "elapsed": 16,
     "status": "ok",
     "timestamp": 1674924583825,
     "user": {
      "displayName": "Humeyra Armutlu",
      "userId": "12643211298338865125"
     },
     "user_tz": -180
    },
    "id": "7a6c96b4"
   },
   "outputs": [],
   "source": [
    "df=df.dropna(how='any',axis=0) "
   ]
  },
  {
   "cell_type": "code",
   "execution_count": 78,
   "id": "3d91f5ea",
   "metadata": {
    "colab": {
     "base_uri": "https://localhost:8080/"
    },
    "executionInfo": {
     "elapsed": 316,
     "status": "ok",
     "timestamp": 1674924584126,
     "user": {
      "displayName": "Humeyra Armutlu",
      "userId": "12643211298338865125"
     },
     "user_tz": -180
    },
    "id": "3d91f5ea",
    "outputId": "b5d81ffe-8f04-40a4-fb2e-96e22050de32"
   },
   "outputs": [
    {
     "data": {
      "text/plain": [
       "Date             0\n",
       "Location         0\n",
       "MinTemp          0\n",
       "MaxTemp          0\n",
       "Rainfall         0\n",
       "Evaporation      0\n",
       "Sunshine         0\n",
       "WindGustDir      0\n",
       "WindGustSpeed    0\n",
       "WindDir9am       0\n",
       "WindDir3pm       0\n",
       "WindSpeed9am     0\n",
       "WindSpeed3pm     0\n",
       "Humidity9am      0\n",
       "Humidity3pm      0\n",
       "Pressure9am      0\n",
       "Pressure3pm      0\n",
       "Cloud9am         0\n",
       "Cloud3pm         0\n",
       "Temp9am          0\n",
       "Temp3pm          0\n",
       "RainToday        0\n",
       "RainTomorrow     0\n",
       "dtype: int64"
      ]
     },
     "execution_count": 78,
     "metadata": {},
     "output_type": "execute_result"
    }
   ],
   "source": [
    "df.isnull().sum()"
   ]
  },
  {
   "cell_type": "code",
   "execution_count": 79,
   "id": "EYIe-mroiHwI",
   "metadata": {
    "colab": {
     "base_uri": "https://localhost:8080/"
    },
    "executionInfo": {
     "elapsed": 21,
     "status": "ok",
     "timestamp": 1674924584127,
     "user": {
      "displayName": "Humeyra Armutlu",
      "userId": "12643211298338865125"
     },
     "user_tz": -180
    },
    "id": "EYIe-mroiHwI",
    "outputId": "90cf2c95-a472-4235-d0a7-de71d837fdae"
   },
   "outputs": [
    {
     "name": "stdout",
     "output_type": "stream",
     "text": [
      "<class 'pandas.core.frame.DataFrame'>\n",
      "Int64Index: 142303 entries, 0 to 142302\n",
      "Data columns (total 23 columns):\n",
      " #   Column         Non-Null Count   Dtype  \n",
      "---  ------         --------------   -----  \n",
      " 0   Date           142303 non-null  object \n",
      " 1   Location       142303 non-null  object \n",
      " 2   MinTemp        142303 non-null  float64\n",
      " 3   MaxTemp        142303 non-null  float64\n",
      " 4   Rainfall       142303 non-null  float64\n",
      " 5   Evaporation    142303 non-null  float64\n",
      " 6   Sunshine       142303 non-null  float64\n",
      " 7   WindGustDir    142303 non-null  object \n",
      " 8   WindGustSpeed  142303 non-null  float64\n",
      " 9   WindDir9am     142303 non-null  object \n",
      " 10  WindDir3pm     142303 non-null  object \n",
      " 11  WindSpeed9am   142303 non-null  float64\n",
      " 12  WindSpeed3pm   142303 non-null  float64\n",
      " 13  Humidity9am    142303 non-null  float64\n",
      " 14  Humidity3pm    142303 non-null  float64\n",
      " 15  Pressure9am    142303 non-null  float64\n",
      " 16  Pressure3pm    142303 non-null  float64\n",
      " 17  Cloud9am       142303 non-null  float64\n",
      " 18  Cloud3pm       142303 non-null  float64\n",
      " 19  Temp9am        142303 non-null  float64\n",
      " 20  Temp3pm        142303 non-null  float64\n",
      " 21  RainToday      142303 non-null  object \n",
      " 22  RainTomorrow   142303 non-null  object \n",
      "dtypes: float64(16), object(7)\n",
      "memory usage: 26.1+ MB\n"
     ]
    }
   ],
   "source": [
    "df.info()"
   ]
  },
  {
   "cell_type": "code",
   "execution_count": 80,
   "id": "X2Pk156NiND1",
   "metadata": {
    "colab": {
     "base_uri": "https://localhost:8080/"
    },
    "executionInfo": {
     "elapsed": 17,
     "status": "ok",
     "timestamp": 1674924584129,
     "user": {
      "displayName": "Humeyra Armutlu",
      "userId": "12643211298338865125"
     },
     "user_tz": -180
    },
    "id": "X2Pk156NiND1",
    "outputId": "6c3796a1-114f-4e85-e2b8-d078731931dd"
   },
   "outputs": [
    {
     "data": {
      "text/plain": [
       "No     108954\n",
       "Yes     33349\n",
       "Name: RainTomorrow, dtype: int64"
      ]
     },
     "execution_count": 80,
     "metadata": {},
     "output_type": "execute_result"
    }
   ],
   "source": [
    "df[\"RainTomorrow\"].value_counts()"
   ]
  },
  {
   "cell_type": "code",
   "execution_count": 81,
   "id": "jDBvLbkfirer",
   "metadata": {
    "executionInfo": {
     "elapsed": 14,
     "status": "ok",
     "timestamp": 1674924584131,
     "user": {
      "displayName": "Humeyra Armutlu",
      "userId": "12643211298338865125"
     },
     "user_tz": -180
    },
    "id": "jDBvLbkfirer"
   },
   "outputs": [],
   "source": [
    "df['RainTomorrow'] = df['RainTomorrow'].replace(\"No\" , 0).replace(\"Yes\", 1)\n",
    "df['RainToday'] = df['RainToday'].replace(\"No\" , 0).replace(\"Yes\", 1)"
   ]
  },
  {
   "cell_type": "code",
   "execution_count": 82,
   "id": "sVaZrQ1ukGW6",
   "metadata": {
    "executionInfo": {
     "elapsed": 14,
     "status": "ok",
     "timestamp": 1674924584132,
     "user": {
      "displayName": "Humeyra Armutlu",
      "userId": "12643211298338865125"
     },
     "user_tz": -180
    },
    "id": "sVaZrQ1ukGW6"
   },
   "outputs": [],
   "source": [
    "df[\"Date\"]=pd.to_datetime(df[\"Date\"])"
   ]
  },
  {
   "cell_type": "code",
   "execution_count": 83,
   "id": "4uyTvvp2kGUY",
   "metadata": {
    "executionInfo": {
     "elapsed": 420,
     "status": "ok",
     "timestamp": 1674924584539,
     "user": {
      "displayName": "Humeyra Armutlu",
      "userId": "12643211298338865125"
     },
     "user_tz": -180
    },
    "id": "4uyTvvp2kGUY"
   },
   "outputs": [],
   "source": [
    "df[\"year\"] = df.Date.dt.year\n",
    "df[\"month\"] = df.Date.dt.month\n",
    "df[\"day\"] = df.Date.dt.days_in_month"
   ]
  },
  {
   "cell_type": "code",
   "execution_count": 84,
   "id": "JhoD0GBUkGRh",
   "metadata": {
    "colab": {
     "base_uri": "https://localhost:8080/",
     "height": 191
    },
    "executionInfo": {
     "elapsed": 21,
     "status": "ok",
     "timestamp": 1674924584541,
     "user": {
      "displayName": "Humeyra Armutlu",
      "userId": "12643211298338865125"
     },
     "user_tz": -180
    },
    "id": "JhoD0GBUkGRh",
    "outputId": "32ba0328-cdd3-464e-a5e8-c72116538be0"
   },
   "outputs": [
    {
     "data": {
      "text/html": [
       "\n",
       "  <div id=\"df-9a36f019-4a6e-45e7-b06c-cc44ed5409de\">\n",
       "    <div class=\"colab-df-container\">\n",
       "      <div>\n",
       "<style scoped>\n",
       "    .dataframe tbody tr th:only-of-type {\n",
       "        vertical-align: middle;\n",
       "    }\n",
       "\n",
       "    .dataframe tbody tr th {\n",
       "        vertical-align: top;\n",
       "    }\n",
       "\n",
       "    .dataframe thead th {\n",
       "        text-align: right;\n",
       "    }\n",
       "</style>\n",
       "<table border=\"1\" class=\"dataframe\">\n",
       "  <thead>\n",
       "    <tr style=\"text-align: right;\">\n",
       "      <th></th>\n",
       "      <th>Date</th>\n",
       "      <th>Location</th>\n",
       "      <th>MinTemp</th>\n",
       "      <th>MaxTemp</th>\n",
       "      <th>Rainfall</th>\n",
       "      <th>Evaporation</th>\n",
       "      <th>Sunshine</th>\n",
       "      <th>WindGustDir</th>\n",
       "      <th>WindGustSpeed</th>\n",
       "      <th>WindDir9am</th>\n",
       "      <th>...</th>\n",
       "      <th>Pressure3pm</th>\n",
       "      <th>Cloud9am</th>\n",
       "      <th>Cloud3pm</th>\n",
       "      <th>Temp9am</th>\n",
       "      <th>Temp3pm</th>\n",
       "      <th>RainToday</th>\n",
       "      <th>RainTomorrow</th>\n",
       "      <th>year</th>\n",
       "      <th>month</th>\n",
       "      <th>day</th>\n",
       "    </tr>\n",
       "  </thead>\n",
       "  <tbody>\n",
       "    <tr>\n",
       "      <th>109099</th>\n",
       "      <td>2010-05-13</td>\n",
       "      <td>Albany</td>\n",
       "      <td>12.5</td>\n",
       "      <td>15.8</td>\n",
       "      <td>1.4</td>\n",
       "      <td>3.2</td>\n",
       "      <td>0.0</td>\n",
       "      <td>SSE</td>\n",
       "      <td>39.0</td>\n",
       "      <td>S</td>\n",
       "      <td>...</td>\n",
       "      <td>1011.6</td>\n",
       "      <td>8.0</td>\n",
       "      <td>8.0</td>\n",
       "      <td>14.8</td>\n",
       "      <td>15.0</td>\n",
       "      <td>1</td>\n",
       "      <td>1</td>\n",
       "      <td>2010</td>\n",
       "      <td>5</td>\n",
       "      <td>31</td>\n",
       "    </tr>\n",
       "  </tbody>\n",
       "</table>\n",
       "<p>1 rows × 26 columns</p>\n",
       "</div>\n",
       "      <button class=\"colab-df-convert\" onclick=\"convertToInteractive('df-9a36f019-4a6e-45e7-b06c-cc44ed5409de')\"\n",
       "              title=\"Convert this dataframe to an interactive table.\"\n",
       "              style=\"display:none;\">\n",
       "        \n",
       "  <svg xmlns=\"http://www.w3.org/2000/svg\" height=\"24px\"viewBox=\"0 0 24 24\"\n",
       "       width=\"24px\">\n",
       "    <path d=\"M0 0h24v24H0V0z\" fill=\"none\"/>\n",
       "    <path d=\"M18.56 5.44l.94 2.06.94-2.06 2.06-.94-2.06-.94-.94-2.06-.94 2.06-2.06.94zm-11 1L8.5 8.5l.94-2.06 2.06-.94-2.06-.94L8.5 2.5l-.94 2.06-2.06.94zm10 10l.94 2.06.94-2.06 2.06-.94-2.06-.94-.94-2.06-.94 2.06-2.06.94z\"/><path d=\"M17.41 7.96l-1.37-1.37c-.4-.4-.92-.59-1.43-.59-.52 0-1.04.2-1.43.59L10.3 9.45l-7.72 7.72c-.78.78-.78 2.05 0 2.83L4 21.41c.39.39.9.59 1.41.59.51 0 1.02-.2 1.41-.59l7.78-7.78 2.81-2.81c.8-.78.8-2.07 0-2.86zM5.41 20L4 18.59l7.72-7.72 1.47 1.35L5.41 20z\"/>\n",
       "  </svg>\n",
       "      </button>\n",
       "      \n",
       "  <style>\n",
       "    .colab-df-container {\n",
       "      display:flex;\n",
       "      flex-wrap:wrap;\n",
       "      gap: 12px;\n",
       "    }\n",
       "\n",
       "    .colab-df-convert {\n",
       "      background-color: #E8F0FE;\n",
       "      border: none;\n",
       "      border-radius: 50%;\n",
       "      cursor: pointer;\n",
       "      display: none;\n",
       "      fill: #1967D2;\n",
       "      height: 32px;\n",
       "      padding: 0 0 0 0;\n",
       "      width: 32px;\n",
       "    }\n",
       "\n",
       "    .colab-df-convert:hover {\n",
       "      background-color: #E2EBFA;\n",
       "      box-shadow: 0px 1px 2px rgba(60, 64, 67, 0.3), 0px 1px 3px 1px rgba(60, 64, 67, 0.15);\n",
       "      fill: #174EA6;\n",
       "    }\n",
       "\n",
       "    [theme=dark] .colab-df-convert {\n",
       "      background-color: #3B4455;\n",
       "      fill: #D2E3FC;\n",
       "    }\n",
       "\n",
       "    [theme=dark] .colab-df-convert:hover {\n",
       "      background-color: #434B5C;\n",
       "      box-shadow: 0px 1px 3px 1px rgba(0, 0, 0, 0.15);\n",
       "      filter: drop-shadow(0px 1px 2px rgba(0, 0, 0, 0.3));\n",
       "      fill: #FFFFFF;\n",
       "    }\n",
       "  </style>\n",
       "\n",
       "      <script>\n",
       "        const buttonEl =\n",
       "          document.querySelector('#df-9a36f019-4a6e-45e7-b06c-cc44ed5409de button.colab-df-convert');\n",
       "        buttonEl.style.display =\n",
       "          google.colab.kernel.accessAllowed ? 'block' : 'none';\n",
       "\n",
       "        async function convertToInteractive(key) {\n",
       "          const element = document.querySelector('#df-9a36f019-4a6e-45e7-b06c-cc44ed5409de');\n",
       "          const dataTable =\n",
       "            await google.colab.kernel.invokeFunction('convertToInteractive',\n",
       "                                                     [key], {});\n",
       "          if (!dataTable) return;\n",
       "\n",
       "          const docLinkHtml = 'Like what you see? Visit the ' +\n",
       "            '<a target=\"_blank\" href=https://colab.research.google.com/notebooks/data_table.ipynb>data table notebook</a>'\n",
       "            + ' to learn more about interactive tables.';\n",
       "          element.innerHTML = '';\n",
       "          dataTable['output_type'] = 'display_data';\n",
       "          await google.colab.output.renderOutput(dataTable, element);\n",
       "          const docLink = document.createElement('div');\n",
       "          docLink.innerHTML = docLinkHtml;\n",
       "          element.appendChild(docLink);\n",
       "        }\n",
       "      </script>\n",
       "    </div>\n",
       "  </div>\n",
       "  "
      ],
      "text/plain": [
       "             Date Location  MinTemp  MaxTemp  Rainfall  Evaporation  Sunshine  \\\n",
       "109099 2010-05-13   Albany     12.5     15.8       1.4          3.2       0.0   \n",
       "\n",
       "       WindGustDir  WindGustSpeed WindDir9am  ... Pressure3pm  Cloud9am  \\\n",
       "109099         SSE           39.0          S  ...      1011.6       8.0   \n",
       "\n",
       "        Cloud3pm  Temp9am  Temp3pm  RainToday  RainTomorrow  year  month  day  \n",
       "109099       8.0     14.8     15.0          1             1  2010      5   31  \n",
       "\n",
       "[1 rows x 26 columns]"
      ]
     },
     "execution_count": 84,
     "metadata": {},
     "output_type": "execute_result"
    }
   ],
   "source": [
    "df.sample()"
   ]
  },
  {
   "cell_type": "code",
   "execution_count": 85,
   "id": "5F9Lqri_meWV",
   "metadata": {
    "executionInfo": {
     "elapsed": 19,
     "status": "ok",
     "timestamp": 1674924584542,
     "user": {
      "displayName": "Humeyra Armutlu",
      "userId": "12643211298338865125"
     },
     "user_tz": -180
    },
    "id": "5F9Lqri_meWV"
   },
   "outputs": [],
   "source": [
    "df.drop(\"Date\",axis=1,inplace=True)"
   ]
  },
  {
   "cell_type": "code",
   "execution_count": 86,
   "id": "vcxnGVhKmrVw",
   "metadata": {
    "colab": {
     "base_uri": "https://localhost:8080/"
    },
    "executionInfo": {
     "elapsed": 19,
     "status": "ok",
     "timestamp": 1674924584543,
     "user": {
      "displayName": "Humeyra Armutlu",
      "userId": "12643211298338865125"
     },
     "user_tz": -180
    },
    "id": "vcxnGVhKmrVw",
    "outputId": "d9d16a2c-7fea-4dad-863a-673c10136a74"
   },
   "outputs": [
    {
     "data": {
      "text/plain": [
       "Canberra            3436\n",
       "Sydney              3344\n",
       "Adelaide            3193\n",
       "Melbourne           3193\n",
       "Hobart              3193\n",
       "Perth               3193\n",
       "Brisbane            3193\n",
       "Darwin              3192\n",
       "Ballarat            3040\n",
       "Townsville          3040\n",
       "MountGambier        3040\n",
       "GoldCoast           3040\n",
       "Cairns              3040\n",
       "Albany              3040\n",
       "Launceston          3040\n",
       "AliceSprings        3040\n",
       "Bendigo             3040\n",
       "Albury              3040\n",
       "MountGinini         3040\n",
       "Wollongong          3040\n",
       "Newcastle           3039\n",
       "Tuggeranong         3039\n",
       "Penrith             3039\n",
       "BadgerysCreek       3009\n",
       "NorfolkIsland       3009\n",
       "Cobar               3009\n",
       "CoffsHarbour        3009\n",
       "Moree               3009\n",
       "Sale                3009\n",
       "PerthAirport        3009\n",
       "PearceRAAF          3009\n",
       "Witchcliffe         3009\n",
       "Nuriootpa           3009\n",
       "Woomera             3009\n",
       "MelbourneAirport    3009\n",
       "Richmond            3009\n",
       "SydneyAirport       3009\n",
       "WaggaWagga          3009\n",
       "Williamtown         3009\n",
       "Dartmoor            3009\n",
       "Watsonia            3009\n",
       "Portland            3009\n",
       "Mildura             3009\n",
       "Walpole             3006\n",
       "NorahHead           3004\n",
       "SalmonGums          3001\n",
       "Nhil                1578\n",
       "Name: Location, dtype: int64"
      ]
     },
     "execution_count": 86,
     "metadata": {},
     "output_type": "execute_result"
    }
   ],
   "source": [
    "df.Location.value_counts()"
   ]
  },
  {
   "cell_type": "code",
   "execution_count": 87,
   "id": "d5112ff0",
   "metadata": {
    "colab": {
     "base_uri": "https://localhost:8080/",
     "height": 774
    },
    "executionInfo": {
     "elapsed": 2672,
     "status": "ok",
     "timestamp": 1674924587203,
     "user": {
      "displayName": "Humeyra Armutlu",
      "userId": "12643211298338865125"
     },
     "user_tz": -180
    },
    "id": "d5112ff0",
    "outputId": "64591748-89cf-4d79-ba46-a713293ff8b3"
   },
   "outputs": [
    {
     "data": {
      "image/png": "[encoded data removed]",
      "text/plain": [
       "<Figure size 1440x864 with 2 Axes>"
      ]
     },
     "metadata": {
      "needs_background": "light"
     },
     "output_type": "display_data"
    }
   ],
   "source": [
    "cor = df.corr()\n",
    "plt.figure(figsize = (20,12))\n",
    "sns.heatmap(cor, annot=True);"
   ]
  },
  {
   "cell_type": "code",
   "execution_count": 88,
   "id": "1a5920a8",
   "metadata": {
    "colab": {
     "base_uri": "https://localhost:8080/"
    },
    "executionInfo": {
     "elapsed": 39,
     "status": "ok",
     "timestamp": 1674924587205,
     "user": {
      "displayName": "Humeyra Armutlu",
      "userId": "12643211298338865125"
     },
     "user_tz": -180
    },
    "id": "1a5920a8",
    "outputId": "01e801c8-7040-4cf9-c484-7f0aa268a5b8"
   },
   "outputs": [
    {
     "data": {
      "text/plain": [
       "RainTomorrow     1.000000\n",
       "Humidity3pm      0.429674\n",
       "RainToday        0.340321\n",
       "Rainfall         0.253066\n",
       "Humidity9am      0.243247\n",
       "Cloud3pm         0.231196\n",
       "Sunshine         0.222299\n",
       "Pressure9am      0.221431\n",
       "WindGustSpeed    0.219940\n",
       "Pressure3pm      0.197342\n",
       "Temp3pm          0.190255\n",
       "Cloud9am         0.182437\n",
       "MaxTemp          0.159496\n",
       "WindSpeed9am     0.099299\n",
       "WindSpeed3pm     0.090283\n",
       "MinTemp          0.085821\n",
       "Evaporation      0.057506\n",
       "Temp9am          0.026969\n",
       "month            0.007377\n",
       "day              0.002098\n",
       "year             0.000174\n",
       "Name: RainTomorrow, dtype: float64"
      ]
     },
     "execution_count": 88,
     "metadata": {},
     "output_type": "execute_result"
    }
   ],
   "source": [
    "abs(df.corr()['RainTomorrow']).sort_values(ascending=False)"
   ]
  },
  {
   "cell_type": "code",
   "execution_count": 89,
   "id": "YhTBR1JJH5xh",
   "metadata": {
    "executionInfo": {
     "elapsed": 34,
     "status": "ok",
     "timestamp": 1674924587206,
     "user": {
      "displayName": "Humeyra Armutlu",
      "userId": "12643211298338865125"
     },
     "user_tz": -180
    },
    "id": "YhTBR1JJH5xh"
   },
   "outputs": [],
   "source": [
    "df.drop([\"month\",\"day\",\"year\"],axis=1,inplace=True)  #Because of low correlation I dropped these columns."
   ]
  },
  {
   "cell_type": "markdown",
   "id": "98cef50a",
   "metadata": {
    "id": "98cef50a"
   },
   "source": [
    "# Split data"
   ]
  },
  {
   "cell_type": "code",
   "execution_count": 90,
   "id": "98390e0b",
   "metadata": {
    "executionInfo": {
     "elapsed": 34,
     "status": "ok",
     "timestamp": 1674924587208,
     "user": {
      "displayName": "Humeyra Armutlu",
      "userId": "12643211298338865125"
     },
     "user_tz": -180
    },
    "id": "98390e0b"
   },
   "outputs": [],
   "source": [
    "x=df.drop(\"RainTomorrow\",axis=1)\n",
    "y=df[\"RainTomorrow\"]"
   ]
  },
  {
   "cell_type": "code",
   "execution_count": 91,
   "id": "qS85JCA-uHXO",
   "metadata": {
    "executionInfo": {
     "elapsed": 34,
     "status": "ok",
     "timestamp": 1674924587209,
     "user": {
      "displayName": "Humeyra Armutlu",
      "userId": "12643211298338865125"
     },
     "user_tz": -180
    },
    "id": "qS85JCA-uHXO"
   },
   "outputs": [],
   "source": [
    "x = pd.get_dummies(x,drop_first=True)"
   ]
  },
  {
   "cell_type": "code",
   "execution_count": 92,
   "id": "4QBd6OT0tjFZ",
   "metadata": {
    "executionInfo": {
     "elapsed": 34,
     "status": "ok",
     "timestamp": 1674924587210,
     "user": {
      "displayName": "Humeyra Armutlu",
      "userId": "12643211298338865125"
     },
     "user_tz": -180
    },
    "id": "4QBd6OT0tjFZ"
   },
   "outputs": [],
   "source": [
    "from sklearn.model_selection import train_test_split\n",
    "x_train, x_test, y_train, y_test = train_test_split(x, y, test_size=0.3, random_state=42)"
   ]
  },
  {
   "cell_type": "code",
   "execution_count": 93,
   "id": "f265af6e",
   "metadata": {
    "colab": {
     "base_uri": "https://localhost:8080/"
    },
    "executionInfo": {
     "elapsed": 34,
     "status": "ok",
     "timestamp": 1674924587211,
     "user": {
      "displayName": "Humeyra Armutlu",
      "userId": "12643211298338865125"
     },
     "user_tz": -180
    },
    "id": "f265af6e",
    "outputId": "f13c6119-8650-49e1-c5a5-4099e5ab1e4f"
   },
   "outputs": [
    {
     "data": {
      "text/plain": [
       "(142303, 108)"
      ]
     },
     "execution_count": 93,
     "metadata": {},
     "output_type": "execute_result"
    }
   ],
   "source": [
    "x.shape"
   ]
  },
  {
   "cell_type": "markdown",
   "id": "F_MVBWh01J61",
   "metadata": {
    "id": "F_MVBWh01J61"
   },
   "source": [
    "# Classification Models"
   ]
  },
  {
   "cell_type": "code",
   "execution_count": 94,
   "id": "bb0d56e1",
   "metadata": {
    "executionInfo": {
     "elapsed": 28,
     "status": "ok",
     "timestamp": 1674924587212,
     "user": {
      "displayName": "Humeyra Armutlu",
      "userId": "12643211298338865125"
     },
     "user_tz": -180
    },
    "id": "bb0d56e1"
   },
   "outputs": [],
   "source": [
    "def classification_funct(x,y):\n",
    "    from sklearn.naive_bayes import GaussianNB\n",
    "    from sklearn.naive_bayes import BernoulliNB\n",
    "    from sklearn.svm import SVC\n",
    "    from sklearn.neighbors import KNeighborsClassifier\n",
    "    from sklearn.tree import DecisionTreeClassifier\n",
    "    from sklearn.ensemble import RandomForestClassifier\n",
    "    from sklearn.linear_model import LogisticRegression\n",
    "    from xgboost import XGBClassifier\n",
    "    from sklearn.metrics import accuracy_score,precision_score,recall_score,f1_score \n",
    "    from sklearn.metrics import plot_precision_recall_curve \n",
    "    \n",
    "\n",
    "\n",
    "    g=GaussianNB()\n",
    "    b=BernoulliNB()\n",
    "    KN=KNeighborsClassifier()\n",
    "    SVC=SVC() \n",
    "    D=DecisionTreeClassifier()\n",
    "    R=RandomForestClassifier()\n",
    "    Log=LogisticRegression()\n",
    "    XGB=XGBClassifier()\n",
    "\n",
    "    algos=[g,b,KN,SVC,D,R,Log,XGB]\n",
    "    algo_names=['GaussianNB','BernoulliNB','KNeighborsClassifier','SVC','DecisionTreeClassifier','RandomForestClassifier','LogisticRegression','XGBClassifier']\n",
    "   \n",
    "    accuracy_scored=[]\n",
    "\n",
    "    \n",
    "    for item in algos:\n",
    "        item.fit(x_train,y_train)\n",
    "        item.predict(x_test)\n",
    "        \n",
    "        accuracy_scored.append(accuracy_score(y_test,item.predict(x_test)))\n",
    "       \n",
    "    result=pd.DataFrame(columns=['accuracy_score'],index=algo_names)\n",
    "    result['accuracy_score']=accuracy_scored\n",
    "    return result.sort_values('accuracy_score',ascending=False)"
   ]
  },
  {
   "cell_type": "code",
   "execution_count": 95,
   "id": "st-opl8GvwtU",
   "metadata": {
    "executionInfo": {
     "elapsed": 28,
     "status": "ok",
     "timestamp": 1674924587213,
     "user": {
      "displayName": "Humeyra Armutlu",
      "userId": "12643211298338865125"
     },
     "user_tz": -180
    },
    "id": "st-opl8GvwtU"
   },
   "outputs": [],
   "source": [
    "#classification_funct(x,y)  # Because it worked a long time."
   ]
  },
  {
   "cell_type": "code",
   "execution_count": 96,
   "id": "12z3o8x3N_L0",
   "metadata": {
    "executionInfo": {
     "elapsed": 28,
     "status": "ok",
     "timestamp": 1674924587214,
     "user": {
      "displayName": "Humeyra Armutlu",
      "userId": "12643211298338865125"
     },
     "user_tz": -180
    },
    "id": "12z3o8x3N_L0"
   },
   "outputs": [],
   "source": [
    "from sklearn.tree import DecisionTreeClassifier\n",
    "d=DecisionTreeClassifier()"
   ]
  },
  {
   "cell_type": "code",
   "execution_count": 97,
   "id": "95SMbmaEN_JN",
   "metadata": {
    "colab": {
     "base_uri": "https://localhost:8080/"
    },
    "executionInfo": {
     "elapsed": 2402,
     "status": "ok",
     "timestamp": 1674924589589,
     "user": {
      "displayName": "Humeyra Armutlu",
      "userId": "12643211298338865125"
     },
     "user_tz": -180
    },
    "id": "95SMbmaEN_JN",
    "outputId": "98b5f7c3-4a17-410b-e8ac-83623ae0a33b"
   },
   "outputs": [
    {
     "data": {
      "text/plain": [
       "DecisionTreeClassifier()"
      ]
     },
     "execution_count": 97,
     "metadata": {},
     "output_type": "execute_result"
    }
   ],
   "source": [
    "d.fit(x_train,y_train)"
   ]
  },
  {
   "cell_type": "code",
   "execution_count": 98,
   "id": "lO4prHC1N_DP",
   "metadata": {
    "executionInfo": {
     "elapsed": 26,
     "status": "ok",
     "timestamp": 1674924589590,
     "user": {
      "displayName": "Humeyra Armutlu",
      "userId": "12643211298338865125"
     },
     "user_tz": -180
    },
    "id": "lO4prHC1N_DP"
   },
   "outputs": [],
   "source": [
    "tahmin=d.predict(x_test)"
   ]
  },
  {
   "cell_type": "code",
   "execution_count": 99,
   "id": "3voinrofOFJq",
   "metadata": {
    "colab": {
     "base_uri": "https://localhost:8080/"
    },
    "executionInfo": {
     "elapsed": 25,
     "status": "ok",
     "timestamp": 1674924589591,
     "user": {
      "displayName": "Humeyra Armutlu",
      "userId": "12643211298338865125"
     },
     "user_tz": -180
    },
    "id": "3voinrofOFJq",
    "outputId": "348e7f54-65bd-4349-c638-0202915497a6"
   },
   "outputs": [
    {
     "data": {
      "text/plain": [
       "0.7805157995830503"
      ]
     },
     "execution_count": 99,
     "metadata": {},
     "output_type": "execute_result"
    }
   ],
   "source": [
    "from sklearn.metrics import accuracy_score,precision_score,recall_score,f1_score \n",
    "accuracy_score(tahmin,y_test)"
   ]
  },
  {
   "cell_type": "code",
   "execution_count": null,
   "id": "7f9oyATVTFDQ",
   "metadata": {
    "id": "7f9oyATVTFDQ"
   },
   "outputs": [],
   "source": [
    "# I choose the Decision Tree Classifier model, and predicts are %78 accurate."
   ]
  },
  {
   "cell_type": "markdown",
   "id": "a2bpBMV41Q5J",
   "metadata": {
    "id": "a2bpBMV41Q5J"
   },
   "source": [
    "# Neural Network\n",
    "\n",
    "Classification with Deep Learning algorithm."
   ]
  },
  {
   "cell_type": "code",
   "execution_count": 100,
   "id": "tTCVCxRyvwvx",
   "metadata": {
    "executionInfo": {
     "elapsed": 24,
     "status": "ok",
     "timestamp": 1674924589593,
     "user": {
      "displayName": "Humeyra Armutlu",
      "userId": "12643211298338865125"
     },
     "user_tz": -180
    },
    "id": "tTCVCxRyvwvx"
   },
   "outputs": [],
   "source": [
    "import tensorflow as tf\n",
    "from tensorflow.keras.models import Sequential\n",
    "from tensorflow.keras.layers import Dense, Dropout, Activation\n",
    "from tensorflow.keras.callbacks import EarlyStopping\n",
    "from keras.wrappers.scikit_learn import KerasClassifier"
   ]
  },
  {
   "cell_type": "code",
   "execution_count": 103,
   "id": "vVJEHaVW0D3H",
   "metadata": {
    "executionInfo": {
     "elapsed": 245,
     "status": "ok",
     "timestamp": 1674924616748,
     "user": {
      "displayName": "Humeyra Armutlu",
      "userId": "12643211298338865125"
     },
     "user_tz": -180
    },
    "id": "vVJEHaVW0D3H"
   },
   "outputs": [],
   "source": [
    "model=Sequential()\n",
    "model.add(Dense(8, activation=\"relu\"))   \n",
    "model.add(Dense(12, activation=\"relu\"))   \n",
    "model.add(Dense(10, activation=\"relu\"))   \n",
    "model.add(Dense(8, activation=\"relu\"))   \n",
    "model.add(Dense(6, activation=\"relu\"))   \n",
    "model.add(Dense(1, activation=\"sigmoid\"))"
   ]
  },
  {
   "cell_type": "code",
   "execution_count": 104,
   "id": "5xnnYZWS0DzZ",
   "metadata": {
    "executionInfo": {
     "elapsed": 7,
     "status": "ok",
     "timestamp": 1674924617166,
     "user": {
      "displayName": "Humeyra Armutlu",
      "userId": "12643211298338865125"
     },
     "user_tz": -180
    },
    "id": "5xnnYZWS0DzZ"
   },
   "outputs": [],
   "source": [
    "model.compile(optimizer='adam', loss='binary_crossentropy', metrics=['accuracy'])"
   ]
  },
  {
   "cell_type": "code",
   "execution_count": 105,
   "id": "oNneCo1y0Dux",
   "metadata": {
    "colab": {
     "base_uri": "https://localhost:8080/"
    },
    "executionInfo": {
     "elapsed": 82665,
     "status": "ok",
     "timestamp": 1674924699825,
     "user": {
      "displayName": "Humeyra Armutlu",
      "userId": "12643211298338865125"
     },
     "user_tz": -180
    },
    "id": "oNneCo1y0Dux",
    "outputId": "e1737c16-0655-44dc-ad1c-91db91fec3a0"
   },
   "outputs": [
    {
     "name": "stdout",
     "output_type": "stream",
     "text": [
      "Epoch 1/30\n",
      "779/779 [==============================] - 3s 3ms/step - loss: 0.4332 - accuracy: 0.8151\n",
      "Epoch 2/30\n",
      "779/779 [==============================] - 2s 3ms/step - loss: 0.3953 - accuracy: 0.8273\n",
      "Epoch 3/30\n",
      "779/779 [==============================] - 2s 3ms/step - loss: 0.3896 - accuracy: 0.8309\n",
      "Epoch 4/30\n",
      "779/779 [==============================] - 3s 3ms/step - loss: 0.3877 - accuracy: 0.8315\n",
      "Epoch 5/30\n",
      "779/779 [==============================] - 2s 3ms/step - loss: 0.3836 - accuracy: 0.8328\n",
      "Epoch 6/30\n",
      "779/779 [==============================] - 2s 3ms/step - loss: 0.3835 - accuracy: 0.8335\n",
      "Epoch 7/30\n",
      "779/779 [==============================] - 2s 3ms/step - loss: 0.3820 - accuracy: 0.8338\n",
      "Epoch 8/30\n",
      "779/779 [==============================] - 2s 3ms/step - loss: 0.3798 - accuracy: 0.8353\n",
      "Epoch 9/30\n",
      "779/779 [==============================] - 3s 3ms/step - loss: 0.3797 - accuracy: 0.8346\n",
      "Epoch 10/30\n",
      "779/779 [==============================] - 2s 3ms/step - loss: 0.3781 - accuracy: 0.8352\n",
      "Epoch 11/30\n",
      "779/779 [==============================] - 3s 3ms/step - loss: 0.3789 - accuracy: 0.8355\n",
      "Epoch 12/30\n",
      "779/779 [==============================] - 2s 3ms/step - loss: 0.3769 - accuracy: 0.8364\n",
      "Epoch 13/30\n",
      "779/779 [==============================] - 2s 3ms/step - loss: 0.3772 - accuracy: 0.8361\n",
      "Epoch 14/30\n",
      "779/779 [==============================] - 2s 3ms/step - loss: 0.3764 - accuracy: 0.8368\n",
      "Epoch 15/30\n",
      "779/779 [==============================] - 3s 3ms/step - loss: 0.3748 - accuracy: 0.8367\n",
      "Epoch 16/30\n",
      "779/779 [==============================] - 2s 3ms/step - loss: 0.3756 - accuracy: 0.8369\n",
      "Epoch 17/30\n",
      "779/779 [==============================] - 2s 3ms/step - loss: 0.3754 - accuracy: 0.8374\n",
      "Epoch 18/30\n",
      "779/779 [==============================] - 2s 3ms/step - loss: 0.3741 - accuracy: 0.8377\n",
      "Epoch 19/30\n",
      "779/779 [==============================] - 2s 3ms/step - loss: 0.3746 - accuracy: 0.8377\n",
      "Epoch 20/30\n",
      "779/779 [==============================] - 2s 3ms/step - loss: 0.3737 - accuracy: 0.8387\n",
      "Epoch 21/30\n",
      "779/779 [==============================] - 2s 3ms/step - loss: 0.3746 - accuracy: 0.8379\n",
      "Epoch 22/30\n",
      "779/779 [==============================] - 2s 3ms/step - loss: 0.3747 - accuracy: 0.8385\n",
      "Epoch 23/30\n",
      "779/779 [==============================] - 2s 3ms/step - loss: 0.3746 - accuracy: 0.8378\n",
      "Epoch 24/30\n",
      "779/779 [==============================] - 2s 3ms/step - loss: 0.3727 - accuracy: 0.8370\n",
      "Epoch 25/30\n",
      "779/779 [==============================] - 2s 3ms/step - loss: 0.3730 - accuracy: 0.8388\n",
      "Epoch 26/30\n",
      "779/779 [==============================] - 3s 3ms/step - loss: 0.3730 - accuracy: 0.8382\n",
      "Epoch 27/30\n",
      "779/779 [==============================] - 2s 3ms/step - loss: 0.3723 - accuracy: 0.8385\n",
      "Epoch 28/30\n",
      "779/779 [==============================] - 2s 3ms/step - loss: 0.3713 - accuracy: 0.8392\n",
      "Epoch 29/30\n",
      "779/779 [==============================] - 2s 3ms/step - loss: 0.3716 - accuracy: 0.8384\n",
      "Epoch 30/30\n",
      "779/779 [==============================] - 2s 3ms/step - loss: 0.3716 - accuracy: 0.8389\n"
     ]
    },
    {
     "data": {
      "text/plain": [
       "<keras.callbacks.History at 0x7f0e4a4bbb50>"
      ]
     },
     "execution_count": 105,
     "metadata": {},
     "output_type": "execute_result"
    }
   ],
   "source": [
    "model.fit(x = x_train, y = y_train, \n",
    "          batch_size = 128, epochs = 30,verbose = 1,callbacks = [])"
   ]
  },
  {
   "cell_type": "code",
   "execution_count": 106,
   "id": "O44TUKsl0Lhx",
   "metadata": {
    "colab": {
     "base_uri": "https://localhost:8080/"
    },
    "executionInfo": {
     "elapsed": 2373,
     "status": "ok",
     "timestamp": 1674924702156,
     "user": {
      "displayName": "Humeyra Armutlu",
      "userId": "12643211298338865125"
     },
     "user_tz": -180
    },
    "id": "O44TUKsl0Lhx",
    "outputId": "896f671a-8c56-4ea9-8e9c-a055adce9371"
   },
   "outputs": [
    {
     "name": "stdout",
     "output_type": "stream",
     "text": [
      "1335/1335 [==============================] - 2s 1ms/step\n"
     ]
    }
   ],
   "source": [
    "y_pred = model.predict(x_test)"
   ]
  },
  {
   "cell_type": "code",
   "execution_count": 107,
   "id": "4_tgtL-M0LfO",
   "metadata": {
    "colab": {
     "base_uri": "https://localhost:8080/"
    },
    "executionInfo": {
     "elapsed": 10,
     "status": "ok",
     "timestamp": 1674924702157,
     "user": {
      "displayName": "Humeyra Armutlu",
      "userId": "12643211298338865125"
     },
     "user_tz": -180
    },
    "id": "4_tgtL-M0LfO",
    "outputId": "6ef857c1-2486-46b1-eab2-f7f24f8082f4"
   },
   "outputs": [
    {
     "name": "stdout",
     "output_type": "stream",
     "text": [
      "              precision    recall  f1-score   support\n",
      "\n",
      "           0       0.88      0.91      0.90     32654\n",
      "           1       0.68      0.59      0.63     10037\n",
      "\n",
      "    accuracy                           0.84     42691\n",
      "   macro avg       0.78      0.75      0.76     42691\n",
      "weighted avg       0.83      0.84      0.83     42691\n",
      "\n"
     ]
    }
   ],
   "source": [
    "from sklearn.metrics import classification_report, plot_confusion_matrix,plot_roc_curve,roc_auc_score,f1_score,recall_score\n",
    "print(classification_report(y_test, y_pred.round()))"
   ]
  },
  {
   "cell_type": "code",
   "execution_count": null,
   "id": "to3tGiwwStEw",
   "metadata": {
    "id": "to3tGiwwStEw"
   },
   "outputs": [],
   "source": [
    "# With the less none valued data, the model will results higher accuracy score."
   ]
  }
 ],
 "metadata": {
  "accelerator": "GPU",
  "colab": {
   "provenance": []
  },
  "gpuClass": "standard",
  "kernelspec": {
   "display_name": "Python 3 (ipykernel)",
   "language": "python",
   "name": "python3"
  },
  "language_info": {
   "codemirror_mode": {
    "name": "ipython",
    "version": 3
   },
   "file_extension": ".py",
   "mimetype": "text/x-python",
   "name": "python",
   "nbconvert_exporter": "python",
   "pygments_lexer": "ipython3",
   "version": "3.11.1"
  }
 },
 "nbformat": 4,
 "nbformat_minor": 5
}
