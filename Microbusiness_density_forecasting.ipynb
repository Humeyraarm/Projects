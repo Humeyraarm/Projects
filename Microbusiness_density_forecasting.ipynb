{
 "cells": [
  {
   "cell_type": "markdown",
   "metadata": {
    "execution": {
     "iopub.execute_input": "2023-01-24T15:07:39.179275Z",
     "iopub.status.busy": "2023-01-24T15:07:39.178805Z",
     "iopub.status.idle": "2023-01-24T15:07:39.194288Z",
     "shell.execute_reply": "2023-01-24T15:07:39.193158Z",
     "shell.execute_reply.started": "2023-01-24T15:07:39.179234Z"
    }
   },
   "source": [
    "## Microbusiness Density Forecasting"
   ]
  },
  {
   "cell_type": "markdown",
   "metadata": {},
   "source": [
    "👉 This study will examine the dataset named as **\"Microbusiness Density Forecasting\"** at Kaggle website [external link text](https://www.kaggle.com/competitions/godaddy-microbusiness-density-forecasting).\n",
    "\n",
    "\n",
    "The goal of this work to predict monthly microbusiness density in a given area. You will develop an accurate model trained on U.S. county-level data.\n",
    "\n",
    "Works on data will help policymakers gain visibility into microbusinesses, a growing trend of very small entities. Additional information will enable new policies and programs to improve the success and impact of these smallest of businesses.\n",
    "\n",
    "Let's forecast microbusiness activity across the United States, as measured by the density of microbusinesses in US counties. Microbusinesses are often too small or too new to show up in traditional economic data sources, but microbusiness activity may be correlated with other economic indicators of general interest."
   ]
  },
  {
   "cell_type": "code",
   "execution_count": null,
   "metadata": {},
   "outputs": [],
   "source": [
    "import pandas as pd\n",
    "import numpy as np\n",
    "import matplotlib.pyplot as plt\n",
    "%matplotlib inline\n",
    "import warnings\n",
    "warnings.filterwarnings(\"ignore\")\n",
    "\n",
    "import tensorflow as tf\n",
    "\n",
    "from tensorflow.keras.models import Sequential\n",
    "from tensorflow.keras.layers import Dense, Conv2D, MaxPool2D, Flatten, Dropout, BatchNormalization\n",
    "from tensorflow.keras.callbacks import EarlyStopping\n",
    "from tensorflow.keras.models import Sequential\n",
    "from tensorflow.keras.layers import Dense, Activation\n",
    "from tensorflow.keras.optimizers import Adam\n",
    "from sklearn.model_selection import train_test_split\n",
    "from sklearn.metrics import  r2_score, mean_squared_error, mean_absolute_error\n",
    "from sklearn.metrics import ConfusionMatrixDisplay\n",
    "from sklearn.metrics import classification_report, confusion_matrix\n",
    "from sklearn.preprocessing import MinMaxScaler\n",
    "scaler=MinMaxScaler()"
   ]
  },
  {
   "cell_type": "markdown",
   "metadata": {},
   "source": [
    "# Data view"
   ]
  },
  {
   "cell_type": "code",
   "execution_count": 99,
   "metadata": {
    "execution": {
     "iopub.execute_input": "2023-01-24T15:07:41.683589Z",
     "iopub.status.busy": "2023-01-24T15:07:41.682593Z",
     "iopub.status.idle": "2023-01-24T15:07:41.840266Z",
     "shell.execute_reply": "2023-01-24T15:07:41.839164Z",
     "shell.execute_reply.started": "2023-01-24T15:07:41.683550Z"
    }
   },
   "outputs": [],
   "source": [
    "df = pd.read_csv(\"/kaggle/input/godaddy-microbusiness-density-forecasting/train.csv\")\n",
    "df1= pd.read_csv(\"/kaggle/input/godaddy-microbusiness-density-forecasting/test.csv\")"
   ]
  },
  {
   "cell_type": "code",
   "execution_count": 100,
   "metadata": {
    "execution": {
     "iopub.execute_input": "2023-01-24T15:07:43.933794Z",
     "iopub.status.busy": "2023-01-24T15:07:43.933187Z",
     "iopub.status.idle": "2023-01-24T15:07:43.986439Z",
     "shell.execute_reply": "2023-01-24T15:07:43.985388Z",
     "shell.execute_reply.started": "2023-01-24T15:07:43.933744Z"
    }
   },
   "outputs": [
    {
     "data": {
      "text/plain": [
       "row_id                   0\n",
       "cfips                    0\n",
       "county                   0\n",
       "state                    0\n",
       "first_day_of_month       0\n",
       "microbusiness_density    0\n",
       "active                   0\n",
       "dtype: int64"
      ]
     },
     "execution_count": 100,
     "metadata": {},
     "output_type": "execute_result"
    }
   ],
   "source": [
    "df.isnull().sum()"
   ]
  },
  {
   "cell_type": "code",
   "execution_count": 38,
   "metadata": {
    "execution": {
     "iopub.execute_input": "2023-01-24T14:48:15.310823Z",
     "iopub.status.busy": "2023-01-24T14:48:15.310431Z",
     "iopub.status.idle": "2023-01-24T14:48:15.327708Z",
     "shell.execute_reply": "2023-01-24T14:48:15.326257Z",
     "shell.execute_reply.started": "2023-01-24T14:48:15.310790Z"
    }
   },
   "outputs": [
    {
     "data": {
      "text/html": [
       "<div>\n",
       "<style scoped>\n",
       "    .dataframe tbody tr th:only-of-type {\n",
       "        vertical-align: middle;\n",
       "    }\n",
       "\n",
       "    .dataframe tbody tr th {\n",
       "        vertical-align: top;\n",
       "    }\n",
       "\n",
       "    .dataframe thead th {\n",
       "        text-align: right;\n",
       "    }\n",
       "</style>\n",
       "<table border=\"1\" class=\"dataframe\">\n",
       "  <thead>\n",
       "    <tr style=\"text-align: right;\">\n",
       "      <th></th>\n",
       "      <th>row_id</th>\n",
       "      <th>cfips</th>\n",
       "      <th>county</th>\n",
       "      <th>state</th>\n",
       "      <th>first_day_of_month</th>\n",
       "      <th>microbusiness_density</th>\n",
       "      <th>active</th>\n",
       "    </tr>\n",
       "  </thead>\n",
       "  <tbody>\n",
       "    <tr>\n",
       "      <th>0</th>\n",
       "      <td>1001_2019-08-01</td>\n",
       "      <td>1001</td>\n",
       "      <td>Autauga County</td>\n",
       "      <td>Alabama</td>\n",
       "      <td>2019-08-01</td>\n",
       "      <td>3.007682</td>\n",
       "      <td>1249</td>\n",
       "    </tr>\n",
       "    <tr>\n",
       "      <th>1</th>\n",
       "      <td>1001_2019-09-01</td>\n",
       "      <td>1001</td>\n",
       "      <td>Autauga County</td>\n",
       "      <td>Alabama</td>\n",
       "      <td>2019-09-01</td>\n",
       "      <td>2.884870</td>\n",
       "      <td>1198</td>\n",
       "    </tr>\n",
       "    <tr>\n",
       "      <th>2</th>\n",
       "      <td>1001_2019-10-01</td>\n",
       "      <td>1001</td>\n",
       "      <td>Autauga County</td>\n",
       "      <td>Alabama</td>\n",
       "      <td>2019-10-01</td>\n",
       "      <td>3.055843</td>\n",
       "      <td>1269</td>\n",
       "    </tr>\n",
       "    <tr>\n",
       "      <th>3</th>\n",
       "      <td>1001_2019-11-01</td>\n",
       "      <td>1001</td>\n",
       "      <td>Autauga County</td>\n",
       "      <td>Alabama</td>\n",
       "      <td>2019-11-01</td>\n",
       "      <td>2.993233</td>\n",
       "      <td>1243</td>\n",
       "    </tr>\n",
       "    <tr>\n",
       "      <th>4</th>\n",
       "      <td>1001_2019-12-01</td>\n",
       "      <td>1001</td>\n",
       "      <td>Autauga County</td>\n",
       "      <td>Alabama</td>\n",
       "      <td>2019-12-01</td>\n",
       "      <td>2.993233</td>\n",
       "      <td>1243</td>\n",
       "    </tr>\n",
       "  </tbody>\n",
       "</table>\n",
       "</div>"
      ],
      "text/plain": [
       "            row_id  cfips          county    state first_day_of_month  \\\n",
       "0  1001_2019-08-01   1001  Autauga County  Alabama         2019-08-01   \n",
       "1  1001_2019-09-01   1001  Autauga County  Alabama         2019-09-01   \n",
       "2  1001_2019-10-01   1001  Autauga County  Alabama         2019-10-01   \n",
       "3  1001_2019-11-01   1001  Autauga County  Alabama         2019-11-01   \n",
       "4  1001_2019-12-01   1001  Autauga County  Alabama         2019-12-01   \n",
       "\n",
       "   microbusiness_density  active  \n",
       "0               3.007682    1249  \n",
       "1               2.884870    1198  \n",
       "2               3.055843    1269  \n",
       "3               2.993233    1243  \n",
       "4               2.993233    1243  "
      ]
     },
     "execution_count": 38,
     "metadata": {},
     "output_type": "execute_result"
    }
   ],
   "source": [
    "df.head()"
   ]
  },
  {
   "cell_type": "code",
   "execution_count": 39,
   "metadata": {
    "execution": {
     "iopub.execute_input": "2023-01-24T14:48:17.486866Z",
     "iopub.status.busy": "2023-01-24T14:48:17.486075Z",
     "iopub.status.idle": "2023-01-24T14:48:17.519092Z",
     "shell.execute_reply": "2023-01-24T14:48:17.517891Z",
     "shell.execute_reply.started": "2023-01-24T14:48:17.486825Z"
    }
   },
   "outputs": [
    {
     "name": "stdout",
     "output_type": "stream",
     "text": [
      "<class 'pandas.core.frame.DataFrame'>\n",
      "RangeIndex: 122265 entries, 0 to 122264\n",
      "Data columns (total 7 columns):\n",
      " #   Column                 Non-Null Count   Dtype  \n",
      "---  ------                 --------------   -----  \n",
      " 0   row_id                 122265 non-null  object \n",
      " 1   cfips                  122265 non-null  int64  \n",
      " 2   county                 122265 non-null  object \n",
      " 3   state                  122265 non-null  object \n",
      " 4   first_day_of_month     122265 non-null  object \n",
      " 5   microbusiness_density  122265 non-null  float64\n",
      " 6   active                 122265 non-null  int64  \n",
      "dtypes: float64(1), int64(2), object(4)\n",
      "memory usage: 6.5+ MB\n"
     ]
    }
   ],
   "source": [
    "df.info()"
   ]
  },
  {
   "cell_type": "code",
   "execution_count": 101,
   "metadata": {
    "execution": {
     "iopub.execute_input": "2023-01-24T15:07:48.191083Z",
     "iopub.status.busy": "2023-01-24T15:07:48.190701Z",
     "iopub.status.idle": "2023-01-24T15:07:48.237957Z",
     "shell.execute_reply": "2023-01-24T15:07:48.237017Z",
     "shell.execute_reply.started": "2023-01-24T15:07:48.191052Z"
    }
   },
   "outputs": [],
   "source": [
    "df.first_day_of_month = pd.to_datetime(pd.Series(df.first_day_of_month))\n",
    "df[\"month\"]=df.first_day_of_month.dt.month\n",
    "df[\"year\"]=df.first_day_of_month.dt.year\n"
   ]
  },
  {
   "cell_type": "code",
   "execution_count": 28,
   "metadata": {
    "execution": {
     "iopub.execute_input": "2023-01-24T14:43:09.926042Z",
     "iopub.status.busy": "2023-01-24T14:43:09.925593Z",
     "iopub.status.idle": "2023-01-24T14:43:09.949886Z",
     "shell.execute_reply": "2023-01-24T14:43:09.948931Z",
     "shell.execute_reply.started": "2023-01-24T14:43:09.926002Z"
    }
   },
   "outputs": [
    {
     "data": {
      "text/html": [
       "<div>\n",
       "<style scoped>\n",
       "    .dataframe tbody tr th:only-of-type {\n",
       "        vertical-align: middle;\n",
       "    }\n",
       "\n",
       "    .dataframe tbody tr th {\n",
       "        vertical-align: top;\n",
       "    }\n",
       "\n",
       "    .dataframe thead th {\n",
       "        text-align: right;\n",
       "    }\n",
       "</style>\n",
       "<table border=\"1\" class=\"dataframe\">\n",
       "  <thead>\n",
       "    <tr style=\"text-align: right;\">\n",
       "      <th></th>\n",
       "      <th>row_id</th>\n",
       "      <th>cfips</th>\n",
       "      <th>county</th>\n",
       "      <th>state</th>\n",
       "      <th>first_day_of_month</th>\n",
       "      <th>microbusiness_density</th>\n",
       "      <th>active</th>\n",
       "      <th>month</th>\n",
       "      <th>year</th>\n",
       "    </tr>\n",
       "  </thead>\n",
       "  <tbody>\n",
       "    <tr>\n",
       "      <th>2170</th>\n",
       "      <td>1111_2021-09-01</td>\n",
       "      <td>1111</td>\n",
       "      <td>Randolph County</td>\n",
       "      <td>Alabama</td>\n",
       "      <td>2021-09-01</td>\n",
       "      <td>2.681539</td>\n",
       "      <td>476</td>\n",
       "      <td>9</td>\n",
       "      <td>2021</td>\n",
       "    </tr>\n",
       "  </tbody>\n",
       "</table>\n",
       "</div>"
      ],
      "text/plain": [
       "               row_id  cfips           county    state first_day_of_month  \\\n",
       "2170  1111_2021-09-01   1111  Randolph County  Alabama         2021-09-01   \n",
       "\n",
       "      microbusiness_density  active  month  year  \n",
       "2170               2.681539     476      9  2021  "
      ]
     },
     "execution_count": 28,
     "metadata": {},
     "output_type": "execute_result"
    }
   ],
   "source": [
    "df.sample()"
   ]
  },
  {
   "cell_type": "code",
   "execution_count": 103,
   "metadata": {
    "collapsed": true,
    "execution": {
     "iopub.execute_input": "2023-01-24T15:07:51.821552Z",
     "iopub.status.busy": "2023-01-24T15:07:51.819366Z",
     "iopub.status.idle": "2023-01-24T15:07:51.856596Z",
     "shell.execute_reply": "2023-01-24T15:07:51.854994Z",
     "shell.execute_reply.started": "2023-01-24T15:07:51.821501Z"
    },
    "jupyter": {
     "outputs_hidden": true
    }
   },
   "outputs": [
    {
     "ename": "KeyError",
     "evalue": "\"['first_day_of_month' 'row_id' 'county' 'state'] not found in axis\"",
     "output_type": "error",
     "traceback": [
      "\u001b[0;31m---------------------------------------------------------------------------\u001b[0m",
      "\u001b[0;31mKeyError\u001b[0m                                  Traceback (most recent call last)",
      "\u001b[0;32m/tmp/ipykernel_149/3235461171.py\u001b[0m in \u001b[0;36m<module>\u001b[0;34m\u001b[0m\n\u001b[0;32m----> 1\u001b[0;31m \u001b[0mdf\u001b[0m\u001b[0;34m.\u001b[0m\u001b[0mdrop\u001b[0m\u001b[0;34m(\u001b[0m\u001b[0;34m[\u001b[0m\u001b[0;34m\"first_day_of_month\"\u001b[0m\u001b[0;34m,\u001b[0m\u001b[0;34m\"row_id\"\u001b[0m\u001b[0;34m,\u001b[0m\u001b[0;34m\"county\"\u001b[0m\u001b[0;34m,\u001b[0m\u001b[0;34m\"state\"\u001b[0m\u001b[0;34m]\u001b[0m\u001b[0;34m,\u001b[0m\u001b[0maxis\u001b[0m\u001b[0;34m=\u001b[0m\u001b[0;36m1\u001b[0m\u001b[0;34m,\u001b[0m\u001b[0minplace\u001b[0m\u001b[0;34m=\u001b[0m\u001b[0;32mTrue\u001b[0m\u001b[0;34m)\u001b[0m\u001b[0;34m\u001b[0m\u001b[0;34m\u001b[0m\u001b[0m\n\u001b[0m",
      "\u001b[0;32m/opt/conda/lib/python3.7/site-packages/pandas/util/_decorators.py\u001b[0m in \u001b[0;36mwrapper\u001b[0;34m(*args, **kwargs)\u001b[0m\n\u001b[1;32m    309\u001b[0m                     \u001b[0mstacklevel\u001b[0m\u001b[0;34m=\u001b[0m\u001b[0mstacklevel\u001b[0m\u001b[0;34m,\u001b[0m\u001b[0;34m\u001b[0m\u001b[0;34m\u001b[0m\u001b[0m\n\u001b[1;32m    310\u001b[0m                 )\n\u001b[0;32m--> 311\u001b[0;31m             \u001b[0;32mreturn\u001b[0m \u001b[0mfunc\u001b[0m\u001b[0;34m(\u001b[0m\u001b[0;34m*\u001b[0m\u001b[0margs\u001b[0m\u001b[0;34m,\u001b[0m \u001b[0;34m**\u001b[0m\u001b[0mkwargs\u001b[0m\u001b[0;34m)\u001b[0m\u001b[0;34m\u001b[0m\u001b[0;34m\u001b[0m\u001b[0m\n\u001b[0m\u001b[1;32m    312\u001b[0m \u001b[0;34m\u001b[0m\u001b[0m\n\u001b[1;32m    313\u001b[0m         \u001b[0;32mreturn\u001b[0m \u001b[0mwrapper\u001b[0m\u001b[0;34m\u001b[0m\u001b[0;34m\u001b[0m\u001b[0m\n",
      "\u001b[0;32m/opt/conda/lib/python3.7/site-packages/pandas/core/frame.py\u001b[0m in \u001b[0;36mdrop\u001b[0;34m(self, labels, axis, index, columns, level, inplace, errors)\u001b[0m\n\u001b[1;32m   4911\u001b[0m             \u001b[0mlevel\u001b[0m\u001b[0;34m=\u001b[0m\u001b[0mlevel\u001b[0m\u001b[0;34m,\u001b[0m\u001b[0;34m\u001b[0m\u001b[0;34m\u001b[0m\u001b[0m\n\u001b[1;32m   4912\u001b[0m             \u001b[0minplace\u001b[0m\u001b[0;34m=\u001b[0m\u001b[0minplace\u001b[0m\u001b[0;34m,\u001b[0m\u001b[0;34m\u001b[0m\u001b[0;34m\u001b[0m\u001b[0m\n\u001b[0;32m-> 4913\u001b[0;31m             \u001b[0merrors\u001b[0m\u001b[0;34m=\u001b[0m\u001b[0merrors\u001b[0m\u001b[0;34m,\u001b[0m\u001b[0;34m\u001b[0m\u001b[0;34m\u001b[0m\u001b[0m\n\u001b[0m\u001b[1;32m   4914\u001b[0m         )\n\u001b[1;32m   4915\u001b[0m \u001b[0;34m\u001b[0m\u001b[0m\n",
      "\u001b[0;32m/opt/conda/lib/python3.7/site-packages/pandas/core/generic.py\u001b[0m in \u001b[0;36mdrop\u001b[0;34m(self, labels, axis, index, columns, level, inplace, errors)\u001b[0m\n\u001b[1;32m   4148\u001b[0m         \u001b[0;32mfor\u001b[0m \u001b[0maxis\u001b[0m\u001b[0;34m,\u001b[0m \u001b[0mlabels\u001b[0m \u001b[0;32min\u001b[0m \u001b[0maxes\u001b[0m\u001b[0;34m.\u001b[0m\u001b[0mitems\u001b[0m\u001b[0;34m(\u001b[0m\u001b[0;34m)\u001b[0m\u001b[0;34m:\u001b[0m\u001b[0;34m\u001b[0m\u001b[0;34m\u001b[0m\u001b[0m\n\u001b[1;32m   4149\u001b[0m             \u001b[0;32mif\u001b[0m \u001b[0mlabels\u001b[0m \u001b[0;32mis\u001b[0m \u001b[0;32mnot\u001b[0m \u001b[0;32mNone\u001b[0m\u001b[0;34m:\u001b[0m\u001b[0;34m\u001b[0m\u001b[0;34m\u001b[0m\u001b[0m\n\u001b[0;32m-> 4150\u001b[0;31m                 \u001b[0mobj\u001b[0m \u001b[0;34m=\u001b[0m \u001b[0mobj\u001b[0m\u001b[0;34m.\u001b[0m\u001b[0m_drop_axis\u001b[0m\u001b[0;34m(\u001b[0m\u001b[0mlabels\u001b[0m\u001b[0;34m,\u001b[0m \u001b[0maxis\u001b[0m\u001b[0;34m,\u001b[0m \u001b[0mlevel\u001b[0m\u001b[0;34m=\u001b[0m\u001b[0mlevel\u001b[0m\u001b[0;34m,\u001b[0m \u001b[0merrors\u001b[0m\u001b[0;34m=\u001b[0m\u001b[0merrors\u001b[0m\u001b[0;34m)\u001b[0m\u001b[0;34m\u001b[0m\u001b[0;34m\u001b[0m\u001b[0m\n\u001b[0m\u001b[1;32m   4151\u001b[0m \u001b[0;34m\u001b[0m\u001b[0m\n\u001b[1;32m   4152\u001b[0m         \u001b[0;32mif\u001b[0m \u001b[0minplace\u001b[0m\u001b[0;34m:\u001b[0m\u001b[0;34m\u001b[0m\u001b[0;34m\u001b[0m\u001b[0m\n",
      "\u001b[0;32m/opt/conda/lib/python3.7/site-packages/pandas/core/generic.py\u001b[0m in \u001b[0;36m_drop_axis\u001b[0;34m(self, labels, axis, level, errors)\u001b[0m\n\u001b[1;32m   4183\u001b[0m                 \u001b[0mnew_axis\u001b[0m \u001b[0;34m=\u001b[0m \u001b[0maxis\u001b[0m\u001b[0;34m.\u001b[0m\u001b[0mdrop\u001b[0m\u001b[0;34m(\u001b[0m\u001b[0mlabels\u001b[0m\u001b[0;34m,\u001b[0m \u001b[0mlevel\u001b[0m\u001b[0;34m=\u001b[0m\u001b[0mlevel\u001b[0m\u001b[0;34m,\u001b[0m \u001b[0merrors\u001b[0m\u001b[0;34m=\u001b[0m\u001b[0merrors\u001b[0m\u001b[0;34m)\u001b[0m\u001b[0;34m\u001b[0m\u001b[0;34m\u001b[0m\u001b[0m\n\u001b[1;32m   4184\u001b[0m             \u001b[0;32melse\u001b[0m\u001b[0;34m:\u001b[0m\u001b[0;34m\u001b[0m\u001b[0;34m\u001b[0m\u001b[0m\n\u001b[0;32m-> 4185\u001b[0;31m                 \u001b[0mnew_axis\u001b[0m \u001b[0;34m=\u001b[0m \u001b[0maxis\u001b[0m\u001b[0;34m.\u001b[0m\u001b[0mdrop\u001b[0m\u001b[0;34m(\u001b[0m\u001b[0mlabels\u001b[0m\u001b[0;34m,\u001b[0m \u001b[0merrors\u001b[0m\u001b[0;34m=\u001b[0m\u001b[0merrors\u001b[0m\u001b[0;34m)\u001b[0m\u001b[0;34m\u001b[0m\u001b[0;34m\u001b[0m\u001b[0m\n\u001b[0m\u001b[1;32m   4186\u001b[0m             \u001b[0mresult\u001b[0m \u001b[0;34m=\u001b[0m \u001b[0mself\u001b[0m\u001b[0;34m.\u001b[0m\u001b[0mreindex\u001b[0m\u001b[0;34m(\u001b[0m\u001b[0;34m**\u001b[0m\u001b[0;34m{\u001b[0m\u001b[0maxis_name\u001b[0m\u001b[0;34m:\u001b[0m \u001b[0mnew_axis\u001b[0m\u001b[0;34m}\u001b[0m\u001b[0;34m)\u001b[0m\u001b[0;34m\u001b[0m\u001b[0;34m\u001b[0m\u001b[0m\n\u001b[1;32m   4187\u001b[0m \u001b[0;34m\u001b[0m\u001b[0m\n",
      "\u001b[0;32m/opt/conda/lib/python3.7/site-packages/pandas/core/indexes/base.py\u001b[0m in \u001b[0;36mdrop\u001b[0;34m(self, labels, errors)\u001b[0m\n\u001b[1;32m   6015\u001b[0m         \u001b[0;32mif\u001b[0m \u001b[0mmask\u001b[0m\u001b[0;34m.\u001b[0m\u001b[0many\u001b[0m\u001b[0;34m(\u001b[0m\u001b[0;34m)\u001b[0m\u001b[0;34m:\u001b[0m\u001b[0;34m\u001b[0m\u001b[0;34m\u001b[0m\u001b[0m\n\u001b[1;32m   6016\u001b[0m             \u001b[0;32mif\u001b[0m \u001b[0merrors\u001b[0m \u001b[0;34m!=\u001b[0m \u001b[0;34m\"ignore\"\u001b[0m\u001b[0;34m:\u001b[0m\u001b[0;34m\u001b[0m\u001b[0;34m\u001b[0m\u001b[0m\n\u001b[0;32m-> 6017\u001b[0;31m                 \u001b[0;32mraise\u001b[0m \u001b[0mKeyError\u001b[0m\u001b[0;34m(\u001b[0m\u001b[0;34mf\"{labels[mask]} not found in axis\"\u001b[0m\u001b[0;34m)\u001b[0m\u001b[0;34m\u001b[0m\u001b[0;34m\u001b[0m\u001b[0m\n\u001b[0m\u001b[1;32m   6018\u001b[0m             \u001b[0mindexer\u001b[0m \u001b[0;34m=\u001b[0m \u001b[0mindexer\u001b[0m\u001b[0;34m[\u001b[0m\u001b[0;34m~\u001b[0m\u001b[0mmask\u001b[0m\u001b[0;34m]\u001b[0m\u001b[0;34m\u001b[0m\u001b[0;34m\u001b[0m\u001b[0m\n\u001b[1;32m   6019\u001b[0m         \u001b[0;32mreturn\u001b[0m \u001b[0mself\u001b[0m\u001b[0;34m.\u001b[0m\u001b[0mdelete\u001b[0m\u001b[0;34m(\u001b[0m\u001b[0mindexer\u001b[0m\u001b[0;34m)\u001b[0m\u001b[0;34m\u001b[0m\u001b[0;34m\u001b[0m\u001b[0m\n",
      "\u001b[0;31mKeyError\u001b[0m: \"['first_day_of_month' 'row_id' 'county' 'state'] not found in axis\""
     ]
    }
   ],
   "source": [
    "df.drop([\"first_day_of_month\",\"row_id\",\"county\",\"state\"],axis=1,inplace=True)"
   ]
  },
  {
   "cell_type": "code",
   "execution_count": 43,
   "metadata": {
    "execution": {
     "iopub.execute_input": "2023-01-24T14:48:27.241133Z",
     "iopub.status.busy": "2023-01-24T14:48:27.240756Z",
     "iopub.status.idle": "2023-01-24T14:48:27.256892Z",
     "shell.execute_reply": "2023-01-24T14:48:27.255709Z",
     "shell.execute_reply.started": "2023-01-24T14:48:27.241101Z"
    }
   },
   "outputs": [
    {
     "name": "stdout",
     "output_type": "stream",
     "text": [
      "<class 'pandas.core.frame.DataFrame'>\n",
      "RangeIndex: 122265 entries, 0 to 122264\n",
      "Data columns (total 5 columns):\n",
      " #   Column                 Non-Null Count   Dtype  \n",
      "---  ------                 --------------   -----  \n",
      " 0   cfips                  122265 non-null  int64  \n",
      " 1   microbusiness_density  122265 non-null  float64\n",
      " 2   active                 122265 non-null  int64  \n",
      " 3   month                  122265 non-null  int64  \n",
      " 4   year                   122265 non-null  int64  \n",
      "dtypes: float64(1), int64(4)\n",
      "memory usage: 4.7 MB\n"
     ]
    }
   ],
   "source": [
    "df.info()"
   ]
  },
  {
   "cell_type": "code",
   "execution_count": 31,
   "metadata": {
    "execution": {
     "iopub.execute_input": "2023-01-24T14:43:28.510236Z",
     "iopub.status.busy": "2023-01-24T14:43:28.509090Z",
     "iopub.status.idle": "2023-01-24T14:43:29.664280Z",
     "shell.execute_reply": "2023-01-24T14:43:29.663206Z",
     "shell.execute_reply.started": "2023-01-24T14:43:28.510165Z"
    }
   },
   "outputs": [],
   "source": [
    "#df=pd.get_dummies(df,drop_first=True)"
   ]
  },
  {
   "cell_type": "markdown",
   "metadata": {},
   "source": [
    "**The third dataset related this project is below.**"
   ]
  },
  {
   "cell_type": "code",
   "execution_count": 105,
   "metadata": {
    "execution": {
     "iopub.execute_input": "2023-01-24T15:08:03.005002Z",
     "iopub.status.busy": "2023-01-24T15:08:03.004581Z",
     "iopub.status.idle": "2023-01-24T15:08:03.022249Z",
     "shell.execute_reply": "2023-01-24T15:08:03.021089Z",
     "shell.execute_reply.started": "2023-01-24T15:08:03.004966Z"
    }
   },
   "outputs": [],
   "source": [
    "census_starter_df =pd.read_csv(\"/kaggle/input/godaddy-microbusiness-density-forecasting/census_starter.csv\")"
   ]
  },
  {
   "cell_type": "code",
   "execution_count": 106,
   "metadata": {
    "execution": {
     "iopub.execute_input": "2023-01-24T15:08:05.276820Z",
     "iopub.status.busy": "2023-01-24T15:08:05.276067Z",
     "iopub.status.idle": "2023-01-24T15:08:05.310599Z",
     "shell.execute_reply": "2023-01-24T15:08:05.309391Z",
     "shell.execute_reply.started": "2023-01-24T15:08:05.276780Z"
    }
   },
   "outputs": [
    {
     "data": {
      "text/html": [
       "<div>\n",
       "<style scoped>\n",
       "    .dataframe tbody tr th:only-of-type {\n",
       "        vertical-align: middle;\n",
       "    }\n",
       "\n",
       "    .dataframe tbody tr th {\n",
       "        vertical-align: top;\n",
       "    }\n",
       "\n",
       "    .dataframe thead th {\n",
       "        text-align: right;\n",
       "    }\n",
       "</style>\n",
       "<table border=\"1\" class=\"dataframe\">\n",
       "  <thead>\n",
       "    <tr style=\"text-align: right;\">\n",
       "      <th></th>\n",
       "      <th>pct_bb_2017</th>\n",
       "      <th>pct_bb_2018</th>\n",
       "      <th>pct_bb_2019</th>\n",
       "      <th>pct_bb_2020</th>\n",
       "      <th>pct_bb_2021</th>\n",
       "      <th>cfips</th>\n",
       "      <th>pct_college_2017</th>\n",
       "      <th>pct_college_2018</th>\n",
       "      <th>pct_college_2019</th>\n",
       "      <th>pct_college_2020</th>\n",
       "      <th>...</th>\n",
       "      <th>pct_it_workers_2017</th>\n",
       "      <th>pct_it_workers_2018</th>\n",
       "      <th>pct_it_workers_2019</th>\n",
       "      <th>pct_it_workers_2020</th>\n",
       "      <th>pct_it_workers_2021</th>\n",
       "      <th>median_hh_inc_2017</th>\n",
       "      <th>median_hh_inc_2018</th>\n",
       "      <th>median_hh_inc_2019</th>\n",
       "      <th>median_hh_inc_2020</th>\n",
       "      <th>median_hh_inc_2021</th>\n",
       "    </tr>\n",
       "  </thead>\n",
       "  <tbody>\n",
       "    <tr>\n",
       "      <th>0</th>\n",
       "      <td>76.6</td>\n",
       "      <td>78.9</td>\n",
       "      <td>80.6</td>\n",
       "      <td>82.7</td>\n",
       "      <td>85.5</td>\n",
       "      <td>1001</td>\n",
       "      <td>14.5</td>\n",
       "      <td>15.9</td>\n",
       "      <td>16.1</td>\n",
       "      <td>16.7</td>\n",
       "      <td>...</td>\n",
       "      <td>1.3</td>\n",
       "      <td>1.1</td>\n",
       "      <td>0.7</td>\n",
       "      <td>0.6</td>\n",
       "      <td>1.1</td>\n",
       "      <td>55317</td>\n",
       "      <td>58786.0</td>\n",
       "      <td>58731</td>\n",
       "      <td>57982.0</td>\n",
       "      <td>62660.0</td>\n",
       "    </tr>\n",
       "    <tr>\n",
       "      <th>1</th>\n",
       "      <td>74.5</td>\n",
       "      <td>78.1</td>\n",
       "      <td>81.8</td>\n",
       "      <td>85.1</td>\n",
       "      <td>87.9</td>\n",
       "      <td>1003</td>\n",
       "      <td>20.4</td>\n",
       "      <td>20.7</td>\n",
       "      <td>21.0</td>\n",
       "      <td>20.2</td>\n",
       "      <td>...</td>\n",
       "      <td>1.4</td>\n",
       "      <td>1.3</td>\n",
       "      <td>1.4</td>\n",
       "      <td>1.0</td>\n",
       "      <td>1.3</td>\n",
       "      <td>52562</td>\n",
       "      <td>55962.0</td>\n",
       "      <td>58320</td>\n",
       "      <td>61756.0</td>\n",
       "      <td>64346.0</td>\n",
       "    </tr>\n",
       "    <tr>\n",
       "      <th>2</th>\n",
       "      <td>57.2</td>\n",
       "      <td>60.4</td>\n",
       "      <td>60.5</td>\n",
       "      <td>64.6</td>\n",
       "      <td>64.6</td>\n",
       "      <td>1005</td>\n",
       "      <td>7.6</td>\n",
       "      <td>7.8</td>\n",
       "      <td>7.6</td>\n",
       "      <td>7.3</td>\n",
       "      <td>...</td>\n",
       "      <td>0.5</td>\n",
       "      <td>0.3</td>\n",
       "      <td>0.8</td>\n",
       "      <td>1.1</td>\n",
       "      <td>0.8</td>\n",
       "      <td>33368</td>\n",
       "      <td>34186.0</td>\n",
       "      <td>32525</td>\n",
       "      <td>34990.0</td>\n",
       "      <td>36422.0</td>\n",
       "    </tr>\n",
       "    <tr>\n",
       "      <th>3</th>\n",
       "      <td>62.0</td>\n",
       "      <td>66.1</td>\n",
       "      <td>69.2</td>\n",
       "      <td>76.1</td>\n",
       "      <td>74.6</td>\n",
       "      <td>1007</td>\n",
       "      <td>8.1</td>\n",
       "      <td>7.6</td>\n",
       "      <td>6.5</td>\n",
       "      <td>7.4</td>\n",
       "      <td>...</td>\n",
       "      <td>1.2</td>\n",
       "      <td>1.4</td>\n",
       "      <td>1.6</td>\n",
       "      <td>1.7</td>\n",
       "      <td>2.1</td>\n",
       "      <td>43404</td>\n",
       "      <td>45340.0</td>\n",
       "      <td>47542</td>\n",
       "      <td>51721.0</td>\n",
       "      <td>54277.0</td>\n",
       "    </tr>\n",
       "    <tr>\n",
       "      <th>4</th>\n",
       "      <td>65.8</td>\n",
       "      <td>68.5</td>\n",
       "      <td>73.0</td>\n",
       "      <td>79.6</td>\n",
       "      <td>81.0</td>\n",
       "      <td>1009</td>\n",
       "      <td>8.7</td>\n",
       "      <td>8.1</td>\n",
       "      <td>8.6</td>\n",
       "      <td>8.9</td>\n",
       "      <td>...</td>\n",
       "      <td>1.3</td>\n",
       "      <td>1.4</td>\n",
       "      <td>0.9</td>\n",
       "      <td>1.1</td>\n",
       "      <td>0.9</td>\n",
       "      <td>47412</td>\n",
       "      <td>48695.0</td>\n",
       "      <td>49358</td>\n",
       "      <td>48922.0</td>\n",
       "      <td>52830.0</td>\n",
       "    </tr>\n",
       "  </tbody>\n",
       "</table>\n",
       "<p>5 rows × 26 columns</p>\n",
       "</div>"
      ],
      "text/plain": [
       "   pct_bb_2017  pct_bb_2018  pct_bb_2019  pct_bb_2020  pct_bb_2021  cfips  \\\n",
       "0         76.6         78.9         80.6         82.7         85.5   1001   \n",
       "1         74.5         78.1         81.8         85.1         87.9   1003   \n",
       "2         57.2         60.4         60.5         64.6         64.6   1005   \n",
       "3         62.0         66.1         69.2         76.1         74.6   1007   \n",
       "4         65.8         68.5         73.0         79.6         81.0   1009   \n",
       "\n",
       "   pct_college_2017  pct_college_2018  pct_college_2019  pct_college_2020  \\\n",
       "0              14.5              15.9              16.1              16.7   \n",
       "1              20.4              20.7              21.0              20.2   \n",
       "2               7.6               7.8               7.6               7.3   \n",
       "3               8.1               7.6               6.5               7.4   \n",
       "4               8.7               8.1               8.6               8.9   \n",
       "\n",
       "   ...  pct_it_workers_2017  pct_it_workers_2018  pct_it_workers_2019  \\\n",
       "0  ...                  1.3                  1.1                  0.7   \n",
       "1  ...                  1.4                  1.3                  1.4   \n",
       "2  ...                  0.5                  0.3                  0.8   \n",
       "3  ...                  1.2                  1.4                  1.6   \n",
       "4  ...                  1.3                  1.4                  0.9   \n",
       "\n",
       "   pct_it_workers_2020  pct_it_workers_2021  median_hh_inc_2017  \\\n",
       "0                  0.6                  1.1               55317   \n",
       "1                  1.0                  1.3               52562   \n",
       "2                  1.1                  0.8               33368   \n",
       "3                  1.7                  2.1               43404   \n",
       "4                  1.1                  0.9               47412   \n",
       "\n",
       "   median_hh_inc_2018  median_hh_inc_2019  median_hh_inc_2020  \\\n",
       "0             58786.0               58731             57982.0   \n",
       "1             55962.0               58320             61756.0   \n",
       "2             34186.0               32525             34990.0   \n",
       "3             45340.0               47542             51721.0   \n",
       "4             48695.0               49358             48922.0   \n",
       "\n",
       "   median_hh_inc_2021  \n",
       "0             62660.0  \n",
       "1             64346.0  \n",
       "2             36422.0  \n",
       "3             54277.0  \n",
       "4             52830.0  \n",
       "\n",
       "[5 rows x 26 columns]"
      ]
     },
     "execution_count": 106,
     "metadata": {},
     "output_type": "execute_result"
    }
   ],
   "source": [
    "census_starter_df.head()"
   ]
  },
  {
   "cell_type": "code",
   "execution_count": 107,
   "metadata": {
    "execution": {
     "iopub.execute_input": "2023-01-24T15:08:07.821098Z",
     "iopub.status.busy": "2023-01-24T15:08:07.820029Z",
     "iopub.status.idle": "2023-01-24T15:08:07.866583Z",
     "shell.execute_reply": "2023-01-24T15:08:07.865393Z",
     "shell.execute_reply.started": "2023-01-24T15:08:07.821052Z"
    }
   },
   "outputs": [
    {
     "data": {
      "text/html": [
       "<div>\n",
       "<style scoped>\n",
       "    .dataframe tbody tr th:only-of-type {\n",
       "        vertical-align: middle;\n",
       "    }\n",
       "\n",
       "    .dataframe tbody tr th {\n",
       "        vertical-align: top;\n",
       "    }\n",
       "\n",
       "    .dataframe thead th {\n",
       "        text-align: right;\n",
       "    }\n",
       "</style>\n",
       "<table border=\"1\" class=\"dataframe\">\n",
       "  <thead>\n",
       "    <tr style=\"text-align: right;\">\n",
       "      <th></th>\n",
       "      <th>pct_bb_2017</th>\n",
       "      <th>pct_bb_2018</th>\n",
       "      <th>pct_bb_2019</th>\n",
       "      <th>pct_bb_2020</th>\n",
       "      <th>pct_bb_2021</th>\n",
       "      <th>cfips</th>\n",
       "      <th>pct_college_2017</th>\n",
       "      <th>pct_college_2018</th>\n",
       "      <th>pct_college_2019</th>\n",
       "      <th>pct_college_2020</th>\n",
       "      <th>...</th>\n",
       "      <th>pct_it_workers_2017</th>\n",
       "      <th>pct_it_workers_2018</th>\n",
       "      <th>pct_it_workers_2019</th>\n",
       "      <th>pct_it_workers_2020</th>\n",
       "      <th>pct_it_workers_2021</th>\n",
       "      <th>median_hh_inc_2017</th>\n",
       "      <th>median_hh_inc_2018</th>\n",
       "      <th>median_hh_inc_2019</th>\n",
       "      <th>median_hh_inc_2020</th>\n",
       "      <th>median_hh_inc_2021</th>\n",
       "    </tr>\n",
       "  </thead>\n",
       "  <tbody>\n",
       "    <tr>\n",
       "      <th>0</th>\n",
       "      <td>4.351567</td>\n",
       "      <td>4.380776</td>\n",
       "      <td>4.401829</td>\n",
       "      <td>4.427239</td>\n",
       "      <td>4.460144</td>\n",
       "      <td>1001</td>\n",
       "      <td>2.740840</td>\n",
       "      <td>2.827314</td>\n",
       "      <td>2.839078</td>\n",
       "      <td>2.873565</td>\n",
       "      <td>...</td>\n",
       "      <td>0.832909</td>\n",
       "      <td>0.741937</td>\n",
       "      <td>0.530628</td>\n",
       "      <td>0.470004</td>\n",
       "      <td>0.741937</td>\n",
       "      <td>10.920854</td>\n",
       "      <td>10.981676</td>\n",
       "      <td>10.980740</td>\n",
       "      <td>10.967905</td>\n",
       "      <td>11.045495</td>\n",
       "    </tr>\n",
       "    <tr>\n",
       "      <th>1</th>\n",
       "      <td>4.324133</td>\n",
       "      <td>4.370713</td>\n",
       "      <td>4.416428</td>\n",
       "      <td>4.455509</td>\n",
       "      <td>4.487512</td>\n",
       "      <td>1003</td>\n",
       "      <td>3.063391</td>\n",
       "      <td>3.077312</td>\n",
       "      <td>3.091042</td>\n",
       "      <td>3.054001</td>\n",
       "      <td>...</td>\n",
       "      <td>0.875469</td>\n",
       "      <td>0.832909</td>\n",
       "      <td>0.875469</td>\n",
       "      <td>0.693147</td>\n",
       "      <td>0.832909</td>\n",
       "      <td>10.869768</td>\n",
       "      <td>10.932446</td>\n",
       "      <td>10.973718</td>\n",
       "      <td>11.030963</td>\n",
       "      <td>11.072046</td>\n",
       "    </tr>\n",
       "    <tr>\n",
       "      <th>2</th>\n",
       "      <td>4.063885</td>\n",
       "      <td>4.117410</td>\n",
       "      <td>4.119037</td>\n",
       "      <td>4.183576</td>\n",
       "      <td>4.183576</td>\n",
       "      <td>1005</td>\n",
       "      <td>2.151762</td>\n",
       "      <td>2.174752</td>\n",
       "      <td>2.151762</td>\n",
       "      <td>2.116256</td>\n",
       "      <td>...</td>\n",
       "      <td>0.405465</td>\n",
       "      <td>0.262364</td>\n",
       "      <td>0.587787</td>\n",
       "      <td>0.741937</td>\n",
       "      <td>0.587787</td>\n",
       "      <td>10.415383</td>\n",
       "      <td>10.439601</td>\n",
       "      <td>10.389795</td>\n",
       "      <td>10.462846</td>\n",
       "      <td>10.502956</td>\n",
       "    </tr>\n",
       "    <tr>\n",
       "      <th>3</th>\n",
       "      <td>4.143135</td>\n",
       "      <td>4.206184</td>\n",
       "      <td>4.251348</td>\n",
       "      <td>4.345103</td>\n",
       "      <td>4.325456</td>\n",
       "      <td>1007</td>\n",
       "      <td>2.208274</td>\n",
       "      <td>2.151762</td>\n",
       "      <td>2.014903</td>\n",
       "      <td>2.128232</td>\n",
       "      <td>...</td>\n",
       "      <td>0.788457</td>\n",
       "      <td>0.875469</td>\n",
       "      <td>0.955511</td>\n",
       "      <td>0.993252</td>\n",
       "      <td>1.131402</td>\n",
       "      <td>10.678330</td>\n",
       "      <td>10.721967</td>\n",
       "      <td>10.769390</td>\n",
       "      <td>10.853639</td>\n",
       "      <td>10.901874</td>\n",
       "    </tr>\n",
       "    <tr>\n",
       "      <th>4</th>\n",
       "      <td>4.201703</td>\n",
       "      <td>4.241327</td>\n",
       "      <td>4.304065</td>\n",
       "      <td>4.389499</td>\n",
       "      <td>4.406719</td>\n",
       "      <td>1009</td>\n",
       "      <td>2.272126</td>\n",
       "      <td>2.208274</td>\n",
       "      <td>2.261763</td>\n",
       "      <td>2.292535</td>\n",
       "      <td>...</td>\n",
       "      <td>0.832909</td>\n",
       "      <td>0.875469</td>\n",
       "      <td>0.641854</td>\n",
       "      <td>0.741937</td>\n",
       "      <td>0.641854</td>\n",
       "      <td>10.766652</td>\n",
       "      <td>10.793352</td>\n",
       "      <td>10.806875</td>\n",
       "      <td>10.798003</td>\n",
       "      <td>10.874853</td>\n",
       "    </tr>\n",
       "  </tbody>\n",
       "</table>\n",
       "<p>5 rows × 26 columns</p>\n",
       "</div>"
      ],
      "text/plain": [
       "   pct_bb_2017  pct_bb_2018  pct_bb_2019  pct_bb_2020  pct_bb_2021  cfips  \\\n",
       "0     4.351567     4.380776     4.401829     4.427239     4.460144   1001   \n",
       "1     4.324133     4.370713     4.416428     4.455509     4.487512   1003   \n",
       "2     4.063885     4.117410     4.119037     4.183576     4.183576   1005   \n",
       "3     4.143135     4.206184     4.251348     4.345103     4.325456   1007   \n",
       "4     4.201703     4.241327     4.304065     4.389499     4.406719   1009   \n",
       "\n",
       "   pct_college_2017  pct_college_2018  pct_college_2019  pct_college_2020  \\\n",
       "0          2.740840          2.827314          2.839078          2.873565   \n",
       "1          3.063391          3.077312          3.091042          3.054001   \n",
       "2          2.151762          2.174752          2.151762          2.116256   \n",
       "3          2.208274          2.151762          2.014903          2.128232   \n",
       "4          2.272126          2.208274          2.261763          2.292535   \n",
       "\n",
       "   ...  pct_it_workers_2017  pct_it_workers_2018  pct_it_workers_2019  \\\n",
       "0  ...             0.832909             0.741937             0.530628   \n",
       "1  ...             0.875469             0.832909             0.875469   \n",
       "2  ...             0.405465             0.262364             0.587787   \n",
       "3  ...             0.788457             0.875469             0.955511   \n",
       "4  ...             0.832909             0.875469             0.641854   \n",
       "\n",
       "   pct_it_workers_2020  pct_it_workers_2021  median_hh_inc_2017  \\\n",
       "0             0.470004             0.741937           10.920854   \n",
       "1             0.693147             0.832909           10.869768   \n",
       "2             0.741937             0.587787           10.415383   \n",
       "3             0.993252             1.131402           10.678330   \n",
       "4             0.741937             0.641854           10.766652   \n",
       "\n",
       "   median_hh_inc_2018  median_hh_inc_2019  median_hh_inc_2020  \\\n",
       "0           10.981676           10.980740           10.967905   \n",
       "1           10.932446           10.973718           11.030963   \n",
       "2           10.439601           10.389795           10.462846   \n",
       "3           10.721967           10.769390           10.853639   \n",
       "4           10.793352           10.806875           10.798003   \n",
       "\n",
       "   median_hh_inc_2021  \n",
       "0           11.045495  \n",
       "1           11.072046  \n",
       "2           10.502956  \n",
       "3           10.901874  \n",
       "4           10.874853  \n",
       "\n",
       "[5 rows x 26 columns]"
      ]
     },
     "execution_count": 107,
     "metadata": {},
     "output_type": "execute_result"
    }
   ],
   "source": [
    "for i in census_starter_df.columns:\n",
    "    if i == \"cfips\":\n",
    "        pass\n",
    "    else:\n",
    "        census_starter_df[i] = np.log(census_starter_df[i]+1)\n",
    "census_starter_df.head()\n",
    " "
   ]
  },
  {
   "cell_type": "code",
   "execution_count": 108,
   "metadata": {
    "execution": {
     "iopub.execute_input": "2023-01-24T15:08:09.776665Z",
     "iopub.status.busy": "2023-01-24T15:08:09.775855Z",
     "iopub.status.idle": "2023-01-24T15:08:09.852232Z",
     "shell.execute_reply": "2023-01-24T15:08:09.850820Z",
     "shell.execute_reply.started": "2023-01-24T15:08:09.776626Z"
    }
   },
   "outputs": [
    {
     "data": {
      "text/html": [
       "<div>\n",
       "<style scoped>\n",
       "    .dataframe tbody tr th:only-of-type {\n",
       "        vertical-align: middle;\n",
       "    }\n",
       "\n",
       "    .dataframe tbody tr th {\n",
       "        vertical-align: top;\n",
       "    }\n",
       "\n",
       "    .dataframe thead th {\n",
       "        text-align: right;\n",
       "    }\n",
       "</style>\n",
       "<table border=\"1\" class=\"dataframe\">\n",
       "  <thead>\n",
       "    <tr style=\"text-align: right;\">\n",
       "      <th></th>\n",
       "      <th>cfips</th>\n",
       "      <th>microbusiness_density</th>\n",
       "      <th>active</th>\n",
       "      <th>month</th>\n",
       "      <th>year</th>\n",
       "      <th>pct_bb_2017</th>\n",
       "      <th>pct_bb_2018</th>\n",
       "      <th>pct_bb_2019</th>\n",
       "      <th>pct_bb_2020</th>\n",
       "      <th>pct_bb_2021</th>\n",
       "      <th>...</th>\n",
       "      <th>pct_it_workers_2017</th>\n",
       "      <th>pct_it_workers_2018</th>\n",
       "      <th>pct_it_workers_2019</th>\n",
       "      <th>pct_it_workers_2020</th>\n",
       "      <th>pct_it_workers_2021</th>\n",
       "      <th>median_hh_inc_2017</th>\n",
       "      <th>median_hh_inc_2018</th>\n",
       "      <th>median_hh_inc_2019</th>\n",
       "      <th>median_hh_inc_2020</th>\n",
       "      <th>median_hh_inc_2021</th>\n",
       "    </tr>\n",
       "  </thead>\n",
       "  <tbody>\n",
       "    <tr>\n",
       "      <th>0</th>\n",
       "      <td>1001</td>\n",
       "      <td>3.007682</td>\n",
       "      <td>1249</td>\n",
       "      <td>8</td>\n",
       "      <td>2019</td>\n",
       "      <td>4.351567</td>\n",
       "      <td>4.380776</td>\n",
       "      <td>4.401829</td>\n",
       "      <td>4.427239</td>\n",
       "      <td>4.460144</td>\n",
       "      <td>...</td>\n",
       "      <td>0.832909</td>\n",
       "      <td>0.741937</td>\n",
       "      <td>0.530628</td>\n",
       "      <td>0.470004</td>\n",
       "      <td>0.741937</td>\n",
       "      <td>10.920854</td>\n",
       "      <td>10.981676</td>\n",
       "      <td>10.980740</td>\n",
       "      <td>10.967905</td>\n",
       "      <td>11.045495</td>\n",
       "    </tr>\n",
       "    <tr>\n",
       "      <th>1</th>\n",
       "      <td>1001</td>\n",
       "      <td>2.884870</td>\n",
       "      <td>1198</td>\n",
       "      <td>9</td>\n",
       "      <td>2019</td>\n",
       "      <td>4.351567</td>\n",
       "      <td>4.380776</td>\n",
       "      <td>4.401829</td>\n",
       "      <td>4.427239</td>\n",
       "      <td>4.460144</td>\n",
       "      <td>...</td>\n",
       "      <td>0.832909</td>\n",
       "      <td>0.741937</td>\n",
       "      <td>0.530628</td>\n",
       "      <td>0.470004</td>\n",
       "      <td>0.741937</td>\n",
       "      <td>10.920854</td>\n",
       "      <td>10.981676</td>\n",
       "      <td>10.980740</td>\n",
       "      <td>10.967905</td>\n",
       "      <td>11.045495</td>\n",
       "    </tr>\n",
       "    <tr>\n",
       "      <th>2</th>\n",
       "      <td>1001</td>\n",
       "      <td>3.055843</td>\n",
       "      <td>1269</td>\n",
       "      <td>10</td>\n",
       "      <td>2019</td>\n",
       "      <td>4.351567</td>\n",
       "      <td>4.380776</td>\n",
       "      <td>4.401829</td>\n",
       "      <td>4.427239</td>\n",
       "      <td>4.460144</td>\n",
       "      <td>...</td>\n",
       "      <td>0.832909</td>\n",
       "      <td>0.741937</td>\n",
       "      <td>0.530628</td>\n",
       "      <td>0.470004</td>\n",
       "      <td>0.741937</td>\n",
       "      <td>10.920854</td>\n",
       "      <td>10.981676</td>\n",
       "      <td>10.980740</td>\n",
       "      <td>10.967905</td>\n",
       "      <td>11.045495</td>\n",
       "    </tr>\n",
       "    <tr>\n",
       "      <th>3</th>\n",
       "      <td>1001</td>\n",
       "      <td>2.993233</td>\n",
       "      <td>1243</td>\n",
       "      <td>11</td>\n",
       "      <td>2019</td>\n",
       "      <td>4.351567</td>\n",
       "      <td>4.380776</td>\n",
       "      <td>4.401829</td>\n",
       "      <td>4.427239</td>\n",
       "      <td>4.460144</td>\n",
       "      <td>...</td>\n",
       "      <td>0.832909</td>\n",
       "      <td>0.741937</td>\n",
       "      <td>0.530628</td>\n",
       "      <td>0.470004</td>\n",
       "      <td>0.741937</td>\n",
       "      <td>10.920854</td>\n",
       "      <td>10.981676</td>\n",
       "      <td>10.980740</td>\n",
       "      <td>10.967905</td>\n",
       "      <td>11.045495</td>\n",
       "    </tr>\n",
       "    <tr>\n",
       "      <th>4</th>\n",
       "      <td>1001</td>\n",
       "      <td>2.993233</td>\n",
       "      <td>1243</td>\n",
       "      <td>12</td>\n",
       "      <td>2019</td>\n",
       "      <td>4.351567</td>\n",
       "      <td>4.380776</td>\n",
       "      <td>4.401829</td>\n",
       "      <td>4.427239</td>\n",
       "      <td>4.460144</td>\n",
       "      <td>...</td>\n",
       "      <td>0.832909</td>\n",
       "      <td>0.741937</td>\n",
       "      <td>0.530628</td>\n",
       "      <td>0.470004</td>\n",
       "      <td>0.741937</td>\n",
       "      <td>10.920854</td>\n",
       "      <td>10.981676</td>\n",
       "      <td>10.980740</td>\n",
       "      <td>10.967905</td>\n",
       "      <td>11.045495</td>\n",
       "    </tr>\n",
       "    <tr>\n",
       "      <th>...</th>\n",
       "      <td>...</td>\n",
       "      <td>...</td>\n",
       "      <td>...</td>\n",
       "      <td>...</td>\n",
       "      <td>...</td>\n",
       "      <td>...</td>\n",
       "      <td>...</td>\n",
       "      <td>...</td>\n",
       "      <td>...</td>\n",
       "      <td>...</td>\n",
       "      <td>...</td>\n",
       "      <td>...</td>\n",
       "      <td>...</td>\n",
       "      <td>...</td>\n",
       "      <td>...</td>\n",
       "      <td>...</td>\n",
       "      <td>...</td>\n",
       "      <td>...</td>\n",
       "      <td>...</td>\n",
       "      <td>...</td>\n",
       "      <td>...</td>\n",
       "    </tr>\n",
       "    <tr>\n",
       "      <th>122260</th>\n",
       "      <td>56045</td>\n",
       "      <td>1.803249</td>\n",
       "      <td>101</td>\n",
       "      <td>6</td>\n",
       "      <td>2022</td>\n",
       "      <td>4.278054</td>\n",
       "      <td>4.308111</td>\n",
       "      <td>4.354141</td>\n",
       "      <td>4.390739</td>\n",
       "      <td>4.410371</td>\n",
       "      <td>...</td>\n",
       "      <td>0.470004</td>\n",
       "      <td>0.470004</td>\n",
       "      <td>0.000000</td>\n",
       "      <td>0.000000</td>\n",
       "      <td>0.000000</td>\n",
       "      <td>10.995512</td>\n",
       "      <td>10.875554</td>\n",
       "      <td>10.951368</td>\n",
       "      <td>10.884329</td>\n",
       "      <td>11.090828</td>\n",
       "    </tr>\n",
       "    <tr>\n",
       "      <th>122261</th>\n",
       "      <td>56045</td>\n",
       "      <td>1.803249</td>\n",
       "      <td>101</td>\n",
       "      <td>7</td>\n",
       "      <td>2022</td>\n",
       "      <td>4.278054</td>\n",
       "      <td>4.308111</td>\n",
       "      <td>4.354141</td>\n",
       "      <td>4.390739</td>\n",
       "      <td>4.410371</td>\n",
       "      <td>...</td>\n",
       "      <td>0.470004</td>\n",
       "      <td>0.470004</td>\n",
       "      <td>0.000000</td>\n",
       "      <td>0.000000</td>\n",
       "      <td>0.000000</td>\n",
       "      <td>10.995512</td>\n",
       "      <td>10.875554</td>\n",
       "      <td>10.951368</td>\n",
       "      <td>10.884329</td>\n",
       "      <td>11.090828</td>\n",
       "    </tr>\n",
       "    <tr>\n",
       "      <th>122262</th>\n",
       "      <td>56045</td>\n",
       "      <td>1.785395</td>\n",
       "      <td>100</td>\n",
       "      <td>8</td>\n",
       "      <td>2022</td>\n",
       "      <td>4.278054</td>\n",
       "      <td>4.308111</td>\n",
       "      <td>4.354141</td>\n",
       "      <td>4.390739</td>\n",
       "      <td>4.410371</td>\n",
       "      <td>...</td>\n",
       "      <td>0.470004</td>\n",
       "      <td>0.470004</td>\n",
       "      <td>0.000000</td>\n",
       "      <td>0.000000</td>\n",
       "      <td>0.000000</td>\n",
       "      <td>10.995512</td>\n",
       "      <td>10.875554</td>\n",
       "      <td>10.951368</td>\n",
       "      <td>10.884329</td>\n",
       "      <td>11.090828</td>\n",
       "    </tr>\n",
       "    <tr>\n",
       "      <th>122263</th>\n",
       "      <td>56045</td>\n",
       "      <td>1.785395</td>\n",
       "      <td>100</td>\n",
       "      <td>9</td>\n",
       "      <td>2022</td>\n",
       "      <td>4.278054</td>\n",
       "      <td>4.308111</td>\n",
       "      <td>4.354141</td>\n",
       "      <td>4.390739</td>\n",
       "      <td>4.410371</td>\n",
       "      <td>...</td>\n",
       "      <td>0.470004</td>\n",
       "      <td>0.470004</td>\n",
       "      <td>0.000000</td>\n",
       "      <td>0.000000</td>\n",
       "      <td>0.000000</td>\n",
       "      <td>10.995512</td>\n",
       "      <td>10.875554</td>\n",
       "      <td>10.951368</td>\n",
       "      <td>10.884329</td>\n",
       "      <td>11.090828</td>\n",
       "    </tr>\n",
       "    <tr>\n",
       "      <th>122264</th>\n",
       "      <td>56045</td>\n",
       "      <td>1.785395</td>\n",
       "      <td>100</td>\n",
       "      <td>10</td>\n",
       "      <td>2022</td>\n",
       "      <td>4.278054</td>\n",
       "      <td>4.308111</td>\n",
       "      <td>4.354141</td>\n",
       "      <td>4.390739</td>\n",
       "      <td>4.410371</td>\n",
       "      <td>...</td>\n",
       "      <td>0.470004</td>\n",
       "      <td>0.470004</td>\n",
       "      <td>0.000000</td>\n",
       "      <td>0.000000</td>\n",
       "      <td>0.000000</td>\n",
       "      <td>10.995512</td>\n",
       "      <td>10.875554</td>\n",
       "      <td>10.951368</td>\n",
       "      <td>10.884329</td>\n",
       "      <td>11.090828</td>\n",
       "    </tr>\n",
       "  </tbody>\n",
       "</table>\n",
       "<p>122265 rows × 30 columns</p>\n",
       "</div>"
      ],
      "text/plain": [
       "        cfips  microbusiness_density  active  month  year  pct_bb_2017  \\\n",
       "0        1001               3.007682    1249      8  2019     4.351567   \n",
       "1        1001               2.884870    1198      9  2019     4.351567   \n",
       "2        1001               3.055843    1269     10  2019     4.351567   \n",
       "3        1001               2.993233    1243     11  2019     4.351567   \n",
       "4        1001               2.993233    1243     12  2019     4.351567   \n",
       "...       ...                    ...     ...    ...   ...          ...   \n",
       "122260  56045               1.803249     101      6  2022     4.278054   \n",
       "122261  56045               1.803249     101      7  2022     4.278054   \n",
       "122262  56045               1.785395     100      8  2022     4.278054   \n",
       "122263  56045               1.785395     100      9  2022     4.278054   \n",
       "122264  56045               1.785395     100     10  2022     4.278054   \n",
       "\n",
       "        pct_bb_2018  pct_bb_2019  pct_bb_2020  pct_bb_2021  ...  \\\n",
       "0          4.380776     4.401829     4.427239     4.460144  ...   \n",
       "1          4.380776     4.401829     4.427239     4.460144  ...   \n",
       "2          4.380776     4.401829     4.427239     4.460144  ...   \n",
       "3          4.380776     4.401829     4.427239     4.460144  ...   \n",
       "4          4.380776     4.401829     4.427239     4.460144  ...   \n",
       "...             ...          ...          ...          ...  ...   \n",
       "122260     4.308111     4.354141     4.390739     4.410371  ...   \n",
       "122261     4.308111     4.354141     4.390739     4.410371  ...   \n",
       "122262     4.308111     4.354141     4.390739     4.410371  ...   \n",
       "122263     4.308111     4.354141     4.390739     4.410371  ...   \n",
       "122264     4.308111     4.354141     4.390739     4.410371  ...   \n",
       "\n",
       "        pct_it_workers_2017  pct_it_workers_2018  pct_it_workers_2019  \\\n",
       "0                  0.832909             0.741937             0.530628   \n",
       "1                  0.832909             0.741937             0.530628   \n",
       "2                  0.832909             0.741937             0.530628   \n",
       "3                  0.832909             0.741937             0.530628   \n",
       "4                  0.832909             0.741937             0.530628   \n",
       "...                     ...                  ...                  ...   \n",
       "122260             0.470004             0.470004             0.000000   \n",
       "122261             0.470004             0.470004             0.000000   \n",
       "122262             0.470004             0.470004             0.000000   \n",
       "122263             0.470004             0.470004             0.000000   \n",
       "122264             0.470004             0.470004             0.000000   \n",
       "\n",
       "        pct_it_workers_2020  pct_it_workers_2021  median_hh_inc_2017  \\\n",
       "0                  0.470004             0.741937           10.920854   \n",
       "1                  0.470004             0.741937           10.920854   \n",
       "2                  0.470004             0.741937           10.920854   \n",
       "3                  0.470004             0.741937           10.920854   \n",
       "4                  0.470004             0.741937           10.920854   \n",
       "...                     ...                  ...                 ...   \n",
       "122260             0.000000             0.000000           10.995512   \n",
       "122261             0.000000             0.000000           10.995512   \n",
       "122262             0.000000             0.000000           10.995512   \n",
       "122263             0.000000             0.000000           10.995512   \n",
       "122264             0.000000             0.000000           10.995512   \n",
       "\n",
       "        median_hh_inc_2018  median_hh_inc_2019  median_hh_inc_2020  \\\n",
       "0                10.981676           10.980740           10.967905   \n",
       "1                10.981676           10.980740           10.967905   \n",
       "2                10.981676           10.980740           10.967905   \n",
       "3                10.981676           10.980740           10.967905   \n",
       "4                10.981676           10.980740           10.967905   \n",
       "...                    ...                 ...                 ...   \n",
       "122260           10.875554           10.951368           10.884329   \n",
       "122261           10.875554           10.951368           10.884329   \n",
       "122262           10.875554           10.951368           10.884329   \n",
       "122263           10.875554           10.951368           10.884329   \n",
       "122264           10.875554           10.951368           10.884329   \n",
       "\n",
       "        median_hh_inc_2021  \n",
       "0                11.045495  \n",
       "1                11.045495  \n",
       "2                11.045495  \n",
       "3                11.045495  \n",
       "4                11.045495  \n",
       "...                    ...  \n",
       "122260           11.090828  \n",
       "122261           11.090828  \n",
       "122262           11.090828  \n",
       "122263           11.090828  \n",
       "122264           11.090828  \n",
       "\n",
       "[122265 rows x 30 columns]"
      ]
     },
     "execution_count": 108,
     "metadata": {},
     "output_type": "execute_result"
    }
   ],
   "source": [
    "merged_train_df = pd.merge(df, census_starter_df, how = 'left', on = 'cfips')\n",
    "merged_train_df"
   ]
  },
  {
   "cell_type": "code",
   "execution_count": 110,
   "metadata": {
    "execution": {
     "iopub.execute_input": "2023-01-24T15:08:14.973177Z",
     "iopub.status.busy": "2023-01-24T15:08:14.972798Z",
     "iopub.status.idle": "2023-01-24T15:08:14.989805Z",
     "shell.execute_reply": "2023-01-24T15:08:14.988704Z",
     "shell.execute_reply.started": "2023-01-24T15:08:14.973145Z"
    }
   },
   "outputs": [],
   "source": [
    "merged_train_df=merged_train_df.fillna(0)"
   ]
  },
  {
   "cell_type": "code",
   "execution_count": 111,
   "metadata": {
    "collapsed": true,
    "execution": {
     "iopub.execute_input": "2023-01-24T15:08:19.719360Z",
     "iopub.status.busy": "2023-01-24T15:08:19.718906Z",
     "iopub.status.idle": "2023-01-24T15:08:19.738679Z",
     "shell.execute_reply": "2023-01-24T15:08:19.737429Z",
     "shell.execute_reply.started": "2023-01-24T15:08:19.719322Z"
    },
    "jupyter": {
     "outputs_hidden": true
    }
   },
   "outputs": [
    {
     "data": {
      "text/plain": [
       "cfips                    0\n",
       "microbusiness_density    0\n",
       "active                   0\n",
       "month                    0\n",
       "year                     0\n",
       "pct_bb_2017              0\n",
       "pct_bb_2018              0\n",
       "pct_bb_2019              0\n",
       "pct_bb_2020              0\n",
       "pct_bb_2021              0\n",
       "pct_college_2017         0\n",
       "pct_college_2018         0\n",
       "pct_college_2019         0\n",
       "pct_college_2020         0\n",
       "pct_college_2021         0\n",
       "pct_foreign_born_2017    0\n",
       "pct_foreign_born_2018    0\n",
       "pct_foreign_born_2019    0\n",
       "pct_foreign_born_2020    0\n",
       "pct_foreign_born_2021    0\n",
       "pct_it_workers_2017      0\n",
       "pct_it_workers_2018      0\n",
       "pct_it_workers_2019      0\n",
       "pct_it_workers_2020      0\n",
       "pct_it_workers_2021      0\n",
       "median_hh_inc_2017       0\n",
       "median_hh_inc_2018       0\n",
       "median_hh_inc_2019       0\n",
       "median_hh_inc_2020       0\n",
       "median_hh_inc_2021       0\n",
       "dtype: int64"
      ]
     },
     "execution_count": 111,
     "metadata": {},
     "output_type": "execute_result"
    }
   ],
   "source": [
    "merged_train_df.isnull().sum()"
   ]
  },
  {
   "cell_type": "code",
   "execution_count": 80,
   "metadata": {
    "execution": {
     "iopub.execute_input": "2023-01-24T14:59:01.630104Z",
     "iopub.status.busy": "2023-01-24T14:59:01.628836Z",
     "iopub.status.idle": "2023-01-24T14:59:01.654812Z",
     "shell.execute_reply": "2023-01-24T14:59:01.653776Z",
     "shell.execute_reply.started": "2023-01-24T14:59:01.630054Z"
    }
   },
   "outputs": [
    {
     "name": "stdout",
     "output_type": "stream",
     "text": [
      "<class 'pandas.core.frame.DataFrame'>\n",
      "Int64Index: 122265 entries, 0 to 122264\n",
      "Data columns (total 30 columns):\n",
      " #   Column                 Non-Null Count   Dtype  \n",
      "---  ------                 --------------   -----  \n",
      " 0   cfips                  122265 non-null  int64  \n",
      " 1   microbusiness_density  122265 non-null  float64\n",
      " 2   active                 122265 non-null  int64  \n",
      " 3   month                  122265 non-null  int64  \n",
      " 4   year                   122265 non-null  int64  \n",
      " 5   pct_bb_2017            122265 non-null  float64\n",
      " 6   pct_bb_2018            122265 non-null  float64\n",
      " 7   pct_bb_2019            122265 non-null  float64\n",
      " 8   pct_bb_2020            122265 non-null  float64\n",
      " 9   pct_bb_2021            122265 non-null  float64\n",
      " 10  pct_college_2017       122265 non-null  float64\n",
      " 11  pct_college_2018       122265 non-null  float64\n",
      " 12  pct_college_2019       122265 non-null  float64\n",
      " 13  pct_college_2020       122265 non-null  float64\n",
      " 14  pct_college_2021       122265 non-null  float64\n",
      " 15  pct_foreign_born_2017  122265 non-null  float64\n",
      " 16  pct_foreign_born_2018  122265 non-null  float64\n",
      " 17  pct_foreign_born_2019  122265 non-null  float64\n",
      " 18  pct_foreign_born_2020  122265 non-null  float64\n",
      " 19  pct_foreign_born_2021  122265 non-null  float64\n",
      " 20  pct_it_workers_2017    122265 non-null  float64\n",
      " 21  pct_it_workers_2018    122265 non-null  float64\n",
      " 22  pct_it_workers_2019    122265 non-null  float64\n",
      " 23  pct_it_workers_2020    122265 non-null  float64\n",
      " 24  pct_it_workers_2021    122265 non-null  float64\n",
      " 25  median_hh_inc_2017     122265 non-null  float64\n",
      " 26  median_hh_inc_2018     122265 non-null  float64\n",
      " 27  median_hh_inc_2019     122265 non-null  float64\n",
      " 28  median_hh_inc_2020     122265 non-null  float64\n",
      " 29  median_hh_inc_2021     122265 non-null  float64\n",
      "dtypes: float64(26), int64(4)\n",
      "memory usage: 28.9 MB\n"
     ]
    }
   ],
   "source": [
    "merged_train_df.info()"
   ]
  },
  {
   "cell_type": "code",
   "execution_count": 113,
   "metadata": {
    "execution": {
     "iopub.execute_input": "2023-01-24T15:08:33.929787Z",
     "iopub.status.busy": "2023-01-24T15:08:33.929376Z",
     "iopub.status.idle": "2023-01-24T15:08:33.941550Z",
     "shell.execute_reply": "2023-01-24T15:08:33.940138Z",
     "shell.execute_reply.started": "2023-01-24T15:08:33.929752Z"
    }
   },
   "outputs": [],
   "source": [
    "x = merged_train_df.drop(\"microbusiness_density\",axis=1)\n",
    "y = merged_train_df[\"microbusiness_density\"]"
   ]
  },
  {
   "cell_type": "code",
   "execution_count": 87,
   "metadata": {
    "execution": {
     "iopub.execute_input": "2023-01-24T14:59:34.517959Z",
     "iopub.status.busy": "2023-01-24T14:59:34.517572Z",
     "iopub.status.idle": "2023-01-24T14:59:34.554733Z",
     "shell.execute_reply": "2023-01-24T14:59:34.553691Z",
     "shell.execute_reply.started": "2023-01-24T14:59:34.517928Z"
    }
   },
   "outputs": [],
   "source": [
    "#x_train, x_test, y_train, y_test = train_test_split(x,y, test_size=0.20, random_state=42)"
   ]
  },
  {
   "cell_type": "markdown",
   "metadata": {},
   "source": [
    "# Multi Regression"
   ]
  },
  {
   "cell_type": "code",
   "execution_count": 114,
   "metadata": {
    "execution": {
     "iopub.execute_input": "2023-01-24T15:08:39.714035Z",
     "iopub.status.busy": "2023-01-24T15:08:39.713603Z",
     "iopub.status.idle": "2023-01-24T15:08:39.724690Z",
     "shell.execute_reply": "2023-01-24T15:08:39.723453Z",
     "shell.execute_reply.started": "2023-01-24T15:08:39.714000Z"
    }
   },
   "outputs": [],
   "source": [
    "def regression_funct(x,y):\n",
    "    from sklearn.linear_model import LinearRegression\n",
    "    from sklearn.linear_model import Ridge,Lasso\n",
    "    from sklearn.linear_model import ElasticNet\n",
    "    from sklearn.tree import ExtraTreeRegressor\n",
    "    from sklearn.ensemble import GradientBoostingRegressor\n",
    "    from sklearn.neighbors import KNeighborsRegressor\n",
    "    \n",
    "    from sklearn.model_selection import train_test_split\n",
    "\n",
    "    from sklearn.metrics import mean_squared_error,r2_score,mean_absolute_error\n",
    "\n",
    "    L=LinearRegression()\n",
    "    R=Ridge()\n",
    "    Lass=Lasso()\n",
    "    E=ElasticNet()\n",
    "    ExTree=ExtraTreeRegressor()\n",
    "    GBR=GradientBoostingRegressor()\n",
    "    KN=KNeighborsRegressor()\n",
    "    \n",
    "    algos=[L,R,Lass,E,ExTree,GBR,KN]\n",
    "    algo_names=['LinearRegression','Ridge','Lasso','ElasticNet','ExtraTreeRegressor','GradientBoostingRegressor','KNeighborsRegressor']\n",
    "    r_squared=[]\n",
    "    rmse=[]\n",
    "    mae=[]\n",
    "    \n",
    "    result=pd.DataFrame(columns=['R_Squared','RMSE','MAE'],index=algo_names)\n",
    "    \n",
    "    x_train,x_test,y_train,y_test=train_test_split(x,y,test_size=0.2,random_state=42)\n",
    "    \n",
    "    for item in algos:\n",
    "        item.fit(x_train,y_train)\n",
    "        item.predict(x_test)\n",
    "        r_squared.append(r2_score(y_test,item.predict(x_test)))\n",
    "        rmse.append((mean_squared_error(y_test,item.predict(x_test)))**.5)\n",
    "        mae.append(mean_absolute_error(y_test,item.predict(x_test)))\n",
    "        \n",
    "    result.R_Squared=r_squared\n",
    "    result.RMSE=rmse\n",
    "    result.MAE=mae\n",
    "        \n",
    "    return result.sort_values('R_Squared',ascending=False)"
   ]
  },
  {
   "cell_type": "code",
   "execution_count": 115,
   "metadata": {
    "execution": {
     "iopub.execute_input": "2023-01-24T15:08:45.769367Z",
     "iopub.status.busy": "2023-01-24T15:08:45.768951Z",
     "iopub.status.idle": "2023-01-24T15:12:26.664874Z",
     "shell.execute_reply": "2023-01-24T15:12:26.663723Z",
     "shell.execute_reply.started": "2023-01-24T15:08:45.769330Z"
    }
   },
   "outputs": [
    {
     "data": {
      "text/html": [
       "<div>\n",
       "<style scoped>\n",
       "    .dataframe tbody tr th:only-of-type {\n",
       "        vertical-align: middle;\n",
       "    }\n",
       "\n",
       "    .dataframe tbody tr th {\n",
       "        vertical-align: top;\n",
       "    }\n",
       "\n",
       "    .dataframe thead th {\n",
       "        text-align: right;\n",
       "    }\n",
       "</style>\n",
       "<table border=\"1\" class=\"dataframe\">\n",
       "  <thead>\n",
       "    <tr style=\"text-align: right;\">\n",
       "      <th></th>\n",
       "      <th>R_Squared</th>\n",
       "      <th>RMSE</th>\n",
       "      <th>MAE</th>\n",
       "    </tr>\n",
       "  </thead>\n",
       "  <tbody>\n",
       "    <tr>\n",
       "      <th>ExtraTreeRegressor</th>\n",
       "      <td>0.998531</td>\n",
       "      <td>0.186256</td>\n",
       "      <td>0.033750</td>\n",
       "    </tr>\n",
       "    <tr>\n",
       "      <th>KNeighborsRegressor</th>\n",
       "      <td>0.787014</td>\n",
       "      <td>2.242878</td>\n",
       "      <td>0.318488</td>\n",
       "    </tr>\n",
       "    <tr>\n",
       "      <th>GradientBoostingRegressor</th>\n",
       "      <td>0.773595</td>\n",
       "      <td>2.312452</td>\n",
       "      <td>1.019779</td>\n",
       "    </tr>\n",
       "    <tr>\n",
       "      <th>LinearRegression</th>\n",
       "      <td>0.287813</td>\n",
       "      <td>4.101349</td>\n",
       "      <td>1.602864</td>\n",
       "    </tr>\n",
       "    <tr>\n",
       "      <th>Ridge</th>\n",
       "      <td>0.287801</td>\n",
       "      <td>4.101383</td>\n",
       "      <td>1.602670</td>\n",
       "    </tr>\n",
       "    <tr>\n",
       "      <th>ElasticNet</th>\n",
       "      <td>0.158064</td>\n",
       "      <td>4.459327</td>\n",
       "      <td>1.963278</td>\n",
       "    </tr>\n",
       "    <tr>\n",
       "      <th>Lasso</th>\n",
       "      <td>0.101992</td>\n",
       "      <td>4.605426</td>\n",
       "      <td>2.163075</td>\n",
       "    </tr>\n",
       "  </tbody>\n",
       "</table>\n",
       "</div>"
      ],
      "text/plain": [
       "                           R_Squared      RMSE       MAE\n",
       "ExtraTreeRegressor          0.998531  0.186256  0.033750\n",
       "KNeighborsRegressor         0.787014  2.242878  0.318488\n",
       "GradientBoostingRegressor   0.773595  2.312452  1.019779\n",
       "LinearRegression            0.287813  4.101349  1.602864\n",
       "Ridge                       0.287801  4.101383  1.602670\n",
       "ElasticNet                  0.158064  4.459327  1.963278\n",
       "Lasso                       0.101992  4.605426  2.163075"
      ]
     },
     "execution_count": 115,
     "metadata": {},
     "output_type": "execute_result"
    }
   ],
   "source": [
    "regression_funct(x,y)"
   ]
  },
  {
   "cell_type": "markdown",
   "metadata": {},
   "source": [
    "# Deep Learning"
   ]
  },
  {
   "cell_type": "code",
   "execution_count": 88,
   "metadata": {
    "execution": {
     "iopub.execute_input": "2023-01-24T14:59:36.555592Z",
     "iopub.status.busy": "2023-01-24T14:59:36.555184Z",
     "iopub.status.idle": "2023-01-24T14:59:36.578110Z",
     "shell.execute_reply": "2023-01-24T14:59:36.577246Z",
     "shell.execute_reply.started": "2023-01-24T14:59:36.555561Z"
    }
   },
   "outputs": [],
   "source": [
    "model=Sequential()\n",
    "model.add(Dense(512, activation='relu'))\n",
    "model.add(Dense(512, activation='relu'))\n",
    "model.add(Dense(512, activation='relu'))\n",
    "model.add(Dense(512, activation='relu'))\n",
    "model.add(Dense(512, activation='relu'))\n",
    "model.add(Dense(512, activation='relu'))\n",
    "model.add(Dense(512, activation='relu'))\n",
    "model.add(Dense(1))\n",
    "model.compile(optimizer='Adam', loss='mse')#mse regression"
   ]
  },
  {
   "cell_type": "code",
   "execution_count": 89,
   "metadata": {
    "execution": {
     "iopub.execute_input": "2023-01-24T14:59:40.142782Z",
     "iopub.status.busy": "2023-01-24T14:59:40.142364Z",
     "iopub.status.idle": "2023-01-24T15:02:04.463449Z",
     "shell.execute_reply": "2023-01-24T15:02:04.462231Z",
     "shell.execute_reply.started": "2023-01-24T14:59:40.142746Z"
    }
   },
   "outputs": [
    {
     "name": "stdout",
     "output_type": "stream",
     "text": [
      "Epoch 1/50\n",
      "765/765 [==============================] - 4s 4ms/step - loss: 13335.1182 - val_loss: 19.2104\n",
      "Epoch 2/50\n",
      "765/765 [==============================] - 3s 4ms/step - loss: 33.7089 - val_loss: 17.0439\n",
      "Epoch 3/50\n",
      "765/765 [==============================] - 3s 3ms/step - loss: 34.0348 - val_loss: 21.9382\n",
      "Epoch 4/50\n",
      "765/765 [==============================] - 3s 4ms/step - loss: 25.5096 - val_loss: 16.5921\n",
      "Epoch 5/50\n",
      "765/765 [==============================] - 3s 4ms/step - loss: 19.0759 - val_loss: 16.2611\n",
      "Epoch 6/50\n",
      "765/765 [==============================] - 3s 4ms/step - loss: 18.9140 - val_loss: 15.7381\n",
      "Epoch 7/50\n",
      "765/765 [==============================] - 3s 4ms/step - loss: 56.3009 - val_loss: 16.1484\n",
      "Epoch 8/50\n",
      "765/765 [==============================] - 3s 4ms/step - loss: 17.6330 - val_loss: 16.1690\n",
      "Epoch 9/50\n",
      "765/765 [==============================] - 3s 4ms/step - loss: 17.7824 - val_loss: 16.4943\n",
      "Epoch 10/50\n",
      "765/765 [==============================] - 3s 4ms/step - loss: 18.1470 - val_loss: 15.5749\n",
      "Epoch 11/50\n",
      "765/765 [==============================] - 3s 4ms/step - loss: 20.2406 - val_loss: 18.6938\n",
      "Epoch 12/50\n",
      "765/765 [==============================] - 3s 4ms/step - loss: 69.5386 - val_loss: 15.9879\n",
      "Epoch 13/50\n",
      "765/765 [==============================] - 3s 3ms/step - loss: 18.2940 - val_loss: 16.0399\n",
      "Epoch 14/50\n",
      "765/765 [==============================] - 3s 4ms/step - loss: 19.6364 - val_loss: 15.4775\n",
      "Epoch 15/50\n",
      "765/765 [==============================] - 3s 4ms/step - loss: 18.1313 - val_loss: 16.3304\n",
      "Epoch 16/50\n",
      "765/765 [==============================] - 3s 4ms/step - loss: 17.5512 - val_loss: 15.5481\n",
      "Epoch 17/50\n",
      "765/765 [==============================] - 3s 4ms/step - loss: 18.0240 - val_loss: 16.1663\n",
      "Epoch 18/50\n",
      "765/765 [==============================] - 3s 4ms/step - loss: 18.0916 - val_loss: 16.8306\n",
      "Epoch 19/50\n",
      "765/765 [==============================] - 3s 4ms/step - loss: 17.5866 - val_loss: 15.7276\n",
      "Epoch 20/50\n",
      "765/765 [==============================] - 3s 3ms/step - loss: 17.7969 - val_loss: 17.8382\n",
      "Epoch 21/50\n",
      "765/765 [==============================] - 3s 4ms/step - loss: 18.4386 - val_loss: 16.0185\n",
      "Epoch 22/50\n",
      "765/765 [==============================] - 3s 4ms/step - loss: 18.3980 - val_loss: 15.5078\n",
      "Epoch 23/50\n",
      "765/765 [==============================] - 3s 4ms/step - loss: 17.7019 - val_loss: 15.8310\n",
      "Epoch 24/50\n",
      "765/765 [==============================] - 3s 4ms/step - loss: 17.4813 - val_loss: 15.7315\n",
      "Epoch 25/50\n",
      "765/765 [==============================] - 3s 4ms/step - loss: 17.4717 - val_loss: 17.1009\n",
      "Epoch 26/50\n",
      "765/765 [==============================] - 3s 4ms/step - loss: 17.6686 - val_loss: 17.9227\n",
      "Epoch 27/50\n",
      "765/765 [==============================] - 4s 5ms/step - loss: 17.4607 - val_loss: 15.6412\n",
      "Epoch 28/50\n",
      "765/765 [==============================] - 3s 3ms/step - loss: 17.5969 - val_loss: 16.1856\n",
      "Epoch 29/50\n",
      "765/765 [==============================] - 3s 4ms/step - loss: 17.5220 - val_loss: 15.7849\n",
      "Epoch 30/50\n",
      "765/765 [==============================] - 3s 4ms/step - loss: 17.3292 - val_loss: 15.7680\n",
      "Epoch 31/50\n",
      "765/765 [==============================] - 3s 4ms/step - loss: 17.4234 - val_loss: 15.7554\n",
      "Epoch 32/50\n",
      "765/765 [==============================] - 3s 4ms/step - loss: 17.8531 - val_loss: 15.6894\n",
      "Epoch 33/50\n",
      "765/765 [==============================] - 3s 4ms/step - loss: 17.3817 - val_loss: 15.9985\n",
      "Epoch 34/50\n",
      "765/765 [==============================] - 3s 3ms/step - loss: 17.5225 - val_loss: 15.6227\n",
      "Epoch 35/50\n",
      "765/765 [==============================] - 3s 4ms/step - loss: 17.4135 - val_loss: 15.7180\n",
      "Epoch 36/50\n",
      "765/765 [==============================] - 3s 4ms/step - loss: 17.3454 - val_loss: 15.3718\n",
      "Epoch 37/50\n",
      "765/765 [==============================] - 3s 4ms/step - loss: 17.3341 - val_loss: 15.5146\n",
      "Epoch 38/50\n",
      "765/765 [==============================] - 3s 4ms/step - loss: 17.5998 - val_loss: 15.9567\n",
      "Epoch 39/50\n",
      "765/765 [==============================] - 3s 4ms/step - loss: 17.7104 - val_loss: 15.9406\n",
      "Epoch 40/50\n",
      "765/765 [==============================] - 3s 4ms/step - loss: 17.5197 - val_loss: 15.9271\n",
      "Epoch 41/50\n",
      "765/765 [==============================] - 3s 4ms/step - loss: 17.7874 - val_loss: 16.4582\n",
      "Epoch 42/50\n",
      "765/765 [==============================] - 3s 4ms/step - loss: 17.5932 - val_loss: 15.7131\n",
      "Epoch 43/50\n",
      "765/765 [==============================] - 3s 4ms/step - loss: 17.5212 - val_loss: 15.4024\n",
      "Epoch 44/50\n",
      "765/765 [==============================] - 3s 4ms/step - loss: 17.7933 - val_loss: 15.8853\n",
      "Epoch 45/50\n",
      "765/765 [==============================] - 3s 4ms/step - loss: 17.6772 - val_loss: 15.6255\n",
      "Epoch 46/50\n",
      "765/765 [==============================] - 3s 4ms/step - loss: 17.6592 - val_loss: 16.1907\n",
      "Epoch 47/50\n",
      "765/765 [==============================] - 3s 4ms/step - loss: 17.5082 - val_loss: 15.7825\n",
      "Epoch 48/50\n",
      "765/765 [==============================] - 3s 3ms/step - loss: 17.5690 - val_loss: 16.0794\n",
      "Epoch 49/50\n",
      "765/765 [==============================] - 3s 4ms/step - loss: 17.4181 - val_loss: 15.5867\n",
      "Epoch 50/50\n",
      "765/765 [==============================] - 3s 4ms/step - loss: 17.4959 - val_loss: 15.6682\n"
     ]
    },
    {
     "data": {
      "text/plain": [
       "<keras.callbacks.History at 0x7f2619a633d0>"
      ]
     },
     "execution_count": 89,
     "metadata": {},
     "output_type": "execute_result"
    }
   ],
   "source": [
    "model.fit(x=x_train, y=y_train, validation_data=(x_test, y_test), batch_size=128, epochs=50, verbose=1)"
   ]
  },
  {
   "cell_type": "code",
   "execution_count": 90,
   "metadata": {
    "execution": {
     "iopub.execute_input": "2023-01-24T15:02:38.767740Z",
     "iopub.status.busy": "2023-01-24T15:02:38.766400Z",
     "iopub.status.idle": "2023-01-24T15:02:38.776264Z",
     "shell.execute_reply": "2023-01-24T15:02:38.774668Z",
     "shell.execute_reply.started": "2023-01-24T15:02:38.767685Z"
    }
   },
   "outputs": [
    {
     "name": "stdout",
     "output_type": "stream",
     "text": [
      "Model: \"sequential_4\"\n",
      "_________________________________________________________________\n",
      "Layer (type)                 Output Shape              Param #   \n",
      "=================================================================\n",
      "dense_32 (Dense)             (None, 512)               15360     \n",
      "_________________________________________________________________\n",
      "dense_33 (Dense)             (None, 512)               262656    \n",
      "_________________________________________________________________\n",
      "dense_34 (Dense)             (None, 512)               262656    \n",
      "_________________________________________________________________\n",
      "dense_35 (Dense)             (None, 512)               262656    \n",
      "_________________________________________________________________\n",
      "dense_36 (Dense)             (None, 512)               262656    \n",
      "_________________________________________________________________\n",
      "dense_37 (Dense)             (None, 512)               262656    \n",
      "_________________________________________________________________\n",
      "dense_38 (Dense)             (None, 512)               262656    \n",
      "_________________________________________________________________\n",
      "dense_39 (Dense)             (None, 1)                 513       \n",
      "=================================================================\n",
      "Total params: 1,591,809\n",
      "Trainable params: 1,591,809\n",
      "Non-trainable params: 0\n",
      "_________________________________________________________________\n"
     ]
    }
   ],
   "source": [
    "model.summary()"
   ]
  },
  {
   "cell_type": "code",
   "execution_count": 91,
   "metadata": {
    "execution": {
     "iopub.execute_input": "2023-01-24T15:02:41.713253Z",
     "iopub.status.busy": "2023-01-24T15:02:41.712837Z",
     "iopub.status.idle": "2023-01-24T15:02:42.030570Z",
     "shell.execute_reply": "2023-01-24T15:02:42.029431Z",
     "shell.execute_reply.started": "2023-01-24T15:02:41.713212Z"
    }
   },
   "outputs": [
    {
     "data": {
      "text/plain": [
       "<AxesSubplot:>"
      ]
     },
     "execution_count": 91,
     "metadata": {},
     "output_type": "execute_result"
    },
    {
     "data": {
      "image/png": "[encoded data removed]",
      "text/plain": [
       "<Figure size 864x576 with 1 Axes>"
      ]
     },
     "metadata": {
      "needs_background": "light"
     },
     "output_type": "display_data"
    }
   ],
   "source": [
    "loss_df=pd.DataFrame(model.history.history)\n",
    "loss_df.plot(figsize=(12,8))"
   ]
  },
  {
   "cell_type": "code",
   "execution_count": 19,
   "metadata": {
    "execution": {
     "iopub.execute_input": "2023-01-24T13:09:38.073849Z",
     "iopub.status.busy": "2023-01-24T13:09:38.073501Z",
     "iopub.status.idle": "2023-01-24T13:09:38.078011Z",
     "shell.execute_reply": "2023-01-24T13:09:38.077194Z",
     "shell.execute_reply.started": "2023-01-24T13:09:38.073818Z"
    }
   },
   "outputs": [],
   "source": [
    "#df1.info()"
   ]
  },
  {
   "cell_type": "code",
   "execution_count": 20,
   "metadata": {
    "execution": {
     "iopub.execute_input": "2023-01-24T13:09:38.079855Z",
     "iopub.status.busy": "2023-01-24T13:09:38.079287Z",
     "iopub.status.idle": "2023-01-24T13:09:38.088066Z",
     "shell.execute_reply": "2023-01-24T13:09:38.087133Z",
     "shell.execute_reply.started": "2023-01-24T13:09:38.079827Z"
    }
   },
   "outputs": [],
   "source": [
    "#df1.first_day_of_month = pd.to_datetime(pd.Series(df1.first_day_of_month))\n",
    "#df1[\"month\"]=df1.first_day_of_month.dt.month\n",
    "#df1[\"year\"]=df1.first_day_of_month.dt.year\n",
    "#df1.drop([\"first_day_of_month\",\"row_id\"],axis=1,inplace=True)"
   ]
  },
  {
   "cell_type": "code",
   "execution_count": 21,
   "metadata": {
    "execution": {
     "iopub.execute_input": "2023-01-24T13:09:38.089667Z",
     "iopub.status.busy": "2023-01-24T13:09:38.089320Z",
     "iopub.status.idle": "2023-01-24T13:09:38.098203Z",
     "shell.execute_reply": "2023-01-24T13:09:38.097125Z",
     "shell.execute_reply.started": "2023-01-24T13:09:38.089638Z"
    }
   },
   "outputs": [],
   "source": [
    "#df1=pd.get_dummies(df1,drop_first=True)"
   ]
  },
  {
   "cell_type": "code",
   "execution_count": 92,
   "metadata": {
    "execution": {
     "iopub.execute_input": "2023-01-24T15:02:47.891251Z",
     "iopub.status.busy": "2023-01-24T15:02:47.890809Z",
     "iopub.status.idle": "2023-01-24T15:02:49.296925Z",
     "shell.execute_reply": "2023-01-24T15:02:49.295685Z",
     "shell.execute_reply.started": "2023-01-24T15:02:47.891211Z"
    }
   },
   "outputs": [],
   "source": [
    "pred=model.predict(x_test)"
   ]
  },
  {
   "cell_type": "code",
   "execution_count": 93,
   "metadata": {
    "execution": {
     "iopub.execute_input": "2023-01-24T15:02:51.733428Z",
     "iopub.status.busy": "2023-01-24T15:02:51.732345Z",
     "iopub.status.idle": "2023-01-24T15:02:51.742956Z",
     "shell.execute_reply": "2023-01-24T15:02:51.741625Z",
     "shell.execute_reply.started": "2023-01-24T15:02:51.733378Z"
    }
   },
   "outputs": [
    {
     "data": {
      "text/plain": [
       "3.9583025769029923"
      ]
     },
     "execution_count": 93,
     "metadata": {},
     "output_type": "execute_result"
    }
   ],
   "source": [
    "(mean_squared_error(y_test,pred))**.5"
   ]
  },
  {
   "cell_type": "code",
   "execution_count": 95,
   "metadata": {
    "execution": {
     "iopub.execute_input": "2023-01-24T15:02:59.523971Z",
     "iopub.status.busy": "2023-01-24T15:02:59.523363Z",
     "iopub.status.idle": "2023-01-24T15:02:59.539375Z",
     "shell.execute_reply": "2023-01-24T15:02:59.538259Z",
     "shell.execute_reply.started": "2023-01-24T15:02:59.523923Z"
    }
   },
   "outputs": [
    {
     "data": {
      "text/plain": [
       "0.3366256893740135"
      ]
     },
     "execution_count": 95,
     "metadata": {},
     "output_type": "execute_result"
    }
   ],
   "source": [
    "r2_score(y_test,pred) "
   ]
  }
 ],
 "metadata": {
  "kernelspec": {
   "display_name": "Python 3 (ipykernel)",
   "language": "python",
   "name": "python3"
  },
  "language_info": {
   "codemirror_mode": {
    "name": "ipython",
    "version": 3
   },
   "file_extension": ".py",
   "mimetype": "text/x-python",
   "name": "python",
   "nbconvert_exporter": "python",
   "pygments_lexer": "ipython3",
   "version": "3.11.1"
  }
 },
 "nbformat": 4,
 "nbformat_minor": 4
}
