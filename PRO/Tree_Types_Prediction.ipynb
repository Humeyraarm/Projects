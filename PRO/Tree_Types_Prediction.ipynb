{
 "cells": [
  {
   "cell_type": "markdown",
   "metadata": {
    "id": "FW61TWrmmRdd"
   },
   "source": [
    "# Tree Types Prediction"
   ]
  },
  {
   "cell_type": "markdown",
   "metadata": {
    "id": "AQ48xzNJmRde"
   },
   "source": [
    "👉 Dataset contains tree observations from four areas of one national forest district. This dataset includes information on\n",
    "\n",
    "tree type, shadow coverage, distance to nearby landmarks, soil type, and local topography. The goal of the project is to build a\n",
    "\n",
    "model that predicts what types of trees grow in an area.\n",
    "\n",
    "***The Forest Dataset*** contains approximately 600 thousand lines, also you can easily find many information about it on the\n",
    "\n",
    "Kaggle. [external link text](https://www.kaggle.com/datasets/uciml/forest-cover-type-dataset).\n"
   ]
  },
  {
   "cell_type": "markdown",
   "metadata": {
    "id": "xM6IIFsFmRdi"
   },
   "source": [
    "## 1. Exploratory Data Analysis"
   ]
  },
  {
   "cell_type": "markdown",
   "metadata": {
    "id": "2AcU8rVQovpY"
   },
   "source": [
    "**This part is includes;**\n",
    "\n",
    "- Examine numerical and categorical data\n",
    "- Detect Number of Unique values of each column\n",
    "- Focus on Target Variable (Cover_Type)\n",
    "- Detect relationships and correlations between independent variables and target variable.\n",
    "- Visualize the class frequencies of the target variable.\n",
    "- Detect relationships and correlations between independent variables.\n",
    "- Dropping features may not contribute to the model."
   ]
  },
  {
   "cell_type": "code",
   "execution_count": 66,
   "metadata": {
    "executionInfo": {
     "elapsed": 243,
     "status": "ok",
     "timestamp": 1675267893319,
     "user": {
      "displayName": "Humeyra Armutlu",
      "userId": "12643211298338865125"
     },
     "user_tz": -180
    },
    "id": "4PPEr9Y8mRdk"
   },
   "outputs": [],
   "source": [
    "import pandas as pd\n",
    "import numpy as np\n",
    "import matplotlib.pyplot as plt\n",
    "import seaborn as sns\n",
    "import sklearn\n",
    "from plotly import tools\n",
    "from sklearn import preprocessing\n",
    "from plotly.subplots import make_subplots\n",
    "from sklearn.ensemble import RandomForestClassifier\n",
    "plt.rcParams[\"figure.figsize\"] = (9,5)\n",
    "import warnings\n",
    "warnings.filterwarnings('ignore')\n",
    "pd.set_option('display.max_rows', 100)\n",
    "pd.set_option('display.max_columns', 100)\n",
    "pd.set_option('display.width', 100)"
   ]
  },
  {
   "cell_type": "code",
   "execution_count": 67,
   "metadata": {
    "executionInfo": {
     "elapsed": 1206,
     "status": "ok",
     "timestamp": 1675267895124,
     "user": {
      "displayName": "Humeyra Armutlu",
      "userId": "12643211298338865125"
     },
     "user_tz": -180
    },
    "id": "BxfLt39EmRdo"
   },
   "outputs": [],
   "source": [
    "data = pd.read_csv(\"covtype.csv\")\n",
    "df = data.copy()"
   ]
  },
  {
   "cell_type": "code",
   "execution_count": 68,
   "metadata": {
    "colab": {
     "base_uri": "https://localhost:8080/"
    },
    "executionInfo": {
     "elapsed": 17,
     "status": "ok",
     "timestamp": 1675267895125,
     "user": {
      "displayName": "Humeyra Armutlu",
      "userId": "12643211298338865125"
     },
     "user_tz": -180
    },
    "id": "K77eIlQQmRdq",
    "outputId": "007c8b39-2085-4023-c00d-abb808c6f77a"
   },
   "outputs": [
    {
     "data": {
      "text/plain": [
       "(227132, 55)"
      ]
     },
     "execution_count": 68,
     "metadata": {},
     "output_type": "execute_result"
    }
   ],
   "source": [
    "df.shape"
   ]
  },
  {
   "cell_type": "code",
   "execution_count": 69,
   "metadata": {
    "colab": {
     "base_uri": "https://localhost:8080/",
     "height": 1000
    },
    "executionInfo": {
     "elapsed": 15,
     "status": "ok",
     "timestamp": 1675267895127,
     "user": {
      "displayName": "Humeyra Armutlu",
      "userId": "12643211298338865125"
     },
     "user_tz": -180
    },
    "id": "wdHWU9o3mRds",
    "outputId": "7c8361e5-1732-417e-f767-b6e793f3ef06",
    "scrolled": false
   },
   "outputs": [
    {
     "data": {
      "text/html": [
       "\n",
       "  <div id=\"df-afe3e975-e677-4aa1-b0bb-b9c6344957b5\">\n",
       "    <div class=\"colab-df-container\">\n",
       "      <div>\n",
       "<style scoped>\n",
       "    .dataframe tbody tr th:only-of-type {\n",
       "        vertical-align: middle;\n",
       "    }\n",
       "\n",
       "    .dataframe tbody tr th {\n",
       "        vertical-align: top;\n",
       "    }\n",
       "\n",
       "    .dataframe thead th {\n",
       "        text-align: right;\n",
       "    }\n",
       "</style>\n",
       "<table border=\"1\" class=\"dataframe\">\n",
       "  <thead>\n",
       "    <tr style=\"text-align: right;\">\n",
       "      <th></th>\n",
       "      <th>0</th>\n",
       "      <th>1</th>\n",
       "      <th>2</th>\n",
       "      <th>3</th>\n",
       "      <th>4</th>\n",
       "      <th>5</th>\n",
       "      <th>6</th>\n",
       "      <th>7</th>\n",
       "      <th>8</th>\n",
       "      <th>9</th>\n",
       "      <th>10</th>\n",
       "      <th>11</th>\n",
       "      <th>12</th>\n",
       "      <th>13</th>\n",
       "      <th>14</th>\n",
       "    </tr>\n",
       "  </thead>\n",
       "  <tbody>\n",
       "    <tr>\n",
       "      <th>Elevation</th>\n",
       "      <td>2596.0</td>\n",
       "      <td>2590.0</td>\n",
       "      <td>2804.0</td>\n",
       "      <td>2785.0</td>\n",
       "      <td>2595.0</td>\n",
       "      <td>2579.0</td>\n",
       "      <td>2606.0</td>\n",
       "      <td>2605.0</td>\n",
       "      <td>2617.0</td>\n",
       "      <td>2612.0</td>\n",
       "      <td>2612.0</td>\n",
       "      <td>2886.0</td>\n",
       "      <td>2742.0</td>\n",
       "      <td>2609.0</td>\n",
       "      <td>2503.0</td>\n",
       "    </tr>\n",
       "    <tr>\n",
       "      <th>Aspect</th>\n",
       "      <td>51.0</td>\n",
       "      <td>56.0</td>\n",
       "      <td>139.0</td>\n",
       "      <td>155.0</td>\n",
       "      <td>45.0</td>\n",
       "      <td>132.0</td>\n",
       "      <td>45.0</td>\n",
       "      <td>49.0</td>\n",
       "      <td>45.0</td>\n",
       "      <td>59.0</td>\n",
       "      <td>201.0</td>\n",
       "      <td>151.0</td>\n",
       "      <td>134.0</td>\n",
       "      <td>214.0</td>\n",
       "      <td>157.0</td>\n",
       "    </tr>\n",
       "    <tr>\n",
       "      <th>Slope</th>\n",
       "      <td>3.0</td>\n",
       "      <td>2.0</td>\n",
       "      <td>9.0</td>\n",
       "      <td>18.0</td>\n",
       "      <td>2.0</td>\n",
       "      <td>6.0</td>\n",
       "      <td>7.0</td>\n",
       "      <td>4.0</td>\n",
       "      <td>9.0</td>\n",
       "      <td>10.0</td>\n",
       "      <td>4.0</td>\n",
       "      <td>11.0</td>\n",
       "      <td>22.0</td>\n",
       "      <td>7.0</td>\n",
       "      <td>4.0</td>\n",
       "    </tr>\n",
       "    <tr>\n",
       "      <th>Horizontal_Distance_To_Hydrology</th>\n",
       "      <td>258.0</td>\n",
       "      <td>212.0</td>\n",
       "      <td>268.0</td>\n",
       "      <td>242.0</td>\n",
       "      <td>153.0</td>\n",
       "      <td>300.0</td>\n",
       "      <td>270.0</td>\n",
       "      <td>234.0</td>\n",
       "      <td>240.0</td>\n",
       "      <td>247.0</td>\n",
       "      <td>180.0</td>\n",
       "      <td>371.0</td>\n",
       "      <td>150.0</td>\n",
       "      <td>150.0</td>\n",
       "      <td>67.0</td>\n",
       "    </tr>\n",
       "    <tr>\n",
       "      <th>Vertical_Distance_To_Hydrology</th>\n",
       "      <td>0.0</td>\n",
       "      <td>-6.0</td>\n",
       "      <td>65.0</td>\n",
       "      <td>118.0</td>\n",
       "      <td>-1.0</td>\n",
       "      <td>-15.0</td>\n",
       "      <td>5.0</td>\n",
       "      <td>7.0</td>\n",
       "      <td>56.0</td>\n",
       "      <td>11.0</td>\n",
       "      <td>51.0</td>\n",
       "      <td>26.0</td>\n",
       "      <td>69.0</td>\n",
       "      <td>46.0</td>\n",
       "      <td>4.0</td>\n",
       "    </tr>\n",
       "    <tr>\n",
       "      <th>Horizontal_Distance_To_Roadways</th>\n",
       "      <td>510.0</td>\n",
       "      <td>390.0</td>\n",
       "      <td>3180.0</td>\n",
       "      <td>3090.0</td>\n",
       "      <td>391.0</td>\n",
       "      <td>67.0</td>\n",
       "      <td>633.0</td>\n",
       "      <td>573.0</td>\n",
       "      <td>666.0</td>\n",
       "      <td>636.0</td>\n",
       "      <td>735.0</td>\n",
       "      <td>5253.0</td>\n",
       "      <td>3215.0</td>\n",
       "      <td>771.0</td>\n",
       "      <td>674.0</td>\n",
       "    </tr>\n",
       "    <tr>\n",
       "      <th>Hillshade_9am</th>\n",
       "      <td>221.0</td>\n",
       "      <td>220.0</td>\n",
       "      <td>234.0</td>\n",
       "      <td>238.0</td>\n",
       "      <td>220.0</td>\n",
       "      <td>230.0</td>\n",
       "      <td>222.0</td>\n",
       "      <td>222.0</td>\n",
       "      <td>223.0</td>\n",
       "      <td>228.0</td>\n",
       "      <td>218.0</td>\n",
       "      <td>234.0</td>\n",
       "      <td>248.0</td>\n",
       "      <td>213.0</td>\n",
       "      <td>224.0</td>\n",
       "    </tr>\n",
       "    <tr>\n",
       "      <th>Hillshade_Noon</th>\n",
       "      <td>232.0</td>\n",
       "      <td>235.0</td>\n",
       "      <td>238.0</td>\n",
       "      <td>238.0</td>\n",
       "      <td>234.0</td>\n",
       "      <td>237.0</td>\n",
       "      <td>225.0</td>\n",
       "      <td>230.0</td>\n",
       "      <td>221.0</td>\n",
       "      <td>219.0</td>\n",
       "      <td>243.0</td>\n",
       "      <td>240.0</td>\n",
       "      <td>224.0</td>\n",
       "      <td>247.0</td>\n",
       "      <td>240.0</td>\n",
       "    </tr>\n",
       "    <tr>\n",
       "      <th>Hillshade_3pm</th>\n",
       "      <td>148.0</td>\n",
       "      <td>151.0</td>\n",
       "      <td>135.0</td>\n",
       "      <td>122.0</td>\n",
       "      <td>150.0</td>\n",
       "      <td>140.0</td>\n",
       "      <td>138.0</td>\n",
       "      <td>144.0</td>\n",
       "      <td>133.0</td>\n",
       "      <td>124.0</td>\n",
       "      <td>161.0</td>\n",
       "      <td>136.0</td>\n",
       "      <td>92.0</td>\n",
       "      <td>170.0</td>\n",
       "      <td>151.0</td>\n",
       "    </tr>\n",
       "    <tr>\n",
       "      <th>Horizontal_Distance_To_Fire_Points</th>\n",
       "      <td>6279.0</td>\n",
       "      <td>6225.0</td>\n",
       "      <td>6121.0</td>\n",
       "      <td>6211.0</td>\n",
       "      <td>6172.0</td>\n",
       "      <td>6031.0</td>\n",
       "      <td>6256.0</td>\n",
       "      <td>6228.0</td>\n",
       "      <td>6244.0</td>\n",
       "      <td>6230.0</td>\n",
       "      <td>6222.0</td>\n",
       "      <td>4051.0</td>\n",
       "      <td>6091.0</td>\n",
       "      <td>6211.0</td>\n",
       "      <td>5600.0</td>\n",
       "    </tr>\n",
       "    <tr>\n",
       "      <th>Wilderness_Area1</th>\n",
       "      <td>1.0</td>\n",
       "      <td>1.0</td>\n",
       "      <td>1.0</td>\n",
       "      <td>1.0</td>\n",
       "      <td>1.0</td>\n",
       "      <td>1.0</td>\n",
       "      <td>1.0</td>\n",
       "      <td>1.0</td>\n",
       "      <td>1.0</td>\n",
       "      <td>1.0</td>\n",
       "      <td>1.0</td>\n",
       "      <td>1.0</td>\n",
       "      <td>1.0</td>\n",
       "      <td>1.0</td>\n",
       "      <td>1.0</td>\n",
       "    </tr>\n",
       "    <tr>\n",
       "      <th>Wilderness_Area2</th>\n",
       "      <td>0.0</td>\n",
       "      <td>0.0</td>\n",
       "      <td>0.0</td>\n",
       "      <td>0.0</td>\n",
       "      <td>0.0</td>\n",
       "      <td>0.0</td>\n",
       "      <td>0.0</td>\n",
       "      <td>0.0</td>\n",
       "      <td>0.0</td>\n",
       "      <td>0.0</td>\n",
       "      <td>0.0</td>\n",
       "      <td>0.0</td>\n",
       "      <td>0.0</td>\n",
       "      <td>0.0</td>\n",
       "      <td>0.0</td>\n",
       "    </tr>\n",
       "    <tr>\n",
       "      <th>Wilderness_Area3</th>\n",
       "      <td>0.0</td>\n",
       "      <td>0.0</td>\n",
       "      <td>0.0</td>\n",
       "      <td>0.0</td>\n",
       "      <td>0.0</td>\n",
       "      <td>0.0</td>\n",
       "      <td>0.0</td>\n",
       "      <td>0.0</td>\n",
       "      <td>0.0</td>\n",
       "      <td>0.0</td>\n",
       "      <td>0.0</td>\n",
       "      <td>0.0</td>\n",
       "      <td>0.0</td>\n",
       "      <td>0.0</td>\n",
       "      <td>0.0</td>\n",
       "    </tr>\n",
       "    <tr>\n",
       "      <th>Wilderness_Area4</th>\n",
       "      <td>0.0</td>\n",
       "      <td>0.0</td>\n",
       "      <td>0.0</td>\n",
       "      <td>0.0</td>\n",
       "      <td>0.0</td>\n",
       "      <td>0.0</td>\n",
       "      <td>0.0</td>\n",
       "      <td>0.0</td>\n",
       "      <td>0.0</td>\n",
       "      <td>0.0</td>\n",
       "      <td>0.0</td>\n",
       "      <td>0.0</td>\n",
       "      <td>0.0</td>\n",
       "      <td>0.0</td>\n",
       "      <td>0.0</td>\n",
       "    </tr>\n",
       "    <tr>\n",
       "      <th>Soil_Type1</th>\n",
       "      <td>0.0</td>\n",
       "      <td>0.0</td>\n",
       "      <td>0.0</td>\n",
       "      <td>0.0</td>\n",
       "      <td>0.0</td>\n",
       "      <td>0.0</td>\n",
       "      <td>0.0</td>\n",
       "      <td>0.0</td>\n",
       "      <td>0.0</td>\n",
       "      <td>0.0</td>\n",
       "      <td>0.0</td>\n",
       "      <td>0.0</td>\n",
       "      <td>0.0</td>\n",
       "      <td>0.0</td>\n",
       "      <td>0.0</td>\n",
       "    </tr>\n",
       "    <tr>\n",
       "      <th>Soil_Type2</th>\n",
       "      <td>0.0</td>\n",
       "      <td>0.0</td>\n",
       "      <td>0.0</td>\n",
       "      <td>0.0</td>\n",
       "      <td>0.0</td>\n",
       "      <td>0.0</td>\n",
       "      <td>0.0</td>\n",
       "      <td>0.0</td>\n",
       "      <td>0.0</td>\n",
       "      <td>0.0</td>\n",
       "      <td>0.0</td>\n",
       "      <td>0.0</td>\n",
       "      <td>0.0</td>\n",
       "      <td>0.0</td>\n",
       "      <td>0.0</td>\n",
       "    </tr>\n",
       "    <tr>\n",
       "      <th>Soil_Type3</th>\n",
       "      <td>0.0</td>\n",
       "      <td>0.0</td>\n",
       "      <td>0.0</td>\n",
       "      <td>0.0</td>\n",
       "      <td>0.0</td>\n",
       "      <td>0.0</td>\n",
       "      <td>0.0</td>\n",
       "      <td>0.0</td>\n",
       "      <td>0.0</td>\n",
       "      <td>0.0</td>\n",
       "      <td>0.0</td>\n",
       "      <td>0.0</td>\n",
       "      <td>0.0</td>\n",
       "      <td>0.0</td>\n",
       "      <td>0.0</td>\n",
       "    </tr>\n",
       "    <tr>\n",
       "      <th>Soil_Type4</th>\n",
       "      <td>0.0</td>\n",
       "      <td>0.0</td>\n",
       "      <td>0.0</td>\n",
       "      <td>0.0</td>\n",
       "      <td>0.0</td>\n",
       "      <td>0.0</td>\n",
       "      <td>0.0</td>\n",
       "      <td>0.0</td>\n",
       "      <td>0.0</td>\n",
       "      <td>0.0</td>\n",
       "      <td>0.0</td>\n",
       "      <td>0.0</td>\n",
       "      <td>0.0</td>\n",
       "      <td>0.0</td>\n",
       "      <td>0.0</td>\n",
       "    </tr>\n",
       "    <tr>\n",
       "      <th>Soil_Type5</th>\n",
       "      <td>0.0</td>\n",
       "      <td>0.0</td>\n",
       "      <td>0.0</td>\n",
       "      <td>0.0</td>\n",
       "      <td>0.0</td>\n",
       "      <td>0.0</td>\n",
       "      <td>0.0</td>\n",
       "      <td>0.0</td>\n",
       "      <td>0.0</td>\n",
       "      <td>0.0</td>\n",
       "      <td>0.0</td>\n",
       "      <td>0.0</td>\n",
       "      <td>0.0</td>\n",
       "      <td>0.0</td>\n",
       "      <td>0.0</td>\n",
       "    </tr>\n",
       "    <tr>\n",
       "      <th>Soil_Type6</th>\n",
       "      <td>0.0</td>\n",
       "      <td>0.0</td>\n",
       "      <td>0.0</td>\n",
       "      <td>0.0</td>\n",
       "      <td>0.0</td>\n",
       "      <td>0.0</td>\n",
       "      <td>0.0</td>\n",
       "      <td>0.0</td>\n",
       "      <td>0.0</td>\n",
       "      <td>0.0</td>\n",
       "      <td>0.0</td>\n",
       "      <td>0.0</td>\n",
       "      <td>0.0</td>\n",
       "      <td>0.0</td>\n",
       "      <td>0.0</td>\n",
       "    </tr>\n",
       "    <tr>\n",
       "      <th>Soil_Type7</th>\n",
       "      <td>0.0</td>\n",
       "      <td>0.0</td>\n",
       "      <td>0.0</td>\n",
       "      <td>0.0</td>\n",
       "      <td>0.0</td>\n",
       "      <td>0.0</td>\n",
       "      <td>0.0</td>\n",
       "      <td>0.0</td>\n",
       "      <td>0.0</td>\n",
       "      <td>0.0</td>\n",
       "      <td>0.0</td>\n",
       "      <td>0.0</td>\n",
       "      <td>0.0</td>\n",
       "      <td>0.0</td>\n",
       "      <td>0.0</td>\n",
       "    </tr>\n",
       "    <tr>\n",
       "      <th>Soil_Type8</th>\n",
       "      <td>0.0</td>\n",
       "      <td>0.0</td>\n",
       "      <td>0.0</td>\n",
       "      <td>0.0</td>\n",
       "      <td>0.0</td>\n",
       "      <td>0.0</td>\n",
       "      <td>0.0</td>\n",
       "      <td>0.0</td>\n",
       "      <td>0.0</td>\n",
       "      <td>0.0</td>\n",
       "      <td>0.0</td>\n",
       "      <td>0.0</td>\n",
       "      <td>0.0</td>\n",
       "      <td>0.0</td>\n",
       "      <td>0.0</td>\n",
       "    </tr>\n",
       "    <tr>\n",
       "      <th>Soil_Type9</th>\n",
       "      <td>0.0</td>\n",
       "      <td>0.0</td>\n",
       "      <td>0.0</td>\n",
       "      <td>0.0</td>\n",
       "      <td>0.0</td>\n",
       "      <td>0.0</td>\n",
       "      <td>0.0</td>\n",
       "      <td>0.0</td>\n",
       "      <td>0.0</td>\n",
       "      <td>0.0</td>\n",
       "      <td>0.0</td>\n",
       "      <td>0.0</td>\n",
       "      <td>0.0</td>\n",
       "      <td>0.0</td>\n",
       "      <td>0.0</td>\n",
       "    </tr>\n",
       "    <tr>\n",
       "      <th>Soil_Type10</th>\n",
       "      <td>0.0</td>\n",
       "      <td>0.0</td>\n",
       "      <td>0.0</td>\n",
       "      <td>0.0</td>\n",
       "      <td>0.0</td>\n",
       "      <td>0.0</td>\n",
       "      <td>0.0</td>\n",
       "      <td>0.0</td>\n",
       "      <td>0.0</td>\n",
       "      <td>0.0</td>\n",
       "      <td>0.0</td>\n",
       "      <td>0.0</td>\n",
       "      <td>0.0</td>\n",
       "      <td>0.0</td>\n",
       "      <td>0.0</td>\n",
       "    </tr>\n",
       "    <tr>\n",
       "      <th>Soil_Type11</th>\n",
       "      <td>0.0</td>\n",
       "      <td>0.0</td>\n",
       "      <td>0.0</td>\n",
       "      <td>0.0</td>\n",
       "      <td>0.0</td>\n",
       "      <td>0.0</td>\n",
       "      <td>0.0</td>\n",
       "      <td>0.0</td>\n",
       "      <td>0.0</td>\n",
       "      <td>0.0</td>\n",
       "      <td>0.0</td>\n",
       "      <td>0.0</td>\n",
       "      <td>0.0</td>\n",
       "      <td>0.0</td>\n",
       "      <td>0.0</td>\n",
       "    </tr>\n",
       "    <tr>\n",
       "      <th>Soil_Type12</th>\n",
       "      <td>0.0</td>\n",
       "      <td>0.0</td>\n",
       "      <td>1.0</td>\n",
       "      <td>0.0</td>\n",
       "      <td>0.0</td>\n",
       "      <td>0.0</td>\n",
       "      <td>0.0</td>\n",
       "      <td>0.0</td>\n",
       "      <td>0.0</td>\n",
       "      <td>0.0</td>\n",
       "      <td>0.0</td>\n",
       "      <td>0.0</td>\n",
       "      <td>0.0</td>\n",
       "      <td>0.0</td>\n",
       "      <td>0.0</td>\n",
       "    </tr>\n",
       "    <tr>\n",
       "      <th>Soil_Type13</th>\n",
       "      <td>0.0</td>\n",
       "      <td>0.0</td>\n",
       "      <td>0.0</td>\n",
       "      <td>0.0</td>\n",
       "      <td>0.0</td>\n",
       "      <td>0.0</td>\n",
       "      <td>0.0</td>\n",
       "      <td>0.0</td>\n",
       "      <td>0.0</td>\n",
       "      <td>0.0</td>\n",
       "      <td>0.0</td>\n",
       "      <td>0.0</td>\n",
       "      <td>0.0</td>\n",
       "      <td>0.0</td>\n",
       "      <td>0.0</td>\n",
       "    </tr>\n",
       "    <tr>\n",
       "      <th>Soil_Type14</th>\n",
       "      <td>0.0</td>\n",
       "      <td>0.0</td>\n",
       "      <td>0.0</td>\n",
       "      <td>0.0</td>\n",
       "      <td>0.0</td>\n",
       "      <td>0.0</td>\n",
       "      <td>0.0</td>\n",
       "      <td>0.0</td>\n",
       "      <td>0.0</td>\n",
       "      <td>0.0</td>\n",
       "      <td>0.0</td>\n",
       "      <td>0.0</td>\n",
       "      <td>0.0</td>\n",
       "      <td>0.0</td>\n",
       "      <td>0.0</td>\n",
       "    </tr>\n",
       "    <tr>\n",
       "      <th>Soil_Type15</th>\n",
       "      <td>0.0</td>\n",
       "      <td>0.0</td>\n",
       "      <td>0.0</td>\n",
       "      <td>0.0</td>\n",
       "      <td>0.0</td>\n",
       "      <td>0.0</td>\n",
       "      <td>0.0</td>\n",
       "      <td>0.0</td>\n",
       "      <td>0.0</td>\n",
       "      <td>0.0</td>\n",
       "      <td>0.0</td>\n",
       "      <td>0.0</td>\n",
       "      <td>0.0</td>\n",
       "      <td>0.0</td>\n",
       "      <td>0.0</td>\n",
       "    </tr>\n",
       "    <tr>\n",
       "      <th>Soil_Type16</th>\n",
       "      <td>0.0</td>\n",
       "      <td>0.0</td>\n",
       "      <td>0.0</td>\n",
       "      <td>0.0</td>\n",
       "      <td>0.0</td>\n",
       "      <td>0.0</td>\n",
       "      <td>0.0</td>\n",
       "      <td>0.0</td>\n",
       "      <td>0.0</td>\n",
       "      <td>0.0</td>\n",
       "      <td>0.0</td>\n",
       "      <td>0.0</td>\n",
       "      <td>0.0</td>\n",
       "      <td>0.0</td>\n",
       "      <td>0.0</td>\n",
       "    </tr>\n",
       "    <tr>\n",
       "      <th>Soil_Type17</th>\n",
       "      <td>0.0</td>\n",
       "      <td>0.0</td>\n",
       "      <td>0.0</td>\n",
       "      <td>0.0</td>\n",
       "      <td>0.0</td>\n",
       "      <td>0.0</td>\n",
       "      <td>0.0</td>\n",
       "      <td>0.0</td>\n",
       "      <td>0.0</td>\n",
       "      <td>0.0</td>\n",
       "      <td>0.0</td>\n",
       "      <td>0.0</td>\n",
       "      <td>0.0</td>\n",
       "      <td>0.0</td>\n",
       "      <td>0.0</td>\n",
       "    </tr>\n",
       "    <tr>\n",
       "      <th>Soil_Type18</th>\n",
       "      <td>0.0</td>\n",
       "      <td>0.0</td>\n",
       "      <td>0.0</td>\n",
       "      <td>0.0</td>\n",
       "      <td>0.0</td>\n",
       "      <td>0.0</td>\n",
       "      <td>0.0</td>\n",
       "      <td>0.0</td>\n",
       "      <td>0.0</td>\n",
       "      <td>0.0</td>\n",
       "      <td>1.0</td>\n",
       "      <td>0.0</td>\n",
       "      <td>0.0</td>\n",
       "      <td>1.0</td>\n",
       "      <td>1.0</td>\n",
       "    </tr>\n",
       "    <tr>\n",
       "      <th>Soil_Type19</th>\n",
       "      <td>0.0</td>\n",
       "      <td>0.0</td>\n",
       "      <td>0.0</td>\n",
       "      <td>0.0</td>\n",
       "      <td>0.0</td>\n",
       "      <td>0.0</td>\n",
       "      <td>0.0</td>\n",
       "      <td>0.0</td>\n",
       "      <td>0.0</td>\n",
       "      <td>0.0</td>\n",
       "      <td>0.0</td>\n",
       "      <td>0.0</td>\n",
       "      <td>0.0</td>\n",
       "      <td>0.0</td>\n",
       "      <td>0.0</td>\n",
       "    </tr>\n",
       "    <tr>\n",
       "      <th>Soil_Type20</th>\n",
       "      <td>0.0</td>\n",
       "      <td>0.0</td>\n",
       "      <td>0.0</td>\n",
       "      <td>0.0</td>\n",
       "      <td>0.0</td>\n",
       "      <td>0.0</td>\n",
       "      <td>0.0</td>\n",
       "      <td>0.0</td>\n",
       "      <td>0.0</td>\n",
       "      <td>0.0</td>\n",
       "      <td>0.0</td>\n",
       "      <td>0.0</td>\n",
       "      <td>0.0</td>\n",
       "      <td>0.0</td>\n",
       "      <td>0.0</td>\n",
       "    </tr>\n",
       "    <tr>\n",
       "      <th>Soil_Type21</th>\n",
       "      <td>0.0</td>\n",
       "      <td>0.0</td>\n",
       "      <td>0.0</td>\n",
       "      <td>0.0</td>\n",
       "      <td>0.0</td>\n",
       "      <td>0.0</td>\n",
       "      <td>0.0</td>\n",
       "      <td>0.0</td>\n",
       "      <td>0.0</td>\n",
       "      <td>0.0</td>\n",
       "      <td>0.0</td>\n",
       "      <td>0.0</td>\n",
       "      <td>0.0</td>\n",
       "      <td>0.0</td>\n",
       "      <td>0.0</td>\n",
       "    </tr>\n",
       "    <tr>\n",
       "      <th>Soil_Type22</th>\n",
       "      <td>0.0</td>\n",
       "      <td>0.0</td>\n",
       "      <td>0.0</td>\n",
       "      <td>0.0</td>\n",
       "      <td>0.0</td>\n",
       "      <td>0.0</td>\n",
       "      <td>0.0</td>\n",
       "      <td>0.0</td>\n",
       "      <td>0.0</td>\n",
       "      <td>0.0</td>\n",
       "      <td>0.0</td>\n",
       "      <td>0.0</td>\n",
       "      <td>0.0</td>\n",
       "      <td>0.0</td>\n",
       "      <td>0.0</td>\n",
       "    </tr>\n",
       "    <tr>\n",
       "      <th>Soil_Type23</th>\n",
       "      <td>0.0</td>\n",
       "      <td>0.0</td>\n",
       "      <td>0.0</td>\n",
       "      <td>0.0</td>\n",
       "      <td>0.0</td>\n",
       "      <td>0.0</td>\n",
       "      <td>0.0</td>\n",
       "      <td>0.0</td>\n",
       "      <td>0.0</td>\n",
       "      <td>0.0</td>\n",
       "      <td>0.0</td>\n",
       "      <td>0.0</td>\n",
       "      <td>0.0</td>\n",
       "      <td>0.0</td>\n",
       "      <td>0.0</td>\n",
       "    </tr>\n",
       "    <tr>\n",
       "      <th>Soil_Type24</th>\n",
       "      <td>0.0</td>\n",
       "      <td>0.0</td>\n",
       "      <td>0.0</td>\n",
       "      <td>0.0</td>\n",
       "      <td>0.0</td>\n",
       "      <td>0.0</td>\n",
       "      <td>0.0</td>\n",
       "      <td>0.0</td>\n",
       "      <td>0.0</td>\n",
       "      <td>0.0</td>\n",
       "      <td>0.0</td>\n",
       "      <td>0.0</td>\n",
       "      <td>0.0</td>\n",
       "      <td>0.0</td>\n",
       "      <td>0.0</td>\n",
       "    </tr>\n",
       "    <tr>\n",
       "      <th>Soil_Type25</th>\n",
       "      <td>0.0</td>\n",
       "      <td>0.0</td>\n",
       "      <td>0.0</td>\n",
       "      <td>0.0</td>\n",
       "      <td>0.0</td>\n",
       "      <td>0.0</td>\n",
       "      <td>0.0</td>\n",
       "      <td>0.0</td>\n",
       "      <td>0.0</td>\n",
       "      <td>0.0</td>\n",
       "      <td>0.0</td>\n",
       "      <td>0.0</td>\n",
       "      <td>0.0</td>\n",
       "      <td>0.0</td>\n",
       "      <td>0.0</td>\n",
       "    </tr>\n",
       "    <tr>\n",
       "      <th>Soil_Type26</th>\n",
       "      <td>0.0</td>\n",
       "      <td>0.0</td>\n",
       "      <td>0.0</td>\n",
       "      <td>0.0</td>\n",
       "      <td>0.0</td>\n",
       "      <td>0.0</td>\n",
       "      <td>0.0</td>\n",
       "      <td>0.0</td>\n",
       "      <td>0.0</td>\n",
       "      <td>0.0</td>\n",
       "      <td>0.0</td>\n",
       "      <td>0.0</td>\n",
       "      <td>0.0</td>\n",
       "      <td>0.0</td>\n",
       "      <td>0.0</td>\n",
       "    </tr>\n",
       "    <tr>\n",
       "      <th>Soil_Type27</th>\n",
       "      <td>0.0</td>\n",
       "      <td>0.0</td>\n",
       "      <td>0.0</td>\n",
       "      <td>0.0</td>\n",
       "      <td>0.0</td>\n",
       "      <td>0.0</td>\n",
       "      <td>0.0</td>\n",
       "      <td>0.0</td>\n",
       "      <td>0.0</td>\n",
       "      <td>0.0</td>\n",
       "      <td>0.0</td>\n",
       "      <td>0.0</td>\n",
       "      <td>0.0</td>\n",
       "      <td>0.0</td>\n",
       "      <td>0.0</td>\n",
       "    </tr>\n",
       "    <tr>\n",
       "      <th>Soil_Type28</th>\n",
       "      <td>0.0</td>\n",
       "      <td>0.0</td>\n",
       "      <td>0.0</td>\n",
       "      <td>0.0</td>\n",
       "      <td>0.0</td>\n",
       "      <td>0.0</td>\n",
       "      <td>0.0</td>\n",
       "      <td>0.0</td>\n",
       "      <td>0.0</td>\n",
       "      <td>0.0</td>\n",
       "      <td>0.0</td>\n",
       "      <td>0.0</td>\n",
       "      <td>0.0</td>\n",
       "      <td>0.0</td>\n",
       "      <td>0.0</td>\n",
       "    </tr>\n",
       "    <tr>\n",
       "      <th>Soil_Type29</th>\n",
       "      <td>1.0</td>\n",
       "      <td>1.0</td>\n",
       "      <td>0.0</td>\n",
       "      <td>0.0</td>\n",
       "      <td>1.0</td>\n",
       "      <td>1.0</td>\n",
       "      <td>1.0</td>\n",
       "      <td>1.0</td>\n",
       "      <td>1.0</td>\n",
       "      <td>1.0</td>\n",
       "      <td>0.0</td>\n",
       "      <td>0.0</td>\n",
       "      <td>0.0</td>\n",
       "      <td>0.0</td>\n",
       "      <td>0.0</td>\n",
       "    </tr>\n",
       "    <tr>\n",
       "      <th>Soil_Type30</th>\n",
       "      <td>0.0</td>\n",
       "      <td>0.0</td>\n",
       "      <td>0.0</td>\n",
       "      <td>1.0</td>\n",
       "      <td>0.0</td>\n",
       "      <td>0.0</td>\n",
       "      <td>0.0</td>\n",
       "      <td>0.0</td>\n",
       "      <td>0.0</td>\n",
       "      <td>0.0</td>\n",
       "      <td>0.0</td>\n",
       "      <td>1.0</td>\n",
       "      <td>1.0</td>\n",
       "      <td>0.0</td>\n",
       "      <td>0.0</td>\n",
       "    </tr>\n",
       "    <tr>\n",
       "      <th>Soil_Type31</th>\n",
       "      <td>0.0</td>\n",
       "      <td>0.0</td>\n",
       "      <td>0.0</td>\n",
       "      <td>0.0</td>\n",
       "      <td>0.0</td>\n",
       "      <td>0.0</td>\n",
       "      <td>0.0</td>\n",
       "      <td>0.0</td>\n",
       "      <td>0.0</td>\n",
       "      <td>0.0</td>\n",
       "      <td>0.0</td>\n",
       "      <td>0.0</td>\n",
       "      <td>0.0</td>\n",
       "      <td>0.0</td>\n",
       "      <td>0.0</td>\n",
       "    </tr>\n",
       "    <tr>\n",
       "      <th>Soil_Type32</th>\n",
       "      <td>0.0</td>\n",
       "      <td>0.0</td>\n",
       "      <td>0.0</td>\n",
       "      <td>0.0</td>\n",
       "      <td>0.0</td>\n",
       "      <td>0.0</td>\n",
       "      <td>0.0</td>\n",
       "      <td>0.0</td>\n",
       "      <td>0.0</td>\n",
       "      <td>0.0</td>\n",
       "      <td>0.0</td>\n",
       "      <td>0.0</td>\n",
       "      <td>0.0</td>\n",
       "      <td>0.0</td>\n",
       "      <td>0.0</td>\n",
       "    </tr>\n",
       "    <tr>\n",
       "      <th>Soil_Type33</th>\n",
       "      <td>0.0</td>\n",
       "      <td>0.0</td>\n",
       "      <td>0.0</td>\n",
       "      <td>0.0</td>\n",
       "      <td>0.0</td>\n",
       "      <td>0.0</td>\n",
       "      <td>0.0</td>\n",
       "      <td>0.0</td>\n",
       "      <td>0.0</td>\n",
       "      <td>0.0</td>\n",
       "      <td>0.0</td>\n",
       "      <td>0.0</td>\n",
       "      <td>0.0</td>\n",
       "      <td>0.0</td>\n",
       "      <td>0.0</td>\n",
       "    </tr>\n",
       "    <tr>\n",
       "      <th>Soil_Type34</th>\n",
       "      <td>0.0</td>\n",
       "      <td>0.0</td>\n",
       "      <td>0.0</td>\n",
       "      <td>0.0</td>\n",
       "      <td>0.0</td>\n",
       "      <td>0.0</td>\n",
       "      <td>0.0</td>\n",
       "      <td>0.0</td>\n",
       "      <td>0.0</td>\n",
       "      <td>0.0</td>\n",
       "      <td>0.0</td>\n",
       "      <td>0.0</td>\n",
       "      <td>0.0</td>\n",
       "      <td>0.0</td>\n",
       "      <td>0.0</td>\n",
       "    </tr>\n",
       "    <tr>\n",
       "      <th>Soil_Type35</th>\n",
       "      <td>0.0</td>\n",
       "      <td>0.0</td>\n",
       "      <td>0.0</td>\n",
       "      <td>0.0</td>\n",
       "      <td>0.0</td>\n",
       "      <td>0.0</td>\n",
       "      <td>0.0</td>\n",
       "      <td>0.0</td>\n",
       "      <td>0.0</td>\n",
       "      <td>0.0</td>\n",
       "      <td>0.0</td>\n",
       "      <td>0.0</td>\n",
       "      <td>0.0</td>\n",
       "      <td>0.0</td>\n",
       "      <td>0.0</td>\n",
       "    </tr>\n",
       "    <tr>\n",
       "      <th>Soil_Type36</th>\n",
       "      <td>0.0</td>\n",
       "      <td>0.0</td>\n",
       "      <td>0.0</td>\n",
       "      <td>0.0</td>\n",
       "      <td>0.0</td>\n",
       "      <td>0.0</td>\n",
       "      <td>0.0</td>\n",
       "      <td>0.0</td>\n",
       "      <td>0.0</td>\n",
       "      <td>0.0</td>\n",
       "      <td>0.0</td>\n",
       "      <td>0.0</td>\n",
       "      <td>0.0</td>\n",
       "      <td>0.0</td>\n",
       "      <td>0.0</td>\n",
       "    </tr>\n",
       "    <tr>\n",
       "      <th>Soil_Type37</th>\n",
       "      <td>0.0</td>\n",
       "      <td>0.0</td>\n",
       "      <td>0.0</td>\n",
       "      <td>0.0</td>\n",
       "      <td>0.0</td>\n",
       "      <td>0.0</td>\n",
       "      <td>0.0</td>\n",
       "      <td>0.0</td>\n",
       "      <td>0.0</td>\n",
       "      <td>0.0</td>\n",
       "      <td>0.0</td>\n",
       "      <td>0.0</td>\n",
       "      <td>0.0</td>\n",
       "      <td>0.0</td>\n",
       "      <td>0.0</td>\n",
       "    </tr>\n",
       "    <tr>\n",
       "      <th>Soil_Type38</th>\n",
       "      <td>0.0</td>\n",
       "      <td>0.0</td>\n",
       "      <td>0.0</td>\n",
       "      <td>0.0</td>\n",
       "      <td>0.0</td>\n",
       "      <td>0.0</td>\n",
       "      <td>0.0</td>\n",
       "      <td>0.0</td>\n",
       "      <td>0.0</td>\n",
       "      <td>0.0</td>\n",
       "      <td>0.0</td>\n",
       "      <td>0.0</td>\n",
       "      <td>0.0</td>\n",
       "      <td>0.0</td>\n",
       "      <td>0.0</td>\n",
       "    </tr>\n",
       "    <tr>\n",
       "      <th>Soil_Type39</th>\n",
       "      <td>0.0</td>\n",
       "      <td>0.0</td>\n",
       "      <td>0.0</td>\n",
       "      <td>0.0</td>\n",
       "      <td>0.0</td>\n",
       "      <td>0.0</td>\n",
       "      <td>0.0</td>\n",
       "      <td>0.0</td>\n",
       "      <td>0.0</td>\n",
       "      <td>0.0</td>\n",
       "      <td>0.0</td>\n",
       "      <td>0.0</td>\n",
       "      <td>0.0</td>\n",
       "      <td>0.0</td>\n",
       "      <td>0.0</td>\n",
       "    </tr>\n",
       "    <tr>\n",
       "      <th>Soil_Type40</th>\n",
       "      <td>0.0</td>\n",
       "      <td>0.0</td>\n",
       "      <td>0.0</td>\n",
       "      <td>0.0</td>\n",
       "      <td>0.0</td>\n",
       "      <td>0.0</td>\n",
       "      <td>0.0</td>\n",
       "      <td>0.0</td>\n",
       "      <td>0.0</td>\n",
       "      <td>0.0</td>\n",
       "      <td>0.0</td>\n",
       "      <td>0.0</td>\n",
       "      <td>0.0</td>\n",
       "      <td>0.0</td>\n",
       "      <td>0.0</td>\n",
       "    </tr>\n",
       "    <tr>\n",
       "      <th>Cover_Type</th>\n",
       "      <td>5.0</td>\n",
       "      <td>5.0</td>\n",
       "      <td>2.0</td>\n",
       "      <td>2.0</td>\n",
       "      <td>5.0</td>\n",
       "      <td>2.0</td>\n",
       "      <td>5.0</td>\n",
       "      <td>5.0</td>\n",
       "      <td>5.0</td>\n",
       "      <td>5.0</td>\n",
       "      <td>5.0</td>\n",
       "      <td>2.0</td>\n",
       "      <td>2.0</td>\n",
       "      <td>5.0</td>\n",
       "      <td>5.0</td>\n",
       "    </tr>\n",
       "  </tbody>\n",
       "</table>\n",
       "</div>\n",
       "      <button class=\"colab-df-convert\" onclick=\"convertToInteractive('df-afe3e975-e677-4aa1-b0bb-b9c6344957b5')\"\n",
       "              title=\"Convert this dataframe to an interactive table.\"\n",
       "              style=\"display:none;\">\n",
       "        \n",
       "  <svg xmlns=\"http://www.w3.org/2000/svg\" height=\"24px\"viewBox=\"0 0 24 24\"\n",
       "       width=\"24px\">\n",
       "    <path d=\"M0 0h24v24H0V0z\" fill=\"none\"/>\n",
       "    <path d=\"M18.56 5.44l.94 2.06.94-2.06 2.06-.94-2.06-.94-.94-2.06-.94 2.06-2.06.94zm-11 1L8.5 8.5l.94-2.06 2.06-.94-2.06-.94L8.5 2.5l-.94 2.06-2.06.94zm10 10l.94 2.06.94-2.06 2.06-.94-2.06-.94-.94-2.06-.94 2.06-2.06.94z\"/><path d=\"M17.41 7.96l-1.37-1.37c-.4-.4-.92-.59-1.43-.59-.52 0-1.04.2-1.43.59L10.3 9.45l-7.72 7.72c-.78.78-.78 2.05 0 2.83L4 21.41c.39.39.9.59 1.41.59.51 0 1.02-.2 1.41-.59l7.78-7.78 2.81-2.81c.8-.78.8-2.07 0-2.86zM5.41 20L4 18.59l7.72-7.72 1.47 1.35L5.41 20z\"/>\n",
       "  </svg>\n",
       "      </button>\n",
       "      \n",
       "  <style>\n",
       "    .colab-df-container {\n",
       "      display:flex;\n",
       "      flex-wrap:wrap;\n",
       "      gap: 12px;\n",
       "    }\n",
       "\n",
       "    .colab-df-convert {\n",
       "      background-color: #E8F0FE;\n",
       "      border: none;\n",
       "      border-radius: 50%;\n",
       "      cursor: pointer;\n",
       "      display: none;\n",
       "      fill: #1967D2;\n",
       "      height: 32px;\n",
       "      padding: 0 0 0 0;\n",
       "      width: 32px;\n",
       "    }\n",
       "\n",
       "    .colab-df-convert:hover {\n",
       "      background-color: #E2EBFA;\n",
       "      box-shadow: 0px 1px 2px rgba(60, 64, 67, 0.3), 0px 1px 3px 1px rgba(60, 64, 67, 0.15);\n",
       "      fill: #174EA6;\n",
       "    }\n",
       "\n",
       "    [theme=dark] .colab-df-convert {\n",
       "      background-color: #3B4455;\n",
       "      fill: #D2E3FC;\n",
       "    }\n",
       "\n",
       "    [theme=dark] .colab-df-convert:hover {\n",
       "      background-color: #434B5C;\n",
       "      box-shadow: 0px 1px 3px 1px rgba(0, 0, 0, 0.15);\n",
       "      filter: drop-shadow(0px 1px 2px rgba(0, 0, 0, 0.3));\n",
       "      fill: #FFFFFF;\n",
       "    }\n",
       "  </style>\n",
       "\n",
       "      <script>\n",
       "        const buttonEl =\n",
       "          document.querySelector('#df-afe3e975-e677-4aa1-b0bb-b9c6344957b5 button.colab-df-convert');\n",
       "        buttonEl.style.display =\n",
       "          google.colab.kernel.accessAllowed ? 'block' : 'none';\n",
       "\n",
       "        async function convertToInteractive(key) {\n",
       "          const element = document.querySelector('#df-afe3e975-e677-4aa1-b0bb-b9c6344957b5');\n",
       "          const dataTable =\n",
       "            await google.colab.kernel.invokeFunction('convertToInteractive',\n",
       "                                                     [key], {});\n",
       "          if (!dataTable) return;\n",
       "\n",
       "          const docLinkHtml = 'Like what you see? Visit the ' +\n",
       "            '<a target=\"_blank\" href=https://colab.research.google.com/notebooks/data_table.ipynb>data table notebook</a>'\n",
       "            + ' to learn more about interactive tables.';\n",
       "          element.innerHTML = '';\n",
       "          dataTable['output_type'] = 'display_data';\n",
       "          await google.colab.output.renderOutput(dataTable, element);\n",
       "          const docLink = document.createElement('div');\n",
       "          docLink.innerHTML = docLinkHtml;\n",
       "          element.appendChild(docLink);\n",
       "        }\n",
       "      </script>\n",
       "    </div>\n",
       "  </div>\n",
       "  "
      ],
      "text/plain": [
       "                                        0       1       2       3       4       5       6       7       8       9       10      11      12      13      14\n",
       "Elevation                           2596.0  2590.0  2804.0  2785.0  2595.0  2579.0  2606.0  2605.0  2617.0  2612.0  2612.0  2886.0  2742.0  2609.0  2503.0\n",
       "Aspect                                51.0    56.0   139.0   155.0    45.0   132.0    45.0    49.0    45.0    59.0   201.0   151.0   134.0   214.0   157.0\n",
       "Slope                                  3.0     2.0     9.0    18.0     2.0     6.0     7.0     4.0     9.0    10.0     4.0    11.0    22.0     7.0     4.0\n",
       "Horizontal_Distance_To_Hydrology     258.0   212.0   268.0   242.0   153.0   300.0   270.0   234.0   240.0   247.0   180.0   371.0   150.0   150.0    67.0\n",
       "Vertical_Distance_To_Hydrology         0.0    -6.0    65.0   118.0    -1.0   -15.0     5.0     7.0    56.0    11.0    51.0    26.0    69.0    46.0     4.0\n",
       "Horizontal_Distance_To_Roadways      510.0   390.0  3180.0  3090.0   391.0    67.0   633.0   573.0   666.0   636.0   735.0  5253.0  3215.0   771.0   674.0\n",
       "Hillshade_9am                        221.0   220.0   234.0   238.0   220.0   230.0   222.0   222.0   223.0   228.0   218.0   234.0   248.0   213.0   224.0\n",
       "Hillshade_Noon                       232.0   235.0   238.0   238.0   234.0   237.0   225.0   230.0   221.0   219.0   243.0   240.0   224.0   247.0   240.0\n",
       "Hillshade_3pm                        148.0   151.0   135.0   122.0   150.0   140.0   138.0   144.0   133.0   124.0   161.0   136.0    92.0   170.0   151.0\n",
       "Horizontal_Distance_To_Fire_Points  6279.0  6225.0  6121.0  6211.0  6172.0  6031.0  6256.0  6228.0  6244.0  6230.0  6222.0  4051.0  6091.0  6211.0  5600.0\n",
       "Wilderness_Area1                       1.0     1.0     1.0     1.0     1.0     1.0     1.0     1.0     1.0     1.0     1.0     1.0     1.0     1.0     1.0\n",
       "Wilderness_Area2                       0.0     0.0     0.0     0.0     0.0     0.0     0.0     0.0     0.0     0.0     0.0     0.0     0.0     0.0     0.0\n",
       "Wilderness_Area3                       0.0     0.0     0.0     0.0     0.0     0.0     0.0     0.0     0.0     0.0     0.0     0.0     0.0     0.0     0.0\n",
       "Wilderness_Area4                       0.0     0.0     0.0     0.0     0.0     0.0     0.0     0.0     0.0     0.0     0.0     0.0     0.0     0.0     0.0\n",
       "Soil_Type1                             0.0     0.0     0.0     0.0     0.0     0.0     0.0     0.0     0.0     0.0     0.0     0.0     0.0     0.0     0.0\n",
       "Soil_Type2                             0.0     0.0     0.0     0.0     0.0     0.0     0.0     0.0     0.0     0.0     0.0     0.0     0.0     0.0     0.0\n",
       "Soil_Type3                             0.0     0.0     0.0     0.0     0.0     0.0     0.0     0.0     0.0     0.0     0.0     0.0     0.0     0.0     0.0\n",
       "Soil_Type4                             0.0     0.0     0.0     0.0     0.0     0.0     0.0     0.0     0.0     0.0     0.0     0.0     0.0     0.0     0.0\n",
       "Soil_Type5                             0.0     0.0     0.0     0.0     0.0     0.0     0.0     0.0     0.0     0.0     0.0     0.0     0.0     0.0     0.0\n",
       "Soil_Type6                             0.0     0.0     0.0     0.0     0.0     0.0     0.0     0.0     0.0     0.0     0.0     0.0     0.0     0.0     0.0\n",
       "Soil_Type7                             0.0     0.0     0.0     0.0     0.0     0.0     0.0     0.0     0.0     0.0     0.0     0.0     0.0     0.0     0.0\n",
       "Soil_Type8                             0.0     0.0     0.0     0.0     0.0     0.0     0.0     0.0     0.0     0.0     0.0     0.0     0.0     0.0     0.0\n",
       "Soil_Type9                             0.0     0.0     0.0     0.0     0.0     0.0     0.0     0.0     0.0     0.0     0.0     0.0     0.0     0.0     0.0\n",
       "Soil_Type10                            0.0     0.0     0.0     0.0     0.0     0.0     0.0     0.0     0.0     0.0     0.0     0.0     0.0     0.0     0.0\n",
       "Soil_Type11                            0.0     0.0     0.0     0.0     0.0     0.0     0.0     0.0     0.0     0.0     0.0     0.0     0.0     0.0     0.0\n",
       "Soil_Type12                            0.0     0.0     1.0     0.0     0.0     0.0     0.0     0.0     0.0     0.0     0.0     0.0     0.0     0.0     0.0\n",
       "Soil_Type13                            0.0     0.0     0.0     0.0     0.0     0.0     0.0     0.0     0.0     0.0     0.0     0.0     0.0     0.0     0.0\n",
       "Soil_Type14                            0.0     0.0     0.0     0.0     0.0     0.0     0.0     0.0     0.0     0.0     0.0     0.0     0.0     0.0     0.0\n",
       "Soil_Type15                            0.0     0.0     0.0     0.0     0.0     0.0     0.0     0.0     0.0     0.0     0.0     0.0     0.0     0.0     0.0\n",
       "Soil_Type16                            0.0     0.0     0.0     0.0     0.0     0.0     0.0     0.0     0.0     0.0     0.0     0.0     0.0     0.0     0.0\n",
       "Soil_Type17                            0.0     0.0     0.0     0.0     0.0     0.0     0.0     0.0     0.0     0.0     0.0     0.0     0.0     0.0     0.0\n",
       "Soil_Type18                            0.0     0.0     0.0     0.0     0.0     0.0     0.0     0.0     0.0     0.0     1.0     0.0     0.0     1.0     1.0\n",
       "Soil_Type19                            0.0     0.0     0.0     0.0     0.0     0.0     0.0     0.0     0.0     0.0     0.0     0.0     0.0     0.0     0.0\n",
       "Soil_Type20                            0.0     0.0     0.0     0.0     0.0     0.0     0.0     0.0     0.0     0.0     0.0     0.0     0.0     0.0     0.0\n",
       "Soil_Type21                            0.0     0.0     0.0     0.0     0.0     0.0     0.0     0.0     0.0     0.0     0.0     0.0     0.0     0.0     0.0\n",
       "Soil_Type22                            0.0     0.0     0.0     0.0     0.0     0.0     0.0     0.0     0.0     0.0     0.0     0.0     0.0     0.0     0.0\n",
       "Soil_Type23                            0.0     0.0     0.0     0.0     0.0     0.0     0.0     0.0     0.0     0.0     0.0     0.0     0.0     0.0     0.0\n",
       "Soil_Type24                            0.0     0.0     0.0     0.0     0.0     0.0     0.0     0.0     0.0     0.0     0.0     0.0     0.0     0.0     0.0\n",
       "Soil_Type25                            0.0     0.0     0.0     0.0     0.0     0.0     0.0     0.0     0.0     0.0     0.0     0.0     0.0     0.0     0.0\n",
       "Soil_Type26                            0.0     0.0     0.0     0.0     0.0     0.0     0.0     0.0     0.0     0.0     0.0     0.0     0.0     0.0     0.0\n",
       "Soil_Type27                            0.0     0.0     0.0     0.0     0.0     0.0     0.0     0.0     0.0     0.0     0.0     0.0     0.0     0.0     0.0\n",
       "Soil_Type28                            0.0     0.0     0.0     0.0     0.0     0.0     0.0     0.0     0.0     0.0     0.0     0.0     0.0     0.0     0.0\n",
       "Soil_Type29                            1.0     1.0     0.0     0.0     1.0     1.0     1.0     1.0     1.0     1.0     0.0     0.0     0.0     0.0     0.0\n",
       "Soil_Type30                            0.0     0.0     0.0     1.0     0.0     0.0     0.0     0.0     0.0     0.0     0.0     1.0     1.0     0.0     0.0\n",
       "Soil_Type31                            0.0     0.0     0.0     0.0     0.0     0.0     0.0     0.0     0.0     0.0     0.0     0.0     0.0     0.0     0.0\n",
       "Soil_Type32                            0.0     0.0     0.0     0.0     0.0     0.0     0.0     0.0     0.0     0.0     0.0     0.0     0.0     0.0     0.0\n",
       "Soil_Type33                            0.0     0.0     0.0     0.0     0.0     0.0     0.0     0.0     0.0     0.0     0.0     0.0     0.0     0.0     0.0\n",
       "Soil_Type34                            0.0     0.0     0.0     0.0     0.0     0.0     0.0     0.0     0.0     0.0     0.0     0.0     0.0     0.0     0.0\n",
       "Soil_Type35                            0.0     0.0     0.0     0.0     0.0     0.0     0.0     0.0     0.0     0.0     0.0     0.0     0.0     0.0     0.0\n",
       "Soil_Type36                            0.0     0.0     0.0     0.0     0.0     0.0     0.0     0.0     0.0     0.0     0.0     0.0     0.0     0.0     0.0\n",
       "Soil_Type37                            0.0     0.0     0.0     0.0     0.0     0.0     0.0     0.0     0.0     0.0     0.0     0.0     0.0     0.0     0.0\n",
       "Soil_Type38                            0.0     0.0     0.0     0.0     0.0     0.0     0.0     0.0     0.0     0.0     0.0     0.0     0.0     0.0     0.0\n",
       "Soil_Type39                            0.0     0.0     0.0     0.0     0.0     0.0     0.0     0.0     0.0     0.0     0.0     0.0     0.0     0.0     0.0\n",
       "Soil_Type40                            0.0     0.0     0.0     0.0     0.0     0.0     0.0     0.0     0.0     0.0     0.0     0.0     0.0     0.0     0.0\n",
       "Cover_Type                             5.0     5.0     2.0     2.0     5.0     2.0     5.0     5.0     5.0     5.0     5.0     2.0     2.0     5.0     5.0"
      ]
     },
     "execution_count": 69,
     "metadata": {},
     "output_type": "execute_result"
    }
   ],
   "source": [
    "df.head(15).T"
   ]
  },
  {
   "cell_type": "code",
   "execution_count": 70,
   "metadata": {
    "colab": {
     "base_uri": "https://localhost:8080/"
    },
    "executionInfo": {
     "elapsed": 370,
     "status": "ok",
     "timestamp": 1675267895485,
     "user": {
      "displayName": "Humeyra Armutlu",
      "userId": "12643211298338865125"
     },
     "user_tz": -180
    },
    "id": "vhpAadaYmRdt",
    "outputId": "f861b848-d8ca-45f0-be1a-7bf36e7fd6b6"
   },
   "outputs": [
    {
     "name": "stdout",
     "output_type": "stream",
     "text": [
      "<class 'pandas.core.frame.DataFrame'>\n",
      "RangeIndex: 227132 entries, 0 to 227131\n",
      "Data columns (total 55 columns):\n",
      " #   Column                              Non-Null Count   Dtype  \n",
      "---  ------                              --------------   -----  \n",
      " 0   Elevation                           227132 non-null  int64  \n",
      " 1   Aspect                              227132 non-null  int64  \n",
      " 2   Slope                               227132 non-null  int64  \n",
      " 3   Horizontal_Distance_To_Hydrology    227132 non-null  int64  \n",
      " 4   Vertical_Distance_To_Hydrology      227132 non-null  int64  \n",
      " 5   Horizontal_Distance_To_Roadways     227132 non-null  int64  \n",
      " 6   Hillshade_9am                       227132 non-null  int64  \n",
      " 7   Hillshade_Noon                      227131 non-null  float64\n",
      " 8   Hillshade_3pm                       227131 non-null  float64\n",
      " 9   Horizontal_Distance_To_Fire_Points  227131 non-null  float64\n",
      " 10  Wilderness_Area1                    227131 non-null  float64\n",
      " 11  Wilderness_Area2                    227131 non-null  float64\n",
      " 12  Wilderness_Area3                    227131 non-null  float64\n",
      " 13  Wilderness_Area4                    227131 non-null  float64\n",
      " 14  Soil_Type1                          227131 non-null  float64\n",
      " 15  Soil_Type2                          227131 non-null  float64\n",
      " 16  Soil_Type3                          227131 non-null  float64\n",
      " 17  Soil_Type4                          227131 non-null  float64\n",
      " 18  Soil_Type5                          227131 non-null  float64\n",
      " 19  Soil_Type6                          227131 non-null  float64\n",
      " 20  Soil_Type7                          227131 non-null  float64\n",
      " 21  Soil_Type8                          227131 non-null  float64\n",
      " 22  Soil_Type9                          227131 non-null  float64\n",
      " 23  Soil_Type10                         227131 non-null  float64\n",
      " 24  Soil_Type11                         227131 non-null  float64\n",
      " 25  Soil_Type12                         227131 non-null  float64\n",
      " 26  Soil_Type13                         227131 non-null  float64\n",
      " 27  Soil_Type14                         227131 non-null  float64\n",
      " 28  Soil_Type15                         227131 non-null  float64\n",
      " 29  Soil_Type16                         227131 non-null  float64\n",
      " 30  Soil_Type17                         227131 non-null  float64\n",
      " 31  Soil_Type18                         227131 non-null  float64\n",
      " 32  Soil_Type19                         227131 non-null  float64\n",
      " 33  Soil_Type20                         227131 non-null  float64\n",
      " 34  Soil_Type21                         227131 non-null  float64\n",
      " 35  Soil_Type22                         227131 non-null  float64\n",
      " 36  Soil_Type23                         227131 non-null  float64\n",
      " 37  Soil_Type24                         227131 non-null  float64\n",
      " 38  Soil_Type25                         227131 non-null  float64\n",
      " 39  Soil_Type26                         227131 non-null  float64\n",
      " 40  Soil_Type27                         227131 non-null  float64\n",
      " 41  Soil_Type28                         227131 non-null  float64\n",
      " 42  Soil_Type29                         227131 non-null  float64\n",
      " 43  Soil_Type30                         227131 non-null  float64\n",
      " 44  Soil_Type31                         227131 non-null  float64\n",
      " 45  Soil_Type32                         227131 non-null  float64\n",
      " 46  Soil_Type33                         227131 non-null  float64\n",
      " 47  Soil_Type34                         227131 non-null  float64\n",
      " 48  Soil_Type35                         227131 non-null  float64\n",
      " 49  Soil_Type36                         227131 non-null  float64\n",
      " 50  Soil_Type37                         227131 non-null  float64\n",
      " 51  Soil_Type38                         227131 non-null  float64\n",
      " 52  Soil_Type39                         227131 non-null  float64\n",
      " 53  Soil_Type40                         227131 non-null  float64\n",
      " 54  Cover_Type                          227131 non-null  float64\n",
      "dtypes: float64(48), int64(7)\n",
      "memory usage: 95.3 MB\n"
     ]
    }
   ],
   "source": [
    "df.info()"
   ]
  },
  {
   "cell_type": "code",
   "execution_count": 71,
   "metadata": {
    "colab": {
     "base_uri": "https://localhost:8080/"
    },
    "executionInfo": {
     "elapsed": 22,
     "status": "ok",
     "timestamp": 1675267895487,
     "user": {
      "displayName": "Humeyra Armutlu",
      "userId": "12643211298338865125"
     },
     "user_tz": -180
    },
    "id": "9mRWOkIumRdu",
    "outputId": "1290931f-27c1-4bb6-85cf-f1f74eea664f"
   },
   "outputs": [
    {
     "data": {
      "text/plain": [
       "Index(['Elevation', 'Aspect', 'Slope', 'Horizontal_Distance_To_Hydrology', 'Vertical_Distance_To_Hydrology', 'Horizontal_Distance_To_Roadways', 'Hillshade_9am', 'Hillshade_Noon', 'Hillshade_3pm', 'Horizontal_Distance_To_Fire_Points', 'Wilderness_Area1', 'Wilderness_Area2', 'Wilderness_Area3', 'Wilderness_Area4', 'Soil_Type1', 'Soil_Type2', 'Soil_Type3', 'Soil_Type4', 'Soil_Type5', 'Soil_Type6', 'Soil_Type7', 'Soil_Type8', 'Soil_Type9', 'Soil_Type10', 'Soil_Type11', 'Soil_Type12', 'Soil_Type13', 'Soil_Type14', 'Soil_Type15', 'Soil_Type16', 'Soil_Type17', 'Soil_Type18', 'Soil_Type19', 'Soil_Type20', 'Soil_Type21', 'Soil_Type22', 'Soil_Type23', 'Soil_Type24', 'Soil_Type25', 'Soil_Type26', 'Soil_Type27', 'Soil_Type28', 'Soil_Type29', 'Soil_Type30', 'Soil_Type31', 'Soil_Type32', 'Soil_Type33', 'Soil_Type34', 'Soil_Type35', 'Soil_Type36', 'Soil_Type37', 'Soil_Type38', 'Soil_Type39', 'Soil_Type40', 'Cover_Type'], dtype='object')"
      ]
     },
     "execution_count": 71,
     "metadata": {},
     "output_type": "execute_result"
    }
   ],
   "source": [
    "df.columns"
   ]
  },
  {
   "cell_type": "code",
   "execution_count": 72,
   "metadata": {
    "colab": {
     "base_uri": "https://localhost:8080/"
    },
    "executionInfo": {
     "elapsed": 17,
     "status": "ok",
     "timestamp": 1675267895488,
     "user": {
      "displayName": "Humeyra Armutlu",
      "userId": "12643211298338865125"
     },
     "user_tz": -180
    },
    "id": "7JlutqVUmRdu",
    "outputId": "51887eb9-aa71-450d-cd34-0337be013d70"
   },
   "outputs": [
    {
     "data": {
      "text/plain": [
       "2.0    143736\n",
       "1.0     68231\n",
       "5.0      4499\n",
       "7.0      3143\n",
       "3.0      2871\n",
       "6.0      2491\n",
       "4.0      2160\n",
       "NaN         1\n",
       "Name: Cover_Type, dtype: int64"
      ]
     },
     "execution_count": 72,
     "metadata": {},
     "output_type": "execute_result"
    }
   ],
   "source": [
    "df.Cover_Type.value_counts(dropna = False)"
   ]
  },
  {
   "cell_type": "code",
   "execution_count": 73,
   "metadata": {
    "colab": {
     "base_uri": "https://localhost:8080/"
    },
    "executionInfo": {
     "elapsed": 320,
     "status": "ok",
     "timestamp": 1675267895795,
     "user": {
      "displayName": "Humeyra Armutlu",
      "userId": "12643211298338865125"
     },
     "user_tz": -180
    },
    "id": "UoP2LUsRmRdv",
    "outputId": "075feb44-e98f-492a-9d1f-6dcd09146e35"
   },
   "outputs": [
    {
     "name": "stdout",
     "output_type": "stream",
     "text": [
      "Elevation                                          sütununda 1670  tane unique value var.\n",
      "Aspect                                             sütununda 361  tane unique value var.\n",
      "Slope                                              sütununda 65  tane unique value var.\n",
      "Horizontal_Distance_To_Hydrology                   sütununda 435  tane unique value var.\n",
      "Vertical_Distance_To_Hydrology                     sütununda 591  tane unique value var.\n",
      "Horizontal_Distance_To_Roadways                    sütununda 5785  tane unique value var.\n",
      "Hillshade_9am                                      sütununda 193  tane unique value var.\n",
      "Hillshade_Noon                                     sütununda 176  tane unique value var.\n",
      "Hillshade_3pm                                      sütununda 249  tane unique value var.\n",
      "Horizontal_Distance_To_Fire_Points                 sütununda 5827  tane unique value var.\n",
      "Wilderness_Area1                                   sütununda 2  tane unique value var.\n",
      "Wilderness_Area2                                   sütununda 2  tane unique value var.\n",
      "Wilderness_Area3                                   sütununda 2  tane unique value var.\n",
      "Wilderness_Area4                                   sütununda 2  tane unique value var.\n",
      "Soil_Type1                                         sütununda 2  tane unique value var.\n",
      "Soil_Type2                                         sütununda 2  tane unique value var.\n",
      "Soil_Type3                                         sütununda 2  tane unique value var.\n",
      "Soil_Type4                                         sütununda 2  tane unique value var.\n",
      "Soil_Type5                                         sütununda 2  tane unique value var.\n",
      "Soil_Type6                                         sütununda 2  tane unique value var.\n",
      "Soil_Type7                                         sütununda 2  tane unique value var.\n",
      "Soil_Type8                                         sütununda 2  tane unique value var.\n",
      "Soil_Type9                                         sütununda 2  tane unique value var.\n",
      "Soil_Type10                                        sütununda 2  tane unique value var.\n",
      "Soil_Type11                                        sütununda 2  tane unique value var.\n",
      "Soil_Type12                                        sütununda 2  tane unique value var.\n",
      "Soil_Type13                                        sütununda 2  tane unique value var.\n",
      "Soil_Type14                                        sütununda 2  tane unique value var.\n",
      "Soil_Type15                                        sütununda 1  tane unique value var.\n",
      "Soil_Type16                                        sütununda 2  tane unique value var.\n",
      "Soil_Type17                                        sütununda 2  tane unique value var.\n",
      "Soil_Type18                                        sütununda 2  tane unique value var.\n",
      "Soil_Type19                                        sütununda 2  tane unique value var.\n",
      "Soil_Type20                                        sütununda 2  tane unique value var.\n",
      "Soil_Type21                                        sütununda 2  tane unique value var.\n",
      "Soil_Type22                                        sütununda 2  tane unique value var.\n",
      "Soil_Type23                                        sütununda 2  tane unique value var.\n",
      "Soil_Type24                                        sütununda 2  tane unique value var.\n",
      "Soil_Type25                                        sütununda 2  tane unique value var.\n",
      "Soil_Type26                                        sütununda 2  tane unique value var.\n",
      "Soil_Type27                                        sütununda 2  tane unique value var.\n",
      "Soil_Type28                                        sütununda 2  tane unique value var.\n",
      "Soil_Type29                                        sütununda 2  tane unique value var.\n",
      "Soil_Type30                                        sütununda 2  tane unique value var.\n",
      "Soil_Type31                                        sütununda 2  tane unique value var.\n",
      "Soil_Type32                                        sütununda 2  tane unique value var.\n",
      "Soil_Type33                                        sütununda 2  tane unique value var.\n",
      "Soil_Type34                                        sütununda 2  tane unique value var.\n",
      "Soil_Type35                                        sütununda 2  tane unique value var.\n",
      "Soil_Type36                                        sütununda 2  tane unique value var.\n",
      "Soil_Type37                                        sütununda 2  tane unique value var.\n",
      "Soil_Type38                                        sütununda 2  tane unique value var.\n",
      "Soil_Type39                                        sütununda 2  tane unique value var.\n",
      "Soil_Type40                                        sütununda 2  tane unique value var.\n",
      "Cover_Type                                         sütununda 7  tane unique value var.\n"
     ]
    }
   ],
   "source": [
    "for col in df.columns:\n",
    "    print(f\"{col:50} sütununda {df[col].nunique()}  tane unique value var.\")"
   ]
  },
  {
   "cell_type": "code",
   "execution_count": 74,
   "metadata": {
    "colab": {
     "base_uri": "https://localhost:8080/"
    },
    "executionInfo": {
     "elapsed": 327,
     "status": "ok",
     "timestamp": 1675267896118,
     "user": {
      "displayName": "Humeyra Armutlu",
      "userId": "12643211298338865125"
     },
     "user_tz": -180
    },
    "id": "cz86nsM1mRdw",
    "outputId": "bba54dca-c78c-4a66-edf8-128d344b69f3"
   },
   "outputs": [
    {
     "name": "stdout",
     "output_type": "stream",
     "text": [
      "['Elevation', 'Aspect', 'Slope', 'Horizontal_Distance_To_Hydrology', 'Vertical_Distance_To_Hydrology', 'Horizontal_Distance_To_Roadways', 'Hillshade_9am', 'Hillshade_Noon', 'Hillshade_3pm', 'Horizontal_Distance_To_Fire_Points']\n"
     ]
    }
   ],
   "source": [
    "numeric = []\n",
    "\n",
    "for col in df.columns:\n",
    "    if df[col].nunique() > 7 : numeric.append(col)\n",
    "print(numeric)"
   ]
  },
  {
   "cell_type": "code",
   "execution_count": 75,
   "metadata": {
    "colab": {
     "base_uri": "https://localhost:8080/",
     "height": 1000
    },
    "executionInfo": {
     "elapsed": 3174,
     "status": "ok",
     "timestamp": 1675267899289,
     "user": {
      "displayName": "Humeyra Armutlu",
      "userId": "12643211298338865125"
     },
     "user_tz": -180
    },
    "id": "pPhO_W0PmRdx",
    "outputId": "ff19b4e3-ade7-43de-d753-361f01b4c130",
    "scrolled": false
   },
   "outputs": [
    {
     "data": {
      "image/png": "[encoded data removed]",
      "text/plain": [
       "<Figure size 648x432 with 1 Axes>"
      ]
     },
     "metadata": {},
     "output_type": "display_data"
    },
    {
     "data": {
      "image/png": "[encoded data removed]",
      "text/plain": [
       "<Figure size 648x432 with 1 Axes>"
      ]
     },
     "metadata": {},
     "output_type": "display_data"
    },
    {
     "data": {
      "image/png": "[encoded data removed]",
      "text/plain": [
       "<Figure size 648x432 with 1 Axes>"
      ]
     },
     "metadata": {},
     "output_type": "display_data"
    },
    {
     "data": {
      "image/png": "[encoded data removed]",
      "text/plain": [
       "<Figure size 648x432 with 1 Axes>"
      ]
     },
     "metadata": {},
     "output_type": "display_data"
    },
    {
     "data": {
      "image/png": "[encoded data removed]",
      "text/plain": [
       "<Figure size 648x432 with 1 Axes>"
      ]
     },
     "metadata": {},
     "output_type": "display_data"
    },
    {
     "data": {
      "image/png": "[encoded data removed]",
      "text/plain": [
       "<Figure size 648x432 with 1 Axes>"
      ]
     },
     "metadata": {},
     "output_type": "display_data"
    },
    {
     "data": {
      "image/png": "[encoded data removed]",
      "text/plain": [
       "<Figure size 648x432 with 1 Axes>"
      ]
     },
     "metadata": {},
     "output_type": "display_data"
    },
    {
     "data": {
      "image/png": "[encoded data removed]",
      "text/plain": [
       "<Figure size 648x432 with 1 Axes>"
      ]
     },
     "metadata": {},
     "output_type": "display_data"
    },
    {
     "data": {
      "image/png": "[encoded data removed]",
      "text/plain": [
       "<Figure size 648x432 with 1 Axes>"
      ]
     },
     "metadata": {},
     "output_type": "display_data"
    },
    {
     "data": {
      "image/png": "[encoded data removed]",
      "text/plain": [
       "<Figure size 648x432 with 1 Axes>"
      ]
     },
     "metadata": {},
     "output_type": "display_data"
    }
   ],
   "source": [
    "for i in numeric:\n",
    "    plt.figure(figsize=(9,6))\n",
    "    sns.boxplot(df[(i)]);"
   ]
  },
  {
   "cell_type": "code",
   "execution_count": 76,
   "metadata": {
    "colab": {
     "base_uri": "https://localhost:8080/",
     "height": 363
    },
    "executionInfo": {
     "elapsed": 334,
     "status": "ok",
     "timestamp": 1675267899618,
     "user": {
      "displayName": "Humeyra Armutlu",
      "userId": "12643211298338865125"
     },
     "user_tz": -180
    },
    "id": "dBKDRcIwmRdy",
    "outputId": "dde31d6d-4fe8-48d5-8eff-f99e5f963909",
    "scrolled": false
   },
   "outputs": [
    {
     "data": {
      "text/html": [
       "\n",
       "  <div id=\"df-42392be1-64e5-4cc1-b216-9667d1bb111a\">\n",
       "    <div class=\"colab-df-container\">\n",
       "      <div>\n",
       "<style scoped>\n",
       "    .dataframe tbody tr th:only-of-type {\n",
       "        vertical-align: middle;\n",
       "    }\n",
       "\n",
       "    .dataframe tbody tr th {\n",
       "        vertical-align: top;\n",
       "    }\n",
       "\n",
       "    .dataframe thead th {\n",
       "        text-align: right;\n",
       "    }\n",
       "</style>\n",
       "<table border=\"1\" class=\"dataframe\">\n",
       "  <thead>\n",
       "    <tr style=\"text-align: right;\">\n",
       "      <th></th>\n",
       "      <th>count</th>\n",
       "      <th>mean</th>\n",
       "      <th>std</th>\n",
       "      <th>min</th>\n",
       "      <th>25%</th>\n",
       "      <th>50%</th>\n",
       "      <th>75%</th>\n",
       "      <th>max</th>\n",
       "    </tr>\n",
       "  </thead>\n",
       "  <tbody>\n",
       "    <tr>\n",
       "      <th>Elevation</th>\n",
       "      <td>227132.0</td>\n",
       "      <td>2936.174366</td>\n",
       "      <td>220.866442</td>\n",
       "      <td>1863.0</td>\n",
       "      <td>2802.0</td>\n",
       "      <td>2959.0</td>\n",
       "      <td>3086.0</td>\n",
       "      <td>3849.0</td>\n",
       "    </tr>\n",
       "    <tr>\n",
       "      <th>Aspect</th>\n",
       "      <td>227132.0</td>\n",
       "      <td>140.250986</td>\n",
       "      <td>109.877092</td>\n",
       "      <td>0.0</td>\n",
       "      <td>52.0</td>\n",
       "      <td>103.0</td>\n",
       "      <td>231.0</td>\n",
       "      <td>360.0</td>\n",
       "    </tr>\n",
       "    <tr>\n",
       "      <th>Slope</th>\n",
       "      <td>227132.0</td>\n",
       "      <td>11.736567</td>\n",
       "      <td>6.581980</td>\n",
       "      <td>0.0</td>\n",
       "      <td>7.0</td>\n",
       "      <td>11.0</td>\n",
       "      <td>15.0</td>\n",
       "      <td>64.0</td>\n",
       "    </tr>\n",
       "    <tr>\n",
       "      <th>Horizontal_Distance_To_Hydrology</th>\n",
       "      <td>227132.0</td>\n",
       "      <td>243.559529</td>\n",
       "      <td>185.538377</td>\n",
       "      <td>0.0</td>\n",
       "      <td>95.0</td>\n",
       "      <td>210.0</td>\n",
       "      <td>351.0</td>\n",
       "      <td>1343.0</td>\n",
       "    </tr>\n",
       "    <tr>\n",
       "      <th>Vertical_Distance_To_Hydrology</th>\n",
       "      <td>227132.0</td>\n",
       "      <td>34.337597</td>\n",
       "      <td>44.012278</td>\n",
       "      <td>-146.0</td>\n",
       "      <td>5.0</td>\n",
       "      <td>22.0</td>\n",
       "      <td>50.0</td>\n",
       "      <td>601.0</td>\n",
       "    </tr>\n",
       "    <tr>\n",
       "      <th>Horizontal_Distance_To_Roadways</th>\n",
       "      <td>227132.0</td>\n",
       "      <td>3325.142393</td>\n",
       "      <td>1732.458322</td>\n",
       "      <td>0.0</td>\n",
       "      <td>1766.0</td>\n",
       "      <td>3429.0</td>\n",
       "      <td>4795.0</td>\n",
       "      <td>7117.0</td>\n",
       "    </tr>\n",
       "    <tr>\n",
       "      <th>Hillshade_9am</th>\n",
       "      <td>227132.0</td>\n",
       "      <td>216.702266</td>\n",
       "      <td>21.635713</td>\n",
       "      <td>0.0</td>\n",
       "      <td>207.0</td>\n",
       "      <td>221.0</td>\n",
       "      <td>232.0</td>\n",
       "      <td>254.0</td>\n",
       "    </tr>\n",
       "    <tr>\n",
       "      <th>Hillshade_Noon</th>\n",
       "      <td>227131.0</td>\n",
       "      <td>224.239087</td>\n",
       "      <td>16.884463</td>\n",
       "      <td>30.0</td>\n",
       "      <td>216.0</td>\n",
       "      <td>227.0</td>\n",
       "      <td>235.0</td>\n",
       "      <td>254.0</td>\n",
       "    </tr>\n",
       "    <tr>\n",
       "      <th>Hillshade_3pm</th>\n",
       "      <td>227131.0</td>\n",
       "      <td>140.010368</td>\n",
       "      <td>32.600456</td>\n",
       "      <td>0.0</td>\n",
       "      <td>121.0</td>\n",
       "      <td>140.0</td>\n",
       "      <td>160.0</td>\n",
       "      <td>248.0</td>\n",
       "    </tr>\n",
       "    <tr>\n",
       "      <th>Horizontal_Distance_To_Fire_Points</th>\n",
       "      <td>227131.0</td>\n",
       "      <td>2596.559950</td>\n",
       "      <td>1605.014182</td>\n",
       "      <td>0.0</td>\n",
       "      <td>1423.0</td>\n",
       "      <td>2259.0</td>\n",
       "      <td>3417.0</td>\n",
       "      <td>7173.0</td>\n",
       "    </tr>\n",
       "  </tbody>\n",
       "</table>\n",
       "</div>\n",
       "      <button class=\"colab-df-convert\" onclick=\"convertToInteractive('df-42392be1-64e5-4cc1-b216-9667d1bb111a')\"\n",
       "              title=\"Convert this dataframe to an interactive table.\"\n",
       "              style=\"display:none;\">\n",
       "        \n",
       "  <svg xmlns=\"http://www.w3.org/2000/svg\" height=\"24px\"viewBox=\"0 0 24 24\"\n",
       "       width=\"24px\">\n",
       "    <path d=\"M0 0h24v24H0V0z\" fill=\"none\"/>\n",
       "    <path d=\"M18.56 5.44l.94 2.06.94-2.06 2.06-.94-2.06-.94-.94-2.06-.94 2.06-2.06.94zm-11 1L8.5 8.5l.94-2.06 2.06-.94-2.06-.94L8.5 2.5l-.94 2.06-2.06.94zm10 10l.94 2.06.94-2.06 2.06-.94-2.06-.94-.94-2.06-.94 2.06-2.06.94z\"/><path d=\"M17.41 7.96l-1.37-1.37c-.4-.4-.92-.59-1.43-.59-.52 0-1.04.2-1.43.59L10.3 9.45l-7.72 7.72c-.78.78-.78 2.05 0 2.83L4 21.41c.39.39.9.59 1.41.59.51 0 1.02-.2 1.41-.59l7.78-7.78 2.81-2.81c.8-.78.8-2.07 0-2.86zM5.41 20L4 18.59l7.72-7.72 1.47 1.35L5.41 20z\"/>\n",
       "  </svg>\n",
       "      </button>\n",
       "      \n",
       "  <style>\n",
       "    .colab-df-container {\n",
       "      display:flex;\n",
       "      flex-wrap:wrap;\n",
       "      gap: 12px;\n",
       "    }\n",
       "\n",
       "    .colab-df-convert {\n",
       "      background-color: #E8F0FE;\n",
       "      border: none;\n",
       "      border-radius: 50%;\n",
       "      cursor: pointer;\n",
       "      display: none;\n",
       "      fill: #1967D2;\n",
       "      height: 32px;\n",
       "      padding: 0 0 0 0;\n",
       "      width: 32px;\n",
       "    }\n",
       "\n",
       "    .colab-df-convert:hover {\n",
       "      background-color: #E2EBFA;\n",
       "      box-shadow: 0px 1px 2px rgba(60, 64, 67, 0.3), 0px 1px 3px 1px rgba(60, 64, 67, 0.15);\n",
       "      fill: #174EA6;\n",
       "    }\n",
       "\n",
       "    [theme=dark] .colab-df-convert {\n",
       "      background-color: #3B4455;\n",
       "      fill: #D2E3FC;\n",
       "    }\n",
       "\n",
       "    [theme=dark] .colab-df-convert:hover {\n",
       "      background-color: #434B5C;\n",
       "      box-shadow: 0px 1px 3px 1px rgba(0, 0, 0, 0.15);\n",
       "      filter: drop-shadow(0px 1px 2px rgba(0, 0, 0, 0.3));\n",
       "      fill: #FFFFFF;\n",
       "    }\n",
       "  </style>\n",
       "\n",
       "      <script>\n",
       "        const buttonEl =\n",
       "          document.querySelector('#df-42392be1-64e5-4cc1-b216-9667d1bb111a button.colab-df-convert');\n",
       "        buttonEl.style.display =\n",
       "          google.colab.kernel.accessAllowed ? 'block' : 'none';\n",
       "\n",
       "        async function convertToInteractive(key) {\n",
       "          const element = document.querySelector('#df-42392be1-64e5-4cc1-b216-9667d1bb111a');\n",
       "          const dataTable =\n",
       "            await google.colab.kernel.invokeFunction('convertToInteractive',\n",
       "                                                     [key], {});\n",
       "          if (!dataTable) return;\n",
       "\n",
       "          const docLinkHtml = 'Like what you see? Visit the ' +\n",
       "            '<a target=\"_blank\" href=https://colab.research.google.com/notebooks/data_table.ipynb>data table notebook</a>'\n",
       "            + ' to learn more about interactive tables.';\n",
       "          element.innerHTML = '';\n",
       "          dataTable['output_type'] = 'display_data';\n",
       "          await google.colab.output.renderOutput(dataTable, element);\n",
       "          const docLink = document.createElement('div');\n",
       "          docLink.innerHTML = docLinkHtml;\n",
       "          element.appendChild(docLink);\n",
       "        }\n",
       "      </script>\n",
       "    </div>\n",
       "  </div>\n",
       "  "
      ],
      "text/plain": [
       "                                       count         mean          std     min     25%     50%     75%     max\n",
       "Elevation                           227132.0  2936.174366   220.866442  1863.0  2802.0  2959.0  3086.0  3849.0\n",
       "Aspect                              227132.0   140.250986   109.877092     0.0    52.0   103.0   231.0   360.0\n",
       "Slope                               227132.0    11.736567     6.581980     0.0     7.0    11.0    15.0    64.0\n",
       "Horizontal_Distance_To_Hydrology    227132.0   243.559529   185.538377     0.0    95.0   210.0   351.0  1343.0\n",
       "Vertical_Distance_To_Hydrology      227132.0    34.337597    44.012278  -146.0     5.0    22.0    50.0   601.0\n",
       "Horizontal_Distance_To_Roadways     227132.0  3325.142393  1732.458322     0.0  1766.0  3429.0  4795.0  7117.0\n",
       "Hillshade_9am                       227132.0   216.702266    21.635713     0.0   207.0   221.0   232.0   254.0\n",
       "Hillshade_Noon                      227131.0   224.239087    16.884463    30.0   216.0   227.0   235.0   254.0\n",
       "Hillshade_3pm                       227131.0   140.010368    32.600456     0.0   121.0   140.0   160.0   248.0\n",
       "Horizontal_Distance_To_Fire_Points  227131.0  2596.559950  1605.014182     0.0  1423.0  2259.0  3417.0  7173.0"
      ]
     },
     "execution_count": 76,
     "metadata": {},
     "output_type": "execute_result"
    }
   ],
   "source": [
    "df[numeric].describe().T"
   ]
  },
  {
   "cell_type": "markdown",
   "metadata": {
    "id": "S_s2xFvpmRdz"
   },
   "source": [
    "## 2.  Data Cleaning"
   ]
  },
  {
   "cell_type": "markdown",
   "metadata": {
    "id": "v-zCHWLCmRd0"
   },
   "source": [
    "### Detect Missing Values and Outliers"
   ]
  },
  {
   "cell_type": "code",
   "execution_count": 77,
   "metadata": {
    "colab": {
     "base_uri": "https://localhost:8080/"
    },
    "executionInfo": {
     "elapsed": 15,
     "status": "ok",
     "timestamp": 1675267899619,
     "user": {
      "displayName": "Humeyra Armutlu",
      "userId": "12643211298338865125"
     },
     "user_tz": -180
    },
    "id": "0NAHUcfsmRd5",
    "outputId": "853a4b84-bbe3-4a85-8f07-afb5be62f0be"
   },
   "outputs": [
    {
     "data": {
      "text/plain": [
       "True"
      ]
     },
     "execution_count": 77,
     "metadata": {},
     "output_type": "execute_result"
    }
   ],
   "source": [
    "df.isnull().sum().any()"
   ]
  },
  {
   "cell_type": "code",
   "execution_count": 78,
   "metadata": {
    "colab": {
     "base_uri": "https://localhost:8080/"
    },
    "executionInfo": {
     "elapsed": 12,
     "status": "ok",
     "timestamp": 1675267899620,
     "user": {
      "displayName": "Humeyra Armutlu",
      "userId": "12643211298338865125"
     },
     "user_tz": -180
    },
    "id": "sEVpxA3ImRd6",
    "outputId": "08c1f5ac-c4ed-43ad-f85a-5f711e79e675"
   },
   "outputs": [
    {
     "data": {
      "text/plain": [
       "Elevation                             0.00000\n",
       "Aspect                                0.00000\n",
       "Slope                                 0.00000\n",
       "Horizontal_Distance_To_Hydrology      0.00000\n",
       "Vertical_Distance_To_Hydrology        0.00000\n",
       "Horizontal_Distance_To_Roadways       0.00000\n",
       "Hillshade_9am                         0.00000\n",
       "Hillshade_Noon                        0.00044\n",
       "Hillshade_3pm                         0.00044\n",
       "Horizontal_Distance_To_Fire_Points    0.00044\n",
       "Wilderness_Area1                      0.00044\n",
       "Wilderness_Area2                      0.00044\n",
       "Wilderness_Area3                      0.00044\n",
       "Wilderness_Area4                      0.00044\n",
       "Soil_Type1                            0.00044\n",
       "Soil_Type2                            0.00044\n",
       "Soil_Type3                            0.00044\n",
       "Soil_Type4                            0.00044\n",
       "Soil_Type5                            0.00044\n",
       "Soil_Type6                            0.00044\n",
       "Soil_Type7                            0.00044\n",
       "Soil_Type8                            0.00044\n",
       "Soil_Type9                            0.00044\n",
       "Soil_Type10                           0.00044\n",
       "Soil_Type11                           0.00044\n",
       "Soil_Type12                           0.00044\n",
       "Soil_Type13                           0.00044\n",
       "Soil_Type14                           0.00044\n",
       "Soil_Type15                           0.00044\n",
       "Soil_Type16                           0.00044\n",
       "Soil_Type17                           0.00044\n",
       "Soil_Type18                           0.00044\n",
       "Soil_Type19                           0.00044\n",
       "Soil_Type20                           0.00044\n",
       "Soil_Type21                           0.00044\n",
       "Soil_Type22                           0.00044\n",
       "Soil_Type23                           0.00044\n",
       "Soil_Type24                           0.00044\n",
       "Soil_Type25                           0.00044\n",
       "Soil_Type26                           0.00044\n",
       "Soil_Type27                           0.00044\n",
       "Soil_Type28                           0.00044\n",
       "Soil_Type29                           0.00044\n",
       "Soil_Type30                           0.00044\n",
       "Soil_Type31                           0.00044\n",
       "Soil_Type32                           0.00044\n",
       "Soil_Type33                           0.00044\n",
       "Soil_Type34                           0.00044\n",
       "Soil_Type35                           0.00044\n",
       "Soil_Type36                           0.00044\n",
       "Soil_Type37                           0.00044\n",
       "Soil_Type38                           0.00044\n",
       "Soil_Type39                           0.00044\n",
       "Soil_Type40                           0.00044\n",
       "Cover_Type                            0.00044\n",
       "dtype: float64"
      ]
     },
     "execution_count": 78,
     "metadata": {},
     "output_type": "execute_result"
    }
   ],
   "source": [
    "df.isnull().sum()*100/df.shape[0]"
   ]
  },
  {
   "cell_type": "code",
   "execution_count": 79,
   "metadata": {
    "executionInfo": {
     "elapsed": 305,
     "status": "ok",
     "timestamp": 1675267899916,
     "user": {
      "displayName": "Humeyra Armutlu",
      "userId": "12643211298338865125"
     },
     "user_tz": -180
    },
    "id": "o5mSoK-evlZ2"
   },
   "outputs": [],
   "source": [
    "df.dropna(axis=0,inplace=True)"
   ]
  },
  {
   "cell_type": "code",
   "execution_count": 80,
   "metadata": {
    "colab": {
     "base_uri": "https://localhost:8080/"
    },
    "executionInfo": {
     "elapsed": 11,
     "status": "ok",
     "timestamp": 1675267899917,
     "user": {
      "displayName": "Humeyra Armutlu",
      "userId": "12643211298338865125"
     },
     "user_tz": -180
    },
    "id": "6JXrf3W-mRd6",
    "outputId": "bd05c76a-3fe7-4a64-f829-de2e2a354127"
   },
   "outputs": [
    {
     "data": {
      "text/plain": [
       "Elevation                             0.018182\n",
       "Soil_Type28                           0.018182\n",
       "Soil_Type17                           0.018182\n",
       "Soil_Type18                           0.018182\n",
       "Soil_Type19                           0.018182\n",
       "Soil_Type20                           0.018182\n",
       "Soil_Type21                           0.018182\n",
       "Soil_Type22                           0.018182\n",
       "Soil_Type23                           0.018182\n",
       "Soil_Type24                           0.018182\n",
       "Soil_Type25                           0.018182\n",
       "Soil_Type26                           0.018182\n",
       "Soil_Type27                           0.018182\n",
       "Soil_Type29                           0.018182\n",
       "Soil_Type15                           0.018182\n",
       "Soil_Type30                           0.018182\n",
       "Soil_Type31                           0.018182\n",
       "Soil_Type32                           0.018182\n",
       "Soil_Type33                           0.018182\n",
       "Soil_Type34                           0.018182\n",
       "Soil_Type35                           0.018182\n",
       "Soil_Type36                           0.018182\n",
       "Soil_Type37                           0.018182\n",
       "Soil_Type38                           0.018182\n",
       "Soil_Type39                           0.018182\n",
       "Soil_Type40                           0.018182\n",
       "Soil_Type16                           0.018182\n",
       "Soil_Type14                           0.018182\n",
       "Aspect                                0.018182\n",
       "Wilderness_Area4                      0.018182\n",
       "Slope                                 0.018182\n",
       "Horizontal_Distance_To_Hydrology      0.018182\n",
       "Vertical_Distance_To_Hydrology        0.018182\n",
       "Horizontal_Distance_To_Roadways       0.018182\n",
       "Hillshade_9am                         0.018182\n",
       "Hillshade_Noon                        0.018182\n",
       "Hillshade_3pm                         0.018182\n",
       "Horizontal_Distance_To_Fire_Points    0.018182\n",
       "Wilderness_Area1                      0.018182\n",
       "Wilderness_Area2                      0.018182\n",
       "Wilderness_Area3                      0.018182\n",
       "Soil_Type1                            0.018182\n",
       "Soil_Type13                           0.018182\n",
       "Soil_Type2                            0.018182\n",
       "Soil_Type3                            0.018182\n",
       "Soil_Type4                            0.018182\n",
       "Soil_Type5                            0.018182\n",
       "Soil_Type6                            0.018182\n",
       "Soil_Type7                            0.018182\n",
       "Soil_Type8                            0.018182\n",
       "Soil_Type9                            0.018182\n",
       "Soil_Type10                           0.018182\n",
       "Soil_Type11                           0.018182\n",
       "Soil_Type12                           0.018182\n",
       "Cover_Type                            0.018182\n",
       "dtype: float64"
      ]
     },
     "execution_count": 80,
     "metadata": {},
     "output_type": "execute_result"
    }
   ],
   "source": [
    "df.columns.value_counts(normalize=True)"
   ]
  },
  {
   "cell_type": "markdown",
   "metadata": {
    "id": "ax0-S9b6ri3I"
   },
   "source": [
    "### Deal with Outliers"
   ]
  },
  {
   "cell_type": "markdown",
   "metadata": {
    "id": "8O56QPPHmRd8"
   },
   "source": [
    "There are many different methods for outliers. You can use IQR values used as standard to deal with outliers, or you can define two functions to help you understand the outliers and how you can deal with them."
   ]
  },
  {
   "cell_type": "code",
   "execution_count": 81,
   "metadata": {
    "executionInfo": {
     "elapsed": 8,
     "status": "ok",
     "timestamp": 1675267899918,
     "user": {
      "displayName": "Humeyra Armutlu",
      "userId": "12643211298338865125"
     },
     "user_tz": -180
    },
    "id": "AUmNM7B2mRd8"
   },
   "outputs": [],
   "source": [
    "from scipy.stats import stats"
   ]
  },
  {
   "cell_type": "code",
   "execution_count": 82,
   "metadata": {
    "executionInfo": {
     "elapsed": 9,
     "status": "ok",
     "timestamp": 1675267899919,
     "user": {
      "displayName": "Humeyra Armutlu",
      "userId": "12643211298338865125"
     },
     "user_tz": -180
    },
    "id": "tjiY2lYRmRd-"
   },
   "outputs": [],
   "source": [
    "def detect_outliers(df, col_name):\n",
    "    ''' \n",
    "    this function detects outliers based on 3 time IQR and\n",
    "    returns the number of lower and uper limit and number of outliers respectively\n",
    "    '''\n",
    "    first_quartile = np.percentile(np.array(df[col_name].tolist()), 25)\n",
    "    third_quartile = np.percentile(np.array(df[col_name].tolist()), 75)\n",
    "    IQR = third_quartile - first_quartile\n",
    "                      \n",
    "    upper_limit = third_quartile+(3*IQR)\n",
    "    lower_limit = first_quartile-(3*IQR)\n",
    "    outlier_count = 0\n",
    "                      \n",
    "    for value in df[col_name].tolist():\n",
    "        if (value < lower_limit) | (value > upper_limit):\n",
    "            outlier_count +=1\n",
    "    return lower_limit, upper_limit, outlier_count\n"
   ]
  },
  {
   "cell_type": "code",
   "execution_count": 83,
   "metadata": {
    "colab": {
     "base_uri": "https://localhost:8080/"
    },
    "executionInfo": {
     "elapsed": 910,
     "status": "ok",
     "timestamp": 1675267900821,
     "user": {
      "displayName": "Humeyra Armutlu",
      "userId": "12643211298338865125"
     },
     "user_tz": -180
    },
    "id": "8afhsh-omRd-",
    "outputId": "4c45df98-1d77-4ae4-f116-01046aae16c2"
   },
   "outputs": [
    {
     "data": {
      "text/plain": [
       "(226739, 55)"
      ]
     },
     "execution_count": 83,
     "metadata": {},
     "output_type": "execute_result"
    }
   ],
   "source": [
    "df = df[(df['Slope'] > detect_outliers(df, 'Slope')[0]) &\n",
    "              (df['Slope'] < detect_outliers(df, 'Slope')[1])]\n",
    "df.shape"
   ]
  },
  {
   "cell_type": "code",
   "execution_count": 84,
   "metadata": {
    "colab": {
     "base_uri": "https://localhost:8080/"
    },
    "executionInfo": {
     "elapsed": 696,
     "status": "ok",
     "timestamp": 1675267901512,
     "user": {
      "displayName": "Humeyra Armutlu",
      "userId": "12643211298338865125"
     },
     "user_tz": -180
    },
    "id": "1ZF2FbybmRd_",
    "outputId": "26b9f26d-da14-42d0-8fb1-35f22030469b"
   },
   "outputs": [
    {
     "data": {
      "text/plain": [
       "(226686, 55)"
      ]
     },
     "execution_count": 84,
     "metadata": {},
     "output_type": "execute_result"
    }
   ],
   "source": [
    "df = df[(df['Horizontal_Distance_To_Hydrology'] > detect_outliers(df, 'Horizontal_Distance_To_Hydrology')[0]) &\n",
    "              (df['Horizontal_Distance_To_Hydrology'] < detect_outliers(df, 'Horizontal_Distance_To_Hydrology')[1])]\n",
    "df.shape"
   ]
  },
  {
   "cell_type": "code",
   "execution_count": 85,
   "metadata": {
    "colab": {
     "base_uri": "https://localhost:8080/"
    },
    "executionInfo": {
     "elapsed": 775,
     "status": "ok",
     "timestamp": 1675267902284,
     "user": {
      "displayName": "Humeyra Armutlu",
      "userId": "12643211298338865125"
     },
     "user_tz": -180
    },
    "id": "dvQZKpN6mRd_",
    "outputId": "ce2df644-37f5-4b6a-fa9b-05682ed4392d"
   },
   "outputs": [
    {
     "data": {
      "text/plain": [
       "(224494, 55)"
      ]
     },
     "execution_count": 85,
     "metadata": {},
     "output_type": "execute_result"
    }
   ],
   "source": [
    "df = df[(df['Vertical_Distance_To_Hydrology'] > detect_outliers(df, 'Vertical_Distance_To_Hydrology')[0]) &\n",
    "              (df['Vertical_Distance_To_Hydrology'] < detect_outliers(df, 'Vertical_Distance_To_Hydrology')[1])]\n",
    "df.shape"
   ]
  },
  {
   "cell_type": "code",
   "execution_count": 86,
   "metadata": {
    "colab": {
     "base_uri": "https://localhost:8080/"
    },
    "executionInfo": {
     "elapsed": 786,
     "status": "ok",
     "timestamp": 1675267903067,
     "user": {
      "displayName": "Humeyra Armutlu",
      "userId": "12643211298338865125"
     },
     "user_tz": -180
    },
    "id": "4mg_Lus5mRd_",
    "outputId": "436f5c43-66ae-49f0-f603-79629e72b7e6"
   },
   "outputs": [
    {
     "data": {
      "text/plain": [
       "(223867, 55)"
      ]
     },
     "execution_count": 86,
     "metadata": {},
     "output_type": "execute_result"
    }
   ],
   "source": [
    "df = df[(df['Hillshade_9am'] > detect_outliers(df, 'Hillshade_9am')[0]) &\n",
    "              (df['Hillshade_9am'] < detect_outliers(df, 'Hillshade_9am')[1])]\n",
    "df.shape"
   ]
  },
  {
   "cell_type": "code",
   "execution_count": 87,
   "metadata": {
    "colab": {
     "base_uri": "https://localhost:8080/"
    },
    "executionInfo": {
     "elapsed": 400,
     "status": "ok",
     "timestamp": 1675267903464,
     "user": {
      "displayName": "Humeyra Armutlu",
      "userId": "12643211298338865125"
     },
     "user_tz": -180
    },
    "id": "AZ2u25zLmReA",
    "outputId": "c3929a5e-2bb4-481a-a8ea-0396861ec3c7"
   },
   "outputs": [
    {
     "data": {
      "text/plain": [
       "(223088, 55)"
      ]
     },
     "execution_count": 87,
     "metadata": {},
     "output_type": "execute_result"
    }
   ],
   "source": [
    "df = df[(df['Hillshade_Noon'] > detect_outliers(df, 'Hillshade_Noon')[0]) &\n",
    "              (df['Hillshade_Noon'] < detect_outliers(df, 'Hillshade_Noon')[1])]\n",
    "df.shape"
   ]
  },
  {
   "cell_type": "code",
   "execution_count": 88,
   "metadata": {
    "colab": {
     "base_uri": "https://localhost:8080/"
    },
    "executionInfo": {
     "elapsed": 792,
     "status": "ok",
     "timestamp": 1675267904253,
     "user": {
      "displayName": "Humeyra Armutlu",
      "userId": "12643211298338865125"
     },
     "user_tz": -180
    },
    "id": "cJlZg-djmReA",
    "outputId": "8bc84f70-cadb-443e-f407-5db650f7faf7"
   },
   "outputs": [
    {
     "data": {
      "text/plain": [
       "(223088, 55)"
      ]
     },
     "execution_count": 88,
     "metadata": {},
     "output_type": "execute_result"
    }
   ],
   "source": [
    "df = df[(df['Horizontal_Distance_To_Fire_Points'] > detect_outliers(df, 'Horizontal_Distance_To_Fire_Points')[0]) &\n",
    "              (df['Horizontal_Distance_To_Fire_Points'] < detect_outliers(df, 'Horizontal_Distance_To_Fire_Points')[1])]\n",
    "df.shape"
   ]
  },
  {
   "cell_type": "code",
   "execution_count": 89,
   "metadata": {
    "colab": {
     "base_uri": "https://localhost:8080/"
    },
    "executionInfo": {
     "elapsed": 4413,
     "status": "ok",
     "timestamp": 1675267908663,
     "user": {
      "displayName": "Humeyra Armutlu",
      "userId": "12643211298338865125"
     },
     "user_tz": -180
    },
    "id": "JRXqKpSlmReA",
    "outputId": "78261838-4ffe-4c60-9438-28333114f7af"
   },
   "outputs": [
    {
     "name": "stdout",
     "output_type": "stream",
     "text": [
      "There are 44 outliers in Elevation\n",
      "There are 241 outliers in Vertical_Distance_To_Hydrology\n",
      "There are 160 outliers in Hillshade_3pm\n"
     ]
    }
   ],
   "source": [
    "for col in numeric:\n",
    "    if detect_outliers(df, col)[2] > 0:\n",
    "        print(\"There are {} outliers in {}\".format(detect_outliers(df, col)[2], col))"
   ]
  },
  {
   "cell_type": "markdown",
   "metadata": {
    "id": "oyRIz4xqmReB"
   },
   "source": [
    "\n",
    "- ****Our data is already ready to be inserted into models, non-null values ​​and get dummy data.****"
   ]
  },
  {
   "cell_type": "code",
   "execution_count": 90,
   "metadata": {
    "colab": {
     "base_uri": "https://localhost:8080/"
    },
    "executionInfo": {
     "elapsed": 12,
     "status": "ok",
     "timestamp": 1675267908665,
     "user": {
      "displayName": "Humeyra Armutlu",
      "userId": "12643211298338865125"
     },
     "user_tz": -180
    },
    "id": "474cs2RemReC",
    "outputId": "e2cdb9cf-bbeb-4488-e6dd-786f98ff8431"
   },
   "outputs": [
    {
     "data": {
      "text/plain": [
       "['Horizontal_Distance_To_Hydrology',\n",
       " 'Vertical_Distance_To_Hydrology',\n",
       " 'Horizontal_Distance_To_Roadways',\n",
       " 'Horizontal_Distance_To_Fire_Points']"
      ]
     },
     "execution_count": 90,
     "metadata": {},
     "output_type": "execute_result"
    }
   ],
   "source": [
    "liste = []\n",
    "for i in df.columns:\n",
    "    if 'Distance' in i:\n",
    "        liste.append(i)\n",
    "liste"
   ]
  },
  {
   "cell_type": "code",
   "execution_count": 91,
   "metadata": {
    "colab": {
     "base_uri": "https://localhost:8080/",
     "height": 1000
    },
    "executionInfo": {
     "elapsed": 8238,
     "status": "ok",
     "timestamp": 1675267916893,
     "user": {
      "displayName": "Humeyra Armutlu",
      "userId": "12643211298338865125"
     },
     "user_tz": -180
    },
    "id": "3hxRYHtRmReC",
    "outputId": "699ba3aa-2512-4b71-ca76-070ca834041d"
   },
   "outputs": [
    {
     "data": {
      "image/png": "[encoded data removed]",
      "text/plain": [
       "<Figure size 576x360 with 1 Axes>"
      ]
     },
     "metadata": {},
     "output_type": "display_data"
    },
    {
     "data": {
      "image/png": "[encoded data removed]",
      "text/plain": [
       "<Figure size 576x360 with 1 Axes>"
      ]
     },
     "metadata": {},
     "output_type": "display_data"
    },
    {
     "data": {
      "image/png": "[encoded data removed]",
      "text/plain": [
       "<Figure size 576x360 with 1 Axes>"
      ]
     },
     "metadata": {},
     "output_type": "display_data"
    },
    {
     "data": {
      "image/png": "[encoded data removed]",
      "text/plain": [
       "<Figure size 576x360 with 1 Axes>"
      ]
     },
     "metadata": {},
     "output_type": "display_data"
    }
   ],
   "source": [
    "for i in liste:\n",
    "    plt.figure(figsize=(8,5))\n",
    "    sns.distplot(df[i],bins = 50);"
   ]
  },
  {
   "cell_type": "markdown",
   "metadata": {
    "id": "Ylwp86BnIbfD"
   },
   "source": [
    "## 4. Prediction (Multi-class Classification)"
   ]
  },
  {
   "cell_type": "markdown",
   "metadata": {
    "id": "c-HeuK9FIbfJ"
   },
   "source": [
    "### Data Preprocessing"
   ]
  },
  {
   "cell_type": "code",
   "execution_count": 92,
   "metadata": {
    "executionInfo": {
     "elapsed": 16,
     "status": "ok",
     "timestamp": 1675267916895,
     "user": {
      "displayName": "Humeyra Armutlu",
      "userId": "12643211298338865125"
     },
     "user_tz": -180
    },
    "id": "Ww-0uTKsmReF"
   },
   "outputs": [],
   "source": [
    "X = df.drop(\"Cover_Type\", axis = 1)\n",
    "y = df[\"Cover_Type\"]"
   ]
  },
  {
   "cell_type": "code",
   "execution_count": 93,
   "metadata": {
    "executionInfo": {
     "elapsed": 16,
     "status": "ok",
     "timestamp": 1675267916896,
     "user": {
      "displayName": "Humeyra Armutlu",
      "userId": "12643211298338865125"
     },
     "user_tz": -180
    },
    "id": "cl4Mnk4VmReF"
   },
   "outputs": [],
   "source": [
    "from sklearn.model_selection import train_test_split"
   ]
  },
  {
   "cell_type": "code",
   "execution_count": 94,
   "metadata": {
    "executionInfo": {
     "elapsed": 17,
     "status": "ok",
     "timestamp": 1675267916897,
     "user": {
      "displayName": "Humeyra Armutlu",
      "userId": "12643211298338865125"
     },
     "user_tz": -180
    },
    "id": "k7wsukhtmReF"
   },
   "outputs": [],
   "source": [
    "X_train, X_test, y_train, y_test = train_test_split(X, y, test_size=0.3, random_state=101)"
   ]
  },
  {
   "cell_type": "markdown",
   "metadata": {
    "id": "eI7Zd8TLIbfK"
   },
   "source": [
    "### Implement XGBoost Classifer\n",
    "- Import the modul \n",
    "- Fit the model \n",
    "- Predict the test set\n",
    "- Visualize and evaluate the result (use yellowbrick module)"
   ]
  },
  {
   "cell_type": "code",
   "execution_count": 95,
   "metadata": {
    "executionInfo": {
     "elapsed": 17,
     "status": "ok",
     "timestamp": 1675267916898,
     "user": {
      "displayName": "Humeyra Armutlu",
      "userId": "12643211298338865125"
     },
     "user_tz": -180
    },
    "id": "rrm19mR9mReG"
   },
   "outputs": [],
   "source": [
    "from xgboost import XGBClassifier"
   ]
  },
  {
   "cell_type": "code",
   "execution_count": 96,
   "metadata": {
    "executionInfo": {
     "elapsed": 149792,
     "status": "ok",
     "timestamp": 1675268066674,
     "user": {
      "displayName": "Humeyra Armutlu",
      "userId": "12643211298338865125"
     },
     "user_tz": -180
    },
    "id": "NRPyBSkpmReH"
   },
   "outputs": [],
   "source": [
    "xgb = XGBClassifier(random_state=42).fit(X_train, y_train)"
   ]
  },
  {
   "cell_type": "code",
   "execution_count": 97,
   "metadata": {
    "executionInfo": {
     "elapsed": 1509,
     "status": "ok",
     "timestamp": 1675268068179,
     "user": {
      "displayName": "Humeyra Armutlu",
      "userId": "12643211298338865125"
     },
     "user_tz": -180
    },
    "id": "IDn7MEvKmReH"
   },
   "outputs": [],
   "source": [
    "y_pred = xgb.predict(X_test)"
   ]
  },
  {
   "cell_type": "code",
   "execution_count": 98,
   "metadata": {
    "executionInfo": {
     "elapsed": 9,
     "status": "ok",
     "timestamp": 1675268068180,
     "user": {
      "displayName": "Humeyra Armutlu",
      "userId": "12643211298338865125"
     },
     "user_tz": -180
    },
    "id": "HtADvFP9mReH"
   },
   "outputs": [],
   "source": [
    "from sklearn.metrics import confusion_matrix, classification_report, accuracy_score, recall_score, precision_score, f1_score, roc_auc_score\n",
    "from sklearn.model_selection import cross_val_score, cross_validate"
   ]
  },
  {
   "cell_type": "code",
   "execution_count": 99,
   "metadata": {
    "colab": {
     "base_uri": "https://localhost:8080/"
    },
    "executionInfo": {
     "elapsed": 9,
     "status": "ok",
     "timestamp": 1675268068181,
     "user": {
      "displayName": "Humeyra Armutlu",
      "userId": "12643211298338865125"
     },
     "user_tz": -180
    },
    "id": "ISfYEnFGmReH",
    "outputId": "4408ff5f-ef24-48b1-e9dd-f726057efd10"
   },
   "outputs": [
    {
     "name": "stdout",
     "output_type": "stream",
     "text": [
      "[[13188  6980     1     0     1     3    61]\n",
      " [ 3462 38868    25     0    87    76    12]\n",
      " [    0    60   486    66     1   138     0]\n",
      " [    0     0    28   577     0     9     0]\n",
      " [    7   786    16     0   456    25     0]\n",
      " [    0    98   137    38     0   427     0]\n",
      " [  327     3     0     0     0     0   478]]\n",
      "              precision    recall  f1-score   support\n",
      "\n",
      "         1.0       0.78      0.65      0.71     20234\n",
      "         2.0       0.83      0.91      0.87     42530\n",
      "         3.0       0.70      0.65      0.67       751\n",
      "         4.0       0.85      0.94      0.89       614\n",
      "         5.0       0.84      0.35      0.50      1290\n",
      "         6.0       0.63      0.61      0.62       700\n",
      "         7.0       0.87      0.59      0.70       808\n",
      "\n",
      "    accuracy                           0.81     66927\n",
      "   macro avg       0.78      0.67      0.71     66927\n",
      "weighted avg       0.81      0.81      0.81     66927\n",
      "\n"
     ]
    }
   ],
   "source": [
    "xgb_f1 = f1_score(y_test, y_pred, average='micro')\n",
    "xgb_recall = recall_score(y_test, y_pred, average='micro')\n",
    "\n",
    "print(confusion_matrix(y_test, y_pred))\n",
    "print(classification_report(y_test,y_pred))"
   ]
  },
  {
   "cell_type": "code",
   "execution_count": 100,
   "metadata": {
    "colab": {
     "base_uri": "https://localhost:8080/"
    },
    "executionInfo": {
     "elapsed": 3701,
     "status": "ok",
     "timestamp": 1675268071876,
     "user": {
      "displayName": "Humeyra Armutlu",
      "userId": "12643211298338865125"
     },
     "user_tz": -180
    },
    "id": "ebqZYEOvmReI",
    "outputId": "ec8ce3f5-9406-415b-be8e-95c52ca487ef"
   },
   "outputs": [
    {
     "name": "stdout",
     "output_type": "stream",
     "text": [
      "[[31011 16157     3     0    21     7   163]\n",
      " [ 8100 90558    57     0   197   162    25]\n",
      " [    0   157  1141   122     6   261     0]\n",
      " [    0     0    55  1394     0    10     0]\n",
      " [   16  1809    43     0   974    57     0]\n",
      " [    0   235   315    77     1   968     0]\n",
      " [  853     9     0     0     0     0  1197]]\n",
      "              precision    recall  f1-score   support\n",
      "\n",
      "         1.0       0.78      0.65      0.71     47362\n",
      "         2.0       0.83      0.91      0.87     99099\n",
      "         3.0       0.71      0.68      0.69      1687\n",
      "         4.0       0.88      0.96      0.91      1459\n",
      "         5.0       0.81      0.34      0.48      2899\n",
      "         6.0       0.66      0.61      0.63      1596\n",
      "         7.0       0.86      0.58      0.70      2059\n",
      "\n",
      "    accuracy                           0.81    156161\n",
      "   macro avg       0.79      0.67      0.71    156161\n",
      "weighted avg       0.81      0.81      0.81    156161\n",
      "\n"
     ]
    }
   ],
   "source": [
    "y_train_pred = xgb.predict(X_train)\n",
    "print(confusion_matrix(y_train, y_train_pred))\n",
    "print(classification_report(y_train, y_train_pred))\n"
   ]
  },
  {
   "cell_type": "code",
   "execution_count": 101,
   "metadata": {
    "colab": {
     "base_uri": "https://localhost:8080/"
    },
    "executionInfo": {
     "elapsed": 394,
     "status": "ok",
     "timestamp": 1675268072261,
     "user": {
      "displayName": "Humeyra Armutlu",
      "userId": "12643211298338865125"
     },
     "user_tz": -180
    },
    "id": "E2YgaE87mReI",
    "outputId": "00ff01f3-cde2-4851-da38-cf4ecf8bb6e9"
   },
   "outputs": [
    {
     "data": {
      "text/plain": [
       "array([0.09817767, 0.01214987, 0.00726408, 0.03021462, 0.02846519,\n",
       "       0.03403869, 0.01220973, 0.02957982, 0.01916386, 0.02786769,\n",
       "       0.06563152, 0.00166692, 0.03404171, 0.08553486, 0.00124902,\n",
       "       0.01578332, 0.01990242, 0.03017723, 0.01507375, 0.00107518,\n",
       "       0.        , 0.        , 0.01434971, 0.03298418, 0.01497783,\n",
       "       0.03993499, 0.00152923, 0.        , 0.        , 0.01993777,\n",
       "       0.0087998 , 0.0128195 , 0.        , 0.01027747, 0.        ,\n",
       "       0.03328864, 0.0482086 , 0.02024817, 0.        , 0.        ,\n",
       "       0.        , 0.        , 0.10731512, 0.02760935, 0.00437344,\n",
       "       0.00402111, 0.0086855 , 0.        , 0.        , 0.        ,\n",
       "       0.        , 0.01090847, 0.00620599, 0.00425807], dtype=float32)"
      ]
     },
     "execution_count": 101,
     "metadata": {},
     "output_type": "execute_result"
    }
   ],
   "source": [
    "xgb.feature_importances_"
   ]
  },
  {
   "cell_type": "code",
   "execution_count": 102,
   "metadata": {
    "colab": {
     "base_uri": "https://localhost:8080/",
     "height": 1000
    },
    "executionInfo": {
     "elapsed": 15,
     "status": "ok",
     "timestamp": 1675268072262,
     "user": {
      "displayName": "Humeyra Armutlu",
      "userId": "12643211298338865125"
     },
     "user_tz": -180
    },
    "id": "18aBVSylmReI",
    "outputId": "eb32a819-2c3e-42e8-9de0-9b4756aebfd5"
   },
   "outputs": [
    {
     "data": {
      "text/html": [
       "\n",
       "  <div id=\"df-3ce67eda-9954-4cc9-a47c-ab1f2b755fc8\">\n",
       "    <div class=\"colab-df-container\">\n",
       "      <div>\n",
       "<style scoped>\n",
       "    .dataframe tbody tr th:only-of-type {\n",
       "        vertical-align: middle;\n",
       "    }\n",
       "\n",
       "    .dataframe tbody tr th {\n",
       "        vertical-align: top;\n",
       "    }\n",
       "\n",
       "    .dataframe thead th {\n",
       "        text-align: right;\n",
       "    }\n",
       "</style>\n",
       "<table border=\"1\" class=\"dataframe\">\n",
       "  <thead>\n",
       "    <tr style=\"text-align: right;\">\n",
       "      <th></th>\n",
       "      <th>Importance</th>\n",
       "    </tr>\n",
       "  </thead>\n",
       "  <tbody>\n",
       "    <tr>\n",
       "      <th>Elevation</th>\n",
       "      <td>0.098178</td>\n",
       "    </tr>\n",
       "    <tr>\n",
       "      <th>Aspect</th>\n",
       "      <td>0.012150</td>\n",
       "    </tr>\n",
       "    <tr>\n",
       "      <th>Slope</th>\n",
       "      <td>0.007264</td>\n",
       "    </tr>\n",
       "    <tr>\n",
       "      <th>Horizontal_Distance_To_Hydrology</th>\n",
       "      <td>0.030215</td>\n",
       "    </tr>\n",
       "    <tr>\n",
       "      <th>Vertical_Distance_To_Hydrology</th>\n",
       "      <td>0.028465</td>\n",
       "    </tr>\n",
       "    <tr>\n",
       "      <th>Horizontal_Distance_To_Roadways</th>\n",
       "      <td>0.034039</td>\n",
       "    </tr>\n",
       "    <tr>\n",
       "      <th>Hillshade_9am</th>\n",
       "      <td>0.012210</td>\n",
       "    </tr>\n",
       "    <tr>\n",
       "      <th>Hillshade_Noon</th>\n",
       "      <td>0.029580</td>\n",
       "    </tr>\n",
       "    <tr>\n",
       "      <th>Hillshade_3pm</th>\n",
       "      <td>0.019164</td>\n",
       "    </tr>\n",
       "    <tr>\n",
       "      <th>Horizontal_Distance_To_Fire_Points</th>\n",
       "      <td>0.027868</td>\n",
       "    </tr>\n",
       "    <tr>\n",
       "      <th>Wilderness_Area1</th>\n",
       "      <td>0.065632</td>\n",
       "    </tr>\n",
       "    <tr>\n",
       "      <th>Wilderness_Area2</th>\n",
       "      <td>0.001667</td>\n",
       "    </tr>\n",
       "    <tr>\n",
       "      <th>Wilderness_Area3</th>\n",
       "      <td>0.034042</td>\n",
       "    </tr>\n",
       "    <tr>\n",
       "      <th>Wilderness_Area4</th>\n",
       "      <td>0.085535</td>\n",
       "    </tr>\n",
       "    <tr>\n",
       "      <th>Soil_Type1</th>\n",
       "      <td>0.001249</td>\n",
       "    </tr>\n",
       "    <tr>\n",
       "      <th>Soil_Type2</th>\n",
       "      <td>0.015783</td>\n",
       "    </tr>\n",
       "    <tr>\n",
       "      <th>Soil_Type3</th>\n",
       "      <td>0.019902</td>\n",
       "    </tr>\n",
       "    <tr>\n",
       "      <th>Soil_Type4</th>\n",
       "      <td>0.030177</td>\n",
       "    </tr>\n",
       "    <tr>\n",
       "      <th>Soil_Type5</th>\n",
       "      <td>0.015074</td>\n",
       "    </tr>\n",
       "    <tr>\n",
       "      <th>Soil_Type6</th>\n",
       "      <td>0.001075</td>\n",
       "    </tr>\n",
       "    <tr>\n",
       "      <th>Soil_Type7</th>\n",
       "      <td>0.000000</td>\n",
       "    </tr>\n",
       "    <tr>\n",
       "      <th>Soil_Type8</th>\n",
       "      <td>0.000000</td>\n",
       "    </tr>\n",
       "    <tr>\n",
       "      <th>Soil_Type9</th>\n",
       "      <td>0.014350</td>\n",
       "    </tr>\n",
       "    <tr>\n",
       "      <th>Soil_Type10</th>\n",
       "      <td>0.032984</td>\n",
       "    </tr>\n",
       "    <tr>\n",
       "      <th>Soil_Type11</th>\n",
       "      <td>0.014978</td>\n",
       "    </tr>\n",
       "    <tr>\n",
       "      <th>Soil_Type12</th>\n",
       "      <td>0.039935</td>\n",
       "    </tr>\n",
       "    <tr>\n",
       "      <th>Soil_Type13</th>\n",
       "      <td>0.001529</td>\n",
       "    </tr>\n",
       "    <tr>\n",
       "      <th>Soil_Type14</th>\n",
       "      <td>0.000000</td>\n",
       "    </tr>\n",
       "    <tr>\n",
       "      <th>Soil_Type15</th>\n",
       "      <td>0.000000</td>\n",
       "    </tr>\n",
       "    <tr>\n",
       "      <th>Soil_Type16</th>\n",
       "      <td>0.019938</td>\n",
       "    </tr>\n",
       "    <tr>\n",
       "      <th>Soil_Type17</th>\n",
       "      <td>0.008800</td>\n",
       "    </tr>\n",
       "    <tr>\n",
       "      <th>Soil_Type18</th>\n",
       "      <td>0.012820</td>\n",
       "    </tr>\n",
       "    <tr>\n",
       "      <th>Soil_Type19</th>\n",
       "      <td>0.000000</td>\n",
       "    </tr>\n",
       "    <tr>\n",
       "      <th>Soil_Type20</th>\n",
       "      <td>0.010277</td>\n",
       "    </tr>\n",
       "    <tr>\n",
       "      <th>Soil_Type21</th>\n",
       "      <td>0.000000</td>\n",
       "    </tr>\n",
       "    <tr>\n",
       "      <th>Soil_Type22</th>\n",
       "      <td>0.033289</td>\n",
       "    </tr>\n",
       "    <tr>\n",
       "      <th>Soil_Type23</th>\n",
       "      <td>0.048209</td>\n",
       "    </tr>\n",
       "    <tr>\n",
       "      <th>Soil_Type24</th>\n",
       "      <td>0.020248</td>\n",
       "    </tr>\n",
       "    <tr>\n",
       "      <th>Soil_Type25</th>\n",
       "      <td>0.000000</td>\n",
       "    </tr>\n",
       "    <tr>\n",
       "      <th>Soil_Type26</th>\n",
       "      <td>0.000000</td>\n",
       "    </tr>\n",
       "    <tr>\n",
       "      <th>Soil_Type27</th>\n",
       "      <td>0.000000</td>\n",
       "    </tr>\n",
       "    <tr>\n",
       "      <th>Soil_Type28</th>\n",
       "      <td>0.000000</td>\n",
       "    </tr>\n",
       "    <tr>\n",
       "      <th>Soil_Type29</th>\n",
       "      <td>0.107315</td>\n",
       "    </tr>\n",
       "    <tr>\n",
       "      <th>Soil_Type30</th>\n",
       "      <td>0.027609</td>\n",
       "    </tr>\n",
       "    <tr>\n",
       "      <th>Soil_Type31</th>\n",
       "      <td>0.004373</td>\n",
       "    </tr>\n",
       "    <tr>\n",
       "      <th>Soil_Type32</th>\n",
       "      <td>0.004021</td>\n",
       "    </tr>\n",
       "    <tr>\n",
       "      <th>Soil_Type33</th>\n",
       "      <td>0.008685</td>\n",
       "    </tr>\n",
       "    <tr>\n",
       "      <th>Soil_Type34</th>\n",
       "      <td>0.000000</td>\n",
       "    </tr>\n",
       "    <tr>\n",
       "      <th>Soil_Type35</th>\n",
       "      <td>0.000000</td>\n",
       "    </tr>\n",
       "    <tr>\n",
       "      <th>Soil_Type36</th>\n",
       "      <td>0.000000</td>\n",
       "    </tr>\n",
       "    <tr>\n",
       "      <th>Soil_Type37</th>\n",
       "      <td>0.000000</td>\n",
       "    </tr>\n",
       "    <tr>\n",
       "      <th>Soil_Type38</th>\n",
       "      <td>0.010908</td>\n",
       "    </tr>\n",
       "    <tr>\n",
       "      <th>Soil_Type39</th>\n",
       "      <td>0.006206</td>\n",
       "    </tr>\n",
       "    <tr>\n",
       "      <th>Soil_Type40</th>\n",
       "      <td>0.004258</td>\n",
       "    </tr>\n",
       "  </tbody>\n",
       "</table>\n",
       "</div>\n",
       "      <button class=\"colab-df-convert\" onclick=\"convertToInteractive('df-3ce67eda-9954-4cc9-a47c-ab1f2b755fc8')\"\n",
       "              title=\"Convert this dataframe to an interactive table.\"\n",
       "              style=\"display:none;\">\n",
       "        \n",
       "  <svg xmlns=\"http://www.w3.org/2000/svg\" height=\"24px\"viewBox=\"0 0 24 24\"\n",
       "       width=\"24px\">\n",
       "    <path d=\"M0 0h24v24H0V0z\" fill=\"none\"/>\n",
       "    <path d=\"M18.56 5.44l.94 2.06.94-2.06 2.06-.94-2.06-.94-.94-2.06-.94 2.06-2.06.94zm-11 1L8.5 8.5l.94-2.06 2.06-.94-2.06-.94L8.5 2.5l-.94 2.06-2.06.94zm10 10l.94 2.06.94-2.06 2.06-.94-2.06-.94-.94-2.06-.94 2.06-2.06.94z\"/><path d=\"M17.41 7.96l-1.37-1.37c-.4-.4-.92-.59-1.43-.59-.52 0-1.04.2-1.43.59L10.3 9.45l-7.72 7.72c-.78.78-.78 2.05 0 2.83L4 21.41c.39.39.9.59 1.41.59.51 0 1.02-.2 1.41-.59l7.78-7.78 2.81-2.81c.8-.78.8-2.07 0-2.86zM5.41 20L4 18.59l7.72-7.72 1.47 1.35L5.41 20z\"/>\n",
       "  </svg>\n",
       "      </button>\n",
       "      \n",
       "  <style>\n",
       "    .colab-df-container {\n",
       "      display:flex;\n",
       "      flex-wrap:wrap;\n",
       "      gap: 12px;\n",
       "    }\n",
       "\n",
       "    .colab-df-convert {\n",
       "      background-color: #E8F0FE;\n",
       "      border: none;\n",
       "      border-radius: 50%;\n",
       "      cursor: pointer;\n",
       "      display: none;\n",
       "      fill: #1967D2;\n",
       "      height: 32px;\n",
       "      padding: 0 0 0 0;\n",
       "      width: 32px;\n",
       "    }\n",
       "\n",
       "    .colab-df-convert:hover {\n",
       "      background-color: #E2EBFA;\n",
       "      box-shadow: 0px 1px 2px rgba(60, 64, 67, 0.3), 0px 1px 3px 1px rgba(60, 64, 67, 0.15);\n",
       "      fill: #174EA6;\n",
       "    }\n",
       "\n",
       "    [theme=dark] .colab-df-convert {\n",
       "      background-color: #3B4455;\n",
       "      fill: #D2E3FC;\n",
       "    }\n",
       "\n",
       "    [theme=dark] .colab-df-convert:hover {\n",
       "      background-color: #434B5C;\n",
       "      box-shadow: 0px 1px 3px 1px rgba(0, 0, 0, 0.15);\n",
       "      filter: drop-shadow(0px 1px 2px rgba(0, 0, 0, 0.3));\n",
       "      fill: #FFFFFF;\n",
       "    }\n",
       "  </style>\n",
       "\n",
       "      <script>\n",
       "        const buttonEl =\n",
       "          document.querySelector('#df-3ce67eda-9954-4cc9-a47c-ab1f2b755fc8 button.colab-df-convert');\n",
       "        buttonEl.style.display =\n",
       "          google.colab.kernel.accessAllowed ? 'block' : 'none';\n",
       "\n",
       "        async function convertToInteractive(key) {\n",
       "          const element = document.querySelector('#df-3ce67eda-9954-4cc9-a47c-ab1f2b755fc8');\n",
       "          const dataTable =\n",
       "            await google.colab.kernel.invokeFunction('convertToInteractive',\n",
       "                                                     [key], {});\n",
       "          if (!dataTable) return;\n",
       "\n",
       "          const docLinkHtml = 'Like what you see? Visit the ' +\n",
       "            '<a target=\"_blank\" href=https://colab.research.google.com/notebooks/data_table.ipynb>data table notebook</a>'\n",
       "            + ' to learn more about interactive tables.';\n",
       "          element.innerHTML = '';\n",
       "          dataTable['output_type'] = 'display_data';\n",
       "          await google.colab.output.renderOutput(dataTable, element);\n",
       "          const docLink = document.createElement('div');\n",
       "          docLink.innerHTML = docLinkHtml;\n",
       "          element.appendChild(docLink);\n",
       "        }\n",
       "      </script>\n",
       "    </div>\n",
       "  </div>\n",
       "  "
      ],
      "text/plain": [
       "                                    Importance\n",
       "Elevation                             0.098178\n",
       "Aspect                                0.012150\n",
       "Slope                                 0.007264\n",
       "Horizontal_Distance_To_Hydrology      0.030215\n",
       "Vertical_Distance_To_Hydrology        0.028465\n",
       "Horizontal_Distance_To_Roadways       0.034039\n",
       "Hillshade_9am                         0.012210\n",
       "Hillshade_Noon                        0.029580\n",
       "Hillshade_3pm                         0.019164\n",
       "Horizontal_Distance_To_Fire_Points    0.027868\n",
       "Wilderness_Area1                      0.065632\n",
       "Wilderness_Area2                      0.001667\n",
       "Wilderness_Area3                      0.034042\n",
       "Wilderness_Area4                      0.085535\n",
       "Soil_Type1                            0.001249\n",
       "Soil_Type2                            0.015783\n",
       "Soil_Type3                            0.019902\n",
       "Soil_Type4                            0.030177\n",
       "Soil_Type5                            0.015074\n",
       "Soil_Type6                            0.001075\n",
       "Soil_Type7                            0.000000\n",
       "Soil_Type8                            0.000000\n",
       "Soil_Type9                            0.014350\n",
       "Soil_Type10                           0.032984\n",
       "Soil_Type11                           0.014978\n",
       "Soil_Type12                           0.039935\n",
       "Soil_Type13                           0.001529\n",
       "Soil_Type14                           0.000000\n",
       "Soil_Type15                           0.000000\n",
       "Soil_Type16                           0.019938\n",
       "Soil_Type17                           0.008800\n",
       "Soil_Type18                           0.012820\n",
       "Soil_Type19                           0.000000\n",
       "Soil_Type20                           0.010277\n",
       "Soil_Type21                           0.000000\n",
       "Soil_Type22                           0.033289\n",
       "Soil_Type23                           0.048209\n",
       "Soil_Type24                           0.020248\n",
       "Soil_Type25                           0.000000\n",
       "Soil_Type26                           0.000000\n",
       "Soil_Type27                           0.000000\n",
       "Soil_Type28                           0.000000\n",
       "Soil_Type29                           0.107315\n",
       "Soil_Type30                           0.027609\n",
       "Soil_Type31                           0.004373\n",
       "Soil_Type32                           0.004021\n",
       "Soil_Type33                           0.008685\n",
       "Soil_Type34                           0.000000\n",
       "Soil_Type35                           0.000000\n",
       "Soil_Type36                           0.000000\n",
       "Soil_Type37                           0.000000\n",
       "Soil_Type38                           0.010908\n",
       "Soil_Type39                           0.006206\n",
       "Soil_Type40                           0.004258"
      ]
     },
     "execution_count": 102,
     "metadata": {},
     "output_type": "execute_result"
    }
   ],
   "source": [
    "feats = pd.DataFrame(index=X.columns,data=xgb.feature_importances_,columns=['Importance'])\n",
    "feats"
   ]
  },
  {
   "cell_type": "code",
   "execution_count": 103,
   "metadata": {
    "executionInfo": {
     "elapsed": 12,
     "status": "ok",
     "timestamp": 1675268072262,
     "user": {
      "displayName": "Humeyra Armutlu",
      "userId": "12643211298338865125"
     },
     "user_tz": -180
    },
    "id": "2bX2YnGzmReJ"
   },
   "outputs": [],
   "source": [
    "imp_feats = feats.sort_values(\"Importance\")"
   ]
  },
  {
   "cell_type": "code",
   "execution_count": 104,
   "metadata": {
    "colab": {
     "base_uri": "https://localhost:8080/",
     "height": 526
    },
    "executionInfo": {
     "elapsed": 1022,
     "status": "ok",
     "timestamp": 1675268073272,
     "user": {
      "displayName": "Humeyra Armutlu",
      "userId": "12643211298338865125"
     },
     "user_tz": -180
    },
    "id": "D17r9-admReJ",
    "outputId": "6cef0478-7ec2-4447-973a-e0dc9193cf09"
   },
   "outputs": [
    {
     "data": {
      "image/png": "[encoded data removed]",
      "text/plain": [
       "<Figure size 864x432 with 1 Axes>"
      ]
     },
     "metadata": {},
     "output_type": "display_data"
    }
   ],
   "source": [
    "plt.figure(figsize=(12,6))\n",
    "sns.barplot(data=imp_feats.sort_values('Importance'),x=imp_feats.sort_values('Importance').index,y='Importance')\n",
    "\n",
    "plt.xticks(rotation=90);"
   ]
  },
  {
   "cell_type": "code",
   "execution_count": null,
   "metadata": {
    "id": "qiyny-PzsZG9"
   },
   "outputs": [],
   "source": [
    "#!pip install pycaret"
   ]
  },
  {
   "cell_type": "code",
   "execution_count": 106,
   "metadata": {
    "colab": {
     "base_uri": "https://localhost:8080/",
     "height": 1000,
     "referenced_widgets": [
      "793b5ee9d21c4d338494b408ec0ff287",
      "475ba74209174e828ddf55b6effaa84d",
      "db76d3b4cde445ffb3091ee1aa979bf6",
      "79e3f0f86b56412ca223838debade995",
      "86903f0cc1474c3b9923dbebd3a29165",
      "4da7a105da9945b2a99832e3971015e9"
     ]
    },
    "executionInfo": {
     "elapsed": 250473,
     "status": "ok",
     "timestamp": 1675268329409,
     "user": {
      "displayName": "Humeyra Armutlu",
      "userId": "12643211298338865125"
     },
     "user_tz": -180
    },
    "id": "dkEwoY5tmReN",
    "outputId": "1c38c086-8c7e-4674-e22f-6becdcd34694"
   },
   "outputs": [
    {
     "data": {
      "text/html": [
       "\n",
       "  <div id=\"df-4bdf764c-7caa-42b3-87d6-e42a424f9944\">\n",
       "    <div class=\"colab-df-container\">\n",
       "      <div>\n",
       "<style scoped>\n",
       "    .dataframe tbody tr th:only-of-type {\n",
       "        vertical-align: middle;\n",
       "    }\n",
       "\n",
       "    .dataframe tbody tr th {\n",
       "        vertical-align: top;\n",
       "    }\n",
       "\n",
       "    .dataframe thead th {\n",
       "        text-align: right;\n",
       "    }\n",
       "</style>\n",
       "<table border=\"1\" class=\"dataframe\">\n",
       "  <thead>\n",
       "    <tr style=\"text-align: right;\">\n",
       "      <th></th>\n",
       "      <th>Description</th>\n",
       "      <th>Value</th>\n",
       "    </tr>\n",
       "  </thead>\n",
       "  <tbody>\n",
       "    <tr>\n",
       "      <th>0</th>\n",
       "      <td>session_id</td>\n",
       "      <td>2332</td>\n",
       "    </tr>\n",
       "    <tr>\n",
       "      <th>1</th>\n",
       "      <td>Target</td>\n",
       "      <td>Cover_Type</td>\n",
       "    </tr>\n",
       "    <tr>\n",
       "      <th>2</th>\n",
       "      <td>Target Type</td>\n",
       "      <td>Multiclass</td>\n",
       "    </tr>\n",
       "    <tr>\n",
       "      <th>3</th>\n",
       "      <td>Label Encoded</td>\n",
       "      <td>None</td>\n",
       "    </tr>\n",
       "    <tr>\n",
       "      <th>4</th>\n",
       "      <td>Original Data</td>\n",
       "      <td>(223088, 55)</td>\n",
       "    </tr>\n",
       "    <tr>\n",
       "      <th>5</th>\n",
       "      <td>Missing Values</td>\n",
       "      <td>False</td>\n",
       "    </tr>\n",
       "    <tr>\n",
       "      <th>6</th>\n",
       "      <td>Numeric Features</td>\n",
       "      <td>11</td>\n",
       "    </tr>\n",
       "    <tr>\n",
       "      <th>7</th>\n",
       "      <td>Categorical Features</td>\n",
       "      <td>43</td>\n",
       "    </tr>\n",
       "    <tr>\n",
       "      <th>8</th>\n",
       "      <td>Ordinal Features</td>\n",
       "      <td>False</td>\n",
       "    </tr>\n",
       "    <tr>\n",
       "      <th>9</th>\n",
       "      <td>High Cardinality Features</td>\n",
       "      <td>False</td>\n",
       "    </tr>\n",
       "    <tr>\n",
       "      <th>10</th>\n",
       "      <td>High Cardinality Method</td>\n",
       "      <td>None</td>\n",
       "    </tr>\n",
       "    <tr>\n",
       "      <th>11</th>\n",
       "      <td>Transformed Train Set</td>\n",
       "      <td>(156161, 54)</td>\n",
       "    </tr>\n",
       "    <tr>\n",
       "      <th>12</th>\n",
       "      <td>Transformed Test Set</td>\n",
       "      <td>(66927, 54)</td>\n",
       "    </tr>\n",
       "    <tr>\n",
       "      <th>13</th>\n",
       "      <td>Shuffle Train-Test</td>\n",
       "      <td>True</td>\n",
       "    </tr>\n",
       "    <tr>\n",
       "      <th>14</th>\n",
       "      <td>Stratify Train-Test</td>\n",
       "      <td>False</td>\n",
       "    </tr>\n",
       "    <tr>\n",
       "      <th>15</th>\n",
       "      <td>Fold Generator</td>\n",
       "      <td>StratifiedKFold</td>\n",
       "    </tr>\n",
       "    <tr>\n",
       "      <th>16</th>\n",
       "      <td>Fold Number</td>\n",
       "      <td>10</td>\n",
       "    </tr>\n",
       "    <tr>\n",
       "      <th>17</th>\n",
       "      <td>CPU Jobs</td>\n",
       "      <td>-1</td>\n",
       "    </tr>\n",
       "    <tr>\n",
       "      <th>18</th>\n",
       "      <td>Use GPU</td>\n",
       "      <td>False</td>\n",
       "    </tr>\n",
       "    <tr>\n",
       "      <th>19</th>\n",
       "      <td>Log Experiment</td>\n",
       "      <td>False</td>\n",
       "    </tr>\n",
       "    <tr>\n",
       "      <th>20</th>\n",
       "      <td>Experiment Name</td>\n",
       "      <td>clf-default-name</td>\n",
       "    </tr>\n",
       "    <tr>\n",
       "      <th>21</th>\n",
       "      <td>USI</td>\n",
       "      <td>0fe7</td>\n",
       "    </tr>\n",
       "    <tr>\n",
       "      <th>22</th>\n",
       "      <td>Imputation Type</td>\n",
       "      <td>simple</td>\n",
       "    </tr>\n",
       "    <tr>\n",
       "      <th>23</th>\n",
       "      <td>Iterative Imputation Iteration</td>\n",
       "      <td>None</td>\n",
       "    </tr>\n",
       "    <tr>\n",
       "      <th>24</th>\n",
       "      <td>Numeric Imputer</td>\n",
       "      <td>mean</td>\n",
       "    </tr>\n",
       "    <tr>\n",
       "      <th>25</th>\n",
       "      <td>Iterative Imputation Numeric Model</td>\n",
       "      <td>None</td>\n",
       "    </tr>\n",
       "    <tr>\n",
       "      <th>26</th>\n",
       "      <td>Categorical Imputer</td>\n",
       "      <td>constant</td>\n",
       "    </tr>\n",
       "    <tr>\n",
       "      <th>27</th>\n",
       "      <td>Iterative Imputation Categorical Model</td>\n",
       "      <td>None</td>\n",
       "    </tr>\n",
       "    <tr>\n",
       "      <th>28</th>\n",
       "      <td>Unknown Categoricals Handling</td>\n",
       "      <td>least_frequent</td>\n",
       "    </tr>\n",
       "    <tr>\n",
       "      <th>29</th>\n",
       "      <td>Normalize</td>\n",
       "      <td>False</td>\n",
       "    </tr>\n",
       "    <tr>\n",
       "      <th>30</th>\n",
       "      <td>Normalize Method</td>\n",
       "      <td>None</td>\n",
       "    </tr>\n",
       "    <tr>\n",
       "      <th>31</th>\n",
       "      <td>Transformation</td>\n",
       "      <td>False</td>\n",
       "    </tr>\n",
       "    <tr>\n",
       "      <th>32</th>\n",
       "      <td>Transformation Method</td>\n",
       "      <td>None</td>\n",
       "    </tr>\n",
       "    <tr>\n",
       "      <th>33</th>\n",
       "      <td>PCA</td>\n",
       "      <td>False</td>\n",
       "    </tr>\n",
       "    <tr>\n",
       "      <th>34</th>\n",
       "      <td>PCA Method</td>\n",
       "      <td>None</td>\n",
       "    </tr>\n",
       "    <tr>\n",
       "      <th>35</th>\n",
       "      <td>PCA Components</td>\n",
       "      <td>None</td>\n",
       "    </tr>\n",
       "    <tr>\n",
       "      <th>36</th>\n",
       "      <td>Ignore Low Variance</td>\n",
       "      <td>False</td>\n",
       "    </tr>\n",
       "    <tr>\n",
       "      <th>37</th>\n",
       "      <td>Combine Rare Levels</td>\n",
       "      <td>False</td>\n",
       "    </tr>\n",
       "    <tr>\n",
       "      <th>38</th>\n",
       "      <td>Rare Level Threshold</td>\n",
       "      <td>None</td>\n",
       "    </tr>\n",
       "    <tr>\n",
       "      <th>39</th>\n",
       "      <td>Numeric Binning</td>\n",
       "      <td>False</td>\n",
       "    </tr>\n",
       "    <tr>\n",
       "      <th>40</th>\n",
       "      <td>Remove Outliers</td>\n",
       "      <td>False</td>\n",
       "    </tr>\n",
       "    <tr>\n",
       "      <th>41</th>\n",
       "      <td>Outliers Threshold</td>\n",
       "      <td>None</td>\n",
       "    </tr>\n",
       "    <tr>\n",
       "      <th>42</th>\n",
       "      <td>Remove Multicollinearity</td>\n",
       "      <td>False</td>\n",
       "    </tr>\n",
       "    <tr>\n",
       "      <th>43</th>\n",
       "      <td>Multicollinearity Threshold</td>\n",
       "      <td>None</td>\n",
       "    </tr>\n",
       "    <tr>\n",
       "      <th>44</th>\n",
       "      <td>Remove Perfect Collinearity</td>\n",
       "      <td>True</td>\n",
       "    </tr>\n",
       "    <tr>\n",
       "      <th>45</th>\n",
       "      <td>Clustering</td>\n",
       "      <td>False</td>\n",
       "    </tr>\n",
       "    <tr>\n",
       "      <th>46</th>\n",
       "      <td>Clustering Iteration</td>\n",
       "      <td>None</td>\n",
       "    </tr>\n",
       "    <tr>\n",
       "      <th>47</th>\n",
       "      <td>Polynomial Features</td>\n",
       "      <td>False</td>\n",
       "    </tr>\n",
       "    <tr>\n",
       "      <th>48</th>\n",
       "      <td>Polynomial Degree</td>\n",
       "      <td>None</td>\n",
       "    </tr>\n",
       "    <tr>\n",
       "      <th>49</th>\n",
       "      <td>Trignometry Features</td>\n",
       "      <td>False</td>\n",
       "    </tr>\n",
       "    <tr>\n",
       "      <th>50</th>\n",
       "      <td>Polynomial Threshold</td>\n",
       "      <td>None</td>\n",
       "    </tr>\n",
       "    <tr>\n",
       "      <th>51</th>\n",
       "      <td>Group Features</td>\n",
       "      <td>False</td>\n",
       "    </tr>\n",
       "    <tr>\n",
       "      <th>52</th>\n",
       "      <td>Feature Selection</td>\n",
       "      <td>False</td>\n",
       "    </tr>\n",
       "    <tr>\n",
       "      <th>53</th>\n",
       "      <td>Feature Selection Method</td>\n",
       "      <td>classic</td>\n",
       "    </tr>\n",
       "    <tr>\n",
       "      <th>54</th>\n",
       "      <td>Features Selection Threshold</td>\n",
       "      <td>None</td>\n",
       "    </tr>\n",
       "    <tr>\n",
       "      <th>55</th>\n",
       "      <td>Feature Interaction</td>\n",
       "      <td>False</td>\n",
       "    </tr>\n",
       "    <tr>\n",
       "      <th>56</th>\n",
       "      <td>Feature Ratio</td>\n",
       "      <td>False</td>\n",
       "    </tr>\n",
       "    <tr>\n",
       "      <th>57</th>\n",
       "      <td>Interaction Threshold</td>\n",
       "      <td>None</td>\n",
       "    </tr>\n",
       "    <tr>\n",
       "      <th>58</th>\n",
       "      <td>Fix Imbalance</td>\n",
       "      <td>False</td>\n",
       "    </tr>\n",
       "    <tr>\n",
       "      <th>59</th>\n",
       "      <td>Fix Imbalance Method</td>\n",
       "      <td>SMOTE</td>\n",
       "    </tr>\n",
       "  </tbody>\n",
       "</table>\n",
       "</div>\n",
       "      <button class=\"colab-df-convert\" onclick=\"convertToInteractive('df-4bdf764c-7caa-42b3-87d6-e42a424f9944')\"\n",
       "              title=\"Convert this dataframe to an interactive table.\"\n",
       "              style=\"display:none;\">\n",
       "        \n",
       "  <svg xmlns=\"http://www.w3.org/2000/svg\" height=\"24px\"viewBox=\"0 0 24 24\"\n",
       "       width=\"24px\">\n",
       "    <path d=\"M0 0h24v24H0V0z\" fill=\"none\"/>\n",
       "    <path d=\"M18.56 5.44l.94 2.06.94-2.06 2.06-.94-2.06-.94-.94-2.06-.94 2.06-2.06.94zm-11 1L8.5 8.5l.94-2.06 2.06-.94-2.06-.94L8.5 2.5l-.94 2.06-2.06.94zm10 10l.94 2.06.94-2.06 2.06-.94-2.06-.94-.94-2.06-.94 2.06-2.06.94z\"/><path d=\"M17.41 7.96l-1.37-1.37c-.4-.4-.92-.59-1.43-.59-.52 0-1.04.2-1.43.59L10.3 9.45l-7.72 7.72c-.78.78-.78 2.05 0 2.83L4 21.41c.39.39.9.59 1.41.59.51 0 1.02-.2 1.41-.59l7.78-7.78 2.81-2.81c.8-.78.8-2.07 0-2.86zM5.41 20L4 18.59l7.72-7.72 1.47 1.35L5.41 20z\"/>\n",
       "  </svg>\n",
       "      </button>\n",
       "      \n",
       "  <style>\n",
       "    .colab-df-container {\n",
       "      display:flex;\n",
       "      flex-wrap:wrap;\n",
       "      gap: 12px;\n",
       "    }\n",
       "\n",
       "    .colab-df-convert {\n",
       "      background-color: #E8F0FE;\n",
       "      border: none;\n",
       "      border-radius: 50%;\n",
       "      cursor: pointer;\n",
       "      display: none;\n",
       "      fill: #1967D2;\n",
       "      height: 32px;\n",
       "      padding: 0 0 0 0;\n",
       "      width: 32px;\n",
       "    }\n",
       "\n",
       "    .colab-df-convert:hover {\n",
       "      background-color: #E2EBFA;\n",
       "      box-shadow: 0px 1px 2px rgba(60, 64, 67, 0.3), 0px 1px 3px 1px rgba(60, 64, 67, 0.15);\n",
       "      fill: #174EA6;\n",
       "    }\n",
       "\n",
       "    [theme=dark] .colab-df-convert {\n",
       "      background-color: #3B4455;\n",
       "      fill: #D2E3FC;\n",
       "    }\n",
       "\n",
       "    [theme=dark] .colab-df-convert:hover {\n",
       "      background-color: #434B5C;\n",
       "      box-shadow: 0px 1px 3px 1px rgba(0, 0, 0, 0.15);\n",
       "      filter: drop-shadow(0px 1px 2px rgba(0, 0, 0, 0.3));\n",
       "      fill: #FFFFFF;\n",
       "    }\n",
       "  </style>\n",
       "\n",
       "      <script>\n",
       "        const buttonEl =\n",
       "          document.querySelector('#df-4bdf764c-7caa-42b3-87d6-e42a424f9944 button.colab-df-convert');\n",
       "        buttonEl.style.display =\n",
       "          google.colab.kernel.accessAllowed ? 'block' : 'none';\n",
       "\n",
       "        async function convertToInteractive(key) {\n",
       "          const element = document.querySelector('#df-4bdf764c-7caa-42b3-87d6-e42a424f9944');\n",
       "          const dataTable =\n",
       "            await google.colab.kernel.invokeFunction('convertToInteractive',\n",
       "                                                     [key], {});\n",
       "          if (!dataTable) return;\n",
       "\n",
       "          const docLinkHtml = 'Like what you see? Visit the ' +\n",
       "            '<a target=\"_blank\" href=https://colab.research.google.com/notebooks/data_table.ipynb>data table notebook</a>'\n",
       "            + ' to learn more about interactive tables.';\n",
       "          element.innerHTML = '';\n",
       "          dataTable['output_type'] = 'display_data';\n",
       "          await google.colab.output.renderOutput(dataTable, element);\n",
       "          const docLink = document.createElement('div');\n",
       "          docLink.innerHTML = docLinkHtml;\n",
       "          element.appendChild(docLink);\n",
       "        }\n",
       "      </script>\n",
       "    </div>\n",
       "  </div>\n",
       "  "
      ],
      "text/plain": [
       "                               Description             Value\n",
       "0                               session_id              2332\n",
       "1                                   Target        Cover_Type\n",
       "2                              Target Type        Multiclass\n",
       "3                            Label Encoded              None\n",
       "4                            Original Data      (223088, 55)\n",
       "5                           Missing Values             False\n",
       "6                         Numeric Features                11\n",
       "7                     Categorical Features                43\n",
       "8                         Ordinal Features             False\n",
       "9                High Cardinality Features             False\n",
       "10                 High Cardinality Method              None\n",
       "11                   Transformed Train Set      (156161, 54)\n",
       "12                    Transformed Test Set       (66927, 54)\n",
       "13                      Shuffle Train-Test              True\n",
       "14                     Stratify Train-Test             False\n",
       "15                          Fold Generator   StratifiedKFold\n",
       "16                             Fold Number                10\n",
       "17                                CPU Jobs                -1\n",
       "18                                 Use GPU             False\n",
       "19                          Log Experiment             False\n",
       "20                         Experiment Name  clf-default-name\n",
       "21                                     USI              0fe7\n",
       "22                         Imputation Type            simple\n",
       "23          Iterative Imputation Iteration              None\n",
       "24                         Numeric Imputer              mean\n",
       "25      Iterative Imputation Numeric Model              None\n",
       "26                     Categorical Imputer          constant\n",
       "27  Iterative Imputation Categorical Model              None\n",
       "28           Unknown Categoricals Handling    least_frequent\n",
       "29                               Normalize             False\n",
       "30                        Normalize Method              None\n",
       "31                          Transformation             False\n",
       "32                   Transformation Method              None\n",
       "33                                     PCA             False\n",
       "34                              PCA Method              None\n",
       "35                          PCA Components              None\n",
       "36                     Ignore Low Variance             False\n",
       "37                     Combine Rare Levels             False\n",
       "38                    Rare Level Threshold              None\n",
       "39                         Numeric Binning             False\n",
       "40                         Remove Outliers             False\n",
       "41                      Outliers Threshold              None\n",
       "42                Remove Multicollinearity             False\n",
       "43             Multicollinearity Threshold              None\n",
       "44             Remove Perfect Collinearity              True\n",
       "45                              Clustering             False\n",
       "46                    Clustering Iteration              None\n",
       "47                     Polynomial Features             False\n",
       "48                       Polynomial Degree              None\n",
       "49                    Trignometry Features             False\n",
       "50                    Polynomial Threshold              None\n",
       "51                          Group Features             False\n",
       "52                       Feature Selection             False\n",
       "53                Feature Selection Method           classic\n",
       "54            Features Selection Threshold              None\n",
       "55                     Feature Interaction             False\n",
       "56                           Feature Ratio             False\n",
       "57                   Interaction Threshold              None\n",
       "58                           Fix Imbalance             False\n",
       "59                    Fix Imbalance Method             SMOTE"
      ]
     },
     "metadata": {},
     "output_type": "display_data"
    },
    {
     "name": "stderr",
     "output_type": "stream",
     "text": [
      "INFO:logs:create_model_container: 0\n",
      "INFO:logs:master_model_container: 0\n",
      "INFO:logs:display_container: 1\n",
      "INFO:logs:Pipeline(memory=None,\n",
      "         steps=[('dtypes',\n",
      "                 DataTypes_Auto_infer(categorical_features=[],\n",
      "                                      display_types=True, features_todrop=[],\n",
      "                                      id_columns=[],\n",
      "                                      ml_usecase='classification',\n",
      "                                      numerical_features=[],\n",
      "                                      target='Cover_Type', time_features=[])),\n",
      "                ('imputer',\n",
      "                 Simple_Imputer(categorical_strategy='not_available',\n",
      "                                fill_value_categorical=None,\n",
      "                                fill_value_numerical=None,\n",
      "                                numeric_s...\n",
      "                ('scaling', 'passthrough'), ('P_transform', 'passthrough'),\n",
      "                ('binn', 'passthrough'), ('rem_outliers', 'passthrough'),\n",
      "                ('cluster_all', 'passthrough'),\n",
      "                ('dummy', Dummify(target='Cover_Type')),\n",
      "                ('fix_perfect', Remove_100(target='Cover_Type')),\n",
      "                ('clean_names', Clean_Colum_Names()),\n",
      "                ('feature_select', 'passthrough'), ('fix_multi', 'passthrough'),\n",
      "                ('dfs', 'passthrough'), ('pca', 'passthrough')],\n",
      "         verbose=False)\n",
      "INFO:logs:setup() succesfully completed......................................\n"
     ]
    }
   ],
   "source": [
    "from pycaret.classification import *\n",
    "exp_name=setup(data=df,target='Cover_Type')"
   ]
  },
  {
   "cell_type": "code",
   "execution_count": null,
   "metadata": {
    "id": "ez0fGcvvmReO"
   },
   "outputs": [],
   "source": [
    "best_model=compare_models()  # because the data volume is high,the cell worked too long.I interrupted the kernel at this level and take screenshot."
   ]
  },
  {
   "cell_type": "markdown",
   "metadata": {
    "id": "l_AFOtDj3NsZ"
   },
   "source": [
    "![image.png](data:image/png;base64,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)"
   ]
  },
  {
   "cell_type": "markdown",
   "metadata": {
    "id": "OPzCQ_tM3Nxf"
   },
   "source": [
    "* **The best accuracy score is Decision Tree Classifier.This model can predict the tree cover types with %93 percent.**"
   ]
  }
 ],
 "metadata": {
  "colab": {
   "provenance": []
  },
  "kernelspec": {
   "display_name": "Python 3 (ipykernel)",
   "language": "python",
   "name": "python3"
  },
  "language_info": {
   "codemirror_mode": {
    "name": "ipython",
    "version": 3
   },
   "file_extension": ".py",
   "mimetype": "text/x-python",
   "name": "python",
   "nbconvert_exporter": "python",
   "pygments_lexer": "ipython3",
   "version": "3.11.1"
  },
  "widgets": {
   "application/vnd.jupyter.widget-state+json": {
    "475ba74209174e828ddf55b6effaa84d": {
     "model_module": "@jupyter-widgets/base",
     "model_module_version": "1.2.0",
     "model_name": "LayoutModel",
     "state": {
      "_model_module": "@jupyter-widgets/base",
      "_model_module_version": "1.2.0",
      "_model_name": "LayoutModel",
      "_view_count": null,
      "_view_module": "@jupyter-widgets/base",
      "_view_module_version": "1.2.0",
      "_view_name": "LayoutView",
      "align_content": null,
      "align_items": null,
      "align_self": null,
      "border": null,
      "bottom": null,
      "display": null,
      "flex": null,
      "flex_flow": null,
      "grid_area": null,
      "grid_auto_columns": null,
      "grid_auto_flow": null,
      "grid_auto_rows": null,
      "grid_column": null,
      "grid_gap": null,
      "grid_row": null,
      "grid_template_areas": null,
      "grid_template_columns": null,
      "grid_template_rows": null,
      "height": null,
      "justify_content": null,
      "justify_items": null,
      "left": null,
      "margin": null,
      "max_height": null,
      "max_width": null,
      "min_height": null,
      "min_width": null,
      "object_fit": null,
      "object_position": null,
      "order": null,
      "overflow": null,
      "overflow_x": null,
      "overflow_y": null,
      "padding": null,
      "right": null,
      "top": null,
      "visibility": null,
      "width": null
     }
    },
    "4da7a105da9945b2a99832e3971015e9": {
     "model_module": "@jupyter-widgets/controls",
     "model_module_version": "1.5.0",
     "model_name": "DescriptionStyleModel",
     "state": {
      "_model_module": "@jupyter-widgets/controls",
      "_model_module_version": "1.5.0",
      "_model_name": "DescriptionStyleModel",
      "_view_count": null,
      "_view_module": "@jupyter-widgets/base",
      "_view_module_version": "1.2.0",
      "_view_name": "StyleView",
      "description_width": ""
     }
    },
    "793b5ee9d21c4d338494b408ec0ff287": {
     "model_module": "@jupyter-widgets/controls",
     "model_module_version": "1.5.0",
     "model_name": "IntProgressModel",
     "state": {
      "_dom_classes": [],
      "_model_module": "@jupyter-widgets/controls",
      "_model_module_version": "1.5.0",
      "_model_name": "IntProgressModel",
      "_view_count": null,
      "_view_module": "@jupyter-widgets/controls",
      "_view_module_version": "1.5.0",
      "_view_name": "ProgressView",
      "bar_style": "",
      "description": "Processing: ",
      "description_tooltip": null,
      "layout": "IPY_MODEL_475ba74209174e828ddf55b6effaa84d",
      "max": 3,
      "min": 0,
      "orientation": "horizontal",
      "style": "IPY_MODEL_db76d3b4cde445ffb3091ee1aa979bf6",
      "value": 3
     }
    },
    "79e3f0f86b56412ca223838debade995": {
     "model_module": "@jupyter-widgets/controls",
     "model_module_version": "1.5.0",
     "model_name": "TextModel",
     "state": {
      "_dom_classes": [],
      "_model_module": "@jupyter-widgets/controls",
      "_model_module_version": "1.5.0",
      "_model_name": "TextModel",
      "_view_count": null,
      "_view_module": "@jupyter-widgets/controls",
      "_view_module_version": "1.5.0",
      "_view_name": "TextView",
      "continuous_update": true,
      "description": "",
      "description_tooltip": null,
      "disabled": false,
      "layout": "IPY_MODEL_86903f0cc1474c3b9923dbebd3a29165",
      "placeholder": "​",
      "style": "IPY_MODEL_4da7a105da9945b2a99832e3971015e9",
      "value": "Following data types have been inferred automatically, if they are correct press enter to continue or type 'quit' otherwise."
     }
    },
    "86903f0cc1474c3b9923dbebd3a29165": {
     "model_module": "@jupyter-widgets/base",
     "model_module_version": "1.2.0",
     "model_name": "LayoutModel",
     "state": {
      "_model_module": "@jupyter-widgets/base",
      "_model_module_version": "1.2.0",
      "_model_name": "LayoutModel",
      "_view_count": null,
      "_view_module": "@jupyter-widgets/base",
      "_view_module_version": "1.2.0",
      "_view_name": "LayoutView",
      "align_content": null,
      "align_items": null,
      "align_self": null,
      "border": null,
      "bottom": null,
      "display": null,
      "flex": null,
      "flex_flow": null,
      "grid_area": null,
      "grid_auto_columns": null,
      "grid_auto_flow": null,
      "grid_auto_rows": null,
      "grid_column": null,
      "grid_gap": null,
      "grid_row": null,
      "grid_template_areas": null,
      "grid_template_columns": null,
      "grid_template_rows": null,
      "height": null,
      "justify_content": null,
      "justify_items": null,
      "left": null,
      "margin": null,
      "max_height": null,
      "max_width": null,
      "min_height": null,
      "min_width": null,
      "object_fit": null,
      "object_position": null,
      "order": null,
      "overflow": null,
      "overflow_x": null,
      "overflow_y": null,
      "padding": null,
      "right": null,
      "top": null,
      "visibility": null,
      "width": "100%"
     }
    },
    "db76d3b4cde445ffb3091ee1aa979bf6": {
     "model_module": "@jupyter-widgets/controls",
     "model_module_version": "1.5.0",
     "model_name": "ProgressStyleModel",
     "state": {
      "_model_module": "@jupyter-widgets/controls",
      "_model_module_version": "1.5.0",
      "_model_name": "ProgressStyleModel",
      "_view_count": null,
      "_view_module": "@jupyter-widgets/base",
      "_view_module_version": "1.2.0",
      "_view_name": "StyleView",
      "bar_color": null,
      "description_width": ""
     }
    }
   }
  }
 },
 "nbformat": 4,
 "nbformat_minor": 1
}
